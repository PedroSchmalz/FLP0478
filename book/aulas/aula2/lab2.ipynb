{
 "cells": [
  {
   "cell_type": "markdown",
   "id": "dc02567a",
   "metadata": {},
   "source": [
    "# Laboratório 2\n",
    "\n",
    "Nota: Substitua os seus nomes e informações abaixo antes do envio da atividade. A atividade deve ser enviada no `Moodle` da disciplina, e o arquivo **DEVE** estar no formato `.ipynb`.\n",
    "\n",
    "[Nome Aluno 1] / [NUSP Aluno 1] / [Vespertino/Noturno]\n",
    "\n",
    "[Nome Aluno 2] / [NUSP Aluno 2] / [Vespertino/Noturno]\n"
   ]
  },
  {
   "cell_type": "markdown",
   "id": "e49e6117",
   "metadata": {},
   "source": [
    "#### Exercícios"
   ]
  },
  {
   "cell_type": "markdown",
   "id": "9521b78f",
   "metadata": {},
   "source": [
    "1 -  Lista de Compras\n",
    "\n",
    "Crie uma lista vazia chamada \"lista_de_compras\". Adicione à lista pelo menos 5 itens que você normalmente encontraria em uma lista de compras usando o método \"append()\". Após adicionar os itens, imprima a lista completa."
   ]
  },
  {
   "cell_type": "code",
   "execution_count": null,
   "id": "9fa7c5f1",
   "metadata": {},
   "outputs": [],
   "source": []
  },
  {
   "cell_type": "markdown",
   "id": "84b6a2f9",
   "metadata": {},
   "source": [
    "2 - Com a lista do exercício anterior, adicione dois novos itens: um exatamente na terceira posição e outro na última. Imprima esta lista."
   ]
  },
  {
   "cell_type": "code",
   "execution_count": null,
   "id": "7ad0d234",
   "metadata": {},
   "outputs": [],
   "source": []
  },
  {
   "cell_type": "markdown",
   "id": "7f424b3b",
   "metadata": {},
   "source": [
    "3 - Crie uma lista vazia chamada \"palavras_aleatorias\". Adicione três palavras aleatórias. Em seguida, use o método \"extend()\" para adicionar mais três palavras à lista. Por fim, imprima a lista completa."
   ]
  },
  {
   "cell_type": "code",
   "execution_count": null,
   "id": "b9b00496",
   "metadata": {},
   "outputs": [],
   "source": []
  },
  {
   "cell_type": "markdown",
   "id": "aabaddab",
   "metadata": {},
   "source": [
    "4 - Aqui está uma lista com os países com o maior número de copas do mundo. Remova a Argentina e imprima a lista completa."
   ]
  },
  {
   "cell_type": "code",
   "execution_count": null,
   "id": "40da133b",
   "metadata": {},
   "outputs": [],
   "source": [
    "ganhadores_copa = [\"Brasil\", \"Alemanha\", \"Itália\", \"Argentina\", \"França\"]\n",
    "\n"
   ]
  },
  {
   "cell_type": "markdown",
   "id": "0f6e8460",
   "metadata": {},
   "source": [
    "5 - Ah, sim, bem melhor! Agora, com essa nova lista, remova a Alemanha através do seu índice e imprima a lista resultante."
   ]
  },
  {
   "cell_type": "code",
   "execution_count": null,
   "id": "9eaf5b06",
   "metadata": {},
   "outputs": [],
   "source": []
  },
  {
   "cell_type": "markdown",
   "id": "f2a21335",
   "metadata": {},
   "source": [
    "6 - Só para ter certeza, faça um teste lógico para se certificar de que a Argentina *não* está na lista resultante do exercício 5. Imprima o resultado."
   ]
  },
  {
   "cell_type": "code",
   "execution_count": null,
   "id": "ce2e9566",
   "metadata": {},
   "outputs": [],
   "source": []
  },
  {
   "cell_type": "markdown",
   "id": "5a06a44c",
   "metadata": {},
   "source": [
    "7 - Também cheque se a Alemanha *está* na lista do exercício 5. Imprima o resultado do teste lógico."
   ]
  },
  {
   "cell_type": "code",
   "execution_count": null,
   "id": "daf4cdea",
   "metadata": {},
   "outputs": [],
   "source": []
  },
  {
   "cell_type": "markdown",
   "id": "1ed28ba0",
   "metadata": {},
   "source": [
    "8 - Muito bom, mas ficaria melhor se só tivéssemos o Brasil. Extraia o Brasil em uma nova variável e a imprima."
   ]
  },
  {
   "cell_type": "code",
   "execution_count": null,
   "id": "ddc89729",
   "metadata": {},
   "outputs": [],
   "source": []
  },
  {
   "cell_type": "markdown",
   "id": "52ecd9ed",
   "metadata": {},
   "source": [
    "9 - Ordene a seguinte lista e extraia os três maiores valores."
   ]
  },
  {
   "cell_type": "code",
   "execution_count": null,
   "id": "af9cc154",
   "metadata": {},
   "outputs": [],
   "source": [
    "lista = [15, 3, 8, 1, 10]\n"
   ]
  },
  {
   "cell_type": "markdown",
   "id": "3967fe98",
   "metadata": {},
   "source": [
    "10 - Solicite ao usuário sua média final e sua presença. Com base nessas informações, exiba uma mensagem indicando se ele foi aprovado ou reprovado, e por qual motivo."
   ]
  },
  {
   "cell_type": "code",
   "execution_count": null,
   "id": "18e4e773",
   "metadata": {},
   "outputs": [],
   "source": []
  },
  {
   "cell_type": "markdown",
   "id": "bfcaac9a",
   "metadata": {},
   "source": [
    "11 - Decisão de Compra de Produto: Peça ao usuário para inserir o preço de um produto e o valor em dinheiro que ele possui. Verifique se o usuário pode comprar o produto, considerando o valor inserido."
   ]
  },
  {
   "cell_type": "code",
   "execution_count": null,
   "id": "97982434",
   "metadata": {},
   "outputs": [],
   "source": []
  },
  {
   "cell_type": "markdown",
   "id": "6a57df27",
   "metadata": {},
   "source": [
    "12 - Você possui a seguinte lista de usuários. Agora, peça para um usuário digitar seu nome e verifique se ele se encontra no banco de usuários. Imprima uma mensagem o avisando do resultado."
   ]
  },
  {
   "cell_type": "code",
   "execution_count": null,
   "id": "be600af6",
   "metadata": {},
   "outputs": [],
   "source": [
    "usuarios = ['José', 'Maria', \"João\", \"Guilherme I\", \"Guilherme II\"]\n",
    "\n"
   ]
  },
  {
   "cell_type": "markdown",
   "id": "b159514e",
   "metadata": {},
   "source": [
    "13 - Peça ao usuário para inserir uma letra. Verifique se a letra é uma vogal ou uma consoante e exiba uma mensagem correspondente."
   ]
  },
  {
   "cell_type": "code",
   "execution_count": null,
   "id": "6f5e423f",
   "metadata": {},
   "outputs": [],
   "source": []
  },
  {
   "cell_type": "markdown",
   "id": "56878d94",
   "metadata": {},
   "source": [
    "14 - Um Palíndromo é uma frase ou palavra que se pode ler, indiferentemente, da esquerda para a direita ou vice-versa. Peça ao usuário uma palavra e verifique se ela é ou não um palíndromo, imprimindo o resultado final. (Dica: Para inverter uma string, pode utilizar \"string[::-1]\")."
   ]
  },
  {
   "cell_type": "code",
   "execution_count": null,
   "id": "399bcb10",
   "metadata": {},
   "outputs": [],
   "source": [
    "\n",
    "# Remove espaços em branco e converte para letras minúsculas\n",
    "palavra = palavra.replace(\" \", \"\").lower()"
   ]
  },
  {
   "cell_type": "markdown",
   "id": "33d2208b",
   "metadata": {},
   "source": [
    "15 - Peça ao usuário para inserir um número. Use um loop \"*while*\" para imprimir todos os números de 1 até o número inserido."
   ]
  },
  {
   "cell_type": "code",
   "execution_count": null,
   "id": "4d78b6c2",
   "metadata": {},
   "outputs": [],
   "source": []
  },
  {
   "cell_type": "markdown",
   "id": "fccec0ae",
   "metadata": {},
   "source": [
    "16 - Tabuada: Peça para o usuário um número inteiro e mostre para ele a tabuada desse número de 1 a 10."
   ]
  },
  {
   "cell_type": "code",
   "execution_count": null,
   "id": "b27e147f",
   "metadata": {},
   "outputs": [],
   "source": []
  },
  {
   "cell_type": "markdown",
   "id": "25caeb62",
   "metadata": {},
   "source": [
    "17 - Com a seguinte frase, crie uma nova string substituindo o 'r' minúsculo por 'R' maiúsculo. Depois, imprima a nova string."
   ]
  },
  {
   "cell_type": "code",
   "execution_count": null,
   "id": "ed034016",
   "metadata": {},
   "outputs": [],
   "source": [
    "frase = \"o rato roeu a roupa do rei de roma\"\n",
    "\n",
    "# Dicas\n",
    "tamanho_frase = len(frase)\n",
    "contador = 0\n",
    "nova_string = \"\"\n",
    "\n",
    "# Substituindo r por R\n",
    "\n"
   ]
  },
  {
   "cell_type": "markdown",
   "id": "ea0b1678",
   "metadata": {},
   "source": [
    "18 - Por que o seguinte código gera um erro?"
   ]
  },
  {
   "cell_type": "code",
   "execution_count": null,
   "id": "716780cf",
   "metadata": {},
   "outputs": [],
   "source": [
    "lista = [10,20,30,40,50,60]\n",
    "i = 0 # Contador\n",
    "tamanho_lista = len(lista)\n",
    "\n",
    "while i <= tamanho_lista:\n",
    "    print(lista[i])\n",
    "    i += 1"
   ]
  },
  {
   "cell_type": "markdown",
   "id": "13d330e9",
   "metadata": {},
   "source": [
    "19 - Imprima a média dos seguintes cinco números utilizando um *while loop*."
   ]
  },
  {
   "cell_type": "code",
   "execution_count": null,
   "id": "d618bf87",
   "metadata": {},
   "outputs": [],
   "source": [
    "nums = [5,10,15,20,25]\n"
   ]
  },
  {
   "cell_type": "markdown",
   "id": "6bbcbdd8",
   "metadata": {},
   "source": [
    "20 - Da seguinte lista, *só* imprima os valores pares utilizando um *for loop*."
   ]
  },
  {
   "cell_type": "code",
   "execution_count": null,
   "id": "71b1b23e",
   "metadata": {},
   "outputs": [],
   "source": [
    "lista = [1,2,3,4,5,6,7,8,9,10]"
   ]
  },
  {
   "cell_type": "markdown",
   "id": "dccfb51a",
   "metadata": {},
   "source": [
    "21 - Usando um loop \"*for*\", exiba todos os números de 1 a 10."
   ]
  },
  {
   "cell_type": "code",
   "execution_count": null,
   "id": "82819bfc",
   "metadata": {},
   "outputs": [],
   "source": []
  },
  {
   "cell_type": "markdown",
   "id": "63428c00",
   "metadata": {},
   "source": [
    "22 - Imprima todos os caracteres da seguinte string, um por linha."
   ]
  },
  {
   "cell_type": "code",
   "execution_count": null,
   "id": "e866f85e",
   "metadata": {},
   "outputs": [],
   "source": [
    " texto = \"Pai e mãe, ouro de mina. Coração, desejo e sina\"\n"
   ]
  },
  {
   "cell_type": "markdown",
   "id": "93fd9b75",
   "metadata": {},
   "source": [
    "23 - Gere uma sequência e imprima só valores ímpares."
   ]
  },
  {
   "cell_type": "code",
   "execution_count": null,
   "id": "af91c480",
   "metadata": {},
   "outputs": [],
   "source": []
  },
  {
   "cell_type": "markdown",
   "id": "21f0d95f",
   "metadata": {},
   "source": [
    "24 - Percorra a lista1 com um *for* *loop*, pegando somente os valores positivos e os anexando na lista2.\n",
    "\n",
    "\n"
   ]
  },
  {
   "cell_type": "code",
   "execution_count": null,
   "id": "f3ef5885",
   "metadata": {},
   "outputs": [],
   "source": [
    "lista1=[111, 32, -9, -45, -17, 9, 85, -10]\n",
    "lista2 = []\n",
    "\n"
   ]
  }
 ],
 "metadata": {
  "kernelspec": {
   "display_name": "base",
   "language": "python",
   "name": "python3"
  },
  "language_info": {
   "codemirror_mode": {
    "name": "ipython",
    "version": 3
   },
   "file_extension": ".py",
   "mimetype": "text/x-python",
   "name": "python",
   "nbconvert_exporter": "python",
   "pygments_lexer": "ipython3",
   "version": "3.12.7"
  }
 },
 "nbformat": 4,
 "nbformat_minor": 5
}
