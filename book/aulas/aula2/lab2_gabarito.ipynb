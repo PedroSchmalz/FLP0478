{
 "cells": [
  {
   "cell_type": "markdown",
   "id": "dc02567a",
   "metadata": {},
   "source": [
    "# Laboratório 2\n",
    "\n",
    "Nota: Substitua os seus nomes e informações abaixo antes do envio da atividade. A atividade deve ser enviada no `Moodle` da disciplina, e o arquivo **DEVE** estar no formato `.ipynb`.\n",
    "\n",
    "[Nome Aluno 1] / [NUSP Aluno 1] / [Vespertino/Noturno]\n",
    "\n",
    "[Nome Aluno 2] / [NUSP Aluno 2] / [Vespertino/Noturno]\n"
   ]
  },
  {
   "cell_type": "markdown",
   "id": "e49e6117",
   "metadata": {},
   "source": [
    "#### Exercícios"
   ]
  },
  {
   "cell_type": "markdown",
   "id": "9521b78f",
   "metadata": {},
   "source": [
    "1 -  Lista de Compras\n",
    "\n",
    "Crie uma lista vazia chamada \"lista_de_compras\". Adicione à lista pelo menos 5 itens que você normalmente encontraria em uma lista de compras usando o método \"append()\". Após adicionar os itens, imprima a lista completa."
   ]
  },
  {
   "cell_type": "code",
   "execution_count": 1,
   "id": "9fa7c5f1",
   "metadata": {},
   "outputs": [
    {
     "data": {
      "text/plain": [
       "['feijão', 'arroz', 'pão integral', 'banana', 'iogurte']"
      ]
     },
     "execution_count": 1,
     "metadata": {},
     "output_type": "execute_result"
    }
   ],
   "source": [
    "lista_de_compras = []\n",
    "\n",
    "lista_de_compras.append(\"feijão\")\n",
    "lista_de_compras.append(\"arroz\")\n",
    "lista_de_compras.append(\"pão integral\")\n",
    "lista_de_compras.append(\"banana\")\n",
    "lista_de_compras.append(\"iogurte\")\n",
    "\n",
    "lista_de_compras"
   ]
  },
  {
   "cell_type": "markdown",
   "id": "84b6a2f9",
   "metadata": {},
   "source": [
    "2 - Com a lista do exercício anterior, adicione dois novos itens: um exatamente na terceira posição e outro na última. Imprima esta lista."
   ]
  },
  {
   "cell_type": "code",
   "execution_count": 2,
   "id": "7ad0d234",
   "metadata": {},
   "outputs": [
    {
     "data": {
      "text/plain": [
       "['feijão', 'arroz', 'maçã', 'pão integral', 'banana', 'iogurte', 'chocolate']"
      ]
     },
     "execution_count": 2,
     "metadata": {},
     "output_type": "execute_result"
    }
   ],
   "source": [
    "lista_de_compras.insert(2, \"maçã\")\n",
    "lista_de_compras.insert(6, \"chocolate\")\n",
    "\n",
    "lista_de_compras"
   ]
  },
  {
   "cell_type": "markdown",
   "id": "7f424b3b",
   "metadata": {},
   "source": [
    "3 - Crie uma lista vazia chamada \"palavras_aleatorias\". Adicione três palavras aleatórias. Em seguida, use o método \"extend()\" para adicionar mais três palavras à lista. Por fim, imprima a lista completa."
   ]
  },
  {
   "cell_type": "code",
   "execution_count": 3,
   "id": "b9b00496",
   "metadata": {},
   "outputs": [
    {
     "data": {
      "text/plain": [
       "['caneta', 'professor', 'caderno', 'lápis', 'borracha', 'aluno']"
      ]
     },
     "execution_count": 3,
     "metadata": {},
     "output_type": "execute_result"
    }
   ],
   "source": [
    "palavras_aleatorias = []\n",
    "\n",
    "palavras_aleatorias.append(\"caneta\")\n",
    "palavras_aleatorias.append(\"professor\")\n",
    "palavras_aleatorias.append(\"caderno\")\n",
    "\n",
    "outras_palavras = [\"lápis\", \"borracha\", \"aluno\"]\n",
    "\n",
    "palavras_aleatorias.extend(outras_palavras)\n",
    "\n",
    "palavras_aleatorias"
   ]
  },
  {
   "cell_type": "markdown",
   "id": "aabaddab",
   "metadata": {},
   "source": [
    "4 - Aqui está uma lista com os países com o maior número de copas do mundo. Remova a Argentina e imprima a lista completa."
   ]
  },
  {
   "cell_type": "code",
   "execution_count": 4,
   "id": "40da133b",
   "metadata": {},
   "outputs": [
    {
     "data": {
      "text/plain": [
       "['Brasil', 'Alemanha', 'Itália', 'França']"
      ]
     },
     "execution_count": 4,
     "metadata": {},
     "output_type": "execute_result"
    }
   ],
   "source": [
    "ganhadores_copa = [\"Brasil\", \"Alemanha\", \"Itália\", \"Argentina\", \"França\"]\n",
    "\n",
    "ganhadores_copa.remove(\"Argentina\")\n",
    "\n",
    "ganhadores_copa\n"
   ]
  },
  {
   "cell_type": "markdown",
   "id": "0f6e8460",
   "metadata": {},
   "source": [
    "5 - Ah, sim, bem melhor! Agora, com essa nova lista, remova a Alemanha através do seu índice e imprima a lista resultante."
   ]
  },
  {
   "cell_type": "code",
   "execution_count": 5,
   "id": "9eaf5b06",
   "metadata": {},
   "outputs": [
    {
     "data": {
      "text/plain": [
       "['Brasil', 'Itália', 'França']"
      ]
     },
     "execution_count": 5,
     "metadata": {},
     "output_type": "execute_result"
    }
   ],
   "source": [
    "# Exemplo 01\n",
    "\n",
    "ganhadores_copa.pop(1)\n",
    "\n",
    "ganhadores_copa"
   ]
  },
  {
   "cell_type": "code",
   "execution_count": 6,
   "id": "5a3a08a2",
   "metadata": {},
   "outputs": [
    {
     "data": {
      "text/plain": [
       "['Brasil', 'Itália', 'França']"
      ]
     },
     "execution_count": 6,
     "metadata": {},
     "output_type": "execute_result"
    }
   ],
   "source": [
    "# Exemplo 02\n",
    "\n",
    "ganhadores_copa = [\"Brasil\", \"Alemanha\", \"Itália\", \"França\"]\n",
    "\n",
    "del ganhadores_copa[1]\n",
    "\n",
    "ganhadores_copa"
   ]
  },
  {
   "cell_type": "markdown",
   "id": "f2a21335",
   "metadata": {},
   "source": [
    "6 - Só para ter certeza, faça um teste lógico para se certificar de que a Argentina *não* está na lista resultante do exercício 5. Imprima o resultado."
   ]
  },
  {
   "cell_type": "code",
   "execution_count": 7,
   "id": "ce2e9566",
   "metadata": {},
   "outputs": [
    {
     "name": "stdout",
     "output_type": "stream",
     "text": [
      "True\n"
     ]
    }
   ],
   "source": [
    "print(\"Argentina\" not in ganhadores_copa)"
   ]
  },
  {
   "cell_type": "markdown",
   "id": "5a06a44c",
   "metadata": {},
   "source": [
    "7 - Também cheque se a Alemanha *está* na lista do exercício 5. Imprima o resultado do teste lógico."
   ]
  },
  {
   "cell_type": "code",
   "execution_count": 8,
   "id": "daf4cdea",
   "metadata": {},
   "outputs": [
    {
     "name": "stdout",
     "output_type": "stream",
     "text": [
      "False\n"
     ]
    }
   ],
   "source": [
    "print(\"Alemanha\" in ganhadores_copa)"
   ]
  },
  {
   "cell_type": "markdown",
   "id": "1ed28ba0",
   "metadata": {},
   "source": [
    "8 - Muito bom, mas ficaria melhor se só tivéssemos o Brasil. Extraia o Brasil em uma nova variável e a imprima."
   ]
  },
  {
   "cell_type": "code",
   "execution_count": 9,
   "id": "ddc89729",
   "metadata": {},
   "outputs": [
    {
     "data": {
      "text/plain": [
       "'Brasil'"
      ]
     },
     "execution_count": 9,
     "metadata": {},
     "output_type": "execute_result"
    }
   ],
   "source": [
    "unico_penta = ganhadores_copa[0]\n",
    "\n",
    "unico_penta"
   ]
  },
  {
   "cell_type": "markdown",
   "id": "52ecd9ed",
   "metadata": {},
   "source": [
    "9 - Ordene a seguinte lista e extraia os três maiores valores."
   ]
  },
  {
   "cell_type": "code",
   "execution_count": 10,
   "id": "af9cc154",
   "metadata": {},
   "outputs": [
    {
     "data": {
      "text/plain": [
       "[8, 10, 15]"
      ]
     },
     "execution_count": 10,
     "metadata": {},
     "output_type": "execute_result"
    }
   ],
   "source": [
    "# Exemplo 01\n",
    "\n",
    "lista = [15, 3, 8, 1, 10]\n",
    "\n",
    "lista.sort()\n",
    "\n",
    "maiores_valores = lista[-3:]\n",
    "\n",
    "maiores_valores\n"
   ]
  },
  {
   "cell_type": "code",
   "execution_count": 11,
   "id": "c556318e",
   "metadata": {},
   "outputs": [
    {
     "data": {
      "text/plain": [
       "[15, 10, 8]"
      ]
     },
     "execution_count": 11,
     "metadata": {},
     "output_type": "execute_result"
    }
   ],
   "source": [
    "# Exemplo 02\n",
    "\n",
    "lista = [15, 3, 8, 1, 10]\n",
    "\n",
    "lista.sort(reverse=True)\n",
    "\n",
    "lista = lista[0:3]\n",
    "\n",
    "lista"
   ]
  },
  {
   "cell_type": "code",
   "execution_count": 12,
   "id": "4f2b159e",
   "metadata": {},
   "outputs": [
    {
     "name": "stdout",
     "output_type": "stream",
     "text": [
      "[1, 3]\n"
     ]
    }
   ],
   "source": [
    "# Exemplo 03\n",
    "\n",
    "lista1 = [15, 3, 8, 1, 10]\n",
    "lista1.sort()\n",
    "del lista1[2]\n",
    "del lista1[2]\n",
    "del lista1[2]\n",
    "print(lista1)"
   ]
  },
  {
   "cell_type": "markdown",
   "id": "3967fe98",
   "metadata": {},
   "source": [
    "10 - Solicite ao usuário sua média final e sua presença. Com base nessas informações, exiba uma mensagem indicando se ele foi aprovado ou reprovado, e por qual motivo."
   ]
  },
  {
   "cell_type": "code",
   "execution_count": 13,
   "id": "18e4e773",
   "metadata": {},
   "outputs": [
    {
     "name": "stdout",
     "output_type": "stream",
     "text": [
      "Parabéns, você foi aprovado!\n"
     ]
    }
   ],
   "source": [
    "# Exemplo 01\n",
    "\n",
    "media_final = int(input(\"Digite sua média final: \"))\n",
    "\n",
    "presenca = int(input(\"Digite sua presença: \"))\n",
    "\n",
    "if media_final >= 5 and presenca >= 75:\n",
    "  print(\"Parabéns, você foi aprovado!\")\n",
    "else:\n",
    "  print(\"Sinto muito, você foi reprovado!\")"
   ]
  },
  {
   "cell_type": "code",
   "execution_count": 14,
   "id": "89d5d70f",
   "metadata": {},
   "outputs": [
    {
     "name": "stdout",
     "output_type": "stream",
     "text": [
      "Sinto muito, você foi reprovado!\n"
     ]
    }
   ],
   "source": [
    "# Exemplo 02\n",
    "\n",
    "media_final = int(input(\"Digite sua média final: \"))\n",
    "\n",
    "presenca = int(input(\"Digite sua presença: \"))\n",
    "\n",
    "if media_final < 5 or presenca < 75:\n",
    "  print(\"Sinto muito, você foi reprovado!\")\n",
    "else:\n",
    "  print(\"Parabéns, você foi aprovado!\")"
   ]
  },
  {
   "cell_type": "markdown",
   "id": "bfcaac9a",
   "metadata": {},
   "source": [
    "11 - Decisão de Compra de Produto: Peça ao usuário para inserir o preço de um produto e o valor em dinheiro que ele possui. Verifique se o usuário pode comprar o produto, considerando o valor inserido."
   ]
  },
  {
   "cell_type": "code",
   "execution_count": 15,
   "id": "97982434",
   "metadata": {},
   "outputs": [
    {
     "name": "stdout",
     "output_type": "stream",
     "text": [
      "Desculpe, seu saldo é insuficiente!\n"
     ]
    }
   ],
   "source": [
    "# Exemplo 01\n",
    "\n",
    "preco_produto = float(input(\"Insira o preço do produto: \"))\n",
    "\n",
    "saldo = float(input(\"Insira o saldo que você tem disponível: \"))\n",
    "\n",
    "if preco_produto <= saldo:\n",
    "  print(\"Ok, você pode proceder com a compra!\")\n",
    "else:\n",
    "  print(\"Desculpe, seu saldo é insuficiente!\")"
   ]
  },
  {
   "cell_type": "code",
   "execution_count": 16,
   "id": "89595ed7",
   "metadata": {},
   "outputs": [
    {
     "name": "stdout",
     "output_type": "stream",
     "text": [
      "Desculpe, seu saldo é insuficiente!\n"
     ]
    }
   ],
   "source": [
    "# Exemplo 02\n",
    "\n",
    "preco_produto = float(input(\"Insira o preço do produto: \"))\n",
    "\n",
    "saldo = float(input(\"Insira o saldo que você tem disponível: \"))\n",
    "\n",
    "if saldo >= preco_produto:\n",
    "  print(\"Ok, você pode proceder com a compra!\")\n",
    "else:\n",
    "  print(\"Desculpe, seu saldo é insuficiente!\")"
   ]
  },
  {
   "cell_type": "markdown",
   "id": "6a57df27",
   "metadata": {},
   "source": [
    "12 - Você possui a seguinte lista de usuários. Agora, peça para um usuário digitar seu nome e verifique se ele se encontra no banco de usuários. Imprima uma mensagem o avisando do resultado."
   ]
  },
  {
   "cell_type": "code",
   "execution_count": 17,
   "id": "be600af6",
   "metadata": {},
   "outputs": [
    {
     "name": "stdout",
     "output_type": "stream",
     "text": [
      "Ok, você tem autorização para prosseguir.\n"
     ]
    }
   ],
   "source": [
    "usuarios = ['José', 'Maria', \"João\", \"Guilherme I\", \"Guilherme II\"]\n",
    "\n",
    "\n",
    "nome_usuario = str(input(\"Digite seu nome: \"))\n",
    "\n",
    "if nome_usuario in usuarios:\n",
    "  print(\"Ok, você tem autorização para prosseguir.\")\n",
    "else:\n",
    "  print(\"Opa, parece que você não está cadastrado no nosso sistema. Por favor, realize o cadastro na página inicial.\")\n"
   ]
  },
  {
   "cell_type": "markdown",
   "id": "b159514e",
   "metadata": {},
   "source": [
    "13 - Peça ao usuário para inserir uma letra. Verifique se a letra é uma vogal ou uma consoante e exiba uma mensagem correspondente."
   ]
  },
  {
   "cell_type": "code",
   "execution_count": 18,
   "id": "6f5e423f",
   "metadata": {},
   "outputs": [
    {
     "name": "stdout",
     "output_type": "stream",
     "text": [
      "Legal, você digitou uma vogal.\n"
     ]
    }
   ],
   "source": [
    "\n",
    "vogais = [\"a\", \"e\", \"i\", \"o\", \"u\", \"A\", \"E\", \"I\", \"O\", \"U\"]\n",
    "\n",
    "letra = str(input(\"Insira uma letra do alfabeto: \"))\n",
    "\n",
    "if letra in vogais:\n",
    "  print(\"Legal, você digitou uma vogal.\")\n",
    "else:\n",
    "  print(\"Maravilha, você digitou uma consoante.\")"
   ]
  },
  {
   "cell_type": "markdown",
   "id": "56878d94",
   "metadata": {},
   "source": [
    "14 - Um Palíndromo é uma frase ou palavra que se pode ler, indiferentemente, da esquerda para a direita ou vice-versa. Peça ao usuário uma palavra e verifique se ela é ou não um palíndromo, imprimindo o resultado final. (Dica: Para inverter uma string, pode utilizar \"string[::-1]\")."
   ]
  },
  {
   "cell_type": "code",
   "execution_count": 19,
   "id": "399bcb10",
   "metadata": {},
   "outputs": [
    {
     "name": "stderr",
     "output_type": "stream",
     "text": [
      "<>:18: SyntaxWarning: invalid escape sequence '\\W'\n",
      "<>:18: SyntaxWarning: invalid escape sequence '\\W'\n",
      "C:\\Users\\Pedro\\AppData\\Local\\Temp\\ipykernel_17728\\4131612281.py:18: SyntaxWarning: invalid escape sequence '\\W'\n",
      "  palavra = re.sub('\\W+', '', palavra)\n"
     ]
    },
    {
     "name": "stdout",
     "output_type": "stream",
     "text": [
      "Uau, você achou um palíndromo.\n"
     ]
    }
   ],
   "source": [
    "# Exemplo 01\n",
    "\n",
    "# Pacotes\n",
    "\n",
    "import re\n",
    "import unicodedata\n",
    "\n",
    "# Input\n",
    "\n",
    "palavra = str(input(\"Insira uma palavra ou expressão: \"))\n",
    "\n",
    "# Remove espaços em branco e converte para letras minúsculas\n",
    "\n",
    "palavra = palavra.replace(\" \", \"\").lower()\n",
    "\n",
    "# Remove caracteres especiais\n",
    "\n",
    "palavra = re.sub('\\W+', '', palavra)\n",
    "\n",
    "# Remove acentos\n",
    "\n",
    "palavra = unicodedata.normalize(\"NFKD\", palavra).encode('ascii','ignore').decode('utf8')\n",
    "\n",
    "# Palíndromos\n",
    "\n",
    "# 1 - Socorram-me, subi no ônibus em Marrocos\n",
    "# 2 - Anotaram a data da maratona\n",
    "# 3 - Ótimo, só eu, que os omito\n",
    "\n",
    "if palavra == palavra[::-1]:\n",
    "  print(\"Uau, você achou um palíndromo.\")\n",
    "else:\n",
    "  print(\"Ah, que pena! Não é um palíndromo.\")"
   ]
  },
  {
   "cell_type": "code",
   "execution_count": 20,
   "id": "038e304c",
   "metadata": {},
   "outputs": [
    {
     "name": "stdout",
     "output_type": "stream",
     "text": [
      "é um palíndromo\n"
     ]
    }
   ],
   "source": [
    "# Exemplo 2\n",
    "\n",
    "palavra = str(input(\"Fala uma palavra e eu te falo se ela é a mesma de trás pra frente: \"))\n",
    "# Remove espaços em branco e converte para letras minúsculas\n",
    "palavra = palavra.replace(\" \", \"\").lower()\n",
    "\n",
    "arvalap = palavra[::-1]\n",
    "\n",
    "if arvalap == palavra:\n",
    "    print(\"é um palíndromo\")\n",
    "else:\n",
    "    print(\"não é um palíndromo\")"
   ]
  },
  {
   "cell_type": "markdown",
   "id": "33d2208b",
   "metadata": {},
   "source": [
    "15 - Peça ao usuário para inserir um número. Use um loop \"*while*\" para imprimir todos os números de 1 até o número inserido."
   ]
  },
  {
   "cell_type": "code",
   "execution_count": 21,
   "id": "4d78b6c2",
   "metadata": {},
   "outputs": [
    {
     "name": "stdout",
     "output_type": "stream",
     "text": [
      "1\n",
      "2\n",
      "3\n",
      "4\n",
      "5\n",
      "6\n",
      "7\n",
      "8\n",
      "9\n",
      "10\n",
      "11\n",
      "12\n",
      "13\n",
      "14\n",
      "15\n",
      "16\n",
      "17\n",
      "18\n",
      "19\n",
      "20\n",
      "21\n",
      "22\n",
      "23\n",
      "24\n",
      "25\n",
      "26\n",
      "27\n",
      "28\n",
      "29\n",
      "30\n"
     ]
    }
   ],
   "source": [
    "#  Exemplo 01\n",
    "\n",
    "numero = int(input(\"Insira um número inteiro: \"))\n",
    "\n",
    "contador = 1\n",
    "\n",
    "while contador <= numero:\n",
    "  print(contador)\n",
    "\n",
    "  contador = contador + 1\n",
    "\n"
   ]
  },
  {
   "cell_type": "markdown",
   "id": "fccec0ae",
   "metadata": {},
   "source": [
    "16 - Tabuada: Peça para o usuário um número inteiro e mostre para ele a tabuada desse número de 1 a 10. [use o while loop]"
   ]
  },
  {
   "cell_type": "code",
   "execution_count": 22,
   "id": "b27e147f",
   "metadata": {},
   "outputs": [
    {
     "name": "stdout",
     "output_type": "stream",
     "text": [
      "9\n",
      "18\n",
      "27\n",
      "36\n",
      "45\n",
      "54\n",
      "63\n",
      "72\n",
      "81\n",
      "90\n"
     ]
    }
   ],
   "source": [
    "# Exemplo 01\n",
    "\n",
    "numero = int(input(\"Insira um número inteiro: \"))\n",
    "\n",
    "contador = 1\n",
    "\n",
    "while contador <= 10:\n",
    "  print(numero * contador)\n",
    "  contador = contador + 1"
   ]
  },
  {
   "cell_type": "markdown",
   "id": "25caeb62",
   "metadata": {},
   "source": [
    "17 - Com a seguinte frase, crie uma nova string substituindo o 'r' minúsculo por 'R' maiúsculo. Depois, imprima a nova string. [use o while loop]"
   ]
  },
  {
   "cell_type": "code",
   "execution_count": 23,
   "id": "ed034016",
   "metadata": {},
   "outputs": [
    {
     "name": "stdout",
     "output_type": "stream",
     "text": [
      "o\n",
      "o \n",
      "o R\n",
      "o Ra\n",
      "o Rat\n",
      "o Rato\n",
      "o Rato \n",
      "o Rato R\n",
      "o Rato Ro\n",
      "o Rato Roe\n",
      "o Rato Roeu\n",
      "o Rato Roeu \n",
      "o Rato Roeu a\n",
      "o Rato Roeu a \n",
      "o Rato Roeu a R\n",
      "o Rato Roeu a Ro\n",
      "o Rato Roeu a Rou\n",
      "o Rato Roeu a Roup\n",
      "o Rato Roeu a Roupa\n",
      "o Rato Roeu a Roupa \n",
      "o Rato Roeu a Roupa d\n",
      "o Rato Roeu a Roupa do\n",
      "o Rato Roeu a Roupa do \n",
      "o Rato Roeu a Roupa do R\n",
      "o Rato Roeu a Roupa do Re\n",
      "o Rato Roeu a Roupa do Rei\n",
      "o Rato Roeu a Roupa do Rei \n",
      "o Rato Roeu a Roupa do Rei d\n",
      "o Rato Roeu a Roupa do Rei de\n",
      "o Rato Roeu a Roupa do Rei de \n",
      "o Rato Roeu a Roupa do Rei de R\n",
      "o Rato Roeu a Roupa do Rei de Ro\n",
      "o Rato Roeu a Roupa do Rei de Rom\n",
      "o Rato Roeu a Roupa do Rei de Roma\n"
     ]
    }
   ],
   "source": [
    "# Exemplo 01\n",
    "\n",
    "# Frase de referência\n",
    "\n",
    "frase = \"o rato roeu a roupa do rei de roma\"\n",
    "\n",
    "# Número de caracteres na frase\n",
    "\n",
    "tamanho_frase = len(frase)\n",
    "\n",
    "# Contador\n",
    "\n",
    "contador = 0\n",
    "\n",
    "# String vazia onde a nova frase será armazenada\n",
    "\n",
    "nova_frase = \"\"\n",
    "\n",
    "# Substituindo r por R\n",
    "\n",
    "while contador < tamanho_frase:\n",
    "  letra = frase[contador]\n",
    "  if letra == 'r':\n",
    "    letra = letra.upper()\n",
    "  else:\n",
    "    letra\n",
    "  nova_frase = nova_frase + letra\n",
    "  print(nova_frase)\n",
    "  contador = contador + 1\n"
   ]
  },
  {
   "cell_type": "code",
   "execution_count": 24,
   "id": "5934ad0d",
   "metadata": {},
   "outputs": [
    {
     "name": "stdout",
     "output_type": "stream",
     "text": [
      "o Rato roeu a roupa do rei de roma\n",
      "o Rato Roeu a roupa do rei de roma\n",
      "o Rato Roeu a Roupa do rei de roma\n",
      "o Rato Roeu a Roupa do Rei de roma\n",
      "o Rato Roeu a Roupa do Rei de Roma\n"
     ]
    }
   ],
   "source": [
    "# Exemplo 02\n",
    "\n",
    "# Frase de referência\n",
    "\n",
    "frase = \"o rato roeu a roupa do rei de roma\"\n",
    "\n",
    "# String vazia onde a nova frase será armazenada\n",
    "\n",
    "nova_frase = frase\n",
    "\n",
    "# Substituindo r por R\n",
    "\n",
    "while \"r\" in nova_frase:\n",
    "  nova_frase = nova_frase.replace(\"r\", \"R\", 1)\n",
    "  print(nova_frase)"
   ]
  },
  {
   "cell_type": "markdown",
   "id": "ea0b1678",
   "metadata": {},
   "source": [
    "18 - Por que o seguinte código gera um erro?"
   ]
  },
  {
   "cell_type": "code",
   "execution_count": 25,
   "id": "716780cf",
   "metadata": {},
   "outputs": [
    {
     "name": "stdout",
     "output_type": "stream",
     "text": [
      "10\n",
      "20\n",
      "30\n",
      "40\n",
      "50\n",
      "60\n"
     ]
    },
    {
     "ename": "IndexError",
     "evalue": "list index out of range",
     "output_type": "error",
     "traceback": [
      "\u001b[1;31m---------------------------------------------------------------------------\u001b[0m",
      "\u001b[1;31mIndexError\u001b[0m                                Traceback (most recent call last)",
      "Cell \u001b[1;32mIn[25], line 6\u001b[0m\n\u001b[0;32m      3\u001b[0m tamanho_lista \u001b[38;5;241m=\u001b[39m \u001b[38;5;28mlen\u001b[39m(lista)\n\u001b[0;32m      5\u001b[0m \u001b[38;5;28;01mwhile\u001b[39;00m i \u001b[38;5;241m<\u001b[39m\u001b[38;5;241m=\u001b[39m tamanho_lista:\n\u001b[1;32m----> 6\u001b[0m     \u001b[38;5;28mprint\u001b[39m(\u001b[43mlista\u001b[49m\u001b[43m[\u001b[49m\u001b[43mi\u001b[49m\u001b[43m]\u001b[49m)\n\u001b[0;32m      7\u001b[0m     i \u001b[38;5;241m+\u001b[39m\u001b[38;5;241m=\u001b[39m \u001b[38;5;241m1\u001b[39m\n\u001b[0;32m      9\u001b[0m \u001b[38;5;66;03m# O índice está fora do tamanho da lista\u001b[39;00m\n",
      "\u001b[1;31mIndexError\u001b[0m: list index out of range"
     ]
    }
   ],
   "source": [
    "lista = [10,20,30,40,50,60]\n",
    "i = 0 # Contador\n",
    "tamanho_lista = len(lista)\n",
    "\n",
    "while i <= tamanho_lista:\n",
    "    print(lista[i])\n",
    "    i += 1\n",
    "\n",
    "# O índice está fora do tamanho da lista"
   ]
  },
  {
   "cell_type": "code",
   "execution_count": 26,
   "id": "04a4b748",
   "metadata": {},
   "outputs": [
    {
     "name": "stdout",
     "output_type": "stream",
     "text": [
      "10\n",
      "20\n",
      "30\n",
      "40\n",
      "50\n",
      "60\n"
     ]
    }
   ],
   "source": [
    "# Exemplo correto\n",
    "\n",
    "lista = [10,20,30,40,50,60]\n",
    "i = 0 # Contador\n",
    "tamanho_lista = len(lista)\n",
    "\n",
    "while i < tamanho_lista:\n",
    "    print(lista[i])\n",
    "    i += 1"
   ]
  },
  {
   "cell_type": "markdown",
   "id": "13d330e9",
   "metadata": {},
   "source": [
    "19 - Imprima a média dos seguintes cinco números utilizando um *while loop*."
   ]
  },
  {
   "cell_type": "code",
   "execution_count": 27,
   "id": "d618bf87",
   "metadata": {},
   "outputs": [
    {
     "name": "stdout",
     "output_type": "stream",
     "text": [
      "5.0\n",
      "7.5\n",
      "10.0\n",
      "12.5\n",
      "15.0\n"
     ]
    }
   ],
   "source": [
    "nums = [5,10,15,20,25]\n",
    "tamanho_lista = len(nums)\n",
    "contador = 0\n",
    "numero = 0\n",
    "media = 0\n",
    "\n",
    "while contador < tamanho_lista:\n",
    "  numero = numero + nums[contador]\n",
    "  media = numero/(contador + 1)\n",
    "  contador = contador + 1\n",
    "  print(media)\n",
    "\n"
   ]
  },
  {
   "cell_type": "markdown",
   "id": "6bbcbdd8",
   "metadata": {},
   "source": [
    "20 - Da seguinte lista, *só* imprima os valores pares utilizando um *for loop*."
   ]
  },
  {
   "cell_type": "code",
   "execution_count": 28,
   "id": "71b1b23e",
   "metadata": {},
   "outputs": [
    {
     "name": "stdout",
     "output_type": "stream",
     "text": [
      "2\n",
      "4\n",
      "6\n",
      "8\n",
      "10\n"
     ]
    }
   ],
   "source": [
    "lista = [1,2,3,4,5,6,7,8,9,10]\n",
    "\n",
    "for i, valor in enumerate(lista):\n",
    "  if lista[i] % 2 == 0:\n",
    "    print(lista[i])\n"
   ]
  },
  {
   "cell_type": "markdown",
   "id": "dccfb51a",
   "metadata": {},
   "source": [
    "21 - Usando um loop \"*for*\", exiba todos os números de 1 a 10."
   ]
  },
  {
   "cell_type": "code",
   "execution_count": 29,
   "id": "82819bfc",
   "metadata": {},
   "outputs": [
    {
     "name": "stdout",
     "output_type": "stream",
     "text": [
      "1\n",
      "2\n",
      "3\n",
      "4\n",
      "5\n",
      "6\n",
      "7\n",
      "8\n",
      "9\n",
      "10\n"
     ]
    }
   ],
   "source": [
    "for i, valor in enumerate(lista):\n",
    "  print(lista[i])"
   ]
  },
  {
   "cell_type": "markdown",
   "id": "63428c00",
   "metadata": {},
   "source": [
    "22 - Imprima todos os caracteres da seguinte string, um por linha. [use o for loop]"
   ]
  },
  {
   "cell_type": "code",
   "execution_count": 30,
   "id": "e866f85e",
   "metadata": {},
   "outputs": [
    {
     "name": "stdout",
     "output_type": "stream",
     "text": [
      "P\n",
      "a\n",
      "i\n",
      " \n",
      "e\n",
      " \n",
      "m\n",
      "ã\n",
      "e\n",
      ",\n",
      " \n",
      "o\n",
      "u\n",
      "r\n",
      "o\n",
      " \n",
      "d\n",
      "e\n",
      " \n",
      "m\n",
      "i\n",
      "n\n",
      "a\n",
      ".\n",
      " \n",
      "C\n",
      "o\n",
      "r\n",
      "a\n",
      "ç\n",
      "ã\n",
      "o\n",
      ",\n",
      " \n",
      "d\n",
      "e\n",
      "s\n",
      "e\n",
      "j\n",
      "o\n",
      " \n",
      "e\n",
      " \n",
      "s\n",
      "i\n",
      "n\n",
      "a\n"
     ]
    }
   ],
   "source": [
    "texto = \"Pai e mãe, ouro de mina. Coração, desejo e sina\"\n",
    "\n",
    "for i in texto:\n",
    "  print(i)\n"
   ]
  },
  {
   "cell_type": "markdown",
   "id": "93fd9b75",
   "metadata": {},
   "source": [
    "23 - Gere uma sequência e imprima só valores ímpares. [use o for loop]"
   ]
  },
  {
   "cell_type": "code",
   "execution_count": 31,
   "id": "af91c480",
   "metadata": {},
   "outputs": [
    {
     "name": "stdout",
     "output_type": "stream",
     "text": [
      "1\n",
      "3\n",
      "5\n",
      "7\n",
      "9\n",
      "11\n",
      "13\n",
      "15\n",
      "17\n",
      "19\n",
      "21\n",
      "23\n",
      "25\n"
     ]
    }
   ],
   "source": [
    "sequencia = range(0,26,1)\n",
    "\n",
    "for i in sequencia:\n",
    "  if i % 2 != 0:\n",
    "    print(i)"
   ]
  },
  {
   "cell_type": "markdown",
   "id": "21f0d95f",
   "metadata": {},
   "source": [
    "24 - Percorra a lista1 com um *for* *loop*, pegando somente os valores positivos e os anexando na lista2.\n",
    "\n",
    "\n"
   ]
  },
  {
   "cell_type": "code",
   "execution_count": 32,
   "id": "f3ef5885",
   "metadata": {},
   "outputs": [
    {
     "name": "stdout",
     "output_type": "stream",
     "text": [
      "[111]\n",
      "[111, 32]\n",
      "[111, 32, 9]\n",
      "[111, 32, 9, 85]\n"
     ]
    }
   ],
   "source": [
    "lista1 = [111, 32, -9, -45, -17, 9, 85, -10]\n",
    "lista2 = []\n",
    "\n",
    "for i, valor in enumerate(lista1):\n",
    "  if lista1[i] > 0:\n",
    "    lista2.append(lista1[i])\n",
    "    print(lista2)\n",
    "\n"
   ]
  }
 ],
 "metadata": {
  "kernelspec": {
   "display_name": "base",
   "language": "python",
   "name": "python3"
  },
  "language_info": {
   "codemirror_mode": {
    "name": "ipython",
    "version": 3
   },
   "file_extension": ".py",
   "mimetype": "text/x-python",
   "name": "python",
   "nbconvert_exporter": "python",
   "pygments_lexer": "ipython3",
   "version": "3.12.7"
  }
 },
 "nbformat": 4,
 "nbformat_minor": 5
}
