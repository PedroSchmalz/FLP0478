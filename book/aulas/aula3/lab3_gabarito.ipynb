{
 "cells": [
  {
   "cell_type": "markdown",
   "id": "dc02567a",
   "metadata": {},
   "source": [
    "# Laboratório 3\n",
    "\n",
    "Nota: Substitua os seus nomes e informações abaixo antes do envio da atividade. A atividade deve ser enviada no `Moodle` da disciplina, e o arquivo **DEVE** estar no formato `.ipynb`.\n",
    "\n",
    "[Nome Aluno 1] / [NUSP Aluno 1] / [Vespertino/Noturno]\n",
    "\n",
    "[Nome Aluno 2] / [NUSP Aluno 2] / [Vespertino/Noturno]\n"
   ]
  },
  {
   "cell_type": "markdown",
   "id": "1f605bde",
   "metadata": {},
   "source": [
    "<p align=\"justify\"> 1 -  Crie uma função que recebe 3 números como parâmetros e exiba a soma entre  eles. Depois, faça uma chamada à função."
   ]
  },
  {
   "cell_type": "code",
   "execution_count": null,
   "id": "3f78f410",
   "metadata": {},
   "outputs": [],
   "source": [
    "def soma(n1, n2, n3):\n",
    "    print(n1 + n2 + n3)\n",
    "\n",
    "\n",
    "soma(2, 1, 3)"
   ]
  },
  {
   "cell_type": "markdown",
   "id": "477a39d4",
   "metadata": {},
   "source": [
    "<p align=\"justify\"> 2 - Crie uma função que receba 2 números. O primeiro é um valor e o segundo um percentual (ex. 10%). Retorne (return) o valor do primeiro número somado do aumento percentual do mesmo. Execute a função para ver se o resultado está correto."
   ]
  },
  {
   "cell_type": "code",
   "execution_count": null,
   "id": "a61782b2",
   "metadata": {},
   "outputs": [],
   "source": [
    "def perc(n1, n2):\n",
    "    return n1 + (n1 * n2 / 100)\n",
    "\n",
    "print(perc(100,50))"
   ]
  },
  {
   "cell_type": "markdown",
   "id": "d6ee58bd",
   "metadata": {},
   "source": [
    "<p align=\"justify\"> 3 - Vá na documentação de strings do Python (<a href = https://docs.python.org/3/library/stdtypes.html?highlight=upper#string-methods> Link</a>). Com isso em mãos, crie uma função que recebe uma string como argumento e que deixa o primeiro caractere em maiúsculo. Chame a função ao final da célula."
   ]
  },
  {
   "cell_type": "code",
   "execution_count": null,
   "id": "4b7901b8",
   "metadata": {},
   "outputs": [],
   "source": [
    "def capitaliza(str1):\n",
    "  return str1.capitalize()\n",
    "\n",
    "\n",
    "capitaliza(\"josé amava lírios.\")"
   ]
  },
  {
   "cell_type": "markdown",
   "id": "fa2a4489",
   "metadata": {},
   "source": [
    "<p align=\"justify\"> 4 - Crie uma função que recebe uma lista de strings e as retorna totalmente em letras minúsculas."
   ]
  },
  {
   "cell_type": "code",
   "execution_count": null,
   "id": "0ae5722f",
   "metadata": {},
   "outputs": [],
   "source": [
    "# Com List Comprehension\n",
    "\n",
    "def converter_para_lower(strings):\n",
    "    strings_lower = [s.lower() for s in strings]\n",
    "    return strings_lower\n",
    "\n",
    "# Ou\n",
    "\n",
    "def converter_para_lower2(strings):\n",
    "\n",
    "  strings_lower = []\n",
    "\n",
    "  for s in strings:\n",
    "    strings_lower.append(s.lower())\n",
    "  return strings_lower\n",
    "\n",
    "\n",
    "# Lista de strings de exemplo\n",
    "lista_strings = [\"Python\", \"É\", \"Uma\", \"Linguagem\", \"De\", \"Programação\"]\n",
    "\n",
    "# Chamando a função e imprimindo o resultado 1\n",
    "strings_lower1 = converter_para_lower(lista_strings)\n",
    "print(strings_lower1)\n",
    "\n",
    "# Chamando a função e imprimindo o resultado 2\n",
    "strings_lower2 = converter_para_lower2(lista_strings)\n",
    "print(strings_lower2)"
   ]
  },
  {
   "cell_type": "markdown",
   "id": "88419740",
   "metadata": {},
   "source": [
    "<p align=\"justify\"> 5 - Crie uma função que receba três listas como argumentos e as junte em um dicionário. A função deve retornar o dicionário final. Execute a função utilizando as três listas abaixo, apresentando o resultado final em um print. Lembre-se, cada elemento da lista deve estar associado ao seu equivalente dentro do dicionário (i.e. \"Alice\" com \"Jonhson\" com \"alice@example.com\"). Dica: você vai precisar da função <a href =https://docs.python.org/3/library/functions.html?highlight=zip#zip><i>zip</i></a> e revisar um pouco mais de <a href = https://docs.python.org/3/tutorial/datastructures.html?highlight=dictionaries#dictionaries> dicionários </a>."
   ]
  },
  {
   "cell_type": "code",
   "execution_count": null,
   "id": "131cd909",
   "metadata": {},
   "outputs": [],
   "source": [
    "# Listas de teste\n",
    "primeiros_nomes = [\"Alice\", \"Bob\", \"Carol\", \"David\", \"Eve\"]\n",
    "ultimos_nomes = [\"Johnson\", \"Smith\", \"Williams\", \"Brown\", \"Davis\"]\n",
    "emails = [\"alice@example.com\", \"bob@example.com\", \"carol@example.com\", \"david@example.com\", \"eve@example.com\"]\n",
    "\n",
    "\n",
    "def listas_em_dicionario(nomes, sobrenomes, emails):\n",
    "    dicionario = {}\n",
    "    for nome, sobrenome, email in zip(nomes, sobrenomes, emails):\n",
    "        dicionario[nome] = {\"sobrenome\": sobrenome, \"email\": email}\n",
    "    return dicionario\n",
    "\n",
    "\n",
    "\n",
    "dicionario = listas_em_dicionario(primeiros_nomes,ultimos_nomes, emails)\n",
    "\n",
    "\n",
    "# Exemplo de como imprimir os valores de um dicionário depois do resultado da função.\n",
    "\n",
    "for nome, info in dicionario.items():\n",
    "    print(f\"Nome: {nome}, Sobrenome: {info['sobrenome']}, Email: {info['email']}\")\n",
    "\n",
    "\n",
    "\n"
   ]
  },
  {
   "cell_type": "markdown",
   "id": "f88addf4",
   "metadata": {},
   "source": [
    "<p align=\"justify\"> 6 - Abaixo você encontra uma lista com temperaturas em graus Celsius. Crie uma função anônima que converta cada temperatura para Fahrenheit. Dica: para conseguir realizar este exercício, você deve criar sua função <i>lambda</i>, dentro de uma função.\n",
    "\n",
    "<p align=\"justify\"> Fórmula: F = (C * 1,8) + 32."
   ]
  },
  {
   "cell_type": "code",
   "execution_count": null,
   "id": "4cf5e26a",
   "metadata": {},
   "outputs": [],
   "source": [
    "Celsius = [35, 25, 17, 28.5]\n",
    "\n",
    "# Modo conciso (tem exemplo parecido acima)\n",
    "Fahrenheit = map(lambda x: (float(9)/5)*x + 32, Celsius)\n",
    "\n",
    "# Definindo a função\n",
    "\n",
    "def c_para_f(temps):\n",
    "  fahrenheit = list(map(lambda x: (float(9)/5)*x + 32, temps))\n",
    "  return fahrenheit\n",
    "\n",
    "\n",
    "# Resultado do Modo extenso\n",
    "\n",
    "resultado = c_para_f(Celsius)\n",
    "\n",
    "print(list(resultado))\n",
    "\n",
    "# Resultado do modo conciso\n",
    "print(list(Fahrenheit))\n",
    "\n",
    "# [95.0, 77.0, 62.6, 83.30000000000001]"
   ]
  },
  {
   "cell_type": "markdown",
   "id": "6c9cff9f",
   "metadata": {},
   "source": [
    "<p align=\"justify\"> 7 - Crie uma função que receba uma lista de números. Com essa lista, a função deve calcular média, moda, mediana e desvio padrão. Ao fim, deve imprimir cada um desses valores em linhas separadas. Não esqueça de conferir a <a href = https://docs.python.org/3/library/statistics.html?highlight=mean#statistics.mean> dica </a>."
   ]
  },
  {
   "cell_type": "code",
   "execution_count": null,
   "id": "82a0621b",
   "metadata": {},
   "outputs": [],
   "source": [
    "\n",
    "import statistics as stat\n",
    "\n",
    "lista_nums = [72,42,24,48,124,23]\n",
    "\n",
    "def estatisticas(nums):\n",
    "  media = stat.mean(nums)\n",
    "  moda = stat.mode(nums)\n",
    "  mediana = stat.median(nums)\n",
    "  desvpad = stat.stdev(nums)\n",
    "\n",
    "  print(f'A média da lista é: {media}')\n",
    "  print(f'A moda da lista é: {moda}')\n",
    "  print(f'A mediana da lista é: {mediana}')\n",
    "  print(f'O desvio padrão da lista é: {desvpad}')\n",
    "\n",
    "\n",
    "estatisticas(lista_nums)\n",
    "\n"
   ]
  },
  {
   "cell_type": "markdown",
   "id": "8ddc16ab",
   "metadata": {},
   "source": [
    "<p align=\"justify\"> 8 - Calculadora Simples: Crie uma calculadora simples com funções para realizar operações de adição, subtração, multiplicação e divisão. A função principal deve pedir ao usuário qual operação deseja realizar e, em seguida, solicitar os números para a operação."
   ]
  },
  {
   "cell_type": "code",
   "execution_count": null,
   "id": "9b7cab0b",
   "metadata": {},
   "outputs": [],
   "source": [
    "def adicao(a, b):\n",
    "    return a + b\n",
    "\n",
    "def subtracao(a, b):\n",
    "    return a - b\n",
    "\n",
    "def multiplicacao(a, b):\n",
    "    return a * b\n",
    "\n",
    "def divisao(a, b):\n",
    "    if b != 0:\n",
    "        return a / b\n",
    "    else:\n",
    "        return \"Não é possível dividir por zero.\"\n",
    "\n",
    "def calculadora():\n",
    "    print(\"Escolha a operação:\")\n",
    "    print(\"1. Adição\")\n",
    "    print(\"2. Subtração\")\n",
    "    print(\"3. Multiplicação\")\n",
    "    print(\"4. Divisão\")\n",
    "    print(\"===================\")\n",
    "    print(\" \")\n",
    "\n",
    "    escolha = input(\"Digite o número da operação desejada: \")\n",
    "\n",
    "    num1 = float(input(\"Digite o primeiro número: \"))\n",
    "    num2 = float(input(\"Digite o segundo número: \"))\n",
    "\n",
    "    print(\" \")\n",
    "    print(\"###### Resultado ######\")\n",
    "\n",
    "    if escolha == \"1\":\n",
    "        resultado = adicao(num1, num2)\n",
    "    elif escolha == \"2\":\n",
    "        resultado = subtracao(num1, num2)\n",
    "    elif escolha == \"3\":\n",
    "        resultado = multiplicacao(num1, num2)\n",
    "    elif escolha == \"4\":\n",
    "        resultado = divisao(num1, num2)\n",
    "    else:\n",
    "        resultado = \"Operação inválida.\"\n",
    "\n",
    "    print(\"Resultado:\", resultado)\n",
    "\n",
    "# Chamar a função calculadora para realizar uma operação\n",
    "calculadora()"
   ]
  },
  {
   "cell_type": "markdown",
   "id": "28292461",
   "metadata": {},
   "source": [
    "<p align=\"justify\"> Antes de ir aos próximos exercícios, explore a documentação própria do <i>Numpy</i> (<a href = https://numpy.org/doc/stable/reference/routines.html> Link</a>). Não esqueça de importar a biblicoteca também."
   ]
  },
  {
   "cell_type": "markdown",
   "id": "a0ec7ab6",
   "metadata": {},
   "source": [
    "9 - Crie um array <i>NumPy</i> que contenha os primeiros 10 números pares. Imprima o array."
   ]
  },
  {
   "cell_type": "code",
   "execution_count": null,
   "id": "253bcfcc",
   "metadata": {},
   "outputs": [],
   "source": [
    "import numpy as np"
   ]
  },
  {
   "cell_type": "code",
   "execution_count": null,
   "id": "a10fa05d",
   "metadata": {},
   "outputs": [],
   "source": [
    "numeros_pares = np.arange(0, 20, 2)\n",
    "print(numeros_pares)"
   ]
  },
  {
   "cell_type": "markdown",
   "id": "0b3578f2",
   "metadata": {},
   "source": [
    "10 - Crie uma matriz identidade 4x4 usando <i>NumPy</i>. Imprima o array."
   ]
  },
  {
   "cell_type": "code",
   "execution_count": null,
   "id": "9b82bf83",
   "metadata": {},
   "outputs": [],
   "source": [
    "matriz_identidade = np.eye(4)\n",
    "print(matriz_identidade)"
   ]
  },
  {
   "cell_type": "markdown",
   "id": "ba473fa3",
   "metadata": {},
   "source": [
    "<p align=\"justify\"> 11 - Utilizando um for loop, multiplique os valores da primeira lista pela segunda lista. Imprima o resultado final. Dica: Você pode precisar da função range() e len() vistas na aula anterior."
   ]
  },
  {
   "cell_type": "code",
   "execution_count": null,
   "id": "95c321c0",
   "metadata": {},
   "outputs": [],
   "source": [
    "lista1 = [7,6,1,2,54,25]\n",
    "lista2 = [1,2,3,4,5,6]\n",
    "\n",
    "resultado = []\n",
    "\n",
    "for x in range(0, len(lista1)):\n",
    "  valor = lista1[x] * lista2[x]\n",
    "  resultado.append(valor)\n",
    "\n",
    "\n",
    "print(resultado)"
   ]
  },
  {
   "cell_type": "markdown",
   "id": "80edeb36",
   "metadata": {},
   "source": [
    "12 - Transforme as listas 1 e 2 em arrays e multiplique seus valores."
   ]
  },
  {
   "cell_type": "code",
   "execution_count": null,
   "id": "45dc0d2c",
   "metadata": {},
   "outputs": [],
   "source": [
    "print(np.array(lista1) * np.array(lista2))\n"
   ]
  },
  {
   "cell_type": "markdown",
   "id": "969e5df4",
   "metadata": {},
   "source": [
    "13 - Pegue apenas os valores pares da seguinte lista utilizando um for loop."
   ]
  },
  {
   "cell_type": "code",
   "execution_count": null,
   "id": "f7f9bd7e",
   "metadata": {},
   "outputs": [],
   "source": [
    "\n",
    "lista = list(range(0,100))\n",
    "\n",
    "pares = []\n",
    "\n",
    "for i in lista:\n",
    "  if i % 2 == 0:\n",
    "    pares.append(i)\n",
    "  else:\n",
    "    pass\n",
    "\n",
    "print(pares)\n"
   ]
  },
  {
   "cell_type": "markdown",
   "id": "9153927f",
   "metadata": {},
   "source": [
    "14 - Transforme a lista do exercício 13 em um array e pegue os números pares."
   ]
  },
  {
   "cell_type": "code",
   "execution_count": null,
   "id": "6d249a76",
   "metadata": {},
   "outputs": [],
   "source": [
    "array = np.array(lista)\n",
    "\n",
    "pares = array[array % 2 == 0]\n",
    "\n",
    "print(pares)"
   ]
  },
  {
   "cell_type": "markdown",
   "id": "4f2d83a9",
   "metadata": {},
   "source": [
    "<p align=\"justify\"> 15 - Abaixo estão duas listas: uma com o nome de candidatos (inventados) e outra com valores <i>dummy</i> (ou binários) que informam se o candidato possui ou não twitter. Usando <i>NumPy</i> arrays, filtre os candidatos que <i>possuem</i> twitter."
   ]
  },
  {
   "cell_type": "code",
   "execution_count": null,
   "id": "f6d3f625",
   "metadata": {},
   "outputs": [],
   "source": [
    "import random\n",
    "\n",
    "nomes = [\"Alice\", \"Bob\", \"Carlos\", \"David\", \"Emily\", \"Fernanda\", \"Gabriel\", \"Hannah\", \"Isaac\", \"Julia\",\n",
    "         \"Kevin\", \"Larissa\", \"Mateus\", \"Natalia\", \"Oliver\", \"Paula\", \"Quincy\", \"Renata\", \"Samuel\", \"Tatiana\"]\n",
    "\n",
    "twitter = [random.choice([0, 1]) for _ in range(20)]\n",
    "\n",
    "\n",
    "nomes_array = np.array(nomes)\n",
    "twitter_array = np.array(twitter)\n",
    "\n",
    "\n",
    "candidatos_twitter = nomes_array[twitter_array == 1]\n",
    "\n",
    "print(candidatos_twitter)"
   ]
  },
  {
   "cell_type": "markdown",
   "id": "4a62230c",
   "metadata": {},
   "source": [
    "16 - Escreva um programa NumPy para criar uma matriz 5x5 com valores aleatórios e calcule o exponencial de cada elemento. Confira a [dica](https://numpy.org/doc/stable/reference/routines.math.html#mathematical-functions) antes de iniciar o exercício."
   ]
  },
  {
   "cell_type": "code",
   "execution_count": null,
   "id": "61d2d593",
   "metadata": {},
   "outputs": [],
   "source": [
    "nums = np.random.rand(5, 5)\n",
    "print(\"Array original:\")\n",
    "print(nums)\n",
    "exp_arr = np.exp(nums)\n",
    "print(\"Exponencial do Array:\")\n",
    "print(exp_arr)"
   ]
  },
  {
   "cell_type": "markdown",
   "id": "3a8048ec",
   "metadata": {},
   "source": [
    "17 - Crie uma matriz (array) 3x2 e outra 2x3, sem utilizar o <i>random</i>, e multiplique-as.\n",
    "\n",
    "Dica: Não dá para usar o operador \"*\"."
   ]
  },
  {
   "cell_type": "code",
   "execution_count": null,
   "id": "67678b40",
   "metadata": {},
   "outputs": [],
   "source": [
    "matriz1 = np.array([[1, 2],\n",
    "                   [3, 4],\n",
    "                   [5, 6]])\n",
    "\n",
    "matriz2 = np.array([[1,2,3],\n",
    "                    [3,2,1]])\n",
    "\n",
    "print(np.matmul(matriz1,matriz2))"
   ]
  },
  {
   "cell_type": "markdown",
   "id": "8eca2ce7",
   "metadata": {},
   "source": [
    "18 - Transponha a segunda matriz do exercício 17 e refaça a operação proposta."
   ]
  },
  {
   "cell_type": "code",
   "execution_count": null,
   "id": "2fb2890f",
   "metadata": {},
   "outputs": [],
   "source": [
    "matriz2_T = np.transpose(matriz2)\n",
    "\n",
    "print(matriz2_T)\n",
    "\n",
    "print(\"Resultado: \")\n",
    "print(matriz1 * matriz2_T)\n"
   ]
  },
  {
   "cell_type": "markdown",
   "id": "aa6d5320",
   "metadata": {},
   "source": [
    "19 - Imprima o número 50 do seguinte array."
   ]
  },
  {
   "cell_type": "code",
   "execution_count": null,
   "id": "4cd9e056",
   "metadata": {},
   "outputs": [],
   "source": [
    "arr = np.array([[10, 20, 30, 40], [50, 60, 70, 80]])\n",
    "\n",
    "print(arr[1, 0])"
   ]
  },
  {
   "cell_type": "markdown",
   "id": "2fddd9a7",
   "metadata": {},
   "source": [
    "20 - Crie uma matriz 3x3 de números e acesse o elemento da segunda linha e terceira coluna."
   ]
  },
  {
   "cell_type": "code",
   "execution_count": null,
   "id": "dbc5f1d8",
   "metadata": {},
   "outputs": [],
   "source": [
    "matriz = np.array([[1, 2, 3], [4, 5, 6], [7, 8, 9]])\n",
    "elemento = matriz[1, 2]\n",
    "print(elemento)"
   ]
  },
  {
   "cell_type": "markdown",
   "id": "58a137b0",
   "metadata": {},
   "source": [
    "21 - Crie uma matriz 4x4 de números e use fatiamento para obter uma submatriz 2x2 da parte superior esquerda."
   ]
  },
  {
   "cell_type": "code",
   "execution_count": null,
   "id": "7c97fa1b",
   "metadata": {},
   "outputs": [],
   "source": [
    "matriz = np.array([[1, 2, 3, 4],\n",
    "                   [5, 6, 7, 8],\n",
    "                   [9, 10, 11, 12],\n",
    "                   [13, 14, 15, 16]])\n",
    "\n",
    "submatriz = matriz[:2, :2]\n",
    "print(submatriz)"
   ]
  },
  {
   "cell_type": "markdown",
   "id": "24a3d0d3",
   "metadata": {},
   "source": [
    "<p align=\"justify\"> 22 - Crie uma função que recebe um array de strings que contém os usuários de twitter de deputados federais, remova o prefixo \"@\" e deixe tudo minúsculo. Depois, a aplique na <i>lista_twitters</i>.\n",
    "\n",
    "Confira a [dica](https://numpy.org/doc/stable/reference/routines.char.html)."
   ]
  },
  {
   "cell_type": "code",
   "execution_count": null,
   "id": "86e641d3",
   "metadata": {},
   "outputs": [],
   "source": [
    "\n",
    "# Lista de nomes de usuário no twitter\n",
    "lista_twitters = nomes_com_arroba = [\"@Ana\", \"@Pedro\", \"@Isabel\", \"@João\",\n",
    "                                     \"@Mariana\", \"@Rafael\", \"@Beatriz\", \"@Lucas\",\n",
    "                                     \"@Carolina\", \"@Gustavo\", \"@Lívia\", \"@André\",\n",
    "                                     \"@Júlia\", \"@Matheus\", \"@Laura\", \"@Gabriel\",''\n",
    "                                     \"@Amanda\", \"@Daniel\", \"@Clara\", \"@Felipe\"]\n",
    "\n",
    "array_twitters = lista_twitters\n",
    "\n",
    "def limpa_twitters(array):\n",
    "\n",
    "  array = np.char.replace(array, '@', '')\n",
    "  array = np.char.lower(array)\n",
    "  return array\n",
    "\n",
    "\n",
    "\n",
    "resultado = limpa_twitters(array_twitters)\n",
    "\n",
    "print(resultado)\n"
   ]
  }
 ],
 "metadata": {
  "kernelspec": {
   "display_name": "base",
   "language": "python",
   "name": "python3"
  },
  "language_info": {
   "codemirror_mode": {
    "name": "ipython",
    "version": 3
   },
   "file_extension": ".py",
   "mimetype": "text/x-python",
   "name": "python",
   "nbconvert_exporter": "python",
   "pygments_lexer": "ipython3",
   "version": "3.12.7"
  }
 },
 "nbformat": 4,
 "nbformat_minor": 5
}
