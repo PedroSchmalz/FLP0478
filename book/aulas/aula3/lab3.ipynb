{
 "cells": [
  {
   "cell_type": "markdown",
   "id": "dc02567a",
   "metadata": {},
   "source": [
    "# Laboratório 3\n",
    "\n",
    "Nota: Substitua os seus nomes e informações abaixo antes do envio da atividade. A atividade deve ser enviada no `Moodle` da disciplina, e o arquivo **DEVE** estar no formato `.ipynb`.\n",
    "\n",
    "[Nome Aluno 1] / [NUSP Aluno 1] / [Vespertino/Noturno]\n",
    "\n",
    "[Nome Aluno 2] / [NUSP Aluno 2] / [Vespertino/Noturno]\n"
   ]
  },
  {
   "cell_type": "markdown",
   "id": "1f605bde",
   "metadata": {},
   "source": [
    "<p align=\"justify\"> 1 -  Crie uma função que recebe 3 números como parâmetros e exiba a soma entre  eles. Depois, faça uma chamada à função."
   ]
  },
  {
   "cell_type": "code",
   "execution_count": null,
   "id": "3f78f410",
   "metadata": {},
   "outputs": [],
   "source": []
  },
  {
   "cell_type": "markdown",
   "id": "477a39d4",
   "metadata": {},
   "source": [
    "<p align=\"justify\"> 2 - Crie uma função que receba 2 números. O primeiro é um valor e o segundo um percentual (ex. 10%). Retorne (return) o valor do primeiro número somado do aumento percentual do mesmo. Execute a função para ver se o resultado está correto."
   ]
  },
  {
   "cell_type": "code",
   "execution_count": null,
   "id": "a61782b2",
   "metadata": {},
   "outputs": [],
   "source": []
  },
  {
   "cell_type": "markdown",
   "id": "d6ee58bd",
   "metadata": {},
   "source": [
    "<p align=\"justify\"> 3 - Vá na documentação de strings do Python (<a href = https://docs.python.org/3/library/stdtypes.html?highlight=upper#string-methods> Link</a>). Com isso em mãos, crie uma função que recebe uma string como argumento e que deixa o primeiro caractere em maiúsculo. Chame a função ao final da célula."
   ]
  },
  {
   "cell_type": "code",
   "execution_count": null,
   "id": "4b7901b8",
   "metadata": {},
   "outputs": [],
   "source": []
  },
  {
   "cell_type": "markdown",
   "id": "fa2a4489",
   "metadata": {},
   "source": [
    "<p align=\"justify\"> 4 - Crie uma função que recebe uma lista de strings e as retorna totalmente em letras minúsculas."
   ]
  },
  {
   "cell_type": "code",
   "execution_count": null,
   "id": "0ae5722f",
   "metadata": {},
   "outputs": [],
   "source": []
  },
  {
   "cell_type": "markdown",
   "id": "88419740",
   "metadata": {},
   "source": [
    "<p align=\"justify\"> 5 - Crie uma função que receba três listas como argumentos e as junte em um dicionário. A função deve retornar o dicionário final. Execute a função utilizando as três listas abaixo, apresentando o resultado final em um print. Lembre-se, cada elemento da lista deve estar associado ao seu equivalente dentro do dicionário (i.e. \"Alice\" com \"Jonhson\" com \"alice@example.com\"). Dica: você vai precisar da função <a href =https://docs.python.org/3/library/functions.html?highlight=zip#zip><i>zip</i></a> e revisar um pouco mais de <a href = https://docs.python.org/3/tutorial/datastructures.html?highlight=dictionaries#dictionaries> dicionários </a>."
   ]
  },
  {
   "cell_type": "code",
   "execution_count": null,
   "id": "131cd909",
   "metadata": {},
   "outputs": [],
   "source": [
    "primeiros_nomes = [\"Alice\", \"Bob\", \"Carol\", \"David\", \"Eve\"]\n",
    "ultimos_nomes = [\"Johnson\", \"Smith\", \"Williams\", \"Brown\", \"Davis\"]\n",
    "emails = [\"alice@example.com\", \"bob@example.com\", \"carol@example.com\", \"david@example.com\", \"eve@example.com\"]\n",
    "\n",
    "\n"
   ]
  },
  {
   "cell_type": "markdown",
   "id": "f88addf4",
   "metadata": {},
   "source": [
    "<p align=\"justify\"> 6 - Abaixo você encontra uma lista com temperaturas em graus Celsius. Crie uma função anônima que converta cada temperatura para Fahrenheit. Dica: para conseguir realizar este exercício, você deve criar sua função <i>lambda</i>, dentro de uma função.\n",
    "\n",
    "<p align=\"justify\"> Fórmula: F = (C * 1,8) + 32."
   ]
  },
  {
   "cell_type": "code",
   "execution_count": null,
   "id": "4cf5e26a",
   "metadata": {},
   "outputs": [],
   "source": [
    "Celsius = [35, 25, 17, 28.5]\n"
   ]
  },
  {
   "cell_type": "markdown",
   "id": "6c9cff9f",
   "metadata": {},
   "source": [
    "<p align=\"justify\"> 7 - Crie uma função que receba uma lista de números. Com essa lista, a função deve calcular média, moda, mediana e desvio padrão. Ao fim, deve imprimir cada um desses valores em linhas separadas. Não esqueça de conferir a <a href = https://docs.python.org/3/library/statistics.html?highlight=mean#statistics.mean> dica </a>."
   ]
  },
  {
   "cell_type": "code",
   "execution_count": null,
   "id": "82a0621b",
   "metadata": {},
   "outputs": [],
   "source": []
  },
  {
   "cell_type": "markdown",
   "id": "8ddc16ab",
   "metadata": {},
   "source": [
    "<p align=\"justify\"> 8 - Calculadora Simples: Crie uma calculadora simples com funções para realizar operações de adição, subtração, multiplicação e divisão. A função principal deve pedir ao usuário qual operação deseja realizar e, em seguida, solicitar os números para a operação."
   ]
  },
  {
   "cell_type": "code",
   "execution_count": null,
   "id": "9b7cab0b",
   "metadata": {},
   "outputs": [],
   "source": []
  },
  {
   "cell_type": "markdown",
   "id": "28292461",
   "metadata": {},
   "source": [
    "<p align=\"justify\"> Antes de ir aos próximos exercícios, explore a documentação própria do <i>Numpy</i> (<a href = https://numpy.org/doc/stable/reference/routines.html> Link</a>)."
   ]
  },
  {
   "cell_type": "markdown",
   "id": "a0ec7ab6",
   "metadata": {},
   "source": [
    "9 - Crie um array <i>NumPy</i> que contenha os primeiros 10 números pares. Imprima o array."
   ]
  },
  {
   "cell_type": "code",
   "execution_count": null,
   "id": "a10fa05d",
   "metadata": {},
   "outputs": [],
   "source": []
  },
  {
   "cell_type": "markdown",
   "id": "0b3578f2",
   "metadata": {},
   "source": [
    "10 - Crie uma matriz identidade 4x4 usando <i>NumPy</i>. Imprima o array."
   ]
  },
  {
   "cell_type": "code",
   "execution_count": null,
   "id": "9b82bf83",
   "metadata": {},
   "outputs": [],
   "source": []
  },
  {
   "cell_type": "markdown",
   "id": "ba473fa3",
   "metadata": {},
   "source": [
    "<p align=\"justify\"> 11 - Utilizando um for loop, multiplique os valores da primeira lista pela segunda lista. Imprima o resultado final. Dica: Você pode precisar da função range() e len() vistas na aula anterior."
   ]
  },
  {
   "cell_type": "code",
   "execution_count": null,
   "id": "95c321c0",
   "metadata": {},
   "outputs": [],
   "source": [
    "lista1 = [7,6,1,2,54,25]\n",
    "lista2 = [1,2,3,4,5,6]"
   ]
  },
  {
   "cell_type": "markdown",
   "id": "80edeb36",
   "metadata": {},
   "source": [
    "12 - Transforme as listas 1 e 2 em arrays e multiplique seus valores."
   ]
  },
  {
   "cell_type": "code",
   "execution_count": null,
   "id": "45dc0d2c",
   "metadata": {},
   "outputs": [],
   "source": []
  },
  {
   "cell_type": "markdown",
   "id": "969e5df4",
   "metadata": {},
   "source": [
    "13 - Pegue apenas os valores pares da seguinte lista utilizando um for loop."
   ]
  },
  {
   "cell_type": "code",
   "execution_count": null,
   "id": "f7f9bd7e",
   "metadata": {},
   "outputs": [],
   "source": [
    "\n",
    "lista = list(range(0,100))\n"
   ]
  },
  {
   "cell_type": "markdown",
   "id": "9153927f",
   "metadata": {},
   "source": [
    "14 - Transforme a lista do exercício 5 em um array e pegue os números pares."
   ]
  },
  {
   "cell_type": "code",
   "execution_count": null,
   "id": "6d249a76",
   "metadata": {},
   "outputs": [],
   "source": []
  },
  {
   "cell_type": "markdown",
   "id": "4f2d83a9",
   "metadata": {},
   "source": [
    "<p align=\"justify\"> 15 - Abaixo estão duas listas: uma com o nome de candidatos (inventados) e outra com valores <i>dummy</i> (ou binários) que informam se o candidato possui ou não twitter. Usando <i>NumPy</i> arrays, filtre os candidatos que <i>possuem</i> twitter."
   ]
  },
  {
   "cell_type": "code",
   "execution_count": null,
   "id": "f6d3f625",
   "metadata": {},
   "outputs": [],
   "source": [
    "import random\n",
    "\n",
    "nomes = [\"Alice\", \"Bob\", \"Carlos\", \"David\", \"Emily\", \"Fernanda\", \"Gabriel\", \"Hannah\", \"Isaac\", \"Julia\",\n",
    "         \"Kevin\", \"Larissa\", \"Mateus\", \"Natalia\", \"Oliver\", \"Paula\", \"Quincy\", \"Renata\", \"Samuel\", \"Tatiana\"]\n",
    "\n",
    "twitter = [random.choice([0, 1]) for _ in range(20)]"
   ]
  },
  {
   "cell_type": "markdown",
   "id": "4a62230c",
   "metadata": {},
   "source": [
    "16 - Escreva um programa NumPy para criar uma matriz 5x5 com valores aleatórios e calcule o exponencial de cada elemento. Confira a [dica](https://numpy.org/doc/stable/reference/routines.math.html#mathematical-functions) antes de iniciar o exercício."
   ]
  },
  {
   "cell_type": "code",
   "execution_count": null,
   "id": "61d2d593",
   "metadata": {},
   "outputs": [],
   "source": []
  },
  {
   "cell_type": "markdown",
   "id": "3a8048ec",
   "metadata": {},
   "source": [
    "17 - Crie uma matriz (array) 3x2 e outra 2x3, sem utilizar o <i>random</i>, e multiplique-as.\n",
    "\n",
    "Dica: Não dá para usar o operador \"*\"."
   ]
  },
  {
   "cell_type": "code",
   "execution_count": null,
   "id": "67678b40",
   "metadata": {},
   "outputs": [],
   "source": []
  },
  {
   "cell_type": "markdown",
   "id": "8eca2ce7",
   "metadata": {},
   "source": [
    "18 - Transponha a segunda matriz do exercício 9 e refaça a operação proposta."
   ]
  },
  {
   "cell_type": "code",
   "execution_count": null,
   "id": "2fb2890f",
   "metadata": {},
   "outputs": [],
   "source": []
  },
  {
   "cell_type": "markdown",
   "id": "aa6d5320",
   "metadata": {},
   "source": [
    "19 - Imprima o número 50 do seguinte array."
   ]
  },
  {
   "cell_type": "code",
   "execution_count": null,
   "id": "4cd9e056",
   "metadata": {},
   "outputs": [],
   "source": [
    "arr = np.array([[10, 20, 30, 40], [50, 60, 70, 80]])"
   ]
  },
  {
   "cell_type": "markdown",
   "id": "2fddd9a7",
   "metadata": {},
   "source": [
    "20 - Crie uma matriz 3x3 de números e acesse o elemento da segunda linha e terceira coluna."
   ]
  },
  {
   "cell_type": "code",
   "execution_count": null,
   "id": "dbc5f1d8",
   "metadata": {},
   "outputs": [],
   "source": []
  },
  {
   "cell_type": "markdown",
   "id": "58a137b0",
   "metadata": {},
   "source": [
    "21 - Crie uma matriz 4x4 de números e use fatiamento para obter uma submatriz 2x2 da parte superior esquerda."
   ]
  },
  {
   "cell_type": "code",
   "execution_count": null,
   "id": "7c97fa1b",
   "metadata": {},
   "outputs": [],
   "source": []
  },
  {
   "cell_type": "markdown",
   "id": "24a3d0d3",
   "metadata": {},
   "source": [
    "<p align=\"justify\"> 22 - Crie uma função que recebe um array de strings que contém os usuários de twitter de deputados federais, remova o prefixo \"@\" e deixe tudo minúsculo. Depois, a aplique na <i>lista_twitters</i>.\n",
    "\n",
    "Confira a [dica](https://numpy.org/doc/stable/reference/routines.char.html)."
   ]
  },
  {
   "cell_type": "code",
   "execution_count": null,
   "id": "86e641d3",
   "metadata": {},
   "outputs": [],
   "source": [
    "# Lista de nomes de usuário no twitter\n",
    "\n",
    "lista_twitters = nomes_com_arroba = [\"@Ana\", \"@Pedro\", \"@Isabel\", \"@João\",\n",
    "                                     \"@Mariana\", \"@Rafael\", \"@Beatriz\", \"@Lucas\",\n",
    "                                     \"@Carolina\", \"@Gustavo\", \"@Lívia\", \"@André\",\n",
    "                                     \"@Júlia\", \"@Matheus\", \"@Laura\", \"@Gabriel\",\n",
    "                                     \"@Amanda\", \"@Daniel\", \"@Clara\", \"@Felipe\"]\n"
   ]
  }
 ],
 "metadata": {
  "kernelspec": {
   "display_name": "base",
   "language": "python",
   "name": "python3"
  },
  "language_info": {
   "codemirror_mode": {
    "name": "ipython",
    "version": 3
   },
   "file_extension": ".py",
   "mimetype": "text/x-python",
   "name": "python",
   "nbconvert_exporter": "python",
   "pygments_lexer": "ipython3",
   "version": "3.12.7"
  }
 },
 "nbformat": 4,
 "nbformat_minor": 5
}
