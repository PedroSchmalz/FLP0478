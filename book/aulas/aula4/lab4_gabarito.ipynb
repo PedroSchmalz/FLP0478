{
 "cells": [
  {
   "cell_type": "markdown",
   "id": "dc02567a",
   "metadata": {},
   "source": [
    "# Laboratório 4 - Gabarito\n",
    "\n",
    "Nota: Substitua os seus nomes e informações abaixo antes do envio da atividade. A atividade deve ser enviada no `Moodle` da disciplina, e o arquivo **DEVE** estar no formato `.ipynb`.\n",
    "\n",
    "[Nome Aluno 1] / [NUSP Aluno 1] / [Vespertino/Noturno]\n",
    "\n",
    "[Nome Aluno 2] / [NUSP Aluno 2] / [Vespertino/Noturno]\n"
   ]
  },
  {
   "cell_type": "markdown",
   "id": "77c0570a",
   "metadata": {},
   "source": [
    "### Exercícios"
   ]
  },
  {
   "cell_type": "markdown",
   "id": "172dc4d8",
   "metadata": {},
   "source": [
    "Para os exercícios, sempre é bom consultar a documentação específica do *Pandas* sobre [*Series*](https://pandas.pydata.org/docs/reference/series.html)."
   ]
  },
  {
   "cell_type": "markdown",
   "id": "ccf33c31",
   "metadata": {},
   "source": [
    "<p align=\"justify\"> 1 - Filtragem com <i>Series</i> - Crie uma <i>Series</i> com números inteiros. Em seguida, crie uma nova <i>Series</i> que contenha apenas os valores maiores que 50 da primeira <i>Series</i>."
   ]
  },
  {
   "cell_type": "code",
   "execution_count": 171,
   "id": "dfb3ae24",
   "metadata": {},
   "outputs": [],
   "source": [
    "import pandas as pd\n"
   ]
  },
  {
   "cell_type": "code",
   "execution_count": 172,
   "id": "e8e90e4d",
   "metadata": {},
   "outputs": [
    {
     "name": "stdout",
     "output_type": "stream",
     "text": [
      "Série original:\n",
      "0    45\n",
      "1    60\n",
      "2    75\n",
      "3    30\n",
      "4    90\n",
      "5    55\n",
      "6    70\n",
      "dtype: int64\n",
      "\n",
      "Valores maiores que 50:\n",
      "1    60\n",
      "2    75\n",
      "4    90\n",
      "5    55\n",
      "6    70\n",
      "dtype: int64\n"
     ]
    }
   ],
   "source": [
    "# Criando uma Series com números inteiros aleatórios\n",
    "data = [45, 60, 75, 30, 90, 55, 70]\n",
    "series = pd.Series(data)\n",
    "\n",
    "# Filtrando valores maiores que 50\n",
    "filtrados = series[series > 50]\n",
    "\n",
    "print(\"Série original:\")\n",
    "print(series)\n",
    "print(\"\\nValores maiores que 50:\")\n",
    "print(filtrados)"
   ]
  },
  {
   "cell_type": "markdown",
   "id": "2c87c219",
   "metadata": {},
   "source": [
    "<p align=\"justify\"> 2 - Operações com <i>Series</i> - Primeiro, vamos criar duas <i>Series</i> com dados numéricos:"
   ]
  },
  {
   "cell_type": "code",
   "execution_count": 173,
   "id": "9c647353",
   "metadata": {},
   "outputs": [],
   "source": [
    "# Criando as duas Series\n",
    "serie1 = pd.Series([10, 20, 30, 40, 50])\n",
    "serie2 = pd.Series([5, 15, 25, 35, 45])"
   ]
  },
  {
   "cell_type": "markdown",
   "id": "47a69666",
   "metadata": {},
   "source": [
    "a) Some as duas <i>Series</i>:"
   ]
  },
  {
   "cell_type": "code",
   "execution_count": 174,
   "id": "8ab1f899",
   "metadata": {},
   "outputs": [
    {
     "name": "stdout",
     "output_type": "stream",
     "text": [
      "Soma das Series:\n",
      "0    15\n",
      "1    35\n",
      "2    55\n",
      "3    75\n",
      "4    95\n",
      "dtype: int64\n"
     ]
    }
   ],
   "source": [
    "soma = serie1 + serie2\n",
    "print(\"Soma das Series:\")\n",
    "print(soma)"
   ]
  },
  {
   "cell_type": "markdown",
   "id": "0c0508c7",
   "metadata": {},
   "source": [
    "b) Multiplique as <i>Series</i> uma pela outra:"
   ]
  },
  {
   "cell_type": "code",
   "execution_count": 175,
   "id": "4a30df19",
   "metadata": {},
   "outputs": [
    {
     "name": "stdout",
     "output_type": "stream",
     "text": [
      "Multplicação das Series: \n",
      "0      50\n",
      "1     300\n",
      "2     750\n",
      "3    1400\n",
      "4    2250\n",
      "dtype: int64\n"
     ]
    }
   ],
   "source": [
    "mult = serie1 * serie2\n",
    "\n",
    "print(\"Multplicação das Series: \")\n",
    "print(mult)"
   ]
  },
  {
   "cell_type": "markdown",
   "id": "883c45cc",
   "metadata": {},
   "source": [
    "c) Encontre o valor máximo nas duas <i>Series</i>:"
   ]
  },
  {
   "cell_type": "code",
   "execution_count": 176,
   "id": "558d119d",
   "metadata": {},
   "outputs": [
    {
     "name": "stdout",
     "output_type": "stream",
     "text": [
      "50\n",
      "45\n"
     ]
    }
   ],
   "source": [
    "print(serie1.max())\n",
    "print(serie2.max())"
   ]
  },
  {
   "cell_type": "markdown",
   "id": "33430eef",
   "metadata": {},
   "source": [
    "d) Calcule a média dos valores nas duas <i>Series</i>:"
   ]
  },
  {
   "cell_type": "code",
   "execution_count": 177,
   "id": "8717ce43",
   "metadata": {},
   "outputs": [
    {
     "name": "stdout",
     "output_type": "stream",
     "text": [
      "Média de Serie1: 30.0\n",
      "Média de Serie2: 25.0\n"
     ]
    }
   ],
   "source": [
    "media_serie1 = serie1.mean()\n",
    "media_serie2 = serie2.mean()\n",
    "\n",
    "print(\"Média de Serie1:\", media_serie1)\n",
    "print(\"Média de Serie2:\", media_serie2)"
   ]
  },
  {
   "cell_type": "markdown",
   "id": "d0692341",
   "metadata": {},
   "source": [
    "<p align=\"justify\"> 3 - Crie uma <i>Series</i> com nomes de cidades e seus respectivos números de habitantes (não precisam ser dados reais). Classifique a <i>Series</i> em ordem decrescente com base no número de habitantes."
   ]
  },
  {
   "cell_type": "code",
   "execution_count": 178,
   "id": "9831f92a",
   "metadata": {},
   "outputs": [
    {
     "name": "stdout",
     "output_type": "stream",
     "text": [
      "Série original:\n",
      "Cidade A    750000\n",
      "Cidade B    610000\n",
      "Cidade C    850000\n",
      "Cidade D    420000\n",
      "Cidade E    320000\n",
      "dtype: int64\n",
      "\n",
      "Série classificada em ordem decrescente:\n",
      "Cidade C    850000\n",
      "Cidade A    750000\n",
      "Cidade B    610000\n",
      "Cidade D    420000\n",
      "Cidade E    320000\n",
      "dtype: int64\n"
     ]
    }
   ],
   "source": [
    "# Criando uma Series com nomes de cidades e seus respectivos números de habitantes\n",
    "data = {'Cidade A': 750000, 'Cidade B': 610000, 'Cidade C': 850000, 'Cidade D': 420000, 'Cidade E': 320000}\n",
    "series = pd.Series(data)\n",
    "\n",
    "# Classificando a Series em ordem decrescente com base no número de habitantes\n",
    "series_ordenada = series.sort_values(ascending=False)\n",
    "\n",
    "print(\"Série original:\")\n",
    "print(series)\n",
    "print(\"\\nSérie classificada em ordem decrescente:\")\n",
    "print(series_ordenada)"
   ]
  },
  {
   "cell_type": "markdown",
   "id": "81764413",
   "metadata": {},
   "source": [
    "<p align=\"justify\">4 - Crie duas <i>Series</i> com dados de sua escolha. Concatene as duas <i>Series</i> em uma única <i>Series</i>. Certifique-se de que os índices sejam únicos após a concatenação."
   ]
  },
  {
   "cell_type": "code",
   "execution_count": 179,
   "id": "44b57f4c",
   "metadata": {},
   "outputs": [
    {
     "name": "stdout",
     "output_type": "stream",
     "text": [
      "Primeira Series:\n",
      "A    1\n",
      "B    2\n",
      "C    3\n",
      "dtype: int64\n",
      "\n",
      "Segunda Series:\n",
      "D    4\n",
      "E    5\n",
      "F    6\n",
      "dtype: int64\n",
      "\n",
      "Series Concatenada:\n",
      "A    1\n",
      "B    2\n",
      "C    3\n",
      "D    4\n",
      "E    5\n",
      "F    6\n",
      "dtype: int64\n"
     ]
    }
   ],
   "source": [
    "# Criando duas Series com dados de sua escolha\n",
    "serie1 = pd.Series([1, 2, 3], index=['A', 'B', 'C'])\n",
    "serie2 = pd.Series([4, 5, 6], index=['D', 'E', 'F'])\n",
    "\n",
    "# Concatenando as duas Series em uma única Series\n",
    "serie_concatenada = pd.concat([serie1, serie2])\n",
    "\n",
    "print(\"Primeira Series:\")\n",
    "print(serie1)\n",
    "print(\"\\nSegunda Series:\")\n",
    "print(serie2)\n",
    "print(\"\\nSeries Concatenada:\")\n",
    "print(serie_concatenada)"
   ]
  },
  {
   "cell_type": "markdown",
   "id": "f4e8a794",
   "metadata": {},
   "source": [
    "<p align=\"justify\">5 - No seguinte dicionário estão duas informações: o nome de políticos e a quantidade de tweets que fizeram sobre as vacinas de Covid-19 no período de janeiro de 2020 a dezembro de 2021.\n",
    "\n",
    "<p align=\"justify\"> Converta esse dicionário em uma <i>Serie</i> e dê as seguintes informações: qual a média de tweets, o desvio padrão e quem tweetou mais."
   ]
  },
  {
   "cell_type": "code",
   "execution_count": 180,
   "id": "28ac4810",
   "metadata": {},
   "outputs": [
    {
     "name": "stdout",
     "output_type": "stream",
     "text": [
      "Série de Políticos e Números de Tweets:\n",
      "Politico1     181\n",
      "Politico2      44\n",
      "Politico3     235\n",
      "Politico4     199\n",
      "Politico5     299\n",
      "Politico6     493\n",
      "Politico7     141\n",
      "Politico8      66\n",
      "Politico9     188\n",
      "Politico10    310\n",
      "Politico11    180\n",
      "Politico12    223\n",
      "Politico13    168\n",
      "Politico14    263\n",
      "Politico15     31\n",
      "Politico16      5\n",
      "Politico17    110\n",
      "Politico18     75\n",
      "Politico19    409\n",
      "Politico20    319\n",
      "dtype: int64\n",
      "\n",
      "Média de Tweets: 196.95\n",
      "Desvio Padrão dos Tweets: 127.55658187231018\n",
      "Político que Tweetou Mais: Politico6 com 493 tweets.\n"
     ]
    }
   ],
   "source": [
    "import random\n",
    "\n",
    "# Criando o dicionário com políticos e números de tweets\n",
    "politicos = {\n",
    "    \"Politico1\": random.randint(0, 500),\n",
    "    \"Politico2\": random.randint(0, 500),\n",
    "    \"Politico3\": random.randint(0, 500),\n",
    "    \"Politico4\": random.randint(0, 500),\n",
    "    \"Politico5\": random.randint(0, 500),\n",
    "    \"Politico6\": random.randint(0, 500),\n",
    "    \"Politico7\": random.randint(0, 500),\n",
    "    \"Politico8\": random.randint(0, 500),\n",
    "    \"Politico9\": random.randint(0, 500),\n",
    "    \"Politico10\": random.randint(0, 500),\n",
    "    \"Politico11\": random.randint(0, 500),\n",
    "    \"Politico12\": random.randint(0, 500),\n",
    "    \"Politico13\": random.randint(0, 500),\n",
    "    \"Politico14\": random.randint(0, 500),\n",
    "    \"Politico15\": random.randint(0, 500),\n",
    "    \"Politico16\": random.randint(0, 500),\n",
    "    \"Politico17\": random.randint(0, 500),\n",
    "    \"Politico18\": random.randint(0, 500),\n",
    "    \"Politico19\": random.randint(0, 500),\n",
    "    \"Politico20\": random.randint(0, 500)\n",
    "}\n",
    "\n",
    "# Convertendo o dicionário em uma Series\n",
    "serie_politicos = pd.Series(politicos)\n",
    "\n",
    "# Calculando a média de tweets\n",
    "media_tweets = serie_politicos.mean()\n",
    "\n",
    "# Calculando o desvio padrão dos tweets\n",
    "desvio_padrao_tweets = serie_politicos.std()\n",
    "\n",
    "# Encontrando o político que tweetou mais\n",
    "politico_mais_tweets = serie_politicos.idxmax()\n",
    "\n",
    "print(\"Série de Políticos e Números de Tweets:\")\n",
    "print(serie_politicos)\n",
    "print(\"\\nMédia de Tweets:\", media_tweets)\n",
    "print(\"Desvio Padrão dos Tweets:\", desvio_padrao_tweets)\n",
    "print(\"Político que Tweetou Mais:\", politico_mais_tweets, \"com\", serie_politicos[politico_mais_tweets], \"tweets.\")\n",
    "\n",
    "\n",
    "\n",
    "\n",
    "\n"
   ]
  },
  {
   "cell_type": "markdown",
   "id": "a1cb91c7",
   "metadata": {},
   "source": [
    "<p align=\"justify\"> 6 - Faça uma função que recebe um dicionário como argumento e retorne esse dicionário como <i>Serie</i>, junto de informações descritivas como média, moda, mediana."
   ]
  },
  {
   "cell_type": "code",
   "execution_count": 181,
   "id": "8746a382",
   "metadata": {},
   "outputs": [
    {
     "name": "stdout",
     "output_type": "stream",
     "text": [
      "Informações Descritivas:\n",
      "Serie:\n",
      "A    10\n",
      "B    20\n",
      "C    30\n",
      "D    20\n",
      "E    10\n",
      "dtype: int64\n",
      "\n",
      "Média: 18.0\n",
      "Moda: [10, 20]\n",
      "Mediana: 20.0\n"
     ]
    }
   ],
   "source": [
    "def analisar_dicionario(dic):\n",
    "    # Convertendo o dicionário em uma Series\n",
    "    serie = pd.Series(dic)\n",
    "\n",
    "    # Calculando as estatísticas descritivas\n",
    "    media = serie.mean()\n",
    "    moda = serie.mode().to_list()  # Pode haver mais de uma moda\n",
    "    mediana = serie.median()\n",
    "\n",
    "    # Criando um dicionário com as informações\n",
    "    informacoes = {\n",
    "        \"Serie\": serie,\n",
    "        \"Média\": media,\n",
    "        \"Moda\": moda,\n",
    "        \"Mediana\": mediana\n",
    "    }\n",
    "\n",
    "    return informacoes\n",
    "\n",
    "# Exemplo de uso da função com um dicionário fictício\n",
    "dicionario_exemplo = {\n",
    "    \"A\": 10,\n",
    "    \"B\": 20,\n",
    "    \"C\": 30,\n",
    "    \"D\": 20,\n",
    "    \"E\": 10\n",
    "}\n",
    "\n",
    "resultado = analisar_dicionario(dicionario_exemplo)\n",
    "print(\"Informações Descritivas:\")\n",
    "for chave, valor in resultado.items():\n",
    "    if chave == \"Serie\":\n",
    "        print(f\"{chave}:\\n{valor}\\n\")\n",
    "    else:\n",
    "        print(f\"{chave}: {valor}\")"
   ]
  },
  {
   "cell_type": "markdown",
   "id": "477527e4",
   "metadata": {},
   "source": [
    "Antes de ir aos próximos exercícios, explore a documentação própria do Pandas ([Link](https://pandas.pydata.org/docs/reference/api/pandas.DataFrame.html)) sobre <i>Data Frames</i>."
   ]
  },
  {
   "cell_type": "markdown",
   "id": "21a10d11",
   "metadata": {},
   "source": [
    "<p align=\"justify\">7 - Considere o seguinte <i>Data Frame</i>:"
   ]
  },
  {
   "cell_type": "code",
   "execution_count": 182,
   "id": "f5661fed",
   "metadata": {},
   "outputs": [
    {
     "data": {
      "text/html": [
       "<div>\n",
       "<style scoped>\n",
       "    .dataframe tbody tr th:only-of-type {\n",
       "        vertical-align: middle;\n",
       "    }\n",
       "\n",
       "    .dataframe tbody tr th {\n",
       "        vertical-align: top;\n",
       "    }\n",
       "\n",
       "    .dataframe thead th {\n",
       "        text-align: right;\n",
       "    }\n",
       "</style>\n",
       "<table border=\"1\" class=\"dataframe\">\n",
       "  <thead>\n",
       "    <tr style=\"text-align: right;\">\n",
       "      <th></th>\n",
       "      <th>Nome</th>\n",
       "      <th>Idade</th>\n",
       "      <th>Cidade</th>\n",
       "    </tr>\n",
       "  </thead>\n",
       "  <tbody>\n",
       "    <tr>\n",
       "      <th>0</th>\n",
       "      <td>Alice</td>\n",
       "      <td>25</td>\n",
       "      <td>São Paulo</td>\n",
       "    </tr>\n",
       "    <tr>\n",
       "      <th>1</th>\n",
       "      <td>Bob</td>\n",
       "      <td>30</td>\n",
       "      <td>Rio de Janeiro</td>\n",
       "    </tr>\n",
       "    <tr>\n",
       "      <th>2</th>\n",
       "      <td>Carol</td>\n",
       "      <td>22</td>\n",
       "      <td>Belo Horizonte</td>\n",
       "    </tr>\n",
       "    <tr>\n",
       "      <th>3</th>\n",
       "      <td>David</td>\n",
       "      <td>35</td>\n",
       "      <td>São Paulo</td>\n",
       "    </tr>\n",
       "    <tr>\n",
       "      <th>4</th>\n",
       "      <td>Eva</td>\n",
       "      <td>28</td>\n",
       "      <td>Rio de Janeiro</td>\n",
       "    </tr>\n",
       "  </tbody>\n",
       "</table>\n",
       "</div>"
      ],
      "text/plain": [
       "    Nome  Idade          Cidade\n",
       "0  Alice     25       São Paulo\n",
       "1    Bob     30  Rio de Janeiro\n",
       "2  Carol     22  Belo Horizonte\n",
       "3  David     35       São Paulo\n",
       "4    Eva     28  Rio de Janeiro"
      ]
     },
     "execution_count": 182,
     "metadata": {},
     "output_type": "execute_result"
    }
   ],
   "source": [
    "dados = {\n",
    "    'Nome': ['Alice', 'Bob', 'Carol', 'David', 'Eva'],\n",
    "    'Idade': [25, 30, 22, 35, 28],\n",
    "    'Cidade': ['São Paulo', 'Rio de Janeiro', 'Belo Horizonte', 'São Paulo', 'Rio de Janeiro']\n",
    "}\n",
    "\n",
    "df = pd.DataFrame(dados)\n",
    "\n",
    "df"
   ]
  },
  {
   "cell_type": "markdown",
   "id": "1016b5cc",
   "metadata": {},
   "source": [
    "a) Selecione a coluna 'Nome':\n"
   ]
  },
  {
   "cell_type": "code",
   "execution_count": 183,
   "id": "637d9e95",
   "metadata": {},
   "outputs": [
    {
     "name": "stdout",
     "output_type": "stream",
     "text": [
      "0    Alice\n",
      "1      Bob\n",
      "2    Carol\n",
      "3    David\n",
      "4      Eva\n",
      "Name: Nome, dtype: object\n"
     ]
    }
   ],
   "source": [
    "nomes = df['Nome']\n",
    "print(nomes)"
   ]
  },
  {
   "cell_type": "markdown",
   "id": "91904a89",
   "metadata": {},
   "source": [
    "b) Selecione a primeira linha do <i>Data Frame</i>:\n"
   ]
  },
  {
   "cell_type": "code",
   "execution_count": 184,
   "id": "36eee13d",
   "metadata": {},
   "outputs": [
    {
     "name": "stdout",
     "output_type": "stream",
     "text": [
      "Nome          Alice\n",
      "Idade            25\n",
      "Cidade    São Paulo\n",
      "Name: 0, dtype: object\n"
     ]
    }
   ],
   "source": [
    "primeira_linha = df.iloc[0]\n",
    "print(primeira_linha)"
   ]
  },
  {
   "cell_type": "markdown",
   "id": "be88e68a",
   "metadata": {},
   "source": [
    "c) Selecione o valor 'Bob' da coluna 'Nome':\n"
   ]
  },
  {
   "cell_type": "code",
   "execution_count": 185,
   "id": "5aad8220",
   "metadata": {},
   "outputs": [
    {
     "name": "stdout",
     "output_type": "stream",
     "text": [
      "Bob\n"
     ]
    }
   ],
   "source": [
    "nome_bob = df.loc[df['Nome'] == 'Bob', 'Nome'].values[0]\n",
    "print(nome_bob)"
   ]
  },
  {
   "cell_type": "markdown",
   "id": "dc8c90ea",
   "metadata": {},
   "source": [
    "d) Selecione as linhas onde a idade é maior que 28:"
   ]
  },
  {
   "cell_type": "code",
   "execution_count": 186,
   "id": "3976ec48",
   "metadata": {},
   "outputs": [
    {
     "name": "stdout",
     "output_type": "stream",
     "text": [
      "    Nome  Idade          Cidade\n",
      "1    Bob     30  Rio de Janeiro\n",
      "3  David     35       São Paulo\n"
     ]
    }
   ],
   "source": [
    "idade_maior_que_28 = df[df['Idade'] > 28]\n",
    "print(idade_maior_que_28)"
   ]
  },
  {
   "cell_type": "markdown",
   "id": "99cb582d",
   "metadata": {},
   "source": [
    "<p align=\"justify\">e) Selecione as linhas onde a idade está entre 25 e 30 anos (inclusive) e a cidade é 'São Paulo':"
   ]
  },
  {
   "cell_type": "code",
   "execution_count": 187,
   "id": "6f7dde7f",
   "metadata": {},
   "outputs": [
    {
     "name": "stdout",
     "output_type": "stream",
     "text": [
      "    Nome  Idade     Cidade\n",
      "0  Alice     25  São Paulo\n"
     ]
    }
   ],
   "source": [
    "filtro = (df['Idade'] >= 25) & (df['Idade'] <= 30) & (df['Cidade'] == 'São Paulo')\n",
    "resultados = df[filtro]\n",
    "print(resultados)"
   ]
  },
  {
   "cell_type": "markdown",
   "id": "364cde69",
   "metadata": {},
   "source": [
    "<p align=\"justify\">f) Selecione as linhas onde o nome começa com a letra 'A' ou a idade é menor que 25:\n",
    "\n",
    "<b>Dica:</b> Você vai precisar do método de strings 'startswith()' ([Link](https://docs.python.org/3/library/stdtypes.html#str.startswith))."
   ]
  },
  {
   "cell_type": "code",
   "execution_count": 188,
   "id": "d0bbcd00",
   "metadata": {},
   "outputs": [
    {
     "name": "stdout",
     "output_type": "stream",
     "text": [
      "    Nome  Idade          Cidade\n",
      "0  Alice     25       São Paulo\n",
      "2  Carol     22  Belo Horizonte\n"
     ]
    }
   ],
   "source": [
    "filtro = (df['Nome'].str.startswith('A')) | (df['Idade'] < 25)\n",
    "resultados = df[filtro]\n",
    "print(resultados)"
   ]
  },
  {
   "cell_type": "markdown",
   "id": "e331aaf3",
   "metadata": {},
   "source": [
    "<p align=\"justify\">8 - Agora vamos exercitar o uso do <i>loc</i>. Considere o seguinte <i>Data Frame</i>:"
   ]
  },
  {
   "cell_type": "code",
   "execution_count": 189,
   "id": "eef7232d",
   "metadata": {},
   "outputs": [],
   "source": [
    "dados = {\n",
    "    'Nome': ['Alice', 'Bob', 'Carol', 'David', 'Eva'],\n",
    "    'Idade': [25, 30, 22, 35, 28],\n",
    "    'Cidade': ['São Paulo', 'Rio de Janeiro', 'Belo Horizonte', 'São Paulo', 'Rio de Janeiro']\n",
    "}\n",
    "\n",
    "df = pd.DataFrame(dados)"
   ]
  },
  {
   "cell_type": "markdown",
   "id": "579ebe25",
   "metadata": {},
   "source": [
    "<p align=\"justify\">a) Use <i>loc</i> para selecionar todas as linhas, mas só as colunas 'Nome' e 'Idade':"
   ]
  },
  {
   "cell_type": "code",
   "execution_count": 190,
   "id": "67fd6615",
   "metadata": {},
   "outputs": [
    {
     "name": "stdout",
     "output_type": "stream",
     "text": [
      "    Nome  Idade\n",
      "0  Alice     25\n",
      "1    Bob     30\n",
      "2  Carol     22\n",
      "3  David     35\n",
      "4    Eva     28\n"
     ]
    }
   ],
   "source": [
    "selecao_a = df.loc[:, ['Nome', 'Idade']]\n",
    "print(selecao_a)"
   ]
  },
  {
   "cell_type": "markdown",
   "id": "9ee837fd",
   "metadata": {},
   "source": [
    "<p align=\"justify\">b) Use <i>loc</i> para selecionar a linha com o nome 'David', mas com todas as colunas:"
   ]
  },
  {
   "cell_type": "code",
   "execution_count": 191,
   "id": "a99e70fb",
   "metadata": {},
   "outputs": [
    {
     "name": "stdout",
     "output_type": "stream",
     "text": [
      "    Nome  Idade     Cidade\n",
      "3  David     35  São Paulo\n"
     ]
    }
   ],
   "source": [
    "selecao_b = df.loc[df['Nome'] == 'David', :]\n",
    "print(selecao_b)"
   ]
  },
  {
   "cell_type": "markdown",
   "id": "2860521a",
   "metadata": {},
   "source": [
    "<p align=\"justify\">c) Por fim, use <i>loc</i> para selecionar as linhas onde a idade é maior que 28 e todas as colunas:"
   ]
  },
  {
   "cell_type": "code",
   "execution_count": 192,
   "id": "41b8f899",
   "metadata": {},
   "outputs": [
    {
     "name": "stdout",
     "output_type": "stream",
     "text": [
      "    Nome  Idade          Cidade\n",
      "1    Bob     30  Rio de Janeiro\n",
      "3  David     35       São Paulo\n"
     ]
    }
   ],
   "source": [
    "selecao_c = df.loc[df['Idade'] > 28, :]\n",
    "print(selecao_c)"
   ]
  },
  {
   "cell_type": "markdown",
   "id": "692407a3",
   "metadata": {},
   "source": [
    "<p align=\"justify\">9 - Vamos trabalhar um pouco o <i>iloc</i>. Considere o mesmo <i>Data Frame</i> do exercício 2:"
   ]
  },
  {
   "cell_type": "markdown",
   "id": "4be01e21",
   "metadata": {},
   "source": [
    "<p align=\"justify\">a)  Use <i>iloc</i> para selecionar a primeira linha e todas as colunas:"
   ]
  },
  {
   "cell_type": "code",
   "execution_count": 193,
   "id": "25772ad2",
   "metadata": {},
   "outputs": [
    {
     "name": "stdout",
     "output_type": "stream",
     "text": [
      "Nome          Alice\n",
      "Idade            25\n",
      "Cidade    São Paulo\n",
      "Name: 0, dtype: object\n"
     ]
    }
   ],
   "source": [
    "selecao_a = df.iloc[0, :]\n",
    "print(selecao_a)"
   ]
  },
  {
   "cell_type": "markdown",
   "id": "8f582d5f",
   "metadata": {},
   "source": [
    "<p align=\"justify\">b)  Use <i>iloc</i> para selecionar a última linha e todas as colunas:"
   ]
  },
  {
   "cell_type": "code",
   "execution_count": 194,
   "id": "8e1fb226",
   "metadata": {},
   "outputs": [
    {
     "name": "stdout",
     "output_type": "stream",
     "text": [
      "Nome                 Eva\n",
      "Idade                 28\n",
      "Cidade    Rio de Janeiro\n",
      "Name: 4, dtype: object\n"
     ]
    }
   ],
   "source": [
    "selecao_b = df.iloc[-1, :]\n",
    "print(selecao_b)"
   ]
  },
  {
   "cell_type": "markdown",
   "id": "66a35c82",
   "metadata": {},
   "source": [
    "<p align=\"justify\">c) Use <i>iloc</i> para selecionar as três primeiras linhas e todas as colunas:"
   ]
  },
  {
   "cell_type": "code",
   "execution_count": 195,
   "id": "8a73ef69",
   "metadata": {},
   "outputs": [
    {
     "name": "stdout",
     "output_type": "stream",
     "text": [
      "    Nome  Idade          Cidade\n",
      "0  Alice     25       São Paulo\n",
      "1    Bob     30  Rio de Janeiro\n",
      "2  Carol     22  Belo Horizonte\n"
     ]
    }
   ],
   "source": [
    "selecao_c = df.iloc[:3, :]\n",
    "print(selecao_c)"
   ]
  },
  {
   "cell_type": "markdown",
   "id": "351bf74d",
   "metadata": {},
   "source": [
    "<p align=\"justify\">10) Vamos criar o banco de novo para garantir que ele não foi modificado:"
   ]
  },
  {
   "cell_type": "code",
   "execution_count": 196,
   "id": "c1761ce4",
   "metadata": {},
   "outputs": [
    {
     "data": {
      "text/html": [
       "<div>\n",
       "<style scoped>\n",
       "    .dataframe tbody tr th:only-of-type {\n",
       "        vertical-align: middle;\n",
       "    }\n",
       "\n",
       "    .dataframe tbody tr th {\n",
       "        vertical-align: top;\n",
       "    }\n",
       "\n",
       "    .dataframe thead th {\n",
       "        text-align: right;\n",
       "    }\n",
       "</style>\n",
       "<table border=\"1\" class=\"dataframe\">\n",
       "  <thead>\n",
       "    <tr style=\"text-align: right;\">\n",
       "      <th></th>\n",
       "      <th>Nome</th>\n",
       "      <th>Idade</th>\n",
       "      <th>Cidade</th>\n",
       "    </tr>\n",
       "  </thead>\n",
       "  <tbody>\n",
       "    <tr>\n",
       "      <th>0</th>\n",
       "      <td>Alice</td>\n",
       "      <td>25</td>\n",
       "      <td>São Paulo</td>\n",
       "    </tr>\n",
       "    <tr>\n",
       "      <th>1</th>\n",
       "      <td>Bob</td>\n",
       "      <td>30</td>\n",
       "      <td>Rio de Janeiro</td>\n",
       "    </tr>\n",
       "    <tr>\n",
       "      <th>2</th>\n",
       "      <td>Carol</td>\n",
       "      <td>22</td>\n",
       "      <td>Belo Horizonte</td>\n",
       "    </tr>\n",
       "    <tr>\n",
       "      <th>3</th>\n",
       "      <td>David</td>\n",
       "      <td>35</td>\n",
       "      <td>São Paulo</td>\n",
       "    </tr>\n",
       "    <tr>\n",
       "      <th>4</th>\n",
       "      <td>Eva</td>\n",
       "      <td>28</td>\n",
       "      <td>Rio de Janeiro</td>\n",
       "    </tr>\n",
       "  </tbody>\n",
       "</table>\n",
       "</div>"
      ],
      "text/plain": [
       "    Nome  Idade          Cidade\n",
       "0  Alice     25       São Paulo\n",
       "1    Bob     30  Rio de Janeiro\n",
       "2  Carol     22  Belo Horizonte\n",
       "3  David     35       São Paulo\n",
       "4    Eva     28  Rio de Janeiro"
      ]
     },
     "execution_count": 196,
     "metadata": {},
     "output_type": "execute_result"
    }
   ],
   "source": [
    "dados = {\n",
    "    'Nome': ['Alice', 'Bob', 'Carol', 'David', 'Eva'],\n",
    "    'Idade': [25, 30, 22, 35, 28],\n",
    "    'Cidade': ['São Paulo', 'Rio de Janeiro', 'Belo Horizonte', 'São Paulo', 'Rio de Janeiro']\n",
    "}\n",
    "\n",
    "df = pd.DataFrame(dados)\n",
    "\n",
    "df"
   ]
  },
  {
   "cell_type": "markdown",
   "id": "50ac3172",
   "metadata": {},
   "source": [
    "<p align=\"justify\">a) Crie uma coluna de tempo de transporte até o trabalho que vai de 15 a 90 minutos. Ela tem de ser gerada aleatoriamente:"
   ]
  },
  {
   "cell_type": "code",
   "execution_count": 197,
   "id": "4a0ce2de",
   "metadata": {},
   "outputs": [
    {
     "data": {
      "text/html": [
       "<div>\n",
       "<style scoped>\n",
       "    .dataframe tbody tr th:only-of-type {\n",
       "        vertical-align: middle;\n",
       "    }\n",
       "\n",
       "    .dataframe tbody tr th {\n",
       "        vertical-align: top;\n",
       "    }\n",
       "\n",
       "    .dataframe thead th {\n",
       "        text-align: right;\n",
       "    }\n",
       "</style>\n",
       "<table border=\"1\" class=\"dataframe\">\n",
       "  <thead>\n",
       "    <tr style=\"text-align: right;\">\n",
       "      <th></th>\n",
       "      <th>Nome</th>\n",
       "      <th>Idade</th>\n",
       "      <th>Cidade</th>\n",
       "      <th>Transporte</th>\n",
       "    </tr>\n",
       "  </thead>\n",
       "  <tbody>\n",
       "    <tr>\n",
       "      <th>0</th>\n",
       "      <td>Alice</td>\n",
       "      <td>25</td>\n",
       "      <td>São Paulo</td>\n",
       "      <td>54</td>\n",
       "    </tr>\n",
       "    <tr>\n",
       "      <th>1</th>\n",
       "      <td>Bob</td>\n",
       "      <td>30</td>\n",
       "      <td>Rio de Janeiro</td>\n",
       "      <td>62</td>\n",
       "    </tr>\n",
       "    <tr>\n",
       "      <th>2</th>\n",
       "      <td>Carol</td>\n",
       "      <td>22</td>\n",
       "      <td>Belo Horizonte</td>\n",
       "      <td>62</td>\n",
       "    </tr>\n",
       "    <tr>\n",
       "      <th>3</th>\n",
       "      <td>David</td>\n",
       "      <td>35</td>\n",
       "      <td>São Paulo</td>\n",
       "      <td>34</td>\n",
       "    </tr>\n",
       "    <tr>\n",
       "      <th>4</th>\n",
       "      <td>Eva</td>\n",
       "      <td>28</td>\n",
       "      <td>Rio de Janeiro</td>\n",
       "      <td>77</td>\n",
       "    </tr>\n",
       "  </tbody>\n",
       "</table>\n",
       "</div>"
      ],
      "text/plain": [
       "    Nome  Idade          Cidade  Transporte\n",
       "0  Alice     25       São Paulo          54\n",
       "1    Bob     30  Rio de Janeiro          62\n",
       "2  Carol     22  Belo Horizonte          62\n",
       "3  David     35       São Paulo          34\n",
       "4    Eva     28  Rio de Janeiro          77"
      ]
     },
     "execution_count": 197,
     "metadata": {},
     "output_type": "execute_result"
    }
   ],
   "source": [
    "df['Transporte'] = [random.randint(15, 90) for _ in range(5)]\n",
    "\n",
    "df"
   ]
  },
  {
   "cell_type": "markdown",
   "id": "fdad97d8",
   "metadata": {},
   "source": [
    "b) Crie uma coluna de gênero utilizando o método np.random.choice ([Link](https://numpy.org/doc/stable/reference/random/generated/numpy.random.choice.html)):"
   ]
  },
  {
   "cell_type": "code",
   "execution_count": 198,
   "id": "537b26b0",
   "metadata": {},
   "outputs": [
    {
     "data": {
      "text/html": [
       "<div>\n",
       "<style scoped>\n",
       "    .dataframe tbody tr th:only-of-type {\n",
       "        vertical-align: middle;\n",
       "    }\n",
       "\n",
       "    .dataframe tbody tr th {\n",
       "        vertical-align: top;\n",
       "    }\n",
       "\n",
       "    .dataframe thead th {\n",
       "        text-align: right;\n",
       "    }\n",
       "</style>\n",
       "<table border=\"1\" class=\"dataframe\">\n",
       "  <thead>\n",
       "    <tr style=\"text-align: right;\">\n",
       "      <th></th>\n",
       "      <th>Nome</th>\n",
       "      <th>Idade</th>\n",
       "      <th>Cidade</th>\n",
       "      <th>Transporte</th>\n",
       "      <th>Genero</th>\n",
       "    </tr>\n",
       "  </thead>\n",
       "  <tbody>\n",
       "    <tr>\n",
       "      <th>0</th>\n",
       "      <td>Alice</td>\n",
       "      <td>25</td>\n",
       "      <td>São Paulo</td>\n",
       "      <td>54</td>\n",
       "      <td>masculino</td>\n",
       "    </tr>\n",
       "    <tr>\n",
       "      <th>1</th>\n",
       "      <td>Bob</td>\n",
       "      <td>30</td>\n",
       "      <td>Rio de Janeiro</td>\n",
       "      <td>62</td>\n",
       "      <td>feminino</td>\n",
       "    </tr>\n",
       "    <tr>\n",
       "      <th>2</th>\n",
       "      <td>Carol</td>\n",
       "      <td>22</td>\n",
       "      <td>Belo Horizonte</td>\n",
       "      <td>62</td>\n",
       "      <td>masculino</td>\n",
       "    </tr>\n",
       "    <tr>\n",
       "      <th>3</th>\n",
       "      <td>David</td>\n",
       "      <td>35</td>\n",
       "      <td>São Paulo</td>\n",
       "      <td>34</td>\n",
       "      <td>feminino</td>\n",
       "    </tr>\n",
       "    <tr>\n",
       "      <th>4</th>\n",
       "      <td>Eva</td>\n",
       "      <td>28</td>\n",
       "      <td>Rio de Janeiro</td>\n",
       "      <td>77</td>\n",
       "      <td>feminino</td>\n",
       "    </tr>\n",
       "  </tbody>\n",
       "</table>\n",
       "</div>"
      ],
      "text/plain": [
       "    Nome  Idade          Cidade  Transporte     Genero\n",
       "0  Alice     25       São Paulo          54  masculino\n",
       "1    Bob     30  Rio de Janeiro          62   feminino\n",
       "2  Carol     22  Belo Horizonte          62  masculino\n",
       "3  David     35       São Paulo          34   feminino\n",
       "4    Eva     28  Rio de Janeiro          77   feminino"
      ]
     },
     "execution_count": 198,
     "metadata": {},
     "output_type": "execute_result"
    }
   ],
   "source": [
    "import numpy as np\n",
    "\n",
    "generos = ['masculino', 'feminino']\n",
    "\n",
    "df['Genero'] = np.random.choice(generos, size = len(df))\n",
    "\n",
    "df"
   ]
  },
  {
   "cell_type": "markdown",
   "id": "5468925b",
   "metadata": {},
   "source": [
    "<p align=\"justify\">c) Crie uma coluna de salário da mesma forma que fizemos no exemplo de operações em coluna. Depois, crie uma nova coluna que mostre a razão de 'salário' e 'transporte':"
   ]
  },
  {
   "cell_type": "code",
   "execution_count": 199,
   "id": "ad14997c",
   "metadata": {},
   "outputs": [
    {
     "data": {
      "text/html": [
       "<div>\n",
       "<style scoped>\n",
       "    .dataframe tbody tr th:only-of-type {\n",
       "        vertical-align: middle;\n",
       "    }\n",
       "\n",
       "    .dataframe tbody tr th {\n",
       "        vertical-align: top;\n",
       "    }\n",
       "\n",
       "    .dataframe thead th {\n",
       "        text-align: right;\n",
       "    }\n",
       "</style>\n",
       "<table border=\"1\" class=\"dataframe\">\n",
       "  <thead>\n",
       "    <tr style=\"text-align: right;\">\n",
       "      <th></th>\n",
       "      <th>Nome</th>\n",
       "      <th>Idade</th>\n",
       "      <th>Cidade</th>\n",
       "      <th>Transporte</th>\n",
       "      <th>Genero</th>\n",
       "      <th>Salário</th>\n",
       "      <th>salario/transporte</th>\n",
       "    </tr>\n",
       "  </thead>\n",
       "  <tbody>\n",
       "    <tr>\n",
       "      <th>0</th>\n",
       "      <td>Alice</td>\n",
       "      <td>25</td>\n",
       "      <td>São Paulo</td>\n",
       "      <td>54</td>\n",
       "      <td>masculino</td>\n",
       "      <td>2703</td>\n",
       "      <td>50.055556</td>\n",
       "    </tr>\n",
       "    <tr>\n",
       "      <th>1</th>\n",
       "      <td>Bob</td>\n",
       "      <td>30</td>\n",
       "      <td>Rio de Janeiro</td>\n",
       "      <td>62</td>\n",
       "      <td>feminino</td>\n",
       "      <td>1414</td>\n",
       "      <td>22.806452</td>\n",
       "    </tr>\n",
       "    <tr>\n",
       "      <th>2</th>\n",
       "      <td>Carol</td>\n",
       "      <td>22</td>\n",
       "      <td>Belo Horizonte</td>\n",
       "      <td>62</td>\n",
       "      <td>masculino</td>\n",
       "      <td>1000</td>\n",
       "      <td>16.129032</td>\n",
       "    </tr>\n",
       "    <tr>\n",
       "      <th>3</th>\n",
       "      <td>David</td>\n",
       "      <td>35</td>\n",
       "      <td>São Paulo</td>\n",
       "      <td>34</td>\n",
       "      <td>feminino</td>\n",
       "      <td>1331</td>\n",
       "      <td>39.147059</td>\n",
       "    </tr>\n",
       "    <tr>\n",
       "      <th>4</th>\n",
       "      <td>Eva</td>\n",
       "      <td>28</td>\n",
       "      <td>Rio de Janeiro</td>\n",
       "      <td>77</td>\n",
       "      <td>feminino</td>\n",
       "      <td>1679</td>\n",
       "      <td>21.805195</td>\n",
       "    </tr>\n",
       "  </tbody>\n",
       "</table>\n",
       "</div>"
      ],
      "text/plain": [
       "    Nome  Idade          Cidade  Transporte     Genero  Salário  \\\n",
       "0  Alice     25       São Paulo          54  masculino     2703   \n",
       "1    Bob     30  Rio de Janeiro          62   feminino     1414   \n",
       "2  Carol     22  Belo Horizonte          62  masculino     1000   \n",
       "3  David     35       São Paulo          34   feminino     1331   \n",
       "4    Eva     28  Rio de Janeiro          77   feminino     1679   \n",
       "\n",
       "   salario/transporte  \n",
       "0           50.055556  \n",
       "1           22.806452  \n",
       "2           16.129032  \n",
       "3           39.147059  \n",
       "4           21.805195  "
      ]
     },
     "execution_count": 199,
     "metadata": {},
     "output_type": "execute_result"
    }
   ],
   "source": [
    "df['Salário'] = [random.randint(1000,3000) for _ in range(len(df))]\n",
    "\n",
    "df['salario/transporte'] = df['Salário'] / df['Transporte']\n",
    "\n",
    "df"
   ]
  },
  {
   "cell_type": "markdown",
   "id": "a550cb57",
   "metadata": {},
   "source": [
    "<p align=\"justify\">d) Delete a coluna da razão entre salário e transporte:"
   ]
  },
  {
   "cell_type": "code",
   "execution_count": 200,
   "id": "68571f43",
   "metadata": {},
   "outputs": [
    {
     "data": {
      "text/html": [
       "<div>\n",
       "<style scoped>\n",
       "    .dataframe tbody tr th:only-of-type {\n",
       "        vertical-align: middle;\n",
       "    }\n",
       "\n",
       "    .dataframe tbody tr th {\n",
       "        vertical-align: top;\n",
       "    }\n",
       "\n",
       "    .dataframe thead th {\n",
       "        text-align: right;\n",
       "    }\n",
       "</style>\n",
       "<table border=\"1\" class=\"dataframe\">\n",
       "  <thead>\n",
       "    <tr style=\"text-align: right;\">\n",
       "      <th></th>\n",
       "      <th>Nome</th>\n",
       "      <th>Idade</th>\n",
       "      <th>Cidade</th>\n",
       "      <th>Transporte</th>\n",
       "      <th>Genero</th>\n",
       "      <th>Salário</th>\n",
       "    </tr>\n",
       "  </thead>\n",
       "  <tbody>\n",
       "    <tr>\n",
       "      <th>0</th>\n",
       "      <td>Alice</td>\n",
       "      <td>25</td>\n",
       "      <td>São Paulo</td>\n",
       "      <td>54</td>\n",
       "      <td>masculino</td>\n",
       "      <td>2703</td>\n",
       "    </tr>\n",
       "    <tr>\n",
       "      <th>1</th>\n",
       "      <td>Bob</td>\n",
       "      <td>30</td>\n",
       "      <td>Rio de Janeiro</td>\n",
       "      <td>62</td>\n",
       "      <td>feminino</td>\n",
       "      <td>1414</td>\n",
       "    </tr>\n",
       "    <tr>\n",
       "      <th>2</th>\n",
       "      <td>Carol</td>\n",
       "      <td>22</td>\n",
       "      <td>Belo Horizonte</td>\n",
       "      <td>62</td>\n",
       "      <td>masculino</td>\n",
       "      <td>1000</td>\n",
       "    </tr>\n",
       "    <tr>\n",
       "      <th>3</th>\n",
       "      <td>David</td>\n",
       "      <td>35</td>\n",
       "      <td>São Paulo</td>\n",
       "      <td>34</td>\n",
       "      <td>feminino</td>\n",
       "      <td>1331</td>\n",
       "    </tr>\n",
       "    <tr>\n",
       "      <th>4</th>\n",
       "      <td>Eva</td>\n",
       "      <td>28</td>\n",
       "      <td>Rio de Janeiro</td>\n",
       "      <td>77</td>\n",
       "      <td>feminino</td>\n",
       "      <td>1679</td>\n",
       "    </tr>\n",
       "  </tbody>\n",
       "</table>\n",
       "</div>"
      ],
      "text/plain": [
       "    Nome  Idade          Cidade  Transporte     Genero  Salário\n",
       "0  Alice     25       São Paulo          54  masculino     2703\n",
       "1    Bob     30  Rio de Janeiro          62   feminino     1414\n",
       "2  Carol     22  Belo Horizonte          62  masculino     1000\n",
       "3  David     35       São Paulo          34   feminino     1331\n",
       "4    Eva     28  Rio de Janeiro          77   feminino     1679"
      ]
     },
     "execution_count": 200,
     "metadata": {},
     "output_type": "execute_result"
    }
   ],
   "source": [
    "del df['salario/transporte']\n",
    "\n",
    "df"
   ]
  },
  {
   "cell_type": "markdown",
   "id": "16a8000a",
   "metadata": {},
   "source": [
    "<p align=\"justify\">11) Vamos praticar um pouco a aplicação de funções em objetos de <i>Pandas</i>. Considere o banco de dados:"
   ]
  },
  {
   "cell_type": "code",
   "execution_count": 201,
   "id": "7e67f72c",
   "metadata": {},
   "outputs": [
    {
     "data": {
      "text/html": [
       "<div>\n",
       "<style scoped>\n",
       "    .dataframe tbody tr th:only-of-type {\n",
       "        vertical-align: middle;\n",
       "    }\n",
       "\n",
       "    .dataframe tbody tr th {\n",
       "        vertical-align: top;\n",
       "    }\n",
       "\n",
       "    .dataframe thead th {\n",
       "        text-align: right;\n",
       "    }\n",
       "</style>\n",
       "<table border=\"1\" class=\"dataframe\">\n",
       "  <thead>\n",
       "    <tr style=\"text-align: right;\">\n",
       "      <th></th>\n",
       "      <th>Nome</th>\n",
       "      <th>Salario</th>\n",
       "    </tr>\n",
       "  </thead>\n",
       "  <tbody>\n",
       "    <tr>\n",
       "      <th>0</th>\n",
       "      <td>Alice</td>\n",
       "      <td>50000</td>\n",
       "    </tr>\n",
       "    <tr>\n",
       "      <th>1</th>\n",
       "      <td>Bob</td>\n",
       "      <td>60000</td>\n",
       "    </tr>\n",
       "    <tr>\n",
       "      <th>2</th>\n",
       "      <td>Carol</td>\n",
       "      <td>75000</td>\n",
       "    </tr>\n",
       "    <tr>\n",
       "      <th>3</th>\n",
       "      <td>David</td>\n",
       "      <td>48000</td>\n",
       "    </tr>\n",
       "    <tr>\n",
       "      <th>4</th>\n",
       "      <td>Eva</td>\n",
       "      <td>80000</td>\n",
       "    </tr>\n",
       "  </tbody>\n",
       "</table>\n",
       "</div>"
      ],
      "text/plain": [
       "    Nome  Salario\n",
       "0  Alice    50000\n",
       "1    Bob    60000\n",
       "2  Carol    75000\n",
       "3  David    48000\n",
       "4    Eva    80000"
      ]
     },
     "execution_count": 201,
     "metadata": {},
     "output_type": "execute_result"
    }
   ],
   "source": [
    "dados = {\n",
    "    'Nome': ['Alice', 'Bob', 'Carol', 'David', 'Eva'],\n",
    "    'Salario': [50000, 60000, 75000, 48000, 80000],\n",
    "}\n",
    "\n",
    "df = pd.DataFrame(dados)\n",
    "\n",
    "df"
   ]
  },
  {
   "cell_type": "markdown",
   "id": "6489e3d3",
   "metadata": {},
   "source": [
    "<p align=\"justify\">a) Faça uma função chamada \"aumento_salarial\" que recebe o salário como entrada e retorna um aumento de 15%:"
   ]
  },
  {
   "cell_type": "code",
   "execution_count": 202,
   "id": "88927141",
   "metadata": {},
   "outputs": [],
   "source": [
    "def aumento_salarial(x):\n",
    "  return x * 1.15\n",
    "\n"
   ]
  },
  {
   "cell_type": "markdown",
   "id": "bd427b8f",
   "metadata": {},
   "source": [
    "b) Aplique a função na coluna \"Salario\" utilizando \"apply\":"
   ]
  },
  {
   "cell_type": "code",
   "execution_count": 203,
   "id": "c20e71a3",
   "metadata": {},
   "outputs": [
    {
     "data": {
      "text/plain": [
       "0    57500.0\n",
       "1    69000.0\n",
       "2    86250.0\n",
       "3    55200.0\n",
       "4    92000.0\n",
       "Name: Salario, dtype: float64"
      ]
     },
     "execution_count": 203,
     "metadata": {},
     "output_type": "execute_result"
    }
   ],
   "source": [
    "df['Salario'].apply(aumento_salarial)\n",
    "\n"
   ]
  },
  {
   "cell_type": "markdown",
   "id": "af5c7a53",
   "metadata": {},
   "source": [
    "<p align=\"justify\">c) Aqui está um dicionário com um mapeamento de categorias com base nos salários. Crie uma função que retorne uma categoria de acordo com o salário da pessoa.\n",
    "\n",
    "<b>Dica:</b> Mckinney, 2022, P. 211."
   ]
  },
  {
   "cell_type": "code",
   "execution_count": 204,
   "id": "dd475149",
   "metadata": {},
   "outputs": [],
   "source": [
    "\n",
    "# Dicionário de Mapeamento\n",
    "\n",
    "mapeamento_categorias = {\n",
    "    (0, 50000): 'Baixo',\n",
    "    (50001, 70000): 'Médio',\n",
    "    (70001, 80000): 'Alto'\n",
    "}\n",
    "\n",
    "def mapear_categoria_salario(salario):\n",
    "    for intervalo, categoria in mapeamento_categorias.items():\n",
    "        if intervalo[0] <= salario <= intervalo[1]:\n",
    "            return categoria"
   ]
  },
  {
   "cell_type": "markdown",
   "id": "3a02f885",
   "metadata": {},
   "source": [
    "<p align=\"justify\">d) Aplique essa função no <i>Data Frame</i>, criando uma nova coluna chamada \"categoria_salario\". Imprima o banco de dados:"
   ]
  },
  {
   "cell_type": "code",
   "execution_count": 205,
   "id": "5bfadbec",
   "metadata": {},
   "outputs": [
    {
     "data": {
      "text/html": [
       "<div>\n",
       "<style scoped>\n",
       "    .dataframe tbody tr th:only-of-type {\n",
       "        vertical-align: middle;\n",
       "    }\n",
       "\n",
       "    .dataframe tbody tr th {\n",
       "        vertical-align: top;\n",
       "    }\n",
       "\n",
       "    .dataframe thead th {\n",
       "        text-align: right;\n",
       "    }\n",
       "</style>\n",
       "<table border=\"1\" class=\"dataframe\">\n",
       "  <thead>\n",
       "    <tr style=\"text-align: right;\">\n",
       "      <th></th>\n",
       "      <th>Nome</th>\n",
       "      <th>Salario</th>\n",
       "      <th>categoria_salario</th>\n",
       "    </tr>\n",
       "  </thead>\n",
       "  <tbody>\n",
       "    <tr>\n",
       "      <th>0</th>\n",
       "      <td>Alice</td>\n",
       "      <td>50000</td>\n",
       "      <td>Baixo</td>\n",
       "    </tr>\n",
       "    <tr>\n",
       "      <th>1</th>\n",
       "      <td>Bob</td>\n",
       "      <td>60000</td>\n",
       "      <td>Médio</td>\n",
       "    </tr>\n",
       "    <tr>\n",
       "      <th>2</th>\n",
       "      <td>Carol</td>\n",
       "      <td>75000</td>\n",
       "      <td>Alto</td>\n",
       "    </tr>\n",
       "    <tr>\n",
       "      <th>3</th>\n",
       "      <td>David</td>\n",
       "      <td>48000</td>\n",
       "      <td>Baixo</td>\n",
       "    </tr>\n",
       "    <tr>\n",
       "      <th>4</th>\n",
       "      <td>Eva</td>\n",
       "      <td>80000</td>\n",
       "      <td>Alto</td>\n",
       "    </tr>\n",
       "  </tbody>\n",
       "</table>\n",
       "</div>"
      ],
      "text/plain": [
       "    Nome  Salario categoria_salario\n",
       "0  Alice    50000             Baixo\n",
       "1    Bob    60000             Médio\n",
       "2  Carol    75000              Alto\n",
       "3  David    48000             Baixo\n",
       "4    Eva    80000              Alto"
      ]
     },
     "execution_count": 205,
     "metadata": {},
     "output_type": "execute_result"
    }
   ],
   "source": [
    "df['categoria_salario'] = df[\"Salario\"].apply(mapear_categoria_salario)\n",
    "\n",
    "df"
   ]
  },
  {
   "cell_type": "markdown",
   "id": "f2137cce",
   "metadata": {},
   "source": [
    "<p align=\"justify\">12) Considere o seguinte <i>Data Frame</i>:"
   ]
  },
  {
   "cell_type": "code",
   "execution_count": 206,
   "id": "ee89c4e1",
   "metadata": {},
   "outputs": [
    {
     "name": "stdout",
     "output_type": "stream",
     "text": [
      "        Nome  Idade          Cidade  Salario\n",
      "0     Rafael     50        Brasília     3657\n",
      "1   Fernanda     50       São Paulo     5733\n",
      "2      Luiza     30  Belo Horizonte     3636\n",
      "3      Luiza     56  Belo Horizonte     5560\n",
      "4      Lucas     25        Salvador     1012\n",
      "5       José     58        Brasília     1096\n",
      "6    Isabela     30        Brasília     6055\n",
      "7   Fernanda     44  Rio de Janeiro     2123\n",
      "8    Juliana     51       São Paulo     2396\n",
      "9     Sandra     33  Belo Horizonte     2549\n",
      "10     Pedro     33  Belo Horizonte     5319\n",
      "11   Ricardo     27  Rio de Janeiro     5121\n",
      "12   Mariana     54        Salvador     6258\n",
      "13   Ricardo     56  Rio de Janeiro     2115\n",
      "14  Carolina     54       São Paulo     2839\n",
      "15   Juliana     49        Salvador     4467\n",
      "16      José     36        Salvador     3580\n",
      "17  Fernanda     54        Brasília     1852\n",
      "18     Maria     23       São Paulo     3213\n",
      "19   Gustavo     43        Salvador     5543\n",
      "20   Mariana     34       São Paulo     2218\n",
      "21   Gustavo     41  Rio de Janeiro     6218\n",
      "22   Ricardo     31        Brasília     6351\n",
      "23    Camila     35  Belo Horizonte     2087\n",
      "24     Luiza     27  Rio de Janeiro     2643\n",
      "25    Sandra     20  Belo Horizonte     2646\n",
      "26   Gustavo     56        Salvador     4243\n",
      "27   Ricardo     44       São Paulo     1544\n",
      "28       Ana     42        Salvador     2262\n",
      "29    Felipe     45        Brasília     6643\n"
     ]
    }
   ],
   "source": [
    "# Lista de nomes fictícios\n",
    "nomes_brasileiros = ['João', 'Maria', 'Pedro', 'Ana', 'José', 'Luiza', 'Rafael', 'Fernanda', 'Gustavo', 'Carolina',\n",
    "                     'Lucas', 'Juliana', 'Marcos', 'Camila', 'Felipe', 'Isabela', 'Mariana', 'Ricardo', 'Sandra']\n",
    "\n",
    "# Crie um DataFrame com 20 observações aleatórias\n",
    "dados = {\n",
    "    'Nome': [random.choice(nomes_brasileiros) for _ in range(30)],\n",
    "    'Idade': [random.randint(20, 60) for _ in range(30)],\n",
    "    'Cidade': [random.choice(['São Paulo', 'Rio de Janeiro', 'Belo Horizonte', 'Salvador', 'Brasília']) for _ in range(30)],\n",
    "    'Salario': [random.randint(1000,7000) for _ in range(30)]\n",
    "}\n",
    "\n",
    "df = pd.DataFrame(dados)\n",
    "\n",
    "# Exiba o DataFrame\n",
    "print(df)"
   ]
  },
  {
   "cell_type": "markdown",
   "id": "e93a57dd",
   "metadata": {},
   "source": [
    "a) Calcule a idade média e imprima o resultado como um valor inteiro"
   ]
  },
  {
   "cell_type": "code",
   "execution_count": 207,
   "id": "c66f23cf",
   "metadata": {},
   "outputs": [
    {
     "name": "stdout",
     "output_type": "stream",
     "text": [
      "41\n"
     ]
    }
   ],
   "source": [
    "media = df.Idade.mean()\n",
    "\n",
    "print(int(media))"
   ]
  },
  {
   "cell_type": "markdown",
   "id": "d0433b41",
   "metadata": {},
   "source": [
    "b) Calcule a mediana dos salários:"
   ]
  },
  {
   "cell_type": "code",
   "execution_count": 208,
   "id": "c52ce7d1",
   "metadata": {},
   "outputs": [
    {
     "data": {
      "text/plain": [
       "3396.5"
      ]
     },
     "execution_count": 208,
     "metadata": {},
     "output_type": "execute_result"
    }
   ],
   "source": [
    "df.Salario.median()"
   ]
  },
  {
   "cell_type": "markdown",
   "id": "9e46f3cc",
   "metadata": {},
   "source": [
    "<p align=\"justify\">c) Calcule o desvio-padrão do salário e das idades e imprima de forma adequada usando <i>f strings</i>:"
   ]
  },
  {
   "cell_type": "code",
   "execution_count": 209,
   "id": "e2c3d445",
   "metadata": {},
   "outputs": [
    {
     "name": "stdout",
     "output_type": "stream",
     "text": [
      "O Desvio Padrão do salário é de 1769.65 e o da Idade é 11.49\n"
     ]
    }
   ],
   "source": [
    "desv_sal = df.Salario.std()\n",
    "desv_idade = df.Idade.std()\n",
    "\n",
    "\n",
    "print(f'O Desvio Padrão do salário é de {round(desv_sal,2)} e o da Idade é {round(desv_idade,2)}')\n"
   ]
  },
  {
   "cell_type": "markdown",
   "id": "010e6e0d",
   "metadata": {},
   "source": [
    "d) Calcule a soma dos salários:"
   ]
  },
  {
   "cell_type": "code",
   "execution_count": 210,
   "id": "24fddacb",
   "metadata": {},
   "outputs": [
    {
     "data": {
      "text/plain": [
       "110979"
      ]
     },
     "execution_count": 210,
     "metadata": {},
     "output_type": "execute_result"
    }
   ],
   "source": [
    "df.Salario.sum()"
   ]
  },
  {
   "cell_type": "markdown",
   "id": "3956c6f3",
   "metadata": {},
   "source": [
    "e) Encontre o índice do maior valor da idade e imprima a linha:"
   ]
  },
  {
   "cell_type": "code",
   "execution_count": 211,
   "id": "91e267a5",
   "metadata": {},
   "outputs": [
    {
     "name": "stdout",
     "output_type": "stream",
     "text": [
      "Nome           José\n",
      "Idade            58\n",
      "Cidade     Brasília\n",
      "Salario        1096\n",
      "Name: 5, dtype: object\n"
     ]
    }
   ],
   "source": [
    "indice = df.Idade.idxmax()\n",
    "\n",
    "print(df.iloc[indice])"
   ]
  },
  {
   "cell_type": "markdown",
   "id": "d8d5d9bf",
   "metadata": {},
   "source": [
    "<p align=\"justify\">f) Utilize <i>describe</i> para obter estatísticas descritivas de toda a tabela:"
   ]
  },
  {
   "cell_type": "code",
   "execution_count": 212,
   "id": "acd949c7",
   "metadata": {},
   "outputs": [
    {
     "data": {
      "text/html": [
       "<div>\n",
       "<style scoped>\n",
       "    .dataframe tbody tr th:only-of-type {\n",
       "        vertical-align: middle;\n",
       "    }\n",
       "\n",
       "    .dataframe tbody tr th {\n",
       "        vertical-align: top;\n",
       "    }\n",
       "\n",
       "    .dataframe thead th {\n",
       "        text-align: right;\n",
       "    }\n",
       "</style>\n",
       "<table border=\"1\" class=\"dataframe\">\n",
       "  <thead>\n",
       "    <tr style=\"text-align: right;\">\n",
       "      <th></th>\n",
       "      <th>Idade</th>\n",
       "      <th>Salario</th>\n",
       "    </tr>\n",
       "  </thead>\n",
       "  <tbody>\n",
       "    <tr>\n",
       "      <th>count</th>\n",
       "      <td>30.000000</td>\n",
       "      <td>30.000000</td>\n",
       "    </tr>\n",
       "    <tr>\n",
       "      <th>mean</th>\n",
       "      <td>41.033333</td>\n",
       "      <td>3699.300000</td>\n",
       "    </tr>\n",
       "    <tr>\n",
       "      <th>std</th>\n",
       "      <td>11.490576</td>\n",
       "      <td>1769.653524</td>\n",
       "    </tr>\n",
       "    <tr>\n",
       "      <th>min</th>\n",
       "      <td>20.000000</td>\n",
       "      <td>1012.000000</td>\n",
       "    </tr>\n",
       "    <tr>\n",
       "      <th>25%</th>\n",
       "      <td>31.500000</td>\n",
       "      <td>2229.000000</td>\n",
       "    </tr>\n",
       "    <tr>\n",
       "      <th>50%</th>\n",
       "      <td>42.500000</td>\n",
       "      <td>3396.500000</td>\n",
       "    </tr>\n",
       "    <tr>\n",
       "      <th>75%</th>\n",
       "      <td>50.750000</td>\n",
       "      <td>5487.000000</td>\n",
       "    </tr>\n",
       "    <tr>\n",
       "      <th>max</th>\n",
       "      <td>58.000000</td>\n",
       "      <td>6643.000000</td>\n",
       "    </tr>\n",
       "  </tbody>\n",
       "</table>\n",
       "</div>"
      ],
      "text/plain": [
       "           Idade      Salario\n",
       "count  30.000000    30.000000\n",
       "mean   41.033333  3699.300000\n",
       "std    11.490576  1769.653524\n",
       "min    20.000000  1012.000000\n",
       "25%    31.500000  2229.000000\n",
       "50%    42.500000  3396.500000\n",
       "75%    50.750000  5487.000000\n",
       "max    58.000000  6643.000000"
      ]
     },
     "execution_count": 212,
     "metadata": {},
     "output_type": "execute_result"
    }
   ],
   "source": [
    "df.describe()"
   ]
  },
  {
   "cell_type": "markdown",
   "id": "22636b9e",
   "metadata": {},
   "source": [
    "<p align=\"justify\">g) O <i>describe</i> também gera um <i>Data Frame</i> como resultado. Atribua o resultado do <i>describe</i> à um objeto e selecione as linhas de '25%', '50%' e '75%':"
   ]
  },
  {
   "cell_type": "code",
   "execution_count": 213,
   "id": "05af7afa",
   "metadata": {},
   "outputs": [
    {
     "data": {
      "text/html": [
       "<div>\n",
       "<style scoped>\n",
       "    .dataframe tbody tr th:only-of-type {\n",
       "        vertical-align: middle;\n",
       "    }\n",
       "\n",
       "    .dataframe tbody tr th {\n",
       "        vertical-align: top;\n",
       "    }\n",
       "\n",
       "    .dataframe thead th {\n",
       "        text-align: right;\n",
       "    }\n",
       "</style>\n",
       "<table border=\"1\" class=\"dataframe\">\n",
       "  <thead>\n",
       "    <tr style=\"text-align: right;\">\n",
       "      <th></th>\n",
       "      <th>Idade</th>\n",
       "      <th>Salario</th>\n",
       "    </tr>\n",
       "  </thead>\n",
       "  <tbody>\n",
       "    <tr>\n",
       "      <th>25%</th>\n",
       "      <td>31.50</td>\n",
       "      <td>2229.0</td>\n",
       "    </tr>\n",
       "    <tr>\n",
       "      <th>50%</th>\n",
       "      <td>42.50</td>\n",
       "      <td>3396.5</td>\n",
       "    </tr>\n",
       "    <tr>\n",
       "      <th>75%</th>\n",
       "      <td>50.75</td>\n",
       "      <td>5487.0</td>\n",
       "    </tr>\n",
       "  </tbody>\n",
       "</table>\n",
       "</div>"
      ],
      "text/plain": [
       "     Idade  Salario\n",
       "25%  31.50   2229.0\n",
       "50%  42.50   3396.5\n",
       "75%  50.75   5487.0"
      ]
     },
     "execution_count": 213,
     "metadata": {},
     "output_type": "execute_result"
    }
   ],
   "source": [
    "dados2 = df.describe()\n",
    "\n",
    "dados2.iloc[4:7, :]"
   ]
  },
  {
   "cell_type": "markdown",
   "id": "92befffb",
   "metadata": {},
   "source": [
    "e) Qual a correlação entre idade e salário?"
   ]
  },
  {
   "cell_type": "code",
   "execution_count": 214,
   "id": "65826389",
   "metadata": {},
   "outputs": [
    {
     "data": {
      "text/plain": [
       "0.02353026750393032"
      ]
     },
     "execution_count": 214,
     "metadata": {},
     "output_type": "execute_result"
    }
   ],
   "source": [
    "df['Idade'].corr(df['Salario'])"
   ]
  },
  {
   "cell_type": "markdown",
   "id": "f3efea6f",
   "metadata": {},
   "source": [
    "f) E a covariância destas duas variáveis?"
   ]
  },
  {
   "cell_type": "code",
   "execution_count": 215,
   "id": "c914f516",
   "metadata": {},
   "outputs": [
    {
     "data": {
      "text/plain": [
       "478.47241379310384"
      ]
     },
     "execution_count": 215,
     "metadata": {},
     "output_type": "execute_result"
    }
   ],
   "source": [
    "df['Idade'].cov(df['Salario'])"
   ]
  },
  {
   "cell_type": "markdown",
   "id": "3e7ff172",
   "metadata": {},
   "source": [
    "h) Quantos nomes únicos temos no <i>Data Frame</i>?"
   ]
  },
  {
   "cell_type": "code",
   "execution_count": 216,
   "id": "f50ff663",
   "metadata": {},
   "outputs": [
    {
     "data": {
      "text/plain": [
       "array(['Rafael', 'Fernanda', 'Luiza', 'Lucas', 'José', 'Isabela',\n",
       "       'Juliana', 'Sandra', 'Pedro', 'Ricardo', 'Mariana', 'Carolina',\n",
       "       'Maria', 'Gustavo', 'Camila', 'Ana', 'Felipe'], dtype=object)"
      ]
     },
     "execution_count": 216,
     "metadata": {},
     "output_type": "execute_result"
    }
   ],
   "source": [
    "# Resposta mais simples\n",
    "\n",
    "df.Nome.unique()"
   ]
  },
  {
   "cell_type": "code",
   "execution_count": 217,
   "id": "a22fed3c",
   "metadata": {},
   "outputs": [
    {
     "data": {
      "text/plain": [
       "17"
      ]
     },
     "execution_count": 217,
     "metadata": {},
     "output_type": "execute_result"
    }
   ],
   "source": [
    "# Resposta mais elaborada\n",
    "\n",
    "array_nomes = df.Nome.unique()\n",
    "\n",
    "series_nomes = pd.Series(array_nomes)\n",
    "\n",
    "series_nomes.value_counts().sum()"
   ]
  },
  {
   "cell_type": "markdown",
   "id": "99ff1a90",
   "metadata": {},
   "source": [
    "13 - Baixe o seguinte banco de dados do [Kaggle](https://www.kaggle.com/datasets/zynicide/wine-reviews?resource=download) e o importe no Colab utilizando o primeiro modo ensinado. Isto é, ir em arquivos e inserí-lo manualmente. O banco de dados é o de nome 'winemag-data-130k-v2.csv'.\n",
    "\n",
    "<b>Dica:</b> Depois de inserí-lo, pode copiar o caminho clicando com o botão direito em cima do .csv no Colab:"
   ]
  },
  {
   "cell_type": "code",
   "execution_count": 218,
   "id": "26868da8",
   "metadata": {},
   "outputs": [
    {
     "data": {
      "text/html": [
       "<div>\n",
       "<style scoped>\n",
       "    .dataframe tbody tr th:only-of-type {\n",
       "        vertical-align: middle;\n",
       "    }\n",
       "\n",
       "    .dataframe tbody tr th {\n",
       "        vertical-align: top;\n",
       "    }\n",
       "\n",
       "    .dataframe thead th {\n",
       "        text-align: right;\n",
       "    }\n",
       "</style>\n",
       "<table border=\"1\" class=\"dataframe\">\n",
       "  <thead>\n",
       "    <tr style=\"text-align: right;\">\n",
       "      <th></th>\n",
       "      <th>Unnamed: 0</th>\n",
       "      <th>country</th>\n",
       "      <th>description</th>\n",
       "      <th>designation</th>\n",
       "      <th>points</th>\n",
       "      <th>price</th>\n",
       "      <th>province</th>\n",
       "      <th>region_1</th>\n",
       "      <th>region_2</th>\n",
       "      <th>taster_name</th>\n",
       "      <th>taster_twitter_handle</th>\n",
       "      <th>title</th>\n",
       "      <th>variety</th>\n",
       "      <th>winery</th>\n",
       "    </tr>\n",
       "  </thead>\n",
       "  <tbody>\n",
       "    <tr>\n",
       "      <th>0</th>\n",
       "      <td>0</td>\n",
       "      <td>Italy</td>\n",
       "      <td>Aromas include tropical fruit, broom, brimston...</td>\n",
       "      <td>Vulkà Bianco</td>\n",
       "      <td>87</td>\n",
       "      <td>NaN</td>\n",
       "      <td>Sicily &amp; Sardinia</td>\n",
       "      <td>Etna</td>\n",
       "      <td>NaN</td>\n",
       "      <td>Kerin O’Keefe</td>\n",
       "      <td>@kerinokeefe</td>\n",
       "      <td>Nicosia 2013 Vulkà Bianco  (Etna)</td>\n",
       "      <td>White Blend</td>\n",
       "      <td>Nicosia</td>\n",
       "    </tr>\n",
       "    <tr>\n",
       "      <th>1</th>\n",
       "      <td>1</td>\n",
       "      <td>Portugal</td>\n",
       "      <td>This is ripe and fruity, a wine that is smooth...</td>\n",
       "      <td>Avidagos</td>\n",
       "      <td>87</td>\n",
       "      <td>15.0</td>\n",
       "      <td>Douro</td>\n",
       "      <td>NaN</td>\n",
       "      <td>NaN</td>\n",
       "      <td>Roger Voss</td>\n",
       "      <td>@vossroger</td>\n",
       "      <td>Quinta dos Avidagos 2011 Avidagos Red (Douro)</td>\n",
       "      <td>Portuguese Red</td>\n",
       "      <td>Quinta dos Avidagos</td>\n",
       "    </tr>\n",
       "    <tr>\n",
       "      <th>2</th>\n",
       "      <td>2</td>\n",
       "      <td>US</td>\n",
       "      <td>Tart and snappy, the flavors of lime flesh and...</td>\n",
       "      <td>NaN</td>\n",
       "      <td>87</td>\n",
       "      <td>14.0</td>\n",
       "      <td>Oregon</td>\n",
       "      <td>Willamette Valley</td>\n",
       "      <td>Willamette Valley</td>\n",
       "      <td>Paul Gregutt</td>\n",
       "      <td>@paulgwine</td>\n",
       "      <td>Rainstorm 2013 Pinot Gris (Willamette Valley)</td>\n",
       "      <td>Pinot Gris</td>\n",
       "      <td>Rainstorm</td>\n",
       "    </tr>\n",
       "    <tr>\n",
       "      <th>3</th>\n",
       "      <td>3</td>\n",
       "      <td>US</td>\n",
       "      <td>Pineapple rind, lemon pith and orange blossom ...</td>\n",
       "      <td>Reserve Late Harvest</td>\n",
       "      <td>87</td>\n",
       "      <td>13.0</td>\n",
       "      <td>Michigan</td>\n",
       "      <td>Lake Michigan Shore</td>\n",
       "      <td>NaN</td>\n",
       "      <td>Alexander Peartree</td>\n",
       "      <td>NaN</td>\n",
       "      <td>St. Julian 2013 Reserve Late Harvest Riesling ...</td>\n",
       "      <td>Riesling</td>\n",
       "      <td>St. Julian</td>\n",
       "    </tr>\n",
       "    <tr>\n",
       "      <th>4</th>\n",
       "      <td>4</td>\n",
       "      <td>US</td>\n",
       "      <td>Much like the regular bottling from 2012, this...</td>\n",
       "      <td>Vintner's Reserve Wild Child Block</td>\n",
       "      <td>87</td>\n",
       "      <td>65.0</td>\n",
       "      <td>Oregon</td>\n",
       "      <td>Willamette Valley</td>\n",
       "      <td>Willamette Valley</td>\n",
       "      <td>Paul Gregutt</td>\n",
       "      <td>@paulgwine</td>\n",
       "      <td>Sweet Cheeks 2012 Vintner's Reserve Wild Child...</td>\n",
       "      <td>Pinot Noir</td>\n",
       "      <td>Sweet Cheeks</td>\n",
       "    </tr>\n",
       "  </tbody>\n",
       "</table>\n",
       "</div>"
      ],
      "text/plain": [
       "   Unnamed: 0   country                                        description  \\\n",
       "0           0     Italy  Aromas include tropical fruit, broom, brimston...   \n",
       "1           1  Portugal  This is ripe and fruity, a wine that is smooth...   \n",
       "2           2        US  Tart and snappy, the flavors of lime flesh and...   \n",
       "3           3        US  Pineapple rind, lemon pith and orange blossom ...   \n",
       "4           4        US  Much like the regular bottling from 2012, this...   \n",
       "\n",
       "                          designation  points  price           province  \\\n",
       "0                        Vulkà Bianco      87    NaN  Sicily & Sardinia   \n",
       "1                            Avidagos      87   15.0              Douro   \n",
       "2                                 NaN      87   14.0             Oregon   \n",
       "3                Reserve Late Harvest      87   13.0           Michigan   \n",
       "4  Vintner's Reserve Wild Child Block      87   65.0             Oregon   \n",
       "\n",
       "              region_1           region_2         taster_name  \\\n",
       "0                 Etna                NaN       Kerin O’Keefe   \n",
       "1                  NaN                NaN          Roger Voss   \n",
       "2    Willamette Valley  Willamette Valley        Paul Gregutt   \n",
       "3  Lake Michigan Shore                NaN  Alexander Peartree   \n",
       "4    Willamette Valley  Willamette Valley        Paul Gregutt   \n",
       "\n",
       "  taster_twitter_handle                                              title  \\\n",
       "0          @kerinokeefe                  Nicosia 2013 Vulkà Bianco  (Etna)   \n",
       "1            @vossroger      Quinta dos Avidagos 2011 Avidagos Red (Douro)   \n",
       "2           @paulgwine       Rainstorm 2013 Pinot Gris (Willamette Valley)   \n",
       "3                   NaN  St. Julian 2013 Reserve Late Harvest Riesling ...   \n",
       "4           @paulgwine   Sweet Cheeks 2012 Vintner's Reserve Wild Child...   \n",
       "\n",
       "          variety               winery  \n",
       "0     White Blend              Nicosia  \n",
       "1  Portuguese Red  Quinta dos Avidagos  \n",
       "2      Pinot Gris            Rainstorm  \n",
       "3        Riesling           St. Julian  \n",
       "4      Pinot Noir         Sweet Cheeks  "
      ]
     },
     "execution_count": 218,
     "metadata": {},
     "output_type": "execute_result"
    }
   ],
   "source": [
    "caminho_arquivo = \"dataset\\\\winemag-data-130k-v2.csv\"\n",
    "\n",
    "df = pd.read_csv(caminho_arquivo)\n",
    "\n",
    "df.head()"
   ]
  },
  {
   "cell_type": "markdown",
   "id": "54b44740",
   "metadata": {},
   "source": [
    "a) Traga as principais estatísticas descritivas do banco:"
   ]
  },
  {
   "cell_type": "code",
   "execution_count": 219,
   "id": "10f7b888",
   "metadata": {},
   "outputs": [
    {
     "data": {
      "text/html": [
       "<div>\n",
       "<style scoped>\n",
       "    .dataframe tbody tr th:only-of-type {\n",
       "        vertical-align: middle;\n",
       "    }\n",
       "\n",
       "    .dataframe tbody tr th {\n",
       "        vertical-align: top;\n",
       "    }\n",
       "\n",
       "    .dataframe thead th {\n",
       "        text-align: right;\n",
       "    }\n",
       "</style>\n",
       "<table border=\"1\" class=\"dataframe\">\n",
       "  <thead>\n",
       "    <tr style=\"text-align: right;\">\n",
       "      <th></th>\n",
       "      <th>Unnamed: 0</th>\n",
       "      <th>points</th>\n",
       "      <th>price</th>\n",
       "    </tr>\n",
       "  </thead>\n",
       "  <tbody>\n",
       "    <tr>\n",
       "      <th>count</th>\n",
       "      <td>129971.000000</td>\n",
       "      <td>129971.000000</td>\n",
       "      <td>120975.000000</td>\n",
       "    </tr>\n",
       "    <tr>\n",
       "      <th>mean</th>\n",
       "      <td>64985.000000</td>\n",
       "      <td>88.447138</td>\n",
       "      <td>35.363389</td>\n",
       "    </tr>\n",
       "    <tr>\n",
       "      <th>std</th>\n",
       "      <td>37519.540256</td>\n",
       "      <td>3.039730</td>\n",
       "      <td>41.022218</td>\n",
       "    </tr>\n",
       "    <tr>\n",
       "      <th>min</th>\n",
       "      <td>0.000000</td>\n",
       "      <td>80.000000</td>\n",
       "      <td>4.000000</td>\n",
       "    </tr>\n",
       "    <tr>\n",
       "      <th>25%</th>\n",
       "      <td>32492.500000</td>\n",
       "      <td>86.000000</td>\n",
       "      <td>17.000000</td>\n",
       "    </tr>\n",
       "    <tr>\n",
       "      <th>50%</th>\n",
       "      <td>64985.000000</td>\n",
       "      <td>88.000000</td>\n",
       "      <td>25.000000</td>\n",
       "    </tr>\n",
       "    <tr>\n",
       "      <th>75%</th>\n",
       "      <td>97477.500000</td>\n",
       "      <td>91.000000</td>\n",
       "      <td>42.000000</td>\n",
       "    </tr>\n",
       "    <tr>\n",
       "      <th>max</th>\n",
       "      <td>129970.000000</td>\n",
       "      <td>100.000000</td>\n",
       "      <td>3300.000000</td>\n",
       "    </tr>\n",
       "  </tbody>\n",
       "</table>\n",
       "</div>"
      ],
      "text/plain": [
       "          Unnamed: 0         points          price\n",
       "count  129971.000000  129971.000000  120975.000000\n",
       "mean    64985.000000      88.447138      35.363389\n",
       "std     37519.540256       3.039730      41.022218\n",
       "min         0.000000      80.000000       4.000000\n",
       "25%     32492.500000      86.000000      17.000000\n",
       "50%     64985.000000      88.000000      25.000000\n",
       "75%     97477.500000      91.000000      42.000000\n",
       "max    129970.000000     100.000000    3300.000000"
      ]
     },
     "execution_count": 219,
     "metadata": {},
     "output_type": "execute_result"
    }
   ],
   "source": [
    "df.describe()"
   ]
  },
  {
   "cell_type": "markdown",
   "id": "8dfe7a93",
   "metadata": {},
   "source": [
    "b) Qual a origem mais comum dos vinhos? (Top 5)"
   ]
  },
  {
   "cell_type": "code",
   "execution_count": 220,
   "id": "a26d6338",
   "metadata": {},
   "outputs": [
    {
     "data": {
      "text/plain": [
       "country\n",
       "US          54504\n",
       "France      22093\n",
       "Italy       19540\n",
       "Spain        6645\n",
       "Portugal     5691\n",
       "Name: count, dtype: int64"
      ]
     },
     "execution_count": 220,
     "metadata": {},
     "output_type": "execute_result"
    }
   ],
   "source": [
    "df.country.value_counts()[:5]"
   ]
  },
  {
   "cell_type": "markdown",
   "id": "e7361eb4",
   "metadata": {},
   "source": [
    "c) Qual o preço médio dos vinhos?"
   ]
  },
  {
   "cell_type": "code",
   "execution_count": 221,
   "id": "276a35fa",
   "metadata": {},
   "outputs": [
    {
     "data": {
      "text/plain": [
       "35.363389129985535"
      ]
     },
     "execution_count": 221,
     "metadata": {},
     "output_type": "execute_result"
    }
   ],
   "source": [
    "df.price.mean()"
   ]
  },
  {
   "cell_type": "markdown",
   "id": "284348ad",
   "metadata": {},
   "source": [
    "d) Quem é o sommelier que mais aparece no banco?"
   ]
  },
  {
   "cell_type": "code",
   "execution_count": 222,
   "id": "0bb08893",
   "metadata": {},
   "outputs": [
    {
     "data": {
      "text/plain": [
       "taster_name\n",
       "Roger Voss    25514\n",
       "Name: count, dtype: int64"
      ]
     },
     "execution_count": 222,
     "metadata": {},
     "output_type": "execute_result"
    }
   ],
   "source": [
    "df.taster_name.value_counts()[:1]"
   ]
  },
  {
   "cell_type": "markdown",
   "id": "64e7b48c",
   "metadata": {},
   "source": [
    "14) Baixe os arquivos com os resultados das [eleições gerais](https://sig.tse.jus.br/ords/dwapr/r/seai/sig-eleicao-resultados/resultado-da-eleição?p0_abrangencia=UF&clear=RP&session=6209947300226) de 2022 por UF e importe no <i>Pandas</i> da mesma forma que o 1.\n",
    "\n",
    "<b>Dicas:</b> Problemas no [delimiter](https://pandas.pydata.org/docs/reference/api/pandas.read_csv.html) e no [encoding](https://pandas.pydata.org/docs/reference/api/pandas.read_csv.html) (encoding = 'latin-1'):"
   ]
  },
  {
   "cell_type": "code",
   "execution_count": 223,
   "id": "1eb15b15",
   "metadata": {},
   "outputs": [
    {
     "data": {
      "text/html": [
       "<div>\n",
       "<style scoped>\n",
       "    .dataframe tbody tr th:only-of-type {\n",
       "        vertical-align: middle;\n",
       "    }\n",
       "\n",
       "    .dataframe tbody tr th {\n",
       "        vertical-align: top;\n",
       "    }\n",
       "\n",
       "    .dataframe thead th {\n",
       "        text-align: right;\n",
       "    }\n",
       "</style>\n",
       "<table border=\"1\" class=\"dataframe\">\n",
       "  <thead>\n",
       "    <tr style=\"text-align: right;\">\n",
       "      <th></th>\n",
       "      <th>sg_uf</th>\n",
       "      <th>cd_cargo</th>\n",
       "      <th>ds_cargo</th>\n",
       "      <th>nr_candidato</th>\n",
       "      <th>nm_candidato</th>\n",
       "      <th>nm_urna_candidato</th>\n",
       "      <th>sg_partido</th>\n",
       "      <th>ds_composicao_coligacao</th>\n",
       "      <th>nr_turno</th>\n",
       "      <th>ds_sit_totalizacao</th>\n",
       "      <th>dt_ult_totalizacao</th>\n",
       "      <th>sg_ue</th>\n",
       "      <th>sq_candidato</th>\n",
       "      <th>nm_tipo_destinacao_votos</th>\n",
       "      <th>sq_eleicao_divulga</th>\n",
       "      <th>aa_eleicao</th>\n",
       "      <th>pc_votos_validos</th>\n",
       "      <th>qt_votos_nom_validos</th>\n",
       "      <th>qt_votos_concorrentes</th>\n",
       "    </tr>\n",
       "  </thead>\n",
       "  <tbody>\n",
       "    <tr>\n",
       "      <th>0</th>\n",
       "      <td>AC</td>\n",
       "      <td>1</td>\n",
       "      <td>Presidente</td>\n",
       "      <td>22</td>\n",
       "      <td>JAIR MESSIAS BOLSONARO</td>\n",
       "      <td>JAIR BOLSONARO</td>\n",
       "      <td>PL</td>\n",
       "      <td>PP / REPUBLICANOS / PL</td>\n",
       "      <td>1</td>\n",
       "      <td>Segundo turno</td>\n",
       "      <td>2022-10-04 12:06:36</td>\n",
       "      <td>BR</td>\n",
       "      <td>280001618036</td>\n",
       "      <td>Válido</td>\n",
       "      <td>2040602022</td>\n",
       "      <td>2022</td>\n",
       "      <td>0,625</td>\n",
       "      <td>275582</td>\n",
       "      <td>440917</td>\n",
       "    </tr>\n",
       "    <tr>\n",
       "      <th>1</th>\n",
       "      <td>AC</td>\n",
       "      <td>1</td>\n",
       "      <td>Presidente</td>\n",
       "      <td>13</td>\n",
       "      <td>LUIZ INÁCIO LULA DA SILVA</td>\n",
       "      <td>LULA</td>\n",
       "      <td>PT</td>\n",
       "      <td>Federação Brasil da Esperança - FE BRASIL(PT/P...</td>\n",
       "      <td>1</td>\n",
       "      <td>Segundo turno</td>\n",
       "      <td>2022-10-04 12:06:36</td>\n",
       "      <td>BR</td>\n",
       "      <td>280001607829</td>\n",
       "      <td>Válido</td>\n",
       "      <td>2040602022</td>\n",
       "      <td>2022</td>\n",
       "      <td>0,2926</td>\n",
       "      <td>129022</td>\n",
       "      <td>440917</td>\n",
       "    </tr>\n",
       "    <tr>\n",
       "      <th>2</th>\n",
       "      <td>AC</td>\n",
       "      <td>1</td>\n",
       "      <td>Presidente</td>\n",
       "      <td>15</td>\n",
       "      <td>SIMONE NASSAR TEBET</td>\n",
       "      <td>SIMONE TEBET</td>\n",
       "      <td>MDB</td>\n",
       "      <td>MDB / Federação PSDB Cidadania(PSDB/CIDADANIA)...</td>\n",
       "      <td>1</td>\n",
       "      <td>Não Eleito</td>\n",
       "      <td>2022-10-04 12:06:36</td>\n",
       "      <td>BR</td>\n",
       "      <td>280001607833</td>\n",
       "      <td>Válido</td>\n",
       "      <td>2040602022</td>\n",
       "      <td>2022</td>\n",
       "      <td>0,0456</td>\n",
       "      <td>20122</td>\n",
       "      <td>440917</td>\n",
       "    </tr>\n",
       "    <tr>\n",
       "      <th>3</th>\n",
       "      <td>AC</td>\n",
       "      <td>1</td>\n",
       "      <td>Presidente</td>\n",
       "      <td>12</td>\n",
       "      <td>CIRO FERREIRA GOMES</td>\n",
       "      <td>CIRO GOMES</td>\n",
       "      <td>PDT</td>\n",
       "      <td>PDT</td>\n",
       "      <td>1</td>\n",
       "      <td>Não Eleito</td>\n",
       "      <td>2022-10-04 12:06:36</td>\n",
       "      <td>BR</td>\n",
       "      <td>280001612393</td>\n",
       "      <td>Válido</td>\n",
       "      <td>2040602022</td>\n",
       "      <td>2022</td>\n",
       "      <td>0,0279</td>\n",
       "      <td>12314</td>\n",
       "      <td>440917</td>\n",
       "    </tr>\n",
       "    <tr>\n",
       "      <th>4</th>\n",
       "      <td>AC</td>\n",
       "      <td>1</td>\n",
       "      <td>Presidente</td>\n",
       "      <td>44</td>\n",
       "      <td>SORAYA VIEIRA THRONICKE</td>\n",
       "      <td>SORAYA THRONICKE</td>\n",
       "      <td>UNIÃO</td>\n",
       "      <td>UNIÃO</td>\n",
       "      <td>1</td>\n",
       "      <td>Não Eleito</td>\n",
       "      <td>2022-10-04 12:06:36</td>\n",
       "      <td>BR</td>\n",
       "      <td>280001644128</td>\n",
       "      <td>Válido</td>\n",
       "      <td>2040602022</td>\n",
       "      <td>2022</td>\n",
       "      <td>0,0055</td>\n",
       "      <td>2444</td>\n",
       "      <td>440917</td>\n",
       "    </tr>\n",
       "  </tbody>\n",
       "</table>\n",
       "</div>"
      ],
      "text/plain": [
       "  sg_uf  cd_cargo    ds_cargo  nr_candidato               nm_candidato  \\\n",
       "0    AC         1  Presidente            22     JAIR MESSIAS BOLSONARO   \n",
       "1    AC         1  Presidente            13  LUIZ INÁCIO LULA DA SILVA   \n",
       "2    AC         1  Presidente            15        SIMONE NASSAR TEBET   \n",
       "3    AC         1  Presidente            12        CIRO FERREIRA GOMES   \n",
       "4    AC         1  Presidente            44    SORAYA VIEIRA THRONICKE   \n",
       "\n",
       "  nm_urna_candidato sg_partido  \\\n",
       "0    JAIR BOLSONARO         PL   \n",
       "1              LULA         PT   \n",
       "2      SIMONE TEBET        MDB   \n",
       "3        CIRO GOMES        PDT   \n",
       "4  SORAYA THRONICKE      UNIÃO   \n",
       "\n",
       "                             ds_composicao_coligacao  nr_turno  \\\n",
       "0                             PP / REPUBLICANOS / PL         1   \n",
       "1  Federação Brasil da Esperança - FE BRASIL(PT/P...         1   \n",
       "2  MDB / Federação PSDB Cidadania(PSDB/CIDADANIA)...         1   \n",
       "3                                                PDT         1   \n",
       "4                                              UNIÃO         1   \n",
       "\n",
       "  ds_sit_totalizacao   dt_ult_totalizacao sg_ue  sq_candidato  \\\n",
       "0      Segundo turno  2022-10-04 12:06:36    BR  280001618036   \n",
       "1      Segundo turno  2022-10-04 12:06:36    BR  280001607829   \n",
       "2         Não Eleito  2022-10-04 12:06:36    BR  280001607833   \n",
       "3         Não Eleito  2022-10-04 12:06:36    BR  280001612393   \n",
       "4         Não Eleito  2022-10-04 12:06:36    BR  280001644128   \n",
       "\n",
       "  nm_tipo_destinacao_votos  sq_eleicao_divulga  aa_eleicao pc_votos_validos  \\\n",
       "0                   Válido          2040602022        2022            0,625   \n",
       "1                   Válido          2040602022        2022           0,2926   \n",
       "2                   Válido          2040602022        2022           0,0456   \n",
       "3                   Válido          2040602022        2022           0,0279   \n",
       "4                   Válido          2040602022        2022           0,0055   \n",
       "\n",
       "   qt_votos_nom_validos  qt_votos_concorrentes  \n",
       "0                275582                 440917  \n",
       "1                129022                 440917  \n",
       "2                 20122                 440917  \n",
       "3                 12314                 440917  \n",
       "4                  2444                 440917  "
      ]
     },
     "execution_count": 223,
     "metadata": {},
     "output_type": "execute_result"
    }
   ],
   "source": [
    "caminho_arquivo = 'dataset\\\\votacao_candidato-uf_presidente_2022.csv'\n",
    "\n",
    "df = pd.read_csv(caminho_arquivo,\n",
    "                 delimiter = ';',\n",
    "                 encoding = 'latin-1')\n",
    "\n",
    "df.head()"
   ]
  },
  {
   "cell_type": "markdown",
   "id": "ff851172",
   "metadata": {},
   "source": [
    "a) Filtre o que é relacionado só com o cargo de presidente e no primeiro turno:"
   ]
  },
  {
   "cell_type": "code",
   "execution_count": 224,
   "id": "d1985429",
   "metadata": {},
   "outputs": [
    {
     "data": {
      "text/html": [
       "<div>\n",
       "<style scoped>\n",
       "    .dataframe tbody tr th:only-of-type {\n",
       "        vertical-align: middle;\n",
       "    }\n",
       "\n",
       "    .dataframe tbody tr th {\n",
       "        vertical-align: top;\n",
       "    }\n",
       "\n",
       "    .dataframe thead th {\n",
       "        text-align: right;\n",
       "    }\n",
       "</style>\n",
       "<table border=\"1\" class=\"dataframe\">\n",
       "  <thead>\n",
       "    <tr style=\"text-align: right;\">\n",
       "      <th></th>\n",
       "      <th>sg_uf</th>\n",
       "      <th>cd_cargo</th>\n",
       "      <th>ds_cargo</th>\n",
       "      <th>nr_candidato</th>\n",
       "      <th>nm_candidato</th>\n",
       "      <th>nm_urna_candidato</th>\n",
       "      <th>sg_partido</th>\n",
       "      <th>ds_composicao_coligacao</th>\n",
       "      <th>nr_turno</th>\n",
       "      <th>ds_sit_totalizacao</th>\n",
       "      <th>dt_ult_totalizacao</th>\n",
       "      <th>sg_ue</th>\n",
       "      <th>sq_candidato</th>\n",
       "      <th>nm_tipo_destinacao_votos</th>\n",
       "      <th>sq_eleicao_divulga</th>\n",
       "      <th>aa_eleicao</th>\n",
       "      <th>pc_votos_validos</th>\n",
       "      <th>qt_votos_nom_validos</th>\n",
       "      <th>qt_votos_concorrentes</th>\n",
       "    </tr>\n",
       "  </thead>\n",
       "  <tbody>\n",
       "    <tr>\n",
       "      <th>0</th>\n",
       "      <td>AC</td>\n",
       "      <td>1</td>\n",
       "      <td>Presidente</td>\n",
       "      <td>22</td>\n",
       "      <td>JAIR MESSIAS BOLSONARO</td>\n",
       "      <td>JAIR BOLSONARO</td>\n",
       "      <td>PL</td>\n",
       "      <td>PP / REPUBLICANOS / PL</td>\n",
       "      <td>1</td>\n",
       "      <td>Segundo turno</td>\n",
       "      <td>2022-10-04 12:06:36</td>\n",
       "      <td>BR</td>\n",
       "      <td>280001618036</td>\n",
       "      <td>Válido</td>\n",
       "      <td>2040602022</td>\n",
       "      <td>2022</td>\n",
       "      <td>0,625</td>\n",
       "      <td>275582</td>\n",
       "      <td>440917</td>\n",
       "    </tr>\n",
       "    <tr>\n",
       "      <th>1</th>\n",
       "      <td>AC</td>\n",
       "      <td>1</td>\n",
       "      <td>Presidente</td>\n",
       "      <td>13</td>\n",
       "      <td>LUIZ INÁCIO LULA DA SILVA</td>\n",
       "      <td>LULA</td>\n",
       "      <td>PT</td>\n",
       "      <td>Federação Brasil da Esperança - FE BRASIL(PT/P...</td>\n",
       "      <td>1</td>\n",
       "      <td>Segundo turno</td>\n",
       "      <td>2022-10-04 12:06:36</td>\n",
       "      <td>BR</td>\n",
       "      <td>280001607829</td>\n",
       "      <td>Válido</td>\n",
       "      <td>2040602022</td>\n",
       "      <td>2022</td>\n",
       "      <td>0,2926</td>\n",
       "      <td>129022</td>\n",
       "      <td>440917</td>\n",
       "    </tr>\n",
       "    <tr>\n",
       "      <th>2</th>\n",
       "      <td>AC</td>\n",
       "      <td>1</td>\n",
       "      <td>Presidente</td>\n",
       "      <td>15</td>\n",
       "      <td>SIMONE NASSAR TEBET</td>\n",
       "      <td>SIMONE TEBET</td>\n",
       "      <td>MDB</td>\n",
       "      <td>MDB / Federação PSDB Cidadania(PSDB/CIDADANIA)...</td>\n",
       "      <td>1</td>\n",
       "      <td>Não Eleito</td>\n",
       "      <td>2022-10-04 12:06:36</td>\n",
       "      <td>BR</td>\n",
       "      <td>280001607833</td>\n",
       "      <td>Válido</td>\n",
       "      <td>2040602022</td>\n",
       "      <td>2022</td>\n",
       "      <td>0,0456</td>\n",
       "      <td>20122</td>\n",
       "      <td>440917</td>\n",
       "    </tr>\n",
       "    <tr>\n",
       "      <th>3</th>\n",
       "      <td>AC</td>\n",
       "      <td>1</td>\n",
       "      <td>Presidente</td>\n",
       "      <td>12</td>\n",
       "      <td>CIRO FERREIRA GOMES</td>\n",
       "      <td>CIRO GOMES</td>\n",
       "      <td>PDT</td>\n",
       "      <td>PDT</td>\n",
       "      <td>1</td>\n",
       "      <td>Não Eleito</td>\n",
       "      <td>2022-10-04 12:06:36</td>\n",
       "      <td>BR</td>\n",
       "      <td>280001612393</td>\n",
       "      <td>Válido</td>\n",
       "      <td>2040602022</td>\n",
       "      <td>2022</td>\n",
       "      <td>0,0279</td>\n",
       "      <td>12314</td>\n",
       "      <td>440917</td>\n",
       "    </tr>\n",
       "    <tr>\n",
       "      <th>4</th>\n",
       "      <td>AC</td>\n",
       "      <td>1</td>\n",
       "      <td>Presidente</td>\n",
       "      <td>44</td>\n",
       "      <td>SORAYA VIEIRA THRONICKE</td>\n",
       "      <td>SORAYA THRONICKE</td>\n",
       "      <td>UNIÃO</td>\n",
       "      <td>UNIÃO</td>\n",
       "      <td>1</td>\n",
       "      <td>Não Eleito</td>\n",
       "      <td>2022-10-04 12:06:36</td>\n",
       "      <td>BR</td>\n",
       "      <td>280001644128</td>\n",
       "      <td>Válido</td>\n",
       "      <td>2040602022</td>\n",
       "      <td>2022</td>\n",
       "      <td>0,0055</td>\n",
       "      <td>2444</td>\n",
       "      <td>440917</td>\n",
       "    </tr>\n",
       "    <tr>\n",
       "      <th>...</th>\n",
       "      <td>...</td>\n",
       "      <td>...</td>\n",
       "      <td>...</td>\n",
       "      <td>...</td>\n",
       "      <td>...</td>\n",
       "      <td>...</td>\n",
       "      <td>...</td>\n",
       "      <td>...</td>\n",
       "      <td>...</td>\n",
       "      <td>...</td>\n",
       "      <td>...</td>\n",
       "      <td>...</td>\n",
       "      <td>...</td>\n",
       "      <td>...</td>\n",
       "      <td>...</td>\n",
       "      <td>...</td>\n",
       "      <td>...</td>\n",
       "      <td>...</td>\n",
       "      <td>...</td>\n",
       "    </tr>\n",
       "    <tr>\n",
       "      <th>303</th>\n",
       "      <td>ZZ</td>\n",
       "      <td>1</td>\n",
       "      <td>Presidente</td>\n",
       "      <td>21</td>\n",
       "      <td>SOFIA PADUA MANZANO</td>\n",
       "      <td>SOFIA MANZANO</td>\n",
       "      <td>PCB</td>\n",
       "      <td>PCB</td>\n",
       "      <td>1</td>\n",
       "      <td>Não Eleito</td>\n",
       "      <td>2022-10-04 12:06:36</td>\n",
       "      <td>BR</td>\n",
       "      <td>280001600167</td>\n",
       "      <td>Válido</td>\n",
       "      <td>2040602022</td>\n",
       "      <td>2022</td>\n",
       "      <td>0,0021</td>\n",
       "      <td>618</td>\n",
       "      <td>294525</td>\n",
       "    </tr>\n",
       "    <tr>\n",
       "      <th>304</th>\n",
       "      <td>ZZ</td>\n",
       "      <td>1</td>\n",
       "      <td>Presidente</td>\n",
       "      <td>16</td>\n",
       "      <td>VERA LUCIA PEREIRA DA SILVA SALGADO</td>\n",
       "      <td>VERA</td>\n",
       "      <td>PSTU</td>\n",
       "      <td>PSTU</td>\n",
       "      <td>1</td>\n",
       "      <td>Não Eleito</td>\n",
       "      <td>2022-10-04 12:06:36</td>\n",
       "      <td>BR</td>\n",
       "      <td>280001607831</td>\n",
       "      <td>Válido</td>\n",
       "      <td>2040602022</td>\n",
       "      <td>2022</td>\n",
       "      <td>0,0016</td>\n",
       "      <td>464</td>\n",
       "      <td>294525</td>\n",
       "    </tr>\n",
       "    <tr>\n",
       "      <th>305</th>\n",
       "      <td>ZZ</td>\n",
       "      <td>1</td>\n",
       "      <td>Presidente</td>\n",
       "      <td>14</td>\n",
       "      <td>KELMON LUIS DA SILVA SOUZA</td>\n",
       "      <td>PADRE KELMON</td>\n",
       "      <td>PTB</td>\n",
       "      <td>PTB</td>\n",
       "      <td>1</td>\n",
       "      <td>Não Eleito</td>\n",
       "      <td>2022-10-04 12:06:36</td>\n",
       "      <td>BR</td>\n",
       "      <td>280001734029</td>\n",
       "      <td>Válido</td>\n",
       "      <td>2040602022</td>\n",
       "      <td>2022</td>\n",
       "      <td>0,0012</td>\n",
       "      <td>344</td>\n",
       "      <td>294525</td>\n",
       "    </tr>\n",
       "    <tr>\n",
       "      <th>306</th>\n",
       "      <td>ZZ</td>\n",
       "      <td>1</td>\n",
       "      <td>Presidente</td>\n",
       "      <td>80</td>\n",
       "      <td>LEONARDO PÉRICLES VIEIRA ROQUE</td>\n",
       "      <td>LÉO PÉRICLES</td>\n",
       "      <td>UP</td>\n",
       "      <td>UP</td>\n",
       "      <td>1</td>\n",
       "      <td>Não Eleito</td>\n",
       "      <td>2022-10-04 12:06:36</td>\n",
       "      <td>BR</td>\n",
       "      <td>280001602702</td>\n",
       "      <td>Válido</td>\n",
       "      <td>2040602022</td>\n",
       "      <td>2022</td>\n",
       "      <td>0,0011</td>\n",
       "      <td>319</td>\n",
       "      <td>294525</td>\n",
       "    </tr>\n",
       "    <tr>\n",
       "      <th>307</th>\n",
       "      <td>ZZ</td>\n",
       "      <td>1</td>\n",
       "      <td>Presidente</td>\n",
       "      <td>27</td>\n",
       "      <td>JOSE MARIA EYMAEL</td>\n",
       "      <td>CONSTITUINTE EYMAEL</td>\n",
       "      <td>DC</td>\n",
       "      <td>DC</td>\n",
       "      <td>1</td>\n",
       "      <td>Não Eleito</td>\n",
       "      <td>2022-10-04 12:06:36</td>\n",
       "      <td>BR</td>\n",
       "      <td>280001677435</td>\n",
       "      <td>Válido</td>\n",
       "      <td>2040602022</td>\n",
       "      <td>2022</td>\n",
       "      <td>0,0009</td>\n",
       "      <td>258</td>\n",
       "      <td>294525</td>\n",
       "    </tr>\n",
       "  </tbody>\n",
       "</table>\n",
       "<p>308 rows × 19 columns</p>\n",
       "</div>"
      ],
      "text/plain": [
       "    sg_uf  cd_cargo    ds_cargo  nr_candidato  \\\n",
       "0      AC         1  Presidente            22   \n",
       "1      AC         1  Presidente            13   \n",
       "2      AC         1  Presidente            15   \n",
       "3      AC         1  Presidente            12   \n",
       "4      AC         1  Presidente            44   \n",
       "..    ...       ...         ...           ...   \n",
       "303    ZZ         1  Presidente            21   \n",
       "304    ZZ         1  Presidente            16   \n",
       "305    ZZ         1  Presidente            14   \n",
       "306    ZZ         1  Presidente            80   \n",
       "307    ZZ         1  Presidente            27   \n",
       "\n",
       "                            nm_candidato    nm_urna_candidato sg_partido  \\\n",
       "0                 JAIR MESSIAS BOLSONARO       JAIR BOLSONARO         PL   \n",
       "1              LUIZ INÁCIO LULA DA SILVA                 LULA         PT   \n",
       "2                    SIMONE NASSAR TEBET         SIMONE TEBET        MDB   \n",
       "3                    CIRO FERREIRA GOMES           CIRO GOMES        PDT   \n",
       "4                SORAYA VIEIRA THRONICKE     SORAYA THRONICKE      UNIÃO   \n",
       "..                                   ...                  ...        ...   \n",
       "303                  SOFIA PADUA MANZANO        SOFIA MANZANO        PCB   \n",
       "304  VERA LUCIA PEREIRA DA SILVA SALGADO                 VERA       PSTU   \n",
       "305           KELMON LUIS DA SILVA SOUZA         PADRE KELMON        PTB   \n",
       "306       LEONARDO PÉRICLES VIEIRA ROQUE         LÉO PÉRICLES         UP   \n",
       "307                    JOSE MARIA EYMAEL  CONSTITUINTE EYMAEL         DC   \n",
       "\n",
       "                               ds_composicao_coligacao  nr_turno  \\\n",
       "0                               PP / REPUBLICANOS / PL         1   \n",
       "1    Federação Brasil da Esperança - FE BRASIL(PT/P...         1   \n",
       "2    MDB / Federação PSDB Cidadania(PSDB/CIDADANIA)...         1   \n",
       "3                                                  PDT         1   \n",
       "4                                                UNIÃO         1   \n",
       "..                                                 ...       ...   \n",
       "303                                                PCB         1   \n",
       "304                                               PSTU         1   \n",
       "305                                                PTB         1   \n",
       "306                                                 UP         1   \n",
       "307                                                 DC         1   \n",
       "\n",
       "    ds_sit_totalizacao   dt_ult_totalizacao sg_ue  sq_candidato  \\\n",
       "0        Segundo turno  2022-10-04 12:06:36    BR  280001618036   \n",
       "1        Segundo turno  2022-10-04 12:06:36    BR  280001607829   \n",
       "2           Não Eleito  2022-10-04 12:06:36    BR  280001607833   \n",
       "3           Não Eleito  2022-10-04 12:06:36    BR  280001612393   \n",
       "4           Não Eleito  2022-10-04 12:06:36    BR  280001644128   \n",
       "..                 ...                  ...   ...           ...   \n",
       "303         Não Eleito  2022-10-04 12:06:36    BR  280001600167   \n",
       "304         Não Eleito  2022-10-04 12:06:36    BR  280001607831   \n",
       "305         Não Eleito  2022-10-04 12:06:36    BR  280001734029   \n",
       "306         Não Eleito  2022-10-04 12:06:36    BR  280001602702   \n",
       "307         Não Eleito  2022-10-04 12:06:36    BR  280001677435   \n",
       "\n",
       "    nm_tipo_destinacao_votos  sq_eleicao_divulga  aa_eleicao pc_votos_validos  \\\n",
       "0                     Válido          2040602022        2022            0,625   \n",
       "1                     Válido          2040602022        2022           0,2926   \n",
       "2                     Válido          2040602022        2022           0,0456   \n",
       "3                     Válido          2040602022        2022           0,0279   \n",
       "4                     Válido          2040602022        2022           0,0055   \n",
       "..                       ...                 ...         ...              ...   \n",
       "303                   Válido          2040602022        2022           0,0021   \n",
       "304                   Válido          2040602022        2022           0,0016   \n",
       "305                   Válido          2040602022        2022           0,0012   \n",
       "306                   Válido          2040602022        2022           0,0011   \n",
       "307                   Válido          2040602022        2022           0,0009   \n",
       "\n",
       "     qt_votos_nom_validos  qt_votos_concorrentes  \n",
       "0                  275582                 440917  \n",
       "1                  129022                 440917  \n",
       "2                   20122                 440917  \n",
       "3                   12314                 440917  \n",
       "4                    2444                 440917  \n",
       "..                    ...                    ...  \n",
       "303                   618                 294525  \n",
       "304                   464                 294525  \n",
       "305                   344                 294525  \n",
       "306                   319                 294525  \n",
       "307                   258                 294525  \n",
       "\n",
       "[308 rows x 19 columns]"
      ]
     },
     "execution_count": 224,
     "metadata": {},
     "output_type": "execute_result"
    }
   ],
   "source": [
    "df = df[(df['ds_cargo'] == 'Presidente') & (df['nr_turno'] == 1)]\n",
    "\n",
    "df"
   ]
  },
  {
   "cell_type": "markdown",
   "id": "5ccdbc07",
   "metadata": {},
   "source": [
    "<p align=\"justify\">b) Crie um novo <i>Data Frame</i> só com as colunas sg_uf, nm_urna_candidato, pc_votos_validos e qt_votos_nom_validos. Use 'reset_index()' para reconfigurar o índice:"
   ]
  },
  {
   "cell_type": "code",
   "execution_count": 225,
   "id": "353bcf1d",
   "metadata": {},
   "outputs": [
    {
     "data": {
      "text/html": [
       "<div>\n",
       "<style scoped>\n",
       "    .dataframe tbody tr th:only-of-type {\n",
       "        vertical-align: middle;\n",
       "    }\n",
       "\n",
       "    .dataframe tbody tr th {\n",
       "        vertical-align: top;\n",
       "    }\n",
       "\n",
       "    .dataframe thead th {\n",
       "        text-align: right;\n",
       "    }\n",
       "</style>\n",
       "<table border=\"1\" class=\"dataframe\">\n",
       "  <thead>\n",
       "    <tr style=\"text-align: right;\">\n",
       "      <th></th>\n",
       "      <th>index</th>\n",
       "      <th>sg_uf</th>\n",
       "      <th>nm_urna_candidato</th>\n",
       "      <th>pc_votos_validos</th>\n",
       "      <th>qt_votos_nom_validos</th>\n",
       "    </tr>\n",
       "  </thead>\n",
       "  <tbody>\n",
       "    <tr>\n",
       "      <th>0</th>\n",
       "      <td>0</td>\n",
       "      <td>AC</td>\n",
       "      <td>JAIR BOLSONARO</td>\n",
       "      <td>0,625</td>\n",
       "      <td>275582</td>\n",
       "    </tr>\n",
       "    <tr>\n",
       "      <th>1</th>\n",
       "      <td>1</td>\n",
       "      <td>AC</td>\n",
       "      <td>LULA</td>\n",
       "      <td>0,2926</td>\n",
       "      <td>129022</td>\n",
       "    </tr>\n",
       "    <tr>\n",
       "      <th>2</th>\n",
       "      <td>2</td>\n",
       "      <td>AC</td>\n",
       "      <td>SIMONE TEBET</td>\n",
       "      <td>0,0456</td>\n",
       "      <td>20122</td>\n",
       "    </tr>\n",
       "    <tr>\n",
       "      <th>3</th>\n",
       "      <td>3</td>\n",
       "      <td>AC</td>\n",
       "      <td>CIRO GOMES</td>\n",
       "      <td>0,0279</td>\n",
       "      <td>12314</td>\n",
       "    </tr>\n",
       "    <tr>\n",
       "      <th>4</th>\n",
       "      <td>4</td>\n",
       "      <td>AC</td>\n",
       "      <td>SORAYA THRONICKE</td>\n",
       "      <td>0,0055</td>\n",
       "      <td>2444</td>\n",
       "    </tr>\n",
       "    <tr>\n",
       "      <th>...</th>\n",
       "      <td>...</td>\n",
       "      <td>...</td>\n",
       "      <td>...</td>\n",
       "      <td>...</td>\n",
       "      <td>...</td>\n",
       "    </tr>\n",
       "    <tr>\n",
       "      <th>303</th>\n",
       "      <td>303</td>\n",
       "      <td>ZZ</td>\n",
       "      <td>SOFIA MANZANO</td>\n",
       "      <td>0,0021</td>\n",
       "      <td>618</td>\n",
       "    </tr>\n",
       "    <tr>\n",
       "      <th>304</th>\n",
       "      <td>304</td>\n",
       "      <td>ZZ</td>\n",
       "      <td>VERA</td>\n",
       "      <td>0,0016</td>\n",
       "      <td>464</td>\n",
       "    </tr>\n",
       "    <tr>\n",
       "      <th>305</th>\n",
       "      <td>305</td>\n",
       "      <td>ZZ</td>\n",
       "      <td>PADRE KELMON</td>\n",
       "      <td>0,0012</td>\n",
       "      <td>344</td>\n",
       "    </tr>\n",
       "    <tr>\n",
       "      <th>306</th>\n",
       "      <td>306</td>\n",
       "      <td>ZZ</td>\n",
       "      <td>LÉO PÉRICLES</td>\n",
       "      <td>0,0011</td>\n",
       "      <td>319</td>\n",
       "    </tr>\n",
       "    <tr>\n",
       "      <th>307</th>\n",
       "      <td>307</td>\n",
       "      <td>ZZ</td>\n",
       "      <td>CONSTITUINTE EYMAEL</td>\n",
       "      <td>0,0009</td>\n",
       "      <td>258</td>\n",
       "    </tr>\n",
       "  </tbody>\n",
       "</table>\n",
       "<p>308 rows × 5 columns</p>\n",
       "</div>"
      ],
      "text/plain": [
       "     index sg_uf    nm_urna_candidato pc_votos_validos  qt_votos_nom_validos\n",
       "0        0    AC       JAIR BOLSONARO            0,625                275582\n",
       "1        1    AC                 LULA           0,2926                129022\n",
       "2        2    AC         SIMONE TEBET           0,0456                 20122\n",
       "3        3    AC           CIRO GOMES           0,0279                 12314\n",
       "4        4    AC     SORAYA THRONICKE           0,0055                  2444\n",
       "..     ...   ...                  ...              ...                   ...\n",
       "303    303    ZZ        SOFIA MANZANO           0,0021                   618\n",
       "304    304    ZZ                 VERA           0,0016                   464\n",
       "305    305    ZZ         PADRE KELMON           0,0012                   344\n",
       "306    306    ZZ         LÉO PÉRICLES           0,0011                   319\n",
       "307    307    ZZ  CONSTITUINTE EYMAEL           0,0009                   258\n",
       "\n",
       "[308 rows x 5 columns]"
      ]
     },
     "execution_count": 225,
     "metadata": {},
     "output_type": "execute_result"
    }
   ],
   "source": [
    "df2 = df[['sg_uf', 'nm_urna_candidato', 'pc_votos_validos', 'qt_votos_nom_validos']].reset_index()\n",
    "\n",
    "df2"
   ]
  },
  {
   "cell_type": "markdown",
   "id": "dfbc0960",
   "metadata": {},
   "source": [
    "<p align=\"justify\">c) Mostre o maior valor de qt_votos_nom_validos e a linha em que ocorre:"
   ]
  },
  {
   "cell_type": "code",
   "execution_count": 226,
   "id": "158cf6fe",
   "metadata": {},
   "outputs": [
    {
     "name": "stdout",
     "output_type": "stream",
     "text": [
      "O maior valor é de 12239989 e ele ocorre na linha 275\n",
      "index                              275\n",
      "sg_uf                               SP\n",
      "nm_urna_candidato       JAIR BOLSONARO\n",
      "pc_votos_validos                0,4771\n",
      "qt_votos_nom_validos          12239989\n",
      "Name: 275, dtype: object\n"
     ]
    }
   ],
   "source": [
    "maior = df2.qt_votos_nom_validos.max()\n",
    "linha = df2.qt_votos_nom_validos.idxmax()\n",
    "\n",
    "print(f'O maior valor é de {maior} e ele ocorre na linha {linha}')\n",
    "print(df2.iloc[275])"
   ]
  },
  {
   "cell_type": "markdown",
   "id": "cec87ac1",
   "metadata": {},
   "source": [
    "15) Importe \"tweets_annotated.csv\" do seguinte [repositório](https://github.com/PedroSchmalz/covid19-tweets-brazilian-mayoral-candidates):"
   ]
  },
  {
   "cell_type": "code",
   "execution_count": 227,
   "id": "e1d89eb7",
   "metadata": {},
   "outputs": [
    {
     "data": {
      "text/html": [
       "<div>\n",
       "<style scoped>\n",
       "    .dataframe tbody tr th:only-of-type {\n",
       "        vertical-align: middle;\n",
       "    }\n",
       "\n",
       "    .dataframe tbody tr th {\n",
       "        vertical-align: top;\n",
       "    }\n",
       "\n",
       "    .dataframe thead th {\n",
       "        text-align: right;\n",
       "    }\n",
       "</style>\n",
       "<table border=\"1\" class=\"dataframe\">\n",
       "  <thead>\n",
       "    <tr style=\"text-align: right;\">\n",
       "      <th></th>\n",
       "      <th>date_post</th>\n",
       "      <th>tweet_id</th>\n",
       "      <th>content</th>\n",
       "      <th>post_vaccine</th>\n",
       "      <th>positions_vac</th>\n",
       "    </tr>\n",
       "  </thead>\n",
       "  <tbody>\n",
       "    <tr>\n",
       "      <th>0</th>\n",
       "      <td>2020-03-19</td>\n",
       "      <td>1240808239224090112</td>\n",
       "      <td>Tenho duas amigas doutorandas na USP. Não estã...</td>\n",
       "      <td>1</td>\n",
       "      <td>1.0</td>\n",
       "    </tr>\n",
       "    <tr>\n",
       "      <th>1</th>\n",
       "      <td>2020-03-20</td>\n",
       "      <td>1241121140988410112</td>\n",
       "      <td>Senado: Promulgado artigo que protege IBGE, Em...</td>\n",
       "      <td>0</td>\n",
       "      <td>NaN</td>\n",
       "    </tr>\n",
       "    <tr>\n",
       "      <th>2</th>\n",
       "      <td>2020-03-22</td>\n",
       "      <td>1241825454539120128</td>\n",
       "      <td>ATENÇÃO: programem-se para a vacinação contra ...</td>\n",
       "      <td>0</td>\n",
       "      <td>NaN</td>\n",
       "    </tr>\n",
       "    <tr>\n",
       "      <th>3</th>\n",
       "      <td>2020-09-01</td>\n",
       "      <td>1300918558067770112</td>\n",
       "      <td>Chega a ser inacreditável que o governo esteja...</td>\n",
       "      <td>1</td>\n",
       "      <td>1.0</td>\n",
       "    </tr>\n",
       "    <tr>\n",
       "      <th>4</th>\n",
       "      <td>2020-10-21</td>\n",
       "      <td>1319042054463290112</td>\n",
       "      <td>Como prefeito, vamos garantir através da Prefe...</td>\n",
       "      <td>1</td>\n",
       "      <td>1.0</td>\n",
       "    </tr>\n",
       "    <tr>\n",
       "      <th>...</th>\n",
       "      <td>...</td>\n",
       "      <td>...</td>\n",
       "      <td>...</td>\n",
       "      <td>...</td>\n",
       "      <td>...</td>\n",
       "    </tr>\n",
       "    <tr>\n",
       "      <th>7051</th>\n",
       "      <td>2021-06-28</td>\n",
       "      <td>1409592686840066048</td>\n",
       "      <td>Com os depoimentos dos irmãos Miranda foi dado...</td>\n",
       "      <td>1</td>\n",
       "      <td>2.0</td>\n",
       "    </tr>\n",
       "    <tr>\n",
       "      <th>7052</th>\n",
       "      <td>2021-04-30</td>\n",
       "      <td>1388202351996150016</td>\n",
       "      <td>Muitas pessoas estão questionando por que segu...</td>\n",
       "      <td>1</td>\n",
       "      <td>2.0</td>\n",
       "    </tr>\n",
       "    <tr>\n",
       "      <th>7053</th>\n",
       "      <td>2021-03-19</td>\n",
       "      <td>1372931201871281920</td>\n",
       "      <td>Gen Heleno de MÁSCARA, tomando VACINA. Cloroqu...</td>\n",
       "      <td>1</td>\n",
       "      <td>1.0</td>\n",
       "    </tr>\n",
       "    <tr>\n",
       "      <th>7054</th>\n",
       "      <td>2021-10-09</td>\n",
       "      <td>1446834442031575040</td>\n",
       "      <td>As UBS Hélio Macedo, Aygara Motta, Dalmo Feito...</td>\n",
       "      <td>1</td>\n",
       "      <td>1.0</td>\n",
       "    </tr>\n",
       "    <tr>\n",
       "      <th>7055</th>\n",
       "      <td>2021-08-02</td>\n",
       "      <td>1422321283350639104</td>\n",
       "      <td>Acompanhei a vacinação contra covid-19 das equ...</td>\n",
       "      <td>1</td>\n",
       "      <td>1.0</td>\n",
       "    </tr>\n",
       "  </tbody>\n",
       "</table>\n",
       "<p>7056 rows × 5 columns</p>\n",
       "</div>"
      ],
      "text/plain": [
       "       date_post             tweet_id  \\\n",
       "0     2020-03-19  1240808239224090112   \n",
       "1     2020-03-20  1241121140988410112   \n",
       "2     2020-03-22  1241825454539120128   \n",
       "3     2020-09-01  1300918558067770112   \n",
       "4     2020-10-21  1319042054463290112   \n",
       "...          ...                  ...   \n",
       "7051  2021-06-28  1409592686840066048   \n",
       "7052  2021-04-30  1388202351996150016   \n",
       "7053  2021-03-19  1372931201871281920   \n",
       "7054  2021-10-09  1446834442031575040   \n",
       "7055  2021-08-02  1422321283350639104   \n",
       "\n",
       "                                                content  post_vaccine  \\\n",
       "0     Tenho duas amigas doutorandas na USP. Não estã...             1   \n",
       "1     Senado: Promulgado artigo que protege IBGE, Em...             0   \n",
       "2     ATENÇÃO: programem-se para a vacinação contra ...             0   \n",
       "3     Chega a ser inacreditável que o governo esteja...             1   \n",
       "4     Como prefeito, vamos garantir através da Prefe...             1   \n",
       "...                                                 ...           ...   \n",
       "7051  Com os depoimentos dos irmãos Miranda foi dado...             1   \n",
       "7052  Muitas pessoas estão questionando por que segu...             1   \n",
       "7053  Gen Heleno de MÁSCARA, tomando VACINA. Cloroqu...             1   \n",
       "7054  As UBS Hélio Macedo, Aygara Motta, Dalmo Feito...             1   \n",
       "7055  Acompanhei a vacinação contra covid-19 das equ...             1   \n",
       "\n",
       "      positions_vac  \n",
       "0               1.0  \n",
       "1               NaN  \n",
       "2               NaN  \n",
       "3               1.0  \n",
       "4               1.0  \n",
       "...             ...  \n",
       "7051            2.0  \n",
       "7052            2.0  \n",
       "7053            1.0  \n",
       "7054            1.0  \n",
       "7055            1.0  \n",
       "\n",
       "[7056 rows x 5 columns]"
      ]
     },
     "execution_count": 227,
     "metadata": {},
     "output_type": "execute_result"
    }
   ],
   "source": [
    "df = pd.read_csv('https://raw.githubusercontent.com/PedroSchmalz/covid19-tweets-brazilian-mayoral-candidates/main/tweets_annotated.csv')\n",
    "\n",
    "df"
   ]
  },
  {
   "cell_type": "markdown",
   "id": "8a48a253",
   "metadata": {},
   "source": [
    "<p align=\"justify\">a) Exclua as linhas em que 'post_vaccine' é igual a 0 e salve isso em um novo <i>Data Frame</i>:"
   ]
  },
  {
   "cell_type": "code",
   "execution_count": 228,
   "id": "a2a61878",
   "metadata": {},
   "outputs": [
    {
     "data": {
      "text/html": [
       "<div>\n",
       "<style scoped>\n",
       "    .dataframe tbody tr th:only-of-type {\n",
       "        vertical-align: middle;\n",
       "    }\n",
       "\n",
       "    .dataframe tbody tr th {\n",
       "        vertical-align: top;\n",
       "    }\n",
       "\n",
       "    .dataframe thead th {\n",
       "        text-align: right;\n",
       "    }\n",
       "</style>\n",
       "<table border=\"1\" class=\"dataframe\">\n",
       "  <thead>\n",
       "    <tr style=\"text-align: right;\">\n",
       "      <th></th>\n",
       "      <th>date_post</th>\n",
       "      <th>tweet_id</th>\n",
       "      <th>content</th>\n",
       "      <th>post_vaccine</th>\n",
       "      <th>positions_vac</th>\n",
       "    </tr>\n",
       "  </thead>\n",
       "  <tbody>\n",
       "    <tr>\n",
       "      <th>0</th>\n",
       "      <td>2020-03-19</td>\n",
       "      <td>1240808239224090112</td>\n",
       "      <td>Tenho duas amigas doutorandas na USP. Não estã...</td>\n",
       "      <td>1</td>\n",
       "      <td>1.0</td>\n",
       "    </tr>\n",
       "    <tr>\n",
       "      <th>3</th>\n",
       "      <td>2020-09-01</td>\n",
       "      <td>1300918558067770112</td>\n",
       "      <td>Chega a ser inacreditável que o governo esteja...</td>\n",
       "      <td>1</td>\n",
       "      <td>1.0</td>\n",
       "    </tr>\n",
       "    <tr>\n",
       "      <th>4</th>\n",
       "      <td>2020-10-21</td>\n",
       "      <td>1319042054463290112</td>\n",
       "      <td>Como prefeito, vamos garantir através da Prefe...</td>\n",
       "      <td>1</td>\n",
       "      <td>1.0</td>\n",
       "    </tr>\n",
       "    <tr>\n",
       "      <th>5</th>\n",
       "      <td>2020-11-17</td>\n",
       "      <td>1328772384585860096</td>\n",
       "      <td>E reafirmando o compromisso de, como Prefeito,...</td>\n",
       "      <td>1</td>\n",
       "      <td>1.0</td>\n",
       "    </tr>\n",
       "    <tr>\n",
       "      <th>6</th>\n",
       "      <td>2020-11-19</td>\n",
       "      <td>1329419704847490048</td>\n",
       "      <td>Égua já pensaste?! Não sei se dá pra ser assim...</td>\n",
       "      <td>1</td>\n",
       "      <td>1.0</td>\n",
       "    </tr>\n",
       "    <tr>\n",
       "      <th>...</th>\n",
       "      <td>...</td>\n",
       "      <td>...</td>\n",
       "      <td>...</td>\n",
       "      <td>...</td>\n",
       "      <td>...</td>\n",
       "    </tr>\n",
       "    <tr>\n",
       "      <th>7051</th>\n",
       "      <td>2021-06-28</td>\n",
       "      <td>1409592686840066048</td>\n",
       "      <td>Com os depoimentos dos irmãos Miranda foi dado...</td>\n",
       "      <td>1</td>\n",
       "      <td>2.0</td>\n",
       "    </tr>\n",
       "    <tr>\n",
       "      <th>7052</th>\n",
       "      <td>2021-04-30</td>\n",
       "      <td>1388202351996150016</td>\n",
       "      <td>Muitas pessoas estão questionando por que segu...</td>\n",
       "      <td>1</td>\n",
       "      <td>2.0</td>\n",
       "    </tr>\n",
       "    <tr>\n",
       "      <th>7053</th>\n",
       "      <td>2021-03-19</td>\n",
       "      <td>1372931201871281920</td>\n",
       "      <td>Gen Heleno de MÁSCARA, tomando VACINA. Cloroqu...</td>\n",
       "      <td>1</td>\n",
       "      <td>1.0</td>\n",
       "    </tr>\n",
       "    <tr>\n",
       "      <th>7054</th>\n",
       "      <td>2021-10-09</td>\n",
       "      <td>1446834442031575040</td>\n",
       "      <td>As UBS Hélio Macedo, Aygara Motta, Dalmo Feito...</td>\n",
       "      <td>1</td>\n",
       "      <td>1.0</td>\n",
       "    </tr>\n",
       "    <tr>\n",
       "      <th>7055</th>\n",
       "      <td>2021-08-02</td>\n",
       "      <td>1422321283350639104</td>\n",
       "      <td>Acompanhei a vacinação contra covid-19 das equ...</td>\n",
       "      <td>1</td>\n",
       "      <td>1.0</td>\n",
       "    </tr>\n",
       "  </tbody>\n",
       "</table>\n",
       "<p>6420 rows × 5 columns</p>\n",
       "</div>"
      ],
      "text/plain": [
       "       date_post             tweet_id  \\\n",
       "0     2020-03-19  1240808239224090112   \n",
       "3     2020-09-01  1300918558067770112   \n",
       "4     2020-10-21  1319042054463290112   \n",
       "5     2020-11-17  1328772384585860096   \n",
       "6     2020-11-19  1329419704847490048   \n",
       "...          ...                  ...   \n",
       "7051  2021-06-28  1409592686840066048   \n",
       "7052  2021-04-30  1388202351996150016   \n",
       "7053  2021-03-19  1372931201871281920   \n",
       "7054  2021-10-09  1446834442031575040   \n",
       "7055  2021-08-02  1422321283350639104   \n",
       "\n",
       "                                                content  post_vaccine  \\\n",
       "0     Tenho duas amigas doutorandas na USP. Não estã...             1   \n",
       "3     Chega a ser inacreditável que o governo esteja...             1   \n",
       "4     Como prefeito, vamos garantir através da Prefe...             1   \n",
       "5     E reafirmando o compromisso de, como Prefeito,...             1   \n",
       "6     Égua já pensaste?! Não sei se dá pra ser assim...             1   \n",
       "...                                                 ...           ...   \n",
       "7051  Com os depoimentos dos irmãos Miranda foi dado...             1   \n",
       "7052  Muitas pessoas estão questionando por que segu...             1   \n",
       "7053  Gen Heleno de MÁSCARA, tomando VACINA. Cloroqu...             1   \n",
       "7054  As UBS Hélio Macedo, Aygara Motta, Dalmo Feito...             1   \n",
       "7055  Acompanhei a vacinação contra covid-19 das equ...             1   \n",
       "\n",
       "      positions_vac  \n",
       "0               1.0  \n",
       "3               1.0  \n",
       "4               1.0  \n",
       "5               1.0  \n",
       "6               1.0  \n",
       "...             ...  \n",
       "7051            2.0  \n",
       "7052            2.0  \n",
       "7053            1.0  \n",
       "7054            1.0  \n",
       "7055            1.0  \n",
       "\n",
       "[6420 rows x 5 columns]"
      ]
     },
     "execution_count": 228,
     "metadata": {},
     "output_type": "execute_result"
    }
   ],
   "source": [
    "df2 = df[df['post_vaccine'] == 1]\n",
    "\n",
    "df2"
   ]
  },
  {
   "cell_type": "markdown",
   "id": "f49d1140",
   "metadata": {},
   "source": [
    "<p align=\"justify\">b) Use o <i>Data Frame</i> do exercício anterior para mostrar as frequências das categorias da variável 'positions_vac':"
   ]
  },
  {
   "cell_type": "code",
   "execution_count": 229,
   "id": "8d5d3ed7",
   "metadata": {},
   "outputs": [
    {
     "data": {
      "text/plain": [
       "positions_vac\n",
       "1.0    3999\n",
       "2.0    2167\n",
       "3.0     252\n",
       "0.0       1\n",
       "Name: count, dtype: int64"
      ]
     },
     "execution_count": 229,
     "metadata": {},
     "output_type": "execute_result"
    }
   ],
   "source": [
    "df2['positions_vac'].value_counts()"
   ]
  },
  {
   "cell_type": "markdown",
   "id": "f0dce22c",
   "metadata": {},
   "source": [
    "16 - Temos o seguinte banco de dados com valores <i>missing</i>. Preencha os valores faltantes com zeros."
   ]
  },
  {
   "cell_type": "code",
   "execution_count": 230,
   "id": "3318dd48",
   "metadata": {},
   "outputs": [
    {
     "name": "stdout",
     "output_type": "stream",
     "text": [
      "     A    B    C\n",
      "0  1.0  0.0  1.0\n",
      "1  2.0  2.0  0.0\n",
      "2  0.0  3.0  3.0\n",
      "3  4.0  0.0  4.0\n",
      "4  5.0  5.0  0.0\n"
     ]
    }
   ],
   "source": [
    "data = {'A': [1, 2, np.nan, 4, 5],\n",
    "        'B': [np.nan, 2, 3, np.nan, 5],\n",
    "        'C': [1, np.nan, 3, 4, np.nan]}\n",
    "\n",
    "df = pd.DataFrame(data)\n",
    "\n",
    "\n",
    "# Preencher os valores ausentes com zeros\n",
    "df_filled = df.fillna(0)\n",
    "\n",
    "# Exibir o DataFrame com os valores preenchidos\n",
    "print(df_filled)\n",
    "\n",
    "\n"
   ]
  },
  {
   "cell_type": "markdown",
   "id": "349dbf48",
   "metadata": {},
   "source": [
    "17 - Novamente, temos um banco de dados com NAs. Conte os valores <i>missing</i> em cada coluna:"
   ]
  },
  {
   "cell_type": "code",
   "execution_count": 231,
   "id": "455a07c2",
   "metadata": {},
   "outputs": [
    {
     "name": "stdout",
     "output_type": "stream",
     "text": [
      "A    1\n",
      "B    2\n",
      "C    2\n",
      "dtype: int64\n"
     ]
    }
   ],
   "source": [
    "data = {'A': [1, 2, np.nan, 4, 5],\n",
    "        'B': [np.nan, 2, 3, np.nan, 5],\n",
    "        'C': [1, np.nan, 3, 4, np.nan]}\n",
    "\n",
    "df = pd.DataFrame(data)\n",
    "\n",
    "\n",
    "# Contar os valores ausentes em cada coluna\n",
    "count_missing = df.isnull().sum()\n",
    "\n",
    "# Exibir o número de valores ausentes em cada coluna\n",
    "print(count_missing)"
   ]
  },
  {
   "cell_type": "markdown",
   "id": "4817bc75",
   "metadata": {},
   "source": [
    "18 - Remova os dados duplicados do seguinte banco de dados:"
   ]
  },
  {
   "cell_type": "code",
   "execution_count": 232,
   "id": "c7f4f3ad",
   "metadata": {},
   "outputs": [
    {
     "name": "stdout",
     "output_type": "stream",
     "text": [
      "    Nome   ID\n",
      "0  Alice  101\n",
      "1    Bob  102\n",
      "3  David  103\n",
      "4    Eve  104\n"
     ]
    }
   ],
   "source": [
    "data = {'Nome': ['Alice', 'Bob', 'Alice', 'David', 'Eve'],\n",
    "        'ID': [101, 102, 101, 103, 104]}\n",
    "\n",
    "df = pd.DataFrame(data)\n",
    "\n",
    "# Remova as entradas duplicadas com base no número de identificação\n",
    "df_unique = df.drop_duplicates(subset='ID')\n",
    "\n",
    "# Exiba o novo DataFrame resultante\n",
    "print(df_unique)\n"
   ]
  },
  {
   "cell_type": "markdown",
   "id": "d6654a95",
   "metadata": {},
   "source": [
    "<p align=\"justify\">19 - Para o seguinte banco de dados, faça um mapeamento que substitua 'alto' por 3, 'médio' por 2 e 'baixo' por 1. Em seguida, utilize esse mapeamento no banco com o método <i>replace</i>:"
   ]
  },
  {
   "cell_type": "code",
   "execution_count": 233,
   "id": "d022ba62",
   "metadata": {},
   "outputs": [
    {
     "name": "stdout",
     "output_type": "stream",
     "text": [
      "  Cidade  Poluição\n",
      "0      A         3\n",
      "1      B         2\n",
      "2      C         1\n",
      "3      D         3\n"
     ]
    },
    {
     "name": "stderr",
     "output_type": "stream",
     "text": [
      "C:\\Users\\Pedro\\AppData\\Local\\Temp\\ipykernel_12596\\2138040299.py:8: FutureWarning: Downcasting behavior in `replace` is deprecated and will be removed in a future version. To retain the old behavior, explicitly call `result.infer_objects(copy=False)`. To opt-in to the future behavior, set `pd.set_option('future.no_silent_downcasting', True)`\n",
      "  df['Poluição'] = df['Poluição'].replace(mapeamento)\n"
     ]
    }
   ],
   "source": [
    "\n",
    "data = {'Cidade': ['A', 'B', 'C', 'D'],\n",
    "        'Poluição': ['Alto', 'Médio', 'Baixo', 'Alto']}\n",
    "\n",
    "df = pd.DataFrame(data)\n",
    "\n",
    "# Mapeie as representações de texto para valores numéricos\n",
    "mapeamento = {'Alto': 3, 'Médio': 2, 'Baixo': 1}\n",
    "df['Poluição'] = df['Poluição'].replace(mapeamento)\n",
    "\n",
    "# Exiba o DataFrame após a substituição\n",
    "print(df)\n",
    "\n"
   ]
  },
  {
   "cell_type": "markdown",
   "id": "e2b32269",
   "metadata": {},
   "source": [
    "<p align=\"justify\">20 - Para o seguinte banco de dados, crie bins de conceitos (i.e. 'A', 'B', etc.) com base na nota dos alunos:"
   ]
  },
  {
   "cell_type": "code",
   "execution_count": 234,
   "id": "815cfd0f",
   "metadata": {},
   "outputs": [
    {
     "data": {
      "text/html": [
       "<div>\n",
       "<style scoped>\n",
       "    .dataframe tbody tr th:only-of-type {\n",
       "        vertical-align: middle;\n",
       "    }\n",
       "\n",
       "    .dataframe tbody tr th {\n",
       "        vertical-align: top;\n",
       "    }\n",
       "\n",
       "    .dataframe thead th {\n",
       "        text-align: right;\n",
       "    }\n",
       "</style>\n",
       "<table border=\"1\" class=\"dataframe\">\n",
       "  <thead>\n",
       "    <tr style=\"text-align: right;\">\n",
       "      <th></th>\n",
       "      <th>Nome</th>\n",
       "      <th>Nota</th>\n",
       "      <th>Conceito</th>\n",
       "    </tr>\n",
       "  </thead>\n",
       "  <tbody>\n",
       "    <tr>\n",
       "      <th>0</th>\n",
       "      <td>Alice</td>\n",
       "      <td>85</td>\n",
       "      <td>A</td>\n",
       "    </tr>\n",
       "    <tr>\n",
       "      <th>1</th>\n",
       "      <td>Bob</td>\n",
       "      <td>72</td>\n",
       "      <td>B</td>\n",
       "    </tr>\n",
       "    <tr>\n",
       "      <th>2</th>\n",
       "      <td>Carol</td>\n",
       "      <td>45</td>\n",
       "      <td>C</td>\n",
       "    </tr>\n",
       "    <tr>\n",
       "      <th>3</th>\n",
       "      <td>David</td>\n",
       "      <td>60</td>\n",
       "      <td>C</td>\n",
       "    </tr>\n",
       "    <tr>\n",
       "      <th>4</th>\n",
       "      <td>Eve</td>\n",
       "      <td>32</td>\n",
       "      <td>D</td>\n",
       "    </tr>\n",
       "  </tbody>\n",
       "</table>\n",
       "</div>"
      ],
      "text/plain": [
       "    Nome  Nota Conceito\n",
       "0  Alice    85        A\n",
       "1    Bob    72        B\n",
       "2  Carol    45        C\n",
       "3  David    60        C\n",
       "4    Eve    32        D"
      ]
     },
     "execution_count": 234,
     "metadata": {},
     "output_type": "execute_result"
    }
   ],
   "source": [
    "\n",
    "data = {'Nome': ['Alice', 'Bob', 'Carol', 'David', 'Eve'],\n",
    "        'Nota': [85, 72, 45, 60, 32]}\n",
    "\n",
    "df = pd.DataFrame(data)\n",
    "\n",
    "# Defina os intervalos das notas\n",
    "faixas_etarias = [0, 18, 40, 60, 84, float('inf')]  # Intervalos\n",
    "\n",
    "# Crie uma nova coluna com as faixas etárias\n",
    "df['Conceito'] = pd.cut(df['Nota'], bins=faixas_etarias, labels=['E', 'D', 'C', 'B', 'A'])\n",
    "\n",
    "\n",
    "df\n",
    "\n",
    "\n"
   ]
  },
  {
   "cell_type": "markdown",
   "id": "2cf43f67",
   "metadata": {},
   "source": [
    "21 - Use a função get_dummies() para criar variáveis dummy a partir da coluna de animais de estimação:"
   ]
  },
  {
   "cell_type": "code",
   "execution_count": 235,
   "id": "832d7cd7",
   "metadata": {},
   "outputs": [
    {
     "name": "stdout",
     "output_type": "stream",
     "text": [
      "    Nome Animal_de_Estimação  Cachorro   Gato  Peixe\n",
      "0  Alice            Cachorro      True  False  False\n",
      "1    Bob                Gato     False   True  False\n",
      "2  Carol               Peixe     False  False   True\n",
      "3  David                Gato     False   True  False\n",
      "4    Eve            Cachorro      True  False  False\n"
     ]
    }
   ],
   "source": [
    "data = {'Nome': ['Alice', 'Bob', 'Carol', 'David', 'Eve'],\n",
    "        'Animal_de_Estimação': ['Cachorro', 'Gato', 'Peixe', 'Gato', 'Cachorro']}\n",
    "\n",
    "df = pd.DataFrame(data)\n",
    "\n",
    "# Crie variáveis dummy para o tipo de animal de estimação\n",
    "df_dummies = pd.get_dummies(df['Animal_de_Estimação'])\n",
    "\n",
    "# Concatene as variáveis dummy com o DataFrame original\n",
    "df = pd.concat([df, df_dummies], axis=1)\n",
    "\n",
    "# Exiba o DataFrame com as novas variáveis dummy\n",
    "print(df)"
   ]
  },
  {
   "cell_type": "markdown",
   "id": "7146095f",
   "metadata": {},
   "source": [
    "<p align=\"justify\">22 - Suponha que você tenha um <i>Data Frame</i> com uma coluna que contém nomes completos no formato \"Primeiro Nome Último Nome\". Sua tarefa é dividir essa coluna em duas colunas separadas, uma para o primeiro nome e outra para o último nome:"
   ]
  },
  {
   "cell_type": "code",
   "execution_count": 236,
   "id": "b65e16f4",
   "metadata": {},
   "outputs": [
    {
     "name": "stdout",
     "output_type": "stream",
     "text": [
      "   Nome_Completo Primeiro_Nome Último_Nome\n",
      "0  Alice Johnson         Alice     Johnson\n",
      "1      Bob Smith           Bob       Smith\n",
      "2    Carol Brown         Carol       Brown\n",
      "3    David White         David       White\n",
      "4   Eve Anderson           Eve    Anderson\n"
     ]
    }
   ],
   "source": [
    "import pandas as pd\n",
    "\n",
    "data = {'Nome_Completo': ['Alice Johnson', 'Bob Smith', 'Carol Brown', 'David White', 'Eve Anderson']}\n",
    "\n",
    "df = pd.DataFrame(data)\n",
    "\n",
    "# Divida a coluna \"Nome_Completo\" em \"Primeiro_Nome\" e \"Último_Nome\"\n",
    "df[['Primeiro_Nome', 'Último_Nome']] = df['Nome_Completo'].str.split(' ', n=1, expand=True)\n",
    "\n",
    "print(df)"
   ]
  },
  {
   "cell_type": "markdown",
   "id": "e418839c",
   "metadata": {},
   "source": [
    "<p align=\"justify\">23 - Suponha que você tenha um <i>Data Frame</i> com uma coluna que contém nomes completos, mas alguns nomes têm espaços em branco extras no início ou no final. Sua tarefa é remover esses espaços em branco extras:"
   ]
  },
  {
   "cell_type": "code",
   "execution_count": 237,
   "id": "03764a2b",
   "metadata": {},
   "outputs": [
    {
     "name": "stdout",
     "output_type": "stream",
     "text": [
      "   Nome_Completo\n",
      "0  Alice Johnson\n",
      "1      Bob Smith\n",
      "2    Carol Brown\n",
      "3    David White\n",
      "4  Eve  Anderson\n"
     ]
    }
   ],
   "source": [
    "data = {'Nome_Completo': ['   Alice Johnson', 'Bob Smith   ', ' Carol Brown ', '  David White ', 'Eve  Anderson']}\n",
    "\n",
    "df = pd.DataFrame(data)\n",
    "\n",
    "# Remova espaços em branco extras no início e no final dos nomes\n",
    "df['Nome_Completo'] = df['Nome_Completo'].str.strip()\n",
    "\n",
    "# Exiba o DataFrame com os nomes limpos\n",
    "print(df)\n",
    "\n"
   ]
  }
 ],
 "metadata": {
  "kernelspec": {
   "display_name": "base",
   "language": "python",
   "name": "python3"
  },
  "language_info": {
   "codemirror_mode": {
    "name": "ipython",
    "version": 3
   },
   "file_extension": ".py",
   "mimetype": "text/x-python",
   "name": "python",
   "nbconvert_exporter": "python",
   "pygments_lexer": "ipython3",
   "version": "3.12.7"
  }
 },
 "nbformat": 4,
 "nbformat_minor": 5
}
