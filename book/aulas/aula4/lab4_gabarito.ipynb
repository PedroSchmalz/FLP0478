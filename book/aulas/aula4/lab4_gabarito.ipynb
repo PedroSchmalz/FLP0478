{
 "cells": [
  {
   "cell_type": "markdown",
   "id": "dc02567a",
   "metadata": {},
   "source": [
    "# Laboratório 4 - Gabarito\n",
    "\n",
    "Nota: Substitua os seus nomes e informações abaixo antes do envio da atividade. A atividade deve ser enviada no `Moodle` da disciplina, e o arquivo **DEVE** estar no formato `.ipynb`.\n",
    "\n",
    "[Nome Aluno 1] / [NUSP Aluno 1] / [Vespertino/Noturno]\n",
    "\n",
    "[Nome Aluno 2] / [NUSP Aluno 2] / [Vespertino/Noturno]\n"
   ]
  },
  {
   "cell_type": "markdown",
   "id": "77c0570a",
   "metadata": {},
   "source": [
    "### Exercícios"
   ]
  },
  {
   "cell_type": "markdown",
   "id": "172dc4d8",
   "metadata": {},
   "source": [
    "Para os exercícios, sempre é bom consultar a documentação específica do *Pandas* sobre [*Series*](https://pandas.pydata.org/docs/reference/series.html)."
   ]
  },
  {
   "cell_type": "markdown",
   "id": "ccf33c31",
   "metadata": {},
   "source": [
    "<p align=\"justify\"> 1 - Filtragem com <i>Series</i> - Crie uma <i>Series</i> com números inteiros. Em seguida, crie uma nova <i>Series</i> que contenha apenas os valores maiores que 50 da primeira <i>Series</i>."
   ]
  },
  {
   "cell_type": "code",
   "execution_count": 30,
   "id": "dfb3ae24",
   "metadata": {},
   "outputs": [],
   "source": [
    "import pandas as pd\n"
   ]
  },
  {
   "cell_type": "code",
   "execution_count": 31,
   "id": "e8e90e4d",
   "metadata": {},
   "outputs": [
    {
     "name": "stdout",
     "output_type": "stream",
     "text": [
      "Série original:\n",
      "0    45\n",
      "1    60\n",
      "2    75\n",
      "3    30\n",
      "4    90\n",
      "5    55\n",
      "6    70\n",
      "dtype: int64\n",
      "\n",
      "Valores maiores que 50:\n",
      "1    60\n",
      "2    75\n",
      "4    90\n",
      "5    55\n",
      "6    70\n",
      "dtype: int64\n"
     ]
    }
   ],
   "source": [
    "# Criando uma Series com números inteiros aleatórios\n",
    "data = [45, 60, 75, 30, 90, 55, 70]\n",
    "series = pd.Series(data)\n",
    "\n",
    "# Filtrando valores maiores que 50\n",
    "filtrados = series[series > 50]\n",
    "\n",
    "print(\"Série original:\")\n",
    "print(series)\n",
    "print(\"\\nValores maiores que 50:\")\n",
    "print(filtrados)"
   ]
  },
  {
   "cell_type": "markdown",
   "id": "2c87c219",
   "metadata": {},
   "source": [
    "<p align=\"justify\"> 2 - Operações com <i>Series</i> - Primeiro, vamos criar duas <i>Series</i> com dados numéricos:"
   ]
  },
  {
   "cell_type": "code",
   "execution_count": 32,
   "id": "9c647353",
   "metadata": {},
   "outputs": [],
   "source": [
    "# Criando as duas Series\n",
    "serie1 = pd.Series([10, 20, 30, 40, 50])\n",
    "serie2 = pd.Series([5, 15, 25, 35, 45])"
   ]
  },
  {
   "cell_type": "markdown",
   "id": "47a69666",
   "metadata": {},
   "source": [
    "a) Some as duas <i>Series</i>:"
   ]
  },
  {
   "cell_type": "code",
   "execution_count": 33,
   "id": "8ab1f899",
   "metadata": {},
   "outputs": [
    {
     "name": "stdout",
     "output_type": "stream",
     "text": [
      "Soma das Series:\n",
      "0    15\n",
      "1    35\n",
      "2    55\n",
      "3    75\n",
      "4    95\n",
      "dtype: int64\n"
     ]
    }
   ],
   "source": [
    "soma = serie1 + serie2\n",
    "print(\"Soma das Series:\")\n",
    "print(soma)"
   ]
  },
  {
   "cell_type": "markdown",
   "id": "0c0508c7",
   "metadata": {},
   "source": [
    "b) Multiplique as <i>Series</i> uma pela outra:"
   ]
  },
  {
   "cell_type": "code",
   "execution_count": 34,
   "id": "4a30df19",
   "metadata": {},
   "outputs": [
    {
     "name": "stdout",
     "output_type": "stream",
     "text": [
      "Multplicação das Series: \n",
      "0      50\n",
      "1     300\n",
      "2     750\n",
      "3    1400\n",
      "4    2250\n",
      "dtype: int64\n"
     ]
    }
   ],
   "source": [
    "mult = serie1 * serie2\n",
    "\n",
    "print(\"Multplicação das Series: \")\n",
    "print(mult)"
   ]
  },
  {
   "cell_type": "markdown",
   "id": "883c45cc",
   "metadata": {},
   "source": [
    "c) Encontre o valor máximo nas duas <i>Series</i>:"
   ]
  },
  {
   "cell_type": "code",
   "execution_count": 35,
   "id": "558d119d",
   "metadata": {},
   "outputs": [
    {
     "name": "stdout",
     "output_type": "stream",
     "text": [
      "50\n",
      "45\n"
     ]
    }
   ],
   "source": [
    "print(serie1.max())\n",
    "print(serie2.max())"
   ]
  },
  {
   "cell_type": "markdown",
   "id": "33430eef",
   "metadata": {},
   "source": [
    "d) Calcule a média dos valores nas duas <i>Series</i>:"
   ]
  },
  {
   "cell_type": "code",
   "execution_count": 36,
   "id": "8717ce43",
   "metadata": {},
   "outputs": [
    {
     "name": "stdout",
     "output_type": "stream",
     "text": [
      "Média de Serie1: 30.0\n",
      "Média de Serie2: 25.0\n"
     ]
    }
   ],
   "source": [
    "media_serie1 = serie1.mean()\n",
    "media_serie2 = serie2.mean()\n",
    "\n",
    "print(\"Média de Serie1:\", media_serie1)\n",
    "print(\"Média de Serie2:\", media_serie2)"
   ]
  },
  {
   "cell_type": "markdown",
   "id": "d0692341",
   "metadata": {},
   "source": [
    "<p align=\"justify\"> 3 - Crie uma <i>Series</i> com nomes de cidades e seus respectivos números de habitantes (não precisam ser dados reais). Classifique a <i>Series</i> em ordem decrescente com base no número de habitantes."
   ]
  },
  {
   "cell_type": "code",
   "execution_count": 37,
   "id": "9831f92a",
   "metadata": {},
   "outputs": [
    {
     "name": "stdout",
     "output_type": "stream",
     "text": [
      "Série original:\n",
      "Cidade A    750000\n",
      "Cidade B    610000\n",
      "Cidade C    850000\n",
      "Cidade D    420000\n",
      "Cidade E    320000\n",
      "dtype: int64\n",
      "\n",
      "Série classificada em ordem decrescente:\n",
      "Cidade C    850000\n",
      "Cidade A    750000\n",
      "Cidade B    610000\n",
      "Cidade D    420000\n",
      "Cidade E    320000\n",
      "dtype: int64\n"
     ]
    }
   ],
   "source": [
    "# Criando uma Series com nomes de cidades e seus respectivos números de habitantes\n",
    "data = {'Cidade A': 750000, 'Cidade B': 610000, 'Cidade C': 850000, 'Cidade D': 420000, 'Cidade E': 320000}\n",
    "series = pd.Series(data)\n",
    "\n",
    "# Classificando a Series em ordem decrescente com base no número de habitantes\n",
    "series_ordenada = series.sort_values(ascending=False)\n",
    "\n",
    "print(\"Série original:\")\n",
    "print(series)\n",
    "print(\"\\nSérie classificada em ordem decrescente:\")\n",
    "print(series_ordenada)"
   ]
  },
  {
   "cell_type": "markdown",
   "id": "81764413",
   "metadata": {},
   "source": [
    "<p align=\"justify\">4 - Crie duas <i>Series</i> com dados de sua escolha. Concatene as duas <i>Series</i> em uma única <i>Series</i>. Certifique-se de que os índices sejam únicos após a concatenação."
   ]
  },
  {
   "cell_type": "code",
   "execution_count": 38,
   "id": "44b57f4c",
   "metadata": {},
   "outputs": [
    {
     "name": "stdout",
     "output_type": "stream",
     "text": [
      "Primeira Series:\n",
      "A    1\n",
      "B    2\n",
      "C    3\n",
      "dtype: int64\n",
      "\n",
      "Segunda Series:\n",
      "D    4\n",
      "E    5\n",
      "F    6\n",
      "dtype: int64\n",
      "\n",
      "Series Concatenada:\n",
      "A    1\n",
      "B    2\n",
      "C    3\n",
      "D    4\n",
      "E    5\n",
      "F    6\n",
      "dtype: int64\n"
     ]
    }
   ],
   "source": [
    "# Criando duas Series com dados de sua escolha\n",
    "serie1 = pd.Series([1, 2, 3], index=['A', 'B', 'C'])\n",
    "serie2 = pd.Series([4, 5, 6], index=['D', 'E', 'F'])\n",
    "\n",
    "# Concatenando as duas Series em uma única Series\n",
    "serie_concatenada = pd.concat([serie1, serie2])\n",
    "\n",
    "print(\"Primeira Series:\")\n",
    "print(serie1)\n",
    "print(\"\\nSegunda Series:\")\n",
    "print(serie2)\n",
    "print(\"\\nSeries Concatenada:\")\n",
    "print(serie_concatenada)"
   ]
  },
  {
   "cell_type": "markdown",
   "id": "f4e8a794",
   "metadata": {},
   "source": [
    "<p align=\"justify\">5 - No seguinte dicionário estão duas informações: o nome de políticos e a quantidade de tweets que fizeram sobre as vacinas de Covid-19 no período de janeiro de 2020 a dezembro de 2021.\n",
    "\n",
    "<p align=\"justify\"> Converta esse dicionário em uma <i>Serie</i> e dê as seguintes informações: qual a média de tweets, o desvio padrão e quem tweetou mais."
   ]
  },
  {
   "cell_type": "code",
   "execution_count": 39,
   "id": "28ac4810",
   "metadata": {},
   "outputs": [
    {
     "name": "stdout",
     "output_type": "stream",
     "text": [
      "Série de Políticos e Números de Tweets:\n",
      "Politico1       2\n",
      "Politico2     448\n",
      "Politico3     212\n",
      "Politico4     422\n",
      "Politico5     284\n",
      "Politico6     241\n",
      "Politico7     312\n",
      "Politico8      21\n",
      "Politico9     374\n",
      "Politico10    143\n",
      "Politico11    365\n",
      "Politico12    351\n",
      "Politico13    347\n",
      "Politico14    194\n",
      "Politico15    444\n",
      "Politico16    196\n",
      "Politico17    184\n",
      "Politico18    317\n",
      "Politico19    341\n",
      "Politico20     82\n",
      "dtype: int64\n",
      "\n",
      "Média de Tweets: 264.0\n",
      "Desvio Padrão dos Tweets: 132.59276792217273\n",
      "Político que Tweetou Mais: Politico2 com 448 tweets.\n"
     ]
    }
   ],
   "source": [
    "import random\n",
    "\n",
    "# Criando o dicionário com políticos e números de tweets\n",
    "politicos = {\n",
    "    \"Politico1\": random.randint(0, 500),\n",
    "    \"Politico2\": random.randint(0, 500),\n",
    "    \"Politico3\": random.randint(0, 500),\n",
    "    \"Politico4\": random.randint(0, 500),\n",
    "    \"Politico5\": random.randint(0, 500),\n",
    "    \"Politico6\": random.randint(0, 500),\n",
    "    \"Politico7\": random.randint(0, 500),\n",
    "    \"Politico8\": random.randint(0, 500),\n",
    "    \"Politico9\": random.randint(0, 500),\n",
    "    \"Politico10\": random.randint(0, 500),\n",
    "    \"Politico11\": random.randint(0, 500),\n",
    "    \"Politico12\": random.randint(0, 500),\n",
    "    \"Politico13\": random.randint(0, 500),\n",
    "    \"Politico14\": random.randint(0, 500),\n",
    "    \"Politico15\": random.randint(0, 500),\n",
    "    \"Politico16\": random.randint(0, 500),\n",
    "    \"Politico17\": random.randint(0, 500),\n",
    "    \"Politico18\": random.randint(0, 500),\n",
    "    \"Politico19\": random.randint(0, 500),\n",
    "    \"Politico20\": random.randint(0, 500)\n",
    "}\n",
    "\n",
    "# Convertendo o dicionário em uma Series\n",
    "serie_politicos = pd.Series(politicos)\n",
    "\n",
    "# Calculando a média de tweets\n",
    "media_tweets = serie_politicos.mean()\n",
    "\n",
    "# Calculando o desvio padrão dos tweets\n",
    "desvio_padrao_tweets = serie_politicos.std()\n",
    "\n",
    "# Encontrando o político que tweetou mais\n",
    "politico_mais_tweets = serie_politicos.idxmax()\n",
    "\n",
    "print(\"Série de Políticos e Números de Tweets:\")\n",
    "print(serie_politicos)\n",
    "print(\"\\nMédia de Tweets:\", media_tweets)\n",
    "print(\"Desvio Padrão dos Tweets:\", desvio_padrao_tweets)\n",
    "print(\"Político que Tweetou Mais:\", politico_mais_tweets, \"com\", serie_politicos[politico_mais_tweets], \"tweets.\")\n",
    "\n",
    "\n",
    "\n",
    "\n",
    "\n"
   ]
  },
  {
   "cell_type": "markdown",
   "id": "a1cb91c7",
   "metadata": {},
   "source": [
    "<p align=\"justify\"> 6 - Faça uma função que recebe um dicionário como argumento e retorne esse dicionário como <i>Serie</i>, junto de informações descritivas como média, moda, mediana."
   ]
  },
  {
   "cell_type": "code",
   "execution_count": 40,
   "id": "8746a382",
   "metadata": {},
   "outputs": [
    {
     "name": "stdout",
     "output_type": "stream",
     "text": [
      "Informações Descritivas:\n",
      "Serie:\n",
      "A    10\n",
      "B    20\n",
      "C    30\n",
      "D    20\n",
      "E    10\n",
      "dtype: int64\n",
      "\n",
      "Média: 18.0\n",
      "Moda: [10, 20]\n",
      "Mediana: 20.0\n"
     ]
    }
   ],
   "source": [
    "def analisar_dicionario(dic):\n",
    "    # Convertendo o dicionário em uma Series\n",
    "    serie = pd.Series(dic)\n",
    "\n",
    "    # Calculando as estatísticas descritivas\n",
    "    media = serie.mean()\n",
    "    moda = serie.mode().to_list()  # Pode haver mais de uma moda\n",
    "    mediana = serie.median()\n",
    "\n",
    "    # Criando um dicionário com as informações\n",
    "    informacoes = {\n",
    "        \"Serie\": serie,\n",
    "        \"Média\": media,\n",
    "        \"Moda\": moda,\n",
    "        \"Mediana\": mediana\n",
    "    }\n",
    "\n",
    "    return informacoes\n",
    "\n",
    "# Exemplo de uso da função com um dicionário fictício\n",
    "dicionario_exemplo = {\n",
    "    \"A\": 10,\n",
    "    \"B\": 20,\n",
    "    \"C\": 30,\n",
    "    \"D\": 20,\n",
    "    \"E\": 10\n",
    "}\n",
    "\n",
    "resultado = analisar_dicionario(dicionario_exemplo)\n",
    "print(\"Informações Descritivas:\")\n",
    "for chave, valor in resultado.items():\n",
    "    if chave == \"Serie\":\n",
    "        print(f\"{chave}:\\n{valor}\\n\")\n",
    "    else:\n",
    "        print(f\"{chave}: {valor}\")"
   ]
  },
  {
   "cell_type": "markdown",
   "id": "477527e4",
   "metadata": {},
   "source": [
    "Antes de ir aos próximos exercícios, explore a documentação própria do Pandas ([Link](https://pandas.pydata.org/docs/reference/api/pandas.DataFrame.html)) sobre <i>Data Frames</i>."
   ]
  },
  {
   "cell_type": "markdown",
   "id": "21a10d11",
   "metadata": {},
   "source": [
    "<p align=\"justify\">7 - Considere o seguinte <i>Data Frame</i>:"
   ]
  },
  {
   "cell_type": "code",
   "execution_count": 41,
   "id": "f5661fed",
   "metadata": {},
   "outputs": [
    {
     "data": {
      "text/html": [
       "<div>\n",
       "<style scoped>\n",
       "    .dataframe tbody tr th:only-of-type {\n",
       "        vertical-align: middle;\n",
       "    }\n",
       "\n",
       "    .dataframe tbody tr th {\n",
       "        vertical-align: top;\n",
       "    }\n",
       "\n",
       "    .dataframe thead th {\n",
       "        text-align: right;\n",
       "    }\n",
       "</style>\n",
       "<table border=\"1\" class=\"dataframe\">\n",
       "  <thead>\n",
       "    <tr style=\"text-align: right;\">\n",
       "      <th></th>\n",
       "      <th>Nome</th>\n",
       "      <th>Idade</th>\n",
       "      <th>Cidade</th>\n",
       "    </tr>\n",
       "  </thead>\n",
       "  <tbody>\n",
       "    <tr>\n",
       "      <th>0</th>\n",
       "      <td>Alice</td>\n",
       "      <td>25</td>\n",
       "      <td>São Paulo</td>\n",
       "    </tr>\n",
       "    <tr>\n",
       "      <th>1</th>\n",
       "      <td>Bob</td>\n",
       "      <td>30</td>\n",
       "      <td>Rio de Janeiro</td>\n",
       "    </tr>\n",
       "    <tr>\n",
       "      <th>2</th>\n",
       "      <td>Carol</td>\n",
       "      <td>22</td>\n",
       "      <td>Belo Horizonte</td>\n",
       "    </tr>\n",
       "    <tr>\n",
       "      <th>3</th>\n",
       "      <td>David</td>\n",
       "      <td>35</td>\n",
       "      <td>São Paulo</td>\n",
       "    </tr>\n",
       "    <tr>\n",
       "      <th>4</th>\n",
       "      <td>Eva</td>\n",
       "      <td>28</td>\n",
       "      <td>Rio de Janeiro</td>\n",
       "    </tr>\n",
       "  </tbody>\n",
       "</table>\n",
       "</div>"
      ],
      "text/plain": [
       "    Nome  Idade          Cidade\n",
       "0  Alice     25       São Paulo\n",
       "1    Bob     30  Rio de Janeiro\n",
       "2  Carol     22  Belo Horizonte\n",
       "3  David     35       São Paulo\n",
       "4    Eva     28  Rio de Janeiro"
      ]
     },
     "execution_count": 41,
     "metadata": {},
     "output_type": "execute_result"
    }
   ],
   "source": [
    "dados = {\n",
    "    'Nome': ['Alice', 'Bob', 'Carol', 'David', 'Eva'],\n",
    "    'Idade': [25, 30, 22, 35, 28],\n",
    "    'Cidade': ['São Paulo', 'Rio de Janeiro', 'Belo Horizonte', 'São Paulo', 'Rio de Janeiro']\n",
    "}\n",
    "\n",
    "df = pd.DataFrame(dados)\n",
    "\n",
    "df"
   ]
  },
  {
   "cell_type": "markdown",
   "id": "1016b5cc",
   "metadata": {},
   "source": [
    "a) Selecione a coluna 'Nome':\n"
   ]
  },
  {
   "cell_type": "code",
   "execution_count": 42,
   "id": "637d9e95",
   "metadata": {},
   "outputs": [
    {
     "name": "stdout",
     "output_type": "stream",
     "text": [
      "0    Alice\n",
      "1      Bob\n",
      "2    Carol\n",
      "3    David\n",
      "4      Eva\n",
      "Name: Nome, dtype: object\n"
     ]
    }
   ],
   "source": [
    "nomes = df['Nome']\n",
    "print(nomes)"
   ]
  },
  {
   "cell_type": "markdown",
   "id": "91904a89",
   "metadata": {},
   "source": [
    "b) Selecione a primeira linha do <i>Data Frame</i>:\n"
   ]
  },
  {
   "cell_type": "code",
   "execution_count": 43,
   "id": "36eee13d",
   "metadata": {},
   "outputs": [
    {
     "name": "stdout",
     "output_type": "stream",
     "text": [
      "Nome          Alice\n",
      "Idade            25\n",
      "Cidade    São Paulo\n",
      "Name: 0, dtype: object\n"
     ]
    }
   ],
   "source": [
    "primeira_linha = df.iloc[0]\n",
    "print(primeira_linha)"
   ]
  },
  {
   "cell_type": "markdown",
   "id": "be88e68a",
   "metadata": {},
   "source": [
    "c) Selecione o valor 'Bob' da coluna 'Nome':\n"
   ]
  },
  {
   "cell_type": "code",
   "execution_count": 44,
   "id": "5aad8220",
   "metadata": {},
   "outputs": [
    {
     "name": "stdout",
     "output_type": "stream",
     "text": [
      "Bob\n"
     ]
    }
   ],
   "source": [
    "nome_bob = df.loc[df['Nome'] == 'Bob', 'Nome'].values[0]\n",
    "print(nome_bob)"
   ]
  },
  {
   "cell_type": "markdown",
   "id": "dc8c90ea",
   "metadata": {},
   "source": [
    "d) Selecione as linhas onde a idade é maior que 28:"
   ]
  },
  {
   "cell_type": "code",
   "execution_count": 45,
   "id": "3976ec48",
   "metadata": {},
   "outputs": [
    {
     "name": "stdout",
     "output_type": "stream",
     "text": [
      "    Nome  Idade          Cidade\n",
      "1    Bob     30  Rio de Janeiro\n",
      "3  David     35       São Paulo\n"
     ]
    }
   ],
   "source": [
    "idade_maior_que_28 = df[df['Idade'] > 28]\n",
    "print(idade_maior_que_28)"
   ]
  },
  {
   "cell_type": "markdown",
   "id": "99cb582d",
   "metadata": {},
   "source": [
    "<p align=\"justify\">e) Selecione as linhas onde a idade está entre 25 e 30 anos (inclusive) e a cidade é 'São Paulo':"
   ]
  },
  {
   "cell_type": "code",
   "execution_count": 46,
   "id": "6f7dde7f",
   "metadata": {},
   "outputs": [
    {
     "name": "stdout",
     "output_type": "stream",
     "text": [
      "    Nome  Idade     Cidade\n",
      "0  Alice     25  São Paulo\n"
     ]
    }
   ],
   "source": [
    "filtro = (df['Idade'] >= 25) & (df['Idade'] <= 30) & (df['Cidade'] == 'São Paulo')\n",
    "resultados = df[filtro]\n",
    "print(resultados)"
   ]
  },
  {
   "cell_type": "markdown",
   "id": "364cde69",
   "metadata": {},
   "source": [
    "<p align=\"justify\">f) Selecione as linhas onde o nome começa com a letra 'A' ou a idade é menor que 25:\n",
    "\n",
    "<b>Dica:</b> Você vai precisar do método de strings 'startswith()' ([Link](https://docs.python.org/3/library/stdtypes.html#str.startswith))."
   ]
  },
  {
   "cell_type": "code",
   "execution_count": 47,
   "id": "d0bbcd00",
   "metadata": {},
   "outputs": [
    {
     "name": "stdout",
     "output_type": "stream",
     "text": [
      "    Nome  Idade          Cidade\n",
      "0  Alice     25       São Paulo\n",
      "2  Carol     22  Belo Horizonte\n"
     ]
    }
   ],
   "source": [
    "filtro = (df['Nome'].str.startswith('A')) | (df['Idade'] < 25)\n",
    "resultados = df[filtro]\n",
    "print(resultados)"
   ]
  },
  {
   "cell_type": "markdown",
   "id": "e331aaf3",
   "metadata": {},
   "source": [
    "<p align=\"justify\">8 - Agora vamos exercitar o uso do <i>loc</i>. Considere o seguinte <i>Data Frame</i>:"
   ]
  },
  {
   "cell_type": "code",
   "execution_count": 48,
   "id": "eef7232d",
   "metadata": {},
   "outputs": [],
   "source": [
    "dados = {\n",
    "    'Nome': ['Alice', 'Bob', 'Carol', 'David', 'Eva'],\n",
    "    'Idade': [25, 30, 22, 35, 28],\n",
    "    'Cidade': ['São Paulo', 'Rio de Janeiro', 'Belo Horizonte', 'São Paulo', 'Rio de Janeiro']\n",
    "}\n",
    "\n",
    "df = pd.DataFrame(dados)"
   ]
  },
  {
   "cell_type": "markdown",
   "id": "579ebe25",
   "metadata": {},
   "source": [
    "<p align=\"justify\">a) Use <i>loc</i> para selecionar todas as linhas, mas só as colunas 'Nome' e 'Idade':"
   ]
  },
  {
   "cell_type": "code",
   "execution_count": 49,
   "id": "67fd6615",
   "metadata": {},
   "outputs": [
    {
     "name": "stdout",
     "output_type": "stream",
     "text": [
      "    Nome  Idade\n",
      "0  Alice     25\n",
      "1    Bob     30\n",
      "2  Carol     22\n",
      "3  David     35\n",
      "4    Eva     28\n"
     ]
    }
   ],
   "source": [
    "selecao_a = df.loc[:, ['Nome', 'Idade']]\n",
    "print(selecao_a)"
   ]
  },
  {
   "cell_type": "markdown",
   "id": "9ee837fd",
   "metadata": {},
   "source": [
    "<p align=\"justify\">b) Use <i>loc</i> para selecionar a linha com o nome 'David', mas com todas as colunas:"
   ]
  },
  {
   "cell_type": "code",
   "execution_count": 50,
   "id": "a99e70fb",
   "metadata": {},
   "outputs": [
    {
     "name": "stdout",
     "output_type": "stream",
     "text": [
      "    Nome  Idade     Cidade\n",
      "3  David     35  São Paulo\n"
     ]
    }
   ],
   "source": [
    "selecao_b = df.loc[df['Nome'] == 'David', :]\n",
    "print(selecao_b)"
   ]
  },
  {
   "cell_type": "markdown",
   "id": "2860521a",
   "metadata": {},
   "source": [
    "<p align=\"justify\">c) Por fim, use <i>loc</i> para selecionar as linhas onde a idade é maior que 28 e todas as colunas:"
   ]
  },
  {
   "cell_type": "code",
   "execution_count": 51,
   "id": "41b8f899",
   "metadata": {},
   "outputs": [
    {
     "name": "stdout",
     "output_type": "stream",
     "text": [
      "    Nome  Idade          Cidade\n",
      "1    Bob     30  Rio de Janeiro\n",
      "3  David     35       São Paulo\n"
     ]
    }
   ],
   "source": [
    "selecao_c = df.loc[df['Idade'] > 28, :]\n",
    "print(selecao_c)"
   ]
  },
  {
   "cell_type": "markdown",
   "id": "692407a3",
   "metadata": {},
   "source": [
    "<p align=\"justify\">9 - Vamos trabalhar um pouco o <i>iloc</i>. Considere o mesmo <i>Data Frame</i> do exercício 2:"
   ]
  },
  {
   "cell_type": "markdown",
   "id": "4be01e21",
   "metadata": {},
   "source": [
    "<p align=\"justify\">a)  Use <i>iloc</i> para selecionar a primeira linha e todas as colunas:"
   ]
  },
  {
   "cell_type": "code",
   "execution_count": 52,
   "id": "25772ad2",
   "metadata": {},
   "outputs": [
    {
     "name": "stdout",
     "output_type": "stream",
     "text": [
      "Nome          Alice\n",
      "Idade            25\n",
      "Cidade    São Paulo\n",
      "Name: 0, dtype: object\n"
     ]
    }
   ],
   "source": [
    "selecao_a = df.iloc[0, :]\n",
    "print(selecao_a)"
   ]
  },
  {
   "cell_type": "markdown",
   "id": "8f582d5f",
   "metadata": {},
   "source": [
    "<p align=\"justify\">b)  Use <i>iloc</i> para selecionar a última linha e todas as colunas:"
   ]
  },
  {
   "cell_type": "code",
   "execution_count": 53,
   "id": "8e1fb226",
   "metadata": {},
   "outputs": [
    {
     "name": "stdout",
     "output_type": "stream",
     "text": [
      "Nome                 Eva\n",
      "Idade                 28\n",
      "Cidade    Rio de Janeiro\n",
      "Name: 4, dtype: object\n"
     ]
    }
   ],
   "source": [
    "selecao_b = df.iloc[-1, :]\n",
    "print(selecao_b)"
   ]
  },
  {
   "cell_type": "markdown",
   "id": "66a35c82",
   "metadata": {},
   "source": [
    "<p align=\"justify\">c) Use <i>iloc</i> para selecionar as três primeiras linhas e todas as colunas:"
   ]
  },
  {
   "cell_type": "code",
   "execution_count": 54,
   "id": "8a73ef69",
   "metadata": {},
   "outputs": [
    {
     "name": "stdout",
     "output_type": "stream",
     "text": [
      "    Nome  Idade          Cidade\n",
      "0  Alice     25       São Paulo\n",
      "1    Bob     30  Rio de Janeiro\n",
      "2  Carol     22  Belo Horizonte\n"
     ]
    }
   ],
   "source": [
    "selecao_c = df.iloc[:3, :]\n",
    "print(selecao_c)"
   ]
  },
  {
   "cell_type": "markdown",
   "id": "351bf74d",
   "metadata": {},
   "source": [
    "<p align=\"justify\">10) Vamos criar o banco de novo para garantir que ele não foi modificado:"
   ]
  },
  {
   "cell_type": "code",
   "execution_count": 55,
   "id": "c1761ce4",
   "metadata": {},
   "outputs": [
    {
     "data": {
      "text/html": [
       "<div>\n",
       "<style scoped>\n",
       "    .dataframe tbody tr th:only-of-type {\n",
       "        vertical-align: middle;\n",
       "    }\n",
       "\n",
       "    .dataframe tbody tr th {\n",
       "        vertical-align: top;\n",
       "    }\n",
       "\n",
       "    .dataframe thead th {\n",
       "        text-align: right;\n",
       "    }\n",
       "</style>\n",
       "<table border=\"1\" class=\"dataframe\">\n",
       "  <thead>\n",
       "    <tr style=\"text-align: right;\">\n",
       "      <th></th>\n",
       "      <th>Nome</th>\n",
       "      <th>Idade</th>\n",
       "      <th>Cidade</th>\n",
       "    </tr>\n",
       "  </thead>\n",
       "  <tbody>\n",
       "    <tr>\n",
       "      <th>0</th>\n",
       "      <td>Alice</td>\n",
       "      <td>25</td>\n",
       "      <td>São Paulo</td>\n",
       "    </tr>\n",
       "    <tr>\n",
       "      <th>1</th>\n",
       "      <td>Bob</td>\n",
       "      <td>30</td>\n",
       "      <td>Rio de Janeiro</td>\n",
       "    </tr>\n",
       "    <tr>\n",
       "      <th>2</th>\n",
       "      <td>Carol</td>\n",
       "      <td>22</td>\n",
       "      <td>Belo Horizonte</td>\n",
       "    </tr>\n",
       "    <tr>\n",
       "      <th>3</th>\n",
       "      <td>David</td>\n",
       "      <td>35</td>\n",
       "      <td>São Paulo</td>\n",
       "    </tr>\n",
       "    <tr>\n",
       "      <th>4</th>\n",
       "      <td>Eva</td>\n",
       "      <td>28</td>\n",
       "      <td>Rio de Janeiro</td>\n",
       "    </tr>\n",
       "  </tbody>\n",
       "</table>\n",
       "</div>"
      ],
      "text/plain": [
       "    Nome  Idade          Cidade\n",
       "0  Alice     25       São Paulo\n",
       "1    Bob     30  Rio de Janeiro\n",
       "2  Carol     22  Belo Horizonte\n",
       "3  David     35       São Paulo\n",
       "4    Eva     28  Rio de Janeiro"
      ]
     },
     "execution_count": 55,
     "metadata": {},
     "output_type": "execute_result"
    }
   ],
   "source": [
    "dados = {\n",
    "    'Nome': ['Alice', 'Bob', 'Carol', 'David', 'Eva'],\n",
    "    'Idade': [25, 30, 22, 35, 28],\n",
    "    'Cidade': ['São Paulo', 'Rio de Janeiro', 'Belo Horizonte', 'São Paulo', 'Rio de Janeiro']\n",
    "}\n",
    "\n",
    "df = pd.DataFrame(dados)\n",
    "\n",
    "df"
   ]
  },
  {
   "cell_type": "markdown",
   "id": "50ac3172",
   "metadata": {},
   "source": [
    "<p align=\"justify\">a) Crie uma coluna de tempo de transporte até o trabalho que vai de 15 a 90 minutos. Ela tem de ser gerada aleatoriamente:"
   ]
  },
  {
   "cell_type": "code",
   "execution_count": 56,
   "id": "4a0ce2de",
   "metadata": {},
   "outputs": [
    {
     "data": {
      "text/html": [
       "<div>\n",
       "<style scoped>\n",
       "    .dataframe tbody tr th:only-of-type {\n",
       "        vertical-align: middle;\n",
       "    }\n",
       "\n",
       "    .dataframe tbody tr th {\n",
       "        vertical-align: top;\n",
       "    }\n",
       "\n",
       "    .dataframe thead th {\n",
       "        text-align: right;\n",
       "    }\n",
       "</style>\n",
       "<table border=\"1\" class=\"dataframe\">\n",
       "  <thead>\n",
       "    <tr style=\"text-align: right;\">\n",
       "      <th></th>\n",
       "      <th>Nome</th>\n",
       "      <th>Idade</th>\n",
       "      <th>Cidade</th>\n",
       "      <th>Transporte</th>\n",
       "    </tr>\n",
       "  </thead>\n",
       "  <tbody>\n",
       "    <tr>\n",
       "      <th>0</th>\n",
       "      <td>Alice</td>\n",
       "      <td>25</td>\n",
       "      <td>São Paulo</td>\n",
       "      <td>38</td>\n",
       "    </tr>\n",
       "    <tr>\n",
       "      <th>1</th>\n",
       "      <td>Bob</td>\n",
       "      <td>30</td>\n",
       "      <td>Rio de Janeiro</td>\n",
       "      <td>43</td>\n",
       "    </tr>\n",
       "    <tr>\n",
       "      <th>2</th>\n",
       "      <td>Carol</td>\n",
       "      <td>22</td>\n",
       "      <td>Belo Horizonte</td>\n",
       "      <td>39</td>\n",
       "    </tr>\n",
       "    <tr>\n",
       "      <th>3</th>\n",
       "      <td>David</td>\n",
       "      <td>35</td>\n",
       "      <td>São Paulo</td>\n",
       "      <td>49</td>\n",
       "    </tr>\n",
       "    <tr>\n",
       "      <th>4</th>\n",
       "      <td>Eva</td>\n",
       "      <td>28</td>\n",
       "      <td>Rio de Janeiro</td>\n",
       "      <td>64</td>\n",
       "    </tr>\n",
       "  </tbody>\n",
       "</table>\n",
       "</div>"
      ],
      "text/plain": [
       "    Nome  Idade          Cidade  Transporte\n",
       "0  Alice     25       São Paulo          38\n",
       "1    Bob     30  Rio de Janeiro          43\n",
       "2  Carol     22  Belo Horizonte          39\n",
       "3  David     35       São Paulo          49\n",
       "4    Eva     28  Rio de Janeiro          64"
      ]
     },
     "execution_count": 56,
     "metadata": {},
     "output_type": "execute_result"
    }
   ],
   "source": [
    "df['Transporte'] = [random.randint(15, 90) for _ in range(5)]\n",
    "\n",
    "df"
   ]
  },
  {
   "cell_type": "markdown",
   "id": "fdad97d8",
   "metadata": {},
   "source": [
    "b) Crie uma coluna de gênero utilizando o método np.random.choice ([Link](https://numpy.org/doc/stable/reference/random/generated/numpy.random.choice.html)):"
   ]
  },
  {
   "cell_type": "code",
   "execution_count": 58,
   "id": "537b26b0",
   "metadata": {},
   "outputs": [
    {
     "data": {
      "text/html": [
       "<div>\n",
       "<style scoped>\n",
       "    .dataframe tbody tr th:only-of-type {\n",
       "        vertical-align: middle;\n",
       "    }\n",
       "\n",
       "    .dataframe tbody tr th {\n",
       "        vertical-align: top;\n",
       "    }\n",
       "\n",
       "    .dataframe thead th {\n",
       "        text-align: right;\n",
       "    }\n",
       "</style>\n",
       "<table border=\"1\" class=\"dataframe\">\n",
       "  <thead>\n",
       "    <tr style=\"text-align: right;\">\n",
       "      <th></th>\n",
       "      <th>Nome</th>\n",
       "      <th>Idade</th>\n",
       "      <th>Cidade</th>\n",
       "      <th>Transporte</th>\n",
       "      <th>Genero</th>\n",
       "    </tr>\n",
       "  </thead>\n",
       "  <tbody>\n",
       "    <tr>\n",
       "      <th>0</th>\n",
       "      <td>Alice</td>\n",
       "      <td>25</td>\n",
       "      <td>São Paulo</td>\n",
       "      <td>38</td>\n",
       "      <td>masculino</td>\n",
       "    </tr>\n",
       "    <tr>\n",
       "      <th>1</th>\n",
       "      <td>Bob</td>\n",
       "      <td>30</td>\n",
       "      <td>Rio de Janeiro</td>\n",
       "      <td>43</td>\n",
       "      <td>feminino</td>\n",
       "    </tr>\n",
       "    <tr>\n",
       "      <th>2</th>\n",
       "      <td>Carol</td>\n",
       "      <td>22</td>\n",
       "      <td>Belo Horizonte</td>\n",
       "      <td>39</td>\n",
       "      <td>feminino</td>\n",
       "    </tr>\n",
       "    <tr>\n",
       "      <th>3</th>\n",
       "      <td>David</td>\n",
       "      <td>35</td>\n",
       "      <td>São Paulo</td>\n",
       "      <td>49</td>\n",
       "      <td>masculino</td>\n",
       "    </tr>\n",
       "    <tr>\n",
       "      <th>4</th>\n",
       "      <td>Eva</td>\n",
       "      <td>28</td>\n",
       "      <td>Rio de Janeiro</td>\n",
       "      <td>64</td>\n",
       "      <td>masculino</td>\n",
       "    </tr>\n",
       "  </tbody>\n",
       "</table>\n",
       "</div>"
      ],
      "text/plain": [
       "    Nome  Idade          Cidade  Transporte     Genero\n",
       "0  Alice     25       São Paulo          38  masculino\n",
       "1    Bob     30  Rio de Janeiro          43   feminino\n",
       "2  Carol     22  Belo Horizonte          39   feminino\n",
       "3  David     35       São Paulo          49  masculino\n",
       "4    Eva     28  Rio de Janeiro          64  masculino"
      ]
     },
     "execution_count": 58,
     "metadata": {},
     "output_type": "execute_result"
    }
   ],
   "source": [
    "import numpy as np\n",
    "\n",
    "generos = ['masculino', 'feminino']\n",
    "\n",
    "df['Genero'] = np.random.choice(generos, size = len(df))\n",
    "\n",
    "df"
   ]
  },
  {
   "cell_type": "markdown",
   "id": "5468925b",
   "metadata": {},
   "source": [
    "<p align=\"justify\">c) Crie uma coluna de salário da mesma forma que fizemos no exemplo de operações em coluna. Depois, crie uma nova coluna que mostre a razão de 'salário' e 'transporte':"
   ]
  },
  {
   "cell_type": "code",
   "execution_count": 59,
   "id": "ad14997c",
   "metadata": {},
   "outputs": [
    {
     "data": {
      "text/html": [
       "<div>\n",
       "<style scoped>\n",
       "    .dataframe tbody tr th:only-of-type {\n",
       "        vertical-align: middle;\n",
       "    }\n",
       "\n",
       "    .dataframe tbody tr th {\n",
       "        vertical-align: top;\n",
       "    }\n",
       "\n",
       "    .dataframe thead th {\n",
       "        text-align: right;\n",
       "    }\n",
       "</style>\n",
       "<table border=\"1\" class=\"dataframe\">\n",
       "  <thead>\n",
       "    <tr style=\"text-align: right;\">\n",
       "      <th></th>\n",
       "      <th>Nome</th>\n",
       "      <th>Idade</th>\n",
       "      <th>Cidade</th>\n",
       "      <th>Transporte</th>\n",
       "      <th>Genero</th>\n",
       "      <th>Salário</th>\n",
       "      <th>salario/transporte</th>\n",
       "    </tr>\n",
       "  </thead>\n",
       "  <tbody>\n",
       "    <tr>\n",
       "      <th>0</th>\n",
       "      <td>Alice</td>\n",
       "      <td>25</td>\n",
       "      <td>São Paulo</td>\n",
       "      <td>38</td>\n",
       "      <td>masculino</td>\n",
       "      <td>2342</td>\n",
       "      <td>61.631579</td>\n",
       "    </tr>\n",
       "    <tr>\n",
       "      <th>1</th>\n",
       "      <td>Bob</td>\n",
       "      <td>30</td>\n",
       "      <td>Rio de Janeiro</td>\n",
       "      <td>43</td>\n",
       "      <td>feminino</td>\n",
       "      <td>1346</td>\n",
       "      <td>31.302326</td>\n",
       "    </tr>\n",
       "    <tr>\n",
       "      <th>2</th>\n",
       "      <td>Carol</td>\n",
       "      <td>22</td>\n",
       "      <td>Belo Horizonte</td>\n",
       "      <td>39</td>\n",
       "      <td>feminino</td>\n",
       "      <td>1063</td>\n",
       "      <td>27.256410</td>\n",
       "    </tr>\n",
       "    <tr>\n",
       "      <th>3</th>\n",
       "      <td>David</td>\n",
       "      <td>35</td>\n",
       "      <td>São Paulo</td>\n",
       "      <td>49</td>\n",
       "      <td>masculino</td>\n",
       "      <td>1217</td>\n",
       "      <td>24.836735</td>\n",
       "    </tr>\n",
       "    <tr>\n",
       "      <th>4</th>\n",
       "      <td>Eva</td>\n",
       "      <td>28</td>\n",
       "      <td>Rio de Janeiro</td>\n",
       "      <td>64</td>\n",
       "      <td>masculino</td>\n",
       "      <td>2698</td>\n",
       "      <td>42.156250</td>\n",
       "    </tr>\n",
       "  </tbody>\n",
       "</table>\n",
       "</div>"
      ],
      "text/plain": [
       "    Nome  Idade          Cidade  Transporte     Genero  Salário  \\\n",
       "0  Alice     25       São Paulo          38  masculino     2342   \n",
       "1    Bob     30  Rio de Janeiro          43   feminino     1346   \n",
       "2  Carol     22  Belo Horizonte          39   feminino     1063   \n",
       "3  David     35       São Paulo          49  masculino     1217   \n",
       "4    Eva     28  Rio de Janeiro          64  masculino     2698   \n",
       "\n",
       "   salario/transporte  \n",
       "0           61.631579  \n",
       "1           31.302326  \n",
       "2           27.256410  \n",
       "3           24.836735  \n",
       "4           42.156250  "
      ]
     },
     "execution_count": 59,
     "metadata": {},
     "output_type": "execute_result"
    }
   ],
   "source": [
    "df['Salário'] = [random.randint(1000,3000) for _ in range(len(df))]\n",
    "\n",
    "df['salario/transporte'] = df['Salário'] / df['Transporte']\n",
    "\n",
    "df"
   ]
  },
  {
   "cell_type": "markdown",
   "id": "a550cb57",
   "metadata": {},
   "source": [
    "<p align=\"justify\">d) Delete a coluna da razão entre salário e transporte:"
   ]
  },
  {
   "cell_type": "code",
   "execution_count": 60,
   "id": "68571f43",
   "metadata": {},
   "outputs": [
    {
     "data": {
      "text/html": [
       "<div>\n",
       "<style scoped>\n",
       "    .dataframe tbody tr th:only-of-type {\n",
       "        vertical-align: middle;\n",
       "    }\n",
       "\n",
       "    .dataframe tbody tr th {\n",
       "        vertical-align: top;\n",
       "    }\n",
       "\n",
       "    .dataframe thead th {\n",
       "        text-align: right;\n",
       "    }\n",
       "</style>\n",
       "<table border=\"1\" class=\"dataframe\">\n",
       "  <thead>\n",
       "    <tr style=\"text-align: right;\">\n",
       "      <th></th>\n",
       "      <th>Nome</th>\n",
       "      <th>Idade</th>\n",
       "      <th>Cidade</th>\n",
       "      <th>Transporte</th>\n",
       "      <th>Genero</th>\n",
       "      <th>Salário</th>\n",
       "    </tr>\n",
       "  </thead>\n",
       "  <tbody>\n",
       "    <tr>\n",
       "      <th>0</th>\n",
       "      <td>Alice</td>\n",
       "      <td>25</td>\n",
       "      <td>São Paulo</td>\n",
       "      <td>38</td>\n",
       "      <td>masculino</td>\n",
       "      <td>2342</td>\n",
       "    </tr>\n",
       "    <tr>\n",
       "      <th>1</th>\n",
       "      <td>Bob</td>\n",
       "      <td>30</td>\n",
       "      <td>Rio de Janeiro</td>\n",
       "      <td>43</td>\n",
       "      <td>feminino</td>\n",
       "      <td>1346</td>\n",
       "    </tr>\n",
       "    <tr>\n",
       "      <th>2</th>\n",
       "      <td>Carol</td>\n",
       "      <td>22</td>\n",
       "      <td>Belo Horizonte</td>\n",
       "      <td>39</td>\n",
       "      <td>feminino</td>\n",
       "      <td>1063</td>\n",
       "    </tr>\n",
       "    <tr>\n",
       "      <th>3</th>\n",
       "      <td>David</td>\n",
       "      <td>35</td>\n",
       "      <td>São Paulo</td>\n",
       "      <td>49</td>\n",
       "      <td>masculino</td>\n",
       "      <td>1217</td>\n",
       "    </tr>\n",
       "    <tr>\n",
       "      <th>4</th>\n",
       "      <td>Eva</td>\n",
       "      <td>28</td>\n",
       "      <td>Rio de Janeiro</td>\n",
       "      <td>64</td>\n",
       "      <td>masculino</td>\n",
       "      <td>2698</td>\n",
       "    </tr>\n",
       "  </tbody>\n",
       "</table>\n",
       "</div>"
      ],
      "text/plain": [
       "    Nome  Idade          Cidade  Transporte     Genero  Salário\n",
       "0  Alice     25       São Paulo          38  masculino     2342\n",
       "1    Bob     30  Rio de Janeiro          43   feminino     1346\n",
       "2  Carol     22  Belo Horizonte          39   feminino     1063\n",
       "3  David     35       São Paulo          49  masculino     1217\n",
       "4    Eva     28  Rio de Janeiro          64  masculino     2698"
      ]
     },
     "execution_count": 60,
     "metadata": {},
     "output_type": "execute_result"
    }
   ],
   "source": [
    "del df['salario/transporte']\n",
    "\n",
    "df"
   ]
  },
  {
   "cell_type": "markdown",
   "id": "16a8000a",
   "metadata": {},
   "source": [
    "<p align=\"justify\">11) Vamos praticar um pouco a aplicação de funções em objetos de <i>Pandas</i>. Considere o banco de dados:"
   ]
  },
  {
   "cell_type": "code",
   "execution_count": 61,
   "id": "7e67f72c",
   "metadata": {},
   "outputs": [
    {
     "data": {
      "text/html": [
       "<div>\n",
       "<style scoped>\n",
       "    .dataframe tbody tr th:only-of-type {\n",
       "        vertical-align: middle;\n",
       "    }\n",
       "\n",
       "    .dataframe tbody tr th {\n",
       "        vertical-align: top;\n",
       "    }\n",
       "\n",
       "    .dataframe thead th {\n",
       "        text-align: right;\n",
       "    }\n",
       "</style>\n",
       "<table border=\"1\" class=\"dataframe\">\n",
       "  <thead>\n",
       "    <tr style=\"text-align: right;\">\n",
       "      <th></th>\n",
       "      <th>Nome</th>\n",
       "      <th>Salario</th>\n",
       "    </tr>\n",
       "  </thead>\n",
       "  <tbody>\n",
       "    <tr>\n",
       "      <th>0</th>\n",
       "      <td>Alice</td>\n",
       "      <td>50000</td>\n",
       "    </tr>\n",
       "    <tr>\n",
       "      <th>1</th>\n",
       "      <td>Bob</td>\n",
       "      <td>60000</td>\n",
       "    </tr>\n",
       "    <tr>\n",
       "      <th>2</th>\n",
       "      <td>Carol</td>\n",
       "      <td>75000</td>\n",
       "    </tr>\n",
       "    <tr>\n",
       "      <th>3</th>\n",
       "      <td>David</td>\n",
       "      <td>48000</td>\n",
       "    </tr>\n",
       "    <tr>\n",
       "      <th>4</th>\n",
       "      <td>Eva</td>\n",
       "      <td>80000</td>\n",
       "    </tr>\n",
       "  </tbody>\n",
       "</table>\n",
       "</div>"
      ],
      "text/plain": [
       "    Nome  Salario\n",
       "0  Alice    50000\n",
       "1    Bob    60000\n",
       "2  Carol    75000\n",
       "3  David    48000\n",
       "4    Eva    80000"
      ]
     },
     "execution_count": 61,
     "metadata": {},
     "output_type": "execute_result"
    }
   ],
   "source": [
    "dados = {\n",
    "    'Nome': ['Alice', 'Bob', 'Carol', 'David', 'Eva'],\n",
    "    'Salario': [50000, 60000, 75000, 48000, 80000],\n",
    "}\n",
    "\n",
    "df = pd.DataFrame(dados)\n",
    "\n",
    "df"
   ]
  },
  {
   "cell_type": "markdown",
   "id": "6489e3d3",
   "metadata": {},
   "source": [
    "<p align=\"justify\">a) Faça uma função chamada \"aumento_salarial\" que recebe o salário como entrada e retorna um aumento de 15%:"
   ]
  },
  {
   "cell_type": "code",
   "execution_count": 62,
   "id": "88927141",
   "metadata": {},
   "outputs": [],
   "source": [
    "def aumento_salarial(x):\n",
    "  return x * 1.15\n",
    "\n"
   ]
  },
  {
   "cell_type": "markdown",
   "id": "bd427b8f",
   "metadata": {},
   "source": [
    "b) Aplique a função na coluna \"Salario\" utilizando \"apply\":"
   ]
  },
  {
   "cell_type": "code",
   "execution_count": 63,
   "id": "c20e71a3",
   "metadata": {},
   "outputs": [
    {
     "data": {
      "text/plain": [
       "0    57500.0\n",
       "1    69000.0\n",
       "2    86250.0\n",
       "3    55200.0\n",
       "4    92000.0\n",
       "Name: Salario, dtype: float64"
      ]
     },
     "execution_count": 63,
     "metadata": {},
     "output_type": "execute_result"
    }
   ],
   "source": [
    "df['Salario'].apply(aumento_salarial)\n",
    "\n"
   ]
  },
  {
   "cell_type": "markdown",
   "id": "af5c7a53",
   "metadata": {},
   "source": [
    "<p align=\"justify\">c) Aqui está um dicionário com um mapeamento de categorias com base nos salários. Crie uma função que retorne uma categoria de acordo com o salário da pessoa.\n",
    "\n",
    "<b>Dica:</b> Mckinney, 2022, P. 211."
   ]
  },
  {
   "cell_type": "code",
   "execution_count": 64,
   "id": "dd475149",
   "metadata": {},
   "outputs": [],
   "source": [
    "\n",
    "# Dicionário de Mapeamento\n",
    "\n",
    "mapeamento_categorias = {\n",
    "    (0, 50000): 'Baixo',\n",
    "    (50001, 70000): 'Médio',\n",
    "    (70001, 80000): 'Alto'\n",
    "}\n",
    "\n",
    "def mapear_categoria_salario(salario):\n",
    "    for intervalo, categoria in mapeamento_categorias.items():\n",
    "        if intervalo[0] <= salario <= intervalo[1]:\n",
    "            return categoria"
   ]
  },
  {
   "cell_type": "markdown",
   "id": "3a02f885",
   "metadata": {},
   "source": [
    "<p align=\"justify\">d) Aplique essa função no <i>Data Frame</i>, criando uma nova coluna chamada \"categoria_salario\". Imprima o banco de dados:"
   ]
  },
  {
   "cell_type": "code",
   "execution_count": 65,
   "id": "5bfadbec",
   "metadata": {},
   "outputs": [
    {
     "data": {
      "text/html": [
       "<div>\n",
       "<style scoped>\n",
       "    .dataframe tbody tr th:only-of-type {\n",
       "        vertical-align: middle;\n",
       "    }\n",
       "\n",
       "    .dataframe tbody tr th {\n",
       "        vertical-align: top;\n",
       "    }\n",
       "\n",
       "    .dataframe thead th {\n",
       "        text-align: right;\n",
       "    }\n",
       "</style>\n",
       "<table border=\"1\" class=\"dataframe\">\n",
       "  <thead>\n",
       "    <tr style=\"text-align: right;\">\n",
       "      <th></th>\n",
       "      <th>Nome</th>\n",
       "      <th>Salario</th>\n",
       "      <th>categoria_salario</th>\n",
       "    </tr>\n",
       "  </thead>\n",
       "  <tbody>\n",
       "    <tr>\n",
       "      <th>0</th>\n",
       "      <td>Alice</td>\n",
       "      <td>50000</td>\n",
       "      <td>Baixo</td>\n",
       "    </tr>\n",
       "    <tr>\n",
       "      <th>1</th>\n",
       "      <td>Bob</td>\n",
       "      <td>60000</td>\n",
       "      <td>Médio</td>\n",
       "    </tr>\n",
       "    <tr>\n",
       "      <th>2</th>\n",
       "      <td>Carol</td>\n",
       "      <td>75000</td>\n",
       "      <td>Alto</td>\n",
       "    </tr>\n",
       "    <tr>\n",
       "      <th>3</th>\n",
       "      <td>David</td>\n",
       "      <td>48000</td>\n",
       "      <td>Baixo</td>\n",
       "    </tr>\n",
       "    <tr>\n",
       "      <th>4</th>\n",
       "      <td>Eva</td>\n",
       "      <td>80000</td>\n",
       "      <td>Alto</td>\n",
       "    </tr>\n",
       "  </tbody>\n",
       "</table>\n",
       "</div>"
      ],
      "text/plain": [
       "    Nome  Salario categoria_salario\n",
       "0  Alice    50000             Baixo\n",
       "1    Bob    60000             Médio\n",
       "2  Carol    75000              Alto\n",
       "3  David    48000             Baixo\n",
       "4    Eva    80000              Alto"
      ]
     },
     "execution_count": 65,
     "metadata": {},
     "output_type": "execute_result"
    }
   ],
   "source": [
    "df['categoria_salario'] = df[\"Salario\"].apply(mapear_categoria_salario)\n",
    "\n",
    "df"
   ]
  },
  {
   "cell_type": "markdown",
   "id": "f2137cce",
   "metadata": {},
   "source": [
    "<p align=\"justify\">12) Considere o seguinte <i>Data Frame</i>:"
   ]
  },
  {
   "cell_type": "code",
   "execution_count": 66,
   "id": "ee89c4e1",
   "metadata": {},
   "outputs": [
    {
     "name": "stdout",
     "output_type": "stream",
     "text": [
      "        Nome  Idade          Cidade  Salario\n",
      "0   Fernanda     25        Brasília     6139\n",
      "1     Marcos     53  Belo Horizonte     4021\n",
      "2     Sandra     36        Brasília     5796\n",
      "3    Juliana     56  Belo Horizonte     5496\n",
      "4       João     55       São Paulo     1322\n",
      "5   Fernanda     54        Salvador     1481\n",
      "6      Lucas     52        Salvador     6529\n",
      "7        Ana     29        Salvador     4315\n",
      "8    Ricardo     43        Brasília     5842\n",
      "9   Fernanda     20        Brasília     1374\n",
      "10    Marcos     30       São Paulo     3239\n",
      "11     Luiza     46       São Paulo     5707\n",
      "12   Gustavo     23  Rio de Janeiro     5689\n",
      "13   Ricardo     59        Salvador     1879\n",
      "14    Felipe     44        Salvador     1239\n",
      "15   Ricardo     41  Rio de Janeiro     3559\n",
      "16     Maria     44       São Paulo     1746\n",
      "17     Maria     46  Rio de Janeiro     4183\n",
      "18   Ricardo     50       São Paulo     3242\n",
      "19   Gustavo     41  Rio de Janeiro     6864\n",
      "20     Lucas     52        Salvador     1663\n",
      "21     Lucas     26        Brasília     6471\n",
      "22     Maria     46  Belo Horizonte     2128\n",
      "23  Carolina     39       São Paulo     1540\n",
      "24    Felipe     52  Belo Horizonte     2043\n",
      "25   Gustavo     37  Rio de Janeiro     4082\n",
      "26     Luiza     47        Salvador     3849\n",
      "27     Pedro     39        Salvador     6672\n",
      "28  Fernanda     38       São Paulo     1392\n",
      "29     Pedro     33       São Paulo     1958\n"
     ]
    }
   ],
   "source": [
    "# Lista de nomes fictícios\n",
    "nomes_brasileiros = ['João', 'Maria', 'Pedro', 'Ana', 'José', 'Luiza', 'Rafael', 'Fernanda', 'Gustavo', 'Carolina',\n",
    "                     'Lucas', 'Juliana', 'Marcos', 'Camila', 'Felipe', 'Isabela', 'Mariana', 'Ricardo', 'Sandra']\n",
    "\n",
    "# Crie um DataFrame com 20 observações aleatórias\n",
    "dados = {\n",
    "    'Nome': [random.choice(nomes_brasileiros) for _ in range(30)],\n",
    "    'Idade': [random.randint(20, 60) for _ in range(30)],\n",
    "    'Cidade': [random.choice(['São Paulo', 'Rio de Janeiro', 'Belo Horizonte', 'Salvador', 'Brasília']) for _ in range(30)],\n",
    "    'Salario': [random.randint(1000,7000) for _ in range(30)]\n",
    "}\n",
    "\n",
    "df = pd.DataFrame(dados)\n",
    "\n",
    "# Exiba o DataFrame\n",
    "print(df)"
   ]
  },
  {
   "cell_type": "markdown",
   "id": "e93a57dd",
   "metadata": {},
   "source": [
    "a) Calcule a idade média e imprima o resultado como um valor inteiro"
   ]
  },
  {
   "cell_type": "code",
   "execution_count": 67,
   "id": "c66f23cf",
   "metadata": {},
   "outputs": [
    {
     "name": "stdout",
     "output_type": "stream",
     "text": [
      "41\n"
     ]
    }
   ],
   "source": [
    "media = df.Idade.mean()\n",
    "\n",
    "print(int(media))"
   ]
  },
  {
   "cell_type": "markdown",
   "id": "d0433b41",
   "metadata": {},
   "source": [
    "b) Calcule a mediana dos salários:"
   ]
  },
  {
   "cell_type": "code",
   "execution_count": 68,
   "id": "c52ce7d1",
   "metadata": {},
   "outputs": [
    {
     "data": {
      "text/plain": [
       "3704.0"
      ]
     },
     "execution_count": 68,
     "metadata": {},
     "output_type": "execute_result"
    }
   ],
   "source": [
    "df.Salario.median()"
   ]
  },
  {
   "cell_type": "markdown",
   "id": "9e46f3cc",
   "metadata": {},
   "source": [
    "<p align=\"justify\">c) Calcule o desvio-padrão do salário e das idades e imprima de forma adequada usando <i>f strings</i>:"
   ]
  },
  {
   "cell_type": "code",
   "execution_count": 69,
   "id": "e2c3d445",
   "metadata": {},
   "outputs": [
    {
     "name": "stdout",
     "output_type": "stream",
     "text": [
      "O Desvio Padrão do salário é de 1978.82 e o da Idade é 10.58\n"
     ]
    }
   ],
   "source": [
    "desv_sal = df.Salario.std()\n",
    "desv_idade = df.Idade.std()\n",
    "\n",
    "\n",
    "print(f'O Desvio Padrão do salário é de {round(desv_sal,2)} e o da Idade é {round(desv_idade,2)}')\n"
   ]
  },
  {
   "cell_type": "markdown",
   "id": "010e6e0d",
   "metadata": {},
   "source": [
    "d) Calcule a soma dos salários:"
   ]
  },
  {
   "cell_type": "code",
   "execution_count": 70,
   "id": "24fddacb",
   "metadata": {},
   "outputs": [
    {
     "data": {
      "text/plain": [
       "111460"
      ]
     },
     "execution_count": 70,
     "metadata": {},
     "output_type": "execute_result"
    }
   ],
   "source": [
    "df.Salario.sum()"
   ]
  },
  {
   "cell_type": "markdown",
   "id": "3956c6f3",
   "metadata": {},
   "source": [
    "e) Encontre o índice do maior valor da idade e imprima a linha:"
   ]
  },
  {
   "cell_type": "code",
   "execution_count": 71,
   "id": "91e267a5",
   "metadata": {},
   "outputs": [
    {
     "name": "stdout",
     "output_type": "stream",
     "text": [
      "Nome        Ricardo\n",
      "Idade            59\n",
      "Cidade     Salvador\n",
      "Salario        1879\n",
      "Name: 13, dtype: object\n"
     ]
    }
   ],
   "source": [
    "indice = df.Idade.idxmax()\n",
    "\n",
    "print(df.iloc[indice])"
   ]
  },
  {
   "cell_type": "markdown",
   "id": "d8d5d9bf",
   "metadata": {},
   "source": [
    "<p align=\"justify\">f) Utilize <i>describe</i> para obter estatísticas descritivas de toda a tabela:"
   ]
  },
  {
   "cell_type": "code",
   "execution_count": 72,
   "id": "acd949c7",
   "metadata": {},
   "outputs": [
    {
     "data": {
      "text/html": [
       "<div>\n",
       "<style scoped>\n",
       "    .dataframe tbody tr th:only-of-type {\n",
       "        vertical-align: middle;\n",
       "    }\n",
       "\n",
       "    .dataframe tbody tr th {\n",
       "        vertical-align: top;\n",
       "    }\n",
       "\n",
       "    .dataframe thead th {\n",
       "        text-align: right;\n",
       "    }\n",
       "</style>\n",
       "<table border=\"1\" class=\"dataframe\">\n",
       "  <thead>\n",
       "    <tr style=\"text-align: right;\">\n",
       "      <th></th>\n",
       "      <th>Idade</th>\n",
       "      <th>Salario</th>\n",
       "    </tr>\n",
       "  </thead>\n",
       "  <tbody>\n",
       "    <tr>\n",
       "      <th>count</th>\n",
       "      <td>30.000000</td>\n",
       "      <td>30.000000</td>\n",
       "    </tr>\n",
       "    <tr>\n",
       "      <th>mean</th>\n",
       "      <td>41.866667</td>\n",
       "      <td>3715.333333</td>\n",
       "    </tr>\n",
       "    <tr>\n",
       "      <th>std</th>\n",
       "      <td>10.578877</td>\n",
       "      <td>1978.819490</td>\n",
       "    </tr>\n",
       "    <tr>\n",
       "      <th>min</th>\n",
       "      <td>20.000000</td>\n",
       "      <td>1239.000000</td>\n",
       "    </tr>\n",
       "    <tr>\n",
       "      <th>25%</th>\n",
       "      <td>36.250000</td>\n",
       "      <td>1779.250000</td>\n",
       "    </tr>\n",
       "    <tr>\n",
       "      <th>50%</th>\n",
       "      <td>43.500000</td>\n",
       "      <td>3704.000000</td>\n",
       "    </tr>\n",
       "    <tr>\n",
       "      <th>75%</th>\n",
       "      <td>51.500000</td>\n",
       "      <td>5702.500000</td>\n",
       "    </tr>\n",
       "    <tr>\n",
       "      <th>max</th>\n",
       "      <td>59.000000</td>\n",
       "      <td>6864.000000</td>\n",
       "    </tr>\n",
       "  </tbody>\n",
       "</table>\n",
       "</div>"
      ],
      "text/plain": [
       "           Idade      Salario\n",
       "count  30.000000    30.000000\n",
       "mean   41.866667  3715.333333\n",
       "std    10.578877  1978.819490\n",
       "min    20.000000  1239.000000\n",
       "25%    36.250000  1779.250000\n",
       "50%    43.500000  3704.000000\n",
       "75%    51.500000  5702.500000\n",
       "max    59.000000  6864.000000"
      ]
     },
     "execution_count": 72,
     "metadata": {},
     "output_type": "execute_result"
    }
   ],
   "source": [
    "df.describe()"
   ]
  },
  {
   "cell_type": "markdown",
   "id": "22636b9e",
   "metadata": {},
   "source": [
    "<p align=\"justify\">g) O <i>describe</i> também gera um <i>Data Frame</i> como resultado. Atribua o resultado do <i>describe</i> à um objeto e selecione as linhas de '25%', '50%' e '75%':"
   ]
  },
  {
   "cell_type": "code",
   "execution_count": 73,
   "id": "05af7afa",
   "metadata": {},
   "outputs": [
    {
     "data": {
      "text/html": [
       "<div>\n",
       "<style scoped>\n",
       "    .dataframe tbody tr th:only-of-type {\n",
       "        vertical-align: middle;\n",
       "    }\n",
       "\n",
       "    .dataframe tbody tr th {\n",
       "        vertical-align: top;\n",
       "    }\n",
       "\n",
       "    .dataframe thead th {\n",
       "        text-align: right;\n",
       "    }\n",
       "</style>\n",
       "<table border=\"1\" class=\"dataframe\">\n",
       "  <thead>\n",
       "    <tr style=\"text-align: right;\">\n",
       "      <th></th>\n",
       "      <th>Idade</th>\n",
       "      <th>Salario</th>\n",
       "    </tr>\n",
       "  </thead>\n",
       "  <tbody>\n",
       "    <tr>\n",
       "      <th>25%</th>\n",
       "      <td>36.25</td>\n",
       "      <td>1779.25</td>\n",
       "    </tr>\n",
       "    <tr>\n",
       "      <th>50%</th>\n",
       "      <td>43.50</td>\n",
       "      <td>3704.00</td>\n",
       "    </tr>\n",
       "    <tr>\n",
       "      <th>75%</th>\n",
       "      <td>51.50</td>\n",
       "      <td>5702.50</td>\n",
       "    </tr>\n",
       "  </tbody>\n",
       "</table>\n",
       "</div>"
      ],
      "text/plain": [
       "     Idade  Salario\n",
       "25%  36.25  1779.25\n",
       "50%  43.50  3704.00\n",
       "75%  51.50  5702.50"
      ]
     },
     "execution_count": 73,
     "metadata": {},
     "output_type": "execute_result"
    }
   ],
   "source": [
    "dados2 = df.describe()\n",
    "\n",
    "dados2.iloc[4:7, :]"
   ]
  },
  {
   "cell_type": "markdown",
   "id": "92befffb",
   "metadata": {},
   "source": [
    "e) Qual a correlação entre idade e salário?"
   ]
  },
  {
   "cell_type": "code",
   "execution_count": 74,
   "id": "65826389",
   "metadata": {},
   "outputs": [
    {
     "data": {
      "text/plain": [
       "-0.23763653514208968"
      ]
     },
     "execution_count": 74,
     "metadata": {},
     "output_type": "execute_result"
    }
   ],
   "source": [
    "df['Idade'].corr(df['Salario'])"
   ]
  },
  {
   "cell_type": "markdown",
   "id": "f3efea6f",
   "metadata": {},
   "source": [
    "f) E a covariância destas duas variáveis?"
   ]
  },
  {
   "cell_type": "code",
   "execution_count": 75,
   "id": "c914f516",
   "metadata": {},
   "outputs": [
    {
     "data": {
      "text/plain": [
       "-4974.609195402298"
      ]
     },
     "execution_count": 75,
     "metadata": {},
     "output_type": "execute_result"
    }
   ],
   "source": [
    "df['Idade'].cov(df['Salario'])"
   ]
  },
  {
   "cell_type": "markdown",
   "id": "3e7ff172",
   "metadata": {},
   "source": [
    "h) Quantos nomes únicos temos no <i>Data Frame</i>?"
   ]
  },
  {
   "cell_type": "code",
   "execution_count": 76,
   "id": "f50ff663",
   "metadata": {},
   "outputs": [
    {
     "data": {
      "text/plain": [
       "array(['Fernanda', 'Marcos', 'Sandra', 'Juliana', 'João', 'Lucas', 'Ana',\n",
       "       'Ricardo', 'Luiza', 'Gustavo', 'Felipe', 'Maria', 'Carolina',\n",
       "       'Pedro'], dtype=object)"
      ]
     },
     "execution_count": 76,
     "metadata": {},
     "output_type": "execute_result"
    }
   ],
   "source": [
    "# Resposta mais simples\n",
    "\n",
    "df.Nome.unique()"
   ]
  },
  {
   "cell_type": "code",
   "execution_count": 77,
   "id": "a22fed3c",
   "metadata": {},
   "outputs": [
    {
     "data": {
      "text/plain": [
       "14"
      ]
     },
     "execution_count": 77,
     "metadata": {},
     "output_type": "execute_result"
    }
   ],
   "source": [
    "# Resposta mais elaborada\n",
    "\n",
    "array_nomes = df.Nome.unique()\n",
    "\n",
    "series_nomes = pd.Series(array_nomes)\n",
    "\n",
    "series_nomes.value_counts().sum()"
   ]
  },
  {
   "cell_type": "markdown",
   "id": "99ff1a90",
   "metadata": {},
   "source": [
    "13 - Baixe o seguinte banco de dados do [Kaggle](https://www.kaggle.com/datasets/zynicide/wine-reviews?resource=download) e o importe no Colab utilizando o primeiro modo ensinado. Isto é, ir em arquivos e inserí-lo manualmente. O banco de dados é o de nome 'winemag-data-130k-v2.csv'.\n",
    "\n",
    "<b>Dica:</b> Depois de inserí-lo, pode copiar o caminho clicando com o botão direito em cima do .csv no Colab:"
   ]
  },
  {
   "cell_type": "code",
   "execution_count": 82,
   "id": "26868da8",
   "metadata": {},
   "outputs": [
    {
     "ename": "FileNotFoundError",
     "evalue": "[Errno 2] No such file or directory: 'book\\\\aulas\\\\aula4\\\\dataset\\\\winemag-data-130k-v2.csv'",
     "output_type": "error",
     "traceback": [
      "\u001b[1;31m---------------------------------------------------------------------------\u001b[0m",
      "\u001b[1;31mFileNotFoundError\u001b[0m                         Traceback (most recent call last)",
      "Cell \u001b[1;32mIn[82], line 3\u001b[0m\n\u001b[0;32m      1\u001b[0m caminho_arquivo \u001b[38;5;241m=\u001b[39m \u001b[38;5;124m\"\u001b[39m\u001b[38;5;124mbook\u001b[39m\u001b[38;5;130;01m\\\\\u001b[39;00m\u001b[38;5;124maulas\u001b[39m\u001b[38;5;130;01m\\\\\u001b[39;00m\u001b[38;5;124maula4\u001b[39m\u001b[38;5;130;01m\\\\\u001b[39;00m\u001b[38;5;124mdataset\u001b[39m\u001b[38;5;130;01m\\\\\u001b[39;00m\u001b[38;5;124mwinemag-data-130k-v2.csv\u001b[39m\u001b[38;5;124m\"\u001b[39m\n\u001b[1;32m----> 3\u001b[0m df \u001b[38;5;241m=\u001b[39m \u001b[43mpd\u001b[49m\u001b[38;5;241;43m.\u001b[39;49m\u001b[43mread_csv\u001b[49m\u001b[43m(\u001b[49m\u001b[43mcaminho_arquivo\u001b[49m\u001b[43m)\u001b[49m\n\u001b[0;32m      5\u001b[0m df\u001b[38;5;241m.\u001b[39mhead()\n",
      "File \u001b[1;32mc:\\ProgramData\\anaconda3\\Lib\\site-packages\\pandas\\io\\parsers\\readers.py:1026\u001b[0m, in \u001b[0;36mread_csv\u001b[1;34m(filepath_or_buffer, sep, delimiter, header, names, index_col, usecols, dtype, engine, converters, true_values, false_values, skipinitialspace, skiprows, skipfooter, nrows, na_values, keep_default_na, na_filter, verbose, skip_blank_lines, parse_dates, infer_datetime_format, keep_date_col, date_parser, date_format, dayfirst, cache_dates, iterator, chunksize, compression, thousands, decimal, lineterminator, quotechar, quoting, doublequote, escapechar, comment, encoding, encoding_errors, dialect, on_bad_lines, delim_whitespace, low_memory, memory_map, float_precision, storage_options, dtype_backend)\u001b[0m\n\u001b[0;32m   1013\u001b[0m kwds_defaults \u001b[38;5;241m=\u001b[39m _refine_defaults_read(\n\u001b[0;32m   1014\u001b[0m     dialect,\n\u001b[0;32m   1015\u001b[0m     delimiter,\n\u001b[1;32m   (...)\u001b[0m\n\u001b[0;32m   1022\u001b[0m     dtype_backend\u001b[38;5;241m=\u001b[39mdtype_backend,\n\u001b[0;32m   1023\u001b[0m )\n\u001b[0;32m   1024\u001b[0m kwds\u001b[38;5;241m.\u001b[39mupdate(kwds_defaults)\n\u001b[1;32m-> 1026\u001b[0m \u001b[38;5;28;01mreturn\u001b[39;00m \u001b[43m_read\u001b[49m\u001b[43m(\u001b[49m\u001b[43mfilepath_or_buffer\u001b[49m\u001b[43m,\u001b[49m\u001b[43m \u001b[49m\u001b[43mkwds\u001b[49m\u001b[43m)\u001b[49m\n",
      "File \u001b[1;32mc:\\ProgramData\\anaconda3\\Lib\\site-packages\\pandas\\io\\parsers\\readers.py:620\u001b[0m, in \u001b[0;36m_read\u001b[1;34m(filepath_or_buffer, kwds)\u001b[0m\n\u001b[0;32m    617\u001b[0m _validate_names(kwds\u001b[38;5;241m.\u001b[39mget(\u001b[38;5;124m\"\u001b[39m\u001b[38;5;124mnames\u001b[39m\u001b[38;5;124m\"\u001b[39m, \u001b[38;5;28;01mNone\u001b[39;00m))\n\u001b[0;32m    619\u001b[0m \u001b[38;5;66;03m# Create the parser.\u001b[39;00m\n\u001b[1;32m--> 620\u001b[0m parser \u001b[38;5;241m=\u001b[39m \u001b[43mTextFileReader\u001b[49m\u001b[43m(\u001b[49m\u001b[43mfilepath_or_buffer\u001b[49m\u001b[43m,\u001b[49m\u001b[43m \u001b[49m\u001b[38;5;241;43m*\u001b[39;49m\u001b[38;5;241;43m*\u001b[39;49m\u001b[43mkwds\u001b[49m\u001b[43m)\u001b[49m\n\u001b[0;32m    622\u001b[0m \u001b[38;5;28;01mif\u001b[39;00m chunksize \u001b[38;5;129;01mor\u001b[39;00m iterator:\n\u001b[0;32m    623\u001b[0m     \u001b[38;5;28;01mreturn\u001b[39;00m parser\n",
      "File \u001b[1;32mc:\\ProgramData\\anaconda3\\Lib\\site-packages\\pandas\\io\\parsers\\readers.py:1620\u001b[0m, in \u001b[0;36mTextFileReader.__init__\u001b[1;34m(self, f, engine, **kwds)\u001b[0m\n\u001b[0;32m   1617\u001b[0m     \u001b[38;5;28mself\u001b[39m\u001b[38;5;241m.\u001b[39moptions[\u001b[38;5;124m\"\u001b[39m\u001b[38;5;124mhas_index_names\u001b[39m\u001b[38;5;124m\"\u001b[39m] \u001b[38;5;241m=\u001b[39m kwds[\u001b[38;5;124m\"\u001b[39m\u001b[38;5;124mhas_index_names\u001b[39m\u001b[38;5;124m\"\u001b[39m]\n\u001b[0;32m   1619\u001b[0m \u001b[38;5;28mself\u001b[39m\u001b[38;5;241m.\u001b[39mhandles: IOHandles \u001b[38;5;241m|\u001b[39m \u001b[38;5;28;01mNone\u001b[39;00m \u001b[38;5;241m=\u001b[39m \u001b[38;5;28;01mNone\u001b[39;00m\n\u001b[1;32m-> 1620\u001b[0m \u001b[38;5;28mself\u001b[39m\u001b[38;5;241m.\u001b[39m_engine \u001b[38;5;241m=\u001b[39m \u001b[38;5;28;43mself\u001b[39;49m\u001b[38;5;241;43m.\u001b[39;49m\u001b[43m_make_engine\u001b[49m\u001b[43m(\u001b[49m\u001b[43mf\u001b[49m\u001b[43m,\u001b[49m\u001b[43m \u001b[49m\u001b[38;5;28;43mself\u001b[39;49m\u001b[38;5;241;43m.\u001b[39;49m\u001b[43mengine\u001b[49m\u001b[43m)\u001b[49m\n",
      "File \u001b[1;32mc:\\ProgramData\\anaconda3\\Lib\\site-packages\\pandas\\io\\parsers\\readers.py:1880\u001b[0m, in \u001b[0;36mTextFileReader._make_engine\u001b[1;34m(self, f, engine)\u001b[0m\n\u001b[0;32m   1878\u001b[0m     \u001b[38;5;28;01mif\u001b[39;00m \u001b[38;5;124m\"\u001b[39m\u001b[38;5;124mb\u001b[39m\u001b[38;5;124m\"\u001b[39m \u001b[38;5;129;01mnot\u001b[39;00m \u001b[38;5;129;01min\u001b[39;00m mode:\n\u001b[0;32m   1879\u001b[0m         mode \u001b[38;5;241m+\u001b[39m\u001b[38;5;241m=\u001b[39m \u001b[38;5;124m\"\u001b[39m\u001b[38;5;124mb\u001b[39m\u001b[38;5;124m\"\u001b[39m\n\u001b[1;32m-> 1880\u001b[0m \u001b[38;5;28mself\u001b[39m\u001b[38;5;241m.\u001b[39mhandles \u001b[38;5;241m=\u001b[39m \u001b[43mget_handle\u001b[49m\u001b[43m(\u001b[49m\n\u001b[0;32m   1881\u001b[0m \u001b[43m    \u001b[49m\u001b[43mf\u001b[49m\u001b[43m,\u001b[49m\n\u001b[0;32m   1882\u001b[0m \u001b[43m    \u001b[49m\u001b[43mmode\u001b[49m\u001b[43m,\u001b[49m\n\u001b[0;32m   1883\u001b[0m \u001b[43m    \u001b[49m\u001b[43mencoding\u001b[49m\u001b[38;5;241;43m=\u001b[39;49m\u001b[38;5;28;43mself\u001b[39;49m\u001b[38;5;241;43m.\u001b[39;49m\u001b[43moptions\u001b[49m\u001b[38;5;241;43m.\u001b[39;49m\u001b[43mget\u001b[49m\u001b[43m(\u001b[49m\u001b[38;5;124;43m\"\u001b[39;49m\u001b[38;5;124;43mencoding\u001b[39;49m\u001b[38;5;124;43m\"\u001b[39;49m\u001b[43m,\u001b[49m\u001b[43m \u001b[49m\u001b[38;5;28;43;01mNone\u001b[39;49;00m\u001b[43m)\u001b[49m\u001b[43m,\u001b[49m\n\u001b[0;32m   1884\u001b[0m \u001b[43m    \u001b[49m\u001b[43mcompression\u001b[49m\u001b[38;5;241;43m=\u001b[39;49m\u001b[38;5;28;43mself\u001b[39;49m\u001b[38;5;241;43m.\u001b[39;49m\u001b[43moptions\u001b[49m\u001b[38;5;241;43m.\u001b[39;49m\u001b[43mget\u001b[49m\u001b[43m(\u001b[49m\u001b[38;5;124;43m\"\u001b[39;49m\u001b[38;5;124;43mcompression\u001b[39;49m\u001b[38;5;124;43m\"\u001b[39;49m\u001b[43m,\u001b[49m\u001b[43m \u001b[49m\u001b[38;5;28;43;01mNone\u001b[39;49;00m\u001b[43m)\u001b[49m\u001b[43m,\u001b[49m\n\u001b[0;32m   1885\u001b[0m \u001b[43m    \u001b[49m\u001b[43mmemory_map\u001b[49m\u001b[38;5;241;43m=\u001b[39;49m\u001b[38;5;28;43mself\u001b[39;49m\u001b[38;5;241;43m.\u001b[39;49m\u001b[43moptions\u001b[49m\u001b[38;5;241;43m.\u001b[39;49m\u001b[43mget\u001b[49m\u001b[43m(\u001b[49m\u001b[38;5;124;43m\"\u001b[39;49m\u001b[38;5;124;43mmemory_map\u001b[39;49m\u001b[38;5;124;43m\"\u001b[39;49m\u001b[43m,\u001b[49m\u001b[43m \u001b[49m\u001b[38;5;28;43;01mFalse\u001b[39;49;00m\u001b[43m)\u001b[49m\u001b[43m,\u001b[49m\n\u001b[0;32m   1886\u001b[0m \u001b[43m    \u001b[49m\u001b[43mis_text\u001b[49m\u001b[38;5;241;43m=\u001b[39;49m\u001b[43mis_text\u001b[49m\u001b[43m,\u001b[49m\n\u001b[0;32m   1887\u001b[0m \u001b[43m    \u001b[49m\u001b[43merrors\u001b[49m\u001b[38;5;241;43m=\u001b[39;49m\u001b[38;5;28;43mself\u001b[39;49m\u001b[38;5;241;43m.\u001b[39;49m\u001b[43moptions\u001b[49m\u001b[38;5;241;43m.\u001b[39;49m\u001b[43mget\u001b[49m\u001b[43m(\u001b[49m\u001b[38;5;124;43m\"\u001b[39;49m\u001b[38;5;124;43mencoding_errors\u001b[39;49m\u001b[38;5;124;43m\"\u001b[39;49m\u001b[43m,\u001b[49m\u001b[43m \u001b[49m\u001b[38;5;124;43m\"\u001b[39;49m\u001b[38;5;124;43mstrict\u001b[39;49m\u001b[38;5;124;43m\"\u001b[39;49m\u001b[43m)\u001b[49m\u001b[43m,\u001b[49m\n\u001b[0;32m   1888\u001b[0m \u001b[43m    \u001b[49m\u001b[43mstorage_options\u001b[49m\u001b[38;5;241;43m=\u001b[39;49m\u001b[38;5;28;43mself\u001b[39;49m\u001b[38;5;241;43m.\u001b[39;49m\u001b[43moptions\u001b[49m\u001b[38;5;241;43m.\u001b[39;49m\u001b[43mget\u001b[49m\u001b[43m(\u001b[49m\u001b[38;5;124;43m\"\u001b[39;49m\u001b[38;5;124;43mstorage_options\u001b[39;49m\u001b[38;5;124;43m\"\u001b[39;49m\u001b[43m,\u001b[49m\u001b[43m \u001b[49m\u001b[38;5;28;43;01mNone\u001b[39;49;00m\u001b[43m)\u001b[49m\u001b[43m,\u001b[49m\n\u001b[0;32m   1889\u001b[0m \u001b[43m\u001b[49m\u001b[43m)\u001b[49m\n\u001b[0;32m   1890\u001b[0m \u001b[38;5;28;01massert\u001b[39;00m \u001b[38;5;28mself\u001b[39m\u001b[38;5;241m.\u001b[39mhandles \u001b[38;5;129;01mis\u001b[39;00m \u001b[38;5;129;01mnot\u001b[39;00m \u001b[38;5;28;01mNone\u001b[39;00m\n\u001b[0;32m   1891\u001b[0m f \u001b[38;5;241m=\u001b[39m \u001b[38;5;28mself\u001b[39m\u001b[38;5;241m.\u001b[39mhandles\u001b[38;5;241m.\u001b[39mhandle\n",
      "File \u001b[1;32mc:\\ProgramData\\anaconda3\\Lib\\site-packages\\pandas\\io\\common.py:873\u001b[0m, in \u001b[0;36mget_handle\u001b[1;34m(path_or_buf, mode, encoding, compression, memory_map, is_text, errors, storage_options)\u001b[0m\n\u001b[0;32m    868\u001b[0m \u001b[38;5;28;01melif\u001b[39;00m \u001b[38;5;28misinstance\u001b[39m(handle, \u001b[38;5;28mstr\u001b[39m):\n\u001b[0;32m    869\u001b[0m     \u001b[38;5;66;03m# Check whether the filename is to be opened in binary mode.\u001b[39;00m\n\u001b[0;32m    870\u001b[0m     \u001b[38;5;66;03m# Binary mode does not support 'encoding' and 'newline'.\u001b[39;00m\n\u001b[0;32m    871\u001b[0m     \u001b[38;5;28;01mif\u001b[39;00m ioargs\u001b[38;5;241m.\u001b[39mencoding \u001b[38;5;129;01mand\u001b[39;00m \u001b[38;5;124m\"\u001b[39m\u001b[38;5;124mb\u001b[39m\u001b[38;5;124m\"\u001b[39m \u001b[38;5;129;01mnot\u001b[39;00m \u001b[38;5;129;01min\u001b[39;00m ioargs\u001b[38;5;241m.\u001b[39mmode:\n\u001b[0;32m    872\u001b[0m         \u001b[38;5;66;03m# Encoding\u001b[39;00m\n\u001b[1;32m--> 873\u001b[0m         handle \u001b[38;5;241m=\u001b[39m \u001b[38;5;28;43mopen\u001b[39;49m\u001b[43m(\u001b[49m\n\u001b[0;32m    874\u001b[0m \u001b[43m            \u001b[49m\u001b[43mhandle\u001b[49m\u001b[43m,\u001b[49m\n\u001b[0;32m    875\u001b[0m \u001b[43m            \u001b[49m\u001b[43mioargs\u001b[49m\u001b[38;5;241;43m.\u001b[39;49m\u001b[43mmode\u001b[49m\u001b[43m,\u001b[49m\n\u001b[0;32m    876\u001b[0m \u001b[43m            \u001b[49m\u001b[43mencoding\u001b[49m\u001b[38;5;241;43m=\u001b[39;49m\u001b[43mioargs\u001b[49m\u001b[38;5;241;43m.\u001b[39;49m\u001b[43mencoding\u001b[49m\u001b[43m,\u001b[49m\n\u001b[0;32m    877\u001b[0m \u001b[43m            \u001b[49m\u001b[43merrors\u001b[49m\u001b[38;5;241;43m=\u001b[39;49m\u001b[43merrors\u001b[49m\u001b[43m,\u001b[49m\n\u001b[0;32m    878\u001b[0m \u001b[43m            \u001b[49m\u001b[43mnewline\u001b[49m\u001b[38;5;241;43m=\u001b[39;49m\u001b[38;5;124;43m\"\u001b[39;49m\u001b[38;5;124;43m\"\u001b[39;49m\u001b[43m,\u001b[49m\n\u001b[0;32m    879\u001b[0m \u001b[43m        \u001b[49m\u001b[43m)\u001b[49m\n\u001b[0;32m    880\u001b[0m     \u001b[38;5;28;01melse\u001b[39;00m:\n\u001b[0;32m    881\u001b[0m         \u001b[38;5;66;03m# Binary mode\u001b[39;00m\n\u001b[0;32m    882\u001b[0m         handle \u001b[38;5;241m=\u001b[39m \u001b[38;5;28mopen\u001b[39m(handle, ioargs\u001b[38;5;241m.\u001b[39mmode)\n",
      "\u001b[1;31mFileNotFoundError\u001b[0m: [Errno 2] No such file or directory: 'book\\\\aulas\\\\aula4\\\\dataset\\\\winemag-data-130k-v2.csv'"
     ]
    }
   ],
   "source": [
    "caminho_arquivo = \"book\\\\aulas\\\\aula4\\\\dataset\\\\winemag-data-130k-v2.csv\"\n",
    "\n",
    "df = pd.read_csv(caminho_arquivo)\n",
    "\n",
    "df.head()"
   ]
  },
  {
   "cell_type": "markdown",
   "id": "54b44740",
   "metadata": {},
   "source": [
    "a) Traga as principais estatísticas descritivas do banco:"
   ]
  },
  {
   "cell_type": "code",
   "execution_count": null,
   "id": "10f7b888",
   "metadata": {},
   "outputs": [],
   "source": [
    "df.describe()"
   ]
  },
  {
   "cell_type": "markdown",
   "id": "8dfe7a93",
   "metadata": {},
   "source": [
    "b) Qual a origem mais comum dos vinhos? (Top 5)"
   ]
  },
  {
   "cell_type": "code",
   "execution_count": null,
   "id": "a26d6338",
   "metadata": {},
   "outputs": [],
   "source": [
    "df.country.value_counts()[:5]"
   ]
  },
  {
   "cell_type": "markdown",
   "id": "e7361eb4",
   "metadata": {},
   "source": [
    "c) Qual o preço médio dos vinhos?"
   ]
  },
  {
   "cell_type": "code",
   "execution_count": null,
   "id": "276a35fa",
   "metadata": {},
   "outputs": [],
   "source": [
    "df.price.mean()"
   ]
  },
  {
   "cell_type": "markdown",
   "id": "284348ad",
   "metadata": {},
   "source": [
    "d) Quem é o sommelier que mais aparece no banco?"
   ]
  },
  {
   "cell_type": "code",
   "execution_count": null,
   "id": "0bb08893",
   "metadata": {},
   "outputs": [],
   "source": [
    "df.taster_name.value_counts()[:1]"
   ]
  },
  {
   "cell_type": "markdown",
   "id": "64e7b48c",
   "metadata": {},
   "source": [
    "14) Baixe os arquivos com os resultados das [eleições gerais](https://sig.tse.jus.br/ords/dwapr/r/seai/sig-eleicao-resultados/resultado-da-eleição?p0_abrangencia=UF&clear=RP&session=6209947300226) de 2022 por UF e importe no <i>Pandas</i> da mesma forma que o 1.\n",
    "\n",
    "<b>Dicas:</b> Problemas no [delimiter](https://pandas.pydata.org/docs/reference/api/pandas.read_csv.html) e no [encoding](https://pandas.pydata.org/docs/reference/api/pandas.read_csv.html) (encoding = 'latin-1'):"
   ]
  },
  {
   "cell_type": "code",
   "execution_count": 1,
   "id": "1eb15b15",
   "metadata": {},
   "outputs": [
    {
     "name": "stderr",
     "output_type": "stream",
     "text": [
      "<>:1: SyntaxWarning: invalid escape sequence '\\d'\n",
      "<>:1: SyntaxWarning: invalid escape sequence '\\d'\n",
      "C:\\Users\\Pedro\\AppData\\Local\\Temp\\ipykernel_12596\\896466866.py:1: SyntaxWarning: invalid escape sequence '\\d'\n",
      "  caminho_arquivo = 'book\\aulas\\aula4\\dataset\\votacao_candidato-uf_presidente_2022.csv'\n",
      "C:\\Users\\Pedro\\AppData\\Local\\Temp\\ipykernel_12596\\896466866.py:1: SyntaxWarning: invalid escape sequence '\\d'\n",
      "  caminho_arquivo = 'book\\aulas\\aula4\\dataset\\votacao_candidato-uf_presidente_2022.csv'\n"
     ]
    },
    {
     "ename": "NameError",
     "evalue": "name 'pd' is not defined",
     "output_type": "error",
     "traceback": [
      "\u001b[1;31m---------------------------------------------------------------------------\u001b[0m",
      "\u001b[1;31mNameError\u001b[0m                                 Traceback (most recent call last)",
      "Cell \u001b[1;32mIn[1], line 3\u001b[0m\n\u001b[0;32m      1\u001b[0m caminho_arquivo \u001b[38;5;241m=\u001b[39m \u001b[38;5;124m'\u001b[39m\u001b[38;5;124mbook\u001b[39m\u001b[38;5;130;01m\\a\u001b[39;00m\u001b[38;5;124mulas\u001b[39m\u001b[38;5;130;01m\\a\u001b[39;00m\u001b[38;5;124mula4\u001b[39m\u001b[38;5;124m\\\u001b[39m\u001b[38;5;124mdataset\u001b[39m\u001b[38;5;130;01m\\v\u001b[39;00m\u001b[38;5;124motacao_candidato-uf_presidente_2022.csv\u001b[39m\u001b[38;5;124m'\u001b[39m\n\u001b[1;32m----> 3\u001b[0m df \u001b[38;5;241m=\u001b[39m \u001b[43mpd\u001b[49m\u001b[38;5;241m.\u001b[39mread_csv(caminho_arquivo,\n\u001b[0;32m      4\u001b[0m                  delimiter \u001b[38;5;241m=\u001b[39m \u001b[38;5;124m'\u001b[39m\u001b[38;5;124m;\u001b[39m\u001b[38;5;124m'\u001b[39m,\n\u001b[0;32m      5\u001b[0m                  encoding \u001b[38;5;241m=\u001b[39m \u001b[38;5;124m'\u001b[39m\u001b[38;5;124mlatin-1\u001b[39m\u001b[38;5;124m'\u001b[39m)\n\u001b[0;32m      7\u001b[0m df\u001b[38;5;241m.\u001b[39mhead()\n",
      "\u001b[1;31mNameError\u001b[0m: name 'pd' is not defined"
     ]
    }
   ],
   "source": [
    "caminho_arquivo = 'book\\aulas\\aula4\\dataset\\votacao_candidato-uf_presidente_2022.csv'\n",
    "\n",
    "df = pd.read_csv(caminho_arquivo,\n",
    "                 delimiter = ';',\n",
    "                 encoding = 'latin-1')\n",
    "\n",
    "df.head()"
   ]
  },
  {
   "cell_type": "markdown",
   "id": "ff851172",
   "metadata": {},
   "source": [
    "a) Filtre o que é relacionado só com o cargo de presidente e no primeiro turno:"
   ]
  },
  {
   "cell_type": "code",
   "execution_count": null,
   "id": "d1985429",
   "metadata": {},
   "outputs": [],
   "source": [
    "df = df[(df['ds_cargo'] == 'Presidente') & (df['nr_turno'] == 1)]\n",
    "\n",
    "df"
   ]
  },
  {
   "cell_type": "markdown",
   "id": "5ccdbc07",
   "metadata": {},
   "source": [
    "<p align=\"justify\">b) Crie um novo <i>Data Frame</i> só com as colunas sg_uf, nm_urna_candidato, pc_votos_validos e qt_votos_nom_validos. Use 'reset_index()' para reconfigurar o índice:"
   ]
  },
  {
   "cell_type": "code",
   "execution_count": null,
   "id": "353bcf1d",
   "metadata": {},
   "outputs": [],
   "source": [
    "df2 = df[['sg_uf', 'nm_urna_candidato', 'pc_votos_validos', 'qt_votos_nom_validos']].reset_index()\n",
    "\n",
    "df2"
   ]
  },
  {
   "cell_type": "markdown",
   "id": "dfbc0960",
   "metadata": {},
   "source": [
    "<p align=\"justify\">c) Mostre o maior valor de qt_votos_nom_validos e a linha em que ocorre:"
   ]
  },
  {
   "cell_type": "code",
   "execution_count": null,
   "id": "158cf6fe",
   "metadata": {},
   "outputs": [],
   "source": [
    "maior = df2.qt_votos_nom_validos.max()\n",
    "linha = df2.qt_votos_nom_validos.idxmax()\n",
    "\n",
    "print(f'O maior valor é de {maior} e ele ocorre na linha {linha}')\n",
    "print(df2.iloc[275])"
   ]
  },
  {
   "cell_type": "markdown",
   "id": "cec87ac1",
   "metadata": {},
   "source": [
    "15) Importe \"tweets_annotated.csv\" do seguinte [repositório](https://github.com/PedroSchmalz/covid19-tweets-brazilian-mayoral-candidates):"
   ]
  },
  {
   "cell_type": "code",
   "execution_count": null,
   "id": "e1d89eb7",
   "metadata": {},
   "outputs": [],
   "source": [
    "df = pd.read_csv('https://raw.githubusercontent.com/PedroSchmalz/covid19-tweets-brazilian-mayoral-candidates/main/tweets_annotated.csv')\n",
    "\n",
    "df"
   ]
  },
  {
   "cell_type": "markdown",
   "id": "8a48a253",
   "metadata": {},
   "source": [
    "<p align=\"justify\">a) Exclua as linhas em que 'post_vaccine' é igual a 0 e salve isso em um novo <i>Data Frame</i>:"
   ]
  },
  {
   "cell_type": "code",
   "execution_count": null,
   "id": "a2a61878",
   "metadata": {},
   "outputs": [],
   "source": [
    "df2 = df[df['post_vaccine'] == 1]\n",
    "\n",
    "df2"
   ]
  },
  {
   "cell_type": "markdown",
   "id": "f49d1140",
   "metadata": {},
   "source": [
    "<p align=\"justify\">b) Use o <i>Data Frame</i> do exercício anterior para mostrar as frequências das categorias da variável 'positions_vac':"
   ]
  },
  {
   "cell_type": "code",
   "execution_count": null,
   "id": "8d5d3ed7",
   "metadata": {},
   "outputs": [],
   "source": [
    "df2['positions_vac'].value_counts()"
   ]
  },
  {
   "cell_type": "markdown",
   "id": "f0dce22c",
   "metadata": {},
   "source": [
    "16 - Temos o seguinte banco de dados com valores <i>missing</i>. Preencha os valores faltantes com zeros."
   ]
  },
  {
   "cell_type": "code",
   "execution_count": null,
   "id": "3318dd48",
   "metadata": {},
   "outputs": [],
   "source": [
    "data = {'A': [1, 2, np.nan, 4, 5],\n",
    "        'B': [np.nan, 2, 3, np.nan, 5],\n",
    "        'C': [1, np.nan, 3, 4, np.nan]}\n",
    "\n",
    "df = pd.DataFrame(data)\n",
    "\n",
    "\n",
    "# Preencher os valores ausentes com zeros\n",
    "df_filled = df.fillna(0)\n",
    "\n",
    "# Exibir o DataFrame com os valores preenchidos\n",
    "print(df_filled)\n",
    "\n",
    "\n"
   ]
  },
  {
   "cell_type": "markdown",
   "id": "349dbf48",
   "metadata": {},
   "source": [
    "17 - Novamente, temos um banco de dados com NAs. Conte os valores <i>missing</i> em cada coluna:"
   ]
  },
  {
   "cell_type": "code",
   "execution_count": null,
   "id": "455a07c2",
   "metadata": {},
   "outputs": [],
   "source": [
    "data = {'A': [1, 2, np.nan, 4, 5],\n",
    "        'B': [np.nan, 2, 3, np.nan, 5],\n",
    "        'C': [1, np.nan, 3, 4, np.nan]}\n",
    "\n",
    "df = pd.DataFrame(data)\n",
    "\n",
    "\n",
    "# Contar os valores ausentes em cada coluna\n",
    "count_missing = df.isnull().sum()\n",
    "\n",
    "# Exibir o número de valores ausentes em cada coluna\n",
    "print(count_missing)"
   ]
  },
  {
   "cell_type": "markdown",
   "id": "4817bc75",
   "metadata": {},
   "source": [
    "18 - Remova os dados duplicados do seguinte banco de dados:"
   ]
  },
  {
   "cell_type": "code",
   "execution_count": null,
   "id": "c7f4f3ad",
   "metadata": {},
   "outputs": [],
   "source": [
    "data = {'Nome': ['Alice', 'Bob', 'Alice', 'David', 'Eve'],\n",
    "        'ID': [101, 102, 101, 103, 104]}\n",
    "\n",
    "df = pd.DataFrame(data)\n",
    "\n",
    "# Remova as entradas duplicadas com base no número de identificação\n",
    "df_unique = df.drop_duplicates(subset='ID')\n",
    "\n",
    "# Exiba o novo DataFrame resultante\n",
    "print(df_unique)\n"
   ]
  },
  {
   "cell_type": "markdown",
   "id": "d6654a95",
   "metadata": {},
   "source": [
    "<p align=\"justify\">19 - Para o seguinte banco de dados, faça um mapeamento que substitua 'alto' por 3, 'médio' por 2 e 'baixo' por 1. Em seguida, utilize esse mapeamento no banco com o método <i>replace</i>:"
   ]
  },
  {
   "cell_type": "code",
   "execution_count": null,
   "id": "d022ba62",
   "metadata": {},
   "outputs": [],
   "source": [
    "\n",
    "data = {'Cidade': ['A', 'B', 'C', 'D'],\n",
    "        'Poluição': ['Alto', 'Médio', 'Baixo', 'Alto']}\n",
    "\n",
    "df = pd.DataFrame(data)\n",
    "\n"
   ]
  },
  {
   "cell_type": "markdown",
   "id": "e2b32269",
   "metadata": {},
   "source": [
    "<p align=\"justify\">20 - Para o seguinte banco de dados, crie bins de conceitos (i.e. 'A', 'B', etc.) com base na nota dos alunos:"
   ]
  },
  {
   "cell_type": "code",
   "execution_count": null,
   "id": "815cfd0f",
   "metadata": {},
   "outputs": [],
   "source": [
    "\n",
    "data = {'Nome': ['Alice', 'Bob', 'Carol', 'David', 'Eve'],\n",
    "        'Nota': [85, 72, 45, 60, 32]}\n",
    "\n",
    "df = pd.DataFrame(data)\n",
    "\n",
    "\n"
   ]
  },
  {
   "cell_type": "markdown",
   "id": "2cf43f67",
   "metadata": {},
   "source": [
    "21 - Use a função get_dummies() para criar variáveis dummy a partir da coluna de animais de estimação:"
   ]
  },
  {
   "cell_type": "code",
   "execution_count": null,
   "id": "832d7cd7",
   "metadata": {},
   "outputs": [],
   "source": [
    "data = {'Nome': ['Alice', 'Bob', 'Carol', 'David', 'Eve'],\n",
    "        'Animal_de_Estimação': ['Cachorro', 'Gato', 'Peixe', 'Gato', 'Cachorro']}\n",
    "\n",
    "df = pd.DataFrame(data)\n"
   ]
  },
  {
   "cell_type": "markdown",
   "id": "7146095f",
   "metadata": {},
   "source": [
    "<p align=\"justify\">22 - Suponha que você tenha um <i>Data Frame</i> com uma coluna que contém nomes completos no formato \"Primeiro Nome Último Nome\". Sua tarefa é dividir essa coluna em duas colunas separadas, uma para o primeiro nome e outra para o último nome:"
   ]
  },
  {
   "cell_type": "code",
   "execution_count": null,
   "id": "b65e16f4",
   "metadata": {},
   "outputs": [],
   "source": [
    "import pandas as pd\n",
    "\n",
    "data = {'Nome_Completo': ['Alice Johnson', 'Bob Smith', 'Carol Brown', 'David White', 'Eve Anderson']}\n",
    "\n",
    "df = pd.DataFrame(data)\n",
    "\n"
   ]
  },
  {
   "cell_type": "markdown",
   "id": "e418839c",
   "metadata": {},
   "source": [
    "<p align=\"justify\">23 - Suponha que você tenha um <i>Data Frame</i> com uma coluna que contém nomes completos, mas alguns nomes têm espaços em branco extras no início ou no final. Sua tarefa é remover esses espaços em branco extras:"
   ]
  },
  {
   "cell_type": "code",
   "execution_count": null,
   "id": "03764a2b",
   "metadata": {},
   "outputs": [],
   "source": [
    "data = {'Nome_Completo': ['   Alice Johnson', 'Bob Smith   ', ' Carol Brown ', '  David White ', 'Eve  Anderson']}\n",
    "\n",
    "df = pd.DataFrame(data)\n",
    "\n"
   ]
  }
 ],
 "metadata": {
  "kernelspec": {
   "display_name": "base",
   "language": "python",
   "name": "python3"
  },
  "language_info": {
   "codemirror_mode": {
    "name": "ipython",
    "version": 3
   },
   "file_extension": ".py",
   "mimetype": "text/x-python",
   "name": "python",
   "nbconvert_exporter": "python",
   "pygments_lexer": "ipython3",
   "version": "3.12.7"
  }
 },
 "nbformat": 4,
 "nbformat_minor": 5
}
