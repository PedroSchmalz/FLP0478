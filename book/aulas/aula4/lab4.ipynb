{
 "cells": [
  {
   "cell_type": "markdown",
   "id": "dc02567a",
   "metadata": {},
   "source": [
    "# Laboratório 4\n",
    "\n",
    "Nota: Substitua os seus nomes e informações abaixo antes do envio da atividade. A atividade deve ser enviada no `Moodle` da disciplina, e o arquivo **DEVE** estar no formato `.ipynb`.\n",
    "\n",
    "[Nome Aluno 1] / [NUSP Aluno 1] / [Vespertino/Noturno]\n",
    "\n",
    "[Nome Aluno 2] / [NUSP Aluno 2] / [Vespertino/Noturno]\n"
   ]
  },
  {
   "cell_type": "markdown",
   "id": "77c0570a",
   "metadata": {},
   "source": [
    "### Exercícios"
   ]
  },
  {
   "cell_type": "markdown",
   "id": "172dc4d8",
   "metadata": {},
   "source": [
    "Para os exercícios, sempre é bom consultar a documentação específica do *Pandas* sobre [*Series*](https://pandas.pydata.org/docs/reference/series.html)."
   ]
  },
  {
   "cell_type": "markdown",
   "id": "ccf33c31",
   "metadata": {},
   "source": [
    "<p align=\"justify\"> 1 - Filtragem com <i>Series</i> - Crie uma <i>Series</i> com números inteiros. Em seguida, crie uma nova <i>Series</i> que contenha apenas os valores maiores que 50 da primeira <i>Series</i>."
   ]
  },
  {
   "cell_type": "code",
   "execution_count": null,
   "id": "e8e90e4d",
   "metadata": {},
   "outputs": [],
   "source": []
  },
  {
   "cell_type": "markdown",
   "id": "2c87c219",
   "metadata": {},
   "source": [
    "<p align=\"justify\"> 2 - Operações com <i>Series</i> - Primeiro, vamos criar duas <i>Series</i> com dados numéricos:"
   ]
  },
  {
   "cell_type": "code",
   "execution_count": null,
   "id": "9c647353",
   "metadata": {},
   "outputs": [],
   "source": [
    "# Criando as duas Series\n",
    "serie1 = pd.Series([10, 20, 30, 40, 50])\n",
    "serie2 = pd.Series([5, 15, 25, 35, 45])"
   ]
  },
  {
   "cell_type": "markdown",
   "id": "47a69666",
   "metadata": {},
   "source": [
    "a) Some as duas <i>Series</i>:"
   ]
  },
  {
   "cell_type": "code",
   "execution_count": null,
   "id": "8ab1f899",
   "metadata": {},
   "outputs": [],
   "source": []
  },
  {
   "cell_type": "markdown",
   "id": "0c0508c7",
   "metadata": {},
   "source": [
    "b) Multiplique as <i>Series</i> uma pela outra:"
   ]
  },
  {
   "cell_type": "code",
   "execution_count": null,
   "id": "4a30df19",
   "metadata": {},
   "outputs": [],
   "source": []
  },
  {
   "cell_type": "markdown",
   "id": "883c45cc",
   "metadata": {},
   "source": [
    "c) Encontre o valor máximo nas duas <i>Series</i>:"
   ]
  },
  {
   "cell_type": "code",
   "execution_count": null,
   "id": "558d119d",
   "metadata": {},
   "outputs": [],
   "source": []
  },
  {
   "cell_type": "markdown",
   "id": "33430eef",
   "metadata": {},
   "source": [
    "d) Calcule a média dos valores nas duas <i>Series</i>:"
   ]
  },
  {
   "cell_type": "code",
   "execution_count": null,
   "id": "8717ce43",
   "metadata": {},
   "outputs": [],
   "source": []
  },
  {
   "cell_type": "markdown",
   "id": "d0692341",
   "metadata": {},
   "source": [
    "<p align=\"justify\"> 3 - Crie uma <i>Series</i> com nomes de cidades e seus respectivos números de habitantes (não precisam ser dados reais). Classifique a <i>Series</i> em ordem decrescente com base no número de habitantes."
   ]
  },
  {
   "cell_type": "code",
   "execution_count": null,
   "id": "9831f92a",
   "metadata": {},
   "outputs": [],
   "source": []
  },
  {
   "cell_type": "markdown",
   "id": "81764413",
   "metadata": {},
   "source": [
    "<p align=\"justify\">4 - Crie duas <i>Series</i> com dados de sua escolha. Concatene as duas <i>Series</i> em uma única <i>Series</i>. Certifique-se de que os índices sejam únicos após a concatenação."
   ]
  },
  {
   "cell_type": "code",
   "execution_count": null,
   "id": "44b57f4c",
   "metadata": {},
   "outputs": [],
   "source": []
  },
  {
   "cell_type": "markdown",
   "id": "f4e8a794",
   "metadata": {},
   "source": [
    "<p align=\"justify\">5 - No seguinte dicionário estão duas informações: o nome de políticos e a quantidade de tweets que fizeram sobre as vacinas de Covid-19 no período de janeiro de 2020 a dezembro de 2021.\n",
    "\n",
    "<p align=\"justify\"> Converta esse dicionário em uma <i>Serie</i> e dê as seguintes informações: qual a média de tweets, o desvio padrão e quem tweetou mais."
   ]
  },
  {
   "cell_type": "code",
   "execution_count": null,
   "id": "28ac4810",
   "metadata": {},
   "outputs": [],
   "source": [
    "import random\n",
    "\n",
    "# Criando o dicionário com políticos e números aleatórios de tweets\n",
    "politicos = {\n",
    "    \"Politico1\": random.randint(0, 500),\n",
    "    \"Politico2\": random.randint(0, 500),\n",
    "    \"Politico3\": random.randint(0, 500),\n",
    "    \"Politico4\": random.randint(0, 500),\n",
    "    \"Politico5\": random.randint(0, 500),\n",
    "    \"Politico6\": random.randint(0, 500),\n",
    "    \"Politico7\": random.randint(0, 500),\n",
    "    \"Politico8\": random.randint(0, 500),\n",
    "    \"Politico9\": random.randint(0, 500),\n",
    "    \"Politico10\": random.randint(0, 500),\n",
    "    \"Politico11\": random.randint(0, 500),\n",
    "    \"Politico12\": random.randint(0, 500),\n",
    "    \"Politico13\": random.randint(0, 500),\n",
    "    \"Politico14\": random.randint(0, 500),\n",
    "    \"Politico15\": random.randint(0, 500),\n",
    "    \"Politico16\": random.randint(0, 500),\n",
    "    \"Politico17\": random.randint(0, 500),\n",
    "    \"Politico18\": random.randint(0, 500),\n",
    "    \"Politico19\": random.randint(0, 500),\n",
    "    \"Politico20\": random.randint(0, 500)\n",
    "}\n",
    "\n",
    "\n",
    "\n",
    "\n",
    "\n",
    "\n"
   ]
  },
  {
   "cell_type": "markdown",
   "id": "a1cb91c7",
   "metadata": {},
   "source": [
    "<p align=\"justify\"> 6 - Faça uma função que recebe um dicionário como argumento e retorne esse dicionário como <i>Serie</i>, junto de informações descritivas como média, moda, mediana."
   ]
  },
  {
   "cell_type": "code",
   "execution_count": null,
   "id": "8746a382",
   "metadata": {},
   "outputs": [],
   "source": []
  },
  {
   "cell_type": "markdown",
   "id": "477527e4",
   "metadata": {},
   "source": [
    "Antes de ir aos próximos exercícios, explore a documentação própria do Pandas ([Link](https://pandas.pydata.org/docs/reference/api/pandas.DataFrame.html)) sobre <i>Data Frames</i>."
   ]
  },
  {
   "cell_type": "markdown",
   "id": "21a10d11",
   "metadata": {},
   "source": [
    "<p align=\"justify\">1 - Considere o seguinte <i>Data Frame</i>:"
   ]
  },
  {
   "cell_type": "code",
   "execution_count": null,
   "id": "f5661fed",
   "metadata": {},
   "outputs": [],
   "source": [
    "dados = {\n",
    "    'Nome': ['Alice', 'Bob', 'Carol', 'David', 'Eva'],\n",
    "    'Idade': [25, 30, 22, 35, 28],\n",
    "    'Cidade': ['São Paulo', 'Rio de Janeiro', 'Belo Horizonte', 'São Paulo', 'Rio de Janeiro']\n",
    "}\n",
    "\n",
    "df = pd.DataFrame(dados)\n",
    "\n",
    "df"
   ]
  },
  {
   "cell_type": "markdown",
   "id": "1016b5cc",
   "metadata": {},
   "source": [
    "a) Selecione a coluna 'Nome':\n"
   ]
  },
  {
   "cell_type": "code",
   "execution_count": null,
   "id": "637d9e95",
   "metadata": {},
   "outputs": [],
   "source": []
  },
  {
   "cell_type": "markdown",
   "id": "91904a89",
   "metadata": {},
   "source": [
    "b) Selecione a primeira linha do <i>Data Frame</i>:\n"
   ]
  },
  {
   "cell_type": "code",
   "execution_count": null,
   "id": "36eee13d",
   "metadata": {},
   "outputs": [],
   "source": []
  },
  {
   "cell_type": "markdown",
   "id": "be88e68a",
   "metadata": {},
   "source": [
    "c) Selecione o valor 'Bob' da coluna 'Nome':\n"
   ]
  },
  {
   "cell_type": "code",
   "execution_count": null,
   "id": "5aad8220",
   "metadata": {},
   "outputs": [],
   "source": []
  },
  {
   "cell_type": "markdown",
   "id": "dc8c90ea",
   "metadata": {},
   "source": [
    "d) Selecione as linhas onde a idade é maior que 28:"
   ]
  },
  {
   "cell_type": "code",
   "execution_count": null,
   "id": "3976ec48",
   "metadata": {},
   "outputs": [],
   "source": []
  },
  {
   "cell_type": "markdown",
   "id": "99cb582d",
   "metadata": {},
   "source": [
    "<p align=\"justify\">e) Selecione as linhas onde a idade está entre 25 e 30 anos (inclusive) e a cidade é 'São Paulo':"
   ]
  },
  {
   "cell_type": "code",
   "execution_count": null,
   "id": "6f7dde7f",
   "metadata": {},
   "outputs": [],
   "source": []
  },
  {
   "cell_type": "markdown",
   "id": "364cde69",
   "metadata": {},
   "source": [
    "<p align=\"justify\">f) Selecione as linhas onde o nome começa com a letra 'A' ou a idade é menor que 25:\n",
    "\n",
    "<b>Dica:</b> Você vai precisar do método de strings 'startswith()' ([Link](https://docs.python.org/3/library/stdtypes.html#str.startswith))."
   ]
  },
  {
   "cell_type": "code",
   "execution_count": null,
   "id": "d0bbcd00",
   "metadata": {},
   "outputs": [],
   "source": []
  },
  {
   "cell_type": "markdown",
   "id": "e331aaf3",
   "metadata": {},
   "source": [
    "<p align=\"justify\">2 - Agora vamos exercitar o uso do <i>loc</i>. Considere o seguinte <i>Data Frame</i>:"
   ]
  },
  {
   "cell_type": "code",
   "execution_count": null,
   "id": "eef7232d",
   "metadata": {},
   "outputs": [],
   "source": [
    "dados = {\n",
    "    'Nome': ['Alice', 'Bob', 'Carol', 'David', 'Eva'],\n",
    "    'Idade': [25, 30, 22, 35, 28],\n",
    "    'Cidade': ['São Paulo', 'Rio de Janeiro', 'Belo Horizonte', 'São Paulo', 'Rio de Janeiro']\n",
    "}\n",
    "\n",
    "df = pd.DataFrame(dados)"
   ]
  },
  {
   "cell_type": "markdown",
   "id": "579ebe25",
   "metadata": {},
   "source": [
    "<p align=\"justify\">a) Use <i>loc</i> para selecionar todas as linhas, mas só as colunas 'Nome' e 'Idade':"
   ]
  },
  {
   "cell_type": "code",
   "execution_count": null,
   "id": "67fd6615",
   "metadata": {},
   "outputs": [],
   "source": []
  },
  {
   "cell_type": "markdown",
   "id": "9ee837fd",
   "metadata": {},
   "source": [
    "<p align=\"justify\">b) Use <i>loc</i> para selecionar a linha com o nome 'David', mas com todas as colunas:"
   ]
  },
  {
   "cell_type": "code",
   "execution_count": null,
   "id": "a99e70fb",
   "metadata": {},
   "outputs": [],
   "source": []
  },
  {
   "cell_type": "markdown",
   "id": "2860521a",
   "metadata": {},
   "source": [
    "<p align=\"justify\">c) Por fim, use <i>loc</i> para selecionar as linhas onde a idade é maior que 28 e todas as colunas:"
   ]
  },
  {
   "cell_type": "code",
   "execution_count": null,
   "id": "41b8f899",
   "metadata": {},
   "outputs": [],
   "source": []
  },
  {
   "cell_type": "markdown",
   "id": "692407a3",
   "metadata": {},
   "source": [
    "<p align=\"justify\">3 - Vamos trabalhar um pouco o <i>iloc</i>. Considere o mesmo <i>Data Frame</i> do exercício 2:"
   ]
  },
  {
   "cell_type": "markdown",
   "id": "4be01e21",
   "metadata": {},
   "source": [
    "<p align=\"justify\">a)  Use <i>iloc</i> para selecionar a primeira linha e todas as colunas:"
   ]
  },
  {
   "cell_type": "code",
   "execution_count": null,
   "id": "25772ad2",
   "metadata": {},
   "outputs": [],
   "source": []
  },
  {
   "cell_type": "markdown",
   "id": "8f582d5f",
   "metadata": {},
   "source": [
    "<p align=\"justify\">b)  Use <i>iloc</i> para selecionar a última linha e todas as colunas:"
   ]
  },
  {
   "cell_type": "code",
   "execution_count": null,
   "id": "8e1fb226",
   "metadata": {},
   "outputs": [],
   "source": []
  },
  {
   "cell_type": "markdown",
   "id": "66a35c82",
   "metadata": {},
   "source": [
    "<p align=\"justify\">c) Use <i>iloc</i> para selecionar as três primeiras linhas e todas as colunas:"
   ]
  },
  {
   "cell_type": "code",
   "execution_count": null,
   "id": "8a73ef69",
   "metadata": {},
   "outputs": [],
   "source": []
  },
  {
   "cell_type": "markdown",
   "id": "351bf74d",
   "metadata": {},
   "source": [
    "<p align=\"justify\">4) Vamos criar o banco de novo para garantir que ele não foi modificado:"
   ]
  },
  {
   "cell_type": "code",
   "execution_count": null,
   "id": "c1761ce4",
   "metadata": {},
   "outputs": [],
   "source": [
    "dados = {\n",
    "    'Nome': ['Alice', 'Bob', 'Carol', 'David', 'Eva'],\n",
    "    'Idade': [25, 30, 22, 35, 28],\n",
    "    'Cidade': ['São Paulo', 'Rio de Janeiro', 'Belo Horizonte', 'São Paulo', 'Rio de Janeiro']\n",
    "}\n",
    "\n",
    "df = pd.DataFrame(dados)\n",
    "\n",
    "df"
   ]
  },
  {
   "cell_type": "markdown",
   "id": "50ac3172",
   "metadata": {},
   "source": [
    "<p align=\"justify\">a) Crie uma coluna de tempo de transporte até o trabalho que vai de 15 a 90 minutos. Ela tem de ser gerada aleatoriamente:"
   ]
  },
  {
   "cell_type": "code",
   "execution_count": null,
   "id": "4a0ce2de",
   "metadata": {},
   "outputs": [],
   "source": []
  },
  {
   "cell_type": "markdown",
   "id": "fdad97d8",
   "metadata": {},
   "source": [
    "b) Crie uma coluna de gênero utilizando o método np.random.choice ([Link](https://numpy.org/doc/stable/reference/random/generated/numpy.random.choice.html)):"
   ]
  },
  {
   "cell_type": "code",
   "execution_count": null,
   "id": "537b26b0",
   "metadata": {},
   "outputs": [],
   "source": []
  },
  {
   "cell_type": "markdown",
   "id": "5468925b",
   "metadata": {},
   "source": [
    "<p align=\"justify\">c) Crie uma coluna de salário da mesma forma que fizemos no exemplo de operações em coluna. Depois, crie uma nova coluna que mostre a razão de 'salário' e 'transporte':"
   ]
  },
  {
   "cell_type": "code",
   "execution_count": null,
   "id": "ad14997c",
   "metadata": {},
   "outputs": [],
   "source": []
  },
  {
   "cell_type": "markdown",
   "id": "a550cb57",
   "metadata": {},
   "source": [
    "<p align=\"justify\">d) Delete a coluna da razão entre salário e transporte:"
   ]
  },
  {
   "cell_type": "code",
   "execution_count": null,
   "id": "68571f43",
   "metadata": {},
   "outputs": [],
   "source": []
  },
  {
   "cell_type": "markdown",
   "id": "16a8000a",
   "metadata": {},
   "source": [
    "<p align=\"justify\">5) Vamos praticar um pouco a aplicação de funções em objetos de <i>Pandas</i>. Considere o banco de dados:"
   ]
  },
  {
   "cell_type": "code",
   "execution_count": null,
   "id": "7e67f72c",
   "metadata": {},
   "outputs": [],
   "source": [
    "dados = {\n",
    "    'Nome': ['Alice', 'Bob', 'Carol', 'David', 'Eva'],\n",
    "    'Salario': [50000, 60000, 75000, 48000, 80000],\n",
    "}\n",
    "\n",
    "df = pd.DataFrame(dados)\n",
    "\n",
    "df"
   ]
  },
  {
   "cell_type": "markdown",
   "id": "6489e3d3",
   "metadata": {},
   "source": [
    "<p align=\"justify\">a) Faça uma função chamada \"aumento_salarial\" que recebe o salário como entrada e retorna um aumento de 15%:"
   ]
  },
  {
   "cell_type": "code",
   "execution_count": null,
   "id": "88927141",
   "metadata": {},
   "outputs": [],
   "source": [
    "\n"
   ]
  },
  {
   "cell_type": "markdown",
   "id": "bd427b8f",
   "metadata": {},
   "source": [
    "b) Aplique a função na coluna \"Salario\" utilizando \"apply\":"
   ]
  },
  {
   "cell_type": "code",
   "execution_count": null,
   "id": "c20e71a3",
   "metadata": {},
   "outputs": [],
   "source": [
    "\n",
    "\n"
   ]
  },
  {
   "cell_type": "markdown",
   "id": "af5c7a53",
   "metadata": {},
   "source": [
    "<p align=\"justify\">c) Aqui está um dicionário com um mapeamento de categorias com base nos salários. Crie uma função que retorne uma categoria de acordo com o salário da pessoa.\n",
    "\n",
    "<b>Dica:</b> Mckinney, 2022, P. 211."
   ]
  },
  {
   "cell_type": "code",
   "execution_count": null,
   "id": "dd475149",
   "metadata": {},
   "outputs": [],
   "source": [
    "\n",
    "# Dicionário de Mapeamento\n",
    "\n",
    "mapeamento_categorias = {\n",
    "    (0, 50000): 'Baixo',\n",
    "    (50001, 70000): 'Médio',\n",
    "    (70001, 80000): 'Alto'\n",
    "}\n",
    "\n"
   ]
  },
  {
   "cell_type": "markdown",
   "id": "3a02f885",
   "metadata": {},
   "source": [
    "<p align=\"justify\">d) Aplique essa função no <i>Data Frame</i>, criando uma nova coluna chamada \"categoria_salario\". Imprima o banco de dados:"
   ]
  },
  {
   "cell_type": "code",
   "execution_count": null,
   "id": "5bfadbec",
   "metadata": {},
   "outputs": [],
   "source": []
  },
  {
   "cell_type": "markdown",
   "id": "f2137cce",
   "metadata": {},
   "source": [
    "<p align=\"justify\">6) Considere o seguinte <i>Data Frame</i>:"
   ]
  },
  {
   "cell_type": "code",
   "execution_count": null,
   "id": "ee89c4e1",
   "metadata": {},
   "outputs": [],
   "source": [
    "# Lista de nomes fictícios\n",
    "nomes_brasileiros = ['João', 'Maria', 'Pedro', 'Ana', 'José', 'Luiza', 'Rafael', 'Fernanda', 'Gustavo', 'Carolina',\n",
    "                     'Lucas', 'Juliana', 'Marcos', 'Camila', 'Felipe', 'Isabela', 'Mariana', 'Ricardo', 'Sandra']\n",
    "\n",
    "# Crie um DataFrame com 20 observações aleatórias\n",
    "dados = {\n",
    "    'Nome': [random.choice(nomes_brasileiros) for _ in range(30)],\n",
    "    'Idade': [random.randint(20, 60) for _ in range(30)],\n",
    "    'Cidade': [random.choice(['São Paulo', 'Rio de Janeiro', 'Belo Horizonte', 'Salvador', 'Brasília']) for _ in range(30)],\n",
    "    'Salario': [random.randint(1000,7000) for _ in range(30)]\n",
    "}\n",
    "\n",
    "df = pd.DataFrame(dados)\n",
    "\n",
    "# Exiba o DataFrame\n",
    "print(df)"
   ]
  },
  {
   "cell_type": "markdown",
   "id": "e93a57dd",
   "metadata": {},
   "source": [
    "a) Calcule a idade média e imprima o resultado como um valor inteiro"
   ]
  },
  {
   "cell_type": "code",
   "execution_count": null,
   "id": "c66f23cf",
   "metadata": {},
   "outputs": [],
   "source": []
  },
  {
   "cell_type": "markdown",
   "id": "d0433b41",
   "metadata": {},
   "source": [
    "b) Calcule a mediana dos salários:"
   ]
  },
  {
   "cell_type": "code",
   "execution_count": null,
   "id": "c52ce7d1",
   "metadata": {},
   "outputs": [],
   "source": []
  },
  {
   "cell_type": "markdown",
   "id": "9e46f3cc",
   "metadata": {},
   "source": [
    "<p align=\"justify\">c) Calcule o desvio-padrão do salário e das idades e imprima de forma adequada usando <i>f strings</i>:"
   ]
  },
  {
   "cell_type": "code",
   "execution_count": null,
   "id": "e2c3d445",
   "metadata": {},
   "outputs": [],
   "source": [
    "\n"
   ]
  },
  {
   "cell_type": "markdown",
   "id": "010e6e0d",
   "metadata": {},
   "source": [
    "d) Calcule a soma dos salários:"
   ]
  },
  {
   "cell_type": "code",
   "execution_count": null,
   "id": "24fddacb",
   "metadata": {},
   "outputs": [],
   "source": []
  },
  {
   "cell_type": "markdown",
   "id": "3956c6f3",
   "metadata": {},
   "source": [
    "e) Encontre o índice do maior valor da idade e imprima a linha:"
   ]
  },
  {
   "cell_type": "code",
   "execution_count": null,
   "id": "91e267a5",
   "metadata": {},
   "outputs": [],
   "source": []
  },
  {
   "cell_type": "markdown",
   "id": "d8d5d9bf",
   "metadata": {},
   "source": [
    "<p align=\"justify\">f) Utilize <i>describe</i> para obter estatísticas descritivas de toda a tabela:"
   ]
  },
  {
   "cell_type": "code",
   "execution_count": null,
   "id": "acd949c7",
   "metadata": {},
   "outputs": [],
   "source": []
  },
  {
   "cell_type": "markdown",
   "id": "22636b9e",
   "metadata": {},
   "source": [
    "<p align=\"justify\">g) O <i>describe</i> também gera um <i>Data Frame</i> como resultado. Atribua o resultado do <i>describe</i> à um objeto e selecione as linhas de '25%', '50%' e '75%':"
   ]
  },
  {
   "cell_type": "code",
   "execution_count": null,
   "id": "05af7afa",
   "metadata": {},
   "outputs": [],
   "source": []
  },
  {
   "cell_type": "markdown",
   "id": "92befffb",
   "metadata": {},
   "source": [
    "e) Qual a correlação entre idade e salário?"
   ]
  },
  {
   "cell_type": "code",
   "execution_count": null,
   "id": "65826389",
   "metadata": {},
   "outputs": [],
   "source": []
  },
  {
   "cell_type": "markdown",
   "id": "f3efea6f",
   "metadata": {},
   "source": [
    "f) E a covariância destas duas variáveis?"
   ]
  },
  {
   "cell_type": "code",
   "execution_count": null,
   "id": "c914f516",
   "metadata": {},
   "outputs": [],
   "source": []
  },
  {
   "cell_type": "markdown",
   "id": "3e7ff172",
   "metadata": {},
   "source": [
    "h) Quantos nomes únicos temos no <i>Data Frame</i>?"
   ]
  },
  {
   "cell_type": "code",
   "execution_count": null,
   "id": "f50ff663",
   "metadata": {},
   "outputs": [],
   "source": []
  },
  {
   "cell_type": "markdown",
   "id": "99ff1a90",
   "metadata": {},
   "source": [
    "1 - Baixe o seguinte banco de dados do [Kaggle](https://www.kaggle.com/datasets/zynicide/wine-reviews?resource=download) e o importe no Colab utilizando o primeiro modo ensinado. Isto é, ir em arquivos e inserí-lo manualmente. O banco de dados é o de nome 'winemag-data-130k-v2.csv'.\n",
    "\n",
    "<b>Dica:</b> Depois de inserí-lo, pode copiar o caminho clicando com o botão direito em cima do .csv no Colab:"
   ]
  },
  {
   "cell_type": "code",
   "execution_count": null,
   "id": "26868da8",
   "metadata": {},
   "outputs": [],
   "source": []
  },
  {
   "cell_type": "markdown",
   "id": "54b44740",
   "metadata": {},
   "source": [
    "a) Traga as principais estatísticas descritivas do banco:"
   ]
  },
  {
   "cell_type": "code",
   "execution_count": null,
   "id": "10f7b888",
   "metadata": {},
   "outputs": [],
   "source": []
  },
  {
   "cell_type": "markdown",
   "id": "8dfe7a93",
   "metadata": {},
   "source": [
    "b) Qual a origem mais comum dos vinhos? (Top 5)"
   ]
  },
  {
   "cell_type": "code",
   "execution_count": null,
   "id": "a26d6338",
   "metadata": {},
   "outputs": [],
   "source": []
  },
  {
   "cell_type": "markdown",
   "id": "e7361eb4",
   "metadata": {},
   "source": [
    "c) Qual o preço médio dos vinhos?"
   ]
  },
  {
   "cell_type": "code",
   "execution_count": null,
   "id": "276a35fa",
   "metadata": {},
   "outputs": [],
   "source": []
  },
  {
   "cell_type": "markdown",
   "id": "284348ad",
   "metadata": {},
   "source": [
    "d) Quem é o sommelier que mais aparece no banco?"
   ]
  },
  {
   "cell_type": "code",
   "execution_count": null,
   "id": "0bb08893",
   "metadata": {},
   "outputs": [],
   "source": []
  },
  {
   "cell_type": "markdown",
   "id": "64e7b48c",
   "metadata": {},
   "source": [
    "2) Baixe os arquivos com os resultados das [eleições gerais](https://sig.tse.jus.br/ords/dwapr/r/seai/sig-eleicao-resultados/resultado-da-eleição?p0_abrangencia=UF&clear=RP&session=6209947300226) de 2022 por UF e importe no <i>Pandas</i> da mesma forma que o 1.\n",
    "\n",
    "<b>Dicas:</b> Problemas no [delimiter](https://pandas.pydata.org/docs/reference/api/pandas.read_csv.html) e no [encoding](https://pandas.pydata.org/docs/reference/api/pandas.read_csv.html) (encoding = 'latin-1'):"
   ]
  },
  {
   "cell_type": "code",
   "execution_count": null,
   "id": "1eb15b15",
   "metadata": {},
   "outputs": [],
   "source": []
  },
  {
   "cell_type": "markdown",
   "id": "ff851172",
   "metadata": {},
   "source": [
    "a) Filtre o que é relacionado só com o cargo de presidente e no primeiro turno:"
   ]
  },
  {
   "cell_type": "code",
   "execution_count": null,
   "id": "d1985429",
   "metadata": {},
   "outputs": [],
   "source": [
    "\n"
   ]
  },
  {
   "cell_type": "markdown",
   "id": "5ccdbc07",
   "metadata": {},
   "source": [
    "<p align=\"justify\">b) Crie um novo <i>Data Frame</i> só com as colunas sg_uf, nm_urna_candidato, pc_votos_validos e qt_votos_nom_validos. Use 'reset_index()' para reconfigurar o índice:"
   ]
  },
  {
   "cell_type": "code",
   "execution_count": null,
   "id": "353bcf1d",
   "metadata": {},
   "outputs": [],
   "source": []
  },
  {
   "cell_type": "markdown",
   "id": "dfbc0960",
   "metadata": {},
   "source": [
    "<p align=\"justify\">c) Mostre o maior valor de qt_votos_nom_validos e a linha em que ocorre:"
   ]
  },
  {
   "cell_type": "code",
   "execution_count": null,
   "id": "158cf6fe",
   "metadata": {},
   "outputs": [],
   "source": []
  },
  {
   "cell_type": "markdown",
   "id": "cec87ac1",
   "metadata": {},
   "source": [
    "3) Importe \"tweets_annotated.csv\" do seguinte [repositório](https://github.com/PedroSchmalz/covid19-tweets-brazilian-mayoral-candidates):"
   ]
  },
  {
   "cell_type": "code",
   "execution_count": null,
   "id": "e1d89eb7",
   "metadata": {},
   "outputs": [],
   "source": []
  },
  {
   "cell_type": "markdown",
   "id": "8a48a253",
   "metadata": {},
   "source": [
    "<p align=\"justify\">a) Exclua as linhas em que 'post_vaccine' é igual a 0 e salve isso em um novo <i>Data Frame</i>:"
   ]
  },
  {
   "cell_type": "code",
   "execution_count": null,
   "id": "a2a61878",
   "metadata": {},
   "outputs": [],
   "source": []
  },
  {
   "cell_type": "markdown",
   "id": "f49d1140",
   "metadata": {},
   "source": [
    "<p align=\"justify\">b) Use o <i>Data Frame</i> do exercício anterior para mostrar as frequências das categorias da variável 'positions_vac':"
   ]
  },
  {
   "cell_type": "code",
   "execution_count": null,
   "id": "8d5d3ed7",
   "metadata": {},
   "outputs": [],
   "source": []
  },
  {
   "cell_type": "markdown",
   "id": "f0dce22c",
   "metadata": {},
   "source": [
    "1 - Temos o seguinte banco de dados com valores <i>missing</i>. Preencha os valores faltantes com zeros."
   ]
  },
  {
   "cell_type": "code",
   "execution_count": null,
   "id": "3318dd48",
   "metadata": {},
   "outputs": [],
   "source": [
    "data = {'A': [1, 2, np.nan, 4, 5],\n",
    "        'B': [np.nan, 2, 3, np.nan, 5],\n",
    "        'C': [1, np.nan, 3, 4, np.nan]}\n",
    "\n",
    "df = pd.DataFrame(data)\n",
    "\n"
   ]
  },
  {
   "cell_type": "markdown",
   "id": "349dbf48",
   "metadata": {},
   "source": [
    "2 - Novamente, temos um banco de dados com NAs. Conte os valores <i>missing</i> em cada coluna:"
   ]
  },
  {
   "cell_type": "code",
   "execution_count": null,
   "id": "455a07c2",
   "metadata": {},
   "outputs": [],
   "source": [
    "data = {'A': [1, 2, np.nan, 4, 5],\n",
    "        'B': [np.nan, 2, 3, np.nan, 5],\n",
    "        'C': [1, np.nan, 3, 4, np.nan]}\n",
    "\n",
    "df = pd.DataFrame(data)\n"
   ]
  },
  {
   "cell_type": "markdown",
   "id": "4817bc75",
   "metadata": {},
   "source": [
    "3 - Remova os dados duplicados do seguinte banco de dados:"
   ]
  },
  {
   "cell_type": "code",
   "execution_count": null,
   "id": "c7f4f3ad",
   "metadata": {},
   "outputs": [],
   "source": [
    "data = {'Nome': ['Alice', 'Bob', 'Alice', 'David', 'Eve'],\n",
    "        'ID': [101, 102, 101, 103, 104]}\n",
    "\n",
    "df = pd.DataFrame(data)\n",
    "\n"
   ]
  },
  {
   "cell_type": "markdown",
   "id": "d6654a95",
   "metadata": {},
   "source": [
    "<p align=\"justify\">4 - Para o seguinte banco de dados, faça um mapeamento que substitua 'alto' por 3, 'médio' por 2 e 'baixo' por 1. Em seguida, utilize esse mapeamento no banco com o método <i>replace</i>:"
   ]
  },
  {
   "cell_type": "code",
   "execution_count": null,
   "id": "d022ba62",
   "metadata": {},
   "outputs": [],
   "source": [
    "\n",
    "data = {'Cidade': ['A', 'B', 'C', 'D'],\n",
    "        'Poluição': ['Alto', 'Médio', 'Baixo', 'Alto']}\n",
    "\n",
    "df = pd.DataFrame(data)\n",
    "\n"
   ]
  },
  {
   "cell_type": "markdown",
   "id": "e2b32269",
   "metadata": {},
   "source": [
    "<p align=\"justify\">5 - Para o seguinte banco de dados, crie bins de conceitos (i.e. 'A', 'B', etc.) com base na nota dos alunos:"
   ]
  },
  {
   "cell_type": "code",
   "execution_count": null,
   "id": "815cfd0f",
   "metadata": {},
   "outputs": [],
   "source": [
    "\n",
    "data = {'Nome': ['Alice', 'Bob', 'Carol', 'David', 'Eve'],\n",
    "        'Nota': [85, 72, 45, 60, 32]}\n",
    "\n",
    "df = pd.DataFrame(data)\n",
    "\n",
    "\n"
   ]
  },
  {
   "cell_type": "markdown",
   "id": "2cf43f67",
   "metadata": {},
   "source": [
    "6 - Use a função get_dummies() para criar variáveis dummy a partir da coluna de animais de estimação:"
   ]
  },
  {
   "cell_type": "code",
   "execution_count": null,
   "id": "832d7cd7",
   "metadata": {},
   "outputs": [],
   "source": [
    "data = {'Nome': ['Alice', 'Bob', 'Carol', 'David', 'Eve'],\n",
    "        'Animal_de_Estimação': ['Cachorro', 'Gato', 'Peixe', 'Gato', 'Cachorro']}\n",
    "\n",
    "df = pd.DataFrame(data)\n"
   ]
  },
  {
   "cell_type": "markdown",
   "id": "7146095f",
   "metadata": {},
   "source": [
    "<p align=\"justify\">7 - Suponha que você tenha um <i>Data Frame</i> com uma coluna que contém nomes completos no formato \"Primeiro Nome Último Nome\". Sua tarefa é dividir essa coluna em duas colunas separadas, uma para o primeiro nome e outra para o último nome:"
   ]
  },
  {
   "cell_type": "code",
   "execution_count": null,
   "id": "b65e16f4",
   "metadata": {},
   "outputs": [],
   "source": [
    "import pandas as pd\n",
    "\n",
    "data = {'Nome_Completo': ['Alice Johnson', 'Bob Smith', 'Carol Brown', 'David White', 'Eve Anderson']}\n",
    "\n",
    "df = pd.DataFrame(data)\n",
    "\n"
   ]
  },
  {
   "cell_type": "markdown",
   "id": "e418839c",
   "metadata": {},
   "source": [
    "<p align=\"justify\">8 - Suponha que você tenha um <i>Data Frame</i> com uma coluna que contém nomes completos, mas alguns nomes têm espaços em branco extras no início ou no final. Sua tarefa é remover esses espaços em branco extras:"
   ]
  },
  {
   "cell_type": "code",
   "execution_count": null,
   "id": "03764a2b",
   "metadata": {},
   "outputs": [],
   "source": [
    "data = {'Nome_Completo': ['   Alice Johnson', 'Bob Smith   ', ' Carol Brown ', '  David White ', 'Eve  Anderson']}\n",
    "\n",
    "df = pd.DataFrame(data)\n",
    "\n"
   ]
  }
 ],
 "metadata": {
  "kernelspec": {
   "display_name": "base",
   "language": "python",
   "name": "python3"
  },
  "language_info": {
   "codemirror_mode": {
    "name": "ipython",
    "version": 3
   },
   "file_extension": ".py",
   "mimetype": "text/x-python",
   "name": "python",
   "nbconvert_exporter": "python",
   "pygments_lexer": "ipython3",
   "version": "3.12.7"
  }
 },
 "nbformat": 4,
 "nbformat_minor": 5
}
