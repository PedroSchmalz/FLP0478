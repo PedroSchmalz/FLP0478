{
 "cells": [
  {
   "cell_type": "markdown",
   "id": "dc02567a",
   "metadata": {},
   "source": [
    "# Laboratório 1\n",
    "\n",
    "Nota: Substitua os seus nomes e informações abaixo antes do envio da atividade. A atividade deve ser enviada no `Moodle` da disciplina, e o arquivo **DEVE** estar no formato `.ipynb`.\n",
    "\n",
    "[Nome Aluno 1] / [NUSP Aluno 1] / [Vespertino/Noturno]\n",
    "\n",
    "[Nome Aluno 2] / [NUSP Aluno 2] / [Vespertino/Noturno]\n"
   ]
  },
  {
   "cell_type": "markdown",
   "id": "54c272aa",
   "metadata": {},
   "source": [
    "#### Exercícios"
   ]
  },
  {
   "cell_type": "markdown",
   "id": "8c953f43",
   "metadata": {},
   "source": [
    "1 - Vamos começar com algo básico: escreva uma célula de código que imprima \"Olá, [seu nome]\""
   ]
  },
  {
   "cell_type": "code",
   "execution_count": 1,
   "id": "932835d5",
   "metadata": {},
   "outputs": [
    {
     "name": "stdout",
     "output_type": "stream",
     "text": [
      "Olá, Pedro\n"
     ]
    }
   ],
   "source": [
    "nome = \"Pedro\"\n",
    "\n",
    "print(\"Olá,\", nome)"
   ]
  },
  {
   "cell_type": "markdown",
   "id": "4364a3bd",
   "metadata": {},
   "source": [
    "2 - Imprima a seguinte soma:"
   ]
  },
  {
   "cell_type": "code",
   "execution_count": 2,
   "id": "0ca7c064",
   "metadata": {},
   "outputs": [
    {
     "name": "stdout",
     "output_type": "stream",
     "text": [
      "16\n"
     ]
    }
   ],
   "source": [
    "soma = 7+9\n",
    "\n",
    "\n",
    "print(soma)\n"
   ]
  },
  {
   "cell_type": "markdown",
   "id": "b63f8e41",
   "metadata": {},
   "source": [
    "3 - Imprima os números de 1 a 10, cada um em uma linha diferente"
   ]
  },
  {
   "cell_type": "code",
   "execution_count": 3,
   "id": "f5205c1d",
   "metadata": {},
   "outputs": [
    {
     "name": "stdout",
     "output_type": "stream",
     "text": [
      "1\n",
      "2\n",
      "3\n",
      "4\n",
      "5\n",
      "6\n",
      "7\n",
      "8\n",
      "9\n",
      "10\n"
     ]
    }
   ],
   "source": [
    "print(1,2,3,4,5,6,7,8,9,10, sep='\\n')"
   ]
  },
  {
   "cell_type": "markdown",
   "id": "e5829576",
   "metadata": {},
   "source": [
    "4 - Qual o problema com o seguinte código?"
   ]
  },
  {
   "cell_type": "code",
   "execution_count": 4,
   "id": "15a50479",
   "metadata": {},
   "outputs": [
    {
     "ename": "SyntaxError",
     "evalue": "invalid syntax. Perhaps you forgot a comma? (34560898.py, line 1)",
     "output_type": "error",
     "traceback": [
      "\u001b[1;36m  Cell \u001b[1;32mIn[4], line 1\u001b[1;36m\u001b[0m\n\u001b[1;33m    print(\"A comida do restaurante estava \"deliciosa\" hoje.\")\u001b[0m\n\u001b[1;37m          ^\u001b[0m\n\u001b[1;31mSyntaxError\u001b[0m\u001b[1;31m:\u001b[0m invalid syntax. Perhaps you forgot a comma?\n"
     ]
    }
   ],
   "source": [
    "print(\"A comida do restaurante estava \"deliciosa\" hoje.\")"
   ]
  },
  {
   "cell_type": "markdown",
   "id": "79faa751",
   "metadata": {},
   "source": [
    "Resposta: Utilizou-se aspas duplas dentro de aspas duplas, o que não é possível desta forma no print. Para que funcionasse, precisaria do seguinte código:"
   ]
  },
  {
   "cell_type": "code",
   "execution_count": 5,
   "id": "efe09597",
   "metadata": {},
   "outputs": [
    {
     "name": "stdout",
     "output_type": "stream",
     "text": [
      "A comida do restaurante estava \"deliciosa\" hoje.\n"
     ]
    }
   ],
   "source": [
    "print(\"A comida do restaurante estava \\\"deliciosa\\\" hoje.\")"
   ]
  },
  {
   "cell_type": "markdown",
   "id": "385002fb",
   "metadata": {},
   "source": [
    "5 - Peça o nome do usuário e dê as boas vindas"
   ]
  },
  {
   "cell_type": "code",
   "execution_count": 6,
   "id": "373c6628",
   "metadata": {},
   "outputs": [
    {
     "name": "stdout",
     "output_type": "stream",
     "text": [
      "Boas vindas, Pedro !\n"
     ]
    }
   ],
   "source": [
    "nome = input(\"Digite seu nome: \")\n",
    "\n",
    "print(\"Boas vindas,\",nome,\"!\")"
   ]
  },
  {
   "cell_type": "markdown",
   "id": "b8fe7105",
   "metadata": {},
   "source": [
    "6 - Peça a idade do usuário e descubra o ano em que ele nasceu\n"
   ]
  },
  {
   "cell_type": "code",
   "execution_count": 9,
   "id": "3a712d6b",
   "metadata": {},
   "outputs": [
    {
     "name": "stdout",
     "output_type": "stream",
     "text": [
      "O usuário nasceu em 1999\n"
     ]
    }
   ],
   "source": [
    "idade = input(\"Digite sua idade: \")\n",
    "\n",
    "ano_nascimento = 2025 - int(idade)\n",
    "\n",
    "print(\"O usuário nasceu em\", ano_nascimento)"
   ]
  },
  {
   "cell_type": "markdown",
   "id": "da94fe3b",
   "metadata": {},
   "source": [
    "8 - Crie uma variável str e a imprima junto do seu tipo"
   ]
  },
  {
   "cell_type": "code",
   "execution_count": 10,
   "id": "89a3cf32",
   "metadata": {},
   "outputs": [
    {
     "name": "stdout",
     "output_type": "stream",
     "text": [
      "Olá, meu nome é José <class 'str'>\n"
     ]
    }
   ],
   "source": [
    "texto = \"Olá, meu nome é José\"\n",
    "\n",
    "print(texto, type(texto))"
   ]
  },
  {
   "cell_type": "markdown",
   "id": "c0e88370",
   "metadata": {},
   "source": [
    "9 - Peça ao usuário que digite sua idade e verifique o tipo de dado resultante desse input."
   ]
  },
  {
   "cell_type": "code",
   "execution_count": 11,
   "id": "746ef8f5",
   "metadata": {},
   "outputs": [
    {
     "name": "stdout",
     "output_type": "stream",
     "text": [
      "<class 'str'>\n"
     ]
    }
   ],
   "source": [
    "idade = input(\"Digite sua idade: \")\n",
    "\n",
    "print(type(idade))"
   ]
  },
  {
   "cell_type": "markdown",
   "id": "a7f78927",
   "metadata": {},
   "source": [
    "10 - Qual o tipo das seguintes variáveis?"
   ]
  },
  {
   "cell_type": "code",
   "execution_count": 12,
   "id": "aa392379",
   "metadata": {},
   "outputs": [
    {
     "name": "stdout",
     "output_type": "stream",
     "text": [
      "O tipo da variável é <class 'str'>\n"
     ]
    }
   ],
   "source": [
    "# A)\n",
    "\n",
    "x = \"12.52\"\n",
    "\n",
    "print(\"O tipo da variável é\", type(x))"
   ]
  },
  {
   "cell_type": "code",
   "execution_count": 13,
   "id": "e2aaa644",
   "metadata": {},
   "outputs": [
    {
     "name": "stdout",
     "output_type": "stream",
     "text": [
      "O tipo da variável é <class 'str'>\n"
     ]
    }
   ],
   "source": [
    "# B)\n",
    "\n",
    "y = \"José tem 53 anos\"\n",
    "\n",
    "\n",
    "print(\"O tipo da variável é\", type(y))"
   ]
  },
  {
   "cell_type": "code",
   "execution_count": 14,
   "id": "3308943b",
   "metadata": {},
   "outputs": [
    {
     "name": "stdout",
     "output_type": "stream",
     "text": [
      "O tipo da variável é <class 'float'>\n"
     ]
    }
   ],
   "source": [
    "# C)\n",
    "\n",
    "z = 17.07\n",
    "\n",
    "print(\"O tipo da variável é\", type(z))"
   ]
  },
  {
   "cell_type": "code",
   "execution_count": 15,
   "id": "8b695e10",
   "metadata": {},
   "outputs": [
    {
     "name": "stdout",
     "output_type": "stream",
     "text": [
      "O tipo da variável é <class 'int'>\n"
     ]
    }
   ],
   "source": [
    "# D)\n",
    "\n",
    "a = 3\n",
    "\n",
    "print(\"O tipo da variável é\", type(a))"
   ]
  },
  {
   "cell_type": "markdown",
   "id": "73ee12bc",
   "metadata": {},
   "source": [
    "11 - Crie uma variável de tipo booleano (imprima o tipo da variável)"
   ]
  },
  {
   "cell_type": "code",
   "execution_count": 16,
   "id": "419ad067",
   "metadata": {},
   "outputs": [
    {
     "name": "stdout",
     "output_type": "stream",
     "text": [
      "<class 'bool'>\n"
     ]
    }
   ],
   "source": [
    "booleano = True\n",
    "\n",
    "print(type(booleano))"
   ]
  },
  {
   "cell_type": "markdown",
   "id": "72a0d047",
   "metadata": {},
   "source": [
    "12 - Faça um programa que peça a base e a altura de um triângulo e calcule a área (Area do tríangulo = b.h/2)"
   ]
  },
  {
   "cell_type": "code",
   "execution_count": 17,
   "id": "d0ecab7e",
   "metadata": {},
   "outputs": [
    {
     "name": "stdout",
     "output_type": "stream",
     "text": [
      "A área do triângulo é:  12.5 m²4\n"
     ]
    }
   ],
   "source": [
    "base = input(\"Digite o comprimento da base do triângulo: \")\n",
    "altura = input(\"Digite a altura do triângulo: \")\n",
    "\n",
    "area = (int(base) * int(altura)) / 2\n",
    "\n",
    "print(\"A área do triângulo é: \", area, \"m²4\")"
   ]
  },
  {
   "cell_type": "markdown",
   "id": "5a0aed43",
   "metadata": {},
   "source": [
    "13 - Peça o ano de nascimento do usuário e calcule sua idade"
   ]
  },
  {
   "cell_type": "code",
   "execution_count": 19,
   "id": "07cb95ae",
   "metadata": {},
   "outputs": [
    {
     "name": "stdout",
     "output_type": "stream",
     "text": [
      "O usuário tem 1999 anos\n"
     ]
    }
   ],
   "source": [
    "ano_nascimento = input(\"Digite seu ano de nascimento: \")\n",
    "\n",
    "idade = 2025 - int(ano_nascimento)\n",
    "\n",
    "print(\"O usuário tem\", idade, \"anos\")"
   ]
  },
  {
   "cell_type": "markdown",
   "id": "ffd2974b",
   "metadata": {},
   "source": [
    "14 - Peça dois números ao usuário e faça a soma destes"
   ]
  },
  {
   "cell_type": "code",
   "execution_count": 20,
   "id": "5c14ad21",
   "metadata": {},
   "outputs": [
    {
     "name": "stdout",
     "output_type": "stream",
     "text": [
      "O resultado da soma é:  10\n"
     ]
    }
   ],
   "source": [
    "n1 = input(\"Digite o primeiro número: \")\n",
    "n2 = input(\"Digite o segundo número: \")\n",
    "\n",
    "resultado = int(n1) + int(n2)\n",
    "\n",
    "print(\"O resultado da soma é: \", resultado)"
   ]
  },
  {
   "cell_type": "markdown",
   "id": "6cd0c741",
   "metadata": {},
   "source": [
    "15 - Imprima o seguinte caractere 50 vezes"
   ]
  },
  {
   "cell_type": "code",
   "execution_count": 21,
   "id": "8f10a870",
   "metadata": {},
   "outputs": [
    {
     "name": "stdout",
     "output_type": "stream",
     "text": [
      "##################################################\n"
     ]
    }
   ],
   "source": [
    "caractere = \"#\"\n",
    "\n",
    "\n",
    "print(caractere*50)"
   ]
  },
  {
   "cell_type": "markdown",
   "id": "10302c5c",
   "metadata": {},
   "source": [
    "16 - Peça dois números ao usuário e calcule o resultado da divisão destes"
   ]
  },
  {
   "cell_type": "code",
   "execution_count": 22,
   "id": "b12a4deb",
   "metadata": {},
   "outputs": [
    {
     "name": "stdout",
     "output_type": "stream",
     "text": [
      "O resultado da divisão é:  1.0\n"
     ]
    }
   ],
   "source": [
    "n1 = input(\"Digite o primeiro número: \")\n",
    "n2 = input(\"Digite o segundo número: \")\n",
    "\n",
    "resultado = int(n1) / int(n2)\n",
    "\n",
    "print(\"O resultado da divisão é: \", resultado)"
   ]
  },
  {
   "cell_type": "markdown",
   "id": "7b9de794",
   "metadata": {},
   "source": [
    "17 - Peça dois números ao usuário e calcule o resultado da potência destes"
   ]
  },
  {
   "cell_type": "code",
   "execution_count": 23,
   "id": "aecaafce",
   "metadata": {},
   "outputs": [
    {
     "name": "stdout",
     "output_type": "stream",
     "text": [
      "O resultado da potenciação é:  3125\n"
     ]
    }
   ],
   "source": [
    "n1 = input(\"Digite o primeiro número: \")\n",
    "n2 = input(\"Digite o segundo número: \")\n",
    "\n",
    "resultado = int(n1) ** int(n2)\n",
    "\n",
    "print(\"O resultado da potenciação é: \", resultado)"
   ]
  },
  {
   "cell_type": "markdown",
   "id": "40da5d3c",
   "metadata": {},
   "source": [
    "18 - Transforme o seguinte str em float e calcule o seu valor quadrado, apresentando o valor final em no máximo duas casas decimais"
   ]
  },
  {
   "cell_type": "code",
   "execution_count": 24,
   "id": "0261b00f",
   "metadata": {},
   "outputs": [
    {
     "name": "stdout",
     "output_type": "stream",
     "text": [
      "Valor final: 1784.22\n"
     ]
    }
   ],
   "source": [
    "numstr = \"42.24\"\n",
    "num = float(numstr)\n",
    "quadrado = num ** 2\n",
    "\n",
    "print(f'Valor final: {quadrado:.2f}')"
   ]
  },
  {
   "cell_type": "markdown",
   "id": "4842f0b6",
   "metadata": {},
   "source": [
    "19 - Imprima as seguintes informações de um aluno utilizando o modo \"básico\" estabelecido na seção 8 da introdução ao Python."
   ]
  },
  {
   "cell_type": "code",
   "execution_count": 25,
   "id": "71ef6844",
   "metadata": {},
   "outputs": [
    {
     "name": "stdout",
     "output_type": "stream",
     "text": [
      "Matheus tem 23 anos e nasceu em 2000 , atualmente está no curso de Química recebendo uma bolsa de R$ 907.22435 reais.\n"
     ]
    }
   ],
   "source": [
    "# Informações do aluno\n",
    "\n",
    "nome = \"Matheus\"\n",
    "idade = 23\n",
    "ano_nascimento = 2023 - idade\n",
    "curso = \"Química\"\n",
    "bolsa = 907.22435\n",
    "\n",
    "# Insira seu código aqui\n",
    "\n",
    "\n",
    "print(nome, \"tem\", idade, \"anos e nasceu em\",ano_nascimento,\",\", \"atualmente está no curso de\", curso, \"recebendo uma bolsa de R$\", bolsa, \"reais.\")"
   ]
  },
  {
   "cell_type": "markdown",
   "id": "31a181a5",
   "metadata": {},
   "source": [
    "20 - Imprima as mesmas informações usando f strings"
   ]
  },
  {
   "cell_type": "code",
   "execution_count": 26,
   "id": "85fa0c63",
   "metadata": {},
   "outputs": [
    {
     "name": "stdout",
     "output_type": "stream",
     "text": [
      "Matheus tem 23 anos de idade e nasceu em 2000. Atualmente está no curso de Química, recebendo uma bolsa de R$907.22435 reais.\n"
     ]
    }
   ],
   "source": [
    "# Insira seu código aqui\n",
    "\n",
    "\n",
    "print(f'{nome} tem {idade} anos de idade e nasceu em {ano_nascimento}. Atualmente está no curso de {curso}, recebendo uma bolsa de R${bolsa} reais.')"
   ]
  },
  {
   "cell_type": "markdown",
   "id": "0441e730",
   "metadata": {},
   "source": [
    "21 - Imprima as mesmas informações usando chaves"
   ]
  },
  {
   "cell_type": "code",
   "execution_count": 27,
   "id": "bad1164a",
   "metadata": {},
   "outputs": [
    {
     "name": "stdout",
     "output_type": "stream",
     "text": [
      "Matheus tem 23 anos de idade e nasceu em 2000. Atualmente está no curso de Química, recebendo uma bolsa de R$907.22435 reais.\n"
     ]
    }
   ],
   "source": [
    "# Insira seu código aqui\n",
    "\n",
    "print('{} tem {} anos de idade e nasceu em {}. Atualmente está no curso de {}, recebendo uma bolsa de R${} reais.'.format(nome,idade, ano_nascimento, curso,bolsa))"
   ]
  },
  {
   "cell_type": "markdown",
   "id": "790321d9",
   "metadata": {},
   "source": [
    "22 - Por meio das f strings, imprima o valor da bolsa do aluno usando apenas uma casa decimal"
   ]
  },
  {
   "cell_type": "code",
   "execution_count": 28,
   "id": "5a337704",
   "metadata": {},
   "outputs": [
    {
     "name": "stdout",
     "output_type": "stream",
     "text": [
      "Matheus tem 23 anos de idade e nasceu em 2000. Atualmente está no curso de Química, recebendo uma bolsa de R$907.2 reais.\n"
     ]
    }
   ],
   "source": [
    "# Insira seu código aqui\n",
    "\n",
    "print('{} tem {} anos de idade e nasceu em {}. Atualmente está no curso de {}, recebendo uma bolsa de R${} reais.'.format(nome,idade, ano_nascimento, curso,round(bolsa,1)))"
   ]
  },
  {
   "cell_type": "markdown",
   "id": "652d0a5f",
   "metadata": {},
   "source": [
    "23 - Peça a idade, curso e nome de um usuário e imprima essas informações utilizando f-strings"
   ]
  },
  {
   "cell_type": "code",
   "execution_count": 30,
   "id": "82dd0b8d",
   "metadata": {},
   "outputs": [
    {
     "name": "stdout",
     "output_type": "stream",
     "text": [
      "Pedro tem 26 anos e está no curso de Ciência Política\n"
     ]
    }
   ],
   "source": [
    "# Insira seu código aqui\n",
    "\n",
    "idade = input(\"Digite sua idade: \")\n",
    "curso = input(\"Digite seu curso: \")\n",
    "nome = input(\"Digite seu nome: \")\n",
    "\n",
    "print(f'{nome} tem {idade} anos e está no curso de {curso}')"
   ]
  },
  {
   "cell_type": "markdown",
   "id": "e735e326",
   "metadata": {},
   "source": [
    "24 - Crie uma lista com os anos da pandemia de Covid-19"
   ]
  },
  {
   "cell_type": "code",
   "execution_count": 31,
   "id": "91dc9708",
   "metadata": {},
   "outputs": [
    {
     "name": "stdout",
     "output_type": "stream",
     "text": [
      "[2020, 2021, 2022, 2023] <class 'list'>\n"
     ]
    }
   ],
   "source": [
    "# Insira seu código aqui\n",
    "\n",
    "anos_pandemia = [2020,2021,2022,2023]\n",
    "\n",
    "print(anos_pandemia, type(anos_pandemia))"
   ]
  },
  {
   "cell_type": "markdown",
   "id": "d7491868",
   "metadata": {},
   "source": [
    "25 - Crie uma tupla com 5 países latino-americanos"
   ]
  },
  {
   "cell_type": "code",
   "execution_count": 32,
   "id": "8ccc4de3",
   "metadata": {},
   "outputs": [
    {
     "name": "stdout",
     "output_type": "stream",
     "text": [
      "('Brasil', 'Chile', 'Argentina', 'Paraguai', 'Uruguai') <class 'tuple'>\n"
     ]
    }
   ],
   "source": [
    "latinos = (\"Brasil\", \"Chile\", \"Argentina\", \"Paraguai\", \"Uruguai\")\n",
    "\n",
    "print(latinos, type(latinos))"
   ]
  },
  {
   "cell_type": "markdown",
   "id": "9bfd932a",
   "metadata": {},
   "source": [
    "26 - Peça o nome e idade do usuário e crie um dicionário com esses valores"
   ]
  },
  {
   "cell_type": "code",
   "execution_count": 33,
   "id": "ccfdb283",
   "metadata": {},
   "outputs": [
    {
     "name": "stdout",
     "output_type": "stream",
     "text": [
      "{'nome_usuario': 'Pedro', 'idade_usuario': '26'} <class 'dict'>\n"
     ]
    }
   ],
   "source": [
    "nome = input(\"Digite seu nome: \")\n",
    "idade = input(\"Digite sua idade: \")\n",
    "\n",
    "dicionário = {\"nome_usuario\": nome,\n",
    "              \"idade_usuario\": idade}\n",
    "\n",
    "print(dicionário, type(dicionário))"
   ]
  },
  {
   "cell_type": "markdown",
   "id": "e5e8a932",
   "metadata": {},
   "source": [
    "27 - Crie um conjunto com diversos objetos utilizando a função set()"
   ]
  },
  {
   "cell_type": "code",
   "execution_count": 34,
   "id": "63dff2e9",
   "metadata": {},
   "outputs": [
    {
     "name": "stdout",
     "output_type": "stream",
     "text": [
      "{42, 'Física', 3500, 'José'} <class 'set'>\n"
     ]
    }
   ],
   "source": [
    "lista1 = [\"José\", 42, \"Física\", 3500]\n",
    "\n",
    "conjunto = set(lista1)\n",
    "\n",
    "print(conjunto, type(conjunto))"
   ]
  }
 ],
 "metadata": {
  "kernelspec": {
   "display_name": "base",
   "language": "python",
   "name": "python3"
  },
  "language_info": {
   "codemirror_mode": {
    "name": "ipython",
    "version": 3
   },
   "file_extension": ".py",
   "mimetype": "text/x-python",
   "name": "python",
   "nbconvert_exporter": "python",
   "pygments_lexer": "ipython3",
   "version": "3.12.7"
  }
 },
 "nbformat": 4,
 "nbformat_minor": 5
}
