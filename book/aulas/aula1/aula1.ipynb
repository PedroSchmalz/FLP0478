{
  "cells": [
    {
      "cell_type": "markdown",
      "metadata": {
        "id": "_ns7mAL7Sqmm"
      },
      "source": [
        "# Introdução ao básico de Python"
      ]
    },
    {
      "cell_type": "markdown",
      "metadata": {
        "id": "WbPvhjqETV7N"
      },
      "source": [
        "Não é um requisito desta disciplina ter conhecimento prévio de linguagens de programação (R, Python, etc.). No entanto, iremos introduzir gradualmente ao aluno o Python, que será a base para os códigos deste curso. Nas próximas aulas, veremos o que é o Python, por que utilizamos ele (e não o R, por exemplo),e suas vantagens e desvantagens. Ao longo do curso, optamos também por utilizar a IDE (Ambiente de desenvolvimento integrado) disponibilizada pelo google, Google Colab, e que nos permite ensinar a linguagem sem necessitar de instalações extras, facilitando todo o processo. Se os alunos demonstrarem interesse, podemos disponibilizar tutoriais de como instalar o Python em seus computadores pessoais e as principais IDEs."
      ]
    },
    {
      "cell_type": "markdown",
      "metadata": {
        "id": "D0rD_ajPUnll"
      },
      "source": [
        "### 1. Familiarização com a sua IDE \n",
        "\n",
        "Antes mesmo de começarmos a programar, um exercício importante para qualquer linguagem e IDE é o de explorar a ferramenta. Clique nas abas e botões e descubra quais opções são disponibilizadas pela IDE"
      ]
    },
    {
      "cell_type": "markdown",
      "metadata": {
        "id": "nJwW6AgbZqAT"
      },
      "source": [
        "### 2. Comentários e Texto Markdown\n",
        "\n",
        "Em python, você pode escrever texto que não é código de duas maneiras: com comentários em células de código e com células markdown. Tente rodar a célula de código abaixo, o que acontece?"
      ]
    },
    {
      "cell_type": "code",
      "execution_count": 1,
      "metadata": {
        "id": "7UEHKdA_RvEK"
      },
      "outputs": [],
      "source": [
        "# print('hello world')"
      ]
    },
    {
      "cell_type": "markdown",
      "metadata": {
        "id": "yCFp0rgYaEth"
      },
      "source": [
        "Agora apague o cerquilha `#` (ou jogo da velha) e tente novamente. O que aconteceu? Sempre que quiser escrever alguma coisa que não necessariamente deseja rodar ou que não é código, utilize comentários. Uma utilidade adicional muito importante dos comentários é a descrição do que a linha de código está fazendo, ou um sumário de uma célula de código inteira. ***Um bom uso dos comentários e de texto markdown facilita tanto a vida do futuro você quanto de outras pessoas que lerão o seu código. Utilize sempre que possível!***"
      ]
    },
    {
      "cell_type": "markdown",
      "metadata": {
        "id": "TMlRRbDBbLCd"
      },
      "source": [
        "Para comentar/descomentar múltiplas linhas de código de uma vez, você pode utilizar `Ctrl + /` no Colab ou `Ctrl + ;` no VS Code. Tente descomentar as linhas de códigos a seguir"
      ]
    },
    {
      "cell_type": "code",
      "execution_count": null,
      "metadata": {
        "id": "kjOLtH0pa2t7"
      },
      "outputs": [],
      "source": [
        "# Isso aqui é código\n",
        "# a\n",
        "# b\n",
        "# c\n",
        "# d\n",
        "# e\n",
        "# f\n",
        "# g\n",
        "# h\n"
      ]
    },
    {
      "cell_type": "markdown",
      "metadata": {
        "id": "pUEZLgotaphj"
      },
      "source": [
        "### 3. Função `Print`"
      ]
    },
    {
      "cell_type": "markdown",
      "metadata": {
        "id": "0V2YRrnqbhkR"
      },
      "source": [
        "A função `print` é uma das mais básicas do Python, mas também uma das mais importantes e utilizadas. O comando imprime qualquer coisa que desejar, desde texto simples (e.g. \"Olá Mundo\"), até variáveis, resultados de cálculos, etc. Leia mais sobre o comando na [documentação](https://docs.python.org/pt-br/3/library/functions.html?highlight=print#print) do Python. Nas próximas subseções, exploraremos alguma das possibilidades do comando."
      ]
    },
    {
      "cell_type": "code",
      "execution_count": null,
      "metadata": {
        "id": "1GUwIe2ycp79"
      },
      "outputs": [],
      "source": [
        "# Imprimindo (Printing) uma string\n",
        "\n",
        "print('Olá, mundo!')"
      ]
    },
    {
      "cell_type": "markdown",
      "metadata": {
        "id": "YY7-olq6b4IN"
      },
      "source": [
        "Esse é o exemplo mais clássico da função deste comando. Uma string nada mais é do que uma sequência de texto, que está encapsulada em aspas (tanto aspas simples quanto dupla). O python identificará automaticamente que quaisquer caracteres entre aspas é uma string."
      ]
    },
    {
      "cell_type": "code",
      "execution_count": null,
      "metadata": {
        "id": "CJXhyjA8dKdA"
      },
      "outputs": [],
      "source": [
        "print('Texto em aspas simples')"
      ]
    },
    {
      "cell_type": "code",
      "execution_count": null,
      "metadata": {
        "id": "_xp7nxY4dM7o"
      },
      "outputs": [],
      "source": [
        "print('Texto em aspas duplas')"
      ]
    },
    {
      "cell_type": "markdown",
      "metadata": {
        "id": "MvUB8R8MdcQr"
      },
      "source": [
        "Se quiser imprimir aspas dentro de uma string, você pode fazer de duas maneiras:"
      ]
    },
    {
      "cell_type": "code",
      "execution_count": null,
      "metadata": {
        "id": "W_CQpBDBdgo5"
      },
      "outputs": [],
      "source": [
        "# a. Aspas duplas no total da string e aspas simples dentro da string\n",
        "\n",
        "print(\"Aqui está uma 'aspa' dentro da string\")\n",
        "\n",
        "# b. Aspas duplas com duas barras\n",
        "\n",
        "print(\"Texto com duas \\\"Aspas\\\" duplas\")"
      ]
    },
    {
      "cell_type": "markdown",
      "metadata": {
        "id": "KNV2mIOueINh"
      },
      "source": [
        "Você pode imprimir números diretamente:"
      ]
    },
    {
      "cell_type": "code",
      "execution_count": null,
      "metadata": {
        "id": "25-gkvTbeIB_"
      },
      "outputs": [],
      "source": [
        "print(123456)"
      ]
    },
    {
      "cell_type": "markdown",
      "metadata": {
        "id": "sGf7_DLAeLnx"
      },
      "source": [
        "Pode imprimir os valores de uma variável:"
      ]
    },
    {
      "cell_type": "code",
      "execution_count": null,
      "metadata": {
        "id": "eibL7oG8eOip"
      },
      "outputs": [],
      "source": [
        "x = 5\n",
        "\n",
        "print(x)"
      ]
    },
    {
      "cell_type": "markdown",
      "metadata": {
        "id": "sEMBH-M9eSuu"
      },
      "source": [
        "Para quebrar linhas dentro de um print, você pode utilizar o \"\\n\""
      ]
    },
    {
      "cell_type": "code",
      "execution_count": null,
      "metadata": {
        "id": "KdaLCXUpeWoB"
      },
      "outputs": [],
      "source": [
        "print(\"Quero meu texto \\n dividido\")"
      ]
    },
    {
      "cell_type": "markdown",
      "metadata": {
        "id": "J6LZa7wjej4f"
      },
      "source": [
        "O print ainda tem algumas funções extras que podem vir a calhar"
      ]
    },
    {
      "cell_type": "markdown",
      "metadata": {
        "id": "lil2JYKgfHJx"
      },
      "source": [
        "*SEP*"
      ]
    },
    {
      "cell_type": "code",
      "execution_count": null,
      "metadata": {
        "id": "lqTB_8tHejnU"
      },
      "outputs": [],
      "source": [
        "# \"sep\" permite separar diversas strings com algum padrão\n",
        "\n",
        "print(\"Olá\", \"Mundo\", \"Isso\", \"Aqui\", \"É\", \"Doido\", sep = \"...\")"
      ]
    },
    {
      "cell_type": "markdown",
      "metadata": {
        "id": "O44LeDBie9KE"
      },
      "source": [
        "Observe que a vírgula separando cada uma das string faz com que tenhamos 6 strings ao invés de uma única. A opção \"end\" permite que você defina o que irá separar dois prints seguidos. O padrão é uma quebra de linha"
      ]
    },
    {
      "cell_type": "markdown",
      "metadata": {
        "id": "hyvHSCQvfP71"
      },
      "source": [
        "*END*"
      ]
    },
    {
      "cell_type": "code",
      "execution_count": null,
      "metadata": {
        "id": "FXvM5Y9GfRan"
      },
      "outputs": [],
      "source": [
        "print(\"Olá\", end = ',')\n",
        "print(' Mundo!')"
      ]
    },
    {
      "cell_type": "code",
      "execution_count": null,
      "metadata": {
        "id": "yc6CI7DkleBr"
      },
      "outputs": [],
      "source": [
        "print(\"Olá,\")\n",
        "print(\"Mundo\")"
      ]
    },
    {
      "cell_type": "markdown",
      "metadata": {
        "id": "o_7lSxpaXsyD"
      },
      "source": [
        "### 4. Função `Input`"
      ]
    },
    {
      "cell_type": "markdown",
      "metadata": {
        "id": "rStCwZmVXur1"
      },
      "source": [
        "A função `input` em Python é usado para solicitar dados de entrada do usuário durante a execução do programa. Ele permite que o programa interaja com o usuário, recebendo valores digitados pelo teclado e armazenando-os em variáveis para posterior uso. A sintaxe básica do comando \"input\" é a seguinte:"
      ]
    },
    {
      "cell_type": "code",
      "execution_count": null,
      "metadata": {
        "id": "Sh8M2J64X0tC"
      },
      "outputs": [],
      "source": [
        "nome_da_variavel = input(\"Mensagem para o usuário: \")"
      ]
    },
    {
      "cell_type": "markdown",
      "metadata": {
        "id": "5-AmhwIGX2sL"
      },
      "source": [
        "A função \"input\" recebe uma mensagem opcional (entre as aspas) que será exibida ao usuário para solicitar a entrada de dados. O valor digitado pelo usuário é armazenado na variável \"nome_da_variavel\". Aqui está um exemplo simples para solicitar o nome do usuário e exibi-lo na tela:"
      ]
    },
    {
      "cell_type": "code",
      "execution_count": null,
      "metadata": {
        "id": "hR1wsZ-kX8my"
      },
      "outputs": [],
      "source": [
        "# Solicitando o nome do usuário\n",
        "nome = input(\"Digite o seu nome: \")\n",
        "\n",
        "# Exibindo o nome na tela\n",
        "print(\"Olá, \" + nome + \"! Bem-vindo ao nosso programa.\")"
      ]
    },
    {
      "cell_type": "markdown",
      "metadata": {
        "id": "OK8nE84eX4pt"
      },
      "source": [
        "Neste exemplo, a mensagem \"Digite o seu nome:\" é exibida ao usuário, e o valor digitado por ele é armazenado na variável \"nome\". Em seguida, o programa utiliza o comando \"print\" para exibir uma mensagem de boas-vindas contendo o nome informado.\n",
        "\n",
        "Lembre-se que o valor digitado pelo usuário é sempre tratado como uma string (texto). Caso deseje utilizar o valor como outro tipo de dado, é necessário realizar a conversão adequada, como por exemplo, usando as funções \"int()\" ou \"float()\" para números inteiros ou de ponto flutuante, respectivamente."
      ]
    },
    {
      "cell_type": "markdown",
      "metadata": {
        "id": "tTr92q0xYLPD"
      },
      "source": [
        "Exemplo 1: Conversão para número inteiro (int)"
      ]
    },
    {
      "cell_type": "code",
      "execution_count": null,
      "metadata": {
        "id": "capX6sLvYLxE"
      },
      "outputs": [],
      "source": [
        "# Solicitando a idade do usuário\n",
        "idade_str = input(\"Digite a sua idade: \")\n",
        "\n",
        "# Convertendo a idade para número inteiro\n",
        "idade_int = int(idade_str)\n",
        "\n",
        "# Realizando operações com o valor convertido\n",
        "idade_ano_que_vem = idade_int + 1\n",
        "\n",
        "# Exibindo o resultado\n",
        "print(\"No próximo ano, você terá\", idade_ano_que_vem, \"anos.\")"
      ]
    },
    {
      "cell_type": "markdown",
      "metadata": {
        "id": "yALpPuHAYQGe"
      },
      "source": [
        "Neste exemplo, o programa solicita a idade do usuário usando o comando \"input\" e armazena o valor digitado na variável \"idade_str\", que é tratada como uma string. Em seguida, usamos a função \"int()\" para converter essa string em um número inteiro e armazenamos o resultado na variável \"idade_int\". Dessa forma, podemos realizar operações matemáticas com esse valor e exibir o resultado na tela."
      ]
    },
    {
      "cell_type": "markdown",
      "metadata": {
        "id": "B8icp1h0YS8U"
      },
      "source": [
        "Exemplo 2: Conversão para número de ponto flutuante (float)"
      ]
    },
    {
      "cell_type": "code",
      "execution_count": null,
      "metadata": {
        "id": "_UD_ruZLYWiZ"
      },
      "outputs": [],
      "source": [
        "# Solicitando o peso do usuário\n",
        "peso_str = input(\"Digite o seu peso (em kg): \")\n",
        "\n",
        "# Convertendo o peso para número de ponto flutuante\n",
        "peso_float = float(peso_str)\n",
        "\n",
        "# Calculando o peso na Lua (16.5% do peso na Terra)\n",
        "peso_lua = peso_float * 0.165\n",
        "\n",
        "# Exibindo o resultado\n",
        "print(\"Seu peso na Lua seria de\", peso_lua, \"kg.\")"
      ]
    },
    {
      "cell_type": "markdown",
      "metadata": {
        "id": "lFRy7T5tYcqE"
      },
      "source": [
        "Neste exemplo, o programa solicita o peso do usuário usando o comando \"input\" e armazena o valor digitado na variável \"peso_str\", que é tratada como uma string. Em seguida, usamos a função \"float()\" para converter essa string em um número de ponto flutuante (número decimal) e armazenamos o resultado na variável \"peso_float\". Assim, podemos realizar cálculos matemáticos envolvendo esse valor e exibir o resultado na tela.\n",
        "\n",
        "Lembre-se que, ao realizar a conversão de tipos, é importante garantir que o valor digitado pelo usuário seja compatível com o tipo que você deseja converter. Caso contrário, o programa pode gerar um erro durante a execução. É sempre uma boa prática adicionar tratamentos de exceções para lidar com essas situações, mas para fins de exemplo aqui, vamos considerar que o usuário insere valores válidos."
      ]
    },
    {
      "cell_type": "markdown",
      "metadata": {
        "id": "qLLCvN6BZGPy"
      },
      "source": [
        "*Nota*: É importante destacar que, em aplicações acadêmicas, o uso do \"input\" pode ser limitado ou pouco utilizado, especialmente em ambientes onde a interação direta com o usuário não é uma prioridade.Em muitas aplicações acadêmicas, o foco está na análise de dados, algoritmos complexos ou modelagem teórica, onde a entrada de dados é frequentemente feita através de arquivos ou parâmetros definidos previamente. Essa abordagem é preferível para evitar inconsistências ou erros de digitação que podem ocorrer quando o usuário insere dados manualmente."
      ]
    },
    {
      "cell_type": "markdown",
      "metadata": {
        "id": "2pZwqmA5ZZ-N"
      },
      "source": [
        "#### Exercícios"
      ]
    },
    {
      "cell_type": "markdown",
      "metadata": {
        "id": "yURGH6AyZbo0"
      },
      "source": [
        "1 - Peça o nome do usuário e dê as boas vindas"
      ]
    },
    {
      "cell_type": "code",
      "execution_count": null,
      "metadata": {
        "id": "L-nNoQ8aZbXK"
      },
      "outputs": [],
      "source": []
    },
    {
      "cell_type": "markdown",
      "metadata": {
        "id": "7ckmO3z5Zu0x"
      },
      "source": [
        "2 - Peça a idade do usuário e descubra o ano em que ele nasceu\n"
      ]
    },
    {
      "cell_type": "code",
      "execution_count": null,
      "metadata": {
        "id": "WnaV1G8TZ2pS"
      },
      "outputs": [],
      "source": []
    },
    {
      "cell_type": "markdown",
      "metadata": {
        "id": "0N2hC6K1Z2Rn"
      },
      "source": [
        "3 - Faça um programa que peça a base e a altura de um triângulo e calcule a área (Area do tríangulo = b.h/2)"
      ]
    },
    {
      "cell_type": "code",
      "execution_count": null,
      "metadata": {
        "id": "ZUAQLF9-aUxf"
      },
      "outputs": [],
      "source": []
    },
    {
      "cell_type": "markdown",
      "metadata": {
        "id": "Srbz-GmSaWgU"
      },
      "source": [
        "4 - Peça o ano de nascimento do usuário e calcule sua idade"
      ]
    },
    {
      "cell_type": "code",
      "execution_count": null,
      "metadata": {
        "id": "w8FhnYxyaWKR"
      },
      "outputs": [],
      "source": []
    },
    {
      "cell_type": "markdown",
      "metadata": {
        "id": "PvbOv_YcfnGD"
      },
      "source": [
        "### 5. Variáveis"
      ]
    },
    {
      "cell_type": "markdown",
      "metadata": {
        "id": "rJYvZ1XKfsAC"
      },
      "source": [
        "Você talvez tenha percebido que já mencionamos o nome \"variável\" algumas vezes ao longo do script mas não elaboramos muito sobre o que ela é. Uma variável em Python é como uma caixa que você pode usar para armazenar um valor, como um número ou um pedaço de texto. Você pode dar um nome para essa caixa e usar o nome para se referir ao valor armazenado nela mais tarde. Por exemplo, você pode criar uma variável chamada \"idade\" e atribuir um valor a ela, como 20:"
      ]
    },
    {
      "cell_type": "code",
      "execution_count": null,
      "metadata": {
        "id": "tolS0A81fuFB"
      },
      "outputs": [],
      "source": [
        "idade = 20\n",
        "\n",
        "idade"
      ]
    },
    {
      "cell_type": "markdown",
      "metadata": {
        "id": "D17P_qfafwNQ"
      },
      "source": [
        "Agora, sempre que você usar a palavra \"idade\" em seu código, o valor 20 será usado. Você também pode alterar o valor armazenado em uma variável simplesmente atribuindo um novo valor a ela, como:"
      ]
    },
    {
      "cell_type": "code",
      "execution_count": null,
      "metadata": {
        "id": "SZwHx8u9fyAZ"
      },
      "outputs": [],
      "source": [
        "idade = 25\n",
        "\n",
        "idade"
      ]
    },
    {
      "cell_type": "markdown",
      "metadata": {
        "id": "nZQryXuhfz9y"
      },
      "source": [
        "Agora, quando você usa a variável \"idade\" em seu código, o valor 25 será usado em vez de 20. Variáveis são uma parte fundamental da programação em Python e são usadas para armazenar dados temporários ou permanentes em seu programa. Por exemplo, se você estivesse trabalhando em um banco de dados, você poderia se deparar com as seguintes informações."
      ]
    },
    {
      "cell_type": "code",
      "execution_count": null,
      "metadata": {
        "id": "X9HctfaCf0aP"
      },
      "outputs": [],
      "source": [
        "# Informações do usuário\n",
        "\n",
        "nome = \"João\"\n",
        "idade = 26\n",
        "altura = 1.76\n",
        "ano_nascimento = 2024-26\n",
        "curso = \"Ciências Sociais\""
      ]
    },
    {
      "cell_type": "markdown",
      "metadata": {
        "id": "nxWJa_ZUf_66"
      },
      "source": [
        "Pense nos possíveis tipos de cada variável. As variáveis númericas são iguais? Que outras variáveis podemos gerar a partir dos valores observados?"
      ]
    },
    {
      "cell_type": "markdown",
      "metadata": {
        "id": "uD7EjaznlnzZ"
      },
      "source": [
        "### 6. Tipos de Dados"
      ]
    },
    {
      "cell_type": "markdown",
      "metadata": {
        "id": "bu3xDQFQlpK3"
      },
      "source": [
        "Nas seções acima, mencionamos brevemente alguns tipos de dados como strings e números. No entanto, esta não é toda a história. A seguir, temos os principais tipos de dados do Python;"
      ]
    },
    {
      "cell_type": "markdown",
      "metadata": {
        "id": "43S4qI4alzmh"
      },
      "source": [
        "*Strings*"
      ]
    },
    {
      "cell_type": "markdown",
      "metadata": {
        "id": "pPKKAa73l27T"
      },
      "source": [
        "Como dito acima, string é qualquer tipo de caracteres (números ou letras) envoltos por aspas."
      ]
    },
    {
      "cell_type": "code",
      "execution_count": null,
      "metadata": {
        "id": "g-2FFAAbl2hs"
      },
      "outputs": [],
      "source": [
        "string1 = \"Isso é uma string\"\n",
        "\n",
        "print(string1)\n",
        "print(type(string1)) # Type permite descobrir o tipo de uma variável"
      ]
    },
    {
      "cell_type": "code",
      "execution_count": null,
      "metadata": {
        "id": "zOQhQiSrmIwE"
      },
      "outputs": [],
      "source": [
        "# Um número ou sequência de números com aspas também é uma string\n",
        "\n",
        "string2 = \"1sso t4mb3m é um4 str1ng\"\n",
        "\n",
        "print(string2)\n",
        "print(type(string2))"
      ]
    },
    {
      "cell_type": "markdown",
      "metadata": {
        "id": "gSrYHSS8mc8P"
      },
      "source": [
        "*Inteiros (int)*"
      ]
    },
    {
      "cell_type": "markdown",
      "metadata": {
        "id": "ZQVG0K9amhEG"
      },
      "source": [
        "Int é um tipo de variável númerico. Nesse tipo de dados, só existem números inteiros. Isto é, sem números decimais ou \"quebrados\"."
      ]
    },
    {
      "cell_type": "code",
      "execution_count": null,
      "metadata": {
        "id": "ZGQdha-7moB5"
      },
      "outputs": [],
      "source": [
        "print(10, type(10))"
      ]
    },
    {
      "cell_type": "code",
      "execution_count": null,
      "metadata": {
        "id": "kCaMolrRms6z"
      },
      "outputs": [],
      "source": [
        "print(-10, type(-10))"
      ]
    },
    {
      "cell_type": "code",
      "execution_count": null,
      "metadata": {
        "id": "luIsDu7HshrZ"
      },
      "outputs": [],
      "source": [
        "print(0, type(0))"
      ]
    },
    {
      "cell_type": "code",
      "execution_count": null,
      "metadata": {
        "id": "B4FmH93Ht5Xi"
      },
      "outputs": [],
      "source": [
        "# Tome sempre cuidado com as aspas\n",
        "\n",
        "print(\"10\" == int)"
      ]
    },
    {
      "cell_type": "markdown",
      "metadata": {
        "id": "Ff_K6wAFuF7g"
      },
      "source": [
        "*floats*"
      ]
    },
    {
      "cell_type": "markdown",
      "metadata": {
        "id": "0W8LBOgBmG0x"
      },
      "source": [
        "Como é sabido, nem todos os números são inteiros. Para isso, temos a classe float, que são os números decimais, quebrados, etc.\n"
      ]
    },
    {
      "cell_type": "code",
      "execution_count": null,
      "metadata": {
        "id": "sPEczFT-uDqz"
      },
      "outputs": [],
      "source": [
        "print(12.34, type(12.34)) # Nota: O decimal no Python é com '.', não com ','"
      ]
    },
    {
      "cell_type": "code",
      "execution_count": null,
      "metadata": {
        "id": "-pWmu4vYuQr_"
      },
      "outputs": [],
      "source": [
        "print(4.2, type(4.2))"
      ]
    },
    {
      "cell_type": "markdown",
      "metadata": {
        "id": "E-B3vay6uY4Y"
      },
      "source": [
        "*Booleanos*"
      ]
    },
    {
      "cell_type": "markdown",
      "metadata": {
        "id": "SmLihiLhubAc"
      },
      "source": [
        "Por fim, temos os valores booleanos, que são valores lógicos. São Verdadeiros (TRUE) ou Falsos (FALSE). Geralmente utilizados em comparações"
      ]
    },
    {
      "cell_type": "code",
      "execution_count": null,
      "metadata": {
        "id": "fWx2o2FpuYdy"
      },
      "outputs": [],
      "source": [
        "booleano = (10==10)\n",
        "\n",
        "print(booleano, type(booleano))"
      ]
    },
    {
      "cell_type": "code",
      "execution_count": null,
      "metadata": {
        "id": "ufQea5zGu9Pq"
      },
      "outputs": [],
      "source": [
        "booleano2 = (0==1)\n",
        "\n",
        "print(booleano2, type(booleano2))"
      ]
    },
    {
      "cell_type": "code",
      "execution_count": null,
      "metadata": {
        "id": "DHD3jKHgvDmJ"
      },
      "outputs": [],
      "source": [
        "booleano3 = (0==0)\n",
        "\n",
        "print(booleano3)"
      ]
    },
    {
      "cell_type": "markdown",
      "metadata": {
        "id": "9op1-Kxbu0SP"
      },
      "source": [
        "Listas vazias são consideradas falsas"
      ]
    },
    {
      "cell_type": "code",
      "execution_count": null,
      "metadata": {
        "id": "tBfTxqsZuuhE"
      },
      "outputs": [],
      "source": [
        "print(bool(''))"
      ]
    },
    {
      "cell_type": "markdown",
      "metadata": {
        "id": "Eg0C-4DtbABK"
      },
      "source": [
        "#### Exercícios"
      ]
    },
    {
      "cell_type": "markdown",
      "metadata": {
        "id": "0NqSdc_xbDta"
      },
      "source": [
        "1 - Crie uma variável str e a imprima junto do seu tipo"
      ]
    },
    {
      "cell_type": "code",
      "execution_count": null,
      "metadata": {
        "id": "x9Sih0rLbBqQ"
      },
      "outputs": [],
      "source": []
    },
    {
      "cell_type": "markdown",
      "metadata": {
        "id": "PaCrZI_RbRoA"
      },
      "source": [
        "2 - Peça ao usuário que digite sua idade e verifique o tipo de dado resultante desse input."
      ]
    },
    {
      "cell_type": "code",
      "execution_count": null,
      "metadata": {
        "id": "9IJe_xRzbaZ0"
      },
      "outputs": [],
      "source": []
    },
    {
      "cell_type": "markdown",
      "metadata": {
        "id": "fpxusUryboBA"
      },
      "source": [
        "3 - Qual o tipo das seguintes variáveis?"
      ]
    },
    {
      "cell_type": "code",
      "execution_count": null,
      "metadata": {
        "id": "fj2WSq43blbu"
      },
      "outputs": [],
      "source": [
        "# A)\n",
        "\n",
        "x = \"12.52\""
      ]
    },
    {
      "cell_type": "code",
      "execution_count": null,
      "metadata": {
        "id": "XXsOHZ9Rb5QR"
      },
      "outputs": [],
      "source": [
        "# B)\n",
        "\n",
        "y = \"José tem 53 anos\""
      ]
    },
    {
      "cell_type": "code",
      "execution_count": null,
      "metadata": {
        "id": "UH9mrQNlb8Xa"
      },
      "outputs": [],
      "source": [
        "# C)\n",
        "\n",
        "z = 17.07"
      ]
    },
    {
      "cell_type": "code",
      "execution_count": null,
      "metadata": {
        "id": "hsxnt6K7cBbX"
      },
      "outputs": [],
      "source": [
        "# D)\n",
        "\n",
        "a = 3"
      ]
    },
    {
      "cell_type": "markdown",
      "metadata": {
        "id": "AtuJrvxlbk0u"
      },
      "source": [
        "4 - Crie uma variável de tipo booleano (imprima o tipo da variável)"
      ]
    },
    {
      "cell_type": "code",
      "execution_count": null,
      "metadata": {
        "id": "Ccnas4qfcVI9"
      },
      "outputs": [],
      "source": []
    },
    {
      "cell_type": "markdown",
      "metadata": {
        "id": "g3CgPFcVvMbm"
      },
      "source": [
        "## 7. Operações Aritméticas e Conversões"
      ]
    },
    {
      "cell_type": "markdown",
      "metadata": {
        "id": "qwkI4bRbvTic"
      },
      "source": [
        "Você também pode utilizar o python como uma calculadora. Nesta seção, vamos mostrar as operações mais comuns."
      ]
    },
    {
      "cell_type": "markdown",
      "metadata": {
        "id": "4c_httrfvbpM"
      },
      "source": [
        "*Operadores Aritméticos*\n",
        "\n",
        "Soma -> +\n",
        "\n",
        "Subtração -> -\n",
        "\n",
        "Multiplicação -> *\n",
        "\n",
        "Divisão -> /\n",
        "\n",
        "Divisão Inteira (resultado arredondado) -> //\n",
        "\n",
        "Potenciação (elevar à) -> **\n",
        "\n",
        "% -> Resto da divisão de um número por outro\n"
      ]
    },
    {
      "cell_type": "code",
      "execution_count": null,
      "metadata": {
        "id": "AGGWAf34vbLe"
      },
      "outputs": [],
      "source": [
        "# Vamos começar pelos números inteiros\n",
        "\n",
        "soma = 1 + 1\n",
        "\n",
        "print(soma)"
      ]
    },
    {
      "cell_type": "code",
      "execution_count": null,
      "metadata": {
        "id": "u8BNPlpnv_7s"
      },
      "outputs": [],
      "source": [
        "mult = 7*8\n",
        "\n",
        "mult # uma forma alternativa de imprimir uma variável é colocá-la diretamente."
      ]
    },
    {
      "cell_type": "code",
      "execution_count": null,
      "metadata": {
        "id": "H-hBUclbwHgP"
      },
      "outputs": [],
      "source": [
        "sub = 50-10\n",
        "\n",
        "sub"
      ]
    },
    {
      "cell_type": "code",
      "execution_count": null,
      "metadata": {
        "id": "BJhMFNi6wKaU"
      },
      "outputs": [],
      "source": [
        "div = 64/10\n",
        "\n",
        "print(div, type(div))"
      ]
    },
    {
      "cell_type": "code",
      "execution_count": null,
      "metadata": {
        "id": "bcGqk7qSyQ6j"
      },
      "outputs": [],
      "source": [
        "pot = 2**4\n",
        "\n",
        "print(pot, type(pot))"
      ]
    },
    {
      "cell_type": "markdown",
      "metadata": {
        "id": "_PQxEvTEwTMu"
      },
      "source": [
        "Operações aritméticas também funcionam com strings. Porém, com uma lógica diferente. Você pode multiplicar uma string por um valor inteiro"
      ]
    },
    {
      "cell_type": "code",
      "execution_count": null,
      "metadata": {
        "id": "iXfa7BbswRW3"
      },
      "outputs": [],
      "source": [
        "print(\"Olá\"*10)"
      ]
    },
    {
      "cell_type": "markdown",
      "metadata": {
        "id": "2vULYwSnwj3g"
      },
      "source": [
        "Você pode concatenar duas strings"
      ]
    },
    {
      "cell_type": "code",
      "execution_count": null,
      "metadata": {
        "id": "UyP9vsP5wpYt"
      },
      "outputs": [],
      "source": [
        "x = \"olá\"\n",
        "y = \" mundo\"\n",
        "\n",
        "print(x+y)"
      ]
    },
    {
      "cell_type": "markdown",
      "metadata": {
        "id": "m9kyPQGGwg23"
      },
      "source": [
        "No entanto, não é possível multiplicar uma string por outra"
      ]
    },
    {
      "cell_type": "code",
      "execution_count": null,
      "metadata": {
        "id": "H3-2QebIwcHg"
      },
      "outputs": [],
      "source": [
        "print(\"Olá\"*\"Mundo\")"
      ]
    },
    {
      "cell_type": "markdown",
      "metadata": {
        "id": "TJ0w6Ed2w0UP"
      },
      "source": [
        "Nem somar uma string e um int"
      ]
    },
    {
      "cell_type": "code",
      "execution_count": null,
      "metadata": {
        "id": "1YZYJuKywxQv"
      },
      "outputs": [],
      "source": [
        "print(5+\"10\")"
      ]
    },
    {
      "cell_type": "markdown",
      "metadata": {
        "id": "NP4PeDwYw8Ts"
      },
      "source": [
        "Operações funcionam da mesma forma que os int para os floats"
      ]
    },
    {
      "cell_type": "code",
      "execution_count": null,
      "metadata": {
        "id": "b_BUEuXqw4jj"
      },
      "outputs": [],
      "source": [
        "print(5.4*6.7)"
      ]
    },
    {
      "cell_type": "code",
      "execution_count": null,
      "metadata": {
        "id": "gzgyp6GtxCpn"
      },
      "outputs": [],
      "source": [
        "# Se quiser arredondar o valor final\n",
        "\n",
        "print(round((5.4*6.7), 2))"
      ]
    },
    {
      "cell_type": "code",
      "execution_count": null,
      "metadata": {
        "id": "YQo0TSRxxKLk"
      },
      "outputs": [],
      "source": [
        "# Numa maneira de mais fácil visualização\n",
        "\n",
        "mult2 = 5.4*6.7\n",
        "\n",
        "print(round(mult2, 2))"
      ]
    },
    {
      "cell_type": "markdown",
      "metadata": {
        "id": "GHYL7BrmxT18"
      },
      "source": [
        "Se tiver dúvidas sobre algum comando ou código, lembre-se de sempre consultar a [documentação](https://docs.python.org/pt-br/3/library/functions.html?highlight=round#round) do python."
      ]
    },
    {
      "cell_type": "markdown",
      "metadata": {
        "id": "vAQc9CLyxcET"
      },
      "source": [
        "*Conversões*"
      ]
    },
    {
      "cell_type": "markdown",
      "metadata": {
        "id": "1Io34hVRxeia"
      },
      "source": [
        "Para converter uma variável de um tipo para outro, você pode utilizar alguns comandos. Se, por exemplo, você tiver um número em formato de texto, pode transformá-lo em int pelo seguinte código"
      ]
    },
    {
      "cell_type": "code",
      "execution_count": null,
      "metadata": {
        "id": "gsigeAgWxeKL"
      },
      "outputs": [],
      "source": [
        "# str para int\n",
        "\n",
        "valor = \"57\"\n",
        "\n",
        "numerico = int(valor)\n",
        "\n",
        "print(numerico, type(numerico))\n"
      ]
    },
    {
      "cell_type": "markdown",
      "metadata": {
        "id": "IeGMj2rbx_p4"
      },
      "source": [
        "Outras conversões são possíveis"
      ]
    },
    {
      "cell_type": "code",
      "execution_count": null,
      "metadata": {
        "id": "XJoW5nJ-yBkf"
      },
      "outputs": [],
      "source": [
        "#float to int\n",
        "float1 = 57.8\n",
        "\n",
        "inteiro = int(float1)\n",
        "\n",
        "print(inteiro, type(inteiro))"
      ]
    },
    {
      "cell_type": "code",
      "execution_count": null,
      "metadata": {
        "id": "H0lLbhwHyMaH"
      },
      "outputs": [],
      "source": [
        "# int para float\n",
        "\n",
        "inteiro2 = 6\n",
        "\n",
        "float2 = float(inteiro2)\n",
        "\n",
        "print(float2, type(float2))\n",
        "\n"
      ]
    },
    {
      "cell_type": "markdown",
      "metadata": {
        "id": "kWTevuTPynC0"
      },
      "source": [
        "Também pode converter de número para texto (str)"
      ]
    },
    {
      "cell_type": "code",
      "execution_count": null,
      "metadata": {
        "id": "3BT9HCw3ymgB"
      },
      "outputs": [],
      "source": [
        "inteiro3 = 12356\n",
        "\n",
        "string1 = str(inteiro3)\n",
        "\n",
        "print(string1, type(string1))"
      ]
    },
    {
      "cell_type": "code",
      "execution_count": null,
      "metadata": {
        "id": "fxIFsmzYyq22"
      },
      "outputs": [],
      "source": [
        "float3 = 27.805432054032\n",
        "\n",
        "string2 = str(float3)\n",
        "\n",
        "print(string2, type(string2))"
      ]
    },
    {
      "cell_type": "markdown",
      "metadata": {
        "id": "jfmSYA_Sc63e"
      },
      "source": [
        "#### Exercícios"
      ]
    },
    {
      "cell_type": "markdown",
      "metadata": {
        "id": "_Y-5gxtCc8dB"
      },
      "source": [
        "1 - Peça dois números ao usuário e faça a soma destes"
      ]
    },
    {
      "cell_type": "code",
      "execution_count": null,
      "metadata": {
        "id": "p1qQ8__ec8Ig"
      },
      "outputs": [],
      "source": []
    },
    {
      "cell_type": "markdown",
      "metadata": {
        "id": "fYewz2OodCGu"
      },
      "source": [
        "2 - Imprima o seguinte caractere 50 vezes"
      ]
    },
    {
      "cell_type": "code",
      "execution_count": null,
      "metadata": {
        "id": "4TslyPVodu2K"
      },
      "outputs": [],
      "source": [
        "caractere = \"#\"\n"
      ]
    },
    {
      "cell_type": "markdown",
      "metadata": {
        "id": "j1Wkz9qWd1cb"
      },
      "source": [
        "3 - Peça dois números ao usuário e calcule o resultado da divisão destes"
      ]
    },
    {
      "cell_type": "code",
      "execution_count": null,
      "metadata": {
        "id": "BVrd-fX2d1Ic"
      },
      "outputs": [],
      "source": []
    },
    {
      "cell_type": "markdown",
      "metadata": {
        "id": "x0tEjDPheBQb"
      },
      "source": [
        "4 - Peça dois números ao usuário e calcule o resultado da potência destes"
      ]
    },
    {
      "cell_type": "code",
      "execution_count": null,
      "metadata": {
        "id": "lYX4OYjYeJnh"
      },
      "outputs": [],
      "source": []
    },
    {
      "cell_type": "markdown",
      "metadata": {
        "id": "tAMCbuuXeJ8i"
      },
      "source": [
        "5 - Transforme o seguinte str em float e calcule o seu valor quadrado, apresentando o valor final em no máximo duas casas decimais"
      ]
    },
    {
      "cell_type": "code",
      "execution_count": null,
      "metadata": {
        "id": "X5AWoxVMfGDG"
      },
      "outputs": [],
      "source": [
        "numstr = \"42.24\""
      ]
    },
    {
      "cell_type": "markdown",
      "metadata": {
        "id": "uj_dozW01t4Z"
      },
      "source": [
        "## 8. Formatação de strings"
      ]
    },
    {
      "cell_type": "markdown",
      "metadata": {
        "id": "UP7fQdtE1Lm1"
      },
      "source": [
        "Digamos que alguém te peça para jogar todas essas informações em uma única frase. Há alguns modos de formatar a mesma informação."
      ]
    },
    {
      "cell_type": "code",
      "execution_count": null,
      "metadata": {
        "id": "eQSxfLBc1SZH"
      },
      "outputs": [],
      "source": [
        "# Básico\n",
        "\n",
        "print(nome, \"tem\", idade, \"anos e\", altura, \"m de altura.\", \"Nascido em\", ano_nascimento, \",\", \"atualmente está no curso de\", curso)"
      ]
    },
    {
      "cell_type": "markdown",
      "metadata": {
        "id": "C_ixyRCG10lE"
      },
      "source": [
        "No entanto, essa forma é um pouco truncada e pode dificultar a leitura do código. Um modo alternativo é usar f-strings"
      ]
    },
    {
      "cell_type": "code",
      "execution_count": null,
      "metadata": {
        "id": "j2upiFEP1qhO"
      },
      "outputs": [],
      "source": [
        "# f-string\n",
        "\n",
        "\n",
        "print(f'{nome} tem {idade} anos e {altura}m de altura. Nascido em {ano_nascimento}, atualmente está no curso de {curso}')"
      ]
    },
    {
      "cell_type": "markdown",
      "metadata": {
        "id": "82q9YtGT2PxK"
      },
      "source": [
        "Desse modo, tanto a escrita quanto a leitura do código são mais fluídas. Outra vantagem é a possibilidade de arredondar os valores dentro do print"
      ]
    },
    {
      "cell_type": "code",
      "execution_count": null,
      "metadata": {
        "id": "Bgedd0iV2Gdd"
      },
      "outputs": [],
      "source": [
        "bolsa = 875.164\n",
        "\n",
        "print(f'{nome} recebe R${bolsa:.2f} como auxílio moradia')"
      ]
    },
    {
      "cell_type": "markdown",
      "metadata": {
        "id": "5Mu7zXGz2k6s"
      },
      "source": [
        "Outra possibilidade é utilizar chaves vazias e indicar as variáveis e se vai arredondar ou não ao final utilizando \".format\""
      ]
    },
    {
      "cell_type": "code",
      "execution_count": null,
      "metadata": {
        "id": "gHaacpDK2rR8"
      },
      "outputs": [],
      "source": [
        "print('{} recebe R${} como auxílio moradia'.format(nome, round(bolsa,2)))"
      ]
    },
    {
      "cell_type": "markdown",
      "metadata": {
        "id": "hGOk93Ds24Je"
      },
      "source": [
        "Ao utilizar esse método, a ordem das variáveis tem que ser exatamente as dos colchetes. Para evitar problemas, pode utilizar algumas indicações"
      ]
    },
    {
      "cell_type": "code",
      "execution_count": null,
      "metadata": {
        "id": "MT_7wWoN23XD"
      },
      "outputs": [],
      "source": [
        "print('{n} recebe R${b} como auxílio moradia'.format(b = round(bolsa,2), n = nome))"
      ]
    },
    {
      "cell_type": "markdown",
      "metadata": {
        "id": "ZqR6aNXmgz0S"
      },
      "source": [
        "#### Exercícios"
      ]
    },
    {
      "cell_type": "markdown",
      "metadata": {
        "id": "o5OoKPMUhJOz"
      },
      "source": [
        "1 - Imprima as seguintes informações de um aluno utilizando o modo \"básico\" estabelecido acima."
      ]
    },
    {
      "cell_type": "code",
      "execution_count": null,
      "metadata": {
        "id": "11CTqvWqgzl3"
      },
      "outputs": [],
      "source": [
        "# Informações do aluno\n",
        "\n",
        "nome = \"Matheus\"\n",
        "idade = 23\n",
        "ano_nascimento = 2023 - idade\n",
        "curso = \"Química\"\n",
        "bolsa = 907.22435\n"
      ]
    },
    {
      "cell_type": "code",
      "execution_count": null,
      "metadata": {
        "id": "Q_p_YdYXhvJc"
      },
      "outputs": [],
      "source": [
        "# Insira seu código aqui\n",
        "\n"
      ]
    },
    {
      "cell_type": "markdown",
      "metadata": {
        "id": "bjPndBSihwqk"
      },
      "source": [
        "2 - Imprima as mesmas informações usando f strings"
      ]
    },
    {
      "cell_type": "code",
      "execution_count": null,
      "metadata": {
        "id": "-k7FcK_LhR5z"
      },
      "outputs": [],
      "source": []
    },
    {
      "cell_type": "markdown",
      "metadata": {
        "id": "IHNRnR0hh3Ee"
      },
      "source": [
        "3 - Imprima as mesmas informações usando chaves"
      ]
    },
    {
      "cell_type": "code",
      "execution_count": null,
      "metadata": {
        "id": "34SlUTQ8iAQ4"
      },
      "outputs": [],
      "source": []
    },
    {
      "cell_type": "markdown",
      "metadata": {
        "id": "w5vaGVk6h_4z"
      },
      "source": [
        "4 - Por meio das f strings, imprima o valor da bolsa do aluno usando apenas uma casa decimal"
      ]
    },
    {
      "cell_type": "code",
      "execution_count": null,
      "metadata": {
        "id": "Jqrc9kQLiHMX"
      },
      "outputs": [],
      "source": []
    },
    {
      "cell_type": "markdown",
      "metadata": {
        "id": "Tp-0DEUnicDy"
      },
      "source": [
        "5 - Peça a idade, curso e nome de um usuário e imprima essas informações utilizando f-strings"
      ]
    },
    {
      "cell_type": "code",
      "execution_count": null,
      "metadata": {
        "id": "82XEF5diig-w"
      },
      "outputs": [],
      "source": []
    },
    {
      "cell_type": "markdown",
      "metadata": {
        "id": "Lu9tjh5YmKuc"
      },
      "source": [
        "## 9. Estruturas de Dados em Python"
      ]
    },
    {
      "cell_type": "markdown",
      "metadata": {
        "id": "ikqvqIuSmeBo"
      },
      "source": [
        "*Listas*: Uma lista é uma coleção ordenada e mutável de elementos. Os elementos de uma lista podem ser de diferentes tipos, como strings, inteiros, booleanos e até outras listas. As listas são representadas entre colchetes e os elementos são separados por vírgulas. Exemplo: minha_lista = [1, 2, 'três', True].\n",
        "\n",
        "*Tuplas*: Uma tupla é semelhante a uma lista, mas é imutável, o que significa que não pode ser modificada após a criação. As tuplas são representadas entre parênteses e os elementos são separados por vírgulas. Exemplo: minha_tupla = (1, 2, 'três', True).\n",
        "\n",
        "*Dicionários*: Um dicionário é uma coleção de pares de chave-valor, onde cada valor é acessado por uma chave exclusiva. Os dicionários são representados entre chaves e cada par de chave-valor é separado por vírgulas. Exemplo: meu_dicionario = {'nome': 'João', 'idade': 30, 'cidade': 'São Paulo'}.\n",
        "\n",
        "*Conjuntos*: Um conjunto é uma coleção não ordenada e mutável de elementos exclusivos. Os conjuntos são representados entre chaves e os elementos são separados por vírgulas. Exemplo: meu_conjunto = {1, 2, 3, 4, 5}."
      ]
    },
    {
      "cell_type": "code",
      "execution_count": null,
      "metadata": {
        "id": "S7WegMofmmUO"
      },
      "outputs": [],
      "source": [
        "# Exemplo de listas\n",
        "\n",
        "anos = [1999,2000,2001,2002]\n",
        "países = [\"China\", \"EUA\", \"Brasil\", \"Rússia\"]\n",
        "IDH = [0.802, 0.789, 0.782, 0.750]\n",
        "\n",
        "# No entanto, listas não precisam que os dados sejam do mesmo tipo (str, int, float) e podem existir listas dentro de listas (nested lists).\n",
        "\n",
        "lista_mista = [2007,\"Noruega\",0.886,\"etc.\"]\n",
        "\n",
        "nested_list = [[\"Brasil\", 0.782],[\"China\", 0.802]]\n"
      ]
    },
    {
      "cell_type": "code",
      "execution_count": null,
      "metadata": {
        "id": "PCiGmZkInrzb"
      },
      "outputs": [],
      "source": [
        "# Exemplo de tuplas\n",
        "\n",
        "anos = (1999,2000,2001,2002)\n",
        "países = (\"China\", \"EUA\", \"Brasil\", \"Rússia\")\n",
        "IDH = (0.802, 0.789, 0.782, 0.750)\n",
        "\n",
        "tupla_mista = (2007,\"Noruega\",0.886,\"etc.\")\n",
        "\n",
        "nested_tuple = ((\"Brasil\", 0.782),(\"China\", 0.802))\n",
        "\n",
        "type(nested_tuple)"
      ]
    },
    {
      "cell_type": "code",
      "execution_count": null,
      "metadata": {
        "id": "VS_AZPyNpcWg"
      },
      "outputs": [],
      "source": [
        "# Exemplo de dicionários\n",
        "\n",
        "# Criando um dicionário\n",
        "meu_dicionario = {'nome': 'João', 'idade': 30, 'cidade': 'São Paulo'}\n",
        "\n"
      ]
    },
    {
      "cell_type": "markdown",
      "metadata": {
        "id": "r0YzuiE2m8Oi"
      },
      "source": [
        "Dicionários já parecem um pouco mais com a estrutura de planilhas que conhecemos. Um conjunto é uma coleção de elementos únicos, sem ordem definida. Isso significa que cada elemento de um conjunto é único, e não há repetições. Os conjuntos são muito úteis para realizar operações matemáticas, como união, interseção e diferença.\n",
        "\n",
        "Em Python, os conjuntos são representados por chaves {} ou pela função set(). Por exemplo:"
      ]
    },
    {
      "cell_type": "code",
      "execution_count": null,
      "metadata": {
        "id": "xB2Fx3M4pv7L"
      },
      "outputs": [],
      "source": [
        "# Criando um conjunto com chaves\n",
        "meu_conjunto = {1, 2, 3, 4}\n",
        "\n",
        "# Criando um conjunto com a função set()\n",
        "outro_conjunto = set([3, 4, 5, 6])"
      ]
    },
    {
      "cell_type": "markdown",
      "metadata": {
        "id": "qHXs5uSAqE2R"
      },
      "source": [
        "É importante notar que os conjuntos não garantem a ordem dos elementos. Portanto, se você imprimir um conjunto, os elementos podem aparecer em uma ordem diferente da ordem em que foram adicionados."
      ]
    },
    {
      "cell_type": "markdown",
      "metadata": {
        "id": "JBzMbjqDivfN"
      },
      "source": [
        "#### Exercícios"
      ]
    },
    {
      "cell_type": "markdown",
      "metadata": {
        "id": "pKMb1VIoixmd"
      },
      "source": [
        "1 - Crie uma lista com os anos da pandemia de Covid-19"
      ]
    },
    {
      "cell_type": "code",
      "execution_count": null,
      "metadata": {
        "id": "837Kdvqkiw-N"
      },
      "outputs": [],
      "source": []
    },
    {
      "cell_type": "markdown",
      "metadata": {
        "id": "cNu3r69Oi1GZ"
      },
      "source": [
        "2 - Crie uma tupla com 5 países latino-americanos"
      ]
    },
    {
      "cell_type": "code",
      "execution_count": null,
      "metadata": {
        "id": "YqWIP5Uni7WE"
      },
      "outputs": [],
      "source": []
    },
    {
      "cell_type": "markdown",
      "metadata": {
        "id": "AfaA6UPBi7sY"
      },
      "source": [
        "3 - Peça o nome e idade do usuário e crie um dicionário com esses valores"
      ]
    },
    {
      "cell_type": "code",
      "execution_count": null,
      "metadata": {
        "id": "LMPqMPgYjqT1"
      },
      "outputs": [],
      "source": []
    },
    {
      "cell_type": "markdown",
      "metadata": {
        "id": "VGrN4pKGjucx"
      },
      "source": [
        "4 - Crie um conjunto com diversos objetos utilizando a função set()"
      ]
    },
    {
      "cell_type": "code",
      "execution_count": null,
      "metadata": {
        "id": "vrk27RnKj8P8"
      },
      "outputs": [],
      "source": []
    },
    {
      "cell_type": "markdown",
      "metadata": {
        "id": "MUVZ1oksqKqI"
      },
      "source": [
        "## Conclusão"
      ]
    },
    {
      "cell_type": "markdown",
      "metadata": {
        "id": "Yf9RRB5rqMnN"
      },
      "source": [
        "Neste laboratório, o intuito era de o de introduzir os comandos, tipos de dados e operações básicas que existem em Python. Na próxima aula, discutiremos um pouco mais sobre como trabalhar com as estruturas de dados citadas acima (listas, tuplas, etc.), operadores condicionais (if, else, elif) e alguns operadores de repetição (loop, while)."
      ]
    }
  ],
  "metadata": {
    "colab": {
      "provenance": [],
      "toc_visible": true
    },
    "gpuClass": "standard",
    "kernelspec": {
      "display_name": "base",
      "language": "python",
      "name": "python3"
    },
    "language_info": {
      "codemirror_mode": {
        "name": "ipython",
        "version": 3
      },
      "file_extension": ".py",
      "mimetype": "text/x-python",
      "name": "python",
      "nbconvert_exporter": "python",
      "pygments_lexer": "ipython3",
      "version": "3.12.7"
    }
  },
  "nbformat": 4,
  "nbformat_minor": 0
}
