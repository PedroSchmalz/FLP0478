{
 "cells": [
  {
   "cell_type": "markdown",
   "id": "dc02567a",
   "metadata": {},
   "source": [
    "# Laboratório 1\n",
    "\n",
    "Nota: Substitua os seus nomes e informações abaixo antes do envio da atividade. A atividade deve ser enviada no `Moodle` da disciplina, e o arquivo **DEVE** estar no formato `.ipynb`.\n",
    "\n",
    "[Nome Aluno 1] / [NUSP Aluno 1] / [Vespertino/Noturno]\n",
    "\n",
    "[Nome Aluno 2] / [NUSP Aluno 2] / [Vespertino/Noturno]\n"
   ]
  },
  {
   "cell_type": "markdown",
   "id": "54c272aa",
   "metadata": {},
   "source": [
    "#### Exercícios"
   ]
  },
  {
   "cell_type": "markdown",
   "id": "8c953f43",
   "metadata": {},
   "source": [
    "1 - Vamos começar com algo básico: escreva uma célula de código que imprima \"Olá, [seu nome]\""
   ]
  },
  {
   "cell_type": "code",
   "execution_count": 1,
   "id": "932835d5",
   "metadata": {},
   "outputs": [],
   "source": [
    "# Seu código vai aqui\n"
   ]
  },
  {
   "cell_type": "markdown",
   "id": "4364a3bd",
   "metadata": {},
   "source": [
    "2 - Imprima a seguinte soma:"
   ]
  },
  {
   "cell_type": "code",
   "execution_count": null,
   "id": "0ca7c064",
   "metadata": {},
   "outputs": [],
   "source": [
    "soma = 7+9\n",
    "\n"
   ]
  },
  {
   "cell_type": "markdown",
   "id": "b63f8e41",
   "metadata": {},
   "source": [
    "3 - Imprima os números de 1 a 10, cada um em uma linha diferente"
   ]
  },
  {
   "cell_type": "code",
   "execution_count": null,
   "id": "f5205c1d",
   "metadata": {},
   "outputs": [],
   "source": [
    "# Seu código vai aqui"
   ]
  },
  {
   "cell_type": "markdown",
   "id": "e5829576",
   "metadata": {},
   "source": [
    "4 - Qual o problema com o seguinte código?"
   ]
  },
  {
   "cell_type": "code",
   "execution_count": null,
   "id": "15a50479",
   "metadata": {},
   "outputs": [],
   "source": [
    "print(\"A comida do restaurante estava \"deliciosa\" hoje.\")"
   ]
  },
  {
   "cell_type": "markdown",
   "id": "56c92550",
   "metadata": {},
   "source": [
    "Resposta:"
   ]
  },
  {
   "cell_type": "markdown",
   "id": "385002fb",
   "metadata": {},
   "source": [
    "5 - Peça o nome do usuário e dê as boas vindas"
   ]
  },
  {
   "cell_type": "code",
   "execution_count": null,
   "id": "373c6628",
   "metadata": {},
   "outputs": [],
   "source": [
    "# Seu código vai aqui"
   ]
  },
  {
   "cell_type": "markdown",
   "id": "b8fe7105",
   "metadata": {},
   "source": [
    "6 - Peça a idade do usuário e descubra o ano em que ele nasceu\n"
   ]
  },
  {
   "cell_type": "code",
   "execution_count": null,
   "id": "3a712d6b",
   "metadata": {},
   "outputs": [],
   "source": [
    "# Seu código vai aqui\t"
   ]
  },
  {
   "cell_type": "markdown",
   "id": "da94fe3b",
   "metadata": {},
   "source": [
    "8 - Crie uma variável str e a imprima junto do seu tipo"
   ]
  },
  {
   "cell_type": "code",
   "execution_count": null,
   "id": "89a3cf32",
   "metadata": {},
   "outputs": [],
   "source": [
    "# Seu código vai aqui\t"
   ]
  },
  {
   "cell_type": "markdown",
   "id": "c0e88370",
   "metadata": {},
   "source": [
    "9 - Peça ao usuário que digite sua idade e verifique o tipo de dado resultante desse input."
   ]
  },
  {
   "cell_type": "code",
   "execution_count": null,
   "id": "746ef8f5",
   "metadata": {},
   "outputs": [],
   "source": [
    "# Seu código vai aqui\t"
   ]
  },
  {
   "cell_type": "markdown",
   "id": "a7f78927",
   "metadata": {},
   "source": [
    "10 - Qual o tipo das seguintes variáveis?"
   ]
  },
  {
   "cell_type": "code",
   "execution_count": null,
   "id": "aa392379",
   "metadata": {},
   "outputs": [],
   "source": [
    "# A)\n",
    "\n",
    "x = \"12.52\""
   ]
  },
  {
   "cell_type": "code",
   "execution_count": null,
   "id": "e2aaa644",
   "metadata": {},
   "outputs": [],
   "source": [
    "# B)\n",
    "\n",
    "y = \"José tem 53 anos\""
   ]
  },
  {
   "cell_type": "code",
   "execution_count": null,
   "id": "3308943b",
   "metadata": {},
   "outputs": [],
   "source": [
    "# C)\n",
    "\n",
    "z = 17.07"
   ]
  },
  {
   "cell_type": "code",
   "execution_count": null,
   "id": "8b695e10",
   "metadata": {},
   "outputs": [],
   "source": [
    "# D)\n",
    "\n",
    "a = 3"
   ]
  },
  {
   "cell_type": "markdown",
   "id": "73ee12bc",
   "metadata": {},
   "source": [
    "11 - Crie uma variável de tipo booleano (imprima o tipo da variável)"
   ]
  },
  {
   "cell_type": "code",
   "execution_count": null,
   "id": "419ad067",
   "metadata": {},
   "outputs": [],
   "source": [
    "# Seu código vai aqui"
   ]
  },
  {
   "cell_type": "markdown",
   "id": "72a0d047",
   "metadata": {},
   "source": [
    "12 - Faça um programa que peça a base e a altura de um triângulo e calcule a área (Area do tríangulo = b.h/2)"
   ]
  },
  {
   "cell_type": "code",
   "execution_count": null,
   "id": "d0ecab7e",
   "metadata": {},
   "outputs": [],
   "source": [
    "# Seu código vai aqui"
   ]
  },
  {
   "cell_type": "markdown",
   "id": "5a0aed43",
   "metadata": {},
   "source": [
    "13 - Peça o ano de nascimento do usuário e calcule sua idade"
   ]
  },
  {
   "cell_type": "code",
   "execution_count": null,
   "id": "07cb95ae",
   "metadata": {},
   "outputs": [],
   "source": [
    "# Seu código vai aqui"
   ]
  },
  {
   "cell_type": "markdown",
   "id": "ffd2974b",
   "metadata": {},
   "source": [
    "14 - Peça dois números ao usuário e faça a soma destes"
   ]
  },
  {
   "cell_type": "code",
   "execution_count": null,
   "id": "5c14ad21",
   "metadata": {},
   "outputs": [],
   "source": [
    "# Seu código vai aqui"
   ]
  },
  {
   "cell_type": "markdown",
   "id": "6cd0c741",
   "metadata": {},
   "source": [
    "15 - Imprima o seguinte caractere 50 vezes"
   ]
  },
  {
   "cell_type": "code",
   "execution_count": null,
   "id": "8f10a870",
   "metadata": {},
   "outputs": [],
   "source": [
    "caractere = \"#\"\n"
   ]
  },
  {
   "cell_type": "markdown",
   "id": "10302c5c",
   "metadata": {},
   "source": [
    "16 - Peça dois números ao usuário e calcule o resultado da divisão destes"
   ]
  },
  {
   "cell_type": "code",
   "execution_count": null,
   "id": "b12a4deb",
   "metadata": {},
   "outputs": [],
   "source": [
    "# Seu código vai aqui"
   ]
  },
  {
   "cell_type": "markdown",
   "id": "7b9de794",
   "metadata": {},
   "source": [
    "17 - Peça dois números ao usuário e calcule o resultado da potência destes"
   ]
  },
  {
   "cell_type": "code",
   "execution_count": null,
   "id": "aecaafce",
   "metadata": {},
   "outputs": [],
   "source": [
    "# Seu código vai aqui"
   ]
  },
  {
   "cell_type": "markdown",
   "id": "40da5d3c",
   "metadata": {},
   "source": [
    "18 - Transforme o seguinte str em float e calcule o seu valor quadrado, apresentando o valor final em no máximo duas casas decimais"
   ]
  },
  {
   "cell_type": "code",
   "execution_count": null,
   "id": "0261b00f",
   "metadata": {},
   "outputs": [],
   "source": [
    "numstr = \"42.24\""
   ]
  },
  {
   "cell_type": "markdown",
   "id": "4842f0b6",
   "metadata": {},
   "source": [
    "19 - Imprima as seguintes informações de um aluno utilizando o modo \"básico\" estabelecido na seção 8 da introdução ao Python."
   ]
  },
  {
   "cell_type": "code",
   "execution_count": null,
   "id": "71ef6844",
   "metadata": {},
   "outputs": [],
   "source": [
    "# Informações do aluno\n",
    "\n",
    "nome = \"Matheus\"\n",
    "idade = 23\n",
    "ano_nascimento = 2023 - idade\n",
    "curso = \"Química\"\n",
    "bolsa = 907.22435\n",
    "\n",
    "# Insira seu código aqui\n"
   ]
  },
  {
   "cell_type": "markdown",
   "id": "31a181a5",
   "metadata": {},
   "source": [
    "20 - Imprima as mesmas informações usando f strings"
   ]
  },
  {
   "cell_type": "code",
   "execution_count": null,
   "id": "85fa0c63",
   "metadata": {},
   "outputs": [],
   "source": [
    "# Insira seu código aqui"
   ]
  },
  {
   "cell_type": "markdown",
   "id": "0441e730",
   "metadata": {},
   "source": [
    "21 - Imprima as mesmas informações usando chaves"
   ]
  },
  {
   "cell_type": "code",
   "execution_count": null,
   "id": "bad1164a",
   "metadata": {},
   "outputs": [],
   "source": [
    "# Insira seu código aqui"
   ]
  },
  {
   "cell_type": "markdown",
   "id": "790321d9",
   "metadata": {},
   "source": [
    "22 - Por meio das f strings, imprima o valor da bolsa do aluno usando apenas uma casa decimal"
   ]
  },
  {
   "cell_type": "code",
   "execution_count": null,
   "id": "5a337704",
   "metadata": {},
   "outputs": [],
   "source": [
    "# Insira seu código aqui"
   ]
  },
  {
   "cell_type": "markdown",
   "id": "652d0a5f",
   "metadata": {},
   "source": [
    "23 - Peça a idade, curso e nome de um usuário e imprima essas informações utilizando f-strings"
   ]
  },
  {
   "cell_type": "code",
   "execution_count": null,
   "id": "82dd0b8d",
   "metadata": {},
   "outputs": [],
   "source": [
    "# Insira seu código aqui"
   ]
  },
  {
   "cell_type": "markdown",
   "id": "e735e326",
   "metadata": {},
   "source": [
    "24 - Crie uma lista com os anos da pandemia de Covid-19"
   ]
  },
  {
   "cell_type": "code",
   "execution_count": null,
   "id": "91dc9708",
   "metadata": {},
   "outputs": [],
   "source": [
    "# Insira seu código aqui"
   ]
  },
  {
   "cell_type": "markdown",
   "id": "d7491868",
   "metadata": {},
   "source": [
    "25 - Crie uma tupla com 5 países latino-americanos"
   ]
  },
  {
   "cell_type": "code",
   "execution_count": null,
   "id": "8ccc4de3",
   "metadata": {},
   "outputs": [],
   "source": [
    "# Insira seu código aqui"
   ]
  },
  {
   "cell_type": "markdown",
   "id": "9bfd932a",
   "metadata": {},
   "source": [
    "26 - Peça o nome e idade do usuário e crie um dicionário com esses valores"
   ]
  },
  {
   "cell_type": "code",
   "execution_count": null,
   "id": "ccfdb283",
   "metadata": {},
   "outputs": [],
   "source": [
    "# Insira seu código aqui"
   ]
  },
  {
   "cell_type": "markdown",
   "id": "e5e8a932",
   "metadata": {},
   "source": [
    "27 - Crie um conjunto com diversos objetos utilizando a função set()"
   ]
  },
  {
   "cell_type": "code",
   "execution_count": null,
   "id": "63dff2e9",
   "metadata": {},
   "outputs": [],
   "source": [
    "# Insira seu código aqui"
   ]
  }
 ],
 "metadata": {
  "kernelspec": {
   "display_name": "base",
   "language": "python",
   "name": "python3"
  },
  "language_info": {
   "codemirror_mode": {
    "name": "ipython",
    "version": 3
   },
   "file_extension": ".py",
   "mimetype": "text/x-python",
   "name": "python",
   "nbconvert_exporter": "python",
   "pygments_lexer": "ipython3",
   "version": "3.12.7"
  }
 },
 "nbformat": 4,
 "nbformat_minor": 5
}
