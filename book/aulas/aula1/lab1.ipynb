{
 "cells": [
  {
   "cell_type": "markdown",
   "id": "dc02567a",
   "metadata": {},
   "source": [
    "# Laboratório 1\n",
    "\n",
    "Nota: substitua os seus nomes e informações abaixo antes do envio da atividade\n",
    "\n",
    "[Nome Aluno 1] / [NUSP Aluno 1] / [Vespertino/Noturno]\n",
    "\n",
    "[Nome Aluno 2] / [NUSP Aluno 2] / [Vespertino/Noturno]\n"
   ]
  },
  {
   "cell_type": "markdown",
   "id": "54c272aa",
   "metadata": {},
   "source": [
    "#### Exercícios"
   ]
  },
  {
   "cell_type": "markdown",
   "id": "8c953f43",
   "metadata": {},
   "source": [
    "1 - Vamos começar com algo básico: escreva uma célula de código que imprima \"Olá, [seu nome]\""
   ]
  },
  {
   "cell_type": "code",
   "execution_count": null,
   "id": "932835d5",
   "metadata": {},
   "outputs": [],
   "source": [
    "# Seu código vai aqui\n"
   ]
  },
  {
   "cell_type": "markdown",
   "id": "4364a3bd",
   "metadata": {},
   "source": [
    "2 - Imprima a seguinte soma:"
   ]
  },
  {
   "cell_type": "code",
   "execution_count": null,
   "id": "0ca7c064",
   "metadata": {},
   "outputs": [],
   "source": [
    "soma = 7+9\n",
    "\n"
   ]
  },
  {
   "cell_type": "markdown",
   "id": "b63f8e41",
   "metadata": {},
   "source": [
    "3 - Imprima os números de 1 a 10, cada um em uma linha diferente"
   ]
  },
  {
   "cell_type": "code",
   "execution_count": null,
   "id": "f5205c1d",
   "metadata": {},
   "outputs": [],
   "source": [
    "# Seu código vai aqui"
   ]
  },
  {
   "cell_type": "markdown",
   "id": "e5829576",
   "metadata": {},
   "source": [
    "4 - Qual o problema com o seguinte código?"
   ]
  },
  {
   "cell_type": "code",
   "execution_count": null,
   "id": "15a50479",
   "metadata": {},
   "outputs": [],
   "source": [
    "print(\"A comida do restaurante estava \"deliciosa\" hoje.\")"
   ]
  },
  {
   "cell_type": "markdown",
   "id": "74a1d476",
   "metadata": {},
   "source": []
  }
 ],
 "metadata": {
  "kernelspec": {
   "display_name": "base",
   "language": "python",
   "name": "python3"
  },
  "language_info": {
   "name": "python",
   "version": "3.12.7"
  }
 },
 "nbformat": 4,
 "nbformat_minor": 5
}
