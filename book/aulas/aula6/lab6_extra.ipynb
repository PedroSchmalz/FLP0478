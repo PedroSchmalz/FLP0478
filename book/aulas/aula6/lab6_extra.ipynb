{
 "cells": [
  {
   "cell_type": "markdown",
   "metadata": {
    "id": "_ns7mAL7Sqmm"
   },
   "source": [
    "# Laboratório 6 - EXTRA"
   ]
  },
  {
   "cell_type": "markdown",
   "metadata": {
    "id": "94b7gcfPWOpL"
   },
   "source": [
    "# **Cabeçalho**\n",
    "\n",
    "Aluno 1 - NUSP - Graduação/Pós - Período\n",
    "\n",
    "Aluno 2 - NUSP - Graduação/Pós - Período"
   ]
  },
  {
   "cell_type": "markdown",
   "metadata": {
    "id": "PBBJyvp7m4us"
   },
   "source": [
    "#### O Banco de dados *Default*\n",
    "\n",
    "Vamos utilizar um banco de dados conhecido, o *Default*. Nele, existem características de pessoas que são ou não inadimplentes."
   ]
  },
  {
   "cell_type": "code",
   "execution_count": null,
   "metadata": {
    "id": "CHcf64MtoAXu"
   },
   "outputs": [],
   "source": [
    "import pandas as pd\n",
    "\n",
    "# URL do arquivo Excel raw no GitHub\n",
    "url = \"https://github.com/JWarmenhoven/ISLR-python/raw/master/Notebooks/Data/Default.xlsx\"\n",
    "\n",
    "# Carrega o arquivo Excel em um DataFrame\n",
    "df = pd.read_excel(url)\n",
    "\n",
    "df.head()"
   ]
  },
  {
   "cell_type": "markdown",
   "metadata": {
    "id": "3qs0hUMMkoCl"
   },
   "source": [
    "Vamos importar os pacotes necessários e fazer novamente o one-hot encoding"
   ]
  },
  {
   "cell_type": "code",
   "execution_count": null,
   "metadata": {
    "id": "R8huOud3kuY0"
   },
   "outputs": [],
   "source": [
    "import statsmodels.api as sm\n",
    "from sklearn.linear_model import LogisticRegression # Modelo de regressão logística do sklearn\n",
    "from sklearn.model_selection import train_test_split # Função para dividir o banco entre treino e teste\n",
    "from sklearn.metrics import accuracy_score, confusion_matrix, classification_report # Algumas métricas e relatórios"
   ]
  },
  {
   "cell_type": "code",
   "execution_count": null,
   "metadata": {
    "id": "N4CfAvH6k60t"
   },
   "outputs": [],
   "source": [
    "# Converte as variáveis categóricas em numéricas usando codificação one-hot\n",
    "df_encoded = pd.get_dummies(df, columns=['default', 'student'], drop_first=True, dtype = int)\n",
    "\n",
    "df_encoded"
   ]
  },
  {
   "cell_type": "markdown",
   "metadata": {
    "id": "TNH-N479k_0V"
   },
   "source": [
    "Dividir em features e target"
   ]
  },
  {
   "cell_type": "code",
   "execution_count": null,
   "metadata": {
    "id": "Got31KHDk7Xz"
   },
   "outputs": [],
   "source": [
    "# Divide os dados em features (X) e target (y)\n",
    "X = df_encoded[['balance', 'income', 'student_Yes']]\n",
    "y = df_encoded['default_Yes']"
   ]
  },
  {
   "cell_type": "code",
   "execution_count": null,
   "metadata": {
    "id": "USqF-KMIlBen"
   },
   "outputs": [],
   "source": [
    "# Desempacotando cada parte com o train_test_split\n",
    "\n",
    "X_treino, X_teste, y_treino, y_teste = train_test_split(X, # Vetor de variáveis explicativas\n",
    "                                                        y, # Target (Ou Var. Dep.)\n",
    "                                                        test_size=0.2, # Porcentagem que vai ficar para teste (20%)\n",
    "                                                        random_state=42) # Seed para garantir a estabilidade dos resultados\n",
    "\n",
    "print(X_treino)"
   ]
  },
  {
   "cell_type": "markdown",
   "metadata": {
    "id": "8CS4mddk664m"
   },
   "source": [
    "#### Linear Discriminant Analysis (LDA)\n",
    "\n",
    "Como talvez tenham percebido, treinar um modelo qualquer, especialmente os menos computacionalmente intensivos, não é extremamente complicado. Para o nosso interesse, é mais importante entender a intuição geral do modelo, além de suas vantagens e desvantagens, sempre tentando também comparar eles com outros modelos. Vamos agora para o modelo LDA, ou Linear Discriminant Analysis.\n",
    "\n",
    "O LDA é um método de análise estatística usado para encontrar a melhor combinação linear de características (variáveis) que maximiza a separação entre duas ou mais classes em um conjunto de dados. Em outras palavras, o LDA ajuda a encontrar um \"caminho\" ou projeção das características que torna mais fácil distinguir entre diferentes grupos de dados.\n",
    "\n",
    "Aqui estão os passos básicos de como o LDA funciona:\n",
    "\n",
    "* Calculando as Médias: Para cada classe, o LDA calcula a média das características. Isso significa que ele encontra o valor médio de cada característica para cada grupo de dados. Isso é chamado de \"vetor médio\" para cada classe.\n",
    "\n",
    "* Calculando a Dispersão: O LDA também calcula a dispersão ou variabilidade das características dentro de cada classe. Isso ajuda a medir o quão espalhados estão os pontos de dados dentro de cada grupo.\n",
    "\n",
    "* Encontrando a Melhor Projeção: O objetivo do LDA é encontrar a projeção (combinação linear das características) que maximize a separação entre as médias das classes e minimize a dispersão dentro de cada classe. Em outras palavras, ele tenta encontrar um \"caminho\" ao longo do qual os dados de cada classe estão mais agrupados e separados dos dados das outras classes.\n",
    "\n",
    "Em resumo, o LDA é uma técnica que ajuda a encontrar a melhor maneira de separar dados em diferentes grupos com base em suas características. É útil em tarefas de classificação, como reconhecimento de padrões e detecção de padrões em dados multidimensionais."
   ]
  },
  {
   "cell_type": "code",
   "execution_count": null,
   "metadata": {
    "id": "STyIs2RS7SrF"
   },
   "outputs": [],
   "source": [
    "from sklearn.discriminant_analysis import LinearDiscriminantAnalysis # Importando o modelo do SKlearn"
   ]
  },
  {
   "cell_type": "markdown",
   "metadata": {
    "id": "Blu2Gmoh2PPT"
   },
   "source": [
    "Como Já separamos anteriormente os dados de treino e teste, vamos já partir para o treino do modelo:"
   ]
  },
  {
   "cell_type": "code",
   "execution_count": null,
   "metadata": {
    "id": "VVvrUjGP9MAj"
   },
   "outputs": [],
   "source": [
    "lda = LinearDiscriminantAnalysis()\n",
    "lda.fit(X_treino, y_treino)"
   ]
  },
  {
   "cell_type": "markdown",
   "metadata": {
    "id": "Q_UuvUGj9RTv"
   },
   "source": [
    "Prevendo no banco de teste:"
   ]
  },
  {
   "cell_type": "code",
   "execution_count": null,
   "metadata": {
    "id": "199suN8T9TxL"
   },
   "outputs": [],
   "source": [
    "y_pred_lda = lda.predict(X_teste)\n",
    "\n",
    "y_pred_lda"
   ]
  },
  {
   "cell_type": "markdown",
   "metadata": {
    "id": "i59zdJh79Y6a"
   },
   "source": [
    "Agora, vamos avaliar o modelo"
   ]
  },
  {
   "cell_type": "code",
   "execution_count": null,
   "metadata": {
    "id": "UetYef0i9b4z"
   },
   "outputs": [],
   "source": [
    "accuracy = accuracy_score(y_teste, # Valores Reais\n",
    "                          y_pred_lda) # Valores preditos pelo modelo LDA\n",
    "\n",
    "print(f\"Acurácia: {accuracy}\")\n"
   ]
  },
  {
   "cell_type": "markdown",
   "metadata": {
    "id": "DASpecqy9hKS"
   },
   "source": [
    "A acurácia geral foi minimamente maior do que a da Regressão Logística (96,8% contra 96,4%). Vamos ver a matriz de confusão:"
   ]
  },
  {
   "cell_type": "code",
   "execution_count": null,
   "metadata": {
    "id": "QVLrq9Dj9zlp"
   },
   "outputs": [],
   "source": [
    "import matplotlib.pyplot as plt\n",
    "import seaborn as sns\n",
    "\n",
    "\n",
    "mat_conf_lda = confusion_matrix(y_teste, y_pred_lda)\n",
    "\n",
    "\n",
    "# Defina os rótulos das classes\n",
    "class_names = ['Adimplente', 'Inadimplente']\n",
    "\n",
    "# Crie um gráfico de matriz de confusão\n",
    "plt.figure(figsize=(8, 6))\n",
    "sns.heatmap(mat_conf_lda, # Nossa matriz gerada pelo sklearn\n",
    "            annot=True,\n",
    "            fmt='d', # Dígitos completos\n",
    "            cmap='Blues', # Cor da matriz\n",
    "            xticklabels=class_names,\n",
    "            yticklabels=class_names)\n",
    "plt.xlabel('Classe Prevista')\n",
    "plt.ylabel('Classe Real')\n",
    "plt.title('Matriz de Confusão')\n",
    "plt.show()\n"
   ]
  },
  {
   "cell_type": "markdown",
   "metadata": {
    "id": "5yHgJWFc-CAi"
   },
   "source": [
    "O problema na classe de inadimplentes permanece, ainda só 11 de 69 foram classificados corretamente. Podemos confirmar isso olhando para o relatório de classificação:"
   ]
  },
  {
   "cell_type": "code",
   "execution_count": null,
   "metadata": {
    "id": "amcxEqrL-egR"
   },
   "outputs": [],
   "source": [
    "rel_class = classification_report(y_teste, y_pred_lda)\n",
    "\n",
    "print(f\"Relatório de Classificação:\\n{rel_class}\")"
   ]
  },
  {
   "cell_type": "markdown",
   "metadata": {
    "id": "KxCVRkVB-jCh"
   },
   "source": [
    "Aqui, podemos ver que, mesmo que haja uma maior precisão da classe minoritária (inadimplentes) ainda temos um problema enorme com o recall, gerando uma alta taxa de falsos negativos. Isto é, inadimplentes que estão sendo classificados como adimplentes. Também é sempre importante olhar para o F1-score, que é a média harmonica de precision e recall. Aqui, vemos que o F1-score para a classe 1 (inadimplentes) é baixíssimo (0,26), lembrando que todas estas medidas variam de 0 a 1."
   ]
  },
  {
   "cell_type": "markdown",
   "metadata": {
    "id": "3yF9EI3UCsYg"
   },
   "source": [
    "#### Quadratic Discriminant Analysis (QDA)\n",
    "\n",
    "O QDA é um método estatístico que, assim como o LDA, é usado para separar dados em diferentes classes com base em suas características. No entanto, o QDA assume que as classes têm diferentes matrizes de covariância. Agora, vamos quebrar isso em partes:\n",
    "\n",
    "* Matrizes de Covariância Diferentes: O QDA parte do pressuposto de que as diferentes classes em seus dados podem ter dispersões diferentes em várias direções. Isso significa que as variâncias e covariâncias (como a relação entre duas características) entre as classes podem ser diferentes.\n",
    "\n",
    "* Classificação com Superfícies Não-Lineares: Devido à suposição de matrizes de covariância diferentes, o QDA é capaz de modelar relações mais complexas entre as classes. Isso significa que ele pode capturar fronteiras de decisão não-lineares, permitindo maior flexibilidade na classificação. (Nota: Lembre-se que modelos mais flexíveis tem suas vantagens e desvantagens).\n",
    "\n",
    "* Processo de Treinamento: O treinamento do QDA envolve calcular as matrizes de covariância para cada classe. Isso é feito estimando a matriz de covariância de cada classe com base nos dados de treinamento. Em seguida, o modelo usa essas informações para calcular as probabilidades de pertencimento de uma nova amostra a cada classe.\n",
    "\n",
    "* Tomada de Decisões: Quando você deseja classificar uma nova amostra de dados, o QDA calcula a probabilidade de pertencimento a cada classe com base nas matrizes de covariância estimadas e usa essas probabilidades para fazer a classificação final. A classe com a maior probabilidade é a classe prevista.\n",
    "\n",
    "Em resumo, o QDA é uma técnica de classificação que leva em consideração a variabilidade das classes, permitindo que o modelo se adapte a relações não-lineares entre os dados. Isso pode ser útil quando as classes têm diferentes padrões de dispersão e quando as fronteiras de decisão não são estritamente lineares."
   ]
  },
  {
   "cell_type": "markdown",
   "metadata": {
    "id": "pfpiI3lUDQp3"
   },
   "source": [
    "1. Importando o modelo:"
   ]
  },
  {
   "cell_type": "code",
   "execution_count": null,
   "metadata": {
    "id": "thPtxdfXDS2g"
   },
   "outputs": [],
   "source": [
    "from sklearn.discriminant_analysis import QuadraticDiscriminantAnalysis"
   ]
  },
  {
   "cell_type": "markdown",
   "metadata": {
    "id": "cXk2-0ixDaDl"
   },
   "source": [
    "2. Criando o objeto e treinando o modelo:"
   ]
  },
  {
   "cell_type": "code",
   "execution_count": null,
   "metadata": {
    "id": "CQfDIi7zDdxz"
   },
   "outputs": [],
   "source": [
    "# Crie e treine o modelo QDA\n",
    "qda = QuadraticDiscriminantAnalysis()\n",
    "qda.fit(X_treino, y_treino)"
   ]
  },
  {
   "cell_type": "markdown",
   "metadata": {
    "id": "7wHejCR5DjOk"
   },
   "source": [
    "3. Prevendo no banco de teste"
   ]
  },
  {
   "cell_type": "code",
   "execution_count": null,
   "metadata": {
    "id": "Diap3PZ_Dk9a"
   },
   "outputs": [],
   "source": [
    "# Faça previsões no conjunto de teste\n",
    "y_pred_qda = qda.predict(X_teste)\n",
    "\n",
    "y_pred_qda"
   ]
  },
  {
   "cell_type": "markdown",
   "metadata": {
    "id": "hgqxfMmTDqZ0"
   },
   "source": [
    "4. Avaliando o desempenho do modelo:\n",
    "\n",
    "Agora, tente pensar sozinho um pouco sobre a performance do modelo, e compare os resultados com os outros dois modelos."
   ]
  },
  {
   "cell_type": "markdown",
   "metadata": {
    "id": "YXCHV8cZDr24"
   },
   "source": [
    "a) Acurácia"
   ]
  },
  {
   "cell_type": "code",
   "execution_count": null,
   "metadata": {
    "id": "h6SJlUBHDtBH"
   },
   "outputs": [],
   "source": [
    "# Avalie o desempenho do modelo\n",
    "accuracy = accuracy_score(y_teste, y_pred_qda)\n",
    "\n",
    "print(f\"Acurácia: {accuracy}\")"
   ]
  },
  {
   "cell_type": "markdown",
   "metadata": {
    "id": "0-35xXb8EAXN"
   },
   "source": [
    "b) Matriz de Confusão"
   ]
  },
  {
   "cell_type": "code",
   "execution_count": null,
   "metadata": {
    "id": "TV58TlziEFxk"
   },
   "outputs": [],
   "source": [
    "mat_conf_qda = confusion_matrix(y_teste, y_pred_qda)\n",
    "\n",
    "\n",
    "# Defina os rótulos das classes\n",
    "class_names = ['Adimplente', 'Inadimplente']\n",
    "\n",
    "# Crie um gráfico de matriz de confusão\n",
    "plt.figure(figsize=(8, 6))\n",
    "sns.heatmap(mat_conf_qda, # Nossa matriz gerada pelo sklearn\n",
    "            annot=True,\n",
    "            fmt='d', # Dígitos completos\n",
    "            cmap='Blues', # Cor da matriz\n",
    "            xticklabels=class_names,\n",
    "            yticklabels=class_names)\n",
    "plt.xlabel('Classe Prevista')\n",
    "plt.ylabel('Classe Real')\n",
    "plt.title('Matriz de Confusão')\n",
    "plt.show()"
   ]
  },
  {
   "cell_type": "markdown",
   "metadata": {
    "id": "jMGw7J_vEMZQ"
   },
   "source": [
    "c) Relatório de Classificação"
   ]
  },
  {
   "cell_type": "code",
   "execution_count": null,
   "metadata": {
    "id": "AEVCjQaNEPou"
   },
   "outputs": [],
   "source": [
    "rel_class = classification_report(y_teste, y_pred_qda)\n",
    "\n",
    "print(f\"Relatório de Classificação:\\n{rel_class}\")"
   ]
  },
  {
   "cell_type": "markdown",
   "metadata": {
    "id": "ETifpqgcEfme"
   },
   "source": [
    "Agora, iremos para os dois últimos modelos que veremos nesta aula: Naive Bayes e K-Neighbors:"
   ]
  },
  {
   "cell_type": "markdown",
   "metadata": {
    "id": "TCvOHKtJEkM5"
   },
   "source": [
    "#### Naive-Bayes"
   ]
  },
  {
   "cell_type": "code",
   "execution_count": null,
   "metadata": {
    "id": "yehOZTITE39S"
   },
   "outputs": [],
   "source": [
    "from sklearn.naive_bayes import GaussianNB # Modelo Naive-Bayes\n",
    "\n",
    "# Crie e treine o modelo Naive Bayes (Gaussian Naive Bayes)\n",
    "nb_model = GaussianNB()\n",
    "nb_model.fit(X_treino, y_treino)\n",
    "\n",
    "# Faça previsões no conjunto de teste\n",
    "y_pred_NB = nb_model.predict(X_teste)\n",
    "\n",
    "# Imprimindo o array de predições\n",
    "\n",
    "y_pred_NB\n"
   ]
  },
  {
   "cell_type": "markdown",
   "metadata": {
    "id": "biOzHZU7E97k"
   },
   "source": [
    "a) Accuracy"
   ]
  },
  {
   "cell_type": "code",
   "execution_count": null,
   "metadata": {
    "id": "6JeZthELE_li"
   },
   "outputs": [],
   "source": [
    "accuracy = accuracy_score(y_teste, y_pred_NB)\n",
    "\n",
    "print(f\"Acurácia: {accuracy}\")"
   ]
  },
  {
   "cell_type": "markdown",
   "metadata": {
    "id": "Vi1p5-KQFomx"
   },
   "source": [
    "b) Confusion Matrix"
   ]
  },
  {
   "cell_type": "code",
   "execution_count": null,
   "metadata": {
    "id": "HirO-i64FqQ5"
   },
   "outputs": [],
   "source": [
    "mat_conf_NB = confusion_matrix(y_teste, y_pred_NB)\n",
    "\n",
    "\n",
    "# Defina os rótulos das classes\n",
    "class_names = ['Adimplente', 'Inadimplente']\n",
    "\n",
    "# Crie um gráfico de matriz de confusão\n",
    "plt.figure(figsize=(8, 6))\n",
    "sns.heatmap(mat_conf_NB, # Nossa matriz gerada pelo sklearn\n",
    "            annot=True,\n",
    "            fmt='d', # Dígitos completos\n",
    "            cmap='Blues', # Cor da matriz\n",
    "            xticklabels=class_names,\n",
    "            yticklabels=class_names)\n",
    "plt.xlabel('Classe Prevista')\n",
    "plt.ylabel('Classe Real')\n",
    "plt.title('Matriz de Confusão')\n",
    "plt.show()"
   ]
  },
  {
   "cell_type": "markdown",
   "metadata": {
    "id": "n3My8serGZyA"
   },
   "source": [
    "#### K-Nearest Neighbors (KNN)"
   ]
  },
  {
   "cell_type": "markdown",
   "metadata": {
    "id": "EcYl6AXqGq4t"
   },
   "source": [
    "A ideia central do KNN é que os objetos (ou pontos de dados) que são semelhantes tendem a estar próximos uns dos outros em um espaço de características. Portanto, o KNN funciona com base na proximidade entre os pontos de dados em um espaço de características.\n",
    "\n",
    "\n",
    "2. Parâmetro K:\n",
    "\n",
    "O \"K\" em KNN representa o número de vizinhos mais próximos que serão considerados para tomar uma decisão. Por exemplo, se K=3, o algoritmo considerará os três vizinhos mais próximos de um ponto de dados para tomar uma decisão.\n",
    "3. Classificação com KNN:\n",
    "\n",
    "Para classificação, o KNN determina a classe de um novo ponto de dados com base na classe da maioria dos K vizinhos mais próximos.\n",
    "Por exemplo, se a maioria dos K vizinhos mais próximos de um novo ponto de dados pertence à classe \"A\", o KNN classificará o novo ponto como \"A\".\n",
    "4. Regressão com KNN:\n",
    "\n",
    "Para regressão, o KNN calcula a média (ou outra medida estatística) dos valores-alvo dos K vizinhos mais próximos e usa esse valor para fazer previsões.\n",
    "Por exemplo, se estamos prevendo o preço de uma casa, o KNN calculará a média dos preços das K casas mais próximas para fazer a previsão.\n",
    "5. Métrica de Distância:\n",
    "\n",
    "O KNN usa uma métrica de distância (geralmente a distância Euclidiana) para medir a proximidade entre pontos de dados no espaço de características.\n",
    "A métrica de distância determina como os pontos são comparados em termos de proximidade.\n",
    "6. Escolha de K:\n",
    "\n",
    "A escolha adequada de K é importante. Um valor muito pequeno de K pode levar a um modelo muito sensível a outliers (muito flexível), enquanto um valor muito grande de K pode tornar o modelo menos sensível a padrões sutis nos dados (muito rígido). Uma boa ideia é a de testar varios valores e ver qual performa melhor no banco de teste.\n",
    "\n",
    "7. Treinamento do Modelo:\n",
    "\n",
    "No treinamento, o KNN simplesmente armazena todos os pontos de dados com seus rótulos em uma estrutura de dados para que eles possam ser usados para previsões futuras.\n",
    "\n",
    "8. Previsões:\n",
    "\n",
    "Para fazer uma previsão com o KNN, você encontra os K vizinhos mais próximos do novo ponto de dados usando a métrica de distância.\n",
    "Em seguida, toma uma decisão com base na maioria das classes (classificação) ou na média dos valores-alvo (regressão) dos vizinhos mais próximos.\n",
    "\n",
    "Aplicações:\n",
    "\n",
    "O KNN é usado em uma variedade de tarefas, como classificação de documentos, recomendação de produtos, diagnóstico médico, detecção de anomalias e muito mais.\n",
    "Em resumo, o KNN é um método de aprendizado de máquina que faz previsões com base na proximidade entre pontos de dados em um espaço de características. Ele é simples de entender e implementar, mas a escolha apropriada de K e da métrica de distância é fundamental para seu desempenho."
   ]
  },
  {
   "cell_type": "code",
   "execution_count": null,
   "metadata": {
    "id": "I4qVjV9aHDn-"
   },
   "outputs": [],
   "source": [
    "from sklearn.neighbors import KNeighborsClassifier # Importando o KNN\n",
    "\n",
    "# Crie e treine o modelo KNN\n",
    "knn_model = KNeighborsClassifier(n_neighbors=3)  # Você pode ajustar o número de vizinhos (K) aqui\n",
    "knn_model.fit(X_treino, y_treino)\n",
    "\n",
    "\n",
    "# Faça previsões no conjunto de teste\n",
    "y_pred_knn = knn_model.predict(X_teste)\n",
    "\n",
    "y_pred_knn\n"
   ]
  },
  {
   "cell_type": "code",
   "execution_count": null,
   "metadata": {
    "id": "r3twDH7NJmvH"
   },
   "outputs": [],
   "source": [
    "# Avalie o desempenho do modelo\n",
    "accuracy = accuracy_score(y_teste, y_pred_knn)\n",
    "\n",
    "print(f\"Acurácia: {accuracy}\")"
   ]
  },
  {
   "cell_type": "code",
   "execution_count": null,
   "metadata": {
    "id": "JvnccNfyJyLQ"
   },
   "outputs": [],
   "source": [
    "mat_conf_KNN = confusion_matrix(y_teste, y_pred_knn)\n",
    "\n",
    "\n",
    "# Defina os rótulos das classes\n",
    "class_names = ['Adimplente', 'Inadimplente']\n",
    "\n",
    "# Crie um gráfico de matriz de confusão\n",
    "plt.figure(figsize=(8, 6))\n",
    "sns.heatmap(mat_conf_KNN, # Nossa matriz gerada pelo sklearn\n",
    "            annot=True,\n",
    "            fmt='d', # Dígitos completos\n",
    "            cmap='Blues', # Cor da matriz\n",
    "            xticklabels=class_names,\n",
    "            yticklabels=class_names)\n",
    "plt.xlabel('Classe Prevista')\n",
    "plt.ylabel('Classe Real')\n",
    "plt.title('Matriz de Confusão')\n",
    "plt.show()"
   ]
  },
  {
   "cell_type": "code",
   "execution_count": null,
   "metadata": {
    "id": "fX0PgPflKBoc"
   },
   "outputs": [],
   "source": [
    "report = classification_report(y_teste, y_pred_knn)\n",
    "\n",
    "print(f\"Relatório de Classificação:\\n{report}\")"
   ]
  },
  {
   "cell_type": "markdown",
   "metadata": {
    "id": "KhXEANysNPto"
   },
   "source": [
    "## Exercícios"
   ]
  },
  {
   "cell_type": "markdown",
   "metadata": {
    "id": "xqwQal0-3U_7"
   },
   "source": [
    "### Banco de Dados"
   ]
  },
  {
   "cell_type": "markdown",
   "metadata": {
    "id": "-1kNt8DcNUod"
   },
   "source": [
    "1- Agora é sua vez, vamos pegar um outro banco de dados. Importe o banco de dados \"Healthcare-Diabetes\""
   ]
  },
  {
   "cell_type": "code",
   "execution_count": null,
   "metadata": {
    "id": "Od8DR0TEQgkx"
   },
   "outputs": [],
   "source": [
    "url = \"https://raw.githubusercontent.com/PedroSchmalz/FLP0478/refs/heads/main/book/aulas/aula6/dataset/Healthcare-Diabetes.csv\""
   ]
  },
  {
   "cell_type": "code",
   "execution_count": null,
   "metadata": {
    "id": "McU5nfXyQ3Yz"
   },
   "outputs": [],
   "source": [
    "# Imprima o banco aqui"
   ]
  },
  {
   "cell_type": "markdown",
   "metadata": {
    "id": "MYiIkghGRH1T"
   },
   "source": [
    "No seguinte kaggle ([link](https://www.kaggle.com/datasets/nanditapore/healthcare-diabetes/)) você encontra mais informações sobre o banco."
   ]
  },
  {
   "cell_type": "markdown",
   "metadata": {
    "id": "JbEI8srGR5dD"
   },
   "source": [
    "2 - Faça uma matriz de correlação das variáveis independentes. Há alguma variável que pareça ser muito correlacionada com outra (muito próximo de 1)?"
   ]
  },
  {
   "cell_type": "code",
   "execution_count": null,
   "metadata": {
    "id": "TqCh0fWNR84f"
   },
   "outputs": [],
   "source": []
  },
  {
   "cell_type": "markdown",
   "metadata": {
    "id": "FoqvZFQFRYhc"
   },
   "source": [
    "3 - Separe as colunas em um vetor X de features e o target (Outcome). Também separe o banco entre treino e teste (com 20% para teste)."
   ]
  },
  {
   "cell_type": "code",
   "execution_count": null,
   "metadata": {
    "id": "dhm7N9LKRod_"
   },
   "outputs": [],
   "source": []
  },
  {
   "cell_type": "code",
   "execution_count": null,
   "metadata": {
    "id": "kHuYNB6GUPun"
   },
   "outputs": [],
   "source": []
  },
  {
   "cell_type": "markdown",
   "metadata": {
    "id": "xsym2HO03aQU"
   },
   "source": [
    "### Regressão Logística"
   ]
  },
  {
   "cell_type": "markdown",
   "metadata": {
    "id": "6WpADAKFTh-y"
   },
   "source": [
    "4 - Agora, treine um modelo de regressão logística."
   ]
  },
  {
   "cell_type": "code",
   "execution_count": null,
   "metadata": {
    "id": "FuhFZMibT_pB"
   },
   "outputs": [],
   "source": []
  },
  {
   "cell_type": "markdown",
   "metadata": {
    "id": "l0CxHHOYUURv"
   },
   "source": [
    "5 - Faça a predição dos valores do banco de teste e imprima o array de predições."
   ]
  },
  {
   "cell_type": "code",
   "execution_count": null,
   "metadata": {
    "id": "yUUX3S0sUb_Y"
   },
   "outputs": [],
   "source": []
  },
  {
   "cell_type": "markdown",
   "metadata": {
    "id": "RCZy4FLJT-4n"
   },
   "source": [
    "a) Apresente a acurácia:"
   ]
  },
  {
   "cell_type": "code",
   "execution_count": null,
   "metadata": {
    "id": "j2jHy69PUGB1"
   },
   "outputs": [],
   "source": [
    "\n"
   ]
  },
  {
   "cell_type": "markdown",
   "metadata": {
    "id": "1RrBbKEmUjku"
   },
   "source": [
    "b) Apresente a matriz de confusão"
   ]
  },
  {
   "cell_type": "code",
   "execution_count": null,
   "metadata": {
    "id": "XcOVZSBUU_u8"
   },
   "outputs": [],
   "source": []
  },
  {
   "cell_type": "markdown",
   "metadata": {
    "id": "iu2AKFgmVQ2C"
   },
   "source": [
    "c) Por fim, apresente o relatório de classificação"
   ]
  },
  {
   "cell_type": "code",
   "execution_count": null,
   "metadata": {
    "id": "YlV58F7lVSz2"
   },
   "outputs": [],
   "source": []
  },
  {
   "cell_type": "markdown",
   "metadata": {
    "id": "gDkptLecVaXT"
   },
   "source": [
    "d) O modelo foi bem? Comente sobre"
   ]
  },
  {
   "cell_type": "markdown",
   "metadata": {
    "id": "3pF3sU7KVcWJ"
   },
   "source": [
    "Digite Sua resposta aqui"
   ]
  },
  {
   "cell_type": "markdown",
   "metadata": {
    "id": "36OY6piOVxLP"
   },
   "source": [
    "e) Agora, vamos pegar esses valores do relatório de classificação de forma separada, isso vai ser útil depois. Pegue precision, recall e f1-score e salve-os em uma variável com nome adequado para depois. Imprima os valores e veja se batem com o do relatório de classificação. Dica: [sklearn](https://scikit-learn.org/stable/modules/generated/sklearn.metrics.precision_recall_fscore_support.html)"
   ]
  },
  {
   "cell_type": "code",
   "execution_count": null,
   "metadata": {
    "id": "hZ6BnI46WgyA"
   },
   "outputs": [],
   "source": [
    "# Dica:\n",
    "\n",
    "from sklearn.metrics import precision_recall_fscore_support\n",
    "\n",
    "resultados = precision_recall_fscore_support(y_teste, y_pred, average=None, labels=[0, 1])\n",
    "\n"
   ]
  },
  {
   "cell_type": "markdown",
   "metadata": {
    "id": "74ONLYu43dyj"
   },
   "source": [
    "### LDA"
   ]
  },
  {
   "cell_type": "markdown",
   "metadata": {
    "id": "x8yATo9vaoNF"
   },
   "source": [
    "6 - Agora, treine um modelo LDA e faça as predições no banco de teste."
   ]
  },
  {
   "cell_type": "code",
   "execution_count": null,
   "metadata": {
    "id": "OFtP5SPIassF"
   },
   "outputs": [],
   "source": []
  },
  {
   "cell_type": "markdown",
   "metadata": {
    "id": "R5DlwyuVbFFU"
   },
   "source": [
    "a) Apresente a acurácia"
   ]
  },
  {
   "cell_type": "code",
   "execution_count": null,
   "metadata": {
    "id": "VF_YpvUlbGKw"
   },
   "outputs": [],
   "source": []
  },
  {
   "cell_type": "markdown",
   "metadata": {
    "id": "tgPUqBLTbRHI"
   },
   "source": [
    "b) Apresente a matriz de confusão:"
   ]
  },
  {
   "cell_type": "code",
   "execution_count": null,
   "metadata": {
    "id": "ErOIRUs4cRO5"
   },
   "outputs": [],
   "source": []
  },
  {
   "cell_type": "markdown",
   "metadata": {
    "id": "xxDf8TYOcTzD"
   },
   "source": [
    "c) Por fim, o relatório de classificação. Os resultados são melhores do que o da regressão logística? Comente sobre."
   ]
  },
  {
   "cell_type": "code",
   "execution_count": null,
   "metadata": {
    "id": "zthX8lvgcTkY"
   },
   "outputs": [],
   "source": []
  },
  {
   "cell_type": "markdown",
   "metadata": {
    "id": "nWiwSGqofaoh"
   },
   "source": [
    "d) Novamente, pegue os valores separados e os salve em um novo dataframe."
   ]
  },
  {
   "cell_type": "code",
   "execution_count": null,
   "metadata": {
    "id": "3yahrUR1cThO"
   },
   "outputs": [],
   "source": [
    "\n",
    "\n"
   ]
  },
  {
   "cell_type": "markdown",
   "metadata": {
    "id": "V0SLSiNggZpD"
   },
   "source": [
    "e) Junte com o banco que você criou no exercício 5-e"
   ]
  },
  {
   "cell_type": "code",
   "execution_count": null,
   "metadata": {
    "id": "UcEqTNTlgfKW"
   },
   "outputs": [],
   "source": []
  },
  {
   "cell_type": "markdown",
   "metadata": {
    "id": "yAHk6Uky3fpq"
   },
   "source": [
    "### QDA"
   ]
  },
  {
   "cell_type": "markdown",
   "metadata": {
    "id": "cbEKuodPf7oq"
   },
   "source": [
    "7 - Treine um modelo QDA e faça as predições no banco de teste"
   ]
  },
  {
   "cell_type": "code",
   "execution_count": null,
   "metadata": {
    "id": "ngzVD6rGgEHX"
   },
   "outputs": [],
   "source": []
  },
  {
   "cell_type": "markdown",
   "metadata": {
    "id": "Zj5n8V2JgOV_"
   },
   "source": [
    "a) Apresente o relatório de classificação"
   ]
  },
  {
   "cell_type": "code",
   "execution_count": null,
   "metadata": {
    "id": "yelaarBTgUAN"
   },
   "outputs": [],
   "source": []
  },
  {
   "cell_type": "markdown",
   "metadata": {
    "id": "s_L2W9_oh0Gm"
   },
   "source": [
    "b) Salve precisão, recall e f1-score em um dataframe"
   ]
  },
  {
   "cell_type": "code",
   "execution_count": null,
   "metadata": {
    "id": "A4fWP1K8h3y2"
   },
   "outputs": [],
   "source": []
  },
  {
   "cell_type": "markdown",
   "metadata": {
    "id": "YyNSuLvrid6_"
   },
   "source": [
    "c) Junte com o banco de dados de resultados por modelo, criado no exercício 6-e"
   ]
  },
  {
   "cell_type": "code",
   "execution_count": null,
   "metadata": {
    "id": "IFcTr1NwiSHD"
   },
   "outputs": [],
   "source": []
  },
  {
   "cell_type": "markdown",
   "metadata": {
    "id": "hARMQPkj3h84"
   },
   "source": [
    "### NB"
   ]
  },
  {
   "cell_type": "markdown",
   "metadata": {
    "id": "KNvIK9HJjIrc"
   },
   "source": [
    "8 - Treine um Modelo Naive-bayes"
   ]
  },
  {
   "cell_type": "code",
   "execution_count": null,
   "metadata": {
    "id": "ltEk_29mjQPu"
   },
   "outputs": [],
   "source": [
    "\n"
   ]
  },
  {
   "cell_type": "markdown",
   "metadata": {
    "id": "49e38Y0IjYaC"
   },
   "source": [
    "a) Imprima o relatório de classificação"
   ]
  },
  {
   "cell_type": "code",
   "execution_count": null,
   "metadata": {
    "id": "xSd6AYyXjWnS"
   },
   "outputs": [],
   "source": []
  },
  {
   "cell_type": "markdown",
   "metadata": {
    "id": "sfKqjagYjtI7"
   },
   "source": [
    "b) Salve precision, recall e f1-score em um dataframe separado"
   ]
  },
  {
   "cell_type": "code",
   "execution_count": null,
   "metadata": {
    "id": "30Q6M-rWjx8Q"
   },
   "outputs": [],
   "source": []
  },
  {
   "cell_type": "markdown",
   "metadata": {
    "id": "O_fGI9SWj-HD"
   },
   "source": [
    "c) Junte com o dataframe de resultados dos outros modelos"
   ]
  },
  {
   "cell_type": "code",
   "execution_count": null,
   "metadata": {
    "id": "xOUwLp1KkA2E"
   },
   "outputs": [],
   "source": []
  },
  {
   "cell_type": "markdown",
   "metadata": {
    "id": "iM7GAVox3jnQ"
   },
   "source": [
    "### KNN"
   ]
  },
  {
   "cell_type": "markdown",
   "metadata": {
    "id": "vqBriMwfkoGn"
   },
   "source": [
    "9 - Por fim, treine também um modelo KNN"
   ]
  },
  {
   "cell_type": "code",
   "execution_count": null,
   "metadata": {
    "id": "5g2QNvFqvO55"
   },
   "outputs": [],
   "source": []
  },
  {
   "cell_type": "markdown",
   "metadata": {
    "id": "XSkXWXSsvPM5"
   },
   "source": [
    "a) Imprima o relatório de classificação."
   ]
  },
  {
   "cell_type": "code",
   "execution_count": null,
   "metadata": {
    "id": "eMplkiPqvZJx"
   },
   "outputs": [],
   "source": []
  },
  {
   "cell_type": "markdown",
   "metadata": {
    "id": "QwkLZsjQvR9H"
   },
   "source": [
    "b) Salve precision, recall e f1-score em um dataframe separado"
   ]
  },
  {
   "cell_type": "code",
   "execution_count": null,
   "metadata": {
    "id": "RBxlBCHVvY85"
   },
   "outputs": [],
   "source": []
  },
  {
   "cell_type": "markdown",
   "metadata": {
    "id": "nvt9bxPovVrO"
   },
   "source": [
    "c) Por fim, junte estes resultados com o dataframe completo de resultados"
   ]
  },
  {
   "cell_type": "code",
   "execution_count": null,
   "metadata": {
    "id": "U-x9QW8OvZfr"
   },
   "outputs": [],
   "source": []
  },
  {
   "cell_type": "markdown",
   "metadata": {
    "id": "knXRivdN4GUM"
   },
   "source": [
    "Comparação dos modelos"
   ]
  },
  {
   "cell_type": "markdown",
   "metadata": {
    "id": "Q4pJMZvQwZVI"
   },
   "source": [
    "10 - Pegue o dataframe criado em 9-c e drope as colunas de suporte. Depois, transforme do formato wide para o formato long."
   ]
  },
  {
   "cell_type": "code",
   "execution_count": null,
   "metadata": {
    "id": "fNR9I7zIxDvv"
   },
   "outputs": [],
   "source": [
    "\n"
   ]
  },
  {
   "cell_type": "markdown",
   "metadata": {
    "id": "6Mp0MTY-2T2b"
   },
   "source": [
    "11 - Filtre somente os valores referentes à precisão e faça um gráfico de barras comparando os resultados desta métrica."
   ]
  },
  {
   "cell_type": "code",
   "execution_count": null,
   "metadata": {
    "id": "M8CagKZAyKFw"
   },
   "outputs": [],
   "source": [
    "\n",
    "\n"
   ]
  },
  {
   "cell_type": "markdown",
   "metadata": {
    "id": "3sQCZ7vj3F_D"
   },
   "source": [
    "12 - Qual modelo se saiu melhor nesta métrica?"
   ]
  },
  {
   "cell_type": "markdown",
   "metadata": {
    "id": "s8rqxZeU3JP3"
   },
   "source": [
    "Resposta:"
   ]
  },
  {
   "cell_type": "markdown",
   "metadata": {
    "id": "7O4Br4_t3J-t"
   },
   "source": [
    "13 - Faça o mesmo do exercício 11 com o Recall (Revocação)"
   ]
  },
  {
   "cell_type": "code",
   "execution_count": null,
   "metadata": {
    "id": "jaYuKJZF3ple"
   },
   "outputs": [],
   "source": []
  },
  {
   "cell_type": "markdown",
   "metadata": {
    "id": "odhkjeAu35H4"
   },
   "source": [
    "14 - Qual modelo tem a menor taxa de falsos negativos (maior recall)? Os resultados são parecidos até na classe minoritária?"
   ]
  },
  {
   "cell_type": "markdown",
   "metadata": {
    "id": "2nDrU9Zu3-__"
   },
   "source": [
    "Resposta:"
   ]
  },
  {
   "cell_type": "markdown",
   "metadata": {
    "id": "qXLnYfae4A9h"
   },
   "source": [
    "15 - Por fim, compare os f1-scores da mesma forma."
   ]
  },
  {
   "cell_type": "code",
   "execution_count": null,
   "metadata": {
    "id": "JQKIhP0N4M4I"
   },
   "outputs": [],
   "source": []
  },
  {
   "cell_type": "markdown",
   "metadata": {
    "id": "mTUx-JHL4tTa"
   },
   "source": [
    "16 - Qual modelo obteve melhor desempenho nesta tarefa?"
   ]
  },
  {
   "cell_type": "markdown",
   "metadata": {
    "id": "ty5GeUlI4xqO"
   },
   "source": [
    "Resposta:"
   ]
  }
 ],
 "metadata": {
  "colab": {
   "provenance": [],
   "toc_visible": true
  },
  "gpuClass": "standard",
  "kernelspec": {
   "display_name": "Python 3",
   "name": "python3"
  },
  "language_info": {
   "name": "python"
  }
 },
 "nbformat": 4,
 "nbformat_minor": 0
}
