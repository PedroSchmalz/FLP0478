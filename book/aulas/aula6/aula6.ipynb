{
 "cells": [
  {
   "cell_type": "markdown",
   "metadata": {
    "id": "_ns7mAL7Sqmm"
   },
   "source": [
    "# Classificação e Comparação de Modelos"
   ]
  },
  {
   "cell_type": "markdown",
   "metadata": {
    "id": "6jDxBfu_e2xK"
   },
   "source": [
    "## Classificação com Aprendizado Supervisionado de Máquina\n",
    "\n",
    "<p align=\"justify\">  Como já abordamos nas últimas aulas, a tarefa de classificação em machine learning é um dos problemas mais comuns e fundamentais na área da aprendizdo supervisionado. Ela se refere ao processo de utilizar um modelo para que ele atribua uma categoria ou rótulo a um conjunto de dados com base em suas características observáveis. O objetivo principal da classificação é providenciar um banco de dados com observações rotuladas (anotadas) e treiná-lo de forma que ele consiga classificar as observações, com certa precisão, com base nesses dados. Na aula passada, vimos os principais problemas que podem surgir na criação do banco de dados e anotação das observações.\n",
    "\n",
    "\n",
    "\n",
    "<p align=\"justify\"> O modelo então aprende a reconhecer padrões e relações entre as características dos dados e as classes correspondentes. Uma vez treinado, o modelo pode ser usado para fazer previsões em novos dados não rotulados, classificando-os em uma das classes pré-definidas. A classificação é amplamente aplicada em uma variedade de domínios, como diagnóstico médico, detecção de fraudes financeiras, reconhecimento de padrões em imagens, filtragem de spam de e-mails, análise de sentimentos em texto, entre outros. Ela desempenha um papel crucial na automação de tarefas que exigem a categorização rápida e precisa de grandes volumes de dados, tornando-a uma das áreas mais importantes da machine learning e da inteligência artificial.\n",
    "\n",
    "\n",
    "<p align=\"justify\"> Na aula de hoje, iremos aprender como aplicar um só modelo de aprendizado de máquina, a regressão logística, em tarefas de classificação simples.  O foco principal é em aprender como utilizár este modelo e como avaliar sua performance, entendendo que não existe um modelo perfeito que supere todos os outros, sendo sempre necessário avaliá-los e compará-los.\n"
   ]
  },
  {
   "cell_type": "markdown",
   "metadata": {
    "id": "_aiLgZAq8KRK"
   },
   "source": [
    "### Classificação Binária\n",
    "\n",
    "<p align=\"justify\"> A tarefa de classificação binária, de forma simples, envolve separar coisas em apenas duas categorias. Imagine que você tem um grupo de animais e deseja classificá-los em \"gatos\" ou \"não gatos\". Neste caso, você está realizando uma classificação binária, onde há apenas duas opções possíveis.\n",
    "\n",
    "<p align=\"justify\"> Em machine learning, o mesmo conceito se aplica, mas você usa um modelo para fazer essa separação automaticamente com base em características dos dados. Por exemplo, um modelo de classificação binária pode ser treinado para distinguir entre e-mails \"spam\" e \"não spam\" ou para identificar se uma imagem contém um objeto específico, como um \"carro\" ou \"não carro\". Sempre com essa ideia de \"Verdadeiro ou falso\", \"Positivo ou negativo\", etc.\n"
   ]
  },
  {
   "cell_type": "markdown",
   "metadata": {
    "id": "PBBJyvp7m4us"
   },
   "source": [
    "#### O Banco de dados *Default*\n",
    "\n",
    "Vamos utilizar um banco de dados conhecido, o *Default*. Nele, existem características de pessoas que são ou não inadimplentes."
   ]
  },
  {
   "cell_type": "code",
   "execution_count": 1,
   "metadata": {
    "colab": {
     "base_uri": "https://localhost:8080/",
     "height": 262
    },
    "executionInfo": {
     "elapsed": 6588,
     "status": "ok",
     "timestamp": 1727113005504,
     "user": {
      "displayName": "Pedro Schmalz",
      "userId": "07700592580926452057"
     },
     "user_tz": 180
    },
    "id": "CHcf64MtoAXu",
    "outputId": "317b3cdc-6969-439e-ccc0-04712c15cefd"
   },
   "outputs": [
    {
     "name": "stderr",
     "output_type": "stream",
     "text": [
      "c:\\ProgramData\\anaconda3\\Lib\\site-packages\\openpyxl\\styles\\stylesheet.py:237: UserWarning: Workbook contains no default style, apply openpyxl's default\n",
      "  warn(\"Workbook contains no default style, apply openpyxl's default\")\n"
     ]
    },
    {
     "data": {
      "text/html": [
       "<div>\n",
       "<style scoped>\n",
       "    .dataframe tbody tr th:only-of-type {\n",
       "        vertical-align: middle;\n",
       "    }\n",
       "\n",
       "    .dataframe tbody tr th {\n",
       "        vertical-align: top;\n",
       "    }\n",
       "\n",
       "    .dataframe thead th {\n",
       "        text-align: right;\n",
       "    }\n",
       "</style>\n",
       "<table border=\"1\" class=\"dataframe\">\n",
       "  <thead>\n",
       "    <tr style=\"text-align: right;\">\n",
       "      <th></th>\n",
       "      <th>Unnamed: 0</th>\n",
       "      <th>default</th>\n",
       "      <th>student</th>\n",
       "      <th>balance</th>\n",
       "      <th>income</th>\n",
       "    </tr>\n",
       "  </thead>\n",
       "  <tbody>\n",
       "    <tr>\n",
       "      <th>0</th>\n",
       "      <td>1</td>\n",
       "      <td>No</td>\n",
       "      <td>No</td>\n",
       "      <td>729.526495</td>\n",
       "      <td>44361.625074</td>\n",
       "    </tr>\n",
       "    <tr>\n",
       "      <th>1</th>\n",
       "      <td>2</td>\n",
       "      <td>No</td>\n",
       "      <td>Yes</td>\n",
       "      <td>817.180407</td>\n",
       "      <td>12106.134700</td>\n",
       "    </tr>\n",
       "    <tr>\n",
       "      <th>2</th>\n",
       "      <td>3</td>\n",
       "      <td>No</td>\n",
       "      <td>No</td>\n",
       "      <td>1073.549164</td>\n",
       "      <td>31767.138947</td>\n",
       "    </tr>\n",
       "    <tr>\n",
       "      <th>3</th>\n",
       "      <td>4</td>\n",
       "      <td>No</td>\n",
       "      <td>No</td>\n",
       "      <td>529.250605</td>\n",
       "      <td>35704.493935</td>\n",
       "    </tr>\n",
       "    <tr>\n",
       "      <th>4</th>\n",
       "      <td>5</td>\n",
       "      <td>No</td>\n",
       "      <td>No</td>\n",
       "      <td>785.655883</td>\n",
       "      <td>38463.495879</td>\n",
       "    </tr>\n",
       "  </tbody>\n",
       "</table>\n",
       "</div>"
      ],
      "text/plain": [
       "   Unnamed: 0 default student      balance        income\n",
       "0           1      No      No   729.526495  44361.625074\n",
       "1           2      No     Yes   817.180407  12106.134700\n",
       "2           3      No      No  1073.549164  31767.138947\n",
       "3           4      No      No   529.250605  35704.493935\n",
       "4           5      No      No   785.655883  38463.495879"
      ]
     },
     "execution_count": 1,
     "metadata": {},
     "output_type": "execute_result"
    }
   ],
   "source": [
    "import pandas as pd\n",
    "\n",
    "# URL do arquivo Excel raw no GitHub\n",
    "url = \"https://github.com/JWarmenhoven/ISLR-python/raw/master/Notebooks/Data/Default.xlsx\"\n",
    "\n",
    "# Carrega o arquivo Excel em um DataFrame\n",
    "df = pd.read_excel(url)\n",
    "\n",
    "df.head()"
   ]
  },
  {
   "cell_type": "markdown",
   "metadata": {
    "id": "dmBt9G0xoXIh"
   },
   "source": [
    "Temos os seguintes dados: Se a pessoa é estudante ou não (*student*), seu saldo no cartão de crédito (*balance*) e sua renda (*income*). A coluna de interesse é a \"default\", isto é, se a pessoa é ou não devedora/inadimplente. Primeiro, vamos explorar um pouco o banco de dados"
   ]
  },
  {
   "cell_type": "code",
   "execution_count": 2,
   "metadata": {
    "colab": {
     "base_uri": "https://localhost:8080/",
     "height": 564
    },
    "executionInfo": {
     "elapsed": 4030,
     "status": "ok",
     "timestamp": 1727113014273,
     "user": {
      "displayName": "Pedro Schmalz",
      "userId": "07700592580926452057"
     },
     "user_tz": 180
    },
    "id": "4xidALqfpKzO",
    "outputId": "ec12006f-f18a-4173-ba25-512dbef95167"
   },
   "outputs": [
    {
     "data": {
      "image/png": "[encoded data removed]",
      "text/plain": [
       "<Figure size 800x600 with 1 Axes>"
      ]
     },
     "metadata": {},
     "output_type": "display_data"
    }
   ],
   "source": [
    "import matplotlib.pyplot as plt\n",
    "import seaborn as sns\n",
    "\n",
    "# Crie um boxplot do saldo agrupado por estudante usando o Seaborn\n",
    "plt.figure(figsize=(8, 6))\n",
    "sns.boxplot(data=df, x='student', y='balance')\n",
    "plt.title('Saldo por Status (Student)')\n",
    "plt.xlabel('Estudante')\n",
    "plt.ylabel('Saldo')\n",
    "plt.show()"
   ]
  },
  {
   "cell_type": "markdown",
   "metadata": {
    "id": "0xMVAKyZp5bL"
   },
   "source": [
    "A mediana de saldo no cartão de crédito dos estudantes é um pouco maior do que o do resto, e no geral também apresentam maior variação. Vamos ver também a renda desses grupos:"
   ]
  },
  {
   "cell_type": "code",
   "execution_count": 3,
   "metadata": {
    "colab": {
     "base_uri": "https://localhost:8080/",
     "height": 564
    },
    "executionInfo": {
     "elapsed": 1867,
     "status": "ok",
     "timestamp": 1727113022133,
     "user": {
      "displayName": "Pedro Schmalz",
      "userId": "07700592580926452057"
     },
     "user_tz": 180
    },
    "id": "vkzPMdh2qne0",
    "outputId": "236aa172-277e-442b-a948-268a0b6cad9f"
   },
   "outputs": [
    {
     "data": {
      "image/png": "[encoded data removed]",
      "text/plain": [
       "<Figure size 800x600 with 1 Axes>"
      ]
     },
     "metadata": {},
     "output_type": "display_data"
    }
   ],
   "source": [
    "# Crie um boxplot da renda agrupado por estudante usando o Seaborn\n",
    "plt.figure(figsize=(8, 6))\n",
    "sns.boxplot(data=df, x='student', y='income')\n",
    "plt.title('Renda por Status (Student)')\n",
    "plt.xlabel('Estudante')\n",
    "plt.ylabel('Renda')\n",
    "plt.show()"
   ]
  },
  {
   "cell_type": "markdown",
   "metadata": {
    "id": "0lGyyUsYqtlY"
   },
   "source": [
    "Na renda, a diferença entre os grupos é ainda maior. Percebe-se que incluir essa variável no modelo é importante. Vamos olhar também a correlação entre as colunas de renda e balance:\n",
    "\n",
    "\n"
   ]
  },
  {
   "cell_type": "code",
   "execution_count": 4,
   "metadata": {
    "colab": {
     "base_uri": "https://localhost:8080/"
    },
    "executionInfo": {
     "elapsed": 321,
     "status": "ok",
     "timestamp": 1727113027045,
     "user": {
      "displayName": "Pedro Schmalz",
      "userId": "07700592580926452057"
     },
     "user_tz": 180
    },
    "id": "bqmCuF4hsdSN",
    "outputId": "df9741df-3792-47f6-9b11-ee945e265bfc"
   },
   "outputs": [
    {
     "name": "stdout",
     "output_type": "stream",
     "text": [
      "Correlação entre 'income' e 'balance': -0.15224340058606683\n"
     ]
    }
   ],
   "source": [
    "correlation = df['income'].corr(df['balance'])\n",
    "\n",
    "print(f\"Correlação entre 'income' e 'balance': {correlation}\")"
   ]
  },
  {
   "cell_type": "markdown",
   "metadata": {
    "id": "uPBmBN9ysqsS"
   },
   "source": [
    "Parece haver uma correlação negativa entre essas duas colunas: aqueles que possuem maior income, terão menor balance, e vice versa. Por fim, uma coisa que sempre é importante verificar antes de partir para a utilização de modelos de aprendizado de máquina é entender a distribuição da sua variável de interesse (neste caso, quem é ou não inadimplente)."
   ]
  },
  {
   "cell_type": "code",
   "execution_count": 5,
   "metadata": {
    "colab": {
     "base_uri": "https://localhost:8080/",
     "height": 573
    },
    "executionInfo": {
     "elapsed": 853,
     "status": "ok",
     "timestamp": 1727113030807,
     "user": {
      "displayName": "Pedro Schmalz",
      "userId": "07700592580926452057"
     },
     "user_tz": 180
    },
    "id": "iywEaTy3oOoH",
    "outputId": "9e95ea8d-d1f8-4788-f19c-ce970b3be048"
   },
   "outputs": [
    {
     "data": {
      "image/png": "[encoded data removed]",
      "text/plain": [
       "<Figure size 800x600 with 1 Axes>"
      ]
     },
     "metadata": {},
     "output_type": "display_data"
    }
   ],
   "source": [
    "import seaborn as sns\n",
    "\n",
    "custom_params = {\"axes.spines.right\": False, \"axes.spines.top\": False}\n",
    "sns.set_theme(style=\"ticks\", rc=custom_params)\n",
    "\n",
    "# Crie o gráfico de barras usando Seaborn\n",
    "plt.figure(figsize=(8, 6))  # Ajuste o tamanho da figura se necessário\n",
    "\n",
    "# Countplot (Seaborn)\n",
    "ax = sns.countplot(x='default', data=df)\n",
    "ax.bar_label(ax.containers[0])\n",
    "\n",
    "plt.ylabel(\"Frequência\")\n",
    "plt.xlabel(\"Classe\")\n",
    "plt.title(\"Distribuição de observações entre as classes\")\n",
    "\n",
    "# Mostre o gráfico\n",
    "plt.show()"
   ]
  },
  {
   "cell_type": "markdown",
   "metadata": {
    "id": "6bv39ofPsk51"
   },
   "source": [
    "Aqui vemos que há um grande desbalanceamento entre as classes. De acordo com o que foi discutido na aula, podemos esperar, com base no pequeno número de observações que são de fato inadimplentes, que o modelo não performará tão bem na classificação de observações desta classe, dado que é minoritária."
   ]
  },
  {
   "cell_type": "markdown",
   "metadata": {
    "id": "nGfKSyfnq8EJ"
   },
   "source": [
    "#### Regressão Logística\n",
    "\n",
    "O modelo de regressão logística é uma técnica de aprendizado de máquina que é usada principalmente para tarefas de classificação. Vamos explicá-lo de maneira simples:\n",
    "\n",
    "A regressão logística, no banco de dados atual, vai procurar prever se determinado indivíduo é ou não um possível devedor com base nas três características presentes. De forma elencada, temos:\n",
    "\n",
    "* Variável Dependente (Ou *target*) : A coisa que você deseja prever é chamada de variável dependente ou variável-alvo (target). Neste caso, é a inadimplência.\n",
    "\n",
    "* Variáveis Independentes (*features*): As características das pessoas que você usa para fazer a previsão são chamadas de variáveis independentes ou características (*features*), no contexto de machine learning.\n",
    "\n",
    "* Função Logística: A regressão logística usa uma função logística, que é uma curva com forma de \"S\", para transformar a combinação das características em uma probabilidade. Essa probabilidade representa a chance de um evento ocorrer (inadimplência).\n",
    "\n",
    "* Treinamento: O modelo é treinado usando um conjunto de dados em que você já conhece as respostas (São ou não inadimplentes). O modelo ajusta seus parâmetros para se ajustar aos dados de treinamento e aprender a fazer previsões.\n",
    "\n",
    "* Limiar de Decisão: Você define um limiar (um valor) acima do qual o modelo prevê que o evento ocorrerá (por exemplo, comprar o produto). Se a probabilidade calculada estiver acima desse limiar, o modelo prevê \"sim\"; caso contrário, prevê \"não\"."
   ]
  },
  {
   "cell_type": "markdown",
   "metadata": {
    "id": "NKgYRNehskQj"
   },
   "source": [
    "Em resumo, a regressão logística é usada para prever a probabilidade de um evento binário (duas opções, como \"sim\" ou \"não\") com base em características. É uma ferramenta valiosa para tarefas de classificação, como previsão de compras, detecção de spam de e-mail e muito mais. É chamada de \"logística\" porque usa a função logística para fazer essa previsão."
   ]
  },
  {
   "cell_type": "markdown",
   "metadata": {
    "id": "moCqBLt_sI-M"
   },
   "source": [
    "Vamos partir para o treinamento. Primeiro, precisamos importar alguns pacotes:"
   ]
  },
  {
   "cell_type": "code",
   "execution_count": 6,
   "metadata": {
    "executionInfo": {
     "elapsed": 3082,
     "status": "ok",
     "timestamp": 1727113041261,
     "user": {
      "displayName": "Pedro Schmalz",
      "userId": "07700592580926452057"
     },
     "user_tz": 180
    },
    "id": "UNNlysXWtH5O"
   },
   "outputs": [],
   "source": [
    "import statsmodels.api as sm # Biblioteca de modelos estatísticos\n",
    "from sklearn.linear_model import LogisticRegression # Modelo de regressão logística do sklearn\n",
    "from sklearn.model_selection import train_test_split # Função para dividir o banco entre treino e teste\n",
    "from sklearn.metrics import accuracy_score, confusion_matrix, classification_report # Algumas métricas e relatórios"
   ]
  },
  {
   "cell_type": "markdown",
   "metadata": {
    "id": "F1kDKk-4tawE"
   },
   "source": [
    "Você pode encontrar uma lista de todos os modelos presentes no sklearn no seguinte [link](https://scikit-learn.org/stable/supervised_learning.html#supervised-learning). Vamos por partes:"
   ]
  },
  {
   "cell_type": "markdown",
   "metadata": {
    "id": "nyJCfvxqunTP"
   },
   "source": [
    "##### 1. *One-hot encoding*."
   ]
  },
  {
   "cell_type": "markdown",
   "metadata": {
    "id": "xObwTSC0uUAL"
   },
   "source": [
    "<p align=\"justify\"> O \"one-hot encoding\" é uma técnica importante no pré-processamento de dados, frequentemente usada em tarefas de aprendizado de máquina, especialmente quando lidamos com variáveis categóricas. A necessidade do \"one-hot encoding\" surge devido a diferenças na forma como os algoritmos de machine learning lidam com variáveis categóricas e numéricas. Vamos explicar essa necessidade em detalhes:\n",
    "\n",
    "* <p align=\"justify\"> Natureza das Variáveis Categóricas: Variáveis categóricas representam categorias ou grupos discretos de dados, como cores, tipos de veículos, estados civis, etc. Os algoritmos de machine learning, em sua maioria, operam com números e equações, e não têm a capacidade de interpretar diretamente variáveis categóricas. Portanto, é necessário transformar essas categorias em uma forma que os modelos possam compreender.\n",
    "\n",
    "* <p align=\"justify\"> Representação Numérica: Os modelos de machine learning funcionam melhor com variáveis numéricas. Quando se trata de variáveis categóricas, elas precisam ser codificadas de alguma forma para serem representadas numericamente. O \"one-hot encoding\" é uma das técnicas mais comuns para fazer essa codificação.\n",
    "\n",
    "* <p align=\"justify\"> Evitar Suposições Errôneas: Se você simplesmente atribuir números inteiros a categorias (por exemplo, 0 para \"vermelho\", 1 para \"verde\" e 2 para \"azul\"), os algoritmos podem erroneamente assumir que existe uma relação ordinal entre as categorias (ou seja, que \"azul\" é maior ou melhor do que \"verde\"). Isso pode levar a resultados incorretos.\n",
    "\n",
    "O \"one-hot encoding\" resolve esses problemas da seguinte maneira:\n",
    "\n",
    "* <p align=\"justify\"> Para cada categoria única em uma variável categórica, é criada uma nova coluna binária (0 ou 1) no conjunto de dados.\n",
    "\n",
    "* <p align=\"justify\"> Essas colunas binárias representam a presença (1) ou ausência (0) da categoria em cada observação de dados.\n",
    "\n",
    "* <p align=\"justify\"> Cada categoria é tratada de forma independente, eliminando qualquer suposição de ordem ou relação entre elas.\n",
    "\n",
    "<p align=\"justify\"> Por exemplo, se tivermos uma variável categórica \"cores\" com três categorias: \"vermelho\", \"verde\" e \"azul\", o \"one-hot encoding\" criaria três novas colunas, uma para cada cor, e marcaria as cores presentes em cada observação com 1 e as ausentes com 0.\n",
    "\n",
    "<p align=\"justify\"> Em resumo, a necessidade do \"one-hot encoding\" é garantir que as variáveis categóricas sejam representadas de forma adequada e sem ambiguidades, permitindo que os modelos de machine learning compreendam e usem essas informações de maneira eficaz durante o treinamento e a previsão."
   ]
  },
  {
   "cell_type": "code",
   "execution_count": 7,
   "metadata": {
    "colab": {
     "base_uri": "https://localhost:8080/",
     "height": 423
    },
    "executionInfo": {
     "elapsed": 427,
     "status": "ok",
     "timestamp": 1727120258600,
     "user": {
      "displayName": "Pedro Schmalz",
      "userId": "07700592580926452057"
     },
     "user_tz": 180
    },
    "id": "8wYGQhVUvVI9",
    "outputId": "4ae71da4-b848-4021-956a-2b6662a19172"
   },
   "outputs": [
    {
     "data": {
      "text/html": [
       "<div>\n",
       "<style scoped>\n",
       "    .dataframe tbody tr th:only-of-type {\n",
       "        vertical-align: middle;\n",
       "    }\n",
       "\n",
       "    .dataframe tbody tr th {\n",
       "        vertical-align: top;\n",
       "    }\n",
       "\n",
       "    .dataframe thead th {\n",
       "        text-align: right;\n",
       "    }\n",
       "</style>\n",
       "<table border=\"1\" class=\"dataframe\">\n",
       "  <thead>\n",
       "    <tr style=\"text-align: right;\">\n",
       "      <th></th>\n",
       "      <th>Unnamed: 0</th>\n",
       "      <th>balance</th>\n",
       "      <th>income</th>\n",
       "      <th>default_Yes</th>\n",
       "      <th>student_Yes</th>\n",
       "    </tr>\n",
       "  </thead>\n",
       "  <tbody>\n",
       "    <tr>\n",
       "      <th>0</th>\n",
       "      <td>1</td>\n",
       "      <td>729.526495</td>\n",
       "      <td>44361.625074</td>\n",
       "      <td>0</td>\n",
       "      <td>0</td>\n",
       "    </tr>\n",
       "    <tr>\n",
       "      <th>1</th>\n",
       "      <td>2</td>\n",
       "      <td>817.180407</td>\n",
       "      <td>12106.134700</td>\n",
       "      <td>0</td>\n",
       "      <td>1</td>\n",
       "    </tr>\n",
       "    <tr>\n",
       "      <th>2</th>\n",
       "      <td>3</td>\n",
       "      <td>1073.549164</td>\n",
       "      <td>31767.138947</td>\n",
       "      <td>0</td>\n",
       "      <td>0</td>\n",
       "    </tr>\n",
       "    <tr>\n",
       "      <th>3</th>\n",
       "      <td>4</td>\n",
       "      <td>529.250605</td>\n",
       "      <td>35704.493935</td>\n",
       "      <td>0</td>\n",
       "      <td>0</td>\n",
       "    </tr>\n",
       "    <tr>\n",
       "      <th>4</th>\n",
       "      <td>5</td>\n",
       "      <td>785.655883</td>\n",
       "      <td>38463.495879</td>\n",
       "      <td>0</td>\n",
       "      <td>0</td>\n",
       "    </tr>\n",
       "    <tr>\n",
       "      <th>...</th>\n",
       "      <td>...</td>\n",
       "      <td>...</td>\n",
       "      <td>...</td>\n",
       "      <td>...</td>\n",
       "      <td>...</td>\n",
       "    </tr>\n",
       "    <tr>\n",
       "      <th>9995</th>\n",
       "      <td>9996</td>\n",
       "      <td>711.555020</td>\n",
       "      <td>52992.378914</td>\n",
       "      <td>0</td>\n",
       "      <td>0</td>\n",
       "    </tr>\n",
       "    <tr>\n",
       "      <th>9996</th>\n",
       "      <td>9997</td>\n",
       "      <td>757.962918</td>\n",
       "      <td>19660.721768</td>\n",
       "      <td>0</td>\n",
       "      <td>0</td>\n",
       "    </tr>\n",
       "    <tr>\n",
       "      <th>9997</th>\n",
       "      <td>9998</td>\n",
       "      <td>845.411989</td>\n",
       "      <td>58636.156984</td>\n",
       "      <td>0</td>\n",
       "      <td>0</td>\n",
       "    </tr>\n",
       "    <tr>\n",
       "      <th>9998</th>\n",
       "      <td>9999</td>\n",
       "      <td>1569.009053</td>\n",
       "      <td>36669.112365</td>\n",
       "      <td>0</td>\n",
       "      <td>0</td>\n",
       "    </tr>\n",
       "    <tr>\n",
       "      <th>9999</th>\n",
       "      <td>10000</td>\n",
       "      <td>200.922183</td>\n",
       "      <td>16862.952321</td>\n",
       "      <td>0</td>\n",
       "      <td>1</td>\n",
       "    </tr>\n",
       "  </tbody>\n",
       "</table>\n",
       "<p>10000 rows × 5 columns</p>\n",
       "</div>"
      ],
      "text/plain": [
       "      Unnamed: 0      balance        income  default_Yes  student_Yes\n",
       "0              1   729.526495  44361.625074            0            0\n",
       "1              2   817.180407  12106.134700            0            1\n",
       "2              3  1073.549164  31767.138947            0            0\n",
       "3              4   529.250605  35704.493935            0            0\n",
       "4              5   785.655883  38463.495879            0            0\n",
       "...          ...          ...           ...          ...          ...\n",
       "9995        9996   711.555020  52992.378914            0            0\n",
       "9996        9997   757.962918  19660.721768            0            0\n",
       "9997        9998   845.411989  58636.156984            0            0\n",
       "9998        9999  1569.009053  36669.112365            0            0\n",
       "9999       10000   200.922183  16862.952321            0            1\n",
       "\n",
       "[10000 rows x 5 columns]"
      ]
     },
     "execution_count": 7,
     "metadata": {},
     "output_type": "execute_result"
    }
   ],
   "source": [
    "# Converte as variáveis categóricas em numéricas usando codificação one-hot\n",
    "df_encoded = pd.get_dummies(df, columns=['default', 'student'],\n",
    "                            drop_first=True,\n",
    "                            dtype=int) # Precisamos dos valores em 0 e 1\n",
    "\n",
    "\n",
    "df_encoded"
   ]
  },
  {
   "cell_type": "markdown",
   "metadata": {
    "id": "uOcAxtgQm3Dl"
   },
   "source": [
    "##### 2. Separar Target e Features"
   ]
  },
  {
   "cell_type": "markdown",
   "metadata": {
    "id": "ZJlvHjdLYfiK"
   },
   "source": [
    "Geralmente, não se utiliza as informações na forma direta do dataframe do pandas. Precisamos pegar as colunas do dataframe e separá-las entre o nosso y (ou target, ou variável de interesse) e um vetor com todas nossas variáveis que serão utilizadas na predição (features, ou variáveis independentes)."
   ]
  },
  {
   "cell_type": "code",
   "execution_count": 8,
   "metadata": {
    "executionInfo": {
     "elapsed": 326,
     "status": "ok",
     "timestamp": 1727120294717,
     "user": {
      "displayName": "Pedro Schmalz",
      "userId": "07700592580926452057"
     },
     "user_tz": 180
    },
    "id": "FanEiNFqvTpe"
   },
   "outputs": [],
   "source": [
    "# Divide os dados em features (X) e target (y)\n",
    "X = df_encoded[['balance', 'income', 'student_Yes']]\n",
    "y = df_encoded['default_Yes']"
   ]
  },
  {
   "cell_type": "markdown",
   "metadata": {
    "id": "d_iiAwLUqhIP"
   },
   "source": [
    "Vou explicar o código linha por linha:\n",
    "\n",
    "* X = df_encoded[['balance', 'income', 'student_Yes']]:\n",
    "\n",
    "Nesta linha, está sendo criada uma variável X, que representa as features (ou características) que serão usadas para treinar o nosso modelo de machine learning.\n",
    "\n",
    "* y = df_encoded['default_Yes']:\n",
    "\n",
    "Nesta linha, está sendo criada uma variável y, que representa o target (ou rótulo) que o modelo de machine learning tentará prever. df_encoded é o DataFrame que contém os dados originais.\n",
    "\n",
    "Em resumo, este código separa as features (X), que são 'balance', 'income' e 'student_Yes', e o target (y), que é 'default_Yes', do DataFrame df_encoded. Essas features serão usadas para treinar um modelo de machine learning que tentará prever se um cliente será inadimplente com base nas informações fornecidas nas features."
   ]
  },
  {
   "cell_type": "markdown",
   "metadata": {
    "id": "fJr4rlgzs3Yi"
   },
   "source": [
    "##### Regressão Logística (STATSMODELS)"
   ]
  },
  {
   "cell_type": "markdown",
   "metadata": {
    "id": "kPHo7BXttCjS"
   },
   "source": [
    "Antes de continuarmos para o modelo de regressão logística do Sci-Kit Learn (sklearn), vamos ver os resultados desse modelo no statsmodels, que é mais voltado para a inferência estatística. Vamos rodar uma regressão logística com 'default_YES' como variável dependente e 'balance', 'income' e 'student_Yes' como variáveis independentes (ou explicativas)."
   ]
  },
  {
   "cell_type": "code",
   "execution_count": 9,
   "metadata": {
    "colab": {
     "base_uri": "https://localhost:8080/"
    },
    "executionInfo": {
     "elapsed": 310,
     "status": "ok",
     "timestamp": 1727120296333,
     "user": {
      "displayName": "Pedro Schmalz",
      "userId": "07700592580926452057"
     },
     "user_tz": 180
    },
    "id": "Wrsimk9ytOO7",
    "outputId": "cfca0ad8-f869-4f5e-9808-868156c2553f"
   },
   "outputs": [
    {
     "name": "stdout",
     "output_type": "stream",
     "text": [
      "Optimization terminated successfully.\n",
      "         Current function value: 0.078577\n",
      "         Iterations 10\n",
      "                           Logit Regression Results                           \n",
      "==============================================================================\n",
      "Dep. Variable:            default_Yes   No. Observations:                10000\n",
      "Model:                          Logit   Df Residuals:                     9996\n",
      "Method:                           MLE   Df Model:                            3\n",
      "Date:                Sun, 14 Sep 2025   Pseudo R-squ.:                  0.4619\n",
      "Time:                        16:44:29   Log-Likelihood:                -785.77\n",
      "converged:                       True   LL-Null:                       -1460.3\n",
      "Covariance Type:            nonrobust   LLR p-value:                3.257e-292\n",
      "===============================================================================\n",
      "                  coef    std err          z      P>|z|      [0.025      0.975]\n",
      "-------------------------------------------------------------------------------\n",
      "Intercept     -10.8690      0.492    -22.079      0.000     -11.834      -9.904\n",
      "balance         0.0057      0.000     24.737      0.000       0.005       0.006\n",
      "income       3.033e-06    8.2e-06      0.370      0.712    -1.3e-05    1.91e-05\n",
      "student_Yes    -0.6468      0.236     -2.738      0.006      -1.110      -0.184\n",
      "===============================================================================\n",
      "\n",
      "Possibly complete quasi-separation: A fraction 0.15 of observations can be\n",
      "perfectly predicted. This might indicate that there is complete\n",
      "quasi-separation. In this case some parameters will not be identified.\n"
     ]
    }
   ],
   "source": [
    "import statsmodels.formula.api as smf\n",
    "\n",
    "# Definindo o modelo da forma default_Yes = balance + income + student_Yes\n",
    "model = smf.logit('default_Yes ~ balance + income + student_Yes', data=df_encoded).fit()\n",
    "\n",
    "# Imprimindo o resultado\n",
    "print(model.summary())\n",
    "\n"
   ]
  },
  {
   "cell_type": "markdown",
   "metadata": {
    "id": "Sg7pBPbIvCbH"
   },
   "source": [
    "Olhando para os p-valores dos coeficientes, vemos que renda ('income') não é estatisticamente significante para explicar quem pode ser inadimplente. No entanto, vemos que o saldo no cartão de crédito ('balance') e ser um estudante ('student_Yes') são estatisticamente significantes, com efeitos em direções contrárias. Ser um estudante reduz a chance de inadimplência, e quanto maior o saldo do cartão de crédito, maior a chance de inadimplência. Agora, continuemos com o treinamento do modelo, dividindo o banco entre os dados de treinamento e os dados de teste (ou de avaliação do modelo)."
   ]
  },
  {
   "cell_type": "markdown",
   "metadata": {
    "id": "eVuYeSQmve1u"
   },
   "source": [
    "##### 3. Divisão entre Treino e Teste"
   ]
  },
  {
   "cell_type": "markdown",
   "metadata": {
    "id": "L9OPLPElYb-S"
   },
   "source": [
    "A divisão de dados entre dados de treino e dados de teste é uma prática fundamental em machine learning para avaliar o desempenho de um modelo de forma objetiva e verificar sua capacidade de generalização. Essa divisão ajuda a garantir que o modelo não esteja apenas memorizando os dados de treino, mas também seja capaz de fazer previsões precisas em novos dados não vistos. Aqui está uma explicação detalhada do processo:\n",
    "\n",
    "* Conjunto de Dados Inicial: Primeiramente, você começa com um conjunto de dados que contém exemplos de treinamento, que são usados para treinar o modelo, e exemplos de teste, que são usados para avaliar o desempenho do modelo. O conjunto de dados pode ser dividido em três partes: treino, validação e teste, mas aqui vamos nos concentrar na divisão entre treino e teste.\n",
    "\n",
    "* Divisão Aleatória: Os dados são divididos aleatoriamente em duas partes distintas: o conjunto de treinamento e o conjunto de teste. A divisão aleatória ajuda a garantir que os dados de treinamento e teste sejam representativos do conjunto de dados completo.\n",
    "\n",
    "* Dados de Treinamento: O conjunto de treinamento é usado para alimentar o modelo durante o processo de treinamento. O modelo aprende com esses dados, ajustando seus parâmetros ou pesos para fazer previsões com base nas características dos exemplos de treinamento.\n",
    "\n",
    "* Dados de Teste: O conjunto de teste é reservado exclusivamente para avaliar o desempenho do modelo após o treinamento. O modelo não vê esses dados durante o treinamento; portanto, são dados não vistos. Isso é crucial para medir como o modelo generaliza para novos dados.\n",
    "\n",
    "* Avaliação do Modelo: Após treinar o modelo, ele é testado usando os dados de teste. As previsões do modelo são comparadas com os valores reais (rótulos) dos exemplos de teste. As métricas de avaliação, como precisão, recall, F1-score, matriz de confusão, entre outras, são calculadas com base nessa comparação.\n",
    "\n",
    "* Ajuste e Otimização: Com base no desempenho do modelo nos dados de teste, você pode fazer ajustes e otimizações no modelo, se necessário. Isso pode incluir a seleção de hiperparâmetros, engenharia de características (feature engineering) e escolha de algoritmos diferentes.\n",
    "\n",
    "* Validação Cruzada: Além dessa divisão em treino e teste, a validação cruzada (cross-validation) é outra técnica comum que pode ser usada para avaliar o desempenho do modelo de forma mais robusta, principalmente quando o conjunto de dados é pequeno. A validação cruzada divide os dados em várias dobras (folds) e executa várias iterações de treinamento e teste, produzindo métricas de avaliação médias mais confiáveis. Na próxima aula veremos mais sobre como fazer validação cruzada.\n",
    "\n",
    "A divisão de dados entre treino e teste é uma parte crucial do processo de aprendizado de máquina, pois ajuda a evitar o overfitting (o modelo se ajustar demais aos dados de treinamento) e permite uma avaliação justa do desempenho do modelo em dados não vistos. É importante escolher uma divisão adequada e representativa dos dados e garantir que ela seja feita de forma aleatória para resultados mais confiáveis."
   ]
  },
  {
   "cell_type": "markdown",
   "metadata": {
    "id": "FR7bLrY3rt-H"
   },
   "source": [
    "Agora, vamos separar o banco de dados em quatro vetores:\n",
    "\n",
    "* o **X_treino**, que contém as features que serão usadas no treinamento;\n",
    "\n",
    "* o **X_teste**, que deixamos separado para que depois o modelo seja capaz de prever as classes das observações no banco de teste;\n",
    "\n",
    "* O **y_treino**, que será usado para que o modelo aprenda a relacionar as features com as classes;\n",
    "\n",
    "* O **y_teste** que será utilizado para calcular as métricas de avaliação do modelo (precisão, recall, f1-score, etc.)"
   ]
  },
  {
   "cell_type": "code",
   "execution_count": 10,
   "metadata": {
    "colab": {
     "base_uri": "https://localhost:8080/"
    },
    "executionInfo": {
     "elapsed": 326,
     "status": "ok",
     "timestamp": 1727120558510,
     "user": {
      "displayName": "Pedro Schmalz",
      "userId": "07700592580926452057"
     },
     "user_tz": 180
    },
    "id": "nL4YZ1rIvhA6",
    "outputId": "c291833a-b537-48dd-8657-21dd9dd7c23e"
   },
   "outputs": [
    {
     "name": "stdout",
     "output_type": "stream",
     "text": [
      "          balance        income  student_Yes\n",
      "9254  1018.568130  34103.879520            0\n",
      "1561    62.170050  28660.747508            0\n",
      "1670  1046.743543  40822.447413            0\n",
      "6087   763.735280  44125.718725            0\n",
      "6669   697.248633  25730.917583            1\n",
      "...           ...           ...          ...\n",
      "5734   865.697004  33541.046380            0\n",
      "5191   493.629546  20500.212632            1\n",
      "5390   722.029162  26984.256287            0\n",
      "860    163.939823  21083.004510            1\n",
      "7270   637.338107  49657.394282            0\n",
      "\n",
      "[8000 rows x 3 columns]\n"
     ]
    }
   ],
   "source": [
    "# Desempacotando cada parte com o train_test_split\n",
    "\n",
    "X_treino, X_teste, y_treino, y_teste = train_test_split(X, # Vetor de variáveis explicativas\n",
    "                                                        y, # Target (Ou Var. Dep.)\n",
    "                                                        test_size=0.2, # Porcentagem que vai ficar para teste (20%)\n",
    "                                                        random_state=42) # Seed para garantir a estabilidade dos resultados\n",
    "\n",
    "print(X_treino)"
   ]
  },
  {
   "cell_type": "code",
   "execution_count": 11,
   "metadata": {
    "colab": {
     "base_uri": "https://localhost:8080/"
    },
    "executionInfo": {
     "elapsed": 2,
     "status": "ok",
     "timestamp": 1727120558898,
     "user": {
      "displayName": "Pedro Schmalz",
      "userId": "07700592580926452057"
     },
     "user_tz": 180
    },
    "id": "2-sSpPXUwNEF",
    "outputId": "662e95ef-f167-495e-9584-5e8fdbe9a439"
   },
   "outputs": [
    {
     "name": "stdout",
     "output_type": "stream",
     "text": [
      "9254    0\n",
      "1561    0\n",
      "1670    0\n",
      "6087    0\n",
      "6669    0\n",
      "       ..\n",
      "5734    0\n",
      "5191    0\n",
      "5390    0\n",
      "860     0\n",
      "7270    0\n",
      "Name: default_Yes, Length: 8000, dtype: int32\n"
     ]
    }
   ],
   "source": [
    "print(y_treino)"
   ]
  },
  {
   "cell_type": "code",
   "execution_count": 12,
   "metadata": {
    "colab": {
     "base_uri": "https://localhost:8080/",
     "height": 178
    },
    "executionInfo": {
     "elapsed": 311,
     "status": "ok",
     "timestamp": 1727121026856,
     "user": {
      "displayName": "Pedro Schmalz",
      "userId": "07700592580926452057"
     },
     "user_tz": 180
    },
    "id": "YrXvpydhb0QR",
    "outputId": "f55c599b-66cf-49d4-f568-47f23f9a1cf1"
   },
   "outputs": [
    {
     "data": {
      "text/plain": [
       "default_Yes\n",
       "0    7736\n",
       "1     264\n",
       "Name: count, dtype: int64"
      ]
     },
     "execution_count": 12,
     "metadata": {},
     "output_type": "execute_result"
    }
   ],
   "source": [
    "y_treino.value_counts()"
   ]
  },
  {
   "cell_type": "code",
   "execution_count": 13,
   "metadata": {
    "colab": {
     "base_uri": "https://localhost:8080/",
     "height": 178
    },
    "executionInfo": {
     "elapsed": 325,
     "status": "ok",
     "timestamp": 1727121036037,
     "user": {
      "displayName": "Pedro Schmalz",
      "userId": "07700592580926452057"
     },
     "user_tz": 180
    },
    "id": "a8fBoZTib3XR",
    "outputId": "ea0ba053-6b14-4ccb-c6cc-2b871f6f0a20"
   },
   "outputs": [
    {
     "data": {
      "text/plain": [
       "default_Yes\n",
       "0    1931\n",
       "1      69\n",
       "Name: count, dtype: int64"
      ]
     },
     "execution_count": 13,
     "metadata": {},
     "output_type": "execute_result"
    }
   ],
   "source": [
    "y_teste.value_counts()"
   ]
  },
  {
   "cell_type": "code",
   "execution_count": 14,
   "metadata": {
    "colab": {
     "base_uri": "https://localhost:8080/",
     "height": 300
    },
    "executionInfo": {
     "elapsed": 315,
     "status": "ok",
     "timestamp": 1727121167366,
     "user": {
      "displayName": "Pedro Schmalz",
      "userId": "07700592580926452057"
     },
     "user_tz": 180
    },
    "id": "PxYnJSKOcWyC",
    "outputId": "8f53f073-e800-4d75-8abb-06a129aeae5e"
   },
   "outputs": [
    {
     "data": {
      "text/html": [
       "<div>\n",
       "<style scoped>\n",
       "    .dataframe tbody tr th:only-of-type {\n",
       "        vertical-align: middle;\n",
       "    }\n",
       "\n",
       "    .dataframe tbody tr th {\n",
       "        vertical-align: top;\n",
       "    }\n",
       "\n",
       "    .dataframe thead th {\n",
       "        text-align: right;\n",
       "    }\n",
       "</style>\n",
       "<table border=\"1\" class=\"dataframe\">\n",
       "  <thead>\n",
       "    <tr style=\"text-align: right;\">\n",
       "      <th></th>\n",
       "      <th>balance</th>\n",
       "      <th>income</th>\n",
       "      <th>student_Yes</th>\n",
       "    </tr>\n",
       "  </thead>\n",
       "  <tbody>\n",
       "    <tr>\n",
       "      <th>count</th>\n",
       "      <td>8000.000000</td>\n",
       "      <td>8000.000000</td>\n",
       "      <td>8000.000000</td>\n",
       "    </tr>\n",
       "    <tr>\n",
       "      <th>mean</th>\n",
       "      <td>833.827733</td>\n",
       "      <td>33605.430833</td>\n",
       "      <td>0.293875</td>\n",
       "    </tr>\n",
       "    <tr>\n",
       "      <th>std</th>\n",
       "      <td>484.808604</td>\n",
       "      <td>13361.281261</td>\n",
       "      <td>0.455564</td>\n",
       "    </tr>\n",
       "    <tr>\n",
       "      <th>min</th>\n",
       "      <td>0.000000</td>\n",
       "      <td>771.967729</td>\n",
       "      <td>0.000000</td>\n",
       "    </tr>\n",
       "    <tr>\n",
       "      <th>25%</th>\n",
       "      <td>479.420245</td>\n",
       "      <td>21342.646949</td>\n",
       "      <td>0.000000</td>\n",
       "    </tr>\n",
       "    <tr>\n",
       "      <th>50%</th>\n",
       "      <td>819.112203</td>\n",
       "      <td>34700.730963</td>\n",
       "      <td>0.000000</td>\n",
       "    </tr>\n",
       "    <tr>\n",
       "      <th>75%</th>\n",
       "      <td>1163.473028</td>\n",
       "      <td>43927.646398</td>\n",
       "      <td>1.000000</td>\n",
       "    </tr>\n",
       "    <tr>\n",
       "      <th>max</th>\n",
       "      <td>2654.322576</td>\n",
       "      <td>73554.233495</td>\n",
       "      <td>1.000000</td>\n",
       "    </tr>\n",
       "  </tbody>\n",
       "</table>\n",
       "</div>"
      ],
      "text/plain": [
       "           balance        income  student_Yes\n",
       "count  8000.000000   8000.000000  8000.000000\n",
       "mean    833.827733  33605.430833     0.293875\n",
       "std     484.808604  13361.281261     0.455564\n",
       "min       0.000000    771.967729     0.000000\n",
       "25%     479.420245  21342.646949     0.000000\n",
       "50%     819.112203  34700.730963     0.000000\n",
       "75%    1163.473028  43927.646398     1.000000\n",
       "max    2654.322576  73554.233495     1.000000"
      ]
     },
     "execution_count": 14,
     "metadata": {},
     "output_type": "execute_result"
    }
   ],
   "source": [
    "X_treino.describe()"
   ]
  },
  {
   "cell_type": "code",
   "execution_count": 15,
   "metadata": {
    "colab": {
     "base_uri": "https://localhost:8080/",
     "height": 300
    },
    "executionInfo": {
     "elapsed": 312,
     "status": "ok",
     "timestamp": 1727121176805,
     "user": {
      "displayName": "Pedro Schmalz",
      "userId": "07700592580926452057"
     },
     "user_tz": 180
    },
    "id": "bpx6iLYIcZ3J",
    "outputId": "86ea112b-7004-44af-bc24-7b36a3410728"
   },
   "outputs": [
    {
     "data": {
      "text/html": [
       "<div>\n",
       "<style scoped>\n",
       "    .dataframe tbody tr th:only-of-type {\n",
       "        vertical-align: middle;\n",
       "    }\n",
       "\n",
       "    .dataframe tbody tr th {\n",
       "        vertical-align: top;\n",
       "    }\n",
       "\n",
       "    .dataframe thead th {\n",
       "        text-align: right;\n",
       "    }\n",
       "</style>\n",
       "<table border=\"1\" class=\"dataframe\">\n",
       "  <thead>\n",
       "    <tr style=\"text-align: right;\">\n",
       "      <th></th>\n",
       "      <th>balance</th>\n",
       "      <th>income</th>\n",
       "      <th>student_Yes</th>\n",
       "    </tr>\n",
       "  </thead>\n",
       "  <tbody>\n",
       "    <tr>\n",
       "      <th>count</th>\n",
       "      <td>2000.000000</td>\n",
       "      <td>2000.000000</td>\n",
       "      <td>2000.000000</td>\n",
       "    </tr>\n",
       "    <tr>\n",
       "      <th>mean</th>\n",
       "      <td>841.563498</td>\n",
       "      <td>33163.186048</td>\n",
       "      <td>0.296500</td>\n",
       "    </tr>\n",
       "    <tr>\n",
       "      <th>std</th>\n",
       "      <td>479.386029</td>\n",
       "      <td>13235.024515</td>\n",
       "      <td>0.456828</td>\n",
       "    </tr>\n",
       "    <tr>\n",
       "      <th>min</th>\n",
       "      <td>0.000000</td>\n",
       "      <td>4755.252190</td>\n",
       "      <td>0.000000</td>\n",
       "    </tr>\n",
       "    <tr>\n",
       "      <th>25%</th>\n",
       "      <td>489.668247</td>\n",
       "      <td>21294.825546</td>\n",
       "      <td>0.000000</td>\n",
       "    </tr>\n",
       "    <tr>\n",
       "      <th>50%</th>\n",
       "      <td>833.611542</td>\n",
       "      <td>33783.763601</td>\n",
       "      <td>0.000000</td>\n",
       "    </tr>\n",
       "    <tr>\n",
       "      <th>75%</th>\n",
       "      <td>1174.835230</td>\n",
       "      <td>43236.257965</td>\n",
       "      <td>1.000000</td>\n",
       "    </tr>\n",
       "    <tr>\n",
       "      <th>max</th>\n",
       "      <td>2391.007739</td>\n",
       "      <td>69342.672480</td>\n",
       "      <td>1.000000</td>\n",
       "    </tr>\n",
       "  </tbody>\n",
       "</table>\n",
       "</div>"
      ],
      "text/plain": [
       "           balance        income  student_Yes\n",
       "count  2000.000000   2000.000000  2000.000000\n",
       "mean    841.563498  33163.186048     0.296500\n",
       "std     479.386029  13235.024515     0.456828\n",
       "min       0.000000   4755.252190     0.000000\n",
       "25%     489.668247  21294.825546     0.000000\n",
       "50%     833.611542  33783.763601     0.000000\n",
       "75%    1174.835230  43236.257965     1.000000\n",
       "max    2391.007739  69342.672480     1.000000"
      ]
     },
     "execution_count": 15,
     "metadata": {},
     "output_type": "execute_result"
    }
   ],
   "source": [
    "X_teste.describe()"
   ]
  },
  {
   "cell_type": "code",
   "execution_count": 16,
   "metadata": {
    "colab": {
     "base_uri": "https://localhost:8080/"
    },
    "executionInfo": {
     "elapsed": 291,
     "status": "ok",
     "timestamp": 1727121360861,
     "user": {
      "displayName": "Pedro Schmalz",
      "userId": "07700592580926452057"
     },
     "user_tz": 180
    },
    "id": "US5hpcd0dBu0",
    "outputId": "ec4ac025-a580-475a-f2e0-cf15166e04f9"
   },
   "outputs": [
    {
     "name": "stdout",
     "output_type": "stream",
     "text": [
      "Optimization terminated successfully.\n",
      "         Current function value: 0.076032\n",
      "         Iterations 10\n",
      "                           Logit Regression Results                           \n",
      "==============================================================================\n",
      "Dep. Variable:            default_Yes   No. Observations:                 8000\n",
      "Model:                          Logit   Df Residuals:                     7996\n",
      "Method:                           MLE   Df Model:                            3\n",
      "Date:                Sun, 14 Sep 2025   Pseudo R-squ.:                  0.4757\n",
      "Time:                        16:44:29   Log-Likelihood:                -608.26\n",
      "converged:                       True   LL-Null:                       -1160.2\n",
      "Covariance Type:            nonrobust   LLR p-value:                5.404e-239\n",
      "===============================================================================\n",
      "                  coef    std err          z      P>|z|      [0.025      0.975]\n",
      "-------------------------------------------------------------------------------\n",
      "Intercept     -11.3117      0.577    -19.614      0.000     -12.442     -10.181\n",
      "balance         0.0059      0.000     21.933      0.000       0.005       0.006\n",
      "income        7.21e-06   9.46e-06      0.763      0.446   -1.13e-05    2.57e-05\n",
      "student_Yes    -0.4881      0.273     -1.790      0.074      -1.023       0.046\n",
      "===============================================================================\n",
      "\n",
      "Possibly complete quasi-separation: A fraction 0.17 of observations can be\n",
      "perfectly predicted. This might indicate that there is complete\n",
      "quasi-separation. In this case some parameters will not be identified.\n"
     ]
    }
   ],
   "source": [
    "data_treino = pd.concat([X_treino, y_treino], axis=1)\n",
    "\n",
    "# Definindo o modelo da forma default_Yes = balance + income + student_Yes\n",
    "model = smf.logit('default_Yes ~ balance + income + student_Yes', data=data_treino).fit()\n",
    "\n",
    "# Imprimindo o resultado\n",
    "print(model.summary())\n"
   ]
  },
  {
   "cell_type": "code",
   "execution_count": 17,
   "metadata": {
    "colab": {
     "base_uri": "https://localhost:8080/"
    },
    "executionInfo": {
     "elapsed": 305,
     "status": "ok",
     "timestamp": 1727121463790,
     "user": {
      "displayName": "Pedro Schmalz",
      "userId": "07700592580926452057"
     },
     "user_tz": 180
    },
    "id": "Z2aWp8xNdcqz",
    "outputId": "4420fca5-4efe-4ac6-c137-081f591488cb"
   },
   "outputs": [
    {
     "name": "stdout",
     "output_type": "stream",
     "text": [
      "Optimization terminated successfully.\n",
      "         Current function value: 0.087821\n",
      "         Iterations 10\n",
      "                           Logit Regression Results                           \n",
      "==============================================================================\n",
      "Dep. Variable:            default_Yes   No. Observations:                 2000\n",
      "Model:                          Logit   Df Residuals:                     1996\n",
      "Method:                           MLE   Df Model:                            3\n",
      "Date:                Sun, 14 Sep 2025   Pseudo R-squ.:                  0.4147\n",
      "Time:                        16:44:29   Log-Likelihood:                -175.64\n",
      "converged:                       True   LL-Null:                       -300.10\n",
      "Covariance Type:            nonrobust   LLR p-value:                 1.117e-53\n",
      "===============================================================================\n",
      "                  coef    std err          z      P>|z|      [0.025      0.975]\n",
      "-------------------------------------------------------------------------------\n",
      "Intercept      -9.5227      0.944    -10.084      0.000     -11.374      -7.672\n",
      "balance         0.0052      0.000     11.264      0.000       0.004       0.006\n",
      "income      -7.691e-06   1.65e-05     -0.467      0.640   -3.99e-05    2.46e-05\n",
      "student_Yes    -1.1420      0.481     -2.376      0.017      -2.084      -0.200\n",
      "===============================================================================\n"
     ]
    }
   ],
   "source": [
    "data_teste = pd.concat([X_teste, y_teste], axis=1)\n",
    "\n",
    "# Definindo o modelo da forma default_Yes = balance + income + student_Yes\n",
    "model = smf.logit('default_Yes ~ balance + income + student_Yes', data=data_teste).fit()\n",
    "\n",
    "# Imprimindo o resultado\n",
    "print(model.summary())\n"
   ]
  },
  {
   "cell_type": "markdown",
   "metadata": {
    "id": "5QvKn5c0subr"
   },
   "source": [
    "Como vocês podem ver, deixamos 20% para o banco de teste. A escolha da porcentagem dos dados que será reservada para teste (conhecida como tamanho do conjunto de teste) é uma decisão importante ao dividir os dados para treinamento e teste em aprendizado de máquina. A escolha correta dessa porcentagem depende de vários fatores e pode afetar a avaliação do desempenho do seu modelo.  \n",
    "\n",
    "Uma diretriz importante nesta escolha é o **Tamanho do Conjunto de Dados**: Considere o tamanho total do seu conjunto de dados. Se você tem um conjunto de dados muito grande, pode reservar uma porcentagem menor para teste, como 10% ou 20%. No entanto, se o conjunto de dados for pequeno, pode ser apropriado reservar uma porcentagem maior, como 30% ou 40%. Em geral, quanto menor o conjunto de dados, maior deve ser a porcentagem de teste para garantir uma avaliação mais robusta.\n",
    "\n",
    "\n",
    "Lembre-se de que a divisão em treinamento e teste não é a única técnica de avaliação disponível. Você também pode considerar o uso de validação cruzada (cross-validation), que divide os dados em várias dobras e realiza várias iterações de treinamento e teste. Isso permite uma avaliação mais robusta do desempenho do modelo, independentemente da porcentagem escolhida. **Veremos mais sobre cross-validation na próxima aula**.\n",
    "\n",
    "\n",
    "Se você deseja que seus resultados sejam facilmente reproduzíveis, é uma boa prática fixar uma semente (seed) aleatória para garantir que a divisão em treinamento e teste seja consistente em diferentes execuções do código.\n",
    "\n",
    "Lembre-se de que não há uma porcentagem única que funcione para todos os cenários. A escolha da porcentagem do conjunto de teste deve ser feita com base nas características específicas do seu projeto e nos fatores mencionados acima. Você pode ajustar essa porcentagem conforme necessário durante o desenvolvimento do seu modelo para garantir uma avaliação adequada."
   ]
  },
  {
   "cell_type": "markdown",
   "metadata": {
    "id": "6EeVqttxv6mg"
   },
   "source": [
    "##### 4. Treinar o modelo"
   ]
  },
  {
   "cell_type": "code",
   "execution_count": 18,
   "metadata": {
    "colab": {
     "base_uri": "https://localhost:8080/",
     "height": 80
    },
    "executionInfo": {
     "elapsed": 323,
     "status": "ok",
     "timestamp": 1727120899982,
     "user": {
      "displayName": "Pedro Schmalz",
      "userId": "07700592580926452057"
     },
     "user_tz": 180
    },
    "id": "lM0loOjFv8n3",
    "outputId": "69f28644-4e62-416a-9b2a-4ccd6544ec91"
   },
   "outputs": [
    {
     "data": {
      "text/html": [
       "<style>#sk-container-id-1 {\n",
       "  /* Definition of color scheme common for light and dark mode */\n",
       "  --sklearn-color-text: black;\n",
       "  --sklearn-color-line: gray;\n",
       "  /* Definition of color scheme for unfitted estimators */\n",
       "  --sklearn-color-unfitted-level-0: #fff5e6;\n",
       "  --sklearn-color-unfitted-level-1: #f6e4d2;\n",
       "  --sklearn-color-unfitted-level-2: #ffe0b3;\n",
       "  --sklearn-color-unfitted-level-3: chocolate;\n",
       "  /* Definition of color scheme for fitted estimators */\n",
       "  --sklearn-color-fitted-level-0: #f0f8ff;\n",
       "  --sklearn-color-fitted-level-1: #d4ebff;\n",
       "  --sklearn-color-fitted-level-2: #b3dbfd;\n",
       "  --sklearn-color-fitted-level-3: cornflowerblue;\n",
       "\n",
       "  /* Specific color for light theme */\n",
       "  --sklearn-color-text-on-default-background: var(--sg-text-color, var(--theme-code-foreground, var(--jp-content-font-color1, black)));\n",
       "  --sklearn-color-background: var(--sg-background-color, var(--theme-background, var(--jp-layout-color0, white)));\n",
       "  --sklearn-color-border-box: var(--sg-text-color, var(--theme-code-foreground, var(--jp-content-font-color1, black)));\n",
       "  --sklearn-color-icon: #696969;\n",
       "\n",
       "  @media (prefers-color-scheme: dark) {\n",
       "    /* Redefinition of color scheme for dark theme */\n",
       "    --sklearn-color-text-on-default-background: var(--sg-text-color, var(--theme-code-foreground, var(--jp-content-font-color1, white)));\n",
       "    --sklearn-color-background: var(--sg-background-color, var(--theme-background, var(--jp-layout-color0, #111)));\n",
       "    --sklearn-color-border-box: var(--sg-text-color, var(--theme-code-foreground, var(--jp-content-font-color1, white)));\n",
       "    --sklearn-color-icon: #878787;\n",
       "  }\n",
       "}\n",
       "\n",
       "#sk-container-id-1 {\n",
       "  color: var(--sklearn-color-text);\n",
       "}\n",
       "\n",
       "#sk-container-id-1 pre {\n",
       "  padding: 0;\n",
       "}\n",
       "\n",
       "#sk-container-id-1 input.sk-hidden--visually {\n",
       "  border: 0;\n",
       "  clip: rect(1px 1px 1px 1px);\n",
       "  clip: rect(1px, 1px, 1px, 1px);\n",
       "  height: 1px;\n",
       "  margin: -1px;\n",
       "  overflow: hidden;\n",
       "  padding: 0;\n",
       "  position: absolute;\n",
       "  width: 1px;\n",
       "}\n",
       "\n",
       "#sk-container-id-1 div.sk-dashed-wrapped {\n",
       "  border: 1px dashed var(--sklearn-color-line);\n",
       "  margin: 0 0.4em 0.5em 0.4em;\n",
       "  box-sizing: border-box;\n",
       "  padding-bottom: 0.4em;\n",
       "  background-color: var(--sklearn-color-background);\n",
       "}\n",
       "\n",
       "#sk-container-id-1 div.sk-container {\n",
       "  /* jupyter's `normalize.less` sets `[hidden] { display: none; }`\n",
       "     but bootstrap.min.css set `[hidden] { display: none !important; }`\n",
       "     so we also need the `!important` here to be able to override the\n",
       "     default hidden behavior on the sphinx rendered scikit-learn.org.\n",
       "     See: https://github.com/scikit-learn/scikit-learn/issues/21755 */\n",
       "  display: inline-block !important;\n",
       "  position: relative;\n",
       "}\n",
       "\n",
       "#sk-container-id-1 div.sk-text-repr-fallback {\n",
       "  display: none;\n",
       "}\n",
       "\n",
       "div.sk-parallel-item,\n",
       "div.sk-serial,\n",
       "div.sk-item {\n",
       "  /* draw centered vertical line to link estimators */\n",
       "  background-image: linear-gradient(var(--sklearn-color-text-on-default-background), var(--sklearn-color-text-on-default-background));\n",
       "  background-size: 2px 100%;\n",
       "  background-repeat: no-repeat;\n",
       "  background-position: center center;\n",
       "}\n",
       "\n",
       "/* Parallel-specific style estimator block */\n",
       "\n",
       "#sk-container-id-1 div.sk-parallel-item::after {\n",
       "  content: \"\";\n",
       "  width: 100%;\n",
       "  border-bottom: 2px solid var(--sklearn-color-text-on-default-background);\n",
       "  flex-grow: 1;\n",
       "}\n",
       "\n",
       "#sk-container-id-1 div.sk-parallel {\n",
       "  display: flex;\n",
       "  align-items: stretch;\n",
       "  justify-content: center;\n",
       "  background-color: var(--sklearn-color-background);\n",
       "  position: relative;\n",
       "}\n",
       "\n",
       "#sk-container-id-1 div.sk-parallel-item {\n",
       "  display: flex;\n",
       "  flex-direction: column;\n",
       "}\n",
       "\n",
       "#sk-container-id-1 div.sk-parallel-item:first-child::after {\n",
       "  align-self: flex-end;\n",
       "  width: 50%;\n",
       "}\n",
       "\n",
       "#sk-container-id-1 div.sk-parallel-item:last-child::after {\n",
       "  align-self: flex-start;\n",
       "  width: 50%;\n",
       "}\n",
       "\n",
       "#sk-container-id-1 div.sk-parallel-item:only-child::after {\n",
       "  width: 0;\n",
       "}\n",
       "\n",
       "/* Serial-specific style estimator block */\n",
       "\n",
       "#sk-container-id-1 div.sk-serial {\n",
       "  display: flex;\n",
       "  flex-direction: column;\n",
       "  align-items: center;\n",
       "  background-color: var(--sklearn-color-background);\n",
       "  padding-right: 1em;\n",
       "  padding-left: 1em;\n",
       "}\n",
       "\n",
       "\n",
       "/* Toggleable style: style used for estimator/Pipeline/ColumnTransformer box that is\n",
       "clickable and can be expanded/collapsed.\n",
       "- Pipeline and ColumnTransformer use this feature and define the default style\n",
       "- Estimators will overwrite some part of the style using the `sk-estimator` class\n",
       "*/\n",
       "\n",
       "/* Pipeline and ColumnTransformer style (default) */\n",
       "\n",
       "#sk-container-id-1 div.sk-toggleable {\n",
       "  /* Default theme specific background. It is overwritten whether we have a\n",
       "  specific estimator or a Pipeline/ColumnTransformer */\n",
       "  background-color: var(--sklearn-color-background);\n",
       "}\n",
       "\n",
       "/* Toggleable label */\n",
       "#sk-container-id-1 label.sk-toggleable__label {\n",
       "  cursor: pointer;\n",
       "  display: block;\n",
       "  width: 100%;\n",
       "  margin-bottom: 0;\n",
       "  padding: 0.5em;\n",
       "  box-sizing: border-box;\n",
       "  text-align: center;\n",
       "}\n",
       "\n",
       "#sk-container-id-1 label.sk-toggleable__label-arrow:before {\n",
       "  /* Arrow on the left of the label */\n",
       "  content: \"▸\";\n",
       "  float: left;\n",
       "  margin-right: 0.25em;\n",
       "  color: var(--sklearn-color-icon);\n",
       "}\n",
       "\n",
       "#sk-container-id-1 label.sk-toggleable__label-arrow:hover:before {\n",
       "  color: var(--sklearn-color-text);\n",
       "}\n",
       "\n",
       "/* Toggleable content - dropdown */\n",
       "\n",
       "#sk-container-id-1 div.sk-toggleable__content {\n",
       "  max-height: 0;\n",
       "  max-width: 0;\n",
       "  overflow: hidden;\n",
       "  text-align: left;\n",
       "  /* unfitted */\n",
       "  background-color: var(--sklearn-color-unfitted-level-0);\n",
       "}\n",
       "\n",
       "#sk-container-id-1 div.sk-toggleable__content.fitted {\n",
       "  /* fitted */\n",
       "  background-color: var(--sklearn-color-fitted-level-0);\n",
       "}\n",
       "\n",
       "#sk-container-id-1 div.sk-toggleable__content pre {\n",
       "  margin: 0.2em;\n",
       "  border-radius: 0.25em;\n",
       "  color: var(--sklearn-color-text);\n",
       "  /* unfitted */\n",
       "  background-color: var(--sklearn-color-unfitted-level-0);\n",
       "}\n",
       "\n",
       "#sk-container-id-1 div.sk-toggleable__content.fitted pre {\n",
       "  /* unfitted */\n",
       "  background-color: var(--sklearn-color-fitted-level-0);\n",
       "}\n",
       "\n",
       "#sk-container-id-1 input.sk-toggleable__control:checked~div.sk-toggleable__content {\n",
       "  /* Expand drop-down */\n",
       "  max-height: 200px;\n",
       "  max-width: 100%;\n",
       "  overflow: auto;\n",
       "}\n",
       "\n",
       "#sk-container-id-1 input.sk-toggleable__control:checked~label.sk-toggleable__label-arrow:before {\n",
       "  content: \"▾\";\n",
       "}\n",
       "\n",
       "/* Pipeline/ColumnTransformer-specific style */\n",
       "\n",
       "#sk-container-id-1 div.sk-label input.sk-toggleable__control:checked~label.sk-toggleable__label {\n",
       "  color: var(--sklearn-color-text);\n",
       "  background-color: var(--sklearn-color-unfitted-level-2);\n",
       "}\n",
       "\n",
       "#sk-container-id-1 div.sk-label.fitted input.sk-toggleable__control:checked~label.sk-toggleable__label {\n",
       "  background-color: var(--sklearn-color-fitted-level-2);\n",
       "}\n",
       "\n",
       "/* Estimator-specific style */\n",
       "\n",
       "/* Colorize estimator box */\n",
       "#sk-container-id-1 div.sk-estimator input.sk-toggleable__control:checked~label.sk-toggleable__label {\n",
       "  /* unfitted */\n",
       "  background-color: var(--sklearn-color-unfitted-level-2);\n",
       "}\n",
       "\n",
       "#sk-container-id-1 div.sk-estimator.fitted input.sk-toggleable__control:checked~label.sk-toggleable__label {\n",
       "  /* fitted */\n",
       "  background-color: var(--sklearn-color-fitted-level-2);\n",
       "}\n",
       "\n",
       "#sk-container-id-1 div.sk-label label.sk-toggleable__label,\n",
       "#sk-container-id-1 div.sk-label label {\n",
       "  /* The background is the default theme color */\n",
       "  color: var(--sklearn-color-text-on-default-background);\n",
       "}\n",
       "\n",
       "/* On hover, darken the color of the background */\n",
       "#sk-container-id-1 div.sk-label:hover label.sk-toggleable__label {\n",
       "  color: var(--sklearn-color-text);\n",
       "  background-color: var(--sklearn-color-unfitted-level-2);\n",
       "}\n",
       "\n",
       "/* Label box, darken color on hover, fitted */\n",
       "#sk-container-id-1 div.sk-label.fitted:hover label.sk-toggleable__label.fitted {\n",
       "  color: var(--sklearn-color-text);\n",
       "  background-color: var(--sklearn-color-fitted-level-2);\n",
       "}\n",
       "\n",
       "/* Estimator label */\n",
       "\n",
       "#sk-container-id-1 div.sk-label label {\n",
       "  font-family: monospace;\n",
       "  font-weight: bold;\n",
       "  display: inline-block;\n",
       "  line-height: 1.2em;\n",
       "}\n",
       "\n",
       "#sk-container-id-1 div.sk-label-container {\n",
       "  text-align: center;\n",
       "}\n",
       "\n",
       "/* Estimator-specific */\n",
       "#sk-container-id-1 div.sk-estimator {\n",
       "  font-family: monospace;\n",
       "  border: 1px dotted var(--sklearn-color-border-box);\n",
       "  border-radius: 0.25em;\n",
       "  box-sizing: border-box;\n",
       "  margin-bottom: 0.5em;\n",
       "  /* unfitted */\n",
       "  background-color: var(--sklearn-color-unfitted-level-0);\n",
       "}\n",
       "\n",
       "#sk-container-id-1 div.sk-estimator.fitted {\n",
       "  /* fitted */\n",
       "  background-color: var(--sklearn-color-fitted-level-0);\n",
       "}\n",
       "\n",
       "/* on hover */\n",
       "#sk-container-id-1 div.sk-estimator:hover {\n",
       "  /* unfitted */\n",
       "  background-color: var(--sklearn-color-unfitted-level-2);\n",
       "}\n",
       "\n",
       "#sk-container-id-1 div.sk-estimator.fitted:hover {\n",
       "  /* fitted */\n",
       "  background-color: var(--sklearn-color-fitted-level-2);\n",
       "}\n",
       "\n",
       "/* Specification for estimator info (e.g. \"i\" and \"?\") */\n",
       "\n",
       "/* Common style for \"i\" and \"?\" */\n",
       "\n",
       ".sk-estimator-doc-link,\n",
       "a:link.sk-estimator-doc-link,\n",
       "a:visited.sk-estimator-doc-link {\n",
       "  float: right;\n",
       "  font-size: smaller;\n",
       "  line-height: 1em;\n",
       "  font-family: monospace;\n",
       "  background-color: var(--sklearn-color-background);\n",
       "  border-radius: 1em;\n",
       "  height: 1em;\n",
       "  width: 1em;\n",
       "  text-decoration: none !important;\n",
       "  margin-left: 1ex;\n",
       "  /* unfitted */\n",
       "  border: var(--sklearn-color-unfitted-level-1) 1pt solid;\n",
       "  color: var(--sklearn-color-unfitted-level-1);\n",
       "}\n",
       "\n",
       ".sk-estimator-doc-link.fitted,\n",
       "a:link.sk-estimator-doc-link.fitted,\n",
       "a:visited.sk-estimator-doc-link.fitted {\n",
       "  /* fitted */\n",
       "  border: var(--sklearn-color-fitted-level-1) 1pt solid;\n",
       "  color: var(--sklearn-color-fitted-level-1);\n",
       "}\n",
       "\n",
       "/* On hover */\n",
       "div.sk-estimator:hover .sk-estimator-doc-link:hover,\n",
       ".sk-estimator-doc-link:hover,\n",
       "div.sk-label-container:hover .sk-estimator-doc-link:hover,\n",
       ".sk-estimator-doc-link:hover {\n",
       "  /* unfitted */\n",
       "  background-color: var(--sklearn-color-unfitted-level-3);\n",
       "  color: var(--sklearn-color-background);\n",
       "  text-decoration: none;\n",
       "}\n",
       "\n",
       "div.sk-estimator.fitted:hover .sk-estimator-doc-link.fitted:hover,\n",
       ".sk-estimator-doc-link.fitted:hover,\n",
       "div.sk-label-container:hover .sk-estimator-doc-link.fitted:hover,\n",
       ".sk-estimator-doc-link.fitted:hover {\n",
       "  /* fitted */\n",
       "  background-color: var(--sklearn-color-fitted-level-3);\n",
       "  color: var(--sklearn-color-background);\n",
       "  text-decoration: none;\n",
       "}\n",
       "\n",
       "/* Span, style for the box shown on hovering the info icon */\n",
       ".sk-estimator-doc-link span {\n",
       "  display: none;\n",
       "  z-index: 9999;\n",
       "  position: relative;\n",
       "  font-weight: normal;\n",
       "  right: .2ex;\n",
       "  padding: .5ex;\n",
       "  margin: .5ex;\n",
       "  width: min-content;\n",
       "  min-width: 20ex;\n",
       "  max-width: 50ex;\n",
       "  color: var(--sklearn-color-text);\n",
       "  box-shadow: 2pt 2pt 4pt #999;\n",
       "  /* unfitted */\n",
       "  background: var(--sklearn-color-unfitted-level-0);\n",
       "  border: .5pt solid var(--sklearn-color-unfitted-level-3);\n",
       "}\n",
       "\n",
       ".sk-estimator-doc-link.fitted span {\n",
       "  /* fitted */\n",
       "  background: var(--sklearn-color-fitted-level-0);\n",
       "  border: var(--sklearn-color-fitted-level-3);\n",
       "}\n",
       "\n",
       ".sk-estimator-doc-link:hover span {\n",
       "  display: block;\n",
       "}\n",
       "\n",
       "/* \"?\"-specific style due to the `<a>` HTML tag */\n",
       "\n",
       "#sk-container-id-1 a.estimator_doc_link {\n",
       "  float: right;\n",
       "  font-size: 1rem;\n",
       "  line-height: 1em;\n",
       "  font-family: monospace;\n",
       "  background-color: var(--sklearn-color-background);\n",
       "  border-radius: 1rem;\n",
       "  height: 1rem;\n",
       "  width: 1rem;\n",
       "  text-decoration: none;\n",
       "  /* unfitted */\n",
       "  color: var(--sklearn-color-unfitted-level-1);\n",
       "  border: var(--sklearn-color-unfitted-level-1) 1pt solid;\n",
       "}\n",
       "\n",
       "#sk-container-id-1 a.estimator_doc_link.fitted {\n",
       "  /* fitted */\n",
       "  border: var(--sklearn-color-fitted-level-1) 1pt solid;\n",
       "  color: var(--sklearn-color-fitted-level-1);\n",
       "}\n",
       "\n",
       "/* On hover */\n",
       "#sk-container-id-1 a.estimator_doc_link:hover {\n",
       "  /* unfitted */\n",
       "  background-color: var(--sklearn-color-unfitted-level-3);\n",
       "  color: var(--sklearn-color-background);\n",
       "  text-decoration: none;\n",
       "}\n",
       "\n",
       "#sk-container-id-1 a.estimator_doc_link.fitted:hover {\n",
       "  /* fitted */\n",
       "  background-color: var(--sklearn-color-fitted-level-3);\n",
       "}\n",
       "</style><div id=\"sk-container-id-1\" class=\"sk-top-container\"><div class=\"sk-text-repr-fallback\"><pre>LogisticRegression()</pre><b>In a Jupyter environment, please rerun this cell to show the HTML representation or trust the notebook. <br />On GitHub, the HTML representation is unable to render, please try loading this page with nbviewer.org.</b></div><div class=\"sk-container\" hidden><div class=\"sk-item\"><div class=\"sk-estimator fitted sk-toggleable\"><input class=\"sk-toggleable__control sk-hidden--visually\" id=\"sk-estimator-id-1\" type=\"checkbox\" checked><label for=\"sk-estimator-id-1\" class=\"sk-toggleable__label fitted sk-toggleable__label-arrow fitted\">&nbsp;&nbsp;LogisticRegression<a class=\"sk-estimator-doc-link fitted\" rel=\"noreferrer\" target=\"_blank\" href=\"https://scikit-learn.org/1.5/modules/generated/sklearn.linear_model.LogisticRegression.html\">?<span>Documentation for LogisticRegression</span></a><span class=\"sk-estimator-doc-link fitted\">i<span>Fitted</span></span></label><div class=\"sk-toggleable__content fitted\"><pre>LogisticRegression()</pre></div> </div></div></div></div>"
      ],
      "text/plain": [
       "LogisticRegression()"
      ]
     },
     "execution_count": 18,
     "metadata": {},
     "output_type": "execute_result"
    }
   ],
   "source": [
    "modelo = LogisticRegression() # Modelo de Regressão Logística do SkLearn\n",
    "\n",
    "# Treinando o modelo\n",
    "modelo.fit(X_treino, y_treino) # Colocamos os vetores de treino para o modelo utilizando o método '.fit'"
   ]
  },
  {
   "cell_type": "markdown",
   "metadata": {
    "id": "jizNXVSbtidY"
   },
   "source": [
    "`modelo = LogisticRegression():`\n",
    "\n",
    "Nesta linha, você está criando uma instância do modelo de Regressão Logística da biblioteca scikit-learn. A classe LogisticRegression fornece uma implementação da regressão logística, que é um algoritmo de aprendizado de máquina comumente usado para tarefas de classificação binária, onde o objetivo é prever uma das duas classes possíveis (por exemplo, sim ou não, positivo ou negativo).\n",
    "\n",
    "`modelo.fit(X_treino, y_treino):`\n",
    "\n",
    "Nesta linha, você está treinando o modelo de Regressão Logística. O método fit é usado para ajustar o modelo aos dados de treinamento, que são fornecidos como argumentos:\n",
    "\n",
    "`X_treino:`\n",
    "\n",
    "Isso representa o conjunto de dados de treinamento das features (variáveis explicativas) que você separou anteriormente. Essas são as características usadas pelo modelo para aprender a fazer previsões.\n",
    "\n",
    "\n",
    "`y_treino:`\n",
    "\n",
    "Isso representa o conjunto de dados de treinamento do target (variável dependente) correspondente às features em X_treino. O modelo usa esses rótulos para aprender como mapear as características para as classes ou categorias que estão sendo previstas.\n",
    "\n",
    "Após a execução deste código, o modelo de Regressão Logística foi treinado usando os dados de treinamento. Ele ajustou seus parâmetros internos de forma que ele possa fazer previsões com base nas características fornecidas.\n",
    "\n",
    "Após o treinamento, você pode usar o modelo treinado para fazer previsões em novos dados ou avaliar seu desempenho em um conjunto de teste separado. Por exemplo, você pode usar modelo.predict() para fazer previsões em novos dados ou modelo.score() para avaliar a precisão do modelo em dados de teste. É o que faremos no próximo bloco"
   ]
  },
  {
   "cell_type": "markdown",
   "metadata": {
    "id": "VDYpcnnjwTm4"
   },
   "source": [
    "##### 5. Previsão no banco de teste"
   ]
  },
  {
   "cell_type": "markdown",
   "metadata": {
    "id": "jTSQSkNqu0u5"
   },
   "source": [
    "Agora que treinamos o modelo, vamos prever os valores do banco de teste e comparar eles com os valores reais (y_teste) para termos uma noção de quão bem o modelo está indo."
   ]
  },
  {
   "cell_type": "code",
   "execution_count": 19,
   "metadata": {
    "id": "zxrBeHKbwWgY"
   },
   "outputs": [
    {
     "data": {
      "text/plain": [
       "array([0, 0, 0, ..., 0, 0, 0])"
      ]
     },
     "execution_count": 19,
     "metadata": {},
     "output_type": "execute_result"
    }
   ],
   "source": [
    "y_pred = modelo.predict(X_teste)\n",
    "\n",
    "\n",
    "y_pred # Nosso array de previsões"
   ]
  },
  {
   "cell_type": "markdown",
   "metadata": {
    "id": "oeRdkjh6vVhY"
   },
   "source": [
    "Com esse array de previsões em mãos, podemos calcular nossas métricas de avaliação."
   ]
  },
  {
   "cell_type": "markdown",
   "metadata": {
    "id": "WyHW5Ka4wdqg"
   },
   "source": [
    "##### 6. Avaliação do modelo"
   ]
  },
  {
   "cell_type": "markdown",
   "metadata": {
    "id": "drQHoRfvwwtj"
   },
   "source": [
    "a) Accuracy"
   ]
  },
  {
   "cell_type": "code",
   "execution_count": 20,
   "metadata": {
    "id": "UWuJ957Cwx3o"
   },
   "outputs": [
    {
     "name": "stdout",
     "output_type": "stream",
     "text": [
      "Acurácia: 0.9695\n"
     ]
    }
   ],
   "source": [
    "accuracy = accuracy_score(y_teste, # Valores Reais\n",
    "                          y_pred) # Valores preditos pelo modelo\n",
    "\n",
    "print(f\"Acurácia: {accuracy}\")\n",
    "\n"
   ]
  },
  {
   "cell_type": "markdown",
   "metadata": {
    "id": "0werdKNOw7o7"
   },
   "source": [
    "Peço que leiam como a acurácia é calculada no sklearn ([link](https://scikit-learn.org/stable/modules/model_evaluation.html#accuracy-score)). Pense no que ela significa, a acurácia é uma boa métrica para nosso caso (classificação com dados desbalanceados)?\n",
    "\n",
    "Temos uma ótima acurácia geral (96,45%!), mas não podemos ficar só nesta métrica, pois em muitos casos ela é enganosa. Vamos olhar para a matriz de confusão:"
   ]
  },
  {
   "cell_type": "markdown",
   "metadata": {
    "id": "GmvS86H8xXRg"
   },
   "source": [
    "b) Matriz de Confusão"
   ]
  },
  {
   "cell_type": "markdown",
   "metadata": {
    "id": "inlImDV72h_k"
   },
   "source": [
    "A matriz de confusão é uma ferramenta fundamental para avaliar o desempenho de modelos de classificação em aprendizado de máquina. Ela é especialmente útil quando você está trabalhando com problemas de classificação binária (duas classes, como sim/não, positivo/negativo, spam/não spam). A matriz de confusão permite analisar o quão bem o modelo está fazendo previsões em relação aos valores reais. Vamos explorar os conceitos associados a uma matriz de confusão:\n",
    "\n",
    "Elementos da Matriz de Confusão:\n",
    "\n",
    "* Verdadeiro Positivo (True Positive - TP): Essa é a quantidade de exemplos positivos que o modelo classificou corretamente como positivos. Em outras palavras, são os casos em que o modelo acertou ao prever a classe positiva.\n",
    "\n",
    "* Falso Negativo (False Negative - FN): Essa é a quantidade de exemplos positivos que o modelo classificou erroneamente como negativos. São os casos em que o modelo errou ao prever a classe negativa quando a verdadeira classe era positiva.\n",
    "\n",
    "* Falso Positivo (False Positive - FP): Essa é a quantidade de exemplos negativos que o modelo classificou erroneamente como positivos. São os casos em que o modelo errou ao prever a classe positiva quando a verdadeira classe era negativa.\n",
    "\n",
    "* Verdadeiro Negativo (True Negative - TN): Essa é a quantidade de exemplos negativos que o modelo classificou corretamente como negativos. São os casos em que o modelo acertou ao prever a classe negativa.\n",
    "\n",
    "Estrutura da Matriz de Confusão:\n",
    "\n",
    "A matriz de confusão é geralmente organizada em uma tabela 2x2 como a seguir:"
   ]
  },
  {
   "cell_type": "markdown",
   "metadata": {
    "id": "tzw8u1Ax5tY9"
   },
   "source": [
    "![1_Z54JgbS4DUwWSknhDCvNTQ.png](data:image/png;base64,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)"
   ]
  },
  {
   "cell_type": "code",
   "execution_count": 21,
   "metadata": {
    "id": "bzKkUKIhxVDv"
   },
   "outputs": [
    {
     "data": {
      "text/plain": [
       "array([[1920,   11],\n",
       "       [  50,   19]], dtype=int64)"
      ]
     },
     "execution_count": 21,
     "metadata": {},
     "output_type": "execute_result"
    }
   ],
   "source": [
    "# Gerando nossa matriz de confusão\n",
    "\n",
    "mat_conf = confusion_matrix(y_teste, y_pred)\n",
    "\n",
    "mat_conf"
   ]
  },
  {
   "cell_type": "markdown",
   "metadata": {
    "id": "MskbsB55xtGA"
   },
   "source": [
    "Um pouco feia e difícil de entender, vamos utilizar o seaborn para visualizar a confusão do modelo:"
   ]
  },
  {
   "cell_type": "code",
   "execution_count": 22,
   "metadata": {
    "id": "xOD45pqvxzIM"
   },
   "outputs": [
    {
     "data": {
      "image/png": "[encoded data removed]",
      "text/plain": [
       "<Figure size 800x600 with 2 Axes>"
      ]
     },
     "metadata": {},
     "output_type": "display_data"
    }
   ],
   "source": [
    "# Defina os rótulos das classes\n",
    "class_names = ['Adimplente', 'Inadimplente']\n",
    "\n",
    "# Crie um gráfico de matriz de confusão\n",
    "plt.figure(figsize=(8, 6))\n",
    "sns.heatmap(mat_conf, # Nossa matriz gerada pelo sklearn\n",
    "            annot=True,\n",
    "            fmt='d', # Dígitos completos\n",
    "            cmap='Blues', # Cor da matriz\n",
    "            xticklabels=class_names,\n",
    "            yticklabels=class_names)\n",
    "plt.xlabel('Classe Prevista')\n",
    "plt.ylabel('Classe Real')\n",
    "plt.title('Matriz de Confusão')\n",
    "plt.show()"
   ]
  },
  {
   "cell_type": "markdown",
   "metadata": {
    "id": "ELnjWnQIyTgS"
   },
   "source": [
    "Dos 69 inadimplentes (55 + 14) no banco de teste, apenas 14 foram corretamente classificados desta forma. Vemos que o modelo performa muito mal nesta classe. Além disso, podemos observar agora que há um grande desbalanceamento das classes, o que com certeza afeta nossos resultados. Podemos confirmar nossas suspeitas olhando para o *classification report* (Relatório de Classificação)."
   ]
  },
  {
   "cell_type": "markdown",
   "metadata": {
    "id": "Usz_oa4C3BwI"
   },
   "source": [
    "**Interpretação da Matriz de Confusão**:\n",
    "\n",
    "A matriz de confusão ajuda a entender como um modelo está se comportando em diferentes cenários:\n",
    "\n",
    "* Verdadeiros Positivos (TP): Representam os acertos do modelo, ou seja, os casos em que ele previu corretamente a classe positiva.\n",
    "\n",
    "* Falsos Negativos (FN): Representam os erros do tipo I, indicando casos em que o modelo deveria ter previsto a classe positiva, mas previu negativa.\n",
    "\n",
    "* Falsos Positivos (FP): Representam os erros do tipo II, indicando casos em que o modelo previu a classe positiva, mas deveria ter previsto negativa.\n",
    "\n",
    "* Verdadeiros Negativos (TN): Representam os acertos do modelo na previsão da classe negativa.\n",
    "\n",
    "\n",
    "\n",
    "\n",
    "\n",
    "\n",
    "\n",
    "\n",
    "\n",
    "\n"
   ]
  },
  {
   "cell_type": "markdown",
   "metadata": {
    "id": "_aJkFqTn5d4E"
   },
   "source": [
    "**Métricas Derivadas da Matriz de Confusão**:\n",
    "\n",
    "Com base nos elementos da matriz de confusão, você pode calcular várias métricas de avaliação de modelos de classificação, incluindo:\n",
    "\n",
    "* **Precisão (Precision)**: TP / (TP + FP). Mede a proporção de previsões positivas corretas em relação ao total de previsões positivas feitas pelo modelo.\n",
    "\n",
    "* **Revocação (Recall ou Sensibilidade)**: TP / (TP + FN). Mede a proporção de previsões positivas corretas em relação ao total de casos verdadeiros positivos.\n",
    "\n",
    "* **Especificidade (Specificity)**: TN / (TN + FP). Mede a proporção de previsões negativas corretas em relação ao total de casos verdadeiros negativos.\n",
    "\n",
    "* F-Score (ou F1-Score): 2 * (Precisão * Revocação) / (Precisão + Revocação). Uma métrica que combina precisão e revocação, sendo útil quando você deseja encontrar um equilíbrio entre as duas métricas.\n",
    "\n",
    "* Taxa de Falsos Positivos (False Positive Rate - FPR): FP / (FP + TN). Mede a proporção de previsões incorretas de classe positiva em relação ao total de casos verdadeiros negativos.\n",
    "\n",
    "A matriz de confusão e essas métricas associadas são cruciais para avaliar o desempenho de um modelo de classificação, especialmente em situações em que os erros têm diferentes consequências ou custos. Elas ajudam a entender como o modelo está tomando decisões e podem orientar ajustes para melhorar a precisão e revocação, dependendo dos objetivos específicos do projeto."
   ]
  },
  {
   "cell_type": "markdown",
   "metadata": {
    "id": "bQU7_9Asyrdg"
   },
   "source": [
    "c) Classification Report"
   ]
  },
  {
   "cell_type": "code",
   "execution_count": 23,
   "metadata": {
    "id": "fckLFvPTyskX"
   },
   "outputs": [
    {
     "name": "stdout",
     "output_type": "stream",
     "text": [
      "Relatório de Classificação:\n",
      "              precision    recall  f1-score   support\n",
      "\n",
      "           0       0.97      0.99      0.98      1931\n",
      "           1       0.63      0.28      0.38        69\n",
      "\n",
      "    accuracy                           0.97      2000\n",
      "   macro avg       0.80      0.63      0.68      2000\n",
      "weighted avg       0.96      0.97      0.96      2000\n",
      "\n"
     ]
    }
   ],
   "source": [
    "rel_class = classification_report(y_teste, y_pred)\n",
    "\n",
    "print(f\"Relatório de Classificação:\\n{rel_class}\")"
   ]
  },
  {
   "cell_type": "markdown",
   "metadata": {
    "id": "eRiDXHv_zIEB"
   },
   "source": [
    "Aqui podemos ver mais claramente o problema. Apesar de ter ótimas métricas de precision e recall para a classe majoritária, adimplentes, (Leia mais sobre estas métricas [aqui](https://scikit-learn.org/stable/auto_examples/model_selection/plot_precision_recall.html#precision-recall)), o modelo peca muito na classificação de quem é inadimplente de fato, com apenas 63% de precisão (menos da metade do máximo de 100%) e um recall de 28% (que vai de 0 a 100). Isso deve servir como um alerta para não se confiar apenas em uma métrica, como a acurácia. Dependendo da qualidade do banco de dados, diversos problemas podem surgir, e podem escapar de algumas métricas."
   ]
  }
 ],
 "metadata": {
  "colab": {
   "provenance": [],
   "toc_visible": true
  },
  "gpuClass": "standard",
  "kernelspec": {
   "display_name": "base",
   "language": "python",
   "name": "python3"
  },
  "language_info": {
   "codemirror_mode": {
    "name": "ipython",
    "version": 3
   },
   "file_extension": ".py",
   "mimetype": "text/x-python",
   "name": "python",
   "nbconvert_exporter": "python",
   "pygments_lexer": "ipython3",
   "version": "3.12.7"
  }
 },
 "nbformat": 4,
 "nbformat_minor": 0
}
