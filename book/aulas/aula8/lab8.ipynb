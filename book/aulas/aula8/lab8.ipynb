{
 "cells": [
  {
   "cell_type": "markdown",
   "id": "dc02567a",
   "metadata": {},
   "source": [
    "# Laboratório 8\n",
    "\n",
    "Nota: Substitua os seus nomes e informações abaixo antes do envio da atividade. A atividade deve ser enviada no `Moodle` da disciplina, e o arquivo **DEVE** estar no formato `.ipynb`.\n",
    "\n",
    "[Nome Aluno 1] / [NUSP Aluno 1] / [Vespertino/Noturno]\n",
    "\n",
    "[Nome Aluno 2] / [NUSP Aluno 2] / [Vespertino/Noturno]\n"
   ]
  },
  {
   "cell_type": "markdown",
   "id": "01557f74",
   "metadata": {},
   "source": [
    "## Exercícios"
   ]
  },
  {
   "cell_type": "markdown",
   "id": "d871a9b6",
   "metadata": {},
   "source": [
    "Agora, vocês vão fazer a classificação de sentimento do banco, reclassificando a tarefa como binária (Negativo e Não Negativo)."
   ]
  },
  {
   "cell_type": "markdown",
   "id": "920eb99a",
   "metadata": {},
   "source": [
    "1 - Filtre somente as observações relevantes do banco e salve as colunas de interesse (texto e sentimento) em duas variáveis: X (features) e y (target)."
   ]
  },
  {
   "cell_type": "code",
   "execution_count": null,
   "id": "d546993c",
   "metadata": {},
   "outputs": [],
   "source": []
  },
  {
   "cell_type": "markdown",
   "id": "f12e4fec",
   "metadata": {},
   "source": [
    "2 - Qual a distribuição de classes em Sentimento?"
   ]
  },
  {
   "cell_type": "code",
   "execution_count": null,
   "id": "e80b1cad",
   "metadata": {},
   "outputs": [],
   "source": []
  },
  {
   "cell_type": "markdown",
   "id": "f3b8da37",
   "metadata": {},
   "source": [
    "3 - Junte as classes \"Positive\" e \"Unclear\" em uma só. A classificação deve ser binária entre \"Negativo\" e \"Não Negativo\"."
   ]
  },
  {
   "cell_type": "code",
   "execution_count": null,
   "id": "62fce26d",
   "metadata": {},
   "outputs": [],
   "source": []
  },
  {
   "cell_type": "markdown",
   "id": "221cdbc8",
   "metadata": {},
   "source": [
    "4 - Faça a divisão entre teste e treino, deixando 10% para teste. Não esqueça de estabelecer uma seed (random_state) de 42."
   ]
  },
  {
   "cell_type": "code",
   "execution_count": null,
   "id": "4de599c9",
   "metadata": {},
   "outputs": [],
   "source": []
  },
  {
   "cell_type": "markdown",
   "id": "5f68aaae",
   "metadata": {},
   "source": [
    "5 - Transforme o X_treino em uma Bag-Of-Words."
   ]
  },
  {
   "cell_type": "code",
   "execution_count": null,
   "id": "7eec1d44",
   "metadata": {},
   "outputs": [],
   "source": []
  },
  {
   "cell_type": "markdown",
   "id": "7d3c2ef1",
   "metadata": {},
   "source": [
    "6 - Apresente quantas observações ficarão para treino e validação em cada uma das dobras (folds):"
   ]
  },
  {
   "cell_type": "code",
   "execution_count": null,
   "id": "25beb552",
   "metadata": {},
   "outputs": [],
   "source": []
  },
  {
   "cell_type": "markdown",
   "id": "3eebae7c",
   "metadata": {},
   "source": [
    "7 - Qual a distribuição de classes no y_treino e no y_teste?"
   ]
  },
  {
   "cell_type": "code",
   "execution_count": null,
   "id": "17f84b0e",
   "metadata": {},
   "outputs": [],
   "source": []
  },
  {
   "cell_type": "markdown",
   "id": "a3418d08",
   "metadata": {},
   "source": [
    "8 - Faça o loop de treinamento com um k-fold com 10 folds"
   ]
  },
  {
   "cell_type": "code",
   "execution_count": null,
   "id": "344bd4d3",
   "metadata": {},
   "outputs": [],
   "source": []
  },
  {
   "cell_type": "markdown",
   "id": "f7508969",
   "metadata": {},
   "source": [
    "9 - Apresente o dataframe de resultados"
   ]
  },
  {
   "cell_type": "code",
   "execution_count": null,
   "id": "6acda41b",
   "metadata": {},
   "outputs": [],
   "source": []
  },
  {
   "cell_type": "markdown",
   "id": "ab13e153",
   "metadata": {},
   "source": [
    "10 - Apresente a distribuição da Precision"
   ]
  },
  {
   "cell_type": "code",
   "execution_count": null,
   "id": "5df3206d",
   "metadata": {},
   "outputs": [],
   "source": []
  },
  {
   "cell_type": "markdown",
   "id": "4d2e9885",
   "metadata": {},
   "source": [
    "11 - Discuta os resultados de precision pensando na variância dos valores para cada uma das classes:"
   ]
  },
  {
   "cell_type": "markdown",
   "id": "00f363a7",
   "metadata": {},
   "source": [
    "RESPOSTA:"
   ]
  },
  {
   "cell_type": "markdown",
   "id": "1348d17d",
   "metadata": {},
   "source": [
    "12 - Apresente a distribuição do Recall"
   ]
  },
  {
   "cell_type": "code",
   "execution_count": null,
   "id": "2baec4ff",
   "metadata": {},
   "outputs": [],
   "source": []
  },
  {
   "cell_type": "markdown",
   "id": "a1602e03",
   "metadata": {},
   "source": [
    "13 - Discuta os resultados do recall pensando na variância dos valores para cada uma das classes:"
   ]
  },
  {
   "cell_type": "markdown",
   "id": "1ae7f4cf",
   "metadata": {},
   "source": [
    "RESPOSTA:"
   ]
  },
  {
   "cell_type": "markdown",
   "id": "3c221388",
   "metadata": {},
   "source": [
    "14 - Apresente a distribuição dos F1-Scores"
   ]
  },
  {
   "cell_type": "code",
   "execution_count": null,
   "id": "e8660096",
   "metadata": {},
   "outputs": [],
   "source": []
  },
  {
   "cell_type": "markdown",
   "id": "55b813fb",
   "metadata": {},
   "source": [
    "15 - Discuta os resultados do f1-score pensando na variância dos valores para cada uma das classes:"
   ]
  },
  {
   "cell_type": "markdown",
   "id": "f9e8a51a",
   "metadata": {},
   "source": [
    "RESPOSTA:"
   ]
  },
  {
   "cell_type": "markdown",
   "id": "25d42589",
   "metadata": {},
   "source": [
    "16 - Treine o modelo com o banco de treino e faça a predição dos valores no banco de teste (Não esqueça de vetorizar o banco de teste separadamente):"
   ]
  },
  {
   "cell_type": "code",
   "execution_count": null,
   "id": "449926eb",
   "metadata": {},
   "outputs": [],
   "source": []
  },
  {
   "cell_type": "markdown",
   "id": "977b083a",
   "metadata": {},
   "source": [
    "17 - Apresente o relatório de classificação no banco de teste"
   ]
  },
  {
   "cell_type": "code",
   "execution_count": null,
   "id": "e69d20ad",
   "metadata": {},
   "outputs": [],
   "source": []
  },
  {
   "cell_type": "markdown",
   "id": "7aee1ba6",
   "metadata": {},
   "source": [
    "18 - Discuta os resultados encontrados no exercício 17: Os valores se encontram dentro do esperado no K-fold Cross-validation? O que isso significa para nossa confiabilidade nos resultados?"
   ]
  },
  {
   "cell_type": "markdown",
   "id": "9070b544",
   "metadata": {},
   "source": [
    "RESULTADO:"
   ]
  }
 ],
 "metadata": {
  "kernelspec": {
   "display_name": "base",
   "language": "python",
   "name": "python3"
  },
  "language_info": {
   "codemirror_mode": {
    "name": "ipython",
    "version": 3
   },
   "file_extension": ".py",
   "mimetype": "text/x-python",
   "name": "python",
   "nbconvert_exporter": "python",
   "pygments_lexer": "ipython3",
   "version": "3.12.7"
  }
 },
 "nbformat": 4,
 "nbformat_minor": 5
}
