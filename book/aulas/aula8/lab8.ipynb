{
 "cells": [
  {
   "cell_type": "markdown",
   "id": "dc02567a",
   "metadata": {},
   "source": [
    "# Laboratório 8\n",
    "\n",
    "Nota: Substitua os seus nomes e informações abaixo antes do envio da atividade. A atividade deve ser enviada no `Moodle` da disciplina, e o arquivo **DEVE** estar no formato `.ipynb`.\n",
    "\n",
    "[Nome Aluno 1] / [NUSP Aluno 1] / [Vespertino/Noturno]\n",
    "\n",
    "[Nome Aluno 2] / [NUSP Aluno 2] / [Vespertino/Noturno]\n"
   ]
  },
  {
   "cell_type": "markdown",
   "id": "01557f74",
   "metadata": {},
   "source": [
    "## Exercícios"
   ]
  },
  {
   "cell_type": "markdown",
   "id": "8b87272e",
   "metadata": {},
   "source": [
    "1 - Agora é sua vez, vamos trabalhar com o banco de tweets. Importe eles em um dataframe e filtre somente os tweets relevantes."
   ]
  },
  {
   "cell_type": "code",
   "execution_count": null,
   "id": "417dde4e",
   "metadata": {},
   "outputs": [],
   "source": [
    "url = \"https://github.com/NUPRAM/CoViD-Pol/raw/main/Covid-Pol_Corpus_v2.0.csv\""
   ]
  },
  {
   "cell_type": "markdown",
   "id": "190a9895",
   "metadata": {},
   "source": [
    "2 - Vamos passo a passo no processo. Você vai trabalhar com a coluna de posicionamento [final_stance]. Defina uma condição para criar uma nova coluna em que a tarefa seja binária: Desfavorável e Não Desfavorável (Favorável + Unclear)"
   ]
  },
  {
   "cell_type": "code",
   "execution_count": null,
   "id": "bf89d89b",
   "metadata": {},
   "outputs": [],
   "source": []
  },
  {
   "cell_type": "markdown",
   "id": "ef5876fd",
   "metadata": {},
   "source": [
    "3 - Imprima a distribuição de classes dessa nova coluna binária"
   ]
  },
  {
   "cell_type": "code",
   "execution_count": null,
   "id": "07877a28",
   "metadata": {},
   "outputs": [],
   "source": []
  },
  {
   "cell_type": "markdown",
   "id": "204c14eb",
   "metadata": {},
   "source": [
    "4 - Faça o pré-processamento da coluna de texto"
   ]
  },
  {
   "cell_type": "code",
   "execution_count": null,
   "id": "0a0fd06e",
   "metadata": {},
   "outputs": [],
   "source": []
  },
  {
   "cell_type": "markdown",
   "id": "0e78a7b6",
   "metadata": {},
   "source": [
    "5 - Instancie o array de texto e de posicionamento. Faça a divisão entre treino e teste com eles. Deixe 10% para treinamento, e defina uma seed"
   ]
  },
  {
   "cell_type": "code",
   "execution_count": null,
   "id": "d97b8df6",
   "metadata": {},
   "outputs": [],
   "source": []
  },
  {
   "cell_type": "markdown",
   "id": "ea94f974",
   "metadata": {},
   "source": [
    "6 - Imprima a proporção de cada classe nos bancos de treino e teste. Há uma diferença significativa?"
   ]
  },
  {
   "cell_type": "code",
   "execution_count": null,
   "id": "e13f64a4",
   "metadata": {},
   "outputs": [],
   "source": []
  },
  {
   "cell_type": "markdown",
   "id": "78ca3c43",
   "metadata": {},
   "source": [
    "7 - Faça a transformação do array de treino (X_treino) em *Bag-of-Words*"
   ]
  },
  {
   "cell_type": "code",
   "execution_count": null,
   "id": "be67c324",
   "metadata": {},
   "outputs": [],
   "source": []
  },
  {
   "cell_type": "markdown",
   "id": "0600a4cc",
   "metadata": {},
   "source": [
    "8 - Agora transforme o array de teste (X_teste) usando o vectorizer.transform"
   ]
  },
  {
   "cell_type": "code",
   "execution_count": null,
   "id": "5aa69fab",
   "metadata": {},
   "outputs": [],
   "source": []
  },
  {
   "cell_type": "markdown",
   "id": "9f3766a5",
   "metadata": {},
   "source": [
    "9 - Instancie o modelo e o treine usando o banco de treinamento."
   ]
  },
  {
   "cell_type": "code",
   "execution_count": null,
   "id": "90abd481",
   "metadata": {},
   "outputs": [],
   "source": []
  },
  {
   "cell_type": "markdown",
   "id": "2666cfe5",
   "metadata": {},
   "source": [
    "10 - Faça as previsões no banco de teste"
   ]
  },
  {
   "cell_type": "code",
   "execution_count": null,
   "id": "dc70a7cf",
   "metadata": {},
   "outputs": [],
   "source": []
  },
  {
   "cell_type": "markdown",
   "id": "90647672",
   "metadata": {},
   "source": [
    "a) Qual a acurácia do modelo? O desbalanceamento pode afetar essa métrica?"
   ]
  },
  {
   "cell_type": "code",
   "execution_count": null,
   "id": "be11a145",
   "metadata": {},
   "outputs": [],
   "source": []
  },
  {
   "cell_type": "markdown",
   "id": "eee87388",
   "metadata": {},
   "source": [
    "b) Faça o Confusion matrix. O que os resultados indicam?"
   ]
  },
  {
   "cell_type": "code",
   "execution_count": null,
   "id": "20146663",
   "metadata": {},
   "outputs": [],
   "source": []
  },
  {
   "cell_type": "markdown",
   "id": "b6156619",
   "metadata": {},
   "source": [
    "c) Faça o Classification Report. Discuta os resultados por classe"
   ]
  },
  {
   "cell_type": "code",
   "execution_count": null,
   "id": "4207ccf4",
   "metadata": {},
   "outputs": [],
   "source": []
  },
  {
   "cell_type": "markdown",
   "id": "5f05ce74",
   "metadata": {},
   "source": [
    "11 - Repita todo o processo de treinamento utilizando um N-gram = 2. Discuta se há alguma mudança nos resultados"
   ]
  },
  {
   "cell_type": "markdown",
   "id": "bfc4f9ac",
   "metadata": {},
   "source": [
    "Nota: O n-gram em modelos de texto mais básicos é considerado um hiperparâmetro. Alterá-lo dando mais contexto para o modelo pode ser útil, dependendo da tarefa"
   ]
  },
  {
   "cell_type": "code",
   "execution_count": null,
   "id": "ff1757f2",
   "metadata": {},
   "outputs": [],
   "source": []
  },
  {
   "cell_type": "markdown",
   "id": "0919851f",
   "metadata": {},
   "source": [
    "12 - Escolha um modelo aprendido nas aulas anteriores (LDA, QDA, Naive bayes, KNN) e repita o processo de treinamento, discutindo as diferenças nos resultados"
   ]
  },
  {
   "cell_type": "code",
   "execution_count": null,
   "id": "95885bb7",
   "metadata": {},
   "outputs": [],
   "source": []
  }
 ],
 "metadata": {
  "kernelspec": {
   "display_name": "base",
   "language": "python",
   "name": "python3"
  },
  "language_info": {
   "codemirror_mode": {
    "name": "ipython",
    "version": 3
   },
   "file_extension": ".py",
   "mimetype": "text/x-python",
   "name": "python",
   "nbconvert_exporter": "python",
   "pygments_lexer": "ipython3",
   "version": "3.12.7"
  }
 },
 "nbformat": 4,
 "nbformat_minor": 5
}
