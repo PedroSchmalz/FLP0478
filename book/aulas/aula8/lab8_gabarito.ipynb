{
 "cells": [
  {
   "cell_type": "markdown",
   "id": "dc02567a",
   "metadata": {
    "id": "dc02567a"
   },
   "source": [
    "# Laboratório 8 - Gabarito\n",
    "\n",
    "Nota: Substitua os seus nomes e informações abaixo antes do envio da atividade. A atividade deve ser enviada no `Moodle` da disciplina, e o arquivo **DEVE** estar no formato `.ipynb`.\n",
    "\n",
    "[Nome Aluno 1] / [NUSP Aluno 1] / [Vespertino/Noturno]\n",
    "\n",
    "[Nome Aluno 2] / [NUSP Aluno 2] / [Vespertino/Noturno]\n"
   ]
  },
  {
   "cell_type": "markdown",
   "id": "01557f74",
   "metadata": {
    "id": "01557f74"
   },
   "source": [
    "## Exercícios"
   ]
  },
  {
   "cell_type": "code",
   "execution_count": 28,
   "id": "JAs1eVAWlp5g",
   "metadata": {
    "colab": {
     "base_uri": "https://localhost:8080/"
    },
    "executionInfo": {
     "elapsed": 44,
     "status": "ok",
     "timestamp": 1759170225687,
     "user": {
      "displayName": "Pedro Schmalz",
      "userId": "07700592580926452057"
     },
     "user_tz": 180
    },
    "id": "JAs1eVAWlp5g",
    "outputId": "8f41e8c4-fe32-4aaa-b929-44e5d48e1362"
   },
   "outputs": [
    {
     "name": "stderr",
     "output_type": "stream",
     "text": [
      "[nltk_data] Downloading package punkt to /root/nltk_data...\n",
      "[nltk_data]   Package punkt is already up-to-date!\n",
      "[nltk_data] Downloading package punkt_tab to /root/nltk_data...\n",
      "[nltk_data]   Package punkt_tab is already up-to-date!\n",
      "[nltk_data] Downloading package stopwords to /root/nltk_data...\n",
      "[nltk_data]   Package stopwords is already up-to-date!\n"
     ]
    }
   ],
   "source": [
    "from sklearn.linear_model import LogisticRegression # Modelo de regressão logística do sklearn\n",
    "from sklearn.model_selection import train_test_split # Função para dividir o banco entre treino e teste\n",
    "from sklearn.metrics import accuracy_score, confusion_matrix, classification_report # Algumas métricas e relatórios\n",
    "import random\n",
    "import re # Biblioteca de regular expressions\n",
    "import pandas as pd\n",
    "import matplotlib.pyplot as plt\n",
    "import seaborn as sns\n",
    "from nltk import word_tokenize # Tokenizador do nltk\n",
    "import nltk\n",
    "nltk.download('punkt')\n",
    "nltk.download('punkt_tab')\n",
    "from nltk.corpus import stopwords\n",
    "nltk.download('stopwords')\n",
    "# Importando o Vetorizador do sklearn\n",
    "from sklearn.feature_extraction.text import CountVectorizer"
   ]
  },
  {
   "cell_type": "markdown",
   "id": "d871a9b6",
   "metadata": {
    "id": "d871a9b6"
   },
   "source": [
    "Agora, vocês vão fazer a classificação de sentimento do banco, reclassificando a tarefa como binária (Negativo e Não Negativo)."
   ]
  },
  {
   "cell_type": "markdown",
   "id": "920eb99a",
   "metadata": {
    "id": "920eb99a"
   },
   "source": [
    "1 - Filtre somente as observações relevantes do banco e salve as colunas de interesse (texto e sentimento) em duas variáveis: X (features) e y (target)."
   ]
  },
  {
   "cell_type": "code",
   "execution_count": 29,
   "id": "d546993c",
   "metadata": {
    "colab": {
     "base_uri": "https://localhost:8080/",
     "height": 146
    },
    "executionInfo": {
     "elapsed": 296,
     "status": "ok",
     "timestamp": 1759170225985,
     "user": {
      "displayName": "Pedro Schmalz",
      "userId": "07700592580926452057"
     },
     "user_tz": 180
    },
    "id": "d546993c",
    "outputId": "5de82eb8-3b05-442e-a222-69b9e5d913d9"
   },
   "outputs": [
    {
     "data": {
      "text/html": [
       "<div>\n",
       "<style scoped>\n",
       "    .dataframe tbody tr th:only-of-type {\n",
       "        vertical-align: middle;\n",
       "    }\n",
       "\n",
       "    .dataframe tbody tr th {\n",
       "        vertical-align: top;\n",
       "    }\n",
       "\n",
       "    .dataframe thead th {\n",
       "        text-align: right;\n",
       "    }\n",
       "</style>\n",
       "<table border=\"1\" class=\"dataframe\">\n",
       "  <thead>\n",
       "    <tr style=\"text-align: right;\">\n",
       "      <th></th>\n",
       "      <th>count</th>\n",
       "    </tr>\n",
       "    <tr>\n",
       "      <th>relevant</th>\n",
       "      <th></th>\n",
       "    </tr>\n",
       "  </thead>\n",
       "  <tbody>\n",
       "    <tr>\n",
       "      <th>True</th>\n",
       "      <td>5962</td>\n",
       "    </tr>\n",
       "  </tbody>\n",
       "</table>\n",
       "</div><br><label><b>dtype:</b> int64</label>"
      ],
      "text/plain": [
       "relevant\n",
       "True    5962\n",
       "Name: count, dtype: int64"
      ]
     },
     "execution_count": 29,
     "metadata": {},
     "output_type": "execute_result"
    }
   ],
   "source": [
    "url = \"https://github.com/NUPRAM/CoViD-Pol/raw/main/Covid-Pol_Corpus_v2.0.csv\"\n",
    "df = pd.read_csv(url)\n",
    "df = df[df['relevant'] == True]\n",
    "df['relevant'].value_counts()"
   ]
  },
  {
   "cell_type": "markdown",
   "id": "f12e4fec",
   "metadata": {
    "id": "f12e4fec"
   },
   "source": [
    "2 - Qual a distribuição de classes em Sentimento?"
   ]
  },
  {
   "cell_type": "code",
   "execution_count": 30,
   "id": "e80b1cad",
   "metadata": {
    "colab": {
     "base_uri": "https://localhost:8080/",
     "height": 209
    },
    "executionInfo": {
     "elapsed": 12,
     "status": "ok",
     "timestamp": 1759170226025,
     "user": {
      "displayName": "Pedro Schmalz",
      "userId": "07700592580926452057"
     },
     "user_tz": 180
    },
    "id": "e80b1cad",
    "outputId": "f5117367-cd0f-4cd0-af78-5b46e5990f09"
   },
   "outputs": [
    {
     "data": {
      "text/html": [
       "<div>\n",
       "<style scoped>\n",
       "    .dataframe tbody tr th:only-of-type {\n",
       "        vertical-align: middle;\n",
       "    }\n",
       "\n",
       "    .dataframe tbody tr th {\n",
       "        vertical-align: top;\n",
       "    }\n",
       "\n",
       "    .dataframe thead th {\n",
       "        text-align: right;\n",
       "    }\n",
       "</style>\n",
       "<table border=\"1\" class=\"dataframe\">\n",
       "  <thead>\n",
       "    <tr style=\"text-align: right;\">\n",
       "      <th></th>\n",
       "      <th>count</th>\n",
       "    </tr>\n",
       "    <tr>\n",
       "      <th>final_sentiment</th>\n",
       "      <th></th>\n",
       "    </tr>\n",
       "  </thead>\n",
       "  <tbody>\n",
       "    <tr>\n",
       "      <th>positive</th>\n",
       "      <td>2789</td>\n",
       "    </tr>\n",
       "    <tr>\n",
       "      <th>negative</th>\n",
       "      <td>2767</td>\n",
       "    </tr>\n",
       "    <tr>\n",
       "      <th>unclear</th>\n",
       "      <td>390</td>\n",
       "    </tr>\n",
       "  </tbody>\n",
       "</table>\n",
       "</div><br><label><b>dtype:</b> int64</label>"
      ],
      "text/plain": [
       "final_sentiment\n",
       "positive    2789\n",
       "negative    2767\n",
       "unclear      390\n",
       "Name: count, dtype: int64"
      ]
     },
     "execution_count": 30,
     "metadata": {},
     "output_type": "execute_result"
    }
   ],
   "source": [
    "df['final_sentiment'].value_counts()"
   ]
  },
  {
   "cell_type": "markdown",
   "id": "f3b8da37",
   "metadata": {
    "id": "f3b8da37"
   },
   "source": [
    "3 - Junte as classes \"Positive\" e \"Unclear\" em uma só. A classificação deve ser binária entre \"Negativo\" e \"Não Negativo\"."
   ]
  },
  {
   "cell_type": "code",
   "execution_count": 31,
   "id": "62fce26d",
   "metadata": {
    "colab": {
     "base_uri": "https://localhost:8080/",
     "height": 178
    },
    "executionInfo": {
     "elapsed": 37,
     "status": "ok",
     "timestamp": 1759170226064,
     "user": {
      "displayName": "Pedro Schmalz",
      "userId": "07700592580926452057"
     },
     "user_tz": 180
    },
    "id": "62fce26d",
    "outputId": "1ffb790f-e743-44e5-89d4-700354d0b267"
   },
   "outputs": [
    {
     "data": {
      "text/html": [
       "<div>\n",
       "<style scoped>\n",
       "    .dataframe tbody tr th:only-of-type {\n",
       "        vertical-align: middle;\n",
       "    }\n",
       "\n",
       "    .dataframe tbody tr th {\n",
       "        vertical-align: top;\n",
       "    }\n",
       "\n",
       "    .dataframe thead th {\n",
       "        text-align: right;\n",
       "    }\n",
       "</style>\n",
       "<table border=\"1\" class=\"dataframe\">\n",
       "  <thead>\n",
       "    <tr style=\"text-align: right;\">\n",
       "      <th></th>\n",
       "      <th>count</th>\n",
       "    </tr>\n",
       "    <tr>\n",
       "      <th>final_sentiment_dummy</th>\n",
       "      <th></th>\n",
       "    </tr>\n",
       "  </thead>\n",
       "  <tbody>\n",
       "    <tr>\n",
       "      <th>0</th>\n",
       "      <td>3179</td>\n",
       "    </tr>\n",
       "    <tr>\n",
       "      <th>1</th>\n",
       "      <td>2783</td>\n",
       "    </tr>\n",
       "  </tbody>\n",
       "</table>\n",
       "</div><br><label><b>dtype:</b> int64</label>"
      ],
      "text/plain": [
       "final_sentiment_dummy\n",
       "0    3179\n",
       "1    2783\n",
       "Name: count, dtype: int64"
      ]
     },
     "execution_count": 31,
     "metadata": {},
     "output_type": "execute_result"
    }
   ],
   "source": [
    "def condicao(x):\n",
    "    if x == 'positive':\n",
    "        return 0 # positivo = 0\n",
    "    elif x == 'unclear':\n",
    "        return 0 # unclear = 0\n",
    "    else:\n",
    "        return 1\n",
    "\n",
    "df['final_sentiment_dummy'] = df['final_sentiment'].apply(condicao)\n",
    "df['final_sentiment_dummy'].value_counts()"
   ]
  },
  {
   "cell_type": "markdown",
   "id": "221cdbc8",
   "metadata": {
    "id": "221cdbc8"
   },
   "source": [
    "4 - Faça a divisão entre teste e treino, deixando 10% para teste. Não esqueça de estabelecer uma seed (random_state) de 42."
   ]
  },
  {
   "cell_type": "code",
   "execution_count": 32,
   "id": "-ZBgOl5YnR1N",
   "metadata": {
    "colab": {
     "base_uri": "https://localhost:8080/",
     "height": 961
    },
    "executionInfo": {
     "elapsed": 82,
     "status": "ok",
     "timestamp": 1759170226148,
     "user": {
      "displayName": "Pedro Schmalz",
      "userId": "07700592580926452057"
     },
     "user_tz": 180
    },
    "id": "-ZBgOl5YnR1N",
    "outputId": "4c1e2a60-f1b7-4f18-8c00-c34d2d64da72"
   },
   "outputs": [
    {
     "data": {
      "application/vnd.google.colaboratory.intrinsic+json": {
       "summary": "{\n  \"name\": \"df[['content','texto_processado']]\",\n  \"rows\": 5962,\n  \"fields\": [\n    {\n      \"column\": \"content\",\n      \"properties\": {\n        \"dtype\": \"string\",\n        \"num_unique_values\": 5948,\n        \"samples\": [\n          \"Gasolina quase 7 reais \\\\nG\\u00e1s de cozinha + de 100 reais \\\\nCesta B\\u00e1sica completa 600 reais \\\\nConta de Luz reajuste de 52% \\\\nD\\u00f3lar na casa dos 5 reais \\\\nCarne mais de 60 reais \\\\nInfla\\u00e7\\u00e3o subindo. \\\\nDesemprego recorde. \\\\nPandemia descontrolada. \\\\nVacinas atrasadas. \\\\nSua vida melhorou em que?\",\n          \"Reuni com o Ministro da Sa\\u00fade, Marcelo Queiroga, nessa quarta-feira para discutir a necessidade de mais vacinas para Bel\\u00e9m.\\\\n\\\\n#Bel\\u00e9mVacinada \",\n          \"Hospitais brasileiros temem \\u2018uso pol\\u00edtico\\u2019 de pesquisas nacionais sobre cloroquina. Resultados ser\\u00e3o anunciados nas pr\\u00f3ximas semanas e devem seguir a linha de estudos estrangeiros que n\\u00e3o comprovaram efic\\u00e1cia do rem\\u00e9dio p/ combater a covid-19\\\\n\\\\n\"\n        ],\n        \"semantic_type\": \"\",\n        \"description\": \"\"\n      }\n    },\n    {\n      \"column\": \"texto_processado\",\n      \"properties\": {\n        \"dtype\": \"string\",\n        \"num_unique_values\": 5934,\n        \"samples\": [\n          \"obrigada meu deus por ter me mantido protegida desse v rus obrigada por essa vacina muitos n\\u00e3o tiveram essa oportunidade edmilsonpsol helderbarbalho prefeiturabelem\",\n          \"omardeideais dizque tomou as duas doses da pfizer\",\n          \"hoje conversei com as r\\u00e1dios difusora de jata rio claro e felicidade de ipor\\u00e1 falei sobre benef cios conseguidos para as regi\\u00f5es sudoeste e oeste reforcei minha contrariedade quanto a cpi da covid \\u00e9 hora de concentrar na vacina e n\\u00e3o em uso pol tico eleitoral da pandemia\"\n        ],\n        \"semantic_type\": \"\",\n        \"description\": \"\"\n      }\n    }\n  ]\n}",
       "type": "dataframe"
      },
      "text/html": [
       "\n",
       "  <div id=\"df-1bee24f4-3890-4697-8dbb-7ef79429b259\" class=\"colab-df-container\">\n",
       "    <div>\n",
       "<style scoped>\n",
       "    .dataframe tbody tr th:only-of-type {\n",
       "        vertical-align: middle;\n",
       "    }\n",
       "\n",
       "    .dataframe tbody tr th {\n",
       "        vertical-align: top;\n",
       "    }\n",
       "\n",
       "    .dataframe thead th {\n",
       "        text-align: right;\n",
       "    }\n",
       "</style>\n",
       "<table border=\"1\" class=\"dataframe\">\n",
       "  <thead>\n",
       "    <tr style=\"text-align: right;\">\n",
       "      <th></th>\n",
       "      <th>content</th>\n",
       "      <th>texto_processado</th>\n",
       "    </tr>\n",
       "  </thead>\n",
       "  <tbody>\n",
       "    <tr>\n",
       "      <th>0</th>\n",
       "      <td>A cabeça pensa onde o pé pisa. Quem governa de dentro do escritório com ar-condicionado não conhece o dia-a-dia das escolas em POA. O protocolo de volta às aulas de Marchezan, como diz @ProfAlexFraga, é miserável e coloca a vida de alunos e professores em risco. #SemVacinaSemAula</td>\n",
       "      <td>a cabeça pensa onde o pé pisa quem governa de dentro do escritório com ar condicionado não conhece o dia a dia das escolas em poa o protocolo de volta s aulas de marchezan como diz profalexfraga é miserável e coloca a vida de alunos e professores em risco semvacinasemaula</td>\n",
       "    </tr>\n",
       "    <tr>\n",
       "      <th>1</th>\n",
       "      <td>Sarto vai fazer um grande Programa de Enfrentamento à Pandemia, vai garantir a vacina da Covid e muito mais! 🤝\\n\\nConfira o programa de hoje: #Fortaleza #CaminhandoJuntos #ComForçaECoragem #Sarto12 #FortalezaCadaVezMelhor #TrabalhoSério</td>\n",
       "      <td>sarto vai fazer um grande programa de enfrentamento pandemia vai garantir a vacina da covid e muito mais confira o programa de hoje fortaleza caminhandojuntos comforçaecoragem sarto fortalezacadavezmelhor trabalhosério</td>\n",
       "    </tr>\n",
       "    <tr>\n",
       "      <th>2</th>\n",
       "      <td>A Câmara dos Deputados votou hoje a MP que trata da adesão do Brasil à Aliança de Vacinação contra a Covid. O @psol50 encaminhou voto favorável à vacina. Nosso partido defende que o negacionismo de Bolsonaro é um projeto de uma sociedade movida pelo ódio e precisa ser derrotado.</td>\n",
       "      <td>a câmara dos deputados votou hoje a mp que trata da adesão do brasil aliança de vacinação contra a covid o psol encaminhou voto favorável vacina nosso partido defende que o negacionismo de bolsonaro é um projeto de uma sociedade movida pelo ódio e precisa ser derrotado</td>\n",
       "    </tr>\n",
       "    <tr>\n",
       "      <th>3</th>\n",
       "      <td>Tirar Bolsonaro do poder é uma questão de vida ou morte. Um presidente que impede testes para produção de uma vacina por pura guerra ideológica e que zomba da dor do povo precisa ser retirado imediatamente do poder. #ForaBolsonaro #impeachmentDeBolsonaro #bolsonarogenocida</td>\n",
       "      <td>tirar bolsonaro do poder é uma questão de vida ou morte um presidente que impede testes para produção de uma vacina por pura guerra ideológica e que zomba da dor do povo precisa ser retirado imediatamente do poder forabolsonaro impeachmentdebolsonaro bolsonarogenocida</td>\n",
       "    </tr>\n",
       "    <tr>\n",
       "      <th>4</th>\n",
       "      <td>E a LIESA decidiu adiar os desfiles do #CarnavalRJ. Sem data, não dá para pensar em sambódromo sem a esperada vacina. Agora é olhar pros profissionais do Carnaval, que precisam de apoio até o fim da pandemia. #DelegadaMarthaRocha #CarnavalRiodeJaneiro</td>\n",
       "      <td>e a liesa decidiu adiar os desfiles do carnavalrj sem data não dá para pensar em sambódromo sem a esperada vacina agora é olhar pros profissionais do carnaval que precisam de apoio até o fim da pandemia delegadamartharocha carnavalriodejaneiro</td>\n",
       "    </tr>\n",
       "    <tr>\n",
       "      <th>...</th>\n",
       "      <td>...</td>\n",
       "      <td>...</td>\n",
       "    </tr>\n",
       "    <tr>\n",
       "      <th>9187</th>\n",
       "      <td>Iniciou hoje a segunda etapa da Campanha Nacional de Vacinação contra a Gripe. As 134 salas de vacina abertas da @saudepoa passam a atender todos os grupos prioritários. A Campanha vai até 31 de maio e a meta é imunizar 90% da população alvo. https://t.co/MPQLqylOlX</td>\n",
       "      <td>iniciou hoje a segunda etapa da campanha nacional de vacinação contra a gripe as salas de vacina abertas da saudepoa passam a atender todos os grupos prioritários a campanha vai até de maio e a meta é imunizar da população alvo</td>\n",
       "    </tr>\n",
       "    <tr>\n",
       "      <th>9189</th>\n",
       "      <td>DEGRADAÇÃO DA SAÚDE PÚBLICA\\nFalta de vacina e remédios, atendimento precário, falta de médico, UBSs sem médico. É a SP de Bruno Covas e Doria https://t.co/e4x910naUM</td>\n",
       "      <td>degradação da sa de p blica falta de vacina e remédios atendimento precário falta de médico ubss sem médico é a sp de bruno covas e doria</td>\n",
       "    </tr>\n",
       "    <tr>\n",
       "      <th>9215</th>\n",
       "      <td>A vacina está disponível para pessoas a partir dos 60 anos, crianças até 6 anos, gestantes ou mulheres que pariram recentemente e portadores de algumas doenças crônicas como hipertensão e diabetes. #vacinanatal #prefeiturapresente #DiaD https://t.co/OlikUWfbIp</td>\n",
       "      <td>a vacina está dispon vel para pessoas a partir dos anos crianças até anos gestantes ou mulheres que pariram recentemente e portadores de algumas doenças cr nicas como hipertensão e diabetes vacinanatal prefeiturapresente diad</td>\n",
       "    </tr>\n",
       "    <tr>\n",
       "      <th>9229</th>\n",
       "      <td>📲LIVE DE SEXTA\\nQuer tirar dúvidas sobre a Gripe H1N1? Acompanhe nossa LIVE de Sexta com a presença da Dra. Marina Roriz, médica infectologista. E saiba mais sobre nossas ações do mandato.\\n#CampanhaDeVacinação #H1N1 https://t.co/6AJiS8XBMY</td>\n",
       "      <td>live de sexta quer tirar d vidas sobre a gripe h n acompanhe nossa live de sexta com a presença da dra marina roriz médica infectologista e saiba mais sobre nossas ações do mandato campanhadevacinação h n</td>\n",
       "    </tr>\n",
       "    <tr>\n",
       "      <th>9232</th>\n",
       "      <td>Nosso Estado se tornou Área com Recomendação de Vacinação para a febre amarela, por isso, todas as pessoas com idade a partir de nove meses devem ser imunizadas. A campanha de vacinação vai até o dia 20 de abril.</td>\n",
       "      <td>nosso estado se tornou área com recomendação de vacinação para a febre amarela por isso todas as pessoas com idade a partir de nove meses devem ser imunizadas a campanha de vacinação vai até o dia de abril</td>\n",
       "    </tr>\n",
       "  </tbody>\n",
       "</table>\n",
       "<p>5962 rows × 2 columns</p>\n",
       "</div>\n",
       "    <div class=\"colab-df-buttons\">\n",
       "\n",
       "  <div class=\"colab-df-container\">\n",
       "    <button class=\"colab-df-convert\" onclick=\"convertToInteractive('df-1bee24f4-3890-4697-8dbb-7ef79429b259')\"\n",
       "            title=\"Convert this dataframe to an interactive table.\"\n",
       "            style=\"display:none;\">\n",
       "\n",
       "  <svg xmlns=\"http://www.w3.org/2000/svg\" height=\"24px\" viewBox=\"0 -960 960 960\">\n",
       "    <path d=\"M120-120v-720h720v720H120Zm60-500h600v-160H180v160Zm220 220h160v-160H400v160Zm0 220h160v-160H400v160ZM180-400h160v-160H180v160Zm440 0h160v-160H620v160ZM180-180h160v-160H180v160Zm440 0h160v-160H620v160Z\"/>\n",
       "  </svg>\n",
       "    </button>\n",
       "\n",
       "  <style>\n",
       "    .colab-df-container {\n",
       "      display:flex;\n",
       "      gap: 12px;\n",
       "    }\n",
       "\n",
       "    .colab-df-convert {\n",
       "      background-color: #E8F0FE;\n",
       "      border: none;\n",
       "      border-radius: 50%;\n",
       "      cursor: pointer;\n",
       "      display: none;\n",
       "      fill: #1967D2;\n",
       "      height: 32px;\n",
       "      padding: 0 0 0 0;\n",
       "      width: 32px;\n",
       "    }\n",
       "\n",
       "    .colab-df-convert:hover {\n",
       "      background-color: #E2EBFA;\n",
       "      box-shadow: 0px 1px 2px rgba(60, 64, 67, 0.3), 0px 1px 3px 1px rgba(60, 64, 67, 0.15);\n",
       "      fill: #174EA6;\n",
       "    }\n",
       "\n",
       "    .colab-df-buttons div {\n",
       "      margin-bottom: 4px;\n",
       "    }\n",
       "\n",
       "    [theme=dark] .colab-df-convert {\n",
       "      background-color: #3B4455;\n",
       "      fill: #D2E3FC;\n",
       "    }\n",
       "\n",
       "    [theme=dark] .colab-df-convert:hover {\n",
       "      background-color: #434B5C;\n",
       "      box-shadow: 0px 1px 3px 1px rgba(0, 0, 0, 0.15);\n",
       "      filter: drop-shadow(0px 1px 2px rgba(0, 0, 0, 0.3));\n",
       "      fill: #FFFFFF;\n",
       "    }\n",
       "  </style>\n",
       "\n",
       "    <script>\n",
       "      const buttonEl =\n",
       "        document.querySelector('#df-1bee24f4-3890-4697-8dbb-7ef79429b259 button.colab-df-convert');\n",
       "      buttonEl.style.display =\n",
       "        google.colab.kernel.accessAllowed ? 'block' : 'none';\n",
       "\n",
       "      async function convertToInteractive(key) {\n",
       "        const element = document.querySelector('#df-1bee24f4-3890-4697-8dbb-7ef79429b259');\n",
       "        const dataTable =\n",
       "          await google.colab.kernel.invokeFunction('convertToInteractive',\n",
       "                                                    [key], {});\n",
       "        if (!dataTable) return;\n",
       "\n",
       "        const docLinkHtml = 'Like what you see? Visit the ' +\n",
       "          '<a target=\"_blank\" href=https://colab.research.google.com/notebooks/data_table.ipynb>data table notebook</a>'\n",
       "          + ' to learn more about interactive tables.';\n",
       "        element.innerHTML = '';\n",
       "        dataTable['output_type'] = 'display_data';\n",
       "        await google.colab.output.renderOutput(dataTable, element);\n",
       "        const docLink = document.createElement('div');\n",
       "        docLink.innerHTML = docLinkHtml;\n",
       "        element.appendChild(docLink);\n",
       "      }\n",
       "    </script>\n",
       "  </div>\n",
       "\n",
       "\n",
       "    <div id=\"df-fe7181f3-4533-4bfb-830b-4084bd526ebe\">\n",
       "      <button class=\"colab-df-quickchart\" onclick=\"quickchart('df-fe7181f3-4533-4bfb-830b-4084bd526ebe')\"\n",
       "                title=\"Suggest charts\"\n",
       "                style=\"display:none;\">\n",
       "\n",
       "<svg xmlns=\"http://www.w3.org/2000/svg\" height=\"24px\"viewBox=\"0 0 24 24\"\n",
       "     width=\"24px\">\n",
       "    <g>\n",
       "        <path d=\"M19 3H5c-1.1 0-2 .9-2 2v14c0 1.1.9 2 2 2h14c1.1 0 2-.9 2-2V5c0-1.1-.9-2-2-2zM9 17H7v-7h2v7zm4 0h-2V7h2v10zm4 0h-2v-4h2v4z\"/>\n",
       "    </g>\n",
       "</svg>\n",
       "      </button>\n",
       "\n",
       "<style>\n",
       "  .colab-df-quickchart {\n",
       "      --bg-color: #E8F0FE;\n",
       "      --fill-color: #1967D2;\n",
       "      --hover-bg-color: #E2EBFA;\n",
       "      --hover-fill-color: #174EA6;\n",
       "      --disabled-fill-color: #AAA;\n",
       "      --disabled-bg-color: #DDD;\n",
       "  }\n",
       "\n",
       "  [theme=dark] .colab-df-quickchart {\n",
       "      --bg-color: #3B4455;\n",
       "      --fill-color: #D2E3FC;\n",
       "      --hover-bg-color: #434B5C;\n",
       "      --hover-fill-color: #FFFFFF;\n",
       "      --disabled-bg-color: #3B4455;\n",
       "      --disabled-fill-color: #666;\n",
       "  }\n",
       "\n",
       "  .colab-df-quickchart {\n",
       "    background-color: var(--bg-color);\n",
       "    border: none;\n",
       "    border-radius: 50%;\n",
       "    cursor: pointer;\n",
       "    display: none;\n",
       "    fill: var(--fill-color);\n",
       "    height: 32px;\n",
       "    padding: 0;\n",
       "    width: 32px;\n",
       "  }\n",
       "\n",
       "  .colab-df-quickchart:hover {\n",
       "    background-color: var(--hover-bg-color);\n",
       "    box-shadow: 0 1px 2px rgba(60, 64, 67, 0.3), 0 1px 3px 1px rgba(60, 64, 67, 0.15);\n",
       "    fill: var(--button-hover-fill-color);\n",
       "  }\n",
       "\n",
       "  .colab-df-quickchart-complete:disabled,\n",
       "  .colab-df-quickchart-complete:disabled:hover {\n",
       "    background-color: var(--disabled-bg-color);\n",
       "    fill: var(--disabled-fill-color);\n",
       "    box-shadow: none;\n",
       "  }\n",
       "\n",
       "  .colab-df-spinner {\n",
       "    border: 2px solid var(--fill-color);\n",
       "    border-color: transparent;\n",
       "    border-bottom-color: var(--fill-color);\n",
       "    animation:\n",
       "      spin 1s steps(1) infinite;\n",
       "  }\n",
       "\n",
       "  @keyframes spin {\n",
       "    0% {\n",
       "      border-color: transparent;\n",
       "      border-bottom-color: var(--fill-color);\n",
       "      border-left-color: var(--fill-color);\n",
       "    }\n",
       "    20% {\n",
       "      border-color: transparent;\n",
       "      border-left-color: var(--fill-color);\n",
       "      border-top-color: var(--fill-color);\n",
       "    }\n",
       "    30% {\n",
       "      border-color: transparent;\n",
       "      border-left-color: var(--fill-color);\n",
       "      border-top-color: var(--fill-color);\n",
       "      border-right-color: var(--fill-color);\n",
       "    }\n",
       "    40% {\n",
       "      border-color: transparent;\n",
       "      border-right-color: var(--fill-color);\n",
       "      border-top-color: var(--fill-color);\n",
       "    }\n",
       "    60% {\n",
       "      border-color: transparent;\n",
       "      border-right-color: var(--fill-color);\n",
       "    }\n",
       "    80% {\n",
       "      border-color: transparent;\n",
       "      border-right-color: var(--fill-color);\n",
       "      border-bottom-color: var(--fill-color);\n",
       "    }\n",
       "    90% {\n",
       "      border-color: transparent;\n",
       "      border-bottom-color: var(--fill-color);\n",
       "    }\n",
       "  }\n",
       "</style>\n",
       "\n",
       "      <script>\n",
       "        async function quickchart(key) {\n",
       "          const quickchartButtonEl =\n",
       "            document.querySelector('#' + key + ' button');\n",
       "          quickchartButtonEl.disabled = true;  // To prevent multiple clicks.\n",
       "          quickchartButtonEl.classList.add('colab-df-spinner');\n",
       "          try {\n",
       "            const charts = await google.colab.kernel.invokeFunction(\n",
       "                'suggestCharts', [key], {});\n",
       "          } catch (error) {\n",
       "            console.error('Error during call to suggestCharts:', error);\n",
       "          }\n",
       "          quickchartButtonEl.classList.remove('colab-df-spinner');\n",
       "          quickchartButtonEl.classList.add('colab-df-quickchart-complete');\n",
       "        }\n",
       "        (() => {\n",
       "          let quickchartButtonEl =\n",
       "            document.querySelector('#df-fe7181f3-4533-4bfb-830b-4084bd526ebe button');\n",
       "          quickchartButtonEl.style.display =\n",
       "            google.colab.kernel.accessAllowed ? 'block' : 'none';\n",
       "        })();\n",
       "      </script>\n",
       "    </div>\n",
       "\n",
       "    </div>\n",
       "  </div>\n"
      ],
      "text/plain": [
       "                                                                                                                                                                                                                                                                                       content  \\\n",
       "0     A cabeça pensa onde o pé pisa. Quem governa de dentro do escritório com ar-condicionado não conhece o dia-a-dia das escolas em POA. O protocolo de volta às aulas de Marchezan, como diz @ProfAlexFraga, é miserável e coloca a vida de alunos e professores em risco. #SemVacinaSemAula   \n",
       "1                                                 Sarto vai fazer um grande Programa de Enfrentamento à Pandemia, vai garantir a vacina da Covid e muito mais! 🤝\\n\\nConfira o programa de hoje: #Fortaleza #CaminhandoJuntos #ComForçaECoragem #Sarto12 #FortalezaCadaVezMelhor #TrabalhoSério   \n",
       "2      A Câmara dos Deputados votou hoje a MP que trata da adesão do Brasil à Aliança de Vacinação contra a Covid. O @psol50 encaminhou voto favorável à vacina. Nosso partido defende que o negacionismo de Bolsonaro é um projeto de uma sociedade movida pelo ódio e precisa ser derrotado.   \n",
       "3            Tirar Bolsonaro do poder é uma questão de vida ou morte. Um presidente que impede testes para produção de uma vacina por pura guerra ideológica e que zomba da dor do povo precisa ser retirado imediatamente do poder. #ForaBolsonaro #impeachmentDeBolsonaro #bolsonarogenocida   \n",
       "4                                  E a LIESA decidiu adiar os desfiles do #CarnavalRJ. Sem data, não dá para pensar em sambódromo sem a esperada vacina. Agora é olhar pros profissionais do Carnaval, que precisam de apoio até o fim da pandemia. #DelegadaMarthaRocha #CarnavalRiodeJaneiro   \n",
       "...                                                                                                                                                                                                                                                                                        ...   \n",
       "9187                Iniciou hoje a segunda etapa da Campanha Nacional de Vacinação contra a Gripe. As 134 salas de vacina abertas da @saudepoa passam a atender todos os grupos prioritários. A Campanha vai até 31 de maio e a meta é imunizar 90% da população alvo. https://t.co/MPQLqylOlX   \n",
       "9189                                                                                                                    DEGRADAÇÃO DA SAÚDE PÚBLICA\\nFalta de vacina e remédios, atendimento precário, falta de médico, UBSs sem médico. É a SP de Bruno Covas e Doria https://t.co/e4x910naUM   \n",
       "9215                      A vacina está disponível para pessoas a partir dos 60 anos, crianças até 6 anos, gestantes ou mulheres que pariram recentemente e portadores de algumas doenças crônicas como hipertensão e diabetes. #vacinanatal #prefeiturapresente #DiaD https://t.co/OlikUWfbIp   \n",
       "9229                                          📲LIVE DE SEXTA\\nQuer tirar dúvidas sobre a Gripe H1N1? Acompanhe nossa LIVE de Sexta com a presença da Dra. Marina Roriz, médica infectologista. E saiba mais sobre nossas ações do mandato.\\n#CampanhaDeVacinação #H1N1 https://t.co/6AJiS8XBMY   \n",
       "9232                                                                      Nosso Estado se tornou Área com Recomendação de Vacinação para a febre amarela, por isso, todas as pessoas com idade a partir de nove meses devem ser imunizadas. A campanha de vacinação vai até o dia 20 de abril.   \n",
       "\n",
       "                                                                                                                                                                                                                                                                      texto_processado  \n",
       "0     a cabeça pensa onde o pé pisa quem governa de dentro do escritório com ar condicionado não conhece o dia a dia das escolas em poa o protocolo de volta s aulas de marchezan como diz profalexfraga é miserável e coloca a vida de alunos e professores em risco semvacinasemaula  \n",
       "1                                                           sarto vai fazer um grande programa de enfrentamento pandemia vai garantir a vacina da covid e muito mais confira o programa de hoje fortaleza caminhandojuntos comforçaecoragem sarto fortalezacadavezmelhor trabalhosério  \n",
       "2        a câmara dos deputados votou hoje a mp que trata da adesão do brasil aliança de vacinação contra a covid o psol encaminhou voto favorável vacina nosso partido defende que o negacionismo de bolsonaro é um projeto de uma sociedade movida pelo ódio e precisa ser derrotado  \n",
       "3         tirar bolsonaro do poder é uma questão de vida ou morte um presidente que impede testes para produção de uma vacina por pura guerra ideológica e que zomba da dor do povo precisa ser retirado imediatamente do poder forabolsonaro impeachmentdebolsonaro bolsonarogenocida  \n",
       "4                                  e a liesa decidiu adiar os desfiles do carnavalrj sem data não dá para pensar em sambódromo sem a esperada vacina agora é olhar pros profissionais do carnaval que precisam de apoio até o fim da pandemia delegadamartharocha carnavalriodejaneiro  \n",
       "...                                                                                                                                                                                                                                                                                ...  \n",
       "9187                                               iniciou hoje a segunda etapa da campanha nacional de vacinação contra a gripe as salas de vacina abertas da saudepoa passam a atender todos os grupos prioritários a campanha vai até de maio e a meta é imunizar da população alvo  \n",
       "9189                                                                                                                                         degradação da sa de p blica falta de vacina e remédios atendimento precário falta de médico ubss sem médico é a sp de bruno covas e doria  \n",
       "9215                                                 a vacina está dispon vel para pessoas a partir dos anos crianças até anos gestantes ou mulheres que pariram recentemente e portadores de algumas doenças cr nicas como hipertensão e diabetes vacinanatal prefeiturapresente diad  \n",
       "9229                                                                      live de sexta quer tirar d vidas sobre a gripe h n acompanhe nossa live de sexta com a presença da dra marina roriz médica infectologista e saiba mais sobre nossas ações do mandato campanhadevacinação h n  \n",
       "9232                                                                     nosso estado se tornou área com recomendação de vacinação para a febre amarela por isso todas as pessoas com idade a partir de nove meses devem ser imunizadas a campanha de vacinação vai até o dia de abril  \n",
       "\n",
       "[5962 rows x 2 columns]"
      ]
     },
     "execution_count": 32,
     "metadata": {},
     "output_type": "execute_result"
    }
   ],
   "source": [
    "import re\n",
    "\n",
    "def preprocess_text(texto):\n",
    "    # Use uma expressão regular para encontrar e remover URLs\n",
    "    texto = re.sub(r'https://\\S+', '', texto)\n",
    "\n",
    "    # Remover quebra de linha\n",
    "    texto = texto.replace('\\\\n', ' ')\n",
    "\n",
    "    # Remover Hashtags\n",
    "    texto = re.sub(r'#(\\w+)', r'\\1', texto)\n",
    "\n",
    "    # Deixar todas as letras minúsculas\n",
    "    texto = texto.lower()\n",
    "\n",
    "    # Selecionar apenas letras\n",
    "    texto = re.findall(r'[a-zéóáêâãõç]+', texto)\n",
    "\n",
    "    # Juntar o texto, já que o .findall separa em tokens\n",
    "    texto = \" \".join(texto)\n",
    "\n",
    "    return texto\n",
    "\n",
    "# Criando a nova coluna transformada\n",
    "df[\"texto_processado\"] = df['content'].apply(preprocess_text)\n",
    "\n",
    "pd.set_option('display.max_colwidth', None) # Para mostrar a coluna inteira\n",
    "\n",
    "# Imprimindo\n",
    "df[['content','texto_processado']]"
   ]
  },
  {
   "cell_type": "code",
   "execution_count": 44,
   "id": "4de599c9",
   "metadata": {
    "executionInfo": {
     "elapsed": 6,
     "status": "ok",
     "timestamp": 1759170380411,
     "user": {
      "displayName": "Pedro Schmalz",
      "userId": "07700592580926452057"
     },
     "user_tz": 180
    },
    "id": "4de599c9"
   },
   "outputs": [],
   "source": [
    "X = df['texto_processado']\n",
    "y = df['final_sentiment_dummy']\n",
    "\n",
    "\n",
    "X_treino, X_teste, y_treino, y_teste = train_test_split(X, # Vetor de variáveis explicativas\n",
    "                                                        y, # Target (Ou Var. Dep.)\n",
    "                                                        test_size=0.1, # Porcentagem que vai ficar para teste (20%)\n",
    "                                                        random_state=42) # Seed para garantir a estabilidade dos resultados"
   ]
  },
  {
   "cell_type": "markdown",
   "id": "7d3c2ef1",
   "metadata": {
    "id": "7d3c2ef1"
   },
   "source": [
    "6 - Apresente quantas observações ficarão para treino e validação em cada uma das dobras (folds):"
   ]
  },
  {
   "cell_type": "code",
   "execution_count": 35,
   "id": "25beb552",
   "metadata": {
    "colab": {
     "base_uri": "https://localhost:8080/"
    },
    "executionInfo": {
     "elapsed": 26,
     "status": "ok",
     "timestamp": 1759170226539,
     "user": {
      "displayName": "Pedro Schmalz",
      "userId": "07700592580926452057"
     },
     "user_tz": 180
    },
    "id": "25beb552",
    "outputId": "04b33e7a-f8f7-4a36-8aa1-908668ada506"
   },
   "outputs": [
    {
     "name": "stdout",
     "output_type": "stream",
     "text": [
      "Dobra (Fold) 0:\n",
      "  Treino: tamanho=4828\n",
      "  Teste:  tamanho=537\n",
      "Dobra (Fold) 1:\n",
      "  Treino: tamanho=4828\n",
      "  Teste:  tamanho=537\n",
      "Dobra (Fold) 2:\n",
      "  Treino: tamanho=4828\n",
      "  Teste:  tamanho=537\n",
      "Dobra (Fold) 3:\n",
      "  Treino: tamanho=4828\n",
      "  Teste:  tamanho=537\n",
      "Dobra (Fold) 4:\n",
      "  Treino: tamanho=4828\n",
      "  Teste:  tamanho=537\n",
      "Dobra (Fold) 5:\n",
      "  Treino: tamanho=4829\n",
      "  Teste:  tamanho=536\n",
      "Dobra (Fold) 6:\n",
      "  Treino: tamanho=4829\n",
      "  Teste:  tamanho=536\n",
      "Dobra (Fold) 7:\n",
      "  Treino: tamanho=4829\n",
      "  Teste:  tamanho=536\n",
      "Dobra (Fold) 8:\n",
      "  Treino: tamanho=4829\n",
      "  Teste:  tamanho=536\n",
      "Dobra (Fold) 9:\n",
      "  Treino: tamanho=4829\n",
      "  Teste:  tamanho=536\n"
     ]
    }
   ],
   "source": [
    "from sklearn.model_selection import KFold\n",
    "\n",
    "kf = KFold(n_splits=10) # O default é 5\n",
    "\n",
    "for i, (train_index, test_index) in enumerate(kf.split(X_treino)):\n",
    "  print(f\"Dobra (Fold) {i}:\")\n",
    "  print(f\"  Treino: tamanho={len(train_index)}\")\n",
    "  print(f\"  Teste:  tamanho={len(test_index)}\")"
   ]
  },
  {
   "cell_type": "markdown",
   "id": "3eebae7c",
   "metadata": {
    "id": "3eebae7c"
   },
   "source": [
    "7 - Qual a distribuição de classes no y_treino e no y_teste?"
   ]
  },
  {
   "cell_type": "code",
   "execution_count": 36,
   "id": "ImV0sJKmoMkg",
   "metadata": {
    "colab": {
     "base_uri": "https://localhost:8080/",
     "height": 178
    },
    "executionInfo": {
     "elapsed": 14,
     "status": "ok",
     "timestamp": 1759170226540,
     "user": {
      "displayName": "Pedro Schmalz",
      "userId": "07700592580926452057"
     },
     "user_tz": 180
    },
    "id": "ImV0sJKmoMkg",
    "outputId": "762f19eb-8113-4906-a0d6-9ee7f7a7fcc0"
   },
   "outputs": [
    {
     "data": {
      "text/html": [
       "<div>\n",
       "<style scoped>\n",
       "    .dataframe tbody tr th:only-of-type {\n",
       "        vertical-align: middle;\n",
       "    }\n",
       "\n",
       "    .dataframe tbody tr th {\n",
       "        vertical-align: top;\n",
       "    }\n",
       "\n",
       "    .dataframe thead th {\n",
       "        text-align: right;\n",
       "    }\n",
       "</style>\n",
       "<table border=\"1\" class=\"dataframe\">\n",
       "  <thead>\n",
       "    <tr style=\"text-align: right;\">\n",
       "      <th></th>\n",
       "      <th>count</th>\n",
       "    </tr>\n",
       "    <tr>\n",
       "      <th>final_sentiment_dummy</th>\n",
       "      <th></th>\n",
       "    </tr>\n",
       "  </thead>\n",
       "  <tbody>\n",
       "    <tr>\n",
       "      <th>0</th>\n",
       "      <td>2860</td>\n",
       "    </tr>\n",
       "    <tr>\n",
       "      <th>1</th>\n",
       "      <td>2505</td>\n",
       "    </tr>\n",
       "  </tbody>\n",
       "</table>\n",
       "</div><br><label><b>dtype:</b> int64</label>"
      ],
      "text/plain": [
       "final_sentiment_dummy\n",
       "0    2860\n",
       "1    2505\n",
       "Name: count, dtype: int64"
      ]
     },
     "execution_count": 36,
     "metadata": {},
     "output_type": "execute_result"
    }
   ],
   "source": [
    "y_treino.value_counts()"
   ]
  },
  {
   "cell_type": "code",
   "execution_count": 37,
   "id": "17f84b0e",
   "metadata": {
    "colab": {
     "base_uri": "https://localhost:8080/",
     "height": 178
    },
    "executionInfo": {
     "elapsed": 10,
     "status": "ok",
     "timestamp": 1759170226543,
     "user": {
      "displayName": "Pedro Schmalz",
      "userId": "07700592580926452057"
     },
     "user_tz": 180
    },
    "id": "17f84b0e",
    "outputId": "f35ab180-790d-4119-8c1c-db48f4fa7a32"
   },
   "outputs": [
    {
     "data": {
      "text/html": [
       "<div>\n",
       "<style scoped>\n",
       "    .dataframe tbody tr th:only-of-type {\n",
       "        vertical-align: middle;\n",
       "    }\n",
       "\n",
       "    .dataframe tbody tr th {\n",
       "        vertical-align: top;\n",
       "    }\n",
       "\n",
       "    .dataframe thead th {\n",
       "        text-align: right;\n",
       "    }\n",
       "</style>\n",
       "<table border=\"1\" class=\"dataframe\">\n",
       "  <thead>\n",
       "    <tr style=\"text-align: right;\">\n",
       "      <th></th>\n",
       "      <th>count</th>\n",
       "    </tr>\n",
       "    <tr>\n",
       "      <th>final_sentiment_dummy</th>\n",
       "      <th></th>\n",
       "    </tr>\n",
       "  </thead>\n",
       "  <tbody>\n",
       "    <tr>\n",
       "      <th>0</th>\n",
       "      <td>319</td>\n",
       "    </tr>\n",
       "    <tr>\n",
       "      <th>1</th>\n",
       "      <td>278</td>\n",
       "    </tr>\n",
       "  </tbody>\n",
       "</table>\n",
       "</div><br><label><b>dtype:</b> int64</label>"
      ],
      "text/plain": [
       "final_sentiment_dummy\n",
       "0    319\n",
       "1    278\n",
       "Name: count, dtype: int64"
      ]
     },
     "execution_count": 37,
     "metadata": {},
     "output_type": "execute_result"
    }
   ],
   "source": [
    "y_teste.value_counts()"
   ]
  },
  {
   "cell_type": "markdown",
   "id": "a3418d08",
   "metadata": {
    "id": "a3418d08"
   },
   "source": [
    "8 - Faça o loop de treinamento com um k-fold com 10 folds"
   ]
  },
  {
   "cell_type": "code",
   "execution_count": 45,
   "id": "344bd4d3",
   "metadata": {
    "executionInfo": {
     "elapsed": 8322,
     "status": "ok",
     "timestamp": 1759170399376,
     "user": {
      "displayName": "Pedro Schmalz",
      "userId": "07700592580926452057"
     },
     "user_tz": 180
    },
    "id": "344bd4d3"
   },
   "outputs": [],
   "source": [
    "from sklearn.model_selection import KFold\n",
    "from sklearn.linear_model import LogisticRegression\n",
    "from sklearn.metrics import precision_recall_fscore_support\n",
    "from sklearn.feature_extraction.text import CountVectorizer\n",
    "import pandas as pd\n",
    "\n",
    "kf = KFold(n_splits=10, shuffle=True, random_state=42)\n",
    "resultados = pd.DataFrame()\n",
    "\n",
    "for i, (train_index, test_index) in enumerate(kf.split(X_treino)):  # X é pandas Series com textos brutos\n",
    "    # Dividir os textos em treino e teste por índice\n",
    "    X_treino_kf = X_treino.iloc[train_index]\n",
    "    X_teste_kf = X_treino.iloc[test_index]\n",
    "    y_treino_kf = y_treino.iloc[train_index]\n",
    "    y_teste_kf = y_treino.iloc[test_index]\n",
    "\n",
    "    # Criar vetorizar do zero para cada fold\n",
    "    vectorizer = CountVectorizer(stop_words=stop_words, ngram_range=(1,1))\n",
    "    X_treino_vec = vectorizer.fit_transform(X_treino_kf)\n",
    "    X_teste_vec = vectorizer.transform(X_teste_kf)  # usar transform para teste\n",
    "\n",
    "    # Treinar o modelo com vetores\n",
    "    modelo = LogisticRegression(random_state=42)\n",
    "    modelo.fit(X_treino_vec, y_treino_kf)\n",
    "\n",
    "    # Predição e avaliação\n",
    "    y_pred_kf = modelo.predict(X_teste_vec)\n",
    "    precisao, revocacao, f1, suporte = precision_recall_fscore_support(y_teste_kf, y_pred_kf, average=None, labels=[0, 1])\n",
    "\n",
    "    metricas_dict = {\n",
    "        'Precision': precisao,\n",
    "        'Recall': revocacao,\n",
    "        'F1-score': f1,\n",
    "        'Fold': i\n",
    "    }\n",
    "    metricas = pd.DataFrame(metricas_dict)\n",
    "    metricas.reset_index(inplace=True)\n",
    "    metricas.rename(columns={'index': 'Classe'}, inplace=True)\n",
    "\n",
    "    resultados = pd.concat([resultados, metricas], axis=0)\n",
    "\n",
    "resultados.reset_index(drop=True, inplace=True)\n",
    "\n"
   ]
  },
  {
   "cell_type": "markdown",
   "id": "f7508969",
   "metadata": {
    "id": "f7508969"
   },
   "source": [
    "9 - Apresente o dataframe de resultados"
   ]
  },
  {
   "cell_type": "code",
   "execution_count": 46,
   "id": "6acda41b",
   "metadata": {
    "colab": {
     "base_uri": "https://localhost:8080/",
     "height": 676
    },
    "executionInfo": {
     "elapsed": 42,
     "status": "ok",
     "timestamp": 1759170405120,
     "user": {
      "displayName": "Pedro Schmalz",
      "userId": "07700592580926452057"
     },
     "user_tz": 180
    },
    "id": "6acda41b",
    "outputId": "ab7ae546-d83f-474e-cdf8-8a3e726c50b3"
   },
   "outputs": [
    {
     "data": {
      "application/vnd.google.colaboratory.intrinsic+json": {
       "summary": "{\n  \"name\": \"resultados\",\n  \"rows\": 20,\n  \"fields\": [\n    {\n      \"column\": \"Classe\",\n      \"properties\": {\n        \"dtype\": \"category\",\n        \"num_unique_values\": 2,\n        \"samples\": [\n          \"Negativo\",\n          \"N\\u00e3o Negativo\"\n        ],\n        \"semantic_type\": \"\",\n        \"description\": \"\"\n      }\n    },\n    {\n      \"column\": \"Precision\",\n      \"properties\": {\n        \"dtype\": \"number\",\n        \"std\": 0.02460926263556333,\n        \"min\": 0.7834394904458599,\n        \"max\": 0.8728813559322034,\n        \"num_unique_values\": 20,\n        \"samples\": [\n          0.8498402555910544,\n          0.8629032258064516\n        ],\n        \"semantic_type\": \"\",\n        \"description\": \"\"\n      }\n    },\n    {\n      \"column\": \"Recall\",\n      \"properties\": {\n        \"dtype\": \"number\",\n        \"std\": 0.05033700839252877,\n        \"min\": 0.7246963562753036,\n        \"max\": 0.8928571428571429,\n        \"num_unique_values\": 20,\n        \"samples\": [\n          0.86084142394822,\n          0.8199233716475096\n        ],\n        \"semantic_type\": \"\",\n        \"description\": \"\"\n      }\n    },\n    {\n      \"column\": \"F1-score\",\n      \"properties\": {\n        \"dtype\": \"number\",\n        \"std\": 0.027133133253762938,\n        \"min\": 0.7617021276595745,\n        \"max\": 0.8605851979345955,\n        \"num_unique_values\": 20,\n        \"samples\": [\n          0.8553054662379421,\n          0.8408644400785854\n        ],\n        \"semantic_type\": \"\",\n        \"description\": \"\"\n      }\n    },\n    {\n      \"column\": \"Fold\",\n      \"properties\": {\n        \"dtype\": \"number\",\n        \"std\": 2,\n        \"min\": 0,\n        \"max\": 9,\n        \"num_unique_values\": 10,\n        \"samples\": [\n          8,\n          1\n        ],\n        \"semantic_type\": \"\",\n        \"description\": \"\"\n      }\n    }\n  ]\n}",
       "type": "dataframe",
       "variable_name": "resultados"
      },
      "text/html": [
       "\n",
       "  <div id=\"df-47a67dcf-b744-49ed-917c-26e0f5883ea1\" class=\"colab-df-container\">\n",
       "    <div>\n",
       "<style scoped>\n",
       "    .dataframe tbody tr th:only-of-type {\n",
       "        vertical-align: middle;\n",
       "    }\n",
       "\n",
       "    .dataframe tbody tr th {\n",
       "        vertical-align: top;\n",
       "    }\n",
       "\n",
       "    .dataframe thead th {\n",
       "        text-align: right;\n",
       "    }\n",
       "</style>\n",
       "<table border=\"1\" class=\"dataframe\">\n",
       "  <thead>\n",
       "    <tr style=\"text-align: right;\">\n",
       "      <th></th>\n",
       "      <th>Classe</th>\n",
       "      <th>Precision</th>\n",
       "      <th>Recall</th>\n",
       "      <th>F1-score</th>\n",
       "      <th>Fold</th>\n",
       "    </tr>\n",
       "  </thead>\n",
       "  <tbody>\n",
       "    <tr>\n",
       "      <th>0</th>\n",
       "      <td>Não Negativo</td>\n",
       "      <td>0.849840</td>\n",
       "      <td>0.860841</td>\n",
       "      <td>0.855305</td>\n",
       "      <td>0</td>\n",
       "    </tr>\n",
       "    <tr>\n",
       "      <th>1</th>\n",
       "      <td>Negativo</td>\n",
       "      <td>0.808036</td>\n",
       "      <td>0.793860</td>\n",
       "      <td>0.800885</td>\n",
       "      <td>0</td>\n",
       "    </tr>\n",
       "    <tr>\n",
       "      <th>2</th>\n",
       "      <td>Não Negativo</td>\n",
       "      <td>0.815789</td>\n",
       "      <td>0.864111</td>\n",
       "      <td>0.839255</td>\n",
       "      <td>1</td>\n",
       "    </tr>\n",
       "    <tr>\n",
       "      <th>3</th>\n",
       "      <td>Negativo</td>\n",
       "      <td>0.832618</td>\n",
       "      <td>0.776000</td>\n",
       "      <td>0.803313</td>\n",
       "      <td>1</td>\n",
       "    </tr>\n",
       "    <tr>\n",
       "      <th>4</th>\n",
       "      <td>Não Negativo</td>\n",
       "      <td>0.830565</td>\n",
       "      <td>0.892857</td>\n",
       "      <td>0.860585</td>\n",
       "      <td>2</td>\n",
       "    </tr>\n",
       "    <tr>\n",
       "      <th>5</th>\n",
       "      <td>Negativo</td>\n",
       "      <td>0.872881</td>\n",
       "      <td>0.801556</td>\n",
       "      <td>0.835700</td>\n",
       "      <td>2</td>\n",
       "    </tr>\n",
       "    <tr>\n",
       "      <th>6</th>\n",
       "      <td>Não Negativo</td>\n",
       "      <td>0.783439</td>\n",
       "      <td>0.848276</td>\n",
       "      <td>0.814570</td>\n",
       "      <td>3</td>\n",
       "    </tr>\n",
       "    <tr>\n",
       "      <th>7</th>\n",
       "      <td>Negativo</td>\n",
       "      <td>0.802691</td>\n",
       "      <td>0.724696</td>\n",
       "      <td>0.761702</td>\n",
       "      <td>3</td>\n",
       "    </tr>\n",
       "    <tr>\n",
       "      <th>8</th>\n",
       "      <td>Não Negativo</td>\n",
       "      <td>0.805112</td>\n",
       "      <td>0.884211</td>\n",
       "      <td>0.842809</td>\n",
       "      <td>4</td>\n",
       "    </tr>\n",
       "    <tr>\n",
       "      <th>9</th>\n",
       "      <td>Negativo</td>\n",
       "      <td>0.852679</td>\n",
       "      <td>0.757937</td>\n",
       "      <td>0.802521</td>\n",
       "      <td>4</td>\n",
       "    </tr>\n",
       "    <tr>\n",
       "      <th>10</th>\n",
       "      <td>Não Negativo</td>\n",
       "      <td>0.790541</td>\n",
       "      <td>0.860294</td>\n",
       "      <td>0.823944</td>\n",
       "      <td>5</td>\n",
       "    </tr>\n",
       "    <tr>\n",
       "      <th>11</th>\n",
       "      <td>Negativo</td>\n",
       "      <td>0.841667</td>\n",
       "      <td>0.765152</td>\n",
       "      <td>0.801587</td>\n",
       "      <td>5</td>\n",
       "    </tr>\n",
       "    <tr>\n",
       "      <th>12</th>\n",
       "      <td>Não Negativo</td>\n",
       "      <td>0.844291</td>\n",
       "      <td>0.865248</td>\n",
       "      <td>0.854641</td>\n",
       "      <td>6</td>\n",
       "    </tr>\n",
       "    <tr>\n",
       "      <th>13</th>\n",
       "      <td>Negativo</td>\n",
       "      <td>0.846154</td>\n",
       "      <td>0.822835</td>\n",
       "      <td>0.834331</td>\n",
       "      <td>6</td>\n",
       "    </tr>\n",
       "    <tr>\n",
       "      <th>14</th>\n",
       "      <td>Não Negativo</td>\n",
       "      <td>0.803987</td>\n",
       "      <td>0.840278</td>\n",
       "      <td>0.821732</td>\n",
       "      <td>7</td>\n",
       "    </tr>\n",
       "    <tr>\n",
       "      <th>15</th>\n",
       "      <td>Negativo</td>\n",
       "      <td>0.804255</td>\n",
       "      <td>0.762097</td>\n",
       "      <td>0.782609</td>\n",
       "      <td>7</td>\n",
       "    </tr>\n",
       "    <tr>\n",
       "      <th>16</th>\n",
       "      <td>Não Negativo</td>\n",
       "      <td>0.836806</td>\n",
       "      <td>0.876364</td>\n",
       "      <td>0.856128</td>\n",
       "      <td>8</td>\n",
       "    </tr>\n",
       "    <tr>\n",
       "      <th>17</th>\n",
       "      <td>Negativo</td>\n",
       "      <td>0.862903</td>\n",
       "      <td>0.819923</td>\n",
       "      <td>0.840864</td>\n",
       "      <td>8</td>\n",
       "    </tr>\n",
       "    <tr>\n",
       "      <th>18</th>\n",
       "      <td>Não Negativo</td>\n",
       "      <td>0.819355</td>\n",
       "      <td>0.869863</td>\n",
       "      <td>0.843854</td>\n",
       "      <td>9</td>\n",
       "    </tr>\n",
       "    <tr>\n",
       "      <th>19</th>\n",
       "      <td>Negativo</td>\n",
       "      <td>0.831858</td>\n",
       "      <td>0.770492</td>\n",
       "      <td>0.800000</td>\n",
       "      <td>9</td>\n",
       "    </tr>\n",
       "  </tbody>\n",
       "</table>\n",
       "</div>\n",
       "    <div class=\"colab-df-buttons\">\n",
       "\n",
       "  <div class=\"colab-df-container\">\n",
       "    <button class=\"colab-df-convert\" onclick=\"convertToInteractive('df-47a67dcf-b744-49ed-917c-26e0f5883ea1')\"\n",
       "            title=\"Convert this dataframe to an interactive table.\"\n",
       "            style=\"display:none;\">\n",
       "\n",
       "  <svg xmlns=\"http://www.w3.org/2000/svg\" height=\"24px\" viewBox=\"0 -960 960 960\">\n",
       "    <path d=\"M120-120v-720h720v720H120Zm60-500h600v-160H180v160Zm220 220h160v-160H400v160Zm0 220h160v-160H400v160ZM180-400h160v-160H180v160Zm440 0h160v-160H620v160ZM180-180h160v-160H180v160Zm440 0h160v-160H620v160Z\"/>\n",
       "  </svg>\n",
       "    </button>\n",
       "\n",
       "  <style>\n",
       "    .colab-df-container {\n",
       "      display:flex;\n",
       "      gap: 12px;\n",
       "    }\n",
       "\n",
       "    .colab-df-convert {\n",
       "      background-color: #E8F0FE;\n",
       "      border: none;\n",
       "      border-radius: 50%;\n",
       "      cursor: pointer;\n",
       "      display: none;\n",
       "      fill: #1967D2;\n",
       "      height: 32px;\n",
       "      padding: 0 0 0 0;\n",
       "      width: 32px;\n",
       "    }\n",
       "\n",
       "    .colab-df-convert:hover {\n",
       "      background-color: #E2EBFA;\n",
       "      box-shadow: 0px 1px 2px rgba(60, 64, 67, 0.3), 0px 1px 3px 1px rgba(60, 64, 67, 0.15);\n",
       "      fill: #174EA6;\n",
       "    }\n",
       "\n",
       "    .colab-df-buttons div {\n",
       "      margin-bottom: 4px;\n",
       "    }\n",
       "\n",
       "    [theme=dark] .colab-df-convert {\n",
       "      background-color: #3B4455;\n",
       "      fill: #D2E3FC;\n",
       "    }\n",
       "\n",
       "    [theme=dark] .colab-df-convert:hover {\n",
       "      background-color: #434B5C;\n",
       "      box-shadow: 0px 1px 3px 1px rgba(0, 0, 0, 0.15);\n",
       "      filter: drop-shadow(0px 1px 2px rgba(0, 0, 0, 0.3));\n",
       "      fill: #FFFFFF;\n",
       "    }\n",
       "  </style>\n",
       "\n",
       "    <script>\n",
       "      const buttonEl =\n",
       "        document.querySelector('#df-47a67dcf-b744-49ed-917c-26e0f5883ea1 button.colab-df-convert');\n",
       "      buttonEl.style.display =\n",
       "        google.colab.kernel.accessAllowed ? 'block' : 'none';\n",
       "\n",
       "      async function convertToInteractive(key) {\n",
       "        const element = document.querySelector('#df-47a67dcf-b744-49ed-917c-26e0f5883ea1');\n",
       "        const dataTable =\n",
       "          await google.colab.kernel.invokeFunction('convertToInteractive',\n",
       "                                                    [key], {});\n",
       "        if (!dataTable) return;\n",
       "\n",
       "        const docLinkHtml = 'Like what you see? Visit the ' +\n",
       "          '<a target=\"_blank\" href=https://colab.research.google.com/notebooks/data_table.ipynb>data table notebook</a>'\n",
       "          + ' to learn more about interactive tables.';\n",
       "        element.innerHTML = '';\n",
       "        dataTable['output_type'] = 'display_data';\n",
       "        await google.colab.output.renderOutput(dataTable, element);\n",
       "        const docLink = document.createElement('div');\n",
       "        docLink.innerHTML = docLinkHtml;\n",
       "        element.appendChild(docLink);\n",
       "      }\n",
       "    </script>\n",
       "  </div>\n",
       "\n",
       "\n",
       "    <div id=\"df-e212ef2d-fedf-440f-a60c-314f7654e178\">\n",
       "      <button class=\"colab-df-quickchart\" onclick=\"quickchart('df-e212ef2d-fedf-440f-a60c-314f7654e178')\"\n",
       "                title=\"Suggest charts\"\n",
       "                style=\"display:none;\">\n",
       "\n",
       "<svg xmlns=\"http://www.w3.org/2000/svg\" height=\"24px\"viewBox=\"0 0 24 24\"\n",
       "     width=\"24px\">\n",
       "    <g>\n",
       "        <path d=\"M19 3H5c-1.1 0-2 .9-2 2v14c0 1.1.9 2 2 2h14c1.1 0 2-.9 2-2V5c0-1.1-.9-2-2-2zM9 17H7v-7h2v7zm4 0h-2V7h2v10zm4 0h-2v-4h2v4z\"/>\n",
       "    </g>\n",
       "</svg>\n",
       "      </button>\n",
       "\n",
       "<style>\n",
       "  .colab-df-quickchart {\n",
       "      --bg-color: #E8F0FE;\n",
       "      --fill-color: #1967D2;\n",
       "      --hover-bg-color: #E2EBFA;\n",
       "      --hover-fill-color: #174EA6;\n",
       "      --disabled-fill-color: #AAA;\n",
       "      --disabled-bg-color: #DDD;\n",
       "  }\n",
       "\n",
       "  [theme=dark] .colab-df-quickchart {\n",
       "      --bg-color: #3B4455;\n",
       "      --fill-color: #D2E3FC;\n",
       "      --hover-bg-color: #434B5C;\n",
       "      --hover-fill-color: #FFFFFF;\n",
       "      --disabled-bg-color: #3B4455;\n",
       "      --disabled-fill-color: #666;\n",
       "  }\n",
       "\n",
       "  .colab-df-quickchart {\n",
       "    background-color: var(--bg-color);\n",
       "    border: none;\n",
       "    border-radius: 50%;\n",
       "    cursor: pointer;\n",
       "    display: none;\n",
       "    fill: var(--fill-color);\n",
       "    height: 32px;\n",
       "    padding: 0;\n",
       "    width: 32px;\n",
       "  }\n",
       "\n",
       "  .colab-df-quickchart:hover {\n",
       "    background-color: var(--hover-bg-color);\n",
       "    box-shadow: 0 1px 2px rgba(60, 64, 67, 0.3), 0 1px 3px 1px rgba(60, 64, 67, 0.15);\n",
       "    fill: var(--button-hover-fill-color);\n",
       "  }\n",
       "\n",
       "  .colab-df-quickchart-complete:disabled,\n",
       "  .colab-df-quickchart-complete:disabled:hover {\n",
       "    background-color: var(--disabled-bg-color);\n",
       "    fill: var(--disabled-fill-color);\n",
       "    box-shadow: none;\n",
       "  }\n",
       "\n",
       "  .colab-df-spinner {\n",
       "    border: 2px solid var(--fill-color);\n",
       "    border-color: transparent;\n",
       "    border-bottom-color: var(--fill-color);\n",
       "    animation:\n",
       "      spin 1s steps(1) infinite;\n",
       "  }\n",
       "\n",
       "  @keyframes spin {\n",
       "    0% {\n",
       "      border-color: transparent;\n",
       "      border-bottom-color: var(--fill-color);\n",
       "      border-left-color: var(--fill-color);\n",
       "    }\n",
       "    20% {\n",
       "      border-color: transparent;\n",
       "      border-left-color: var(--fill-color);\n",
       "      border-top-color: var(--fill-color);\n",
       "    }\n",
       "    30% {\n",
       "      border-color: transparent;\n",
       "      border-left-color: var(--fill-color);\n",
       "      border-top-color: var(--fill-color);\n",
       "      border-right-color: var(--fill-color);\n",
       "    }\n",
       "    40% {\n",
       "      border-color: transparent;\n",
       "      border-right-color: var(--fill-color);\n",
       "      border-top-color: var(--fill-color);\n",
       "    }\n",
       "    60% {\n",
       "      border-color: transparent;\n",
       "      border-right-color: var(--fill-color);\n",
       "    }\n",
       "    80% {\n",
       "      border-color: transparent;\n",
       "      border-right-color: var(--fill-color);\n",
       "      border-bottom-color: var(--fill-color);\n",
       "    }\n",
       "    90% {\n",
       "      border-color: transparent;\n",
       "      border-bottom-color: var(--fill-color);\n",
       "    }\n",
       "  }\n",
       "</style>\n",
       "\n",
       "      <script>\n",
       "        async function quickchart(key) {\n",
       "          const quickchartButtonEl =\n",
       "            document.querySelector('#' + key + ' button');\n",
       "          quickchartButtonEl.disabled = true;  // To prevent multiple clicks.\n",
       "          quickchartButtonEl.classList.add('colab-df-spinner');\n",
       "          try {\n",
       "            const charts = await google.colab.kernel.invokeFunction(\n",
       "                'suggestCharts', [key], {});\n",
       "          } catch (error) {\n",
       "            console.error('Error during call to suggestCharts:', error);\n",
       "          }\n",
       "          quickchartButtonEl.classList.remove('colab-df-spinner');\n",
       "          quickchartButtonEl.classList.add('colab-df-quickchart-complete');\n",
       "        }\n",
       "        (() => {\n",
       "          let quickchartButtonEl =\n",
       "            document.querySelector('#df-e212ef2d-fedf-440f-a60c-314f7654e178 button');\n",
       "          quickchartButtonEl.style.display =\n",
       "            google.colab.kernel.accessAllowed ? 'block' : 'none';\n",
       "        })();\n",
       "      </script>\n",
       "    </div>\n",
       "\n",
       "  <div id=\"id_3819ca91-4d48-4465-8808-6c6db1552277\">\n",
       "    <style>\n",
       "      .colab-df-generate {\n",
       "        background-color: #E8F0FE;\n",
       "        border: none;\n",
       "        border-radius: 50%;\n",
       "        cursor: pointer;\n",
       "        display: none;\n",
       "        fill: #1967D2;\n",
       "        height: 32px;\n",
       "        padding: 0 0 0 0;\n",
       "        width: 32px;\n",
       "      }\n",
       "\n",
       "      .colab-df-generate:hover {\n",
       "        background-color: #E2EBFA;\n",
       "        box-shadow: 0px 1px 2px rgba(60, 64, 67, 0.3), 0px 1px 3px 1px rgba(60, 64, 67, 0.15);\n",
       "        fill: #174EA6;\n",
       "      }\n",
       "\n",
       "      [theme=dark] .colab-df-generate {\n",
       "        background-color: #3B4455;\n",
       "        fill: #D2E3FC;\n",
       "      }\n",
       "\n",
       "      [theme=dark] .colab-df-generate:hover {\n",
       "        background-color: #434B5C;\n",
       "        box-shadow: 0px 1px 3px 1px rgba(0, 0, 0, 0.15);\n",
       "        filter: drop-shadow(0px 1px 2px rgba(0, 0, 0, 0.3));\n",
       "        fill: #FFFFFF;\n",
       "      }\n",
       "    </style>\n",
       "    <button class=\"colab-df-generate\" onclick=\"generateWithVariable('resultados')\"\n",
       "            title=\"Generate code using this dataframe.\"\n",
       "            style=\"display:none;\">\n",
       "\n",
       "  <svg xmlns=\"http://www.w3.org/2000/svg\" height=\"24px\"viewBox=\"0 0 24 24\"\n",
       "       width=\"24px\">\n",
       "    <path d=\"M7,19H8.4L18.45,9,17,7.55,7,17.6ZM5,21V16.75L18.45,3.32a2,2,0,0,1,2.83,0l1.4,1.43a1.91,1.91,0,0,1,.58,1.4,1.91,1.91,0,0,1-.58,1.4L9.25,21ZM18.45,9,17,7.55Zm-12,3A5.31,5.31,0,0,0,4.9,8.1,5.31,5.31,0,0,0,1,6.5,5.31,5.31,0,0,0,4.9,4.9,5.31,5.31,0,0,0,6.5,1,5.31,5.31,0,0,0,8.1,4.9,5.31,5.31,0,0,0,12,6.5,5.46,5.46,0,0,0,6.5,12Z\"/>\n",
       "  </svg>\n",
       "    </button>\n",
       "    <script>\n",
       "      (() => {\n",
       "      const buttonEl =\n",
       "        document.querySelector('#id_3819ca91-4d48-4465-8808-6c6db1552277 button.colab-df-generate');\n",
       "      buttonEl.style.display =\n",
       "        google.colab.kernel.accessAllowed ? 'block' : 'none';\n",
       "\n",
       "      buttonEl.onclick = () => {\n",
       "        google.colab.notebook.generateWithVariable('resultados');\n",
       "      }\n",
       "      })();\n",
       "    </script>\n",
       "  </div>\n",
       "\n",
       "    </div>\n",
       "  </div>\n"
      ],
      "text/plain": [
       "          Classe  Precision    Recall  F1-score  Fold\n",
       "0   Não Negativo   0.849840  0.860841  0.855305     0\n",
       "1       Negativo   0.808036  0.793860  0.800885     0\n",
       "2   Não Negativo   0.815789  0.864111  0.839255     1\n",
       "3       Negativo   0.832618  0.776000  0.803313     1\n",
       "4   Não Negativo   0.830565  0.892857  0.860585     2\n",
       "5       Negativo   0.872881  0.801556  0.835700     2\n",
       "6   Não Negativo   0.783439  0.848276  0.814570     3\n",
       "7       Negativo   0.802691  0.724696  0.761702     3\n",
       "8   Não Negativo   0.805112  0.884211  0.842809     4\n",
       "9       Negativo   0.852679  0.757937  0.802521     4\n",
       "10  Não Negativo   0.790541  0.860294  0.823944     5\n",
       "11      Negativo   0.841667  0.765152  0.801587     5\n",
       "12  Não Negativo   0.844291  0.865248  0.854641     6\n",
       "13      Negativo   0.846154  0.822835  0.834331     6\n",
       "14  Não Negativo   0.803987  0.840278  0.821732     7\n",
       "15      Negativo   0.804255  0.762097  0.782609     7\n",
       "16  Não Negativo   0.836806  0.876364  0.856128     8\n",
       "17      Negativo   0.862903  0.819923  0.840864     8\n",
       "18  Não Negativo   0.819355  0.869863  0.843854     9\n",
       "19      Negativo   0.831858  0.770492  0.800000     9"
      ]
     },
     "execution_count": 46,
     "metadata": {},
     "output_type": "execute_result"
    }
   ],
   "source": [
    "\n",
    "def condicao(x):\n",
    "    if x == 1:\n",
    "        return \"Negativo\"\n",
    "    else:\n",
    "        return \"Não Negativo\"\n",
    "\n",
    "\n",
    "resultados['Classe'] = resultados['Classe'].apply(condicao)\n",
    "\n",
    "resultados"
   ]
  },
  {
   "cell_type": "markdown",
   "id": "ab13e153",
   "metadata": {
    "id": "ab13e153"
   },
   "source": [
    "10 - Apresente a distribuição da Precision"
   ]
  },
  {
   "cell_type": "code",
   "execution_count": 47,
   "id": "5df3206d",
   "metadata": {
    "colab": {
     "base_uri": "https://localhost:8080/",
     "height": 540
    },
    "executionInfo": {
     "elapsed": 141,
     "status": "ok",
     "timestamp": 1759170412292,
     "user": {
      "displayName": "Pedro Schmalz",
      "userId": "07700592580926452057"
     },
     "user_tz": 180
    },
    "id": "5df3206d",
    "outputId": "426a0d7e-f2a6-40e5-c446-bf2767fe91c4"
   },
   "outputs": [
    {
     "data": {
      "text/plain": [
       "<Figure size 1200x1200 with 0 Axes>"
      ]
     },
     "metadata": {},
     "output_type": "display_data"
    },
    {
     "data": {
      "image/png": "[encoded data removed]",
      "text/plain": [
       "<Figure size 512.222x500 with 1 Axes>"
      ]
     },
     "metadata": {},
     "output_type": "display_data"
    }
   ],
   "source": [
    "# Configure o estilo do Seaborn (opcional)\n",
    "sns.set(style=\"whitegrid\")\n",
    "\n",
    "plt.figure(figsize=(12, 12))  # Ajuste o tamanho do gráfico, se necessário\n",
    "sns.catplot(data=resultados, x=\"Classe\", y=\"Precision\", kind=\"box\")\n",
    "sns.despine()\n",
    "\n",
    "plt.ylabel(\"Precisão\")\n",
    "plt.xlabel(\"Classe\")\n",
    "plt.title(\"Distribuição das Precisões (10 Folds)\")\n",
    "plt.ylim(0, 1.1)\n",
    "\n",
    "plt.show()"
   ]
  },
  {
   "cell_type": "markdown",
   "id": "4d2e9885",
   "metadata": {
    "id": "4d2e9885"
   },
   "source": [
    "11 - Discuta os resultados de precision pensando na variância dos valores para cada uma das classes:"
   ]
  },
  {
   "cell_type": "markdown",
   "id": "00f363a7",
   "metadata": {
    "id": "00f363a7"
   },
   "source": [
    "RESPOSTA:"
   ]
  },
  {
   "cell_type": "markdown",
   "id": "1348d17d",
   "metadata": {
    "id": "1348d17d"
   },
   "source": [
    "12 - Apresente a distribuição do Recall"
   ]
  },
  {
   "cell_type": "code",
   "execution_count": 48,
   "id": "2baec4ff",
   "metadata": {
    "colab": {
     "base_uri": "https://localhost:8080/",
     "height": 537
    },
    "executionInfo": {
     "elapsed": 221,
     "status": "ok",
     "timestamp": 1759170421438,
     "user": {
      "displayName": "Pedro Schmalz",
      "userId": "07700592580926452057"
     },
     "user_tz": 180
    },
    "id": "2baec4ff",
    "outputId": "cf45c7e4-0640-4401-a58d-adad9698a120"
   },
   "outputs": [
    {
     "data": {
      "text/plain": [
       "<Figure size 1200x1200 with 0 Axes>"
      ]
     },
     "metadata": {},
     "output_type": "display_data"
    },
    {
     "data": {
      "image/png": "[encoded data removed]",
      "text/plain": [
       "<Figure size 512.222x500 with 1 Axes>"
      ]
     },
     "metadata": {},
     "output_type": "display_data"
    }
   ],
   "source": [
    "# Configure o estilo do Seaborn (opcional)\n",
    "sns.set(style=\"whitegrid\")\n",
    "\n",
    "plt.figure(figsize=(12, 12))  # Ajuste o tamanho do gráfico, se necessário\n",
    "sns.catplot(data=resultados, x=\"Classe\", y=\"Recall\", kind=\"box\")\n",
    "sns.despine()\n",
    "\n",
    "plt.ylabel(\"Recall\")\n",
    "plt.xlabel(\"Classe\")\n",
    "plt.title(\"Distribuição do Recall (10 Folds)\")\n",
    "plt.ylim(0, 1.1)\n",
    "\n",
    "plt.show()"
   ]
  },
  {
   "cell_type": "markdown",
   "id": "a1602e03",
   "metadata": {
    "id": "a1602e03"
   },
   "source": [
    "13 - Discuta os resultados do recall pensando na variância dos valores para cada uma das classes:"
   ]
  },
  {
   "cell_type": "markdown",
   "id": "1ae7f4cf",
   "metadata": {
    "id": "1ae7f4cf"
   },
   "source": [
    "RESPOSTA:"
   ]
  },
  {
   "cell_type": "markdown",
   "id": "3c221388",
   "metadata": {
    "id": "3c221388"
   },
   "source": [
    "14 - Apresente a distribuição dos F1-Scores"
   ]
  },
  {
   "cell_type": "code",
   "execution_count": 49,
   "id": "e8660096",
   "metadata": {
    "colab": {
     "base_uri": "https://localhost:8080/",
     "height": 540
    },
    "executionInfo": {
     "elapsed": 293,
     "status": "ok",
     "timestamp": 1759170429544,
     "user": {
      "displayName": "Pedro Schmalz",
      "userId": "07700592580926452057"
     },
     "user_tz": 180
    },
    "id": "e8660096",
    "outputId": "a6ef06ec-2db6-46d3-a7ca-c69f5c10ade5"
   },
   "outputs": [
    {
     "data": {
      "text/plain": [
       "<Figure size 1200x1200 with 0 Axes>"
      ]
     },
     "metadata": {},
     "output_type": "display_data"
    },
    {
     "data": {
      "image/png": "[encoded data removed]",
      "text/plain": [
       "<Figure size 512.222x500 with 1 Axes>"
      ]
     },
     "metadata": {},
     "output_type": "display_data"
    }
   ],
   "source": [
    "# Configure o estilo do Seaborn (opcional)\n",
    "sns.set(style=\"whitegrid\")\n",
    "\n",
    "plt.figure(figsize=(12, 12))  # Ajuste o tamanho do gráfico, se necessário\n",
    "sns.catplot(data=resultados, x=\"Classe\", y=\"F1-score\", kind=\"box\")\n",
    "sns.despine()\n",
    "\n",
    "plt.ylabel(\"F1-Score\")\n",
    "plt.xlabel(\"Classe\")\n",
    "plt.title(\"Distribuição do F1-Score (10 Folds)\")\n",
    "plt.ylim(0, 1.1)\n",
    "\n",
    "plt.show()"
   ]
  },
  {
   "cell_type": "markdown",
   "id": "55b813fb",
   "metadata": {
    "id": "55b813fb"
   },
   "source": [
    "15 - Discuta os resultados do f1-score pensando na variância dos valores para cada uma das classes:"
   ]
  },
  {
   "cell_type": "markdown",
   "id": "f9e8a51a",
   "metadata": {
    "id": "f9e8a51a"
   },
   "source": [
    "RESPOSTA:"
   ]
  },
  {
   "cell_type": "markdown",
   "id": "25d42589",
   "metadata": {
    "id": "25d42589"
   },
   "source": [
    "16 - Treine o modelo com o banco de treino e faça a predição dos valores no banco de teste (Não esqueça de vetorizar o banco de teste separadamente):"
   ]
  },
  {
   "cell_type": "code",
   "execution_count": 50,
   "id": "449926eb",
   "metadata": {
    "executionInfo": {
     "elapsed": 747,
     "status": "ok",
     "timestamp": 1759170462477,
     "user": {
      "displayName": "Pedro Schmalz",
      "userId": "07700592580926452057"
     },
     "user_tz": 180
    },
    "id": "449926eb"
   },
   "outputs": [],
   "source": [
    "X_treino_vec = vectorizer.fit_transform(X_treino)\n",
    "X_teste_vec = vectorizer.transform(X_teste)  # usar transform para teste\n",
    "\n",
    "modelo = LogisticRegression(random_state=42)\n",
    "modelo.fit(X_treino_vec, y_treino)\n",
    "\n",
    "y_pred = modelo.predict(X_teste_vec)"
   ]
  },
  {
   "cell_type": "markdown",
   "id": "977b083a",
   "metadata": {
    "id": "977b083a"
   },
   "source": [
    "17 - Apresente o relatório de classificação no banco de teste"
   ]
  },
  {
   "cell_type": "code",
   "execution_count": 52,
   "id": "e69d20ad",
   "metadata": {
    "colab": {
     "base_uri": "https://localhost:8080/"
    },
    "executionInfo": {
     "elapsed": 43,
     "status": "ok",
     "timestamp": 1759170490227,
     "user": {
      "displayName": "Pedro Schmalz",
      "userId": "07700592580926452057"
     },
     "user_tz": 180
    },
    "id": "e69d20ad",
    "outputId": "222728c7-8fa1-4f0d-e4cd-b449b335e3e5"
   },
   "outputs": [
    {
     "name": "stdout",
     "output_type": "stream",
     "text": [
      "              precision    recall  f1-score   support\n",
      "\n",
      "           0       0.86      0.86      0.86       319\n",
      "           1       0.84      0.84      0.84       278\n",
      "\n",
      "    accuracy                           0.85       597\n",
      "   macro avg       0.85      0.85      0.85       597\n",
      "weighted avg       0.85      0.85      0.85       597\n",
      "\n"
     ]
    }
   ],
   "source": [
    "print(classification_report(y_teste, y_pred))"
   ]
  },
  {
   "cell_type": "markdown",
   "id": "7aee1ba6",
   "metadata": {
    "id": "7aee1ba6"
   },
   "source": [
    "18 - Discuta os resultados encontrados no exercício 17: Os valores se encontram dentro do esperado no K-fold Cross-validation? O que isso significa para nossa confiabilidade nos resultados?"
   ]
  },
  {
   "cell_type": "markdown",
   "id": "9070b544",
   "metadata": {
    "id": "9070b544"
   },
   "source": [
    "RESULTADO:"
   ]
  }
 ],
 "metadata": {
  "colab": {
   "provenance": []
  },
  "kernelspec": {
   "display_name": "base",
   "language": "python",
   "name": "python3"
  },
  "language_info": {
   "codemirror_mode": {
    "name": "ipython",
    "version": 3
   },
   "file_extension": ".py",
   "mimetype": "text/x-python",
   "name": "python",
   "nbconvert_exporter": "python",
   "pygments_lexer": "ipython3",
   "version": "3.12.7"
  }
 },
 "nbformat": 4,
 "nbformat_minor": 5
}
