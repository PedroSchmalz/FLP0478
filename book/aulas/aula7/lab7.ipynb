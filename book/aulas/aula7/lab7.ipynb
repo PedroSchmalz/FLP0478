{
 "cells": [
  {
   "cell_type": "markdown",
   "id": "dc02567a",
   "metadata": {},
   "source": [
    "# Laboratório 6\n",
    "\n",
    "Nota: Substitua os seus nomes e informações abaixo antes do envio da atividade. A atividade deve ser enviada no `Moodle` da disciplina, e o arquivo **DEVE** estar no formato `.ipynb`.\n",
    "\n",
    "[Nome Aluno 1] / [NUSP Aluno 1] / [Vespertino/Noturno]\n",
    "\n",
    "[Nome Aluno 2] / [NUSP Aluno 2] / [Vespertino/Noturno]\n"
   ]
  },
  {
   "cell_type": "markdown",
   "id": "01557f74",
   "metadata": {},
   "source": [
    "## Exercícios"
   ]
  },
  {
   "cell_type": "markdown",
   "id": "8b87272e",
   "metadata": {},
   "source": [
    "1 - Agora é sua vez, vamos pegar um outro banco de dados. Importe o seguinte banco de dados \"Healthcare-Diabetes.csv\""
   ]
  },
  {
   "cell_type": "code",
   "execution_count": null,
   "id": "417dde4e",
   "metadata": {},
   "outputs": [],
   "source": [
    "url = \"https://raw.githubusercontent.com/PedroSchmalz/FLP0478/refs/heads/main/book/aulas/aula6/dataset/Healthcare-Diabetes.csv\""
   ]
  },
  {
   "cell_type": "code",
   "execution_count": null,
   "id": "0a53fec5",
   "metadata": {},
   "outputs": [],
   "source": []
  },
  {
   "cell_type": "markdown",
   "id": "0817a6dc",
   "metadata": {},
   "source": [
    "No seguinte kaggle ([link](https://www.kaggle.com/datasets/nanditapore/healthcare-diabetes/)) você encontra mais informações sobre o banco."
   ]
  },
  {
   "cell_type": "markdown",
   "id": "777da6de",
   "metadata": {},
   "source": [
    "2 - Calcule a proporção de cada classe do target ('Outcome')"
   ]
  },
  {
   "cell_type": "code",
   "execution_count": null,
   "id": "e16796ca",
   "metadata": {},
   "outputs": [],
   "source": []
  },
  {
   "cell_type": "markdown",
   "id": "0973f7d6",
   "metadata": {},
   "source": [
    "a) Discuta o balanceamento de classes deste banco de dados"
   ]
  },
  {
   "cell_type": "markdown",
   "id": "fa1a6ba3",
   "metadata": {},
   "source": [
    "Resposta:"
   ]
  },
  {
   "cell_type": "markdown",
   "id": "cc95a76e",
   "metadata": {},
   "source": [
    "3 - Faça uma matriz de correlação das variáveis independentes. Há alguma variável que pareça ser muito correlacionada com outra (muito próximo de 1)?"
   ]
  },
  {
   "cell_type": "code",
   "execution_count": null,
   "id": "1b5597b2",
   "metadata": {},
   "outputs": [],
   "source": []
  },
  {
   "cell_type": "markdown",
   "id": "0dff4ad5",
   "metadata": {},
   "source": [
    "4 - Rode um modelo de regressão logística do **Statmodels** e imprima o summary. Utilize todas as variáveis do banco."
   ]
  },
  {
   "cell_type": "code",
   "execution_count": null,
   "id": "15e64aee",
   "metadata": {},
   "outputs": [],
   "source": []
  },
  {
   "cell_type": "markdown",
   "id": "69459a9c",
   "metadata": {},
   "source": [
    "5 - De acordo com os resultados do exercício 4, quais variáveis tem efeito positivo nas chances de se ter diabetes?"
   ]
  },
  {
   "cell_type": "markdown",
   "id": "844fecad",
   "metadata": {},
   "source": [
    "RESPOSTA:"
   ]
  },
  {
   "cell_type": "markdown",
   "id": "4d17af89",
   "metadata": {},
   "source": [
    "6 - E quais tem efeito negativo?"
   ]
  },
  {
   "cell_type": "markdown",
   "id": "a3ff16e7",
   "metadata": {},
   "source": [
    "Resposta:"
   ]
  },
  {
   "cell_type": "markdown",
   "id": "986fd12d",
   "metadata": {},
   "source": [
    "7 - Por fim, quais não são estatisticamente significantes?"
   ]
  },
  {
   "cell_type": "markdown",
   "id": "5f17af7c",
   "metadata": {},
   "source": [
    "Resposta:"
   ]
  },
  {
   "cell_type": "markdown",
   "id": "43073f75",
   "metadata": {},
   "source": [
    "8 - Separe as colunas em um vetor X de features e o target (Outcome). Também separe o banco entre treino e teste (com 20% para teste)."
   ]
  },
  {
   "cell_type": "code",
   "execution_count": null,
   "id": "07c9cef8",
   "metadata": {},
   "outputs": [],
   "source": []
  },
  {
   "cell_type": "code",
   "execution_count": null,
   "id": "6ce42a03",
   "metadata": {},
   "outputs": [],
   "source": []
  },
  {
   "cell_type": "markdown",
   "id": "c5c8a813",
   "metadata": {},
   "source": [
    "9 - Agora, treine um modelo de regressão logística utilizando o sklearn"
   ]
  },
  {
   "cell_type": "code",
   "execution_count": null,
   "id": "08abdd17",
   "metadata": {},
   "outputs": [],
   "source": []
  },
  {
   "cell_type": "markdown",
   "id": "012e699b",
   "metadata": {},
   "source": [
    "10 - Faça a predição dos valores do banco de teste e imprima o array de predições."
   ]
  },
  {
   "cell_type": "code",
   "execution_count": null,
   "id": "c52b12bd",
   "metadata": {},
   "outputs": [],
   "source": []
  },
  {
   "cell_type": "markdown",
   "id": "730e0892",
   "metadata": {},
   "source": [
    "11 - Apresente a acurácia do modelo"
   ]
  },
  {
   "cell_type": "code",
   "execution_count": null,
   "id": "ab598fe5",
   "metadata": {},
   "outputs": [],
   "source": []
  },
  {
   "cell_type": "markdown",
   "id": "d68b0e5f",
   "metadata": {},
   "source": [
    "a) Discuta os resultados do modelo com base na acurácia:"
   ]
  },
  {
   "cell_type": "markdown",
   "id": "2f8e91f3",
   "metadata": {},
   "source": [
    "RESPOSTA:"
   ]
  },
  {
   "cell_type": "markdown",
   "id": "da24efc7",
   "metadata": {},
   "source": [
    "12 - Apresente a matriz de confusão do modelo"
   ]
  },
  {
   "cell_type": "code",
   "execution_count": null,
   "id": "8768a0cb",
   "metadata": {},
   "outputs": [],
   "source": []
  },
  {
   "cell_type": "markdown",
   "id": "641d8c2b",
   "metadata": {},
   "source": [
    "a) Compare os resultados desse modelo com o que rodamos para o banco *Default*. Qual a principal diferença entre esses dois bancos?"
   ]
  },
  {
   "cell_type": "markdown",
   "id": "8206e94d",
   "metadata": {},
   "source": [
    "RESPOSTA:"
   ]
  },
  {
   "cell_type": "markdown",
   "id": "b072233e",
   "metadata": {},
   "source": [
    "13 - Por fim, apresente o relatório de classificação"
   ]
  },
  {
   "cell_type": "code",
   "execution_count": null,
   "id": "23a7a4a3",
   "metadata": {},
   "outputs": [],
   "source": []
  },
  {
   "cell_type": "markdown",
   "id": "20bdf438",
   "metadata": {},
   "source": [
    "a) O modelo foi bem? Discuta à luz dos resultados obtidos no banco default, do desbalanceamento das classes em ambos os bancos."
   ]
  },
  {
   "cell_type": "markdown",
   "id": "645ba93f",
   "metadata": {},
   "source": [
    "RESPOSTA:"
   ]
  }
 ],
 "metadata": {
  "kernelspec": {
   "display_name": "base",
   "language": "python",
   "name": "python3"
  },
  "language_info": {
   "codemirror_mode": {
    "name": "ipython",
    "version": 3
   },
   "file_extension": ".py",
   "mimetype": "text/x-python",
   "name": "python",
   "nbconvert_exporter": "python",
   "pygments_lexer": "ipython3",
   "version": "3.12.7"
  }
 },
 "nbformat": 4,
 "nbformat_minor": 5
}
