{
 "cells": [
  {
   "cell_type": "markdown",
   "id": "dc02567a",
   "metadata": {
    "id": "dc02567a"
   },
   "source": [
    "# Laboratório 7 - Respostas Sugeridas\n",
    "\n",
    "Nota: Substitua os seus nomes e informações abaixo antes do envio da atividade. A atividade deve ser enviada no `Moodle` da disciplina, e o arquivo **DEVE** estar no formato `.ipynb`.\n",
    "\n",
    "[Nome Aluno 1] / [NUSP Aluno 1] / [Vespertino/Noturno]\n",
    "\n",
    "[Nome Aluno 2] / [NUSP Aluno 2] / [Vespertino/Noturno]\n"
   ]
  },
  {
   "cell_type": "markdown",
   "id": "01557f74",
   "metadata": {
    "id": "01557f74"
   },
   "source": [
    "## Exercícios"
   ]
  },
  {
   "cell_type": "markdown",
   "id": "8b87272e",
   "metadata": {
    "id": "8b87272e"
   },
   "source": [
    "1 - Agora é sua vez, vamos trabalhar com o banco de tweets. Importe eles em um dataframe e filtre somente os tweets relevantes."
   ]
  },
  {
   "cell_type": "code",
   "execution_count": 1,
   "id": "417dde4e",
   "metadata": {
    "colab": {
     "base_uri": "https://localhost:8080/",
     "height": 286
    },
    "executionInfo": {
     "elapsed": 19147,
     "status": "ok",
     "timestamp": 1759153708848,
     "user": {
      "displayName": "Pedro Schmalz",
      "userId": "07700592580926452057"
     },
     "user_tz": 180
    },
    "id": "417dde4e",
    "outputId": "8b23d5f4-d54a-4864-9b27-390ed0a7b4a9"
   },
   "outputs": [
    {
     "name": "stderr",
     "output_type": "stream",
     "text": [
      "[nltk_data] Downloading package punkt to /root/nltk_data...\n",
      "[nltk_data]   Unzipping tokenizers/punkt.zip.\n",
      "[nltk_data] Downloading package punkt_tab to /root/nltk_data...\n",
      "[nltk_data]   Unzipping tokenizers/punkt_tab.zip.\n",
      "[nltk_data] Downloading package stopwords to /root/nltk_data...\n",
      "[nltk_data]   Unzipping corpora/stopwords.zip.\n",
      "[nltk_data] Downloading package punkt to /root/nltk_data...\n",
      "[nltk_data]   Package punkt is already up-to-date!\n"
     ]
    },
    {
     "data": {
      "text/html": [
       "<div>\n",
       "<style scoped>\n",
       "    .dataframe tbody tr th:only-of-type {\n",
       "        vertical-align: middle;\n",
       "    }\n",
       "\n",
       "    .dataframe tbody tr th {\n",
       "        vertical-align: top;\n",
       "    }\n",
       "\n",
       "    .dataframe thead th {\n",
       "        text-align: right;\n",
       "    }\n",
       "</style>\n",
       "<table border=\"1\" class=\"dataframe\">\n",
       "  <thead>\n",
       "    <tr style=\"text-align: right;\">\n",
       "      <th></th>\n",
       "      <th>count</th>\n",
       "    </tr>\n",
       "    <tr>\n",
       "      <th>relevant</th>\n",
       "      <th></th>\n",
       "    </tr>\n",
       "  </thead>\n",
       "  <tbody>\n",
       "    <tr>\n",
       "      <th>True</th>\n",
       "      <td>5962</td>\n",
       "    </tr>\n",
       "  </tbody>\n",
       "</table>\n",
       "</div><br><label><b>dtype:</b> int64</label>"
      ],
      "text/plain": [
       "relevant\n",
       "True    5962\n",
       "Name: count, dtype: int64"
      ]
     },
     "execution_count": 1,
     "metadata": {},
     "output_type": "execute_result"
    }
   ],
   "source": [
    "from sklearn.linear_model import LogisticRegression # Modelo de regressão logística do sklearn\n",
    "from sklearn.model_selection import train_test_split # Função para dividir o banco entre treino e teste\n",
    "from sklearn.metrics import accuracy_score, confusion_matrix, classification_report # Algumas métricas e relatórios\n",
    "from nltk import word_tokenize # Tokenizador do nltk\n",
    "import nltk\n",
    "nltk.download('punkt')\n",
    "nltk.download('punkt_tab')\n",
    "from nltk.corpus import stopwords\n",
    "nltk.download('stopwords')\n",
    "nltk.download('punkt')\n",
    "\n",
    "import pandas as pd\n",
    "import matplotlib.pyplot as plt\n",
    "import seaborn as sns\n",
    "\n",
    "\n",
    "url = \"https://github.com/NUPRAM/CoViD-Pol/raw/main/Covid-Pol_Corpus_v2.0.csv\"\n",
    "df = pd.read_csv(url)\n",
    "df = df[df['relevant'] == True].reset_index()\n",
    "df['relevant'].value_counts()"
   ]
  },
  {
   "cell_type": "markdown",
   "id": "190a9895",
   "metadata": {
    "id": "190a9895"
   },
   "source": [
    "2 - Vamos passo a passo no processo. Você vai trabalhar com a coluna de posicionamento [final_stance]. Defina uma condição para criar uma nova coluna em que a tarefa seja binária: Desfavorável e Não Desfavorável (Favorável + Unclear)"
   ]
  },
  {
   "cell_type": "code",
   "execution_count": 2,
   "id": "bf89d89b",
   "metadata": {
    "colab": {
     "base_uri": "https://localhost:8080/",
     "height": 178
    },
    "executionInfo": {
     "elapsed": 19,
     "status": "ok",
     "timestamp": 1759153708868,
     "user": {
      "displayName": "Pedro Schmalz",
      "userId": "07700592580926452057"
     },
     "user_tz": 180
    },
    "id": "bf89d89b",
    "outputId": "69b45fa6-a11d-4ed3-8f9b-cf7f57582360"
   },
   "outputs": [
    {
     "data": {
      "text/html": [
       "<div>\n",
       "<style scoped>\n",
       "    .dataframe tbody tr th:only-of-type {\n",
       "        vertical-align: middle;\n",
       "    }\n",
       "\n",
       "    .dataframe tbody tr th {\n",
       "        vertical-align: top;\n",
       "    }\n",
       "\n",
       "    .dataframe thead th {\n",
       "        text-align: right;\n",
       "    }\n",
       "</style>\n",
       "<table border=\"1\" class=\"dataframe\">\n",
       "  <thead>\n",
       "    <tr style=\"text-align: right;\">\n",
       "      <th></th>\n",
       "      <th>count</th>\n",
       "    </tr>\n",
       "    <tr>\n",
       "      <th>final_stance_dummy</th>\n",
       "      <th></th>\n",
       "    </tr>\n",
       "  </thead>\n",
       "  <tbody>\n",
       "    <tr>\n",
       "      <th>0</th>\n",
       "      <td>5710</td>\n",
       "    </tr>\n",
       "    <tr>\n",
       "      <th>1</th>\n",
       "      <td>252</td>\n",
       "    </tr>\n",
       "  </tbody>\n",
       "</table>\n",
       "</div><br><label><b>dtype:</b> int64</label>"
      ],
      "text/plain": [
       "final_stance_dummy\n",
       "0    5710\n",
       "1     252\n",
       "Name: count, dtype: int64"
      ]
     },
     "execution_count": 2,
     "metadata": {},
     "output_type": "execute_result"
    }
   ],
   "source": [
    "def condicao(x):\n",
    "    if x == 'favorable':\n",
    "        return 0 # Favorável = 0\n",
    "    elif x == 'unclear':\n",
    "        return 0 # Unclear também = 0\n",
    "    else:\n",
    "        return 1\n",
    "\n",
    "df['final_stance_dummy'] = df['final_stance'].apply(condicao)\n",
    "df['final_stance_dummy'].value_counts()"
   ]
  },
  {
   "cell_type": "markdown",
   "id": "ef5876fd",
   "metadata": {
    "id": "ef5876fd"
   },
   "source": [
    "3 - Imprima a distribuição de classes dessa nova coluna binária"
   ]
  },
  {
   "cell_type": "code",
   "execution_count": 3,
   "id": "07877a28",
   "metadata": {
    "colab": {
     "base_uri": "https://localhost:8080/",
     "height": 178
    },
    "executionInfo": {
     "elapsed": 46,
     "status": "ok",
     "timestamp": 1759153708915,
     "user": {
      "displayName": "Pedro Schmalz",
      "userId": "07700592580926452057"
     },
     "user_tz": 180
    },
    "id": "07877a28",
    "outputId": "801b60e4-2fe1-4ebb-dbbf-6c4c5b7249ba"
   },
   "outputs": [
    {
     "data": {
      "text/html": [
       "<div>\n",
       "<style scoped>\n",
       "    .dataframe tbody tr th:only-of-type {\n",
       "        vertical-align: middle;\n",
       "    }\n",
       "\n",
       "    .dataframe tbody tr th {\n",
       "        vertical-align: top;\n",
       "    }\n",
       "\n",
       "    .dataframe thead th {\n",
       "        text-align: right;\n",
       "    }\n",
       "</style>\n",
       "<table border=\"1\" class=\"dataframe\">\n",
       "  <thead>\n",
       "    <tr style=\"text-align: right;\">\n",
       "      <th></th>\n",
       "      <th>count</th>\n",
       "    </tr>\n",
       "    <tr>\n",
       "      <th>final_stance_dummy</th>\n",
       "      <th></th>\n",
       "    </tr>\n",
       "  </thead>\n",
       "  <tbody>\n",
       "    <tr>\n",
       "      <th>0</th>\n",
       "      <td>5710</td>\n",
       "    </tr>\n",
       "    <tr>\n",
       "      <th>1</th>\n",
       "      <td>252</td>\n",
       "    </tr>\n",
       "  </tbody>\n",
       "</table>\n",
       "</div><br><label><b>dtype:</b> int64</label>"
      ],
      "text/plain": [
       "final_stance_dummy\n",
       "0    5710\n",
       "1     252\n",
       "Name: count, dtype: int64"
      ]
     },
     "execution_count": 3,
     "metadata": {},
     "output_type": "execute_result"
    }
   ],
   "source": [
    "df['final_stance_dummy'].value_counts()"
   ]
  },
  {
   "cell_type": "markdown",
   "id": "204c14eb",
   "metadata": {
    "id": "204c14eb"
   },
   "source": [
    "4 - Faça o pré-processamento da coluna de texto"
   ]
  },
  {
   "cell_type": "code",
   "execution_count": 4,
   "id": "0a0fd06e",
   "metadata": {
    "colab": {
     "base_uri": "https://localhost:8080/",
     "height": 701
    },
    "executionInfo": {
     "elapsed": 1353,
     "status": "ok",
     "timestamp": 1759153710270,
     "user": {
      "displayName": "Pedro Schmalz",
      "userId": "07700592580926452057"
     },
     "user_tz": 180
    },
    "id": "0a0fd06e",
    "outputId": "e00c6917-19ba-48c9-9415-d28e1e5be2ba"
   },
   "outputs": [
    {
     "data": {
      "application/vnd.google.colaboratory.intrinsic+json": {
       "summary": "{\n  \"name\": \"df[['content','texto_processado']]\",\n  \"rows\": 5962,\n  \"fields\": [\n    {\n      \"column\": \"content\",\n      \"properties\": {\n        \"dtype\": \"string\",\n        \"num_unique_values\": 5948,\n        \"samples\": [\n          \"Gasolina quase 7 reais \\\\nG\\u00e1s de cozinha + de 100 reais \\\\nCesta B\\u00e1sica completa 600 reais \\\\nConta de Luz reajuste de 52% \\\\nD\\u00f3lar na casa dos 5 reais \\\\nCarne mais de 60 reais \\\\nInfla\\u00e7\\u00e3o subindo. \\\\nDesemprego recorde. \\\\nPandemia descontrolada. \\\\nVacinas atrasadas. \\\\nSua vida melhorou em que?\",\n          \"Reuni com o Ministro da Sa\\u00fade, Marcelo Queiroga, nessa quarta-feira para discutir a necessidade de mais vacinas para Bel\\u00e9m.\\\\n\\\\n#Bel\\u00e9mVacinada \",\n          \"Hospitais brasileiros temem \\u2018uso pol\\u00edtico\\u2019 de pesquisas nacionais sobre cloroquina. Resultados ser\\u00e3o anunciados nas pr\\u00f3ximas semanas e devem seguir a linha de estudos estrangeiros que n\\u00e3o comprovaram efic\\u00e1cia do rem\\u00e9dio p/ combater a covid-19\\\\n\\\\n\"\n        ],\n        \"semantic_type\": \"\",\n        \"description\": \"\"\n      }\n    },\n    {\n      \"column\": \"texto_processado\",\n      \"properties\": {\n        \"dtype\": \"string\",\n        \"num_unique_values\": 5934,\n        \"samples\": [\n          \"obrigada meu deus por ter me mantido protegida desse v rus obrigada por essa vacina muitos n\\u00e3o tiveram essa oportunidade edmilsonpsol helderbarbalho prefeiturabelem\",\n          \"omardeideais dizque tomou as duas doses da pfizer\",\n          \"hoje conversei com as r\\u00e1dios difusora de jata rio claro e felicidade de ipor\\u00e1 falei sobre benef cios conseguidos para as regi\\u00f5es sudoeste e oeste reforcei minha contrariedade quanto a cpi da covid \\u00e9 hora de concentrar na vacina e n\\u00e3o em uso pol tico eleitoral da pandemia\"\n        ],\n        \"semantic_type\": \"\",\n        \"description\": \"\"\n      }\n    }\n  ]\n}",
       "type": "dataframe"
      },
      "text/html": [
       "\n",
       "  <div id=\"df-f2cc5f64-8058-47f9-9003-4698ef419588\" class=\"colab-df-container\">\n",
       "    <div>\n",
       "<style scoped>\n",
       "    .dataframe tbody tr th:only-of-type {\n",
       "        vertical-align: middle;\n",
       "    }\n",
       "\n",
       "    .dataframe tbody tr th {\n",
       "        vertical-align: top;\n",
       "    }\n",
       "\n",
       "    .dataframe thead th {\n",
       "        text-align: right;\n",
       "    }\n",
       "</style>\n",
       "<table border=\"1\" class=\"dataframe\">\n",
       "  <thead>\n",
       "    <tr style=\"text-align: right;\">\n",
       "      <th></th>\n",
       "      <th>content</th>\n",
       "      <th>texto_processado</th>\n",
       "    </tr>\n",
       "  </thead>\n",
       "  <tbody>\n",
       "    <tr>\n",
       "      <th>0</th>\n",
       "      <td>A cabeça pensa onde o pé pisa. Quem governa de dentro do escritório com ar-condicionado não conhece o dia-a-dia das escolas em POA. O protocolo de volta às aulas de Marchezan, como diz @ProfAlexFraga, é miserável e coloca a vida de alunos e professores em risco. #SemVacinaSemAula</td>\n",
       "      <td>a cabeça pensa onde o pé pisa quem governa de dentro do escritório com ar condicionado não conhece o dia a dia das escolas em poa o protocolo de volta s aulas de marchezan como diz profalexfraga é miserável e coloca a vida de alunos e professores em risco semvacinasemaula</td>\n",
       "    </tr>\n",
       "    <tr>\n",
       "      <th>1</th>\n",
       "      <td>Sarto vai fazer um grande Programa de Enfrentamento à Pandemia, vai garantir a vacina da Covid e muito mais! 🤝\\n\\nConfira o programa de hoje: #Fortaleza #CaminhandoJuntos #ComForçaECoragem #Sarto12 #FortalezaCadaVezMelhor #TrabalhoSério</td>\n",
       "      <td>sarto vai fazer um grande programa de enfrentamento pandemia vai garantir a vacina da covid e muito mais confira o programa de hoje fortaleza caminhandojuntos comforçaecoragem sarto fortalezacadavezmelhor trabalhosério</td>\n",
       "    </tr>\n",
       "    <tr>\n",
       "      <th>2</th>\n",
       "      <td>A Câmara dos Deputados votou hoje a MP que trata da adesão do Brasil à Aliança de Vacinação contra a Covid. O @psol50 encaminhou voto favorável à vacina. Nosso partido defende que o negacionismo de Bolsonaro é um projeto de uma sociedade movida pelo ódio e precisa ser derrotado.</td>\n",
       "      <td>a câmara dos deputados votou hoje a mp que trata da adesão do brasil aliança de vacinação contra a covid o psol encaminhou voto favorável vacina nosso partido defende que o negacionismo de bolsonaro é um projeto de uma sociedade movida pelo ódio e precisa ser derrotado</td>\n",
       "    </tr>\n",
       "    <tr>\n",
       "      <th>3</th>\n",
       "      <td>Tirar Bolsonaro do poder é uma questão de vida ou morte. Um presidente que impede testes para produção de uma vacina por pura guerra ideológica e que zomba da dor do povo precisa ser retirado imediatamente do poder. #ForaBolsonaro #impeachmentDeBolsonaro #bolsonarogenocida</td>\n",
       "      <td>tirar bolsonaro do poder é uma questão de vida ou morte um presidente que impede testes para produção de uma vacina por pura guerra ideológica e que zomba da dor do povo precisa ser retirado imediatamente do poder forabolsonaro impeachmentdebolsonaro bolsonarogenocida</td>\n",
       "    </tr>\n",
       "    <tr>\n",
       "      <th>4</th>\n",
       "      <td>E a LIESA decidiu adiar os desfiles do #CarnavalRJ. Sem data, não dá para pensar em sambódromo sem a esperada vacina. Agora é olhar pros profissionais do Carnaval, que precisam de apoio até o fim da pandemia. #DelegadaMarthaRocha #CarnavalRiodeJaneiro</td>\n",
       "      <td>e a liesa decidiu adiar os desfiles do carnavalrj sem data não dá para pensar em sambódromo sem a esperada vacina agora é olhar pros profissionais do carnaval que precisam de apoio até o fim da pandemia delegadamartharocha carnavalriodejaneiro</td>\n",
       "    </tr>\n",
       "    <tr>\n",
       "      <th>...</th>\n",
       "      <td>...</td>\n",
       "      <td>...</td>\n",
       "    </tr>\n",
       "    <tr>\n",
       "      <th>5957</th>\n",
       "      <td>Iniciou hoje a segunda etapa da Campanha Nacional de Vacinação contra a Gripe. As 134 salas de vacina abertas da @saudepoa passam a atender todos os grupos prioritários. A Campanha vai até 31 de maio e a meta é imunizar 90% da população alvo. https://t.co/MPQLqylOlX</td>\n",
       "      <td>iniciou hoje a segunda etapa da campanha nacional de vacinação contra a gripe as salas de vacina abertas da saudepoa passam a atender todos os grupos prioritários a campanha vai até de maio e a meta é imunizar da população alvo</td>\n",
       "    </tr>\n",
       "    <tr>\n",
       "      <th>5958</th>\n",
       "      <td>DEGRADAÇÃO DA SAÚDE PÚBLICA\\nFalta de vacina e remédios, atendimento precário, falta de médico, UBSs sem médico. É a SP de Bruno Covas e Doria https://t.co/e4x910naUM</td>\n",
       "      <td>degradação da sa de p blica falta de vacina e remédios atendimento precário falta de médico ubss sem médico é a sp de bruno covas e doria</td>\n",
       "    </tr>\n",
       "    <tr>\n",
       "      <th>5959</th>\n",
       "      <td>A vacina está disponível para pessoas a partir dos 60 anos, crianças até 6 anos, gestantes ou mulheres que pariram recentemente e portadores de algumas doenças crônicas como hipertensão e diabetes. #vacinanatal #prefeiturapresente #DiaD https://t.co/OlikUWfbIp</td>\n",
       "      <td>a vacina está dispon vel para pessoas a partir dos anos crianças até anos gestantes ou mulheres que pariram recentemente e portadores de algumas doenças cr nicas como hipertensão e diabetes vacinanatal prefeiturapresente diad</td>\n",
       "    </tr>\n",
       "    <tr>\n",
       "      <th>5960</th>\n",
       "      <td>📲LIVE DE SEXTA\\nQuer tirar dúvidas sobre a Gripe H1N1? Acompanhe nossa LIVE de Sexta com a presença da Dra. Marina Roriz, médica infectologista. E saiba mais sobre nossas ações do mandato.\\n#CampanhaDeVacinação #H1N1 https://t.co/6AJiS8XBMY</td>\n",
       "      <td>live de sexta quer tirar d vidas sobre a gripe h n acompanhe nossa live de sexta com a presença da dra marina roriz médica infectologista e saiba mais sobre nossas ações do mandato campanhadevacinação h n</td>\n",
       "    </tr>\n",
       "    <tr>\n",
       "      <th>5961</th>\n",
       "      <td>Nosso Estado se tornou Área com Recomendação de Vacinação para a febre amarela, por isso, todas as pessoas com idade a partir de nove meses devem ser imunizadas. A campanha de vacinação vai até o dia 20 de abril.</td>\n",
       "      <td>nosso estado se tornou área com recomendação de vacinação para a febre amarela por isso todas as pessoas com idade a partir de nove meses devem ser imunizadas a campanha de vacinação vai até o dia de abril</td>\n",
       "    </tr>\n",
       "  </tbody>\n",
       "</table>\n",
       "<p>5962 rows × 2 columns</p>\n",
       "</div>\n",
       "    <div class=\"colab-df-buttons\">\n",
       "\n",
       "  <div class=\"colab-df-container\">\n",
       "    <button class=\"colab-df-convert\" onclick=\"convertToInteractive('df-f2cc5f64-8058-47f9-9003-4698ef419588')\"\n",
       "            title=\"Convert this dataframe to an interactive table.\"\n",
       "            style=\"display:none;\">\n",
       "\n",
       "  <svg xmlns=\"http://www.w3.org/2000/svg\" height=\"24px\" viewBox=\"0 -960 960 960\">\n",
       "    <path d=\"M120-120v-720h720v720H120Zm60-500h600v-160H180v160Zm220 220h160v-160H400v160Zm0 220h160v-160H400v160ZM180-400h160v-160H180v160Zm440 0h160v-160H620v160ZM180-180h160v-160H180v160Zm440 0h160v-160H620v160Z\"/>\n",
       "  </svg>\n",
       "    </button>\n",
       "\n",
       "  <style>\n",
       "    .colab-df-container {\n",
       "      display:flex;\n",
       "      gap: 12px;\n",
       "    }\n",
       "\n",
       "    .colab-df-convert {\n",
       "      background-color: #E8F0FE;\n",
       "      border: none;\n",
       "      border-radius: 50%;\n",
       "      cursor: pointer;\n",
       "      display: none;\n",
       "      fill: #1967D2;\n",
       "      height: 32px;\n",
       "      padding: 0 0 0 0;\n",
       "      width: 32px;\n",
       "    }\n",
       "\n",
       "    .colab-df-convert:hover {\n",
       "      background-color: #E2EBFA;\n",
       "      box-shadow: 0px 1px 2px rgba(60, 64, 67, 0.3), 0px 1px 3px 1px rgba(60, 64, 67, 0.15);\n",
       "      fill: #174EA6;\n",
       "    }\n",
       "\n",
       "    .colab-df-buttons div {\n",
       "      margin-bottom: 4px;\n",
       "    }\n",
       "\n",
       "    [theme=dark] .colab-df-convert {\n",
       "      background-color: #3B4455;\n",
       "      fill: #D2E3FC;\n",
       "    }\n",
       "\n",
       "    [theme=dark] .colab-df-convert:hover {\n",
       "      background-color: #434B5C;\n",
       "      box-shadow: 0px 1px 3px 1px rgba(0, 0, 0, 0.15);\n",
       "      filter: drop-shadow(0px 1px 2px rgba(0, 0, 0, 0.3));\n",
       "      fill: #FFFFFF;\n",
       "    }\n",
       "  </style>\n",
       "\n",
       "    <script>\n",
       "      const buttonEl =\n",
       "        document.querySelector('#df-f2cc5f64-8058-47f9-9003-4698ef419588 button.colab-df-convert');\n",
       "      buttonEl.style.display =\n",
       "        google.colab.kernel.accessAllowed ? 'block' : 'none';\n",
       "\n",
       "      async function convertToInteractive(key) {\n",
       "        const element = document.querySelector('#df-f2cc5f64-8058-47f9-9003-4698ef419588');\n",
       "        const dataTable =\n",
       "          await google.colab.kernel.invokeFunction('convertToInteractive',\n",
       "                                                    [key], {});\n",
       "        if (!dataTable) return;\n",
       "\n",
       "        const docLinkHtml = 'Like what you see? Visit the ' +\n",
       "          '<a target=\"_blank\" href=https://colab.research.google.com/notebooks/data_table.ipynb>data table notebook</a>'\n",
       "          + ' to learn more about interactive tables.';\n",
       "        element.innerHTML = '';\n",
       "        dataTable['output_type'] = 'display_data';\n",
       "        await google.colab.output.renderOutput(dataTable, element);\n",
       "        const docLink = document.createElement('div');\n",
       "        docLink.innerHTML = docLinkHtml;\n",
       "        element.appendChild(docLink);\n",
       "      }\n",
       "    </script>\n",
       "  </div>\n",
       "\n",
       "\n",
       "    <div id=\"df-7a8573a5-a65c-4969-a77d-0db88751862c\">\n",
       "      <button class=\"colab-df-quickchart\" onclick=\"quickchart('df-7a8573a5-a65c-4969-a77d-0db88751862c')\"\n",
       "                title=\"Suggest charts\"\n",
       "                style=\"display:none;\">\n",
       "\n",
       "<svg xmlns=\"http://www.w3.org/2000/svg\" height=\"24px\"viewBox=\"0 0 24 24\"\n",
       "     width=\"24px\">\n",
       "    <g>\n",
       "        <path d=\"M19 3H5c-1.1 0-2 .9-2 2v14c0 1.1.9 2 2 2h14c1.1 0 2-.9 2-2V5c0-1.1-.9-2-2-2zM9 17H7v-7h2v7zm4 0h-2V7h2v10zm4 0h-2v-4h2v4z\"/>\n",
       "    </g>\n",
       "</svg>\n",
       "      </button>\n",
       "\n",
       "<style>\n",
       "  .colab-df-quickchart {\n",
       "      --bg-color: #E8F0FE;\n",
       "      --fill-color: #1967D2;\n",
       "      --hover-bg-color: #E2EBFA;\n",
       "      --hover-fill-color: #174EA6;\n",
       "      --disabled-fill-color: #AAA;\n",
       "      --disabled-bg-color: #DDD;\n",
       "  }\n",
       "\n",
       "  [theme=dark] .colab-df-quickchart {\n",
       "      --bg-color: #3B4455;\n",
       "      --fill-color: #D2E3FC;\n",
       "      --hover-bg-color: #434B5C;\n",
       "      --hover-fill-color: #FFFFFF;\n",
       "      --disabled-bg-color: #3B4455;\n",
       "      --disabled-fill-color: #666;\n",
       "  }\n",
       "\n",
       "  .colab-df-quickchart {\n",
       "    background-color: var(--bg-color);\n",
       "    border: none;\n",
       "    border-radius: 50%;\n",
       "    cursor: pointer;\n",
       "    display: none;\n",
       "    fill: var(--fill-color);\n",
       "    height: 32px;\n",
       "    padding: 0;\n",
       "    width: 32px;\n",
       "  }\n",
       "\n",
       "  .colab-df-quickchart:hover {\n",
       "    background-color: var(--hover-bg-color);\n",
       "    box-shadow: 0 1px 2px rgba(60, 64, 67, 0.3), 0 1px 3px 1px rgba(60, 64, 67, 0.15);\n",
       "    fill: var(--button-hover-fill-color);\n",
       "  }\n",
       "\n",
       "  .colab-df-quickchart-complete:disabled,\n",
       "  .colab-df-quickchart-complete:disabled:hover {\n",
       "    background-color: var(--disabled-bg-color);\n",
       "    fill: var(--disabled-fill-color);\n",
       "    box-shadow: none;\n",
       "  }\n",
       "\n",
       "  .colab-df-spinner {\n",
       "    border: 2px solid var(--fill-color);\n",
       "    border-color: transparent;\n",
       "    border-bottom-color: var(--fill-color);\n",
       "    animation:\n",
       "      spin 1s steps(1) infinite;\n",
       "  }\n",
       "\n",
       "  @keyframes spin {\n",
       "    0% {\n",
       "      border-color: transparent;\n",
       "      border-bottom-color: var(--fill-color);\n",
       "      border-left-color: var(--fill-color);\n",
       "    }\n",
       "    20% {\n",
       "      border-color: transparent;\n",
       "      border-left-color: var(--fill-color);\n",
       "      border-top-color: var(--fill-color);\n",
       "    }\n",
       "    30% {\n",
       "      border-color: transparent;\n",
       "      border-left-color: var(--fill-color);\n",
       "      border-top-color: var(--fill-color);\n",
       "      border-right-color: var(--fill-color);\n",
       "    }\n",
       "    40% {\n",
       "      border-color: transparent;\n",
       "      border-right-color: var(--fill-color);\n",
       "      border-top-color: var(--fill-color);\n",
       "    }\n",
       "    60% {\n",
       "      border-color: transparent;\n",
       "      border-right-color: var(--fill-color);\n",
       "    }\n",
       "    80% {\n",
       "      border-color: transparent;\n",
       "      border-right-color: var(--fill-color);\n",
       "      border-bottom-color: var(--fill-color);\n",
       "    }\n",
       "    90% {\n",
       "      border-color: transparent;\n",
       "      border-bottom-color: var(--fill-color);\n",
       "    }\n",
       "  }\n",
       "</style>\n",
       "\n",
       "      <script>\n",
       "        async function quickchart(key) {\n",
       "          const quickchartButtonEl =\n",
       "            document.querySelector('#' + key + ' button');\n",
       "          quickchartButtonEl.disabled = true;  // To prevent multiple clicks.\n",
       "          quickchartButtonEl.classList.add('colab-df-spinner');\n",
       "          try {\n",
       "            const charts = await google.colab.kernel.invokeFunction(\n",
       "                'suggestCharts', [key], {});\n",
       "          } catch (error) {\n",
       "            console.error('Error during call to suggestCharts:', error);\n",
       "          }\n",
       "          quickchartButtonEl.classList.remove('colab-df-spinner');\n",
       "          quickchartButtonEl.classList.add('colab-df-quickchart-complete');\n",
       "        }\n",
       "        (() => {\n",
       "          let quickchartButtonEl =\n",
       "            document.querySelector('#df-7a8573a5-a65c-4969-a77d-0db88751862c button');\n",
       "          quickchartButtonEl.style.display =\n",
       "            google.colab.kernel.accessAllowed ? 'block' : 'none';\n",
       "        })();\n",
       "      </script>\n",
       "    </div>\n",
       "\n",
       "    </div>\n",
       "  </div>\n"
      ],
      "text/plain": [
       "                                                                                                                                                                                                                                                                                       content  \\\n",
       "0     A cabeça pensa onde o pé pisa. Quem governa de dentro do escritório com ar-condicionado não conhece o dia-a-dia das escolas em POA. O protocolo de volta às aulas de Marchezan, como diz @ProfAlexFraga, é miserável e coloca a vida de alunos e professores em risco. #SemVacinaSemAula   \n",
       "1                                                 Sarto vai fazer um grande Programa de Enfrentamento à Pandemia, vai garantir a vacina da Covid e muito mais! 🤝\\n\\nConfira o programa de hoje: #Fortaleza #CaminhandoJuntos #ComForçaECoragem #Sarto12 #FortalezaCadaVezMelhor #TrabalhoSério   \n",
       "2      A Câmara dos Deputados votou hoje a MP que trata da adesão do Brasil à Aliança de Vacinação contra a Covid. O @psol50 encaminhou voto favorável à vacina. Nosso partido defende que o negacionismo de Bolsonaro é um projeto de uma sociedade movida pelo ódio e precisa ser derrotado.   \n",
       "3            Tirar Bolsonaro do poder é uma questão de vida ou morte. Um presidente que impede testes para produção de uma vacina por pura guerra ideológica e que zomba da dor do povo precisa ser retirado imediatamente do poder. #ForaBolsonaro #impeachmentDeBolsonaro #bolsonarogenocida   \n",
       "4                                  E a LIESA decidiu adiar os desfiles do #CarnavalRJ. Sem data, não dá para pensar em sambódromo sem a esperada vacina. Agora é olhar pros profissionais do Carnaval, que precisam de apoio até o fim da pandemia. #DelegadaMarthaRocha #CarnavalRiodeJaneiro   \n",
       "...                                                                                                                                                                                                                                                                                        ...   \n",
       "5957                Iniciou hoje a segunda etapa da Campanha Nacional de Vacinação contra a Gripe. As 134 salas de vacina abertas da @saudepoa passam a atender todos os grupos prioritários. A Campanha vai até 31 de maio e a meta é imunizar 90% da população alvo. https://t.co/MPQLqylOlX   \n",
       "5958                                                                                                                    DEGRADAÇÃO DA SAÚDE PÚBLICA\\nFalta de vacina e remédios, atendimento precário, falta de médico, UBSs sem médico. É a SP de Bruno Covas e Doria https://t.co/e4x910naUM   \n",
       "5959                      A vacina está disponível para pessoas a partir dos 60 anos, crianças até 6 anos, gestantes ou mulheres que pariram recentemente e portadores de algumas doenças crônicas como hipertensão e diabetes. #vacinanatal #prefeiturapresente #DiaD https://t.co/OlikUWfbIp   \n",
       "5960                                          📲LIVE DE SEXTA\\nQuer tirar dúvidas sobre a Gripe H1N1? Acompanhe nossa LIVE de Sexta com a presença da Dra. Marina Roriz, médica infectologista. E saiba mais sobre nossas ações do mandato.\\n#CampanhaDeVacinação #H1N1 https://t.co/6AJiS8XBMY   \n",
       "5961                                                                      Nosso Estado se tornou Área com Recomendação de Vacinação para a febre amarela, por isso, todas as pessoas com idade a partir de nove meses devem ser imunizadas. A campanha de vacinação vai até o dia 20 de abril.   \n",
       "\n",
       "                                                                                                                                                                                                                                                                      texto_processado  \n",
       "0     a cabeça pensa onde o pé pisa quem governa de dentro do escritório com ar condicionado não conhece o dia a dia das escolas em poa o protocolo de volta s aulas de marchezan como diz profalexfraga é miserável e coloca a vida de alunos e professores em risco semvacinasemaula  \n",
       "1                                                           sarto vai fazer um grande programa de enfrentamento pandemia vai garantir a vacina da covid e muito mais confira o programa de hoje fortaleza caminhandojuntos comforçaecoragem sarto fortalezacadavezmelhor trabalhosério  \n",
       "2        a câmara dos deputados votou hoje a mp que trata da adesão do brasil aliança de vacinação contra a covid o psol encaminhou voto favorável vacina nosso partido defende que o negacionismo de bolsonaro é um projeto de uma sociedade movida pelo ódio e precisa ser derrotado  \n",
       "3         tirar bolsonaro do poder é uma questão de vida ou morte um presidente que impede testes para produção de uma vacina por pura guerra ideológica e que zomba da dor do povo precisa ser retirado imediatamente do poder forabolsonaro impeachmentdebolsonaro bolsonarogenocida  \n",
       "4                                  e a liesa decidiu adiar os desfiles do carnavalrj sem data não dá para pensar em sambódromo sem a esperada vacina agora é olhar pros profissionais do carnaval que precisam de apoio até o fim da pandemia delegadamartharocha carnavalriodejaneiro  \n",
       "...                                                                                                                                                                                                                                                                                ...  \n",
       "5957                                               iniciou hoje a segunda etapa da campanha nacional de vacinação contra a gripe as salas de vacina abertas da saudepoa passam a atender todos os grupos prioritários a campanha vai até de maio e a meta é imunizar da população alvo  \n",
       "5958                                                                                                                                         degradação da sa de p blica falta de vacina e remédios atendimento precário falta de médico ubss sem médico é a sp de bruno covas e doria  \n",
       "5959                                                 a vacina está dispon vel para pessoas a partir dos anos crianças até anos gestantes ou mulheres que pariram recentemente e portadores de algumas doenças cr nicas como hipertensão e diabetes vacinanatal prefeiturapresente diad  \n",
       "5960                                                                      live de sexta quer tirar d vidas sobre a gripe h n acompanhe nossa live de sexta com a presença da dra marina roriz médica infectologista e saiba mais sobre nossas ações do mandato campanhadevacinação h n  \n",
       "5961                                                                     nosso estado se tornou área com recomendação de vacinação para a febre amarela por isso todas as pessoas com idade a partir de nove meses devem ser imunizadas a campanha de vacinação vai até o dia de abril  \n",
       "\n",
       "[5962 rows x 2 columns]"
      ]
     },
     "execution_count": 4,
     "metadata": {},
     "output_type": "execute_result"
    }
   ],
   "source": [
    "import re\n",
    "\n",
    "def preprocess_text(texto):\n",
    "    # Use uma expressão regular para encontrar e remover URLs\n",
    "    texto = re.sub(r'https://\\S+', '', texto)\n",
    "\n",
    "    # Remover quebra de linha\n",
    "    texto = texto.replace('\\\\n', ' ')\n",
    "\n",
    "    # Remover Hashtags\n",
    "    texto = re.sub(r'#(\\w+)', r'\\1', texto)\n",
    "\n",
    "    # Deixar todas as letras minúsculas\n",
    "    texto = texto.lower()\n",
    "\n",
    "    # Selecionar apenas letras\n",
    "    texto = re.findall(r'[a-zéóáêâãõç]+', texto)\n",
    "\n",
    "    # Juntar o texto, já que o .findall separa em tokens\n",
    "    texto = \" \".join(texto)\n",
    "\n",
    "    return texto\n",
    "\n",
    "# Criando a nova coluna transformada\n",
    "df[\"texto_processado\"] = df['content'].apply(preprocess_text)\n",
    "\n",
    "pd.set_option('display.max_colwidth', None) # Para mostrar a coluna inteira\n",
    "\n",
    "# Imprimindo\n",
    "df[['content','texto_processado']]\n"
   ]
  },
  {
   "cell_type": "markdown",
   "id": "0e78a7b6",
   "metadata": {
    "id": "0e78a7b6"
   },
   "source": [
    "5 - Instancie o array de texto e de posicionamento. Faça a divisão entre treino e teste com eles. Deixe 10% para treinamento, e defina uma seed"
   ]
  },
  {
   "cell_type": "code",
   "execution_count": 5,
   "id": "d97b8df6",
   "metadata": {
    "executionInfo": {
     "elapsed": 38,
     "status": "ok",
     "timestamp": 1759153710331,
     "user": {
      "displayName": "Pedro Schmalz",
      "userId": "07700592580926452057"
     },
     "user_tz": 180
    },
    "id": "d97b8df6"
   },
   "outputs": [],
   "source": [
    "y = df['final_stance_dummy']\n",
    "X = df['texto_processado']\n",
    "\n",
    "X_treino, X_teste, y_treino, y_teste = train_test_split(X, # Vetor de variáveis explicativas\n",
    "                                                        y, # Target (Ou Var. Dep.)\n",
    "                                                        test_size=0.1, # Porcentagem que vai ficar para teste (20%)\n",
    "                                                        random_state=42) # Seed para garantir a estabilidade dos resultados\n",
    "\n"
   ]
  },
  {
   "cell_type": "markdown",
   "id": "ea94f974",
   "metadata": {
    "id": "ea94f974"
   },
   "source": [
    "6 - Imprima a proporção de cada classe nos bancos de treino e teste. Há uma diferença significativa?"
   ]
  },
  {
   "cell_type": "code",
   "execution_count": 6,
   "id": "e13f64a4",
   "metadata": {
    "colab": {
     "base_uri": "https://localhost:8080/"
    },
    "executionInfo": {
     "elapsed": 44,
     "status": "ok",
     "timestamp": 1759153710377,
     "user": {
      "displayName": "Pedro Schmalz",
      "userId": "07700592580926452057"
     },
     "user_tz": 180
    },
    "id": "e13f64a4",
    "outputId": "7b2b8d6e-392b-41ce-ee3d-89846827c67c"
   },
   "outputs": [
    {
     "name": "stdout",
     "output_type": "stream",
     "text": [
      "final_stance_dummy\n",
      "0    0.958248\n",
      "1    0.041752\n",
      "Name: proportion, dtype: float64\n",
      "final_stance_dummy\n",
      "0    0.953099\n",
      "1    0.046901\n",
      "Name: proportion, dtype: float64\n"
     ]
    }
   ],
   "source": [
    "print(y_treino.value_counts(normalize = True))\n",
    "print(y_teste.value_counts(normalize = True))"
   ]
  },
  {
   "cell_type": "markdown",
   "id": "78ca3c43",
   "metadata": {
    "id": "78ca3c43"
   },
   "source": [
    "7 - Faça a transformação do array de treino (X_treino) em *Bag-of-Words*"
   ]
  },
  {
   "cell_type": "code",
   "execution_count": 7,
   "id": "be67c324",
   "metadata": {
    "colab": {
     "base_uri": "https://localhost:8080/"
    },
    "executionInfo": {
     "elapsed": 2022,
     "status": "ok",
     "timestamp": 1759153712400,
     "user": {
      "displayName": "Pedro Schmalz",
      "userId": "07700592580926452057"
     },
     "user_tz": 180
    },
    "id": "be67c324",
    "outputId": "7f3dc045-f2bf-45c8-c23e-0ba6ab0705f7"
   },
   "outputs": [
    {
     "data": {
      "text/plain": [
       "array([[0, 0, 0, ..., 0, 0, 0],\n",
       "       [0, 0, 0, ..., 0, 0, 0],\n",
       "       [0, 0, 0, ..., 0, 0, 0],\n",
       "       [0, 0, 0, ..., 0, 0, 0],\n",
       "       [0, 0, 0, ..., 0, 0, 0]])"
      ]
     },
     "execution_count": 7,
     "metadata": {},
     "output_type": "execute_result"
    }
   ],
   "source": [
    "from sklearn.feature_extraction.text import CountVectorizer\n",
    "\n",
    "# Definindo o dicionário de stop_words\n",
    "stop_words = stopwords.words('portuguese')\n",
    "\n",
    "# Criando o vetorizador, utilizando nossa lista de stop_words\n",
    "vectorizer = CountVectorizer(stop_words=stop_words,\n",
    "                             ngram_range=(1,1)) # Palavras serão tratadas individualmente (ngram = 1)\n",
    "\n",
    "# Transformando a coluna de texto em BOW\n",
    "X_treino = vectorizer.fit_transform(X_treino)\n",
    "\n",
    "# Imprimindo as primeiras cinco linhas\n",
    "X_treino.toarray()[:5]"
   ]
  },
  {
   "cell_type": "markdown",
   "id": "0600a4cc",
   "metadata": {
    "id": "0600a4cc"
   },
   "source": [
    "8 - Agora transforme o array de teste (X_teste) usando o vectorizer.transform"
   ]
  },
  {
   "cell_type": "code",
   "execution_count": 8,
   "id": "5aa69fab",
   "metadata": {
    "colab": {
     "base_uri": "https://localhost:8080/"
    },
    "executionInfo": {
     "elapsed": 113,
     "status": "ok",
     "timestamp": 1759153712513,
     "user": {
      "displayName": "Pedro Schmalz",
      "userId": "07700592580926452057"
     },
     "user_tz": 180
    },
    "id": "5aa69fab",
    "outputId": "c198bdff-5d46-4189-9f3e-58d9c5772827"
   },
   "outputs": [
    {
     "data": {
      "text/plain": [
       "array([[0, 0, 0, ..., 0, 0, 0],\n",
       "       [0, 0, 0, ..., 0, 0, 0],\n",
       "       [0, 0, 0, ..., 0, 0, 0],\n",
       "       [0, 0, 0, ..., 0, 0, 0],\n",
       "       [0, 0, 0, ..., 0, 0, 0]])"
      ]
     },
     "execution_count": 8,
     "metadata": {},
     "output_type": "execute_result"
    }
   ],
   "source": [
    "X_teste = vectorizer.transform(X_teste)\n",
    "\n",
    "# Imprimindo as primeiras cinco linhas\n",
    "X_teste.toarray()[:5]"
   ]
  },
  {
   "cell_type": "markdown",
   "id": "9f3766a5",
   "metadata": {
    "id": "9f3766a5"
   },
   "source": [
    "9 - Instancie o modelo e o treine usando o banco de treinamento."
   ]
  },
  {
   "cell_type": "code",
   "execution_count": 9,
   "id": "90abd481",
   "metadata": {
    "colab": {
     "base_uri": "https://localhost:8080/",
     "height": 80
    },
    "executionInfo": {
     "elapsed": 1517,
     "status": "ok",
     "timestamp": 1759153714034,
     "user": {
      "displayName": "Pedro Schmalz",
      "userId": "07700592580926452057"
     },
     "user_tz": 180
    },
    "id": "90abd481",
    "outputId": "6bbf6179-b36c-411f-e9a1-2f76803007cc"
   },
   "outputs": [
    {
     "data": {
      "text/html": [
       "<style>#sk-container-id-1 {\n",
       "  /* Definition of color scheme common for light and dark mode */\n",
       "  --sklearn-color-text: #000;\n",
       "  --sklearn-color-text-muted: #666;\n",
       "  --sklearn-color-line: gray;\n",
       "  /* Definition of color scheme for unfitted estimators */\n",
       "  --sklearn-color-unfitted-level-0: #fff5e6;\n",
       "  --sklearn-color-unfitted-level-1: #f6e4d2;\n",
       "  --sklearn-color-unfitted-level-2: #ffe0b3;\n",
       "  --sklearn-color-unfitted-level-3: chocolate;\n",
       "  /* Definition of color scheme for fitted estimators */\n",
       "  --sklearn-color-fitted-level-0: #f0f8ff;\n",
       "  --sklearn-color-fitted-level-1: #d4ebff;\n",
       "  --sklearn-color-fitted-level-2: #b3dbfd;\n",
       "  --sklearn-color-fitted-level-3: cornflowerblue;\n",
       "\n",
       "  /* Specific color for light theme */\n",
       "  --sklearn-color-text-on-default-background: var(--sg-text-color, var(--theme-code-foreground, var(--jp-content-font-color1, black)));\n",
       "  --sklearn-color-background: var(--sg-background-color, var(--theme-background, var(--jp-layout-color0, white)));\n",
       "  --sklearn-color-border-box: var(--sg-text-color, var(--theme-code-foreground, var(--jp-content-font-color1, black)));\n",
       "  --sklearn-color-icon: #696969;\n",
       "\n",
       "  @media (prefers-color-scheme: dark) {\n",
       "    /* Redefinition of color scheme for dark theme */\n",
       "    --sklearn-color-text-on-default-background: var(--sg-text-color, var(--theme-code-foreground, var(--jp-content-font-color1, white)));\n",
       "    --sklearn-color-background: var(--sg-background-color, var(--theme-background, var(--jp-layout-color0, #111)));\n",
       "    --sklearn-color-border-box: var(--sg-text-color, var(--theme-code-foreground, var(--jp-content-font-color1, white)));\n",
       "    --sklearn-color-icon: #878787;\n",
       "  }\n",
       "}\n",
       "\n",
       "#sk-container-id-1 {\n",
       "  color: var(--sklearn-color-text);\n",
       "}\n",
       "\n",
       "#sk-container-id-1 pre {\n",
       "  padding: 0;\n",
       "}\n",
       "\n",
       "#sk-container-id-1 input.sk-hidden--visually {\n",
       "  border: 0;\n",
       "  clip: rect(1px 1px 1px 1px);\n",
       "  clip: rect(1px, 1px, 1px, 1px);\n",
       "  height: 1px;\n",
       "  margin: -1px;\n",
       "  overflow: hidden;\n",
       "  padding: 0;\n",
       "  position: absolute;\n",
       "  width: 1px;\n",
       "}\n",
       "\n",
       "#sk-container-id-1 div.sk-dashed-wrapped {\n",
       "  border: 1px dashed var(--sklearn-color-line);\n",
       "  margin: 0 0.4em 0.5em 0.4em;\n",
       "  box-sizing: border-box;\n",
       "  padding-bottom: 0.4em;\n",
       "  background-color: var(--sklearn-color-background);\n",
       "}\n",
       "\n",
       "#sk-container-id-1 div.sk-container {\n",
       "  /* jupyter's `normalize.less` sets `[hidden] { display: none; }`\n",
       "     but bootstrap.min.css set `[hidden] { display: none !important; }`\n",
       "     so we also need the `!important` here to be able to override the\n",
       "     default hidden behavior on the sphinx rendered scikit-learn.org.\n",
       "     See: https://github.com/scikit-learn/scikit-learn/issues/21755 */\n",
       "  display: inline-block !important;\n",
       "  position: relative;\n",
       "}\n",
       "\n",
       "#sk-container-id-1 div.sk-text-repr-fallback {\n",
       "  display: none;\n",
       "}\n",
       "\n",
       "div.sk-parallel-item,\n",
       "div.sk-serial,\n",
       "div.sk-item {\n",
       "  /* draw centered vertical line to link estimators */\n",
       "  background-image: linear-gradient(var(--sklearn-color-text-on-default-background), var(--sklearn-color-text-on-default-background));\n",
       "  background-size: 2px 100%;\n",
       "  background-repeat: no-repeat;\n",
       "  background-position: center center;\n",
       "}\n",
       "\n",
       "/* Parallel-specific style estimator block */\n",
       "\n",
       "#sk-container-id-1 div.sk-parallel-item::after {\n",
       "  content: \"\";\n",
       "  width: 100%;\n",
       "  border-bottom: 2px solid var(--sklearn-color-text-on-default-background);\n",
       "  flex-grow: 1;\n",
       "}\n",
       "\n",
       "#sk-container-id-1 div.sk-parallel {\n",
       "  display: flex;\n",
       "  align-items: stretch;\n",
       "  justify-content: center;\n",
       "  background-color: var(--sklearn-color-background);\n",
       "  position: relative;\n",
       "}\n",
       "\n",
       "#sk-container-id-1 div.sk-parallel-item {\n",
       "  display: flex;\n",
       "  flex-direction: column;\n",
       "}\n",
       "\n",
       "#sk-container-id-1 div.sk-parallel-item:first-child::after {\n",
       "  align-self: flex-end;\n",
       "  width: 50%;\n",
       "}\n",
       "\n",
       "#sk-container-id-1 div.sk-parallel-item:last-child::after {\n",
       "  align-self: flex-start;\n",
       "  width: 50%;\n",
       "}\n",
       "\n",
       "#sk-container-id-1 div.sk-parallel-item:only-child::after {\n",
       "  width: 0;\n",
       "}\n",
       "\n",
       "/* Serial-specific style estimator block */\n",
       "\n",
       "#sk-container-id-1 div.sk-serial {\n",
       "  display: flex;\n",
       "  flex-direction: column;\n",
       "  align-items: center;\n",
       "  background-color: var(--sklearn-color-background);\n",
       "  padding-right: 1em;\n",
       "  padding-left: 1em;\n",
       "}\n",
       "\n",
       "\n",
       "/* Toggleable style: style used for estimator/Pipeline/ColumnTransformer box that is\n",
       "clickable and can be expanded/collapsed.\n",
       "- Pipeline and ColumnTransformer use this feature and define the default style\n",
       "- Estimators will overwrite some part of the style using the `sk-estimator` class\n",
       "*/\n",
       "\n",
       "/* Pipeline and ColumnTransformer style (default) */\n",
       "\n",
       "#sk-container-id-1 div.sk-toggleable {\n",
       "  /* Default theme specific background. It is overwritten whether we have a\n",
       "  specific estimator or a Pipeline/ColumnTransformer */\n",
       "  background-color: var(--sklearn-color-background);\n",
       "}\n",
       "\n",
       "/* Toggleable label */\n",
       "#sk-container-id-1 label.sk-toggleable__label {\n",
       "  cursor: pointer;\n",
       "  display: flex;\n",
       "  width: 100%;\n",
       "  margin-bottom: 0;\n",
       "  padding: 0.5em;\n",
       "  box-sizing: border-box;\n",
       "  text-align: center;\n",
       "  align-items: start;\n",
       "  justify-content: space-between;\n",
       "  gap: 0.5em;\n",
       "}\n",
       "\n",
       "#sk-container-id-1 label.sk-toggleable__label .caption {\n",
       "  font-size: 0.6rem;\n",
       "  font-weight: lighter;\n",
       "  color: var(--sklearn-color-text-muted);\n",
       "}\n",
       "\n",
       "#sk-container-id-1 label.sk-toggleable__label-arrow:before {\n",
       "  /* Arrow on the left of the label */\n",
       "  content: \"▸\";\n",
       "  float: left;\n",
       "  margin-right: 0.25em;\n",
       "  color: var(--sklearn-color-icon);\n",
       "}\n",
       "\n",
       "#sk-container-id-1 label.sk-toggleable__label-arrow:hover:before {\n",
       "  color: var(--sklearn-color-text);\n",
       "}\n",
       "\n",
       "/* Toggleable content - dropdown */\n",
       "\n",
       "#sk-container-id-1 div.sk-toggleable__content {\n",
       "  max-height: 0;\n",
       "  max-width: 0;\n",
       "  overflow: hidden;\n",
       "  text-align: left;\n",
       "  /* unfitted */\n",
       "  background-color: var(--sklearn-color-unfitted-level-0);\n",
       "}\n",
       "\n",
       "#sk-container-id-1 div.sk-toggleable__content.fitted {\n",
       "  /* fitted */\n",
       "  background-color: var(--sklearn-color-fitted-level-0);\n",
       "}\n",
       "\n",
       "#sk-container-id-1 div.sk-toggleable__content pre {\n",
       "  margin: 0.2em;\n",
       "  border-radius: 0.25em;\n",
       "  color: var(--sklearn-color-text);\n",
       "  /* unfitted */\n",
       "  background-color: var(--sklearn-color-unfitted-level-0);\n",
       "}\n",
       "\n",
       "#sk-container-id-1 div.sk-toggleable__content.fitted pre {\n",
       "  /* unfitted */\n",
       "  background-color: var(--sklearn-color-fitted-level-0);\n",
       "}\n",
       "\n",
       "#sk-container-id-1 input.sk-toggleable__control:checked~div.sk-toggleable__content {\n",
       "  /* Expand drop-down */\n",
       "  max-height: 200px;\n",
       "  max-width: 100%;\n",
       "  overflow: auto;\n",
       "}\n",
       "\n",
       "#sk-container-id-1 input.sk-toggleable__control:checked~label.sk-toggleable__label-arrow:before {\n",
       "  content: \"▾\";\n",
       "}\n",
       "\n",
       "/* Pipeline/ColumnTransformer-specific style */\n",
       "\n",
       "#sk-container-id-1 div.sk-label input.sk-toggleable__control:checked~label.sk-toggleable__label {\n",
       "  color: var(--sklearn-color-text);\n",
       "  background-color: var(--sklearn-color-unfitted-level-2);\n",
       "}\n",
       "\n",
       "#sk-container-id-1 div.sk-label.fitted input.sk-toggleable__control:checked~label.sk-toggleable__label {\n",
       "  background-color: var(--sklearn-color-fitted-level-2);\n",
       "}\n",
       "\n",
       "/* Estimator-specific style */\n",
       "\n",
       "/* Colorize estimator box */\n",
       "#sk-container-id-1 div.sk-estimator input.sk-toggleable__control:checked~label.sk-toggleable__label {\n",
       "  /* unfitted */\n",
       "  background-color: var(--sklearn-color-unfitted-level-2);\n",
       "}\n",
       "\n",
       "#sk-container-id-1 div.sk-estimator.fitted input.sk-toggleable__control:checked~label.sk-toggleable__label {\n",
       "  /* fitted */\n",
       "  background-color: var(--sklearn-color-fitted-level-2);\n",
       "}\n",
       "\n",
       "#sk-container-id-1 div.sk-label label.sk-toggleable__label,\n",
       "#sk-container-id-1 div.sk-label label {\n",
       "  /* The background is the default theme color */\n",
       "  color: var(--sklearn-color-text-on-default-background);\n",
       "}\n",
       "\n",
       "/* On hover, darken the color of the background */\n",
       "#sk-container-id-1 div.sk-label:hover label.sk-toggleable__label {\n",
       "  color: var(--sklearn-color-text);\n",
       "  background-color: var(--sklearn-color-unfitted-level-2);\n",
       "}\n",
       "\n",
       "/* Label box, darken color on hover, fitted */\n",
       "#sk-container-id-1 div.sk-label.fitted:hover label.sk-toggleable__label.fitted {\n",
       "  color: var(--sklearn-color-text);\n",
       "  background-color: var(--sklearn-color-fitted-level-2);\n",
       "}\n",
       "\n",
       "/* Estimator label */\n",
       "\n",
       "#sk-container-id-1 div.sk-label label {\n",
       "  font-family: monospace;\n",
       "  font-weight: bold;\n",
       "  display: inline-block;\n",
       "  line-height: 1.2em;\n",
       "}\n",
       "\n",
       "#sk-container-id-1 div.sk-label-container {\n",
       "  text-align: center;\n",
       "}\n",
       "\n",
       "/* Estimator-specific */\n",
       "#sk-container-id-1 div.sk-estimator {\n",
       "  font-family: monospace;\n",
       "  border: 1px dotted var(--sklearn-color-border-box);\n",
       "  border-radius: 0.25em;\n",
       "  box-sizing: border-box;\n",
       "  margin-bottom: 0.5em;\n",
       "  /* unfitted */\n",
       "  background-color: var(--sklearn-color-unfitted-level-0);\n",
       "}\n",
       "\n",
       "#sk-container-id-1 div.sk-estimator.fitted {\n",
       "  /* fitted */\n",
       "  background-color: var(--sklearn-color-fitted-level-0);\n",
       "}\n",
       "\n",
       "/* on hover */\n",
       "#sk-container-id-1 div.sk-estimator:hover {\n",
       "  /* unfitted */\n",
       "  background-color: var(--sklearn-color-unfitted-level-2);\n",
       "}\n",
       "\n",
       "#sk-container-id-1 div.sk-estimator.fitted:hover {\n",
       "  /* fitted */\n",
       "  background-color: var(--sklearn-color-fitted-level-2);\n",
       "}\n",
       "\n",
       "/* Specification for estimator info (e.g. \"i\" and \"?\") */\n",
       "\n",
       "/* Common style for \"i\" and \"?\" */\n",
       "\n",
       ".sk-estimator-doc-link,\n",
       "a:link.sk-estimator-doc-link,\n",
       "a:visited.sk-estimator-doc-link {\n",
       "  float: right;\n",
       "  font-size: smaller;\n",
       "  line-height: 1em;\n",
       "  font-family: monospace;\n",
       "  background-color: var(--sklearn-color-background);\n",
       "  border-radius: 1em;\n",
       "  height: 1em;\n",
       "  width: 1em;\n",
       "  text-decoration: none !important;\n",
       "  margin-left: 0.5em;\n",
       "  text-align: center;\n",
       "  /* unfitted */\n",
       "  border: var(--sklearn-color-unfitted-level-1) 1pt solid;\n",
       "  color: var(--sklearn-color-unfitted-level-1);\n",
       "}\n",
       "\n",
       ".sk-estimator-doc-link.fitted,\n",
       "a:link.sk-estimator-doc-link.fitted,\n",
       "a:visited.sk-estimator-doc-link.fitted {\n",
       "  /* fitted */\n",
       "  border: var(--sklearn-color-fitted-level-1) 1pt solid;\n",
       "  color: var(--sklearn-color-fitted-level-1);\n",
       "}\n",
       "\n",
       "/* On hover */\n",
       "div.sk-estimator:hover .sk-estimator-doc-link:hover,\n",
       ".sk-estimator-doc-link:hover,\n",
       "div.sk-label-container:hover .sk-estimator-doc-link:hover,\n",
       ".sk-estimator-doc-link:hover {\n",
       "  /* unfitted */\n",
       "  background-color: var(--sklearn-color-unfitted-level-3);\n",
       "  color: var(--sklearn-color-background);\n",
       "  text-decoration: none;\n",
       "}\n",
       "\n",
       "div.sk-estimator.fitted:hover .sk-estimator-doc-link.fitted:hover,\n",
       ".sk-estimator-doc-link.fitted:hover,\n",
       "div.sk-label-container:hover .sk-estimator-doc-link.fitted:hover,\n",
       ".sk-estimator-doc-link.fitted:hover {\n",
       "  /* fitted */\n",
       "  background-color: var(--sklearn-color-fitted-level-3);\n",
       "  color: var(--sklearn-color-background);\n",
       "  text-decoration: none;\n",
       "}\n",
       "\n",
       "/* Span, style for the box shown on hovering the info icon */\n",
       ".sk-estimator-doc-link span {\n",
       "  display: none;\n",
       "  z-index: 9999;\n",
       "  position: relative;\n",
       "  font-weight: normal;\n",
       "  right: .2ex;\n",
       "  padding: .5ex;\n",
       "  margin: .5ex;\n",
       "  width: min-content;\n",
       "  min-width: 20ex;\n",
       "  max-width: 50ex;\n",
       "  color: var(--sklearn-color-text);\n",
       "  box-shadow: 2pt 2pt 4pt #999;\n",
       "  /* unfitted */\n",
       "  background: var(--sklearn-color-unfitted-level-0);\n",
       "  border: .5pt solid var(--sklearn-color-unfitted-level-3);\n",
       "}\n",
       "\n",
       ".sk-estimator-doc-link.fitted span {\n",
       "  /* fitted */\n",
       "  background: var(--sklearn-color-fitted-level-0);\n",
       "  border: var(--sklearn-color-fitted-level-3);\n",
       "}\n",
       "\n",
       ".sk-estimator-doc-link:hover span {\n",
       "  display: block;\n",
       "}\n",
       "\n",
       "/* \"?\"-specific style due to the `<a>` HTML tag */\n",
       "\n",
       "#sk-container-id-1 a.estimator_doc_link {\n",
       "  float: right;\n",
       "  font-size: 1rem;\n",
       "  line-height: 1em;\n",
       "  font-family: monospace;\n",
       "  background-color: var(--sklearn-color-background);\n",
       "  border-radius: 1rem;\n",
       "  height: 1rem;\n",
       "  width: 1rem;\n",
       "  text-decoration: none;\n",
       "  /* unfitted */\n",
       "  color: var(--sklearn-color-unfitted-level-1);\n",
       "  border: var(--sklearn-color-unfitted-level-1) 1pt solid;\n",
       "}\n",
       "\n",
       "#sk-container-id-1 a.estimator_doc_link.fitted {\n",
       "  /* fitted */\n",
       "  border: var(--sklearn-color-fitted-level-1) 1pt solid;\n",
       "  color: var(--sklearn-color-fitted-level-1);\n",
       "}\n",
       "\n",
       "/* On hover */\n",
       "#sk-container-id-1 a.estimator_doc_link:hover {\n",
       "  /* unfitted */\n",
       "  background-color: var(--sklearn-color-unfitted-level-3);\n",
       "  color: var(--sklearn-color-background);\n",
       "  text-decoration: none;\n",
       "}\n",
       "\n",
       "#sk-container-id-1 a.estimator_doc_link.fitted:hover {\n",
       "  /* fitted */\n",
       "  background-color: var(--sklearn-color-fitted-level-3);\n",
       "}\n",
       "</style><div id=\"sk-container-id-1\" class=\"sk-top-container\"><div class=\"sk-text-repr-fallback\"><pre>LogisticRegression(max_iter=1000)</pre><b>In a Jupyter environment, please rerun this cell to show the HTML representation or trust the notebook. <br />On GitHub, the HTML representation is unable to render, please try loading this page with nbviewer.org.</b></div><div class=\"sk-container\" hidden><div class=\"sk-item\"><div class=\"sk-estimator fitted sk-toggleable\"><input class=\"sk-toggleable__control sk-hidden--visually\" id=\"sk-estimator-id-1\" type=\"checkbox\" checked><label for=\"sk-estimator-id-1\" class=\"sk-toggleable__label fitted sk-toggleable__label-arrow\"><div><div>LogisticRegression</div></div><div><a class=\"sk-estimator-doc-link fitted\" rel=\"noreferrer\" target=\"_blank\" href=\"https://scikit-learn.org/1.6/modules/generated/sklearn.linear_model.LogisticRegression.html\">?<span>Documentation for LogisticRegression</span></a><span class=\"sk-estimator-doc-link fitted\">i<span>Fitted</span></span></div></label><div class=\"sk-toggleable__content fitted\"><pre>LogisticRegression(max_iter=1000)</pre></div> </div></div></div></div>"
      ],
      "text/plain": [
       "LogisticRegression(max_iter=1000)"
      ]
     },
     "execution_count": 9,
     "metadata": {},
     "output_type": "execute_result"
    }
   ],
   "source": [
    "modelo = LogisticRegression(max_iter=1_000, solver=\"lbfgs\")\n",
    "modelo.fit(X_treino, y_treino)"
   ]
  },
  {
   "cell_type": "markdown",
   "id": "2666cfe5",
   "metadata": {
    "id": "2666cfe5"
   },
   "source": [
    "10 - Faça as previsões no banco de teste"
   ]
  },
  {
   "cell_type": "code",
   "execution_count": 10,
   "id": "dc70a7cf",
   "metadata": {
    "colab": {
     "base_uri": "https://localhost:8080/"
    },
    "executionInfo": {
     "elapsed": 66,
     "status": "ok",
     "timestamp": 1759153714113,
     "user": {
      "displayName": "Pedro Schmalz",
      "userId": "07700592580926452057"
     },
     "user_tz": 180
    },
    "id": "dc70a7cf",
    "outputId": "76d23aca-46ac-4ccd-91a4-5e9b0cfaa7c0"
   },
   "outputs": [
    {
     "data": {
      "text/plain": [
       "array([0, 0, 0, 0, 0, 0, 0, 0, 0, 0, 0, 0, 0, 0, 0, 0, 0, 0, 0, 0, 0, 0,\n",
       "       0, 0, 0, 0, 0, 0, 0, 0, 0, 0, 0, 0, 0, 0, 0, 0, 0, 0, 0, 0, 0, 0,\n",
       "       0, 0, 0, 0, 0, 0, 0, 0, 0, 0, 0, 0, 0, 0, 0, 0, 0, 0, 0, 0, 0, 1,\n",
       "       0, 0, 0, 0, 0, 0, 0, 0, 0, 0, 0, 0, 0, 0, 0, 0, 0, 0, 0, 0, 0, 0,\n",
       "       0, 0, 0, 0, 0, 0, 0, 0, 0, 0, 0, 0, 0, 0, 0, 0, 0, 0, 0, 0, 0, 0,\n",
       "       1, 0, 0, 0, 0, 0, 0, 0, 0, 0, 0, 0, 0, 0, 0, 0, 0, 0, 0, 0, 0, 1,\n",
       "       0, 0, 0, 0, 0, 0, 0, 0, 0, 0, 0, 0, 0, 0, 0, 0, 0, 0, 0, 0, 0, 0,\n",
       "       0, 0, 0, 0, 0, 0, 0, 0, 0, 0, 0, 0, 0, 0, 0, 0, 0, 0, 0, 0, 0, 0,\n",
       "       0, 0, 0, 0, 0, 0, 0, 0, 0, 0, 0, 0, 0, 0, 0, 0, 0, 0, 0, 0, 0, 0,\n",
       "       0, 0, 0, 0, 0, 0, 0, 1, 0, 0, 0, 0, 0, 0, 0, 0, 0, 0, 0, 0, 0, 0,\n",
       "       0, 0, 0, 0, 0, 0, 0, 0, 0, 0, 0, 0, 0, 0, 0, 1, 0, 0, 0, 0, 0, 0,\n",
       "       0, 0, 0, 0, 0, 0, 0, 0, 0, 0, 0, 0, 0, 0, 0, 0, 0, 0, 0, 0, 0, 0,\n",
       "       0, 0, 0, 0, 0, 0, 1, 0, 0, 0, 0, 0, 0, 0, 0, 0, 0, 0, 0, 0, 0, 1,\n",
       "       0, 0, 0, 0, 0, 0, 0, 0, 0, 0, 0, 0, 0, 0, 0, 0, 0, 0, 0, 0, 0, 0,\n",
       "       0, 0, 0, 0, 0, 0, 0, 0, 0, 0, 0, 0, 0, 0, 0, 0, 0, 0, 0, 0, 0, 0,\n",
       "       0, 0, 0, 0, 0, 0, 0, 0, 0, 0, 0, 0, 0, 0, 0, 0, 0, 0, 0, 0, 0, 0,\n",
       "       0, 0, 0, 0, 0, 0, 0, 0, 0, 0, 0, 0, 0, 0, 0, 0, 0, 0, 0, 0, 0, 0,\n",
       "       0, 0, 0, 0, 1, 0, 0, 0, 0, 0, 0, 0, 0, 0, 0, 0, 0, 0, 0, 0, 0, 0,\n",
       "       0, 0, 0, 0, 0, 0, 0, 0, 0, 0, 0, 0, 0, 0, 0, 0, 0, 0, 0, 0, 0, 0,\n",
       "       0, 0, 0, 0, 0, 0, 0, 0, 0, 0, 0, 0, 0, 0, 0, 0, 0, 0, 0, 0, 0, 0,\n",
       "       0, 0, 0, 0, 0, 0, 0, 0, 0, 0, 0, 0, 0, 0, 0, 0, 0, 0, 0, 0, 0, 0,\n",
       "       0, 0, 0, 0, 0, 0, 0, 0, 0, 0, 0, 0, 0, 0, 0, 0, 0, 0, 0, 0, 0, 0,\n",
       "       0, 0, 0, 0, 0, 0, 0, 0, 0, 0, 0, 0, 0, 0, 0, 0, 0, 0, 0, 0, 0, 0,\n",
       "       0, 0, 0, 0, 0, 0, 0, 0, 0, 0, 0, 0, 0, 0, 0, 0, 0, 0, 0, 0, 0, 0,\n",
       "       0, 0, 0, 0, 0, 0, 0, 0, 0, 0, 0, 1, 0, 0, 0, 0, 0, 0, 0, 0, 0, 0,\n",
       "       0, 0, 0, 0, 0, 0, 0, 0, 0, 0, 0, 0, 0, 0, 0, 0, 0, 0, 0, 0, 0, 0,\n",
       "       0, 0, 0, 0, 0, 0, 0, 0, 0, 0, 0, 0, 0, 0, 0, 0, 0, 0, 0, 0, 0, 0,\n",
       "       0, 0, 0])"
      ]
     },
     "execution_count": 10,
     "metadata": {},
     "output_type": "execute_result"
    }
   ],
   "source": [
    "y_pred = modelo.predict(X_teste)\n",
    "\n",
    "y_pred"
   ]
  },
  {
   "cell_type": "markdown",
   "id": "90647672",
   "metadata": {
    "id": "90647672"
   },
   "source": [
    "a) Qual a acurácia do modelo? O desbalanceamento pode afetar essa métrica?"
   ]
  },
  {
   "cell_type": "code",
   "execution_count": 11,
   "id": "be11a145",
   "metadata": {
    "colab": {
     "base_uri": "https://localhost:8080/"
    },
    "executionInfo": {
     "elapsed": 45,
     "status": "ok",
     "timestamp": 1759153714163,
     "user": {
      "displayName": "Pedro Schmalz",
      "userId": "07700592580926452057"
     },
     "user_tz": 180
    },
    "id": "be11a145",
    "outputId": "a545e97f-6f82-48ee-dba1-a1bf821a74a9"
   },
   "outputs": [
    {
     "name": "stdout",
     "output_type": "stream",
     "text": [
      "Acurácia: 0.964824120603015\n"
     ]
    }
   ],
   "source": [
    "accuracy = accuracy_score(y_teste, # Valores Reais\n",
    "                          y_pred) # Valores preditos pelo modelo LDA\n",
    "\n",
    "print(f\"Acurácia: {accuracy}\")"
   ]
  },
  {
   "cell_type": "markdown",
   "id": "GfggvrW4qA-G",
   "metadata": {
    "id": "GfggvrW4qA-G"
   },
   "source": [
    "RESPOSTA: vimos que apenas 4% das observações são desfavoráveis. Um modelo probabilístico que só chutasse a classe mais provável atingiria uma accuracy de 96%. Portanto, não podemos confiar nessa métrica dado o desbalanceamento das classes."
   ]
  },
  {
   "cell_type": "markdown",
   "id": "eee87388",
   "metadata": {
    "id": "eee87388"
   },
   "source": [
    "b) Faça o Confusion matrix. O que os resultados indicam?"
   ]
  },
  {
   "cell_type": "code",
   "execution_count": 12,
   "id": "20146663",
   "metadata": {
    "colab": {
     "base_uri": "https://localhost:8080/"
    },
    "executionInfo": {
     "elapsed": 61,
     "status": "ok",
     "timestamp": 1759153714225,
     "user": {
      "displayName": "Pedro Schmalz",
      "userId": "07700592580926452057"
     },
     "user_tz": 180
    },
    "id": "20146663",
    "outputId": "86a0d667-6a96-4430-ff72-57ea2e8734b4"
   },
   "outputs": [
    {
     "data": {
      "text/plain": [
       "array([[568,   1],\n",
       "       [ 20,   8]])"
      ]
     },
     "execution_count": 12,
     "metadata": {},
     "output_type": "execute_result"
    }
   ],
   "source": [
    "mat_conf = confusion_matrix(y_teste, y_pred)\n",
    "\n",
    "mat_conf"
   ]
  },
  {
   "cell_type": "markdown",
   "id": "wseZfxUNp2YD",
   "metadata": {
    "id": "wseZfxUNp2YD"
   },
   "source": [
    "RESPOSTA: O modelo consegue prever bem a classe majoritária (Não Desfavorável). No entanto, das 28 desfavoráveis, 20 foram classificadas erroneamente. Por isso, espera-se que o recall dessa classe seja bem ruim."
   ]
  },
  {
   "cell_type": "markdown",
   "id": "b6156619",
   "metadata": {
    "id": "b6156619"
   },
   "source": [
    "c) Faça o Classification Report. Discuta os resultados por classe"
   ]
  },
  {
   "cell_type": "code",
   "execution_count": 13,
   "id": "4207ccf4",
   "metadata": {
    "colab": {
     "base_uri": "https://localhost:8080/"
    },
    "executionInfo": {
     "elapsed": 144,
     "status": "ok",
     "timestamp": 1759153714372,
     "user": {
      "displayName": "Pedro Schmalz",
      "userId": "07700592580926452057"
     },
     "user_tz": 180
    },
    "id": "4207ccf4",
    "outputId": "c8410bae-a3f0-4a48-f220-c0aecdbabb4a"
   },
   "outputs": [
    {
     "name": "stdout",
     "output_type": "stream",
     "text": [
      "Relatório de Classificação:\n",
      "              precision    recall  f1-score   support\n",
      "\n",
      "           0       0.97      1.00      0.98       569\n",
      "           1       0.89      0.29      0.43        28\n",
      "\n",
      "    accuracy                           0.96       597\n",
      "   macro avg       0.93      0.64      0.71       597\n",
      "weighted avg       0.96      0.96      0.96       597\n",
      "\n"
     ]
    }
   ],
   "source": [
    "rel_class = classification_report(y_teste, y_pred)\n",
    "\n",
    "print(f\"Relatório de Classificação:\\n{rel_class}\")"
   ]
  },
  {
   "cell_type": "markdown",
   "id": "re9bSQmuqNJu",
   "metadata": {
    "id": "re9bSQmuqNJu"
   },
   "source": [
    "RESPOSTA: Como esperado, os resultados para a classe 1 (desfavorável) são bem ruins, com um recall bem baixo, indicando o problema de muitos falsos negativos. Isto é, temos 20 observações que deveriam ter sido classificadas como desfavoráveis e foram classificadas como \"Não Desfavoráveis\"."
   ]
  },
  {
   "cell_type": "markdown",
   "id": "5f05ce74",
   "metadata": {
    "id": "5f05ce74"
   },
   "source": [
    "11 - Repita todo o processo de treinamento utilizando um N-gram = 2. Discuta se há alguma mudança nos resultados"
   ]
  },
  {
   "cell_type": "markdown",
   "id": "bfc4f9ac",
   "metadata": {
    "id": "bfc4f9ac"
   },
   "source": [
    "Nota: O n-gram em modelos de texto mais básicos é considerado um hiperparâmetro. Alterá-lo dando mais contexto para o modelo pode ser útil, dependendo da tarefa"
   ]
  },
  {
   "cell_type": "code",
   "execution_count": 14,
   "id": "7WdDKDmXqkc4",
   "metadata": {
    "colab": {
     "base_uri": "https://localhost:8080/",
     "height": 80
    },
    "executionInfo": {
     "elapsed": 4140,
     "status": "ok",
     "timestamp": 1759153718552,
     "user": {
      "displayName": "Pedro Schmalz",
      "userId": "07700592580926452057"
     },
     "user_tz": 180
    },
    "id": "7WdDKDmXqkc4",
    "outputId": "feed3aa1-f022-4eee-a855-ccb2f7e9fea3"
   },
   "outputs": [
    {
     "data": {
      "text/html": [
       "<style>#sk-container-id-2 {\n",
       "  /* Definition of color scheme common for light and dark mode */\n",
       "  --sklearn-color-text: #000;\n",
       "  --sklearn-color-text-muted: #666;\n",
       "  --sklearn-color-line: gray;\n",
       "  /* Definition of color scheme for unfitted estimators */\n",
       "  --sklearn-color-unfitted-level-0: #fff5e6;\n",
       "  --sklearn-color-unfitted-level-1: #f6e4d2;\n",
       "  --sklearn-color-unfitted-level-2: #ffe0b3;\n",
       "  --sklearn-color-unfitted-level-3: chocolate;\n",
       "  /* Definition of color scheme for fitted estimators */\n",
       "  --sklearn-color-fitted-level-0: #f0f8ff;\n",
       "  --sklearn-color-fitted-level-1: #d4ebff;\n",
       "  --sklearn-color-fitted-level-2: #b3dbfd;\n",
       "  --sklearn-color-fitted-level-3: cornflowerblue;\n",
       "\n",
       "  /* Specific color for light theme */\n",
       "  --sklearn-color-text-on-default-background: var(--sg-text-color, var(--theme-code-foreground, var(--jp-content-font-color1, black)));\n",
       "  --sklearn-color-background: var(--sg-background-color, var(--theme-background, var(--jp-layout-color0, white)));\n",
       "  --sklearn-color-border-box: var(--sg-text-color, var(--theme-code-foreground, var(--jp-content-font-color1, black)));\n",
       "  --sklearn-color-icon: #696969;\n",
       "\n",
       "  @media (prefers-color-scheme: dark) {\n",
       "    /* Redefinition of color scheme for dark theme */\n",
       "    --sklearn-color-text-on-default-background: var(--sg-text-color, var(--theme-code-foreground, var(--jp-content-font-color1, white)));\n",
       "    --sklearn-color-background: var(--sg-background-color, var(--theme-background, var(--jp-layout-color0, #111)));\n",
       "    --sklearn-color-border-box: var(--sg-text-color, var(--theme-code-foreground, var(--jp-content-font-color1, white)));\n",
       "    --sklearn-color-icon: #878787;\n",
       "  }\n",
       "}\n",
       "\n",
       "#sk-container-id-2 {\n",
       "  color: var(--sklearn-color-text);\n",
       "}\n",
       "\n",
       "#sk-container-id-2 pre {\n",
       "  padding: 0;\n",
       "}\n",
       "\n",
       "#sk-container-id-2 input.sk-hidden--visually {\n",
       "  border: 0;\n",
       "  clip: rect(1px 1px 1px 1px);\n",
       "  clip: rect(1px, 1px, 1px, 1px);\n",
       "  height: 1px;\n",
       "  margin: -1px;\n",
       "  overflow: hidden;\n",
       "  padding: 0;\n",
       "  position: absolute;\n",
       "  width: 1px;\n",
       "}\n",
       "\n",
       "#sk-container-id-2 div.sk-dashed-wrapped {\n",
       "  border: 1px dashed var(--sklearn-color-line);\n",
       "  margin: 0 0.4em 0.5em 0.4em;\n",
       "  box-sizing: border-box;\n",
       "  padding-bottom: 0.4em;\n",
       "  background-color: var(--sklearn-color-background);\n",
       "}\n",
       "\n",
       "#sk-container-id-2 div.sk-container {\n",
       "  /* jupyter's `normalize.less` sets `[hidden] { display: none; }`\n",
       "     but bootstrap.min.css set `[hidden] { display: none !important; }`\n",
       "     so we also need the `!important` here to be able to override the\n",
       "     default hidden behavior on the sphinx rendered scikit-learn.org.\n",
       "     See: https://github.com/scikit-learn/scikit-learn/issues/21755 */\n",
       "  display: inline-block !important;\n",
       "  position: relative;\n",
       "}\n",
       "\n",
       "#sk-container-id-2 div.sk-text-repr-fallback {\n",
       "  display: none;\n",
       "}\n",
       "\n",
       "div.sk-parallel-item,\n",
       "div.sk-serial,\n",
       "div.sk-item {\n",
       "  /* draw centered vertical line to link estimators */\n",
       "  background-image: linear-gradient(var(--sklearn-color-text-on-default-background), var(--sklearn-color-text-on-default-background));\n",
       "  background-size: 2px 100%;\n",
       "  background-repeat: no-repeat;\n",
       "  background-position: center center;\n",
       "}\n",
       "\n",
       "/* Parallel-specific style estimator block */\n",
       "\n",
       "#sk-container-id-2 div.sk-parallel-item::after {\n",
       "  content: \"\";\n",
       "  width: 100%;\n",
       "  border-bottom: 2px solid var(--sklearn-color-text-on-default-background);\n",
       "  flex-grow: 1;\n",
       "}\n",
       "\n",
       "#sk-container-id-2 div.sk-parallel {\n",
       "  display: flex;\n",
       "  align-items: stretch;\n",
       "  justify-content: center;\n",
       "  background-color: var(--sklearn-color-background);\n",
       "  position: relative;\n",
       "}\n",
       "\n",
       "#sk-container-id-2 div.sk-parallel-item {\n",
       "  display: flex;\n",
       "  flex-direction: column;\n",
       "}\n",
       "\n",
       "#sk-container-id-2 div.sk-parallel-item:first-child::after {\n",
       "  align-self: flex-end;\n",
       "  width: 50%;\n",
       "}\n",
       "\n",
       "#sk-container-id-2 div.sk-parallel-item:last-child::after {\n",
       "  align-self: flex-start;\n",
       "  width: 50%;\n",
       "}\n",
       "\n",
       "#sk-container-id-2 div.sk-parallel-item:only-child::after {\n",
       "  width: 0;\n",
       "}\n",
       "\n",
       "/* Serial-specific style estimator block */\n",
       "\n",
       "#sk-container-id-2 div.sk-serial {\n",
       "  display: flex;\n",
       "  flex-direction: column;\n",
       "  align-items: center;\n",
       "  background-color: var(--sklearn-color-background);\n",
       "  padding-right: 1em;\n",
       "  padding-left: 1em;\n",
       "}\n",
       "\n",
       "\n",
       "/* Toggleable style: style used for estimator/Pipeline/ColumnTransformer box that is\n",
       "clickable and can be expanded/collapsed.\n",
       "- Pipeline and ColumnTransformer use this feature and define the default style\n",
       "- Estimators will overwrite some part of the style using the `sk-estimator` class\n",
       "*/\n",
       "\n",
       "/* Pipeline and ColumnTransformer style (default) */\n",
       "\n",
       "#sk-container-id-2 div.sk-toggleable {\n",
       "  /* Default theme specific background. It is overwritten whether we have a\n",
       "  specific estimator or a Pipeline/ColumnTransformer */\n",
       "  background-color: var(--sklearn-color-background);\n",
       "}\n",
       "\n",
       "/* Toggleable label */\n",
       "#sk-container-id-2 label.sk-toggleable__label {\n",
       "  cursor: pointer;\n",
       "  display: flex;\n",
       "  width: 100%;\n",
       "  margin-bottom: 0;\n",
       "  padding: 0.5em;\n",
       "  box-sizing: border-box;\n",
       "  text-align: center;\n",
       "  align-items: start;\n",
       "  justify-content: space-between;\n",
       "  gap: 0.5em;\n",
       "}\n",
       "\n",
       "#sk-container-id-2 label.sk-toggleable__label .caption {\n",
       "  font-size: 0.6rem;\n",
       "  font-weight: lighter;\n",
       "  color: var(--sklearn-color-text-muted);\n",
       "}\n",
       "\n",
       "#sk-container-id-2 label.sk-toggleable__label-arrow:before {\n",
       "  /* Arrow on the left of the label */\n",
       "  content: \"▸\";\n",
       "  float: left;\n",
       "  margin-right: 0.25em;\n",
       "  color: var(--sklearn-color-icon);\n",
       "}\n",
       "\n",
       "#sk-container-id-2 label.sk-toggleable__label-arrow:hover:before {\n",
       "  color: var(--sklearn-color-text);\n",
       "}\n",
       "\n",
       "/* Toggleable content - dropdown */\n",
       "\n",
       "#sk-container-id-2 div.sk-toggleable__content {\n",
       "  max-height: 0;\n",
       "  max-width: 0;\n",
       "  overflow: hidden;\n",
       "  text-align: left;\n",
       "  /* unfitted */\n",
       "  background-color: var(--sklearn-color-unfitted-level-0);\n",
       "}\n",
       "\n",
       "#sk-container-id-2 div.sk-toggleable__content.fitted {\n",
       "  /* fitted */\n",
       "  background-color: var(--sklearn-color-fitted-level-0);\n",
       "}\n",
       "\n",
       "#sk-container-id-2 div.sk-toggleable__content pre {\n",
       "  margin: 0.2em;\n",
       "  border-radius: 0.25em;\n",
       "  color: var(--sklearn-color-text);\n",
       "  /* unfitted */\n",
       "  background-color: var(--sklearn-color-unfitted-level-0);\n",
       "}\n",
       "\n",
       "#sk-container-id-2 div.sk-toggleable__content.fitted pre {\n",
       "  /* unfitted */\n",
       "  background-color: var(--sklearn-color-fitted-level-0);\n",
       "}\n",
       "\n",
       "#sk-container-id-2 input.sk-toggleable__control:checked~div.sk-toggleable__content {\n",
       "  /* Expand drop-down */\n",
       "  max-height: 200px;\n",
       "  max-width: 100%;\n",
       "  overflow: auto;\n",
       "}\n",
       "\n",
       "#sk-container-id-2 input.sk-toggleable__control:checked~label.sk-toggleable__label-arrow:before {\n",
       "  content: \"▾\";\n",
       "}\n",
       "\n",
       "/* Pipeline/ColumnTransformer-specific style */\n",
       "\n",
       "#sk-container-id-2 div.sk-label input.sk-toggleable__control:checked~label.sk-toggleable__label {\n",
       "  color: var(--sklearn-color-text);\n",
       "  background-color: var(--sklearn-color-unfitted-level-2);\n",
       "}\n",
       "\n",
       "#sk-container-id-2 div.sk-label.fitted input.sk-toggleable__control:checked~label.sk-toggleable__label {\n",
       "  background-color: var(--sklearn-color-fitted-level-2);\n",
       "}\n",
       "\n",
       "/* Estimator-specific style */\n",
       "\n",
       "/* Colorize estimator box */\n",
       "#sk-container-id-2 div.sk-estimator input.sk-toggleable__control:checked~label.sk-toggleable__label {\n",
       "  /* unfitted */\n",
       "  background-color: var(--sklearn-color-unfitted-level-2);\n",
       "}\n",
       "\n",
       "#sk-container-id-2 div.sk-estimator.fitted input.sk-toggleable__control:checked~label.sk-toggleable__label {\n",
       "  /* fitted */\n",
       "  background-color: var(--sklearn-color-fitted-level-2);\n",
       "}\n",
       "\n",
       "#sk-container-id-2 div.sk-label label.sk-toggleable__label,\n",
       "#sk-container-id-2 div.sk-label label {\n",
       "  /* The background is the default theme color */\n",
       "  color: var(--sklearn-color-text-on-default-background);\n",
       "}\n",
       "\n",
       "/* On hover, darken the color of the background */\n",
       "#sk-container-id-2 div.sk-label:hover label.sk-toggleable__label {\n",
       "  color: var(--sklearn-color-text);\n",
       "  background-color: var(--sklearn-color-unfitted-level-2);\n",
       "}\n",
       "\n",
       "/* Label box, darken color on hover, fitted */\n",
       "#sk-container-id-2 div.sk-label.fitted:hover label.sk-toggleable__label.fitted {\n",
       "  color: var(--sklearn-color-text);\n",
       "  background-color: var(--sklearn-color-fitted-level-2);\n",
       "}\n",
       "\n",
       "/* Estimator label */\n",
       "\n",
       "#sk-container-id-2 div.sk-label label {\n",
       "  font-family: monospace;\n",
       "  font-weight: bold;\n",
       "  display: inline-block;\n",
       "  line-height: 1.2em;\n",
       "}\n",
       "\n",
       "#sk-container-id-2 div.sk-label-container {\n",
       "  text-align: center;\n",
       "}\n",
       "\n",
       "/* Estimator-specific */\n",
       "#sk-container-id-2 div.sk-estimator {\n",
       "  font-family: monospace;\n",
       "  border: 1px dotted var(--sklearn-color-border-box);\n",
       "  border-radius: 0.25em;\n",
       "  box-sizing: border-box;\n",
       "  margin-bottom: 0.5em;\n",
       "  /* unfitted */\n",
       "  background-color: var(--sklearn-color-unfitted-level-0);\n",
       "}\n",
       "\n",
       "#sk-container-id-2 div.sk-estimator.fitted {\n",
       "  /* fitted */\n",
       "  background-color: var(--sklearn-color-fitted-level-0);\n",
       "}\n",
       "\n",
       "/* on hover */\n",
       "#sk-container-id-2 div.sk-estimator:hover {\n",
       "  /* unfitted */\n",
       "  background-color: var(--sklearn-color-unfitted-level-2);\n",
       "}\n",
       "\n",
       "#sk-container-id-2 div.sk-estimator.fitted:hover {\n",
       "  /* fitted */\n",
       "  background-color: var(--sklearn-color-fitted-level-2);\n",
       "}\n",
       "\n",
       "/* Specification for estimator info (e.g. \"i\" and \"?\") */\n",
       "\n",
       "/* Common style for \"i\" and \"?\" */\n",
       "\n",
       ".sk-estimator-doc-link,\n",
       "a:link.sk-estimator-doc-link,\n",
       "a:visited.sk-estimator-doc-link {\n",
       "  float: right;\n",
       "  font-size: smaller;\n",
       "  line-height: 1em;\n",
       "  font-family: monospace;\n",
       "  background-color: var(--sklearn-color-background);\n",
       "  border-radius: 1em;\n",
       "  height: 1em;\n",
       "  width: 1em;\n",
       "  text-decoration: none !important;\n",
       "  margin-left: 0.5em;\n",
       "  text-align: center;\n",
       "  /* unfitted */\n",
       "  border: var(--sklearn-color-unfitted-level-1) 1pt solid;\n",
       "  color: var(--sklearn-color-unfitted-level-1);\n",
       "}\n",
       "\n",
       ".sk-estimator-doc-link.fitted,\n",
       "a:link.sk-estimator-doc-link.fitted,\n",
       "a:visited.sk-estimator-doc-link.fitted {\n",
       "  /* fitted */\n",
       "  border: var(--sklearn-color-fitted-level-1) 1pt solid;\n",
       "  color: var(--sklearn-color-fitted-level-1);\n",
       "}\n",
       "\n",
       "/* On hover */\n",
       "div.sk-estimator:hover .sk-estimator-doc-link:hover,\n",
       ".sk-estimator-doc-link:hover,\n",
       "div.sk-label-container:hover .sk-estimator-doc-link:hover,\n",
       ".sk-estimator-doc-link:hover {\n",
       "  /* unfitted */\n",
       "  background-color: var(--sklearn-color-unfitted-level-3);\n",
       "  color: var(--sklearn-color-background);\n",
       "  text-decoration: none;\n",
       "}\n",
       "\n",
       "div.sk-estimator.fitted:hover .sk-estimator-doc-link.fitted:hover,\n",
       ".sk-estimator-doc-link.fitted:hover,\n",
       "div.sk-label-container:hover .sk-estimator-doc-link.fitted:hover,\n",
       ".sk-estimator-doc-link.fitted:hover {\n",
       "  /* fitted */\n",
       "  background-color: var(--sklearn-color-fitted-level-3);\n",
       "  color: var(--sklearn-color-background);\n",
       "  text-decoration: none;\n",
       "}\n",
       "\n",
       "/* Span, style for the box shown on hovering the info icon */\n",
       ".sk-estimator-doc-link span {\n",
       "  display: none;\n",
       "  z-index: 9999;\n",
       "  position: relative;\n",
       "  font-weight: normal;\n",
       "  right: .2ex;\n",
       "  padding: .5ex;\n",
       "  margin: .5ex;\n",
       "  width: min-content;\n",
       "  min-width: 20ex;\n",
       "  max-width: 50ex;\n",
       "  color: var(--sklearn-color-text);\n",
       "  box-shadow: 2pt 2pt 4pt #999;\n",
       "  /* unfitted */\n",
       "  background: var(--sklearn-color-unfitted-level-0);\n",
       "  border: .5pt solid var(--sklearn-color-unfitted-level-3);\n",
       "}\n",
       "\n",
       ".sk-estimator-doc-link.fitted span {\n",
       "  /* fitted */\n",
       "  background: var(--sklearn-color-fitted-level-0);\n",
       "  border: var(--sklearn-color-fitted-level-3);\n",
       "}\n",
       "\n",
       ".sk-estimator-doc-link:hover span {\n",
       "  display: block;\n",
       "}\n",
       "\n",
       "/* \"?\"-specific style due to the `<a>` HTML tag */\n",
       "\n",
       "#sk-container-id-2 a.estimator_doc_link {\n",
       "  float: right;\n",
       "  font-size: 1rem;\n",
       "  line-height: 1em;\n",
       "  font-family: monospace;\n",
       "  background-color: var(--sklearn-color-background);\n",
       "  border-radius: 1rem;\n",
       "  height: 1rem;\n",
       "  width: 1rem;\n",
       "  text-decoration: none;\n",
       "  /* unfitted */\n",
       "  color: var(--sklearn-color-unfitted-level-1);\n",
       "  border: var(--sklearn-color-unfitted-level-1) 1pt solid;\n",
       "}\n",
       "\n",
       "#sk-container-id-2 a.estimator_doc_link.fitted {\n",
       "  /* fitted */\n",
       "  border: var(--sklearn-color-fitted-level-1) 1pt solid;\n",
       "  color: var(--sklearn-color-fitted-level-1);\n",
       "}\n",
       "\n",
       "/* On hover */\n",
       "#sk-container-id-2 a.estimator_doc_link:hover {\n",
       "  /* unfitted */\n",
       "  background-color: var(--sklearn-color-unfitted-level-3);\n",
       "  color: var(--sklearn-color-background);\n",
       "  text-decoration: none;\n",
       "}\n",
       "\n",
       "#sk-container-id-2 a.estimator_doc_link.fitted:hover {\n",
       "  /* fitted */\n",
       "  background-color: var(--sklearn-color-fitted-level-3);\n",
       "}\n",
       "</style><div id=\"sk-container-id-2\" class=\"sk-top-container\"><div class=\"sk-text-repr-fallback\"><pre>LogisticRegression(max_iter=1000)</pre><b>In a Jupyter environment, please rerun this cell to show the HTML representation or trust the notebook. <br />On GitHub, the HTML representation is unable to render, please try loading this page with nbviewer.org.</b></div><div class=\"sk-container\" hidden><div class=\"sk-item\"><div class=\"sk-estimator fitted sk-toggleable\"><input class=\"sk-toggleable__control sk-hidden--visually\" id=\"sk-estimator-id-2\" type=\"checkbox\" checked><label for=\"sk-estimator-id-2\" class=\"sk-toggleable__label fitted sk-toggleable__label-arrow\"><div><div>LogisticRegression</div></div><div><a class=\"sk-estimator-doc-link fitted\" rel=\"noreferrer\" target=\"_blank\" href=\"https://scikit-learn.org/1.6/modules/generated/sklearn.linear_model.LogisticRegression.html\">?<span>Documentation for LogisticRegression</span></a><span class=\"sk-estimator-doc-link fitted\">i<span>Fitted</span></span></div></label><div class=\"sk-toggleable__content fitted\"><pre>LogisticRegression(max_iter=1000)</pre></div> </div></div></div></div>"
      ],
      "text/plain": [
       "LogisticRegression(max_iter=1000)"
      ]
     },
     "execution_count": 14,
     "metadata": {},
     "output_type": "execute_result"
    }
   ],
   "source": [
    "X_treino, X_teste, y_treino, y_teste = train_test_split(X, # Vetor de variáveis explicativas\n",
    "                                                        y, # Target (Ou Var. Dep.)\n",
    "                                                        test_size=0.1, # Porcentagem que vai ficar para teste (20%)\n",
    "                                                        random_state=42) # Seed para garantir a estabilidade dos resultados\n",
    "\n",
    "# Criando o vetorizador, utilizando nossa lista de stop_words\n",
    "vectorizer = CountVectorizer(stop_words=stop_words,\n",
    "                             ngram_range=(2,2)) # Bigramas\n",
    "\n",
    "# Transformando a coluna de texto em BOW\n",
    "X_treino = vectorizer.fit_transform(X_treino)\n",
    "\n",
    "\n",
    "modelo = LogisticRegression(max_iter=1_000, solver=\"lbfgs\")\n",
    "modelo.fit(X_treino, y_treino)\n"
   ]
  },
  {
   "cell_type": "code",
   "execution_count": 15,
   "id": "goJOHVsMrG1e",
   "metadata": {
    "colab": {
     "base_uri": "https://localhost:8080/"
    },
    "executionInfo": {
     "elapsed": 98,
     "status": "ok",
     "timestamp": 1759153718651,
     "user": {
      "displayName": "Pedro Schmalz",
      "userId": "07700592580926452057"
     },
     "user_tz": 180
    },
    "id": "goJOHVsMrG1e",
    "outputId": "b062dfa1-4ee7-4412-eba9-266daeecda42"
   },
   "outputs": [
    {
     "name": "stdout",
     "output_type": "stream",
     "text": [
      "Acurácia: 0.9564489112227805\n"
     ]
    }
   ],
   "source": [
    "X_teste = vectorizer.transform(X_teste)\n",
    "\n",
    "y_pred = modelo.predict(X_teste)\n",
    "\n",
    "\n",
    "accuracy = accuracy_score(y_teste, # Valores Reais\n",
    "                          y_pred) # Valores preditos pelo modelo LDA\n",
    "\n",
    "print(f\"Acurácia: {accuracy}\")\n"
   ]
  },
  {
   "cell_type": "code",
   "execution_count": 16,
   "id": "6tif4KemrLdm",
   "metadata": {
    "colab": {
     "base_uri": "https://localhost:8080/"
    },
    "executionInfo": {
     "elapsed": 21,
     "status": "ok",
     "timestamp": 1759153718673,
     "user": {
      "displayName": "Pedro Schmalz",
      "userId": "07700592580926452057"
     },
     "user_tz": 180
    },
    "id": "6tif4KemrLdm",
    "outputId": "58962a4e-4033-46f9-bfb9-069326a26bad"
   },
   "outputs": [
    {
     "data": {
      "text/plain": [
       "array([[569,   0],\n",
       "       [ 26,   2]])"
      ]
     },
     "execution_count": 16,
     "metadata": {},
     "output_type": "execute_result"
    }
   ],
   "source": [
    "mat_conf = confusion_matrix(y_teste, y_pred)\n",
    "\n",
    "mat_conf"
   ]
  },
  {
   "cell_type": "markdown",
   "id": "VcRSnhcKrSvM",
   "metadata": {
    "id": "VcRSnhcKrSvM"
   },
   "source": [
    "Modelo piora."
   ]
  },
  {
   "cell_type": "code",
   "execution_count": 17,
   "id": "l-BSuDIerTxU",
   "metadata": {
    "colab": {
     "base_uri": "https://localhost:8080/"
    },
    "executionInfo": {
     "elapsed": 19,
     "status": "ok",
     "timestamp": 1759153718702,
     "user": {
      "displayName": "Pedro Schmalz",
      "userId": "07700592580926452057"
     },
     "user_tz": 180
    },
    "id": "l-BSuDIerTxU",
    "outputId": "d44c84dc-d4ba-4871-f48a-71666cf10fee"
   },
   "outputs": [
    {
     "name": "stdout",
     "output_type": "stream",
     "text": [
      "Relatório de Classificação:\n",
      "              precision    recall  f1-score   support\n",
      "\n",
      "           0       0.96      1.00      0.98       569\n",
      "           1       1.00      0.07      0.13        28\n",
      "\n",
      "    accuracy                           0.96       597\n",
      "   macro avg       0.98      0.54      0.56       597\n",
      "weighted avg       0.96      0.96      0.94       597\n",
      "\n"
     ]
    }
   ],
   "source": [
    "rel_class = classification_report(y_teste, y_pred)\n",
    "\n",
    "print(f\"Relatório de Classificação:\\n{rel_class}\")"
   ]
  },
  {
   "cell_type": "markdown",
   "id": "NUbbcU2urV8W",
   "metadata": {
    "id": "NUbbcU2urV8W"
   },
   "source": [
    "Vimos que utilizar somente bigramas piorou o modelo. Vamos tentar misturar unigramas e bigramas."
   ]
  },
  {
   "cell_type": "code",
   "execution_count": 18,
   "id": "vgB3YukirbQl",
   "metadata": {
    "colab": {
     "base_uri": "https://localhost:8080/",
     "height": 80
    },
    "executionInfo": {
     "elapsed": 3354,
     "status": "ok",
     "timestamp": 1759153722091,
     "user": {
      "displayName": "Pedro Schmalz",
      "userId": "07700592580926452057"
     },
     "user_tz": 180
    },
    "id": "vgB3YukirbQl",
    "outputId": "42c91dc9-8b5b-4b18-b29f-1f2eaa94a277"
   },
   "outputs": [
    {
     "data": {
      "text/html": [
       "<style>#sk-container-id-3 {\n",
       "  /* Definition of color scheme common for light and dark mode */\n",
       "  --sklearn-color-text: #000;\n",
       "  --sklearn-color-text-muted: #666;\n",
       "  --sklearn-color-line: gray;\n",
       "  /* Definition of color scheme for unfitted estimators */\n",
       "  --sklearn-color-unfitted-level-0: #fff5e6;\n",
       "  --sklearn-color-unfitted-level-1: #f6e4d2;\n",
       "  --sklearn-color-unfitted-level-2: #ffe0b3;\n",
       "  --sklearn-color-unfitted-level-3: chocolate;\n",
       "  /* Definition of color scheme for fitted estimators */\n",
       "  --sklearn-color-fitted-level-0: #f0f8ff;\n",
       "  --sklearn-color-fitted-level-1: #d4ebff;\n",
       "  --sklearn-color-fitted-level-2: #b3dbfd;\n",
       "  --sklearn-color-fitted-level-3: cornflowerblue;\n",
       "\n",
       "  /* Specific color for light theme */\n",
       "  --sklearn-color-text-on-default-background: var(--sg-text-color, var(--theme-code-foreground, var(--jp-content-font-color1, black)));\n",
       "  --sklearn-color-background: var(--sg-background-color, var(--theme-background, var(--jp-layout-color0, white)));\n",
       "  --sklearn-color-border-box: var(--sg-text-color, var(--theme-code-foreground, var(--jp-content-font-color1, black)));\n",
       "  --sklearn-color-icon: #696969;\n",
       "\n",
       "  @media (prefers-color-scheme: dark) {\n",
       "    /* Redefinition of color scheme for dark theme */\n",
       "    --sklearn-color-text-on-default-background: var(--sg-text-color, var(--theme-code-foreground, var(--jp-content-font-color1, white)));\n",
       "    --sklearn-color-background: var(--sg-background-color, var(--theme-background, var(--jp-layout-color0, #111)));\n",
       "    --sklearn-color-border-box: var(--sg-text-color, var(--theme-code-foreground, var(--jp-content-font-color1, white)));\n",
       "    --sklearn-color-icon: #878787;\n",
       "  }\n",
       "}\n",
       "\n",
       "#sk-container-id-3 {\n",
       "  color: var(--sklearn-color-text);\n",
       "}\n",
       "\n",
       "#sk-container-id-3 pre {\n",
       "  padding: 0;\n",
       "}\n",
       "\n",
       "#sk-container-id-3 input.sk-hidden--visually {\n",
       "  border: 0;\n",
       "  clip: rect(1px 1px 1px 1px);\n",
       "  clip: rect(1px, 1px, 1px, 1px);\n",
       "  height: 1px;\n",
       "  margin: -1px;\n",
       "  overflow: hidden;\n",
       "  padding: 0;\n",
       "  position: absolute;\n",
       "  width: 1px;\n",
       "}\n",
       "\n",
       "#sk-container-id-3 div.sk-dashed-wrapped {\n",
       "  border: 1px dashed var(--sklearn-color-line);\n",
       "  margin: 0 0.4em 0.5em 0.4em;\n",
       "  box-sizing: border-box;\n",
       "  padding-bottom: 0.4em;\n",
       "  background-color: var(--sklearn-color-background);\n",
       "}\n",
       "\n",
       "#sk-container-id-3 div.sk-container {\n",
       "  /* jupyter's `normalize.less` sets `[hidden] { display: none; }`\n",
       "     but bootstrap.min.css set `[hidden] { display: none !important; }`\n",
       "     so we also need the `!important` here to be able to override the\n",
       "     default hidden behavior on the sphinx rendered scikit-learn.org.\n",
       "     See: https://github.com/scikit-learn/scikit-learn/issues/21755 */\n",
       "  display: inline-block !important;\n",
       "  position: relative;\n",
       "}\n",
       "\n",
       "#sk-container-id-3 div.sk-text-repr-fallback {\n",
       "  display: none;\n",
       "}\n",
       "\n",
       "div.sk-parallel-item,\n",
       "div.sk-serial,\n",
       "div.sk-item {\n",
       "  /* draw centered vertical line to link estimators */\n",
       "  background-image: linear-gradient(var(--sklearn-color-text-on-default-background), var(--sklearn-color-text-on-default-background));\n",
       "  background-size: 2px 100%;\n",
       "  background-repeat: no-repeat;\n",
       "  background-position: center center;\n",
       "}\n",
       "\n",
       "/* Parallel-specific style estimator block */\n",
       "\n",
       "#sk-container-id-3 div.sk-parallel-item::after {\n",
       "  content: \"\";\n",
       "  width: 100%;\n",
       "  border-bottom: 2px solid var(--sklearn-color-text-on-default-background);\n",
       "  flex-grow: 1;\n",
       "}\n",
       "\n",
       "#sk-container-id-3 div.sk-parallel {\n",
       "  display: flex;\n",
       "  align-items: stretch;\n",
       "  justify-content: center;\n",
       "  background-color: var(--sklearn-color-background);\n",
       "  position: relative;\n",
       "}\n",
       "\n",
       "#sk-container-id-3 div.sk-parallel-item {\n",
       "  display: flex;\n",
       "  flex-direction: column;\n",
       "}\n",
       "\n",
       "#sk-container-id-3 div.sk-parallel-item:first-child::after {\n",
       "  align-self: flex-end;\n",
       "  width: 50%;\n",
       "}\n",
       "\n",
       "#sk-container-id-3 div.sk-parallel-item:last-child::after {\n",
       "  align-self: flex-start;\n",
       "  width: 50%;\n",
       "}\n",
       "\n",
       "#sk-container-id-3 div.sk-parallel-item:only-child::after {\n",
       "  width: 0;\n",
       "}\n",
       "\n",
       "/* Serial-specific style estimator block */\n",
       "\n",
       "#sk-container-id-3 div.sk-serial {\n",
       "  display: flex;\n",
       "  flex-direction: column;\n",
       "  align-items: center;\n",
       "  background-color: var(--sklearn-color-background);\n",
       "  padding-right: 1em;\n",
       "  padding-left: 1em;\n",
       "}\n",
       "\n",
       "\n",
       "/* Toggleable style: style used for estimator/Pipeline/ColumnTransformer box that is\n",
       "clickable and can be expanded/collapsed.\n",
       "- Pipeline and ColumnTransformer use this feature and define the default style\n",
       "- Estimators will overwrite some part of the style using the `sk-estimator` class\n",
       "*/\n",
       "\n",
       "/* Pipeline and ColumnTransformer style (default) */\n",
       "\n",
       "#sk-container-id-3 div.sk-toggleable {\n",
       "  /* Default theme specific background. It is overwritten whether we have a\n",
       "  specific estimator or a Pipeline/ColumnTransformer */\n",
       "  background-color: var(--sklearn-color-background);\n",
       "}\n",
       "\n",
       "/* Toggleable label */\n",
       "#sk-container-id-3 label.sk-toggleable__label {\n",
       "  cursor: pointer;\n",
       "  display: flex;\n",
       "  width: 100%;\n",
       "  margin-bottom: 0;\n",
       "  padding: 0.5em;\n",
       "  box-sizing: border-box;\n",
       "  text-align: center;\n",
       "  align-items: start;\n",
       "  justify-content: space-between;\n",
       "  gap: 0.5em;\n",
       "}\n",
       "\n",
       "#sk-container-id-3 label.sk-toggleable__label .caption {\n",
       "  font-size: 0.6rem;\n",
       "  font-weight: lighter;\n",
       "  color: var(--sklearn-color-text-muted);\n",
       "}\n",
       "\n",
       "#sk-container-id-3 label.sk-toggleable__label-arrow:before {\n",
       "  /* Arrow on the left of the label */\n",
       "  content: \"▸\";\n",
       "  float: left;\n",
       "  margin-right: 0.25em;\n",
       "  color: var(--sklearn-color-icon);\n",
       "}\n",
       "\n",
       "#sk-container-id-3 label.sk-toggleable__label-arrow:hover:before {\n",
       "  color: var(--sklearn-color-text);\n",
       "}\n",
       "\n",
       "/* Toggleable content - dropdown */\n",
       "\n",
       "#sk-container-id-3 div.sk-toggleable__content {\n",
       "  max-height: 0;\n",
       "  max-width: 0;\n",
       "  overflow: hidden;\n",
       "  text-align: left;\n",
       "  /* unfitted */\n",
       "  background-color: var(--sklearn-color-unfitted-level-0);\n",
       "}\n",
       "\n",
       "#sk-container-id-3 div.sk-toggleable__content.fitted {\n",
       "  /* fitted */\n",
       "  background-color: var(--sklearn-color-fitted-level-0);\n",
       "}\n",
       "\n",
       "#sk-container-id-3 div.sk-toggleable__content pre {\n",
       "  margin: 0.2em;\n",
       "  border-radius: 0.25em;\n",
       "  color: var(--sklearn-color-text);\n",
       "  /* unfitted */\n",
       "  background-color: var(--sklearn-color-unfitted-level-0);\n",
       "}\n",
       "\n",
       "#sk-container-id-3 div.sk-toggleable__content.fitted pre {\n",
       "  /* unfitted */\n",
       "  background-color: var(--sklearn-color-fitted-level-0);\n",
       "}\n",
       "\n",
       "#sk-container-id-3 input.sk-toggleable__control:checked~div.sk-toggleable__content {\n",
       "  /* Expand drop-down */\n",
       "  max-height: 200px;\n",
       "  max-width: 100%;\n",
       "  overflow: auto;\n",
       "}\n",
       "\n",
       "#sk-container-id-3 input.sk-toggleable__control:checked~label.sk-toggleable__label-arrow:before {\n",
       "  content: \"▾\";\n",
       "}\n",
       "\n",
       "/* Pipeline/ColumnTransformer-specific style */\n",
       "\n",
       "#sk-container-id-3 div.sk-label input.sk-toggleable__control:checked~label.sk-toggleable__label {\n",
       "  color: var(--sklearn-color-text);\n",
       "  background-color: var(--sklearn-color-unfitted-level-2);\n",
       "}\n",
       "\n",
       "#sk-container-id-3 div.sk-label.fitted input.sk-toggleable__control:checked~label.sk-toggleable__label {\n",
       "  background-color: var(--sklearn-color-fitted-level-2);\n",
       "}\n",
       "\n",
       "/* Estimator-specific style */\n",
       "\n",
       "/* Colorize estimator box */\n",
       "#sk-container-id-3 div.sk-estimator input.sk-toggleable__control:checked~label.sk-toggleable__label {\n",
       "  /* unfitted */\n",
       "  background-color: var(--sklearn-color-unfitted-level-2);\n",
       "}\n",
       "\n",
       "#sk-container-id-3 div.sk-estimator.fitted input.sk-toggleable__control:checked~label.sk-toggleable__label {\n",
       "  /* fitted */\n",
       "  background-color: var(--sklearn-color-fitted-level-2);\n",
       "}\n",
       "\n",
       "#sk-container-id-3 div.sk-label label.sk-toggleable__label,\n",
       "#sk-container-id-3 div.sk-label label {\n",
       "  /* The background is the default theme color */\n",
       "  color: var(--sklearn-color-text-on-default-background);\n",
       "}\n",
       "\n",
       "/* On hover, darken the color of the background */\n",
       "#sk-container-id-3 div.sk-label:hover label.sk-toggleable__label {\n",
       "  color: var(--sklearn-color-text);\n",
       "  background-color: var(--sklearn-color-unfitted-level-2);\n",
       "}\n",
       "\n",
       "/* Label box, darken color on hover, fitted */\n",
       "#sk-container-id-3 div.sk-label.fitted:hover label.sk-toggleable__label.fitted {\n",
       "  color: var(--sklearn-color-text);\n",
       "  background-color: var(--sklearn-color-fitted-level-2);\n",
       "}\n",
       "\n",
       "/* Estimator label */\n",
       "\n",
       "#sk-container-id-3 div.sk-label label {\n",
       "  font-family: monospace;\n",
       "  font-weight: bold;\n",
       "  display: inline-block;\n",
       "  line-height: 1.2em;\n",
       "}\n",
       "\n",
       "#sk-container-id-3 div.sk-label-container {\n",
       "  text-align: center;\n",
       "}\n",
       "\n",
       "/* Estimator-specific */\n",
       "#sk-container-id-3 div.sk-estimator {\n",
       "  font-family: monospace;\n",
       "  border: 1px dotted var(--sklearn-color-border-box);\n",
       "  border-radius: 0.25em;\n",
       "  box-sizing: border-box;\n",
       "  margin-bottom: 0.5em;\n",
       "  /* unfitted */\n",
       "  background-color: var(--sklearn-color-unfitted-level-0);\n",
       "}\n",
       "\n",
       "#sk-container-id-3 div.sk-estimator.fitted {\n",
       "  /* fitted */\n",
       "  background-color: var(--sklearn-color-fitted-level-0);\n",
       "}\n",
       "\n",
       "/* on hover */\n",
       "#sk-container-id-3 div.sk-estimator:hover {\n",
       "  /* unfitted */\n",
       "  background-color: var(--sklearn-color-unfitted-level-2);\n",
       "}\n",
       "\n",
       "#sk-container-id-3 div.sk-estimator.fitted:hover {\n",
       "  /* fitted */\n",
       "  background-color: var(--sklearn-color-fitted-level-2);\n",
       "}\n",
       "\n",
       "/* Specification for estimator info (e.g. \"i\" and \"?\") */\n",
       "\n",
       "/* Common style for \"i\" and \"?\" */\n",
       "\n",
       ".sk-estimator-doc-link,\n",
       "a:link.sk-estimator-doc-link,\n",
       "a:visited.sk-estimator-doc-link {\n",
       "  float: right;\n",
       "  font-size: smaller;\n",
       "  line-height: 1em;\n",
       "  font-family: monospace;\n",
       "  background-color: var(--sklearn-color-background);\n",
       "  border-radius: 1em;\n",
       "  height: 1em;\n",
       "  width: 1em;\n",
       "  text-decoration: none !important;\n",
       "  margin-left: 0.5em;\n",
       "  text-align: center;\n",
       "  /* unfitted */\n",
       "  border: var(--sklearn-color-unfitted-level-1) 1pt solid;\n",
       "  color: var(--sklearn-color-unfitted-level-1);\n",
       "}\n",
       "\n",
       ".sk-estimator-doc-link.fitted,\n",
       "a:link.sk-estimator-doc-link.fitted,\n",
       "a:visited.sk-estimator-doc-link.fitted {\n",
       "  /* fitted */\n",
       "  border: var(--sklearn-color-fitted-level-1) 1pt solid;\n",
       "  color: var(--sklearn-color-fitted-level-1);\n",
       "}\n",
       "\n",
       "/* On hover */\n",
       "div.sk-estimator:hover .sk-estimator-doc-link:hover,\n",
       ".sk-estimator-doc-link:hover,\n",
       "div.sk-label-container:hover .sk-estimator-doc-link:hover,\n",
       ".sk-estimator-doc-link:hover {\n",
       "  /* unfitted */\n",
       "  background-color: var(--sklearn-color-unfitted-level-3);\n",
       "  color: var(--sklearn-color-background);\n",
       "  text-decoration: none;\n",
       "}\n",
       "\n",
       "div.sk-estimator.fitted:hover .sk-estimator-doc-link.fitted:hover,\n",
       ".sk-estimator-doc-link.fitted:hover,\n",
       "div.sk-label-container:hover .sk-estimator-doc-link.fitted:hover,\n",
       ".sk-estimator-doc-link.fitted:hover {\n",
       "  /* fitted */\n",
       "  background-color: var(--sklearn-color-fitted-level-3);\n",
       "  color: var(--sklearn-color-background);\n",
       "  text-decoration: none;\n",
       "}\n",
       "\n",
       "/* Span, style for the box shown on hovering the info icon */\n",
       ".sk-estimator-doc-link span {\n",
       "  display: none;\n",
       "  z-index: 9999;\n",
       "  position: relative;\n",
       "  font-weight: normal;\n",
       "  right: .2ex;\n",
       "  padding: .5ex;\n",
       "  margin: .5ex;\n",
       "  width: min-content;\n",
       "  min-width: 20ex;\n",
       "  max-width: 50ex;\n",
       "  color: var(--sklearn-color-text);\n",
       "  box-shadow: 2pt 2pt 4pt #999;\n",
       "  /* unfitted */\n",
       "  background: var(--sklearn-color-unfitted-level-0);\n",
       "  border: .5pt solid var(--sklearn-color-unfitted-level-3);\n",
       "}\n",
       "\n",
       ".sk-estimator-doc-link.fitted span {\n",
       "  /* fitted */\n",
       "  background: var(--sklearn-color-fitted-level-0);\n",
       "  border: var(--sklearn-color-fitted-level-3);\n",
       "}\n",
       "\n",
       ".sk-estimator-doc-link:hover span {\n",
       "  display: block;\n",
       "}\n",
       "\n",
       "/* \"?\"-specific style due to the `<a>` HTML tag */\n",
       "\n",
       "#sk-container-id-3 a.estimator_doc_link {\n",
       "  float: right;\n",
       "  font-size: 1rem;\n",
       "  line-height: 1em;\n",
       "  font-family: monospace;\n",
       "  background-color: var(--sklearn-color-background);\n",
       "  border-radius: 1rem;\n",
       "  height: 1rem;\n",
       "  width: 1rem;\n",
       "  text-decoration: none;\n",
       "  /* unfitted */\n",
       "  color: var(--sklearn-color-unfitted-level-1);\n",
       "  border: var(--sklearn-color-unfitted-level-1) 1pt solid;\n",
       "}\n",
       "\n",
       "#sk-container-id-3 a.estimator_doc_link.fitted {\n",
       "  /* fitted */\n",
       "  border: var(--sklearn-color-fitted-level-1) 1pt solid;\n",
       "  color: var(--sklearn-color-fitted-level-1);\n",
       "}\n",
       "\n",
       "/* On hover */\n",
       "#sk-container-id-3 a.estimator_doc_link:hover {\n",
       "  /* unfitted */\n",
       "  background-color: var(--sklearn-color-unfitted-level-3);\n",
       "  color: var(--sklearn-color-background);\n",
       "  text-decoration: none;\n",
       "}\n",
       "\n",
       "#sk-container-id-3 a.estimator_doc_link.fitted:hover {\n",
       "  /* fitted */\n",
       "  background-color: var(--sklearn-color-fitted-level-3);\n",
       "}\n",
       "</style><div id=\"sk-container-id-3\" class=\"sk-top-container\"><div class=\"sk-text-repr-fallback\"><pre>LogisticRegression(max_iter=1000)</pre><b>In a Jupyter environment, please rerun this cell to show the HTML representation or trust the notebook. <br />On GitHub, the HTML representation is unable to render, please try loading this page with nbviewer.org.</b></div><div class=\"sk-container\" hidden><div class=\"sk-item\"><div class=\"sk-estimator fitted sk-toggleable\"><input class=\"sk-toggleable__control sk-hidden--visually\" id=\"sk-estimator-id-3\" type=\"checkbox\" checked><label for=\"sk-estimator-id-3\" class=\"sk-toggleable__label fitted sk-toggleable__label-arrow\"><div><div>LogisticRegression</div></div><div><a class=\"sk-estimator-doc-link fitted\" rel=\"noreferrer\" target=\"_blank\" href=\"https://scikit-learn.org/1.6/modules/generated/sklearn.linear_model.LogisticRegression.html\">?<span>Documentation for LogisticRegression</span></a><span class=\"sk-estimator-doc-link fitted\">i<span>Fitted</span></span></div></label><div class=\"sk-toggleable__content fitted\"><pre>LogisticRegression(max_iter=1000)</pre></div> </div></div></div></div>"
      ],
      "text/plain": [
       "LogisticRegression(max_iter=1000)"
      ]
     },
     "execution_count": 18,
     "metadata": {},
     "output_type": "execute_result"
    }
   ],
   "source": [
    "X_treino, X_teste, y_treino, y_teste = train_test_split(X, # Vetor de variáveis explicativas\n",
    "                                                        y, # Target (Ou Var. Dep.)\n",
    "                                                        test_size=0.1, # Porcentagem que vai ficar para teste (20%)\n",
    "                                                        random_state=42) # Seed para garantir a estabilidade dos resultados\n",
    "\n",
    "# Criando o vetorizador, utilizando nossa lista de stop_words\n",
    "vectorizer = CountVectorizer(stop_words=stop_words,\n",
    "                             ngram_range=(1,2)) # Unigramas e Bigramas\n",
    "\n",
    "# Transformando a coluna de texto em BOW\n",
    "X_treino = vectorizer.fit_transform(X_treino)\n",
    "\n",
    "\n",
    "modelo = LogisticRegression(max_iter=1_000, solver=\"lbfgs\")\n",
    "modelo.fit(X_treino, y_treino)"
   ]
  },
  {
   "cell_type": "code",
   "execution_count": 19,
   "id": "ndUB3Vh1rdvQ",
   "metadata": {
    "colab": {
     "base_uri": "https://localhost:8080/"
    },
    "executionInfo": {
     "elapsed": 118,
     "status": "ok",
     "timestamp": 1759153722210,
     "user": {
      "displayName": "Pedro Schmalz",
      "userId": "07700592580926452057"
     },
     "user_tz": 180
    },
    "id": "ndUB3Vh1rdvQ",
    "outputId": "26699a34-2353-4eb8-a413-766a30e2de6b"
   },
   "outputs": [
    {
     "name": "stdout",
     "output_type": "stream",
     "text": [
      "Acurácia: 0.9631490787269682\n"
     ]
    }
   ],
   "source": [
    "X_teste = vectorizer.transform(X_teste)\n",
    "\n",
    "y_pred = modelo.predict(X_teste)\n",
    "\n",
    "\n",
    "accuracy = accuracy_score(y_teste, # Valores Reais\n",
    "                          y_pred) # Valores preditos pelo modelo\n",
    "print(f\"Acurácia: {accuracy}\")\n"
   ]
  },
  {
   "cell_type": "code",
   "execution_count": 20,
   "id": "S6a7SGYkrfYs",
   "metadata": {
    "colab": {
     "base_uri": "https://localhost:8080/"
    },
    "executionInfo": {
     "elapsed": 25,
     "status": "ok",
     "timestamp": 1759153722250,
     "user": {
      "displayName": "Pedro Schmalz",
      "userId": "07700592580926452057"
     },
     "user_tz": 180
    },
    "id": "S6a7SGYkrfYs",
    "outputId": "3d065cfb-fe22-4401-b189-5bcaa9c9f569"
   },
   "outputs": [
    {
     "data": {
      "text/plain": [
       "array([[568,   1],\n",
       "       [ 21,   7]])"
      ]
     },
     "execution_count": 20,
     "metadata": {},
     "output_type": "execute_result"
    }
   ],
   "source": [
    "mat_conf = confusion_matrix(y_teste, y_pred)\n",
    "\n",
    "mat_conf"
   ]
  },
  {
   "cell_type": "markdown",
   "id": "wv7zP0fmrgIF",
   "metadata": {
    "id": "wv7zP0fmrgIF"
   },
   "source": [
    "Melhora pouco expressiva."
   ]
  },
  {
   "cell_type": "code",
   "execution_count": 21,
   "id": "EiBBwailrhkJ",
   "metadata": {
    "colab": {
     "base_uri": "https://localhost:8080/"
    },
    "executionInfo": {
     "elapsed": 32,
     "status": "ok",
     "timestamp": 1759153722283,
     "user": {
      "displayName": "Pedro Schmalz",
      "userId": "07700592580926452057"
     },
     "user_tz": 180
    },
    "id": "EiBBwailrhkJ",
    "outputId": "b3858483-391b-4406-99d2-c47f21e5da49"
   },
   "outputs": [
    {
     "name": "stdout",
     "output_type": "stream",
     "text": [
      "Relatório de Classificação:\n",
      "              precision    recall  f1-score   support\n",
      "\n",
      "           0       0.96      1.00      0.98       569\n",
      "           1       0.88      0.25      0.39        28\n",
      "\n",
      "    accuracy                           0.96       597\n",
      "   macro avg       0.92      0.62      0.68       597\n",
      "weighted avg       0.96      0.96      0.95       597\n",
      "\n"
     ]
    }
   ],
   "source": [
    "rel_class = classification_report(y_teste, y_pred)\n",
    "\n",
    "print(f\"Relatório de Classificação:\\n{rel_class}\")"
   ]
  },
  {
   "cell_type": "markdown",
   "id": "x08DqdU5rksH",
   "metadata": {
    "id": "x08DqdU5rksH"
   },
   "source": [
    "Nada muito diferente, vamos ver usando *até* trigramas."
   ]
  },
  {
   "cell_type": "code",
   "execution_count": 22,
   "id": "qBCisTtGrn5n",
   "metadata": {
    "colab": {
     "base_uri": "https://localhost:8080/"
    },
    "executionInfo": {
     "elapsed": 2988,
     "status": "ok",
     "timestamp": 1759153725273,
     "user": {
      "displayName": "Pedro Schmalz",
      "userId": "07700592580926452057"
     },
     "user_tz": 180
    },
    "id": "qBCisTtGrn5n",
    "outputId": "c037a4fc-26ab-4207-8035-d2021bd13f1f"
   },
   "outputs": [
    {
     "name": "stdout",
     "output_type": "stream",
     "text": [
      "Acurácia: 0.9597989949748744\n"
     ]
    }
   ],
   "source": [
    "X_treino, X_teste, y_treino, y_teste = train_test_split(X, # Vetor de variáveis explicativas\n",
    "                                                        y, # Target (Ou Var. Dep.)\n",
    "                                                        test_size=0.1, # Porcentagem que vai ficar para teste (20%)\n",
    "                                                        random_state=42) # Seed para garantir a estabilidade dos resultados\n",
    "\n",
    "# Criando o vetorizador, utilizando nossa lista de stop_words\n",
    "vectorizer = CountVectorizer(stop_words=stop_words,\n",
    "                             ngram_range=(1,3)) # Unigramas, bigramas e trigramas\n",
    "\n",
    "# Transformando a coluna de texto em BOW\n",
    "X_treino = vectorizer.fit_transform(X_treino)\n",
    "\n",
    "\n",
    "modelo = LogisticRegression(max_iter=1_000, solver=\"lbfgs\")\n",
    "modelo.fit(X_treino, y_treino)\n",
    "\n",
    "\n",
    "X_teste = vectorizer.transform(X_teste)\n",
    "\n",
    "y_pred = modelo.predict(X_teste)\n",
    "\n",
    "\n",
    "accuracy = accuracy_score(y_teste, # Valores Reais\n",
    "                          y_pred) # Valores preditos pelo modelo\n",
    "\n",
    "print(f\"Acurácia: {accuracy}\")"
   ]
  },
  {
   "cell_type": "code",
   "execution_count": 23,
   "id": "yn9ewoXlrwOl",
   "metadata": {
    "colab": {
     "base_uri": "https://localhost:8080/"
    },
    "executionInfo": {
     "elapsed": 16,
     "status": "ok",
     "timestamp": 1759153725291,
     "user": {
      "displayName": "Pedro Schmalz",
      "userId": "07700592580926452057"
     },
     "user_tz": 180
    },
    "id": "yn9ewoXlrwOl",
    "outputId": "f66a7b11-b776-425e-f90b-95a096ea14f0"
   },
   "outputs": [
    {
     "data": {
      "text/plain": [
       "array([[568,   1],\n",
       "       [ 23,   5]])"
      ]
     },
     "execution_count": 23,
     "metadata": {},
     "output_type": "execute_result"
    }
   ],
   "source": [
    "mat_conf = confusion_matrix(y_teste, y_pred)\n",
    "\n",
    "mat_conf"
   ]
  },
  {
   "cell_type": "code",
   "execution_count": 24,
   "id": "nbnCh0nFrxZ_",
   "metadata": {
    "colab": {
     "base_uri": "https://localhost:8080/"
    },
    "executionInfo": {
     "elapsed": 38,
     "status": "ok",
     "timestamp": 1759153725330,
     "user": {
      "displayName": "Pedro Schmalz",
      "userId": "07700592580926452057"
     },
     "user_tz": 180
    },
    "id": "nbnCh0nFrxZ_",
    "outputId": "8cc8c186-6cff-4549-dfe3-1c6a51b681fb"
   },
   "outputs": [
    {
     "name": "stdout",
     "output_type": "stream",
     "text": [
      "Relatório de Classificação:\n",
      "              precision    recall  f1-score   support\n",
      "\n",
      "           0       0.96      1.00      0.98       569\n",
      "           1       0.83      0.18      0.29        28\n",
      "\n",
      "    accuracy                           0.96       597\n",
      "   macro avg       0.90      0.59      0.64       597\n",
      "weighted avg       0.96      0.96      0.95       597\n",
      "\n"
     ]
    }
   ],
   "source": [
    "rel_class = classification_report(y_teste, y_pred)\n",
    "\n",
    "print(f\"Relatório de Classificação:\\n{rel_class}\")"
   ]
  },
  {
   "cell_type": "markdown",
   "id": "w2Tj1ha_ry5D",
   "metadata": {
    "id": "w2Tj1ha_ry5D"
   },
   "source": [
    "Resultado final: Dar mais contexto para o modelo (isto é, adicionar bigramas e trigramas) não mudou muito os resultados. O problemas pode ser devido à dois fatores: 1) alta complexidade da classificação (não é só contagem de presença de palavras); 2) alto desbalanceamento das classes"
   ]
  },
  {
   "cell_type": "markdown",
   "id": "0919851f",
   "metadata": {
    "id": "0919851f"
   },
   "source": [
    "12 - Escolha um modelo aprendido nas aulas anteriores (LDA, QDA, Naive bayes, KNN) e repita o processo de treinamento, discutindo as diferenças nos resultados"
   ]
  },
  {
   "cell_type": "markdown",
   "id": "aDrpvt_QsJgM",
   "metadata": {
    "id": "aDrpvt_QsJgM"
   },
   "source": [
    "LDA"
   ]
  },
  {
   "cell_type": "code",
   "execution_count": 53,
   "id": "95885bb7",
   "metadata": {
    "colab": {
     "base_uri": "https://localhost:8080/"
    },
    "executionInfo": {
     "elapsed": 109075,
     "status": "ok",
     "timestamp": 1759154198454,
     "user": {
      "displayName": "Pedro Schmalz",
      "userId": "07700592580926452057"
     },
     "user_tz": 180
    },
    "id": "95885bb7",
    "outputId": "c68af01e-6c02-47ca-d1b3-4047f5f5fde4"
   },
   "outputs": [
    {
     "name": "stdout",
     "output_type": "stream",
     "text": [
      "Acurácia: 0.7922948073701842\n"
     ]
    }
   ],
   "source": [
    "from sklearn.discriminant_analysis import LinearDiscriminantAnalysis # Importando o modelo do SKlearn\n",
    "\n",
    "\n",
    "X_treino, X_teste, y_treino, y_teste = train_test_split(X, # Vetor de variáveis explicativas\n",
    "                                                        y, # Target (Ou Var. Dep.)\n",
    "                                                        test_size=0.1, # Porcentagem que vai ficar para teste (20%)\n",
    "                                                        random_state=42) # Seed para garantir a estabilidade dos resultados\n",
    "\n",
    "\n",
    "# Vamos usar algumas opções do vectorizer para reduzir a dimensionalidade\n",
    "vectorizer = CountVectorizer(\n",
    "    lowercase=True,\n",
    "    stop_words=stop_words,\n",
    "    max_df=0.4,               # filtra termos muito frequentes\n",
    "    min_df=3                 # filtra termos muito raros\n",
    ")\n",
    "\n",
    "\n",
    "\n",
    "\n",
    "# Transformando a coluna de texto em BOW\n",
    "X_treino = vectorizer.fit_transform(X_treino)\n",
    "\n",
    "\n",
    "modelo = LinearDiscriminantAnalysis()\n",
    "modelo.fit(X_treino.toarray(), y_treino)\n",
    "\n",
    "\n",
    "X_teste = vectorizer.transform(X_teste)\n",
    "\n",
    "y_pred = modelo.predict(X_teste.toarray())\n",
    "\n",
    "\n",
    "accuracy = accuracy_score(y_teste, # Valores Reais\n",
    "                          y_pred) # Valores preditos pelo modelo LDA\n",
    "\n",
    "print(f\"Acurácia: {accuracy}\")"
   ]
  },
  {
   "cell_type": "code",
   "execution_count": 54,
   "id": "XuDDmIQEuFJq",
   "metadata": {
    "colab": {
     "base_uri": "https://localhost:8080/"
    },
    "executionInfo": {
     "elapsed": 9,
     "status": "ok",
     "timestamp": 1759154198466,
     "user": {
      "displayName": "Pedro Schmalz",
      "userId": "07700592580926452057"
     },
     "user_tz": 180
    },
    "id": "XuDDmIQEuFJq",
    "outputId": "8e178477-52da-4139-eca5-8ba2636a4a53"
   },
   "outputs": [
    {
     "data": {
      "text/plain": [
       "array([[463, 106],\n",
       "       [ 18,  10]])"
      ]
     },
     "execution_count": 54,
     "metadata": {},
     "output_type": "execute_result"
    }
   ],
   "source": [
    "mat_conf = confusion_matrix(y_teste, y_pred)\n",
    "\n",
    "mat_conf"
   ]
  },
  {
   "cell_type": "code",
   "execution_count": 55,
   "id": "q9fbnh4juH4k",
   "metadata": {
    "colab": {
     "base_uri": "https://localhost:8080/"
    },
    "executionInfo": {
     "elapsed": 5,
     "status": "ok",
     "timestamp": 1759154198471,
     "user": {
      "displayName": "Pedro Schmalz",
      "userId": "07700592580926452057"
     },
     "user_tz": 180
    },
    "id": "q9fbnh4juH4k",
    "outputId": "b424df1b-8536-4589-fc9c-11329b6d560d"
   },
   "outputs": [
    {
     "name": "stdout",
     "output_type": "stream",
     "text": [
      "Relatório de Classificação:\n",
      "              precision    recall  f1-score   support\n",
      "\n",
      "           0       0.96      0.81      0.88       569\n",
      "           1       0.09      0.36      0.14        28\n",
      "\n",
      "    accuracy                           0.79       597\n",
      "   macro avg       0.52      0.59      0.51       597\n",
      "weighted avg       0.92      0.79      0.85       597\n",
      "\n"
     ]
    }
   ],
   "source": [
    "rel_class = classification_report(y_teste, y_pred)\n",
    "\n",
    "print(f\"Relatório de Classificação:\\n{rel_class}\")"
   ]
  },
  {
   "cell_type": "markdown",
   "id": "45mwPF7wt9f3",
   "metadata": {
    "id": "45mwPF7wt9f3"
   },
   "source": [
    "KNN"
   ]
  },
  {
   "cell_type": "code",
   "execution_count": 45,
   "id": "AQLafe9Ut9UR",
   "metadata": {
    "colab": {
     "base_uri": "https://localhost:8080/"
    },
    "executionInfo": {
     "elapsed": 336,
     "status": "ok",
     "timestamp": 1759153942593,
     "user": {
      "displayName": "Pedro Schmalz",
      "userId": "07700592580926452057"
     },
     "user_tz": 180
    },
    "id": "AQLafe9Ut9UR",
    "outputId": "81efcf11-0ae0-4ada-d2d4-9394e3de588c"
   },
   "outputs": [
    {
     "name": "stdout",
     "output_type": "stream",
     "text": [
      "Acurácia: 0.9547738693467337\n"
     ]
    }
   ],
   "source": [
    "from sklearn.neighbors import KNeighborsClassifier # Importando o KNN\n",
    "\n",
    "\n",
    "X_treino, X_teste, y_treino, y_teste = train_test_split(X, # Vetor de variáveis explicativas\n",
    "                                                        y, # Target (Ou Var. Dep.)\n",
    "                                                        test_size=0.1, # Porcentagem que vai ficar para teste (20%)\n",
    "                                                        random_state=42) # Seed para garantir a estabilidade dos resultados\n",
    "\n",
    "# Criando o vetorizador, utilizando nossa lista de stop_words\n",
    "vectorizer = CountVectorizer(stop_words=stop_words,\n",
    "                             ngram_range=(1,1)) # Unigramas\n",
    "\n",
    "# Transformando a coluna de texto em BOW\n",
    "X_treino = vectorizer.fit_transform(X_treino)\n",
    "\n",
    "\n",
    "modelo = KNeighborsClassifier(n_neighbors=5)  # Você pode ajustar o número de vizinhos (K) aqui\n",
    "modelo.fit(X_treino, y_treino)\n",
    "\n",
    "\n",
    "X_teste = vectorizer.transform(X_teste)\n",
    "\n",
    "y_pred = modelo.predict(X_teste)\n",
    "\n",
    "\n",
    "accuracy = accuracy_score(y_teste, # Valores Reais\n",
    "                          y_pred) # Valores preditos pelo modelo\n",
    "\n",
    "print(f\"Acurácia: {accuracy}\")"
   ]
  },
  {
   "cell_type": "code",
   "execution_count": 46,
   "id": "QU2mbfM9u7_G",
   "metadata": {
    "colab": {
     "base_uri": "https://localhost:8080/"
    },
    "executionInfo": {
     "elapsed": 8,
     "status": "ok",
     "timestamp": 1759153945760,
     "user": {
      "displayName": "Pedro Schmalz",
      "userId": "07700592580926452057"
     },
     "user_tz": 180
    },
    "id": "QU2mbfM9u7_G",
    "outputId": "01078bde-344a-4dbc-9ce3-72b988e0b382"
   },
   "outputs": [
    {
     "data": {
      "text/plain": [
       "array([[569,   0],\n",
       "       [ 27,   1]])"
      ]
     },
     "execution_count": 46,
     "metadata": {},
     "output_type": "execute_result"
    }
   ],
   "source": [
    "mat_conf = confusion_matrix(y_teste, y_pred)\n",
    "\n",
    "mat_conf"
   ]
  },
  {
   "cell_type": "code",
   "execution_count": 47,
   "id": "PVAJ9xLKu9pn",
   "metadata": {
    "colab": {
     "base_uri": "https://localhost:8080/"
    },
    "executionInfo": {
     "elapsed": 13,
     "status": "ok",
     "timestamp": 1759153946431,
     "user": {
      "displayName": "Pedro Schmalz",
      "userId": "07700592580926452057"
     },
     "user_tz": 180
    },
    "id": "PVAJ9xLKu9pn",
    "outputId": "bc71ff74-c825-4ea5-d3bf-3947c482ce61"
   },
   "outputs": [
    {
     "name": "stdout",
     "output_type": "stream",
     "text": [
      "Relatório de Classificação:\n",
      "              precision    recall  f1-score   support\n",
      "\n",
      "           0       0.95      1.00      0.98       569\n",
      "           1       1.00      0.04      0.07        28\n",
      "\n",
      "    accuracy                           0.95       597\n",
      "   macro avg       0.98      0.52      0.52       597\n",
      "weighted avg       0.96      0.95      0.93       597\n",
      "\n"
     ]
    }
   ],
   "source": [
    "rel_class = classification_report(y_teste, y_pred)\n",
    "\n",
    "print(f\"Relatório de Classificação:\\n{rel_class}\")"
   ]
  },
  {
   "cell_type": "markdown",
   "id": "6XhuuhYku_Za",
   "metadata": {
    "id": "6XhuuhYku_Za"
   },
   "source": [
    "VAmos dar mais contexto ao modelo e deixá-lo mais flexível (k maior)"
   ]
  },
  {
   "cell_type": "code",
   "execution_count": 28,
   "id": "RjZlPrsOvAvQ",
   "metadata": {
    "colab": {
     "base_uri": "https://localhost:8080/"
    },
    "executionInfo": {
     "elapsed": 1603,
     "status": "ok",
     "timestamp": 1759153780556,
     "user": {
      "displayName": "Pedro Schmalz",
      "userId": "07700592580926452057"
     },
     "user_tz": 180
    },
    "id": "RjZlPrsOvAvQ",
    "outputId": "f6b5764a-bc9e-44b5-c8e4-1d35d7d0a050"
   },
   "outputs": [
    {
     "name": "stdout",
     "output_type": "stream",
     "text": [
      "Acurácia: 0.9530988274706867\n"
     ]
    }
   ],
   "source": [
    "X_treino, X_teste, y_treino, y_teste = train_test_split(X, # Vetor de variáveis explicativas\n",
    "                                                        y, # Target (Ou Var. Dep.)\n",
    "                                                        test_size=0.1, # Porcentagem que vai ficar para teste (20%)\n",
    "                                                        random_state=42) # Seed para garantir a estabilidade dos resultados\n",
    "\n",
    "# Criando o vetorizador, utilizando nossa lista de stop_words\n",
    "vectorizer = CountVectorizer(stop_words=stop_words,\n",
    "                             ngram_range=(1,3)) # Unigramas\n",
    "\n",
    "# Transformando a coluna de texto em BOW\n",
    "X_treino = vectorizer.fit_transform(X_treino)\n",
    "\n",
    "\n",
    "modelo = KNeighborsClassifier(n_neighbors=10)  # Você pode ajustar o número de vizinhos (K) aqui\n",
    "modelo.fit(X_treino, y_treino)\n",
    "\n",
    "\n",
    "X_teste = vectorizer.transform(X_teste)\n",
    "\n",
    "y_pred = modelo.predict(X_teste)\n",
    "\n",
    "\n",
    "accuracy = accuracy_score(y_teste, # Valores Reais\n",
    "                          y_pred) # Valores preditos pelo modelo\n",
    "\n",
    "print(f\"Acurácia: {accuracy}\")"
   ]
  },
  {
   "cell_type": "code",
   "execution_count": 29,
   "id": "rnCtn9QQvIfc",
   "metadata": {
    "colab": {
     "base_uri": "https://localhost:8080/"
    },
    "executionInfo": {
     "elapsed": 37,
     "status": "ok",
     "timestamp": 1759153785734,
     "user": {
      "displayName": "Pedro Schmalz",
      "userId": "07700592580926452057"
     },
     "user_tz": 180
    },
    "id": "rnCtn9QQvIfc",
    "outputId": "2539a818-e7f0-49e9-e722-4d5a0af766e0"
   },
   "outputs": [
    {
     "data": {
      "text/plain": [
       "array([[569,   0],\n",
       "       [ 28,   0]])"
      ]
     },
     "execution_count": 29,
     "metadata": {},
     "output_type": "execute_result"
    }
   ],
   "source": [
    "mat_conf = confusion_matrix(y_teste, y_pred)\n",
    "\n",
    "mat_conf"
   ]
  },
  {
   "cell_type": "code",
   "execution_count": 30,
   "id": "BcbZFAZivRCU",
   "metadata": {
    "colab": {
     "base_uri": "https://localhost:8080/"
    },
    "executionInfo": {
     "elapsed": 52,
     "status": "ok",
     "timestamp": 1759153820740,
     "user": {
      "displayName": "Pedro Schmalz",
      "userId": "07700592580926452057"
     },
     "user_tz": 180
    },
    "id": "BcbZFAZivRCU",
    "outputId": "a875f2c8-cf6f-408a-cade-bcabc04287a6"
   },
   "outputs": [
    {
     "name": "stdout",
     "output_type": "stream",
     "text": [
      "Relatório de Classificação:\n",
      "              precision    recall  f1-score   support\n",
      "\n",
      "           0       0.95      1.00      0.98       569\n",
      "           1       0.00      0.00      0.00        28\n",
      "\n",
      "    accuracy                           0.95       597\n",
      "   macro avg       0.48      0.50      0.49       597\n",
      "weighted avg       0.91      0.95      0.93       597\n",
      "\n"
     ]
    },
    {
     "name": "stderr",
     "output_type": "stream",
     "text": [
      "/usr/local/lib/python3.12/dist-packages/sklearn/metrics/_classification.py:1565: UndefinedMetricWarning: Precision is ill-defined and being set to 0.0 in labels with no predicted samples. Use `zero_division` parameter to control this behavior.\n",
      "  _warn_prf(average, modifier, f\"{metric.capitalize()} is\", len(result))\n",
      "/usr/local/lib/python3.12/dist-packages/sklearn/metrics/_classification.py:1565: UndefinedMetricWarning: Precision is ill-defined and being set to 0.0 in labels with no predicted samples. Use `zero_division` parameter to control this behavior.\n",
      "  _warn_prf(average, modifier, f\"{metric.capitalize()} is\", len(result))\n",
      "/usr/local/lib/python3.12/dist-packages/sklearn/metrics/_classification.py:1565: UndefinedMetricWarning: Precision is ill-defined and being set to 0.0 in labels with no predicted samples. Use `zero_division` parameter to control this behavior.\n",
      "  _warn_prf(average, modifier, f\"{metric.capitalize()} is\", len(result))\n"
     ]
    }
   ],
   "source": [
    "rel_class = classification_report(y_teste, y_pred)\n",
    "\n",
    "print(f\"Relatório de Classificação:\\n{rel_class}\")"
   ]
  },
  {
   "cell_type": "markdown",
   "id": "6tPDwfgjvNy6",
   "metadata": {
    "id": "6tPDwfgjvNy6"
   },
   "source": [
    "piorou, vamos tentar com trigramas mas menos flexível"
   ]
  },
  {
   "cell_type": "code",
   "execution_count": 42,
   "id": "5Fzng-jMvPX1",
   "metadata": {
    "colab": {
     "base_uri": "https://localhost:8080/"
    },
    "executionInfo": {
     "elapsed": 1068,
     "status": "ok",
     "timestamp": 1759153888324,
     "user": {
      "displayName": "Pedro Schmalz",
      "userId": "07700592580926452057"
     },
     "user_tz": 180
    },
    "id": "5Fzng-jMvPX1",
    "outputId": "05d6235b-e2cf-4b82-d35e-a650cc91026c"
   },
   "outputs": [
    {
     "name": "stdout",
     "output_type": "stream",
     "text": [
      "Acurácia: 0.9530988274706867\n"
     ]
    }
   ],
   "source": [
    "X_treino, X_teste, y_treino, y_teste = train_test_split(X, # Vetor de variáveis explicativas\n",
    "                                                        y, # Target (Ou Var. Dep.)\n",
    "                                                        test_size=0.1, # Porcentagem que vai ficar para teste (20%)\n",
    "                                                        random_state=42) # Seed para garantir a estabilidade dos resultados\n",
    "\n",
    "# Criando o vetorizador, utilizando nossa lista de stop_words\n",
    "vectorizer = CountVectorizer(stop_words=stop_words,\n",
    "                             ngram_range=(1,3)) # Unigramas a trigramas\n",
    "\n",
    "# Transformando a coluna de texto em BOW\n",
    "X_treino = vectorizer.fit_transform(X_treino)\n",
    "\n",
    "\n",
    "modelo = KNeighborsClassifier(n_neighbors=6)  # Você pode ajustar o número de vizinhos (K) aqui\n",
    "modelo.fit(X_treino, y_treino)\n",
    "\n",
    "\n",
    "X_teste = vectorizer.transform(X_teste)\n",
    "\n",
    "y_pred = modelo.predict(X_teste)\n",
    "\n",
    "\n",
    "accuracy = accuracy_score(y_teste, # Valores Reais\n",
    "                          y_pred) # Valores preditos pelo modelo\n",
    "\n",
    "print(f\"Acurácia: {accuracy}\")"
   ]
  },
  {
   "cell_type": "code",
   "execution_count": 43,
   "id": "aUf6MaD2vWQ2",
   "metadata": {
    "colab": {
     "base_uri": "https://localhost:8080/"
    },
    "executionInfo": {
     "elapsed": 17,
     "status": "ok",
     "timestamp": 1759153889474,
     "user": {
      "displayName": "Pedro Schmalz",
      "userId": "07700592580926452057"
     },
     "user_tz": 180
    },
    "id": "aUf6MaD2vWQ2",
    "outputId": "5e5fb3aa-3f24-4c13-af91-88163cd2b29d"
   },
   "outputs": [
    {
     "data": {
      "text/plain": [
       "array([[569,   0],\n",
       "       [ 28,   0]])"
      ]
     },
     "execution_count": 43,
     "metadata": {},
     "output_type": "execute_result"
    }
   ],
   "source": [
    "mat_conf = confusion_matrix(y_teste, y_pred)\n",
    "\n",
    "mat_conf"
   ]
  },
  {
   "cell_type": "markdown",
   "id": "lVr73DKovjAx",
   "metadata": {
    "id": "lVr73DKovjAx"
   },
   "source": [
    "O modelo performa muito mal, e só bigramas?"
   ]
  },
  {
   "cell_type": "code",
   "execution_count": 48,
   "id": "xxUCwaMPvzCj",
   "metadata": {
    "colab": {
     "base_uri": "https://localhost:8080/"
    },
    "executionInfo": {
     "elapsed": 777,
     "status": "ok",
     "timestamp": 1759153965484,
     "user": {
      "displayName": "Pedro Schmalz",
      "userId": "07700592580926452057"
     },
     "user_tz": 180
    },
    "id": "xxUCwaMPvzCj",
    "outputId": "1e84fccb-cc6f-4c02-e957-ea1554e0f111"
   },
   "outputs": [
    {
     "name": "stdout",
     "output_type": "stream",
     "text": [
      "Acurácia: 0.9530988274706867\n"
     ]
    }
   ],
   "source": [
    "X_treino, X_teste, y_treino, y_teste = train_test_split(X, # Vetor de variáveis explicativas\n",
    "                                                        y, # Target (Ou Var. Dep.)\n",
    "                                                        test_size=0.1, # Porcentagem que vai ficar para teste (20%)\n",
    "                                                        random_state=42) # Seed para garantir a estabilidade dos resultados\n",
    "\n",
    "# Criando o vetorizador, utilizando nossa lista de stop_words\n",
    "vectorizer = CountVectorizer(stop_words=stop_words,\n",
    "                             ngram_range=(2,2)) # Unigramas a trigramas\n",
    "\n",
    "# Transformando a coluna de texto em BOW\n",
    "X_treino = vectorizer.fit_transform(X_treino)\n",
    "\n",
    "\n",
    "modelo = KNeighborsClassifier(n_neighbors=6)  # Você pode ajustar o número de vizinhos (K) aqui\n",
    "modelo.fit(X_treino, y_treino)\n",
    "\n",
    "\n",
    "X_teste = vectorizer.transform(X_teste)\n",
    "\n",
    "y_pred = modelo.predict(X_teste)\n",
    "\n",
    "\n",
    "accuracy = accuracy_score(y_teste, # Valores Reais\n",
    "                          y_pred) # Valores preditos pelo modelo\n",
    "\n",
    "print(f\"Acurácia: {accuracy}\")"
   ]
  },
  {
   "cell_type": "code",
   "execution_count": 49,
   "id": "9tNAO0Nmv1Zf",
   "metadata": {
    "colab": {
     "base_uri": "https://localhost:8080/"
    },
    "executionInfo": {
     "elapsed": 24,
     "status": "ok",
     "timestamp": 1759153969603,
     "user": {
      "displayName": "Pedro Schmalz",
      "userId": "07700592580926452057"
     },
     "user_tz": 180
    },
    "id": "9tNAO0Nmv1Zf",
    "outputId": "e2adfbfd-8a06-41fd-9445-dc3707fc2eca"
   },
   "outputs": [
    {
     "data": {
      "text/plain": [
       "array([[569,   0],\n",
       "       [ 28,   0]])"
      ]
     },
     "execution_count": 49,
     "metadata": {},
     "output_type": "execute_result"
    }
   ],
   "source": [
    "mat_conf = confusion_matrix(y_teste, y_pred)\n",
    "\n",
    "mat_conf"
   ]
  },
  {
   "cell_type": "markdown",
   "id": "a9cftgJ7v16_",
   "metadata": {
    "id": "a9cftgJ7v16_"
   },
   "source": [
    "Mesma coisa, às vezes o problema é o modelo e a tarefa, não os hiperparâmetros."
   ]
  }
 ],
 "metadata": {
  "colab": {
   "provenance": []
  },
  "kernelspec": {
   "display_name": "base",
   "language": "python",
   "name": "python3"
  },
  "language_info": {
   "codemirror_mode": {
    "name": "ipython",
    "version": 3
   },
   "file_extension": ".py",
   "mimetype": "text/x-python",
   "name": "python",
   "nbconvert_exporter": "python",
   "pygments_lexer": "ipython3",
   "version": "3.12.7"
  }
 },
 "nbformat": 4,
 "nbformat_minor": 5
}
