{
 "cells": [
  {
   "cell_type": "markdown",
   "id": "dc02567a",
   "metadata": {
    "id": "dc02567a"
   },
   "source": [
    "# Laboratório 10\n",
    "\n",
    "Nota: Substitua os seus nomes e informações abaixo antes do envio da atividade. A atividade deve ser enviada no `Moodle` da disciplina, e o arquivo **DEVE** estar no formato `.ipynb`.\n",
    "\n",
    "[Nome Aluno 1] / [NUSP Aluno 1] / [Vespertino/Noturno]\n",
    "\n",
    "[Nome Aluno 2] / [NUSP Aluno 2] / [Vespertino/Noturno]\n"
   ]
  },
  {
   "cell_type": "markdown",
   "id": "57dbab85",
   "metadata": {},
   "source": [
    "## Exercícios"
   ]
  },
  {
   "cell_type": "markdown",
   "id": "08b25937",
   "metadata": {},
   "source": [
    "Agora, você irá rodar um modelo de decision trees na classificação de tweets. Primeiro, vamos importar o banco de dados e pré-processar o texto como fizemos anteriormente."
   ]
  },
  {
   "cell_type": "code",
   "execution_count": null,
   "id": "88a9047e",
   "metadata": {},
   "outputs": [],
   "source": [
    "import pandas as pd\n",
    "\n",
    "caminho = 'https://github.com/NUPRAM/CoViD-Pol/raw/main/Covid-Pol_Corpus_v2.0.csv'\n",
    "\n",
    "df_ex = pd.read_csv(caminho)\n",
    "\n",
    "df_ex.head()"
   ]
  },
  {
   "cell_type": "markdown",
   "id": "6ccef09c",
   "metadata": {},
   "source": [
    "1 - Faça o pré-processamento da coluna de texto:"
   ]
  },
  {
   "cell_type": "code",
   "execution_count": null,
   "id": "6db243c1",
   "metadata": {},
   "outputs": [],
   "source": []
  },
  {
   "cell_type": "markdown",
   "id": "d20e9f2d",
   "metadata": {},
   "source": [
    "2 - Remova as observações que não são relacionadas com vacinas e extraia o target (Posicionamento com as três classes) e as features (coluna de texto processada)"
   ]
  },
  {
   "cell_type": "code",
   "execution_count": null,
   "id": "e80877af",
   "metadata": {},
   "outputs": [],
   "source": []
  },
  {
   "cell_type": "markdown",
   "id": "a87b1287",
   "metadata": {},
   "source": [
    "3 - Faça a divisão entre treino e teste, deixando 20% para teste"
   ]
  },
  {
   "cell_type": "code",
   "execution_count": null,
   "id": "db3922b2",
   "metadata": {},
   "outputs": [],
   "source": []
  },
  {
   "cell_type": "markdown",
   "id": "1b07d108",
   "metadata": {},
   "source": [
    "4 - Pegue o dicionário de stopwords em português utilizado na última aula. Agora, transforme o X_treino utilizando o vetorizador tfidf com o dicionário de stopwords"
   ]
  },
  {
   "cell_type": "code",
   "execution_count": null,
   "id": "8bf31c2f",
   "metadata": {},
   "outputs": [],
   "source": [
    "\n",
    "\n",
    "\n"
   ]
  },
  {
   "cell_type": "markdown",
   "id": "dcec25c6",
   "metadata": {},
   "source": [
    "5 - Treine um modelo de Decision Tree para POSICIONAMENTO com esses dados de treino."
   ]
  },
  {
   "cell_type": "code",
   "execution_count": null,
   "id": "28d04983",
   "metadata": {},
   "outputs": [],
   "source": [
    "\n"
   ]
  },
  {
   "cell_type": "markdown",
   "id": "002071ad",
   "metadata": {},
   "source": [
    " Para podermos avaliar o modelo precisamos transformar o X de teste de forma separada. Fazemos deste modo para evitar o problema de \"Data Leakage\", em que o modelo aprende com informações do banco de teste. Se tívessemos transformado todo o banco de texto de uma vez, teríamos tido este problema."
   ]
  },
  {
   "cell_type": "markdown",
   "id": "28760e5c",
   "metadata": {},
   "source": [
    "6 - Transforme o X_teste utilizando \"tfidf_vectorizer.transform()\" ao invés de \"tfidf_vectorizer.fit_transform()\"."
   ]
  },
  {
   "cell_type": "code",
   "execution_count": null,
   "id": "0a82c800",
   "metadata": {},
   "outputs": [],
   "source": []
  },
  {
   "cell_type": "markdown",
   "id": "0275aac5",
   "metadata": {},
   "source": [
    "7 - Imprima sua árvore de decisões"
   ]
  },
  {
   "cell_type": "code",
   "execution_count": null,
   "id": "a013f5e3",
   "metadata": {},
   "outputs": [],
   "source": [
    "export_graphviz(modelo, # Bote aqui o nome do modelo treinado de decision trees\n",
    "                out_file='tree.dot',\n",
    "                rounded=True,\n",
    "                filled = True,\n",
    "                feature_names = tfidf_vectorizer.get_feature_names_out(), # Esse atributo do vetorizador nos permite transformar as palavras de volta\n",
    "                class_names=['Irrelevante','Relevante'])\n",
    "\n",
    "Source.from_file('tree.dot')"
   ]
  },
  {
   "cell_type": "markdown",
   "id": "ada963f0",
   "metadata": {},
   "source": [
    "8 - Qual o problema com ela?"
   ]
  },
  {
   "cell_type": "markdown",
   "id": "d8dd2851",
   "metadata": {},
   "source": [
    "RESPOSTA:"
   ]
  },
  {
   "cell_type": "markdown",
   "id": "3fa98483",
   "metadata": {},
   "source": [
    "9 - Imprima o número de folhas na árvore (Dica: ISLP, página 358)."
   ]
  },
  {
   "cell_type": "code",
   "execution_count": null,
   "id": "8be3293d",
   "metadata": {},
   "outputs": [],
   "source": []
  },
  {
   "cell_type": "markdown",
   "id": "5dbe38f0",
   "metadata": {},
   "source": [
    "10 - Faça as predições do modelo no banco de teste utilizando o X_teste vetorizado:"
   ]
  },
  {
   "cell_type": "code",
   "execution_count": null,
   "id": "a0b1f48b",
   "metadata": {},
   "outputs": [],
   "source": []
  },
  {
   "cell_type": "markdown",
   "id": "953b9a71",
   "metadata": {},
   "source": [
    "11 - Calcule a accuracy do modelo"
   ]
  },
  {
   "cell_type": "code",
   "execution_count": null,
   "id": "ee4ec079",
   "metadata": {},
   "outputs": [],
   "source": []
  },
  {
   "cell_type": "markdown",
   "id": "3753cfd2",
   "metadata": {},
   "source": [
    "12 - Faça a matriz de confusão do modelo"
   ]
  },
  {
   "cell_type": "code",
   "execution_count": null,
   "id": "637a2cad",
   "metadata": {},
   "outputs": [],
   "source": []
  },
  {
   "cell_type": "markdown",
   "id": "c802ae4e",
   "metadata": {},
   "source": [
    "13 - Por fim, imprima o relatório de classificação:"
   ]
  },
  {
   "cell_type": "code",
   "execution_count": null,
   "id": "6c0864e4",
   "metadata": {},
   "outputs": [],
   "source": []
  },
  {
   "cell_type": "markdown",
   "id": "bc39557b",
   "metadata": {},
   "source": [
    "14 - Vamos reduzir esta árvore. Utilize o método \"cost_complexity_pruning_path\" e o K-fold cross validation (com 5 ou 10 folds) para achar o melhor valor de ccp_alpha. Use o f1-macro como score.\n",
    "\n",
    "[Nota: Talvez demore um pouco para rodar]"
   ]
  },
  {
   "cell_type": "code",
   "execution_count": null,
   "id": "bdb4a625",
   "metadata": {},
   "outputs": [],
   "source": []
  },
  {
   "cell_type": "markdown",
   "id": "9576f535",
   "metadata": {},
   "source": [
    "15 - Imprima a árvore vencedora:"
   ]
  },
  {
   "cell_type": "code",
   "execution_count": null,
   "id": "8f4d1b87",
   "metadata": {},
   "outputs": [],
   "source": []
  },
  {
   "cell_type": "markdown",
   "id": "c94158d6",
   "metadata": {},
   "source": [
    "16 - Imprima o número de folhas na árvore (Dica: ISLP, página 358)."
   ]
  },
  {
   "cell_type": "code",
   "execution_count": null,
   "id": "9e430885",
   "metadata": {},
   "outputs": [],
   "source": []
  },
  {
   "cell_type": "markdown",
   "id": "3c74e06d",
   "metadata": {},
   "source": [
    "17 - Discuta a eficácia da redução do número de folhas."
   ]
  },
  {
   "cell_type": "markdown",
   "id": "fdf63b46",
   "metadata": {},
   "source": [
    "RESPOSTA:"
   ]
  },
  {
   "cell_type": "markdown",
   "id": "e69bf62f",
   "metadata": {},
   "source": [
    "18 - Avalie os resultados do melhor modelo no banco de teste:"
   ]
  },
  {
   "cell_type": "code",
   "execution_count": null,
   "id": "d2ea569a",
   "metadata": {},
   "outputs": [],
   "source": []
  },
  {
   "cell_type": "markdown",
   "id": "dd471b4c",
   "metadata": {},
   "source": [
    "### SVM"
   ]
  },
  {
   "cell_type": "markdown",
   "id": "dcb1ae09",
   "metadata": {},
   "source": [
    "19 - Vamos fazer a classificação de texto utilizando o SVM. Primeiro, vamos garantir que nossas variáveis de texto estão nos conformes. Pegue os vetores de target e de features de treino que você criou no exercício 4 da seção anterior"
   ]
  },
  {
   "cell_type": "code",
   "execution_count": null,
   "id": "664905a9",
   "metadata": {},
   "outputs": [],
   "source": []
  },
  {
   "cell_type": "markdown",
   "id": "3ca9552f",
   "metadata": {},
   "source": [
    "20 - Treine um SVM com Kernel Linear nestes dados, a tarefa é a de classificação de POSICIONAMENTO - COM TODAS AS CLASSES."
   ]
  },
  {
   "cell_type": "code",
   "execution_count": null,
   "id": "9441d8ba",
   "metadata": {},
   "outputs": [],
   "source": [
    "\n",
    "\n"
   ]
  },
  {
   "cell_type": "markdown",
   "id": "f0321c06",
   "metadata": {},
   "source": [
    "21 - Pegue o X_teste criado no exercício 6 da seção anterior e faça as predições com o SVM linear."
   ]
  },
  {
   "cell_type": "code",
   "execution_count": null,
   "id": "9b39743b",
   "metadata": {},
   "outputs": [],
   "source": []
  },
  {
   "cell_type": "markdown",
   "id": "93208fa5",
   "metadata": {},
   "source": [
    "22 - Calcule a accuracy do SVM linear"
   ]
  },
  {
   "cell_type": "code",
   "execution_count": null,
   "id": "bd6a84d6",
   "metadata": {},
   "outputs": [],
   "source": []
  },
  {
   "cell_type": "markdown",
   "id": "03357cb6",
   "metadata": {},
   "source": [
    "23 - Imprima o relatório de classificação"
   ]
  },
  {
   "cell_type": "code",
   "execution_count": null,
   "id": "3dbdd7a6",
   "metadata": {},
   "outputs": [],
   "source": []
  },
  {
   "cell_type": "markdown",
   "id": "76231574",
   "metadata": {},
   "source": [
    "24 - Discuta os resultados em relação ao Decision Tree."
   ]
  },
  {
   "cell_type": "markdown",
   "id": "b073536f",
   "metadata": {},
   "source": [
    "RESPOSTA:"
   ]
  },
  {
   "cell_type": "markdown",
   "id": "2063e28d",
   "metadata": {},
   "source": [
    "25 - Faça um grid search com o SVM linear explorando diferentes valores de C, além de utilizar um 5-fold cross validation. No score, utilize o f1_macro."
   ]
  },
  {
   "cell_type": "code",
   "execution_count": null,
   "id": "61338e93",
   "metadata": {},
   "outputs": [],
   "source": []
  },
  {
   "cell_type": "markdown",
   "id": "01d80a46",
   "metadata": {},
   "source": [
    "26 - Imprima o melhor valor de C"
   ]
  },
  {
   "cell_type": "code",
   "execution_count": null,
   "id": "ed45b3aa",
   "metadata": {},
   "outputs": [],
   "source": []
  },
  {
   "cell_type": "markdown",
   "id": "46a3c287",
   "metadata": {},
   "source": [
    "27- Faça as predições no banco de teste com o melhor modelo do grid_search"
   ]
  },
  {
   "cell_type": "code",
   "execution_count": null,
   "id": "5253d01f",
   "metadata": {},
   "outputs": [],
   "source": []
  },
  {
   "cell_type": "markdown",
   "id": "c021bf65",
   "metadata": {},
   "source": [
    "28 - Discuta os resultados do modelo"
   ]
  },
  {
   "cell_type": "markdown",
   "id": "8f044aec",
   "metadata": {},
   "source": [
    "RESPOSTA:"
   ]
  },
  {
   "cell_type": "markdown",
   "id": "f81082d1",
   "metadata": {},
   "source": [
    "29 - Faça um gridsearch com um SVM de kernel não linear com 5-fold cross-validation."
   ]
  },
  {
   "cell_type": "code",
   "execution_count": null,
   "id": "5806897b",
   "metadata": {},
   "outputs": [],
   "source": []
  },
  {
   "cell_type": "markdown",
   "id": "842006c8",
   "metadata": {},
   "source": [
    "30 - Imprima os melhores parâmetros"
   ]
  },
  {
   "cell_type": "code",
   "execution_count": null,
   "id": "27043b14",
   "metadata": {},
   "outputs": [],
   "source": []
  },
  {
   "cell_type": "markdown",
   "id": "cc6c0950",
   "metadata": {},
   "source": [
    "31 - Faça a predição no banco de teste e imprima o relatório de classificação"
   ]
  },
  {
   "cell_type": "code",
   "execution_count": null,
   "id": "68c95b6e",
   "metadata": {},
   "outputs": [],
   "source": []
  }
 ],
 "metadata": {
  "colab": {
   "provenance": []
  },
  "kernelspec": {
   "display_name": "base",
   "language": "python",
   "name": "python3"
  },
  "language_info": {
   "codemirror_mode": {
    "name": "ipython",
    "version": 3
   },
   "file_extension": ".py",
   "mimetype": "text/x-python",
   "name": "python",
   "nbconvert_exporter": "python",
   "pygments_lexer": "ipython3",
   "version": "3.12.7"
  }
 },
 "nbformat": 4,
 "nbformat_minor": 5
}
