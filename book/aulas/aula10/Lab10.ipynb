{
 "cells": [
  {
   "cell_type": "markdown",
   "id": "dc02567a",
   "metadata": {
    "id": "dc02567a"
   },
   "source": [
    "# Laboratório 10\n",
    "\n",
    "Nota: Substitua os seus nomes e informações abaixo antes do envio da atividade. A atividade deve ser enviada no `Moodle` da disciplina, e o arquivo **DEVE** estar no formato `.ipynb`.\n",
    "\n",
    "[Nome Aluno 1] / [NUSP Aluno 1] / [Vespertino/Noturno]\n",
    "\n",
    "[Nome Aluno 2] / [NUSP Aluno 2] / [Vespertino/Noturno]\n"
   ]
  },
  {
   "cell_type": "markdown",
   "id": "57dbab85",
   "metadata": {},
   "source": [
    "## Exercícios"
   ]
  },
  {
   "cell_type": "markdown",
   "id": "08b25937",
   "metadata": {},
   "source": [
    "Agora, você irá rodar um modelo de decision trees na classificação de tweets. Primeiro, vamos importar o banco de dados e pré-processar o texto como fizemos anteriormente."
   ]
  },
  {
   "cell_type": "code",
   "execution_count": null,
   "id": "88a9047e",
   "metadata": {},
   "outputs": [
    {
     "data": {
      "application/vnd.google.colaboratory.intrinsic+json": {
       "summary": "{\n  \"name\": \"df_ex\",\n  \"rows\": 3002,\n  \"fields\": [\n    {\n      \"column\": \"tweet_id\",\n      \"properties\": {\n        \"dtype\": \"string\",\n        \"num_unique_values\": 3002,\n        \"samples\": [\n          \"B2115\",\n          \"A1796\",\n          \"A2048\"\n        ],\n        \"semantic_type\": \"\",\n        \"description\": \"\"\n      }\n    },\n    {\n      \"column\": \"content\",\n      \"properties\": {\n        \"dtype\": \"string\",\n        \"num_unique_values\": 2994,\n        \"samples\": [\n          \"#FiqueEmCasa N\\u00e3o siga o que fala #BolsonaroGenocida! #ForaBolsonaroeMour\\u00e3o\\\\n\\\\nA Bahia registra 8.443 casos confirmados de #Coronav\\u00edrus Covid-19. O n\\u00famero de 2.199 pacientes recuperados e 295 \\u00f3bitos. Na Bahia, 1.073 profissionais da sa\\u00fade foram confirmados para #Covid_19. \",\n          \"O Brasil \\u00e9 \\u00fanico pa\\u00eds do mundo sem Ministro da Sa\\u00fade e Educa\\u00e7\\u00e3o. N\\u00e3o temos diretrizes claras p/ combate \\u00e0 maior crise sanit\\u00e1ria (2\\u00ba pa\\u00eds em n\\u00ba \\u00f3bitos), econ\\u00f4mica (retra\\u00e7\\u00e3o 6,4% do PIB) e social (10 milh\\u00f5es desempregados). J\\u00e1 derrubamos o mito, agora \\u00e9 preciso tirar Bolsonaro!\",\n          \"Cientistas da Universidade de Oxford, respons\\u00e1veis pelos estudos mais promissore... https://t.co/HZ1bQR6WMd https://t.co/qrArLx13wI\"\n        ],\n        \"semantic_type\": \"\",\n        \"description\": \"\"\n      }\n    },\n    {\n      \"column\": \"Corrected_sentimento\",\n      \"properties\": {\n        \"dtype\": \"category\",\n        \"num_unique_values\": 3,\n        \"samples\": [\n          \"negative\",\n          \"positive\",\n          \"unclear\"\n        ],\n        \"semantic_type\": \"\",\n        \"description\": \"\"\n      }\n    },\n    {\n      \"column\": \"Corrected_stance\",\n      \"properties\": {\n        \"dtype\": \"category\",\n        \"num_unique_values\": 3,\n        \"samples\": [\n          \"favorable\",\n          \"unclear\",\n          \"unfavorable\"\n        ],\n        \"semantic_type\": \"\",\n        \"description\": \"\"\n      }\n    },\n    {\n      \"column\": \"Corrected_relevante\",\n      \"properties\": {\n        \"dtype\": \"category\",\n        \"num_unique_values\": 2,\n        \"samples\": [\n          \"irrelevant\",\n          \"relevant\"\n        ],\n        \"semantic_type\": \"\",\n        \"description\": \"\"\n      }\n    },\n    {\n      \"column\": \"Corrected_children\",\n      \"properties\": {\n        \"dtype\": \"category\",\n        \"num_unique_values\": 3,\n        \"samples\": [\n          \"true\",\n          \"false\"\n        ],\n        \"semantic_type\": \"\",\n        \"description\": \"\"\n      }\n    },\n    {\n      \"column\": \"round\",\n      \"properties\": {\n        \"dtype\": \"number\",\n        \"std\": 7,\n        \"min\": 1,\n        \"max\": 27,\n        \"num_unique_values\": 27,\n        \"samples\": [\n          9,\n          14\n        ],\n        \"semantic_type\": \"\",\n        \"description\": \"\"\n      }\n    },\n    {\n      \"column\": \"date_post\",\n      \"properties\": {\n        \"dtype\": \"object\",\n        \"num_unique_values\": 352,\n        \"samples\": [\n          \"2020-01-16\",\n          \"2020-03-15\"\n        ],\n        \"semantic_type\": \"\",\n        \"description\": \"\"\n      }\n    },\n    {\n      \"column\": \"year\",\n      \"properties\": {\n        \"dtype\": \"number\",\n        \"std\": 0,\n        \"min\": 2020,\n        \"max\": 2020,\n        \"num_unique_values\": 1,\n        \"samples\": [\n          2020\n        ],\n        \"semantic_type\": \"\",\n        \"description\": \"\"\n      }\n    }\n  ]\n}",
       "type": "dataframe",
       "variable_name": "df_ex"
      },
      "text/html": [
       "\n",
       "  <div id=\"df-1ed00d57-9bad-4b6b-b432-056260585e9f\" class=\"colab-df-container\">\n",
       "    <div>\n",
       "<style scoped>\n",
       "    .dataframe tbody tr th:only-of-type {\n",
       "        vertical-align: middle;\n",
       "    }\n",
       "\n",
       "    .dataframe tbody tr th {\n",
       "        vertical-align: top;\n",
       "    }\n",
       "\n",
       "    .dataframe thead th {\n",
       "        text-align: right;\n",
       "    }\n",
       "</style>\n",
       "<table border=\"1\" class=\"dataframe\">\n",
       "  <thead>\n",
       "    <tr style=\"text-align: right;\">\n",
       "      <th></th>\n",
       "      <th>tweet_id</th>\n",
       "      <th>content</th>\n",
       "      <th>Corrected_sentimento</th>\n",
       "      <th>Corrected_stance</th>\n",
       "      <th>Corrected_relevante</th>\n",
       "      <th>Corrected_children</th>\n",
       "      <th>round</th>\n",
       "      <th>date_post</th>\n",
       "      <th>year</th>\n",
       "    </tr>\n",
       "  </thead>\n",
       "  <tbody>\n",
       "    <tr>\n",
       "      <th>0</th>\n",
       "      <td>A522</td>\n",
       "      <td>A cabeça pensa onde o pé pisa. Quem governa de...</td>\n",
       "      <td>negative</td>\n",
       "      <td>favorable</td>\n",
       "      <td>relevant</td>\n",
       "      <td>true</td>\n",
       "      <td>1</td>\n",
       "      <td>2020-09-15</td>\n",
       "      <td>2020</td>\n",
       "    </tr>\n",
       "    <tr>\n",
       "      <th>1</th>\n",
       "      <td>A457</td>\n",
       "      <td>Sarto vai fazer um grande Programa de Enfrenta...</td>\n",
       "      <td>positive</td>\n",
       "      <td>favorable</td>\n",
       "      <td>relevant</td>\n",
       "      <td>false</td>\n",
       "      <td>1</td>\n",
       "      <td>2020-11-20</td>\n",
       "      <td>2020</td>\n",
       "    </tr>\n",
       "    <tr>\n",
       "      <th>2</th>\n",
       "      <td>A445</td>\n",
       "      <td>A Câmara dos Deputados votou hoje a MP que tra...</td>\n",
       "      <td>negative</td>\n",
       "      <td>favorable</td>\n",
       "      <td>relevant</td>\n",
       "      <td>false</td>\n",
       "      <td>1</td>\n",
       "      <td>2020-12-18</td>\n",
       "      <td>2020</td>\n",
       "    </tr>\n",
       "    <tr>\n",
       "      <th>3</th>\n",
       "      <td>A546</td>\n",
       "      <td>Tirar Bolsonaro do poder é uma questão de vida...</td>\n",
       "      <td>negative</td>\n",
       "      <td>favorable</td>\n",
       "      <td>relevant</td>\n",
       "      <td>false</td>\n",
       "      <td>1</td>\n",
       "      <td>2020-11-10</td>\n",
       "      <td>2020</td>\n",
       "    </tr>\n",
       "    <tr>\n",
       "      <th>4</th>\n",
       "      <td>A847</td>\n",
       "      <td>E a LIESA decidiu adiar os desfiles do #Carnav...</td>\n",
       "      <td>negative</td>\n",
       "      <td>favorable</td>\n",
       "      <td>relevant</td>\n",
       "      <td>false</td>\n",
       "      <td>1</td>\n",
       "      <td>2020-09-24</td>\n",
       "      <td>2020</td>\n",
       "    </tr>\n",
       "  </tbody>\n",
       "</table>\n",
       "</div>\n",
       "    <div class=\"colab-df-buttons\">\n",
       "\n",
       "  <div class=\"colab-df-container\">\n",
       "    <button class=\"colab-df-convert\" onclick=\"convertToInteractive('df-1ed00d57-9bad-4b6b-b432-056260585e9f')\"\n",
       "            title=\"Convert this dataframe to an interactive table.\"\n",
       "            style=\"display:none;\">\n",
       "\n",
       "  <svg xmlns=\"http://www.w3.org/2000/svg\" height=\"24px\" viewBox=\"0 -960 960 960\">\n",
       "    <path d=\"M120-120v-720h720v720H120Zm60-500h600v-160H180v160Zm220 220h160v-160H400v160Zm0 220h160v-160H400v160ZM180-400h160v-160H180v160Zm440 0h160v-160H620v160ZM180-180h160v-160H180v160Zm440 0h160v-160H620v160Z\"/>\n",
       "  </svg>\n",
       "    </button>\n",
       "\n",
       "  <style>\n",
       "    .colab-df-container {\n",
       "      display:flex;\n",
       "      gap: 12px;\n",
       "    }\n",
       "\n",
       "    .colab-df-convert {\n",
       "      background-color: #E8F0FE;\n",
       "      border: none;\n",
       "      border-radius: 50%;\n",
       "      cursor: pointer;\n",
       "      display: none;\n",
       "      fill: #1967D2;\n",
       "      height: 32px;\n",
       "      padding: 0 0 0 0;\n",
       "      width: 32px;\n",
       "    }\n",
       "\n",
       "    .colab-df-convert:hover {\n",
       "      background-color: #E2EBFA;\n",
       "      box-shadow: 0px 1px 2px rgba(60, 64, 67, 0.3), 0px 1px 3px 1px rgba(60, 64, 67, 0.15);\n",
       "      fill: #174EA6;\n",
       "    }\n",
       "\n",
       "    .colab-df-buttons div {\n",
       "      margin-bottom: 4px;\n",
       "    }\n",
       "\n",
       "    [theme=dark] .colab-df-convert {\n",
       "      background-color: #3B4455;\n",
       "      fill: #D2E3FC;\n",
       "    }\n",
       "\n",
       "    [theme=dark] .colab-df-convert:hover {\n",
       "      background-color: #434B5C;\n",
       "      box-shadow: 0px 1px 3px 1px rgba(0, 0, 0, 0.15);\n",
       "      filter: drop-shadow(0px 1px 2px rgba(0, 0, 0, 0.3));\n",
       "      fill: #FFFFFF;\n",
       "    }\n",
       "  </style>\n",
       "\n",
       "    <script>\n",
       "      const buttonEl =\n",
       "        document.querySelector('#df-1ed00d57-9bad-4b6b-b432-056260585e9f button.colab-df-convert');\n",
       "      buttonEl.style.display =\n",
       "        google.colab.kernel.accessAllowed ? 'block' : 'none';\n",
       "\n",
       "      async function convertToInteractive(key) {\n",
       "        const element = document.querySelector('#df-1ed00d57-9bad-4b6b-b432-056260585e9f');\n",
       "        const dataTable =\n",
       "          await google.colab.kernel.invokeFunction('convertToInteractive',\n",
       "                                                    [key], {});\n",
       "        if (!dataTable) return;\n",
       "\n",
       "        const docLinkHtml = 'Like what you see? Visit the ' +\n",
       "          '<a target=\"_blank\" href=https://colab.research.google.com/notebooks/data_table.ipynb>data table notebook</a>'\n",
       "          + ' to learn more about interactive tables.';\n",
       "        element.innerHTML = '';\n",
       "        dataTable['output_type'] = 'display_data';\n",
       "        await google.colab.output.renderOutput(dataTable, element);\n",
       "        const docLink = document.createElement('div');\n",
       "        docLink.innerHTML = docLinkHtml;\n",
       "        element.appendChild(docLink);\n",
       "      }\n",
       "    </script>\n",
       "  </div>\n",
       "\n",
       "\n",
       "<div id=\"df-c89ada7b-fcb5-4da4-a4c0-3bab7f4c408b\">\n",
       "  <button class=\"colab-df-quickchart\" onclick=\"quickchart('df-c89ada7b-fcb5-4da4-a4c0-3bab7f4c408b')\"\n",
       "            title=\"Suggest charts\"\n",
       "            style=\"display:none;\">\n",
       "\n",
       "<svg xmlns=\"http://www.w3.org/2000/svg\" height=\"24px\"viewBox=\"0 0 24 24\"\n",
       "     width=\"24px\">\n",
       "    <g>\n",
       "        <path d=\"M19 3H5c-1.1 0-2 .9-2 2v14c0 1.1.9 2 2 2h14c1.1 0 2-.9 2-2V5c0-1.1-.9-2-2-2zM9 17H7v-7h2v7zm4 0h-2V7h2v10zm4 0h-2v-4h2v4z\"/>\n",
       "    </g>\n",
       "</svg>\n",
       "  </button>\n",
       "\n",
       "<style>\n",
       "  .colab-df-quickchart {\n",
       "      --bg-color: #E8F0FE;\n",
       "      --fill-color: #1967D2;\n",
       "      --hover-bg-color: #E2EBFA;\n",
       "      --hover-fill-color: #174EA6;\n",
       "      --disabled-fill-color: #AAA;\n",
       "      --disabled-bg-color: #DDD;\n",
       "  }\n",
       "\n",
       "  [theme=dark] .colab-df-quickchart {\n",
       "      --bg-color: #3B4455;\n",
       "      --fill-color: #D2E3FC;\n",
       "      --hover-bg-color: #434B5C;\n",
       "      --hover-fill-color: #FFFFFF;\n",
       "      --disabled-bg-color: #3B4455;\n",
       "      --disabled-fill-color: #666;\n",
       "  }\n",
       "\n",
       "  .colab-df-quickchart {\n",
       "    background-color: var(--bg-color);\n",
       "    border: none;\n",
       "    border-radius: 50%;\n",
       "    cursor: pointer;\n",
       "    display: none;\n",
       "    fill: var(--fill-color);\n",
       "    height: 32px;\n",
       "    padding: 0;\n",
       "    width: 32px;\n",
       "  }\n",
       "\n",
       "  .colab-df-quickchart:hover {\n",
       "    background-color: var(--hover-bg-color);\n",
       "    box-shadow: 0 1px 2px rgba(60, 64, 67, 0.3), 0 1px 3px 1px rgba(60, 64, 67, 0.15);\n",
       "    fill: var(--button-hover-fill-color);\n",
       "  }\n",
       "\n",
       "  .colab-df-quickchart-complete:disabled,\n",
       "  .colab-df-quickchart-complete:disabled:hover {\n",
       "    background-color: var(--disabled-bg-color);\n",
       "    fill: var(--disabled-fill-color);\n",
       "    box-shadow: none;\n",
       "  }\n",
       "\n",
       "  .colab-df-spinner {\n",
       "    border: 2px solid var(--fill-color);\n",
       "    border-color: transparent;\n",
       "    border-bottom-color: var(--fill-color);\n",
       "    animation:\n",
       "      spin 1s steps(1) infinite;\n",
       "  }\n",
       "\n",
       "  @keyframes spin {\n",
       "    0% {\n",
       "      border-color: transparent;\n",
       "      border-bottom-color: var(--fill-color);\n",
       "      border-left-color: var(--fill-color);\n",
       "    }\n",
       "    20% {\n",
       "      border-color: transparent;\n",
       "      border-left-color: var(--fill-color);\n",
       "      border-top-color: var(--fill-color);\n",
       "    }\n",
       "    30% {\n",
       "      border-color: transparent;\n",
       "      border-left-color: var(--fill-color);\n",
       "      border-top-color: var(--fill-color);\n",
       "      border-right-color: var(--fill-color);\n",
       "    }\n",
       "    40% {\n",
       "      border-color: transparent;\n",
       "      border-right-color: var(--fill-color);\n",
       "      border-top-color: var(--fill-color);\n",
       "    }\n",
       "    60% {\n",
       "      border-color: transparent;\n",
       "      border-right-color: var(--fill-color);\n",
       "    }\n",
       "    80% {\n",
       "      border-color: transparent;\n",
       "      border-right-color: var(--fill-color);\n",
       "      border-bottom-color: var(--fill-color);\n",
       "    }\n",
       "    90% {\n",
       "      border-color: transparent;\n",
       "      border-bottom-color: var(--fill-color);\n",
       "    }\n",
       "  }\n",
       "</style>\n",
       "\n",
       "  <script>\n",
       "    async function quickchart(key) {\n",
       "      const quickchartButtonEl =\n",
       "        document.querySelector('#' + key + ' button');\n",
       "      quickchartButtonEl.disabled = true;  // To prevent multiple clicks.\n",
       "      quickchartButtonEl.classList.add('colab-df-spinner');\n",
       "      try {\n",
       "        const charts = await google.colab.kernel.invokeFunction(\n",
       "            'suggestCharts', [key], {});\n",
       "      } catch (error) {\n",
       "        console.error('Error during call to suggestCharts:', error);\n",
       "      }\n",
       "      quickchartButtonEl.classList.remove('colab-df-spinner');\n",
       "      quickchartButtonEl.classList.add('colab-df-quickchart-complete');\n",
       "    }\n",
       "    (() => {\n",
       "      let quickchartButtonEl =\n",
       "        document.querySelector('#df-c89ada7b-fcb5-4da4-a4c0-3bab7f4c408b button');\n",
       "      quickchartButtonEl.style.display =\n",
       "        google.colab.kernel.accessAllowed ? 'block' : 'none';\n",
       "    })();\n",
       "  </script>\n",
       "</div>\n",
       "\n",
       "    </div>\n",
       "  </div>\n"
      ],
      "text/plain": [
       "  tweet_id                                            content  \\\n",
       "0     A522  A cabeça pensa onde o pé pisa. Quem governa de...   \n",
       "1     A457  Sarto vai fazer um grande Programa de Enfrenta...   \n",
       "2     A445  A Câmara dos Deputados votou hoje a MP que tra...   \n",
       "3     A546  Tirar Bolsonaro do poder é uma questão de vida...   \n",
       "4     A847  E a LIESA decidiu adiar os desfiles do #Carnav...   \n",
       "\n",
       "  Corrected_sentimento Corrected_stance Corrected_relevante  \\\n",
       "0             negative        favorable            relevant   \n",
       "1             positive        favorable            relevant   \n",
       "2             negative        favorable            relevant   \n",
       "3             negative        favorable            relevant   \n",
       "4             negative        favorable            relevant   \n",
       "\n",
       "  Corrected_children  round   date_post  year  \n",
       "0               true      1  2020-09-15  2020  \n",
       "1              false      1  2020-11-20  2020  \n",
       "2              false      1  2020-12-18  2020  \n",
       "3              false      1  2020-11-10  2020  \n",
       "4              false      1  2020-09-24  2020  "
      ]
     },
     "metadata": {},
     "output_type": "display_data"
    }
   ],
   "source": [
    "import pandas as pd\n",
    "\n",
    "caminho = 'https://github.com/NUPRAM/CoViD-Pol/raw/main/Covid-Pol_Corpus_v2.0.csv'\n",
    "\n",
    "df_ex = pd.read_csv(caminho)\n",
    "\n",
    "df_ex.head()"
   ]
  },
  {
   "cell_type": "markdown",
   "id": "6ccef09c",
   "metadata": {},
   "source": [
    "1 - Faça o pré-processamento da coluna de texto:"
   ]
  },
  {
   "cell_type": "code",
   "execution_count": null,
   "id": "6db243c1",
   "metadata": {},
   "outputs": [],
   "source": []
  },
  {
   "cell_type": "markdown",
   "id": "d20e9f2d",
   "metadata": {},
   "source": [
    "2 - Remova as observações que não são relacionadas com vacinas e extraia o target (Posicionamento com as três classes) e as features (coluna de texto processada)"
   ]
  },
  {
   "cell_type": "code",
   "execution_count": null,
   "id": "e80877af",
   "metadata": {},
   "outputs": [],
   "source": []
  },
  {
   "cell_type": "markdown",
   "id": "a87b1287",
   "metadata": {},
   "source": [
    "3 - Faça a divisão entre treino e teste, deixando 20% para teste"
   ]
  },
  {
   "cell_type": "code",
   "execution_count": null,
   "id": "db3922b2",
   "metadata": {},
   "outputs": [],
   "source": []
  },
  {
   "cell_type": "markdown",
   "id": "1b07d108",
   "metadata": {},
   "source": [
    "4 - Pegue o dicionário de stopwords em português utilizado na última aula. Agora, transforme o X_treino utilizando o vetorizador tfidf com o dicionário de stopwords"
   ]
  },
  {
   "cell_type": "code",
   "execution_count": null,
   "id": "8bf31c2f",
   "metadata": {},
   "outputs": [],
   "source": [
    "\n",
    "\n",
    "\n"
   ]
  },
  {
   "cell_type": "markdown",
   "id": "dcec25c6",
   "metadata": {},
   "source": [
    "5 - Treine um modelo de Decision Tree para POSICIONAMENTO com esses dados de treino."
   ]
  },
  {
   "cell_type": "code",
   "execution_count": null,
   "id": "28d04983",
   "metadata": {},
   "outputs": [],
   "source": [
    "\n"
   ]
  },
  {
   "cell_type": "markdown",
   "id": "002071ad",
   "metadata": {},
   "source": [
    " Para podermos avaliar o modelo precisamos transformar o X de teste de forma separada. Fazemos deste modo para evitar o problema de \"Data Leakage\", em que o modelo aprende com informações do banco de teste. Se tívessemos transformado todo o banco de texto de uma vez, teríamos tido este problema."
   ]
  },
  {
   "cell_type": "markdown",
   "id": "28760e5c",
   "metadata": {},
   "source": [
    "6 - Transforme o X_teste utilizando \"tfidf_vectorizer.transform()\" ao invés de \"tfidf_vectorizer.fit_transform()\"."
   ]
  },
  {
   "cell_type": "code",
   "execution_count": null,
   "id": "0a82c800",
   "metadata": {},
   "outputs": [],
   "source": []
  },
  {
   "cell_type": "markdown",
   "id": "0275aac5",
   "metadata": {},
   "source": [
    "7 - Imprima sua árvore de decisões"
   ]
  },
  {
   "cell_type": "code",
   "execution_count": null,
   "id": "a013f5e3",
   "metadata": {},
   "outputs": [],
   "source": [
    "export_graphviz(modelo, # Bote aqui o nome do modelo treinado de decision trees\n",
    "                out_file='tree.dot',\n",
    "                rounded=True,\n",
    "                filled = True,\n",
    "                feature_names = tfidf_vectorizer.get_feature_names_out(), # Esse atributo do vetorizador nos permite transformar as palavras de volta\n",
    "                class_names=['Irrelevante','Relevante'])\n",
    "\n",
    "Source.from_file('tree.dot')"
   ]
  },
  {
   "cell_type": "markdown",
   "id": "ada963f0",
   "metadata": {},
   "source": [
    "8 - Qual o problema com ela?"
   ]
  },
  {
   "cell_type": "markdown",
   "id": "d8dd2851",
   "metadata": {},
   "source": [
    "RESPOSTA:"
   ]
  },
  {
   "cell_type": "markdown",
   "id": "3fa98483",
   "metadata": {},
   "source": [
    "9 - Imprima o número de folhas na árvore (Dica: ISLP, página 358)."
   ]
  },
  {
   "cell_type": "code",
   "execution_count": null,
   "id": "8be3293d",
   "metadata": {},
   "outputs": [],
   "source": []
  },
  {
   "cell_type": "markdown",
   "id": "5dbe38f0",
   "metadata": {},
   "source": [
    "10 - Faça as predições do modelo no banco de teste utilizando o X_teste vetorizado:"
   ]
  },
  {
   "cell_type": "code",
   "execution_count": null,
   "id": "a0b1f48b",
   "metadata": {},
   "outputs": [],
   "source": []
  },
  {
   "cell_type": "markdown",
   "id": "953b9a71",
   "metadata": {},
   "source": [
    "11 - Calcule a accuracy do modelo"
   ]
  },
  {
   "cell_type": "code",
   "execution_count": null,
   "id": "ee4ec079",
   "metadata": {},
   "outputs": [],
   "source": []
  },
  {
   "cell_type": "markdown",
   "id": "3753cfd2",
   "metadata": {},
   "source": [
    "12 - Faça a matriz de confusão do modelo"
   ]
  },
  {
   "cell_type": "code",
   "execution_count": null,
   "id": "637a2cad",
   "metadata": {},
   "outputs": [],
   "source": []
  },
  {
   "cell_type": "markdown",
   "id": "c802ae4e",
   "metadata": {},
   "source": [
    "13 - Por fim, imprima o relatório de classificação:"
   ]
  },
  {
   "cell_type": "code",
   "execution_count": null,
   "id": "6c0864e4",
   "metadata": {},
   "outputs": [],
   "source": []
  },
  {
   "cell_type": "markdown",
   "id": "bc39557b",
   "metadata": {},
   "source": [
    "14 - Vamos reduzir esta árvore. Utilize o método \"cost_complexity_pruning_path\" e o K-fold cross validation (com 5 ou 10 folds) para achar o melhor valor de ccp_alpha. Use o f1-macro como score.\n",
    "\n",
    "[Nota: Talvez demore um pouco para rodar]"
   ]
  },
  {
   "cell_type": "code",
   "execution_count": null,
   "id": "bdb4a625",
   "metadata": {},
   "outputs": [],
   "source": []
  },
  {
   "cell_type": "markdown",
   "id": "9576f535",
   "metadata": {},
   "source": [
    "15 - Imprima a árvore vencedora:"
   ]
  },
  {
   "cell_type": "code",
   "execution_count": null,
   "id": "8f4d1b87",
   "metadata": {},
   "outputs": [],
   "source": []
  },
  {
   "cell_type": "markdown",
   "id": "c94158d6",
   "metadata": {},
   "source": [
    "16 - Imprima o número de folhas na árvore (Dica: ISLP, página 358)."
   ]
  },
  {
   "cell_type": "code",
   "execution_count": null,
   "id": "9e430885",
   "metadata": {},
   "outputs": [],
   "source": []
  },
  {
   "cell_type": "markdown",
   "id": "3c74e06d",
   "metadata": {},
   "source": [
    "17 - Discuta a eficácia da redução do número de folhas."
   ]
  },
  {
   "cell_type": "markdown",
   "id": "fdf63b46",
   "metadata": {},
   "source": [
    "RESPOSTA:"
   ]
  },
  {
   "cell_type": "markdown",
   "id": "e69bf62f",
   "metadata": {},
   "source": [
    "18 - Avalie os resultados do melhor modelo no banco de teste:"
   ]
  },
  {
   "cell_type": "code",
   "execution_count": null,
   "id": "d2ea569a",
   "metadata": {},
   "outputs": [],
   "source": []
  },
  {
   "cell_type": "markdown",
   "id": "dd471b4c",
   "metadata": {},
   "source": [
    "### SVM"
   ]
  },
  {
   "cell_type": "markdown",
   "id": "dcb1ae09",
   "metadata": {},
   "source": [
    "19 - Vamos fazer a classificação de texto utilizando o SVM. Primeiro, vamos garantir que nossas variáveis de texto estão nos conformes. Pegue os vetores de target e de features de treino que você criou no exercício 4 da seção anterior"
   ]
  },
  {
   "cell_type": "code",
   "execution_count": null,
   "id": "664905a9",
   "metadata": {},
   "outputs": [],
   "source": []
  },
  {
   "cell_type": "markdown",
   "id": "3ca9552f",
   "metadata": {},
   "source": [
    "20 - Treine um SVM com Kernel Linear nestes dados, a tarefa é a de classificação de POSICIONAMENTO - COM TODAS AS CLASSES."
   ]
  },
  {
   "cell_type": "code",
   "execution_count": null,
   "id": "9441d8ba",
   "metadata": {},
   "outputs": [],
   "source": [
    "\n",
    "\n"
   ]
  },
  {
   "cell_type": "markdown",
   "id": "f0321c06",
   "metadata": {},
   "source": [
    "21 - Pegue o X_teste criado no exercício 6 da seção anterior e faça as predições com o SVM linear."
   ]
  },
  {
   "cell_type": "code",
   "execution_count": null,
   "id": "9b39743b",
   "metadata": {},
   "outputs": [],
   "source": []
  },
  {
   "cell_type": "markdown",
   "id": "93208fa5",
   "metadata": {},
   "source": [
    "22 - Calcule a accuracy do SVM linear"
   ]
  },
  {
   "cell_type": "code",
   "execution_count": null,
   "id": "bd6a84d6",
   "metadata": {},
   "outputs": [],
   "source": []
  },
  {
   "cell_type": "markdown",
   "id": "03357cb6",
   "metadata": {},
   "source": [
    "23 - Imprima o relatório de classificação"
   ]
  },
  {
   "cell_type": "code",
   "execution_count": null,
   "id": "3dbdd7a6",
   "metadata": {},
   "outputs": [],
   "source": []
  },
  {
   "cell_type": "markdown",
   "id": "76231574",
   "metadata": {},
   "source": [
    "24 - Discuta os resultados em relação ao Decision Tree."
   ]
  },
  {
   "cell_type": "markdown",
   "id": "b073536f",
   "metadata": {},
   "source": [
    "RESPOSTA:"
   ]
  },
  {
   "cell_type": "markdown",
   "id": "2063e28d",
   "metadata": {},
   "source": [
    "25 - Faça um grid search com o SVM linear explorando diferentes valores de C, além de utilizar um 5-fold cross validation. No score, utilize o f1_macro."
   ]
  },
  {
   "cell_type": "code",
   "execution_count": null,
   "id": "61338e93",
   "metadata": {},
   "outputs": [],
   "source": []
  },
  {
   "cell_type": "markdown",
   "id": "01d80a46",
   "metadata": {},
   "source": [
    "26 - Imprima o melhor valor de C"
   ]
  },
  {
   "cell_type": "code",
   "execution_count": null,
   "id": "ed45b3aa",
   "metadata": {},
   "outputs": [],
   "source": []
  },
  {
   "cell_type": "markdown",
   "id": "46a3c287",
   "metadata": {},
   "source": [
    "27- Faça as predições no banco de teste com o melhor modelo do grid_search"
   ]
  },
  {
   "cell_type": "code",
   "execution_count": null,
   "id": "5253d01f",
   "metadata": {},
   "outputs": [],
   "source": []
  },
  {
   "cell_type": "markdown",
   "id": "c021bf65",
   "metadata": {},
   "source": [
    "28 - Discuta os resultados do modelo"
   ]
  },
  {
   "cell_type": "markdown",
   "id": "8f044aec",
   "metadata": {},
   "source": [
    "RESPOSTA:"
   ]
  },
  {
   "cell_type": "markdown",
   "id": "f81082d1",
   "metadata": {},
   "source": [
    "29 - Faça um gridsearch com um SVM de kernel não linear com 5-fold cross-validation."
   ]
  },
  {
   "cell_type": "code",
   "execution_count": null,
   "id": "5806897b",
   "metadata": {},
   "outputs": [],
   "source": []
  },
  {
   "cell_type": "markdown",
   "id": "842006c8",
   "metadata": {},
   "source": [
    "30 - Imprima os melhores parâmetros"
   ]
  },
  {
   "cell_type": "code",
   "execution_count": null,
   "id": "27043b14",
   "metadata": {},
   "outputs": [],
   "source": []
  },
  {
   "cell_type": "markdown",
   "id": "cc6c0950",
   "metadata": {},
   "source": [
    "31 - Faça a predição no banco de teste e imprima o relatório de classificação"
   ]
  },
  {
   "cell_type": "code",
   "execution_count": null,
   "id": "68c95b6e",
   "metadata": {},
   "outputs": [],
   "source": []
  }
 ],
 "metadata": {
  "colab": {
   "provenance": []
  },
  "kernelspec": {
   "display_name": "base",
   "language": "python",
   "name": "python3"
  },
  "language_info": {
   "codemirror_mode": {
    "name": "ipython",
    "version": 3
   },
   "file_extension": ".py",
   "mimetype": "text/x-python",
   "name": "python",
   "nbconvert_exporter": "python",
   "pygments_lexer": "ipython3",
   "version": "3.12.7"
  }
 },
 "nbformat": 4,
 "nbformat_minor": 5
}
