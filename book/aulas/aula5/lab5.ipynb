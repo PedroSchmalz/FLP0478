{
 "cells": [
  {
   "cell_type": "markdown",
   "id": "dc02567a",
   "metadata": {},
   "source": [
    "# Laboratório 5\n",
    "\n",
    "Nota: Substitua os seus nomes e informações abaixo antes do envio da atividade. A atividade deve ser enviada no `Moodle` da disciplina, e o arquivo **DEVE** estar no formato `.ipynb`.\n",
    "\n",
    "[Nome Aluno 1] / [NUSP Aluno 1] / [Vespertino/Noturno]\n",
    "\n",
    "[Nome Aluno 2] / [NUSP Aluno 2] / [Vespertino/Noturno]\n"
   ]
  },
  {
   "cell_type": "markdown",
   "id": "73bac9d3",
   "metadata": {},
   "source": [
    "## Exercícios"
   ]
  },
  {
   "cell_type": "markdown",
   "id": "35d34472",
   "metadata": {},
   "source": [
    "<p align=\"justify\">1 - Crie um gráfico de linha simples que mostre a evolução do preço de uma ação ao longo de vários dias. Use datas no eixo X e preços no eixo Y. Estabeleça nomes para os eixos X e Y; Adicione uma legenda e exiba o gráfico final."
   ]
  },
  {
   "cell_type": "code",
   "execution_count": null,
   "id": "79fde3c6",
   "metadata": {},
   "outputs": [],
   "source": [
    "# Dados fictícios de preço de ação ao longo de cinco dias\n",
    "dias = ['Dia 1', 'Dia 2', 'Dia 3', 'Dia 4', 'Dia 5']\n",
    "preco_acao = [100, 105, 110, 108, 115]\n"
   ]
  },
  {
   "cell_type": "markdown",
   "id": "e7bde85b",
   "metadata": {},
   "source": [
    "<p align=\"justify\">2 - Com base nos seguintes dados, escolha a visualização mais apropriada e a execute. Não esqueça de alterar seu gráfico, colocando títulos, legendas, e escolhendo cores e rótulos quando adequado:"
   ]
  },
  {
   "cell_type": "markdown",
   "id": "099c6098",
   "metadata": {},
   "source": [
    "a) Temperaturas diárias:"
   ]
  },
  {
   "cell_type": "code",
   "execution_count": null,
   "id": "64bd5078",
   "metadata": {},
   "outputs": [],
   "source": [
    "import random\n",
    "\n",
    "random.seed(42) # Semente para garantir a estabilidade dos valores\n",
    "\n",
    "# Dados Fictícios: Temperatura diária registrada durante um mês\n",
    "dias = list(range(1, 31))\n",
    "temperaturas = [random.uniform(20, 30) for _ in dias]\n",
    "\n",
    "# Escolha a visualização apropriada e crie o gráfico correspondente\n",
    "# Insira seu código aqui\n"
   ]
  },
  {
   "cell_type": "markdown",
   "id": "9d31213a",
   "metadata": {},
   "source": [
    "b) Produtos:"
   ]
  },
  {
   "cell_type": "code",
   "execution_count": null,
   "id": "a0d98e4c",
   "metadata": {},
   "outputs": [],
   "source": [
    "\n",
    "# Dados Fictícios: Vendas mensais de diferentes produtos em uma loja\n",
    "produtos = [\"Produto A\", \"Produto B\", \"Produto C\", \"Produto D\"]\n",
    "vendas = [random.randint(100, 500) for _ in produtos]\n",
    "\n",
    "# Escolha a visualização apropriada e crie o gráfico correspondente\n",
    "# Insira seu código aqui"
   ]
  },
  {
   "cell_type": "markdown",
   "id": "e8a31305",
   "metadata": {},
   "source": [
    "c) Idade e satisfação:"
   ]
  },
  {
   "cell_type": "code",
   "execution_count": null,
   "id": "dc702ec4",
   "metadata": {},
   "outputs": [],
   "source": [
    "# Dados Fictícios: Relação entre a idade e o nível de satisfação de clientes\n",
    "idades = [random.randint(18, 70) for _ in range(100)]\n",
    "satisfacao = [random.uniform(1, 5) for _ in idades]\n",
    "\n"
   ]
  },
  {
   "cell_type": "markdown",
   "id": "532b5b60",
   "metadata": {},
   "source": [
    "d) Salário:"
   ]
  },
  {
   "cell_type": "code",
   "execution_count": null,
   "id": "cde61eb9",
   "metadata": {},
   "outputs": [],
   "source": [
    "# Gerar dados fictícios (salário)\n",
    "salario = [random.randint(1300, 8000) for _ in range(100)]\n"
   ]
  },
  {
   "cell_type": "markdown",
   "id": "64253d3a",
   "metadata": {},
   "source": [
    "<p align=\"justify\">3 - Com base em X, plote em cada subplot indicado o valor pedido. No eixo X, sempre deixe o valor base de X:"
   ]
  },
  {
   "cell_type": "code",
   "execution_count": null,
   "id": "39165679",
   "metadata": {},
   "outputs": [
    {
     "data": {
      "image/png": "[encoded data removed]",
      "text/plain": [
       "<Figure size 640x480 with 1 Axes>"
      ]
     },
     "metadata": {},
     "output_type": "display_data"
    }
   ],
   "source": [
    "# Crie um array de valores x\n",
    "x = np.linspace(0, 2 * np.pi, 100)\n",
    "\n",
    "# Crie uma figura com um grid de subplots (2x2)\n",
    "fig = plt.figure()\n",
    "\n",
    "# Plote sen(x) no primeiro subplot (superior esquerdo) - use np.sin\n",
    "\n",
    "# Subplot da célula (1,1)\n",
    "\n",
    "ax1 = fig.add_subplot(2,2,1)\n",
    "\n",
    "\n",
    "# Plote cos(x) no segundo subplot (superior direito) - Use np.cos\n",
    "\n",
    "\n",
    "\n",
    "# Plote sen(2x) no terceiro subplot (inferior esquerdo) - np.sin(2*x)\n",
    "\n",
    "\n",
    "\n",
    "# Plote cos(2x) no quarto subplot (inferior direito)\n",
    "\n",
    "\n",
    "\n",
    "\n"
   ]
  },
  {
   "cell_type": "markdown",
   "id": "d8bbcfa4",
   "metadata": {},
   "source": [
    "<p align=\"justify\">4 - Com base nas três variáveis a seguir, crie um gráfico de linhas que as coloque no mesmo plot, dando cores e estilos de linhas diferentes para cada uma delas, além de acrescentar a legenda ao gráfico. Use a variável 'eixox' como o eixo X."
   ]
  },
  {
   "cell_type": "code",
   "execution_count": null,
   "id": "1aa14e53",
   "metadata": {},
   "outputs": [],
   "source": [
    "# Variáveis\n",
    "eixox = np.arange(10)\n",
    "y = [random.randint(250, 800) for _ in range(10)]\n",
    "z = [random.randint(400, 650) for _ in range(10)]\n",
    "a = [random.randint(100, 850) for _ in range(10)]\n"
   ]
  },
  {
   "cell_type": "markdown",
   "id": "95aa09d4",
   "metadata": {},
   "source": [
    "<p align=\"justify\">5 - Faça um gráfico de barras horizontal para os valores do PIB (em trilhões) para cada país. Não esqueça de nomear os eixos do gráfico e colocar um título para o gráfico."
   ]
  },
  {
   "cell_type": "code",
   "execution_count": null,
   "id": "8c1fa921",
   "metadata": {},
   "outputs": [],
   "source": [
    "pais = ['País A', 'País B', 'País C', 'País D', 'País E']\n",
    "pib = [2.5, 1.8, 3.2, 0.9, 2.0]\n",
    "\n"
   ]
  },
  {
   "cell_type": "markdown",
   "id": "01c3a214",
   "metadata": {},
   "source": [
    "6 - Transforme os seguintes dados em um dataframe e faça a visualização mais apropriada com as **funções e métodos do Pandas**."
   ]
  },
  {
   "cell_type": "markdown",
   "id": "3d91860c",
   "metadata": {},
   "source": [
    "a) Idades"
   ]
  },
  {
   "cell_type": "code",
   "execution_count": null,
   "id": "881c29af",
   "metadata": {},
   "outputs": [],
   "source": [
    "# Carregue um conjunto de dados com informações de idade\n",
    "data = {'Idade': [25, 32, 42, 18, 56, 38, 29, 48, 22, 35, 40, 30, 28]}"
   ]
  },
  {
   "cell_type": "markdown",
   "id": "eb6e43ee",
   "metadata": {},
   "source": [
    "b) Salários"
   ]
  },
  {
   "cell_type": "code",
   "execution_count": null,
   "id": "50e48071",
   "metadata": {},
   "outputs": [],
   "source": [
    "# Crie um DataFrame com informações fictícias de funcionários\n",
    "data = {'Cargo': ['Analista', 'Gerente', 'Desenvolvedor', 'Designer', 'Analista', 'Desenvolvedor', 'Designer'],\n",
    "        'Salário (R$)': [5000, 8000, 6000, 5500, 5200, 6200, 5600]}"
   ]
  },
  {
   "cell_type": "markdown",
   "id": "27b218ed",
   "metadata": {},
   "source": [
    "c) Notas de Alunos"
   ]
  },
  {
   "cell_type": "code",
   "execution_count": null,
   "id": "17cf738a",
   "metadata": {},
   "outputs": [],
   "source": [
    "# Carregue um conjunto de dados com notas de alunos\n",
    "data = {'Matemática': [80, 90, 75, 85, 70, 78, 88, 92, 83, 79],\n",
    "        'História': [70, 85, 88, 76, 92, 68, 74, 90, 82, 77]}"
   ]
  },
  {
   "cell_type": "markdown",
   "id": "a6c6912c",
   "metadata": {},
   "source": [
    "d) Relação de Peso e Altura"
   ]
  },
  {
   "cell_type": "code",
   "execution_count": null,
   "id": "004f89d7",
   "metadata": {},
   "outputs": [],
   "source": [
    "# Carregue um conjunto de dados com informações de altura e peso\n",
    "data = {'Altura (cm)': [165, 172, 158, 180, 155, 168, 175, 162, 170, 163],\n",
    "        'Peso (kg)': [55, 65, 50, 75, 48, 60, 68, 58, 70, 53]}\n"
   ]
  },
  {
   "cell_type": "markdown",
   "id": "a43dd0c7",
   "metadata": {},
   "source": [
    "<p align=\"justify\">7 -  Use o Seaborn para criar um gráfico de barras agrupadas que mostre a distribuição das vendas por região para cada mês."
   ]
  },
  {
   "cell_type": "code",
   "execution_count": null,
   "id": "efe0af5b",
   "metadata": {},
   "outputs": [],
   "source": [
    "# Crie um DataFrame fictício com dados de vendas\n",
    "np.random.seed(42)\n",
    "data = {\n",
    "    'Mês': np.repeat(['Janeiro', 'Fevereiro', 'Março', 'Abril'], 4),\n",
    "    'Região': np.tile(['Norte', 'Sul', 'Leste', 'Oeste'], 4),\n",
    "    'Vendas (Milhões R$)': np.random.uniform(1, 5, size=16)\n",
    "}\n",
    "df = pd.DataFrame(data)\n"
   ]
  },
  {
   "cell_type": "markdown",
   "id": "9dbceb7a",
   "metadata": {},
   "source": [
    "<p align=\"justify\">8 - Use o Seaborn para criar um boxplot que visualize as pontuações dos dois grupos e identifique os outliers."
   ]
  },
  {
   "cell_type": "code",
   "execution_count": null,
   "id": "b112faf9",
   "metadata": {},
   "outputs": [],
   "source": [
    "# Crie um DataFrame fictício com dados de pontuações\n",
    "np.random.seed(42)\n",
    "data = {\n",
    "    'Grupo': np.repeat(['Grupo A', 'Grupo B'], 50),\n",
    "    'Pontuação': np.concatenate([np.random.normal(70, 10, 50), np.random.normal(85, 5, 50)])\n",
    "}\n",
    "df = pd.DataFrame(data)"
   ]
  },
  {
   "cell_type": "markdown",
   "id": "2fd33cec",
   "metadata": {},
   "source": [
    "<p align=\"justify\">9 -  Use o Seaborn para criar um gráfico de dispersão com uma linha de regressão que mostre a relação entre altura e peso."
   ]
  },
  {
   "cell_type": "code",
   "execution_count": null,
   "id": "362aec8b",
   "metadata": {},
   "outputs": [],
   "source": [
    "# Crie um Data Frame fictício com dados de altura e peso\n",
    "np.random.seed(42)\n",
    "altura = np.random.normal(loc=167.5, scale=7.5, size=100)\n",
    "peso = np.random.normal(loc=77.5, scale=7.5, size=100)\n",
    "\n",
    "data = {'Altura (cm)': altura,\n",
    "        'Peso (kg)': peso}\n",
    "df = pd.DataFrame(data)"
   ]
  },
  {
   "cell_type": "markdown",
   "id": "4c7adeaa",
   "metadata": {},
   "source": [
    "<p align=\"justify\">10 - Use o Seaborn para criar um histograma onde cada categoria seja representada por uma cor diferente."
   ]
  },
  {
   "cell_type": "code",
   "execution_count": null,
   "id": "643e1022",
   "metadata": {},
   "outputs": [],
   "source": [
    "# Crie um DataFrame fictício com dados de salário e categorias de faixa etária\n",
    "np.random.seed(42)\n",
    "\n",
    "# Gere dados de salário para diferentes faixas etárias com distribuições ajustadas\n",
    "salario_jovem = np.random.uniform(2800, 3200, 100)\n",
    "salario_adulto = np.random.uniform(4200, 4600, 100)\n",
    "salario_idoso = np.random.uniform(2000, 2400, 100)\n",
    "\n",
    "# Crie um DataFrame com os dados\n",
    "data = {\n",
    "    'Salário (R$)': np.concatenate([salario_jovem, salario_adulto, salario_idoso]),\n",
    "    'Faixa Etária': np.repeat(['Jovem', 'Adulto', 'Idoso'], 100)\n",
    "}\n",
    "df = pd.DataFrame(data)"
   ]
  },
  {
   "cell_type": "markdown",
   "id": "ecb4793d",
   "metadata": {},
   "source": [
    "<p align=\"justify\">11 - Use o Seaborn para criar um mapa de calor que mostre a correlação de todas as variáveis no seguinte banco"
   ]
  },
  {
   "cell_type": "code",
   "execution_count": null,
   "id": "fbaa9970",
   "metadata": {},
   "outputs": [],
   "source": [
    "# Crie um DataFrame fictício com dados de desempenho acadêmico de estudantes\n",
    "np.random.seed(42)\n",
    "\n",
    "# Gere dados fictícios para 200 estudantes\n",
    "data = {\n",
    "    'Notas Matemática': np.random.uniform(0, 10, size=200),\n",
    "    'Notas Ciências': np.random.uniform(0, 10, size=200),\n",
    "    'Notas Humanas': np.random.uniform(0, 10, size=200),\n",
    "    'Horas de Estudo': np.random.randint(1, 10, size=200),\n",
    "    'Frequência na Escola (%)': np.random.randint(70, 100, size=200),\n",
    "    'Tempo de Sono (horas)': np.random.uniform(5, 10, size=200)\n",
    "}\n",
    "df = pd.DataFrame(data)\n"
   ]
  },
  {
   "cell_type": "markdown",
   "id": "1ec0d545",
   "metadata": {},
   "source": [
    "<p align=\"justify\">12 - Use o Seaborn para criar um gráfico de violino que mostre a distribuição da renda em cada cidade e compare as distribuições."
   ]
  },
  {
   "cell_type": "code",
   "execution_count": null,
   "id": "66dd2bca",
   "metadata": {},
   "outputs": [],
   "source": [
    "# DataFrame fictício com dados de renda para duas cidades (Cidade A e Cidade B)\n",
    "np.random.seed(42)\n",
    "\n",
    "renda_cidade_a = np.random.normal(loc=3000, scale=1000, size=500)\n",
    "renda_cidade_b = np.random.normal(loc=4000, scale=1200, size=500)\n",
    "\n",
    "data = {\n",
    "    'Cidade': ['Cidade A'] * 500 + ['Cidade B'] * 500,\n",
    "    'Renda (R$)': np.concatenate([renda_cidade_a, renda_cidade_b])\n",
    "}\n",
    "df = pd.DataFrame(data)"
   ]
  },
  {
   "cell_type": "markdown",
   "id": "515c425a",
   "metadata": {},
   "source": [
    "<p align=\"justify\">13 - Use o Seaborn para criar um gráfico de barras empilhadas que represente a distribuição de gênero por faixa etária."
   ]
  },
  {
   "cell_type": "code",
   "execution_count": null,
   "id": "16619ea6",
   "metadata": {},
   "outputs": [],
   "source": [
    "genero = np.random.choice(['Masculino', 'Feminino'], size=300)\n",
    "faixa_etaria = np.random.choice(['Jovem', 'Adulto', 'Idoso'], size=300)\n",
    "\n",
    "data = {\n",
    "    'Gênero': genero,\n",
    "    'Faixa Etária': faixa_etaria\n",
    "}\n",
    "df = pd.DataFrame(data)"
   ]
  },
  {
   "cell_type": "markdown",
   "id": "d3b8f931",
   "metadata": {},
   "source": [
    "14 - Dado um DataFrame com informações sobre vendas, agrupe os dados por categoria de produto e calcule a média das vendas para cada categoria."
   ]
  },
  {
   "cell_type": "code",
   "execution_count": null,
   "id": "69c46861",
   "metadata": {},
   "outputs": [],
   "source": [
    "# DataFrame de exemplo\n",
    "data = {'Categoria': ['Eletrônicos', 'Roupas', 'Eletrônicos', 'Roupas', 'Roupas'],\n",
    "        'Vendas': [1000, 500, 800, 300, 600]}\n",
    "\n",
    "df = pd.DataFrame(data)\n",
    "\n",
    "# Insira seu código abaixo\n"
   ]
  },
  {
   "cell_type": "markdown",
   "id": "481c1e1a",
   "metadata": {},
   "source": [
    "a) Agora, faça um gráfico de barras do resultado das médias"
   ]
  },
  {
   "cell_type": "code",
   "execution_count": null,
   "id": "7b7c904c",
   "metadata": {},
   "outputs": [],
   "source": []
  },
  {
   "cell_type": "markdown",
   "id": "256a2003",
   "metadata": {},
   "source": [
    "15 - Dado um DataFrame com informações sobre desempenho de alunos, agrupe os dados por ano letivo e calcule estatísticas descritivas, como média, mínimo e máximo das notas para cada ano letivo."
   ]
  },
  {
   "cell_type": "code",
   "execution_count": null,
   "id": "75143749",
   "metadata": {},
   "outputs": [],
   "source": [
    "# DataFrame de exemplo\n",
    "data = {'Ano Letivo': [2019, 2019, 2020, 2020, 2021],\n",
    "        'Nota': [85, 92, 88, 76, 94]}\n",
    "\n",
    "df = pd.DataFrame(data)\n"
   ]
  },
  {
   "cell_type": "markdown",
   "id": "ec10ecba",
   "metadata": {},
   "source": [
    "16 - Dado um DataFrame com informações sobre compras online, agrupe os dados por mês e conte quantas compras foram feitas em cada mês. Dica: dt.month"
   ]
  },
  {
   "cell_type": "code",
   "execution_count": null,
   "id": "30931b65",
   "metadata": {},
   "outputs": [],
   "source": [
    "# DataFrame de exemplo\n",
    "data = {'Data da Compra': ['2022-01-15', '2022-01-20', '2022-02-05', '2022-02-10', '2022-03-03'],\n",
    "        'Valor': [100, 150, 80, 120, 200]}\n",
    "\n",
    "df = pd.DataFrame(data)\n",
    "\n",
    "# Converter a coluna 'Data da Compra' para datetime\n",
    "df['Data da Compra'] = pd.to_datetime(df['Data da Compra'])"
   ]
  },
  {
   "cell_type": "markdown",
   "id": "82d90e22",
   "metadata": {},
   "source": [
    "17 - Considere o seguinte banco de dados:"
   ]
  },
  {
   "cell_type": "code",
   "execution_count": null,
   "id": "8753a1b8",
   "metadata": {},
   "outputs": [],
   "source": [
    "from datetime import date, timedelta\n",
    "\n",
    "# Gerar dados de vendas aleatórios para um trimestre (90 dias)\n",
    "data_inicial = date(2023, 1, 1)\n",
    "data_final = date(2023, 3, 31)\n",
    "\n",
    "dados_vendas = {\n",
    "    'Data': [data_inicial + timedelta(days=random.randint(0, 89)) for _ in range(1000)],\n",
    "    'Produto': [random.choice(['Smartphone', 'Tablet', 'TV', 'Laptop']) for _ in range(1000)],\n",
    "    'Quantidade': [random.randint(1, 5) for _ in range(1000)],\n",
    "    'Preço Unitário': [random.uniform(100, 1000) for _ in range(1000)]\n",
    "}\n",
    "\n",
    "\n",
    "df_vendas = pd.DataFrame(dados_vendas)\n",
    "df_vendas['Data'] = pd.to_datetime(df_vendas['Data'])  # Converter a coluna 'Data' para datetime\n",
    "df_vendas['Receita'] = df_vendas['Quantidade'] * df_vendas['Preço Unitário']"
   ]
  },
  {
   "cell_type": "markdown",
   "id": "ec7805b1",
   "metadata": {},
   "source": [
    "a) Qual foi a receita total da loja no último trimestre?"
   ]
  },
  {
   "cell_type": "code",
   "execution_count": null,
   "id": "1bd5df65",
   "metadata": {},
   "outputs": [],
   "source": []
  },
  {
   "cell_type": "markdown",
   "id": "bd21d1d3",
   "metadata": {},
   "source": [
    "b) Qual foi o produto mais vendido?"
   ]
  },
  {
   "cell_type": "code",
   "execution_count": null,
   "id": "5ad0df09",
   "metadata": {},
   "outputs": [],
   "source": []
  },
  {
   "cell_type": "markdown",
   "id": "27b793ee",
   "metadata": {},
   "source": [
    "c) Qual foi o mês com a maior receita?"
   ]
  },
  {
   "cell_type": "code",
   "execution_count": null,
   "id": "950923d6",
   "metadata": {},
   "outputs": [],
   "source": []
  }
 ],
 "metadata": {
  "kernelspec": {
   "display_name": "base",
   "language": "python",
   "name": "python3"
  },
  "language_info": {
   "codemirror_mode": {
    "name": "ipython",
    "version": 3
   },
   "file_extension": ".py",
   "mimetype": "text/x-python",
   "name": "python",
   "nbconvert_exporter": "python",
   "pygments_lexer": "ipython3",
   "version": "3.12.7"
  }
 },
 "nbformat": 4,
 "nbformat_minor": 5
}
